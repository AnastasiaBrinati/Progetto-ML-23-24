{
  "cells": [
    {
      "cell_type": "markdown",
      "metadata": {
        "id": "view-in-github",
        "colab_type": "text"
      },
      "source": [
        "<a href=\"https://colab.research.google.com/github/AnastasiaBrinati/Progetto-ML-23-24/blob/main/task1_centralizzato.ipynb\" target=\"_parent\"><img src=\"https://colab.research.google.com/assets/colab-badge.svg\" alt=\"Open In Colab\"/></a>"
      ]
    },
    {
      "cell_type": "code",
      "execution_count": 1,
      "metadata": {
        "id": "obS7nII_XNu_"
      },
      "outputs": [],
      "source": [
        "import pandas as pd\n",
        "from sklearn.model_selection import train_test_split\n",
        "from sklearn.preprocessing import LabelEncoder, StandardScaler, OneHotEncoder\n",
        "from sklearn.impute import SimpleImputer\n",
        "from sklearn.compose import ColumnTransformer\n",
        "from sklearn.pipeline import Pipeline\n",
        "from sklearn.metrics import accuracy_score\n",
        "import tensorflow as tf\n",
        "from tensorflow.keras.models import Sequential\n",
        "from tensorflow.keras.layers import Dense, Dropout\n",
        "from tensorflow.keras.layers import LeakyReLU, PReLU\n",
        "import numpy as np\n",
        "from keras.initializers import RandomNormal, he_normal, glorot_normal, he_uniform, glorot_uniform\n",
        "import matplotlib.pyplot as plt\n",
        "from imblearn.over_sampling import SMOTE\n",
        "from imblearn.under_sampling import RandomUnderSampler\n",
        "from tensorflow.keras.optimizers import Adam\n",
        "from sklearn.model_selection import train_test_split\n",
        "from sklearn.preprocessing import StandardScaler, OneHotEncoder, LabelEncoder\n",
        "from sklearn.impute import SimpleImputer\n",
        "from sklearn.compose import ColumnTransformer\n",
        "from sklearn.pipeline import Pipeline\n",
        "from imblearn.over_sampling import RandomOverSampler\n",
        "from imblearn.under_sampling import RandomUnderSampler\n",
        "from imblearn.over_sampling import SMOTE"
      ]
    },
    {
      "cell_type": "code",
      "execution_count": null,
      "metadata": {
        "id": "2OfHaNGrGhN5"
      },
      "outputs": [],
      "source": [
        "# Inizializza il seed per NumPy per riproducibilità\n",
        "np.random.seed(42)\n",
        "\n",
        "# Inizializza il seed per TensorFlow per riproducibilità\n",
        "tf.random.set_seed(42)\n",
        "\n",
        "# Caricamento del dataframe\n",
        "df_train = pd.read_csv('/content/drive/MyDrive/customer_churn_dataset-training-master.csv')\n",
        "df_test = pd.read_csv('/content/drive/MyDrive/customer_churn_dataset-testing-master.csv')\n",
        "df = pd.concat([df_train, df_test])\n",
        "df.info()\n",
        "\n",
        "# Binning age\n",
        "bins=[18,25,35,50,60,70,100]\n",
        "df['Age_binned'] = pd.cut(df['Age'], bins)\n",
        "df = df.drop(['Age','CustomerID'],axis=1)\n",
        "df\n",
        "\n",
        "import seaborn as sns\n",
        "import matplotlib.pyplot as plt\n",
        "\n",
        "# Calcola la matrice di correlazione\n",
        "correlation_matrix = df.corr()\n",
        "\n",
        "# Crea una heatmap della matrice di correlazione\n",
        "plt.figure(figsize=(10, 8))\n",
        "sns.heatmap(correlation_matrix, annot=True, cmap='coolwarm', fmt=\".2f\")\n",
        "plt.title('Matrice di Correlazione')\n",
        "plt.show()\n",
        "\n",
        "# Define categorical and numerical features\n",
        "numeric_features = ['Tenure','Support Calls','Payment Delay','Usage Frequency','Total Spend',\t'Last Interaction']\n",
        "categorical_features = ['Age_binned','Contract Length','Gender',\t'Subscription Type']\n",
        "\n",
        "# Divide dataset in features (X) and target (y)\n",
        "X = df.drop(columns=['Churn'])\n",
        "y = df['Churn']\n",
        "\n",
        "# Encoding target labels\n",
        "label_encoder = LabelEncoder()\n",
        "y_encoded = label_encoder.fit_transform(y)\n",
        "\n",
        "# Divide dataset in training and test set\n",
        "X_train, X_test, y_train, y_test = train_test_split(X, y_encoded, test_size=0.2, random_state=42)\n",
        "\n",
        "# Define transformers\n",
        "numeric_transformer = Pipeline(steps=[\n",
        "    ('imputer', SimpleImputer(strategy='mean')),  # Gestione dei dati mancanti\n",
        "    ('scaler', StandardScaler()),  # Normalizzazione delle feature numeriche\n",
        "])\n",
        "\n",
        "categorical_transformer = Pipeline(steps=[\n",
        "    ('onehot', OneHotEncoder()),  # Encoding delle variabili categoriche\n",
        "    ('imputer', SimpleImputer(strategy='most_frequent'))  # Gestione dei dati mancanti\n",
        "])\n",
        "\n",
        "# Define preprocessor for categorical and numeric features\n",
        "preprocessor = ColumnTransformer(\n",
        "    transformers=[\n",
        "        ('num', numeric_transformer, numeric_features),\n",
        "        ('cat', categorical_transformer, categorical_features)\n",
        "    ])\n",
        "\n",
        "# Processing of data\n",
        "X_train_processed = preprocessor.fit_transform(X_train)\n",
        "X_test_processed = preprocessor.transform(X_test)\n",
        "\n",
        "import pandas as pd\n",
        "\n",
        "# Ottieni l'elenco delle colonne numeriche dopo la trasformazione\n",
        "numeric_features_transformed = preprocessor.named_transformers_['num'].named_steps['scaler'].get_feature_names_out(numeric_features)\n",
        "\n",
        "# Ottieni l'elenco delle colonne categoriche dopo la trasformazione\n",
        "categorical_features_transformed = preprocessor.named_transformers_['cat'].named_steps['onehot'].get_feature_names_out(categorical_features)\n",
        "\n",
        "# Unisci i due elenchi di colonne\n",
        "feature_names = list(numeric_features_transformed) + list(categorical_features_transformed)\n",
        "\n",
        "# Costruisci dataframe preprocessati per il set di addestramento\n",
        "X_train_processed_df = pd.DataFrame(X_train_processed, columns=feature_names)\n",
        "\n",
        "# Costruisci dataframe preprocessati per il set di test\n",
        "X_test_processed_df = pd.DataFrame(X_test_processed, columns=feature_names)\n",
        "\n",
        "# Ora X_train_processed_df e X_test_processed_df sono dataframe pandas preprocessati\n",
        "X_train_processed_df\n",
        "\n",
        "# Concatenazione delle feature preprocessate con le etichette per il training set\n",
        "df_train_processed = pd.concat([X_train_processed_df, pd.DataFrame({'Churn': y_train})], axis=1)\n",
        "\n",
        "# Concatenazione delle feature preprocessate con le etichette per il test set\n",
        "df_test_processed = pd.concat([X_test_processed_df, pd.DataFrame({'Churn': y_test})], axis=1)\n",
        "\n",
        "# Salva il training set preprocessato completo in un file CSV\n",
        "df_train_processed.to_csv('/content/drive/MyDrive/train.csv', index=False)\n",
        "\n",
        "# Salva il test set preprocessato completo in un file CSV\n",
        "df_test_processed.to_csv('/content/drive/MyDrive/test.csv', index=False)\n"
      ]
    },
    {
      "cell_type": "code",
      "source": [
        "def model_builder(hp):\n",
        "  model = keras.Sequential()\n",
        "  model.add(keras.layers.Flatten(input_shape=(28, 28)))\n",
        "\n",
        "  # Tune the number of units in the first Dense layer\n",
        "  # Choose an optimal value between 32-512\n",
        "  hp_units = hp.Int('units', min_value=32, max_value=512, step=32)\n",
        "  model.add(keras.layers.Dense(units=hp_units, activation='relu'))\n",
        "  model.add(keras.layers.Dense(10))\n",
        "\n",
        "  # Tune the learning rate for the optimizer\n",
        "  # Choose an optimal value from 0.01, 0.001, or 0.0001\n",
        "  hp_learning_rate = hp.Choice('learning_rate', values=[1e-2, 1e-3, 1e-4])\n",
        "\n",
        "  model.compile(optimizer=keras.optimizers.Adam(learning_rate=hp_learning_rate),\n",
        "                loss=keras.losses.SparseCategoricalCrossentropy(from_logits=True),\n",
        "                metrics=['accuracy'])\n",
        "\n",
        "  return model"
      ],
      "metadata": {
        "id": "d8-Ak_X0JZXh"
      },
      "execution_count": 3,
      "outputs": []
    },
    {
      "cell_type": "code",
      "source": [
        "!pip install -q -U keras-tuner\n",
        "\n",
        "import keras_tuner as kt\n",
        "from tensorflow.keras.callbacks import EarlyStopping\n",
        "from tensorflow.keras.layers import Dense, PReLU\n",
        "from tensorflow.keras.models import Sequential\n",
        "from tensorflow.keras.optimizers import Adam\n",
        "from tensorflow.keras.initializers import he_normal, glorot_normal\n",
        "\n",
        "def model_builder(hp):\n",
        "    model = Sequential()\n",
        "\n",
        "    # Tune the number of units and activation function for each Dense layer\n",
        "    for i in range(hp.Int('num_layers', 2, 5, default=3)):\n",
        "        hp_units = hp.Int(f'units_{i}', min_value=16, max_value=128, step=16)\n",
        "        hp_activation = hp.Choice(f'activation_{i}', values=['PReLU','LeakyReLU','relu', 'tanh', 'sigmoid'])\n",
        "\n",
        "        model.add(Dense(units=hp_units, activation=hp_activation, kernel_initializer=he_normal))\n",
        "\n",
        "    # Output layer\n",
        "    model.add(Dense(1, activation='sigmoid', kernel_initializer=glorot_normal))\n",
        "\n",
        "    # Tune the learning rate for the optimizer\n",
        "    hp_learning_rate = hp.Choice('learning_rate', values=[1e-2, 1e-3, 1e-4])\n",
        "\n",
        "    model.compile(optimizer=Adam(learning_rate=hp_learning_rate),\n",
        "                  loss='binary_crossentropy',\n",
        "                  metrics=['accuracy'])\n",
        "\n",
        "    return model\n",
        "\n",
        "tuner = kt.Hyperband(model_builder,\n",
        "                     objective='val_accuracy',\n",
        "                     max_epochs=10,\n",
        "                     factor=3,\n",
        "                     directory='my_dir',\n",
        "                     project_name='multi_layer_tuning')\n",
        "\n",
        "stop_early = EarlyStopping(monitor='val_loss', patience=5)\n",
        "\n",
        "tuner.search(X_train_processed, y_train, epochs=50, validation_split=0.2, callbacks=[stop_early])\n",
        "\n",
        "# Get the optimal hyperparameters\n",
        "best_hps = tuner.get_best_hyperparameters(num_trials=1)[0]\n",
        "\n",
        "print(f\"\"\"\n",
        "The hyperparameter search is complete. The optimal number of layers is {best_hps.get('num_layers')}.\n",
        "\"\"\")\n",
        "\n",
        "# Build the model with the optimal hyperparameters and train it on the data for 50 epochs\n",
        "model = tuner.hypermodel.build(best_hps)\n",
        "history = model.fit(X_train_processed, y_train, epochs=30, validation_split=0.2)\n",
        "\n",
        "val_acc_per_epoch = history.history['val_accuracy']\n",
        "best_epoch = val_acc_per_epoch.index(max(val_acc_per_epoch)) + 1\n",
        "print('Best epoch:', best_epoch)\n"
      ],
      "metadata": {
        "colab": {
          "base_uri": "https://localhost:8080/"
        },
        "id": "2MB1pdawKeHb",
        "outputId": "6e6bf562-ebd0-4654-8330-4b643fa0f4e3"
      },
      "execution_count": 4,
      "outputs": [
        {
          "output_type": "stream",
          "name": "stdout",
          "text": [
            "Trial 30 Complete [00h 04m 24s]\n",
            "val_accuracy: 0.9270594716072083\n",
            "\n",
            "Best val_accuracy So Far: 0.9335790872573853\n",
            "Total elapsed time: 01h 04m 55s\n",
            "\n",
            "The hyperparameter search is complete. The optimal number of layers is 3.\n",
            "\n",
            "Epoch 1/30\n",
            "10105/10105 [==============================] - 30s 3ms/step - loss: 0.2360 - accuracy: 0.9206 - val_loss: 0.2165 - val_accuracy: 0.9276\n",
            "Epoch 2/30\n",
            "10105/10105 [==============================] - 31s 3ms/step - loss: 0.2145 - accuracy: 0.9278 - val_loss: 0.2080 - val_accuracy: 0.9304\n",
            "Epoch 3/30\n",
            "10105/10105 [==============================] - 30s 3ms/step - loss: 0.2087 - accuracy: 0.9292 - val_loss: 0.2025 - val_accuracy: 0.9308\n",
            "Epoch 4/30\n",
            "10105/10105 [==============================] - 29s 3ms/step - loss: 0.2042 - accuracy: 0.9295 - val_loss: 0.1980 - val_accuracy: 0.9321\n",
            "Epoch 5/30\n",
            "10105/10105 [==============================] - 30s 3ms/step - loss: 0.2012 - accuracy: 0.9301 - val_loss: 0.2013 - val_accuracy: 0.9322\n",
            "Epoch 6/30\n",
            "10105/10105 [==============================] - 29s 3ms/step - loss: 0.1995 - accuracy: 0.9307 - val_loss: 0.1985 - val_accuracy: 0.9324\n",
            "Epoch 7/30\n",
            "10105/10105 [==============================] - 31s 3ms/step - loss: 0.1980 - accuracy: 0.9311 - val_loss: 0.1932 - val_accuracy: 0.9330\n",
            "Epoch 8/30\n",
            "10105/10105 [==============================] - 31s 3ms/step - loss: 0.1972 - accuracy: 0.9312 - val_loss: 0.1939 - val_accuracy: 0.9329\n",
            "Epoch 9/30\n",
            "10105/10105 [==============================] - 31s 3ms/step - loss: 0.1961 - accuracy: 0.9315 - val_loss: 0.1937 - val_accuracy: 0.9328\n",
            "Epoch 10/30\n",
            "10105/10105 [==============================] - 31s 3ms/step - loss: 0.1955 - accuracy: 0.9317 - val_loss: 0.1940 - val_accuracy: 0.9333\n",
            "Epoch 11/30\n",
            "10105/10105 [==============================] - 29s 3ms/step - loss: 0.1953 - accuracy: 0.9317 - val_loss: 0.1970 - val_accuracy: 0.9335\n",
            "Epoch 12/30\n",
            "10105/10105 [==============================] - 30s 3ms/step - loss: 0.1946 - accuracy: 0.9319 - val_loss: 0.1955 - val_accuracy: 0.9329\n",
            "Epoch 13/30\n",
            "10105/10105 [==============================] - 30s 3ms/step - loss: 0.1945 - accuracy: 0.9319 - val_loss: 0.1942 - val_accuracy: 0.9339\n",
            "Epoch 14/30\n",
            "10105/10105 [==============================] - 30s 3ms/step - loss: 0.1937 - accuracy: 0.9321 - val_loss: 0.1933 - val_accuracy: 0.9337\n",
            "Epoch 15/30\n",
            "10105/10105 [==============================] - 31s 3ms/step - loss: 0.1938 - accuracy: 0.9320 - val_loss: 0.1947 - val_accuracy: 0.9332\n",
            "Epoch 16/30\n",
            "10105/10105 [==============================] - 31s 3ms/step - loss: 0.1936 - accuracy: 0.9321 - val_loss: 0.1921 - val_accuracy: 0.9341\n",
            "Epoch 17/30\n",
            "10105/10105 [==============================] - 30s 3ms/step - loss: 0.1933 - accuracy: 0.9321 - val_loss: 0.1948 - val_accuracy: 0.9335\n",
            "Epoch 18/30\n",
            "10105/10105 [==============================] - 29s 3ms/step - loss: 0.1930 - accuracy: 0.9321 - val_loss: 0.1928 - val_accuracy: 0.9333\n",
            "Epoch 19/30\n",
            "10105/10105 [==============================] - 29s 3ms/step - loss: 0.1927 - accuracy: 0.9325 - val_loss: 0.1937 - val_accuracy: 0.9335\n",
            "Epoch 20/30\n",
            "10105/10105 [==============================] - 29s 3ms/step - loss: 0.1924 - accuracy: 0.9323 - val_loss: 0.1933 - val_accuracy: 0.9332\n",
            "Epoch 21/30\n",
            "10105/10105 [==============================] - 31s 3ms/step - loss: 0.1925 - accuracy: 0.9323 - val_loss: 0.1930 - val_accuracy: 0.9336\n",
            "Epoch 22/30\n",
            "10105/10105 [==============================] - 29s 3ms/step - loss: 0.1920 - accuracy: 0.9324 - val_loss: 0.1949 - val_accuracy: 0.9329\n",
            "Epoch 23/30\n",
            "10105/10105 [==============================] - 31s 3ms/step - loss: 0.1919 - accuracy: 0.9325 - val_loss: 0.1944 - val_accuracy: 0.9330\n",
            "Epoch 24/30\n",
            "10105/10105 [==============================] - 30s 3ms/step - loss: 0.1918 - accuracy: 0.9326 - val_loss: 0.1931 - val_accuracy: 0.9334\n",
            "Epoch 25/30\n",
            "10105/10105 [==============================] - 31s 3ms/step - loss: 0.1916 - accuracy: 0.9325 - val_loss: 0.1956 - val_accuracy: 0.9336\n",
            "Epoch 26/30\n",
            "10105/10105 [==============================] - 31s 3ms/step - loss: 0.1914 - accuracy: 0.9326 - val_loss: 0.1935 - val_accuracy: 0.9335\n",
            "Epoch 27/30\n",
            "10105/10105 [==============================] - 31s 3ms/step - loss: 0.1913 - accuracy: 0.9325 - val_loss: 0.1931 - val_accuracy: 0.9340\n",
            "Epoch 28/30\n",
            "10105/10105 [==============================] - 31s 3ms/step - loss: 0.1912 - accuracy: 0.9325 - val_loss: 0.1928 - val_accuracy: 0.9340\n",
            "Epoch 29/30\n",
            "10105/10105 [==============================] - 31s 3ms/step - loss: 0.1909 - accuracy: 0.9327 - val_loss: 0.1937 - val_accuracy: 0.9335\n",
            "Epoch 30/30\n",
            "10105/10105 [==============================] - 31s 3ms/step - loss: 0.1913 - accuracy: 0.9327 - val_loss: 0.1929 - val_accuracy: 0.9335\n",
            "Best epoch: 16\n",
            "Epoch 1/16\n",
            "10105/10105 [==============================] - 31s 3ms/step - loss: 0.2350 - accuracy: 0.9207 - val_loss: 0.2165 - val_accuracy: 0.9281\n",
            "Epoch 2/16\n",
            "10105/10105 [==============================] - 29s 3ms/step - loss: 0.2141 - accuracy: 0.9276 - val_loss: 0.2066 - val_accuracy: 0.9307\n",
            "Epoch 3/16\n",
            "10105/10105 [==============================] - 33s 3ms/step - loss: 0.2079 - accuracy: 0.9289 - val_loss: 0.2005 - val_accuracy: 0.9314\n",
            "Epoch 4/16\n",
            "10105/10105 [==============================] - 33s 3ms/step - loss: 0.2037 - accuracy: 0.9295 - val_loss: 0.1980 - val_accuracy: 0.9324\n",
            "Epoch 5/16\n",
            "10105/10105 [==============================] - 32s 3ms/step - loss: 0.2013 - accuracy: 0.9302 - val_loss: 0.2025 - val_accuracy: 0.9320\n",
            "Epoch 6/16\n",
            "10105/10105 [==============================] - 31s 3ms/step - loss: 0.1995 - accuracy: 0.9308 - val_loss: 0.1976 - val_accuracy: 0.9326\n",
            "Epoch 7/16\n",
            "10105/10105 [==============================] - 31s 3ms/step - loss: 0.1981 - accuracy: 0.9310 - val_loss: 0.1935 - val_accuracy: 0.9329\n",
            "Epoch 8/16\n",
            "10105/10105 [==============================] - 30s 3ms/step - loss: 0.1973 - accuracy: 0.9312 - val_loss: 0.1943 - val_accuracy: 0.9331\n",
            "Epoch 9/16\n",
            "10105/10105 [==============================] - 29s 3ms/step - loss: 0.1965 - accuracy: 0.9316 - val_loss: 0.1938 - val_accuracy: 0.9336\n",
            "Epoch 10/16\n",
            "10105/10105 [==============================] - 31s 3ms/step - loss: 0.1957 - accuracy: 0.9316 - val_loss: 0.1930 - val_accuracy: 0.9335\n",
            "Epoch 11/16\n",
            "10105/10105 [==============================] - 30s 3ms/step - loss: 0.1952 - accuracy: 0.9318 - val_loss: 0.1956 - val_accuracy: 0.9334\n",
            "Epoch 12/16\n",
            "10105/10105 [==============================] - 29s 3ms/step - loss: 0.1947 - accuracy: 0.9319 - val_loss: 0.1949 - val_accuracy: 0.9330\n",
            "Epoch 13/16\n",
            "10105/10105 [==============================] - 30s 3ms/step - loss: 0.1946 - accuracy: 0.9319 - val_loss: 0.1940 - val_accuracy: 0.9338\n",
            "Epoch 14/16\n",
            "10105/10105 [==============================] - 32s 3ms/step - loss: 0.1943 - accuracy: 0.9321 - val_loss: 0.1941 - val_accuracy: 0.9331\n",
            "Epoch 15/16\n",
            "10105/10105 [==============================] - 32s 3ms/step - loss: 0.1940 - accuracy: 0.9320 - val_loss: 0.1943 - val_accuracy: 0.9334\n",
            "Epoch 16/16\n",
            "10105/10105 [==============================] - 30s 3ms/step - loss: 0.1936 - accuracy: 0.9322 - val_loss: 0.1926 - val_accuracy: 0.9341\n",
            "3158/3158 [==============================] - 5s 2ms/step - loss: 0.1986 - accuracy: 0.9306\n",
            "[test loss, test accuracy]: [0.19860027730464935, 0.9306130409240723]\n"
          ]
        }
      ]
    },
    {
      "cell_type": "code",
      "source": [
        "best_hps.values"
      ],
      "metadata": {
        "colab": {
          "base_uri": "https://localhost:8080/"
        },
        "id": "U39V80Y1nWu7",
        "outputId": "c50117db-1da1-4e11-cb13-8fc980317fa2"
      },
      "execution_count": 5,
      "outputs": [
        {
          "output_type": "execute_result",
          "data": {
            "text/plain": [
              "{'num_layers': 3,\n",
              " 'units_0': 128,\n",
              " 'activation_0': 'PReLU',\n",
              " 'units_1': 128,\n",
              " 'activation_1': 'tanh',\n",
              " 'units_2': 80,\n",
              " 'activation_2': 'PReLU',\n",
              " 'learning_rate': 0.001,\n",
              " 'units_3': 48,\n",
              " 'activation_3': 'sigmoid',\n",
              " 'units_4': 112,\n",
              " 'activation_4': 'sigmoid',\n",
              " 'tuner/epochs': 10,\n",
              " 'tuner/initial_epoch': 4,\n",
              " 'tuner/bracket': 1,\n",
              " 'tuner/round': 1,\n",
              " 'tuner/trial_id': '0018'}"
            ]
          },
          "metadata": {},
          "execution_count": 5
        }
      ]
    },
    {
      "cell_type": "code",
      "source": [
        "# Retrain the model\n",
        "hypermodel = tuner.hypermodel.build(best_hps)\n",
        "history = hypermodel.fit(X_train_processed, y_train, epochs=best_epoch, validation_split=0.2)\n",
        "\n",
        "# Evaluate the model on the test set\n",
        "eval_result = hypermodel.evaluate(X_test_processed, y_test)\n",
        "print(\"[test loss, test accuracy]:\", eval_result)"
      ],
      "metadata": {
        "id": "D_mqXMMpaxnZ",
        "outputId": "9fcd90a6-7fd8-452e-f59e-aecdd49194b2",
        "colab": {
          "base_uri": "https://localhost:8080/"
        }
      },
      "execution_count": null,
      "outputs": [
        {
          "output_type": "stream",
          "name": "stdout",
          "text": [
            "Epoch 1/16\n",
            " 2495/10105 [======>.......................] - ETA: 33s - loss: 0.2638 - accuracy: 0.9096"
          ]
        }
      ]
    },
    {
      "cell_type": "code",
      "execution_count": 6,
      "metadata": {
        "id": "4-B1dXCRVAJj",
        "colab": {
          "base_uri": "https://localhost:8080/",
          "height": 802
        },
        "outputId": "a571c6c4-d784-474a-9d84-ec4b56324d86"
      },
      "outputs": [
        {
          "output_type": "stream",
          "name": "stdout",
          "text": [
            "3158/3158 [==============================] - 7s 2ms/step - loss: 0.2000 - accuracy: 0.9303\n",
            "Test accuracy: 0.9302963018417358\n"
          ]
        },
        {
          "output_type": "display_data",
          "data": {
            "text/plain": [
              "<Figure size 640x480 with 1 Axes>"
            ],
            "image/png": "[encoded data removed]"
          },
          "metadata": {}
        },
        {
          "output_type": "stream",
          "name": "stdout",
          "text": [
            "Model: \"sequential_1\"\n",
            "_________________________________________________________________\n",
            " Layer (type)                Output Shape              Param #   \n",
            "=================================================================\n",
            " dense_3 (Dense)             (None, 128)               3200      \n",
            "                                                                 \n",
            " dense_4 (Dense)             (None, 128)               16512     \n",
            "                                                                 \n",
            " dense_5 (Dense)             (None, 80)                10400     \n",
            "                                                                 \n",
            " dense_6 (Dense)             (None, 1)                 81        \n",
            "                                                                 \n",
            "=================================================================\n",
            "Total params: 30193 (117.94 KB)\n",
            "Trainable params: 30193 (117.94 KB)\n",
            "Non-trainable params: 0 (0.00 Byte)\n",
            "_________________________________________________________________\n"
          ]
        }
      ],
      "source": [
        "# Model evaluation\n",
        "test_loss, test_accuracy = model.evaluate(X_test_processed, y_test)\n",
        "print('Test accuracy:', test_accuracy)\n",
        "\n",
        "# Estrai i valori di loss di training e validazione dal dizionario history\n",
        "train_loss = history.history['loss']\n",
        "val_loss = history.history['val_loss']\n",
        "\n",
        "# Crea un grafico per visualizzare l'andamento della loss durante l'addestramento\n",
        "epochs = range(1, len(train_loss) + 1)\n",
        "plt.plot(epochs, train_loss, 'b', label='Training loss')\n",
        "plt.plot(epochs, val_loss, 'r', label='Validation loss')\n",
        "plt.title('Training and Validation Loss')\n",
        "plt.xlabel('Epochs')\n",
        "plt.ylabel('Loss')\n",
        "plt.legend()\n",
        "plt.show()\n",
        "model.summary()"
      ]
    },
    {
      "cell_type": "code",
      "source": [
        "# Crea un grafico per visualizzare l'andamento della loss durante l'addestramento\n",
        "epochs = range(1, len(train_loss) + 1)\n",
        "plt.plot(epochs, train_loss, 'b', label='Training acc')\n",
        "plt.plot(epochs, val_loss, 'r', label='Validation acc')\n",
        "plt.title('Training and Validation Loss')\n",
        "plt.xlabel('Epochs')\n",
        "plt.ylabel('Loss')\n",
        "plt.legend()\n",
        "plt.show()\n",
        "model.summary()"
      ],
      "metadata": {
        "id": "zPVLKUXcm7Qo",
        "colab": {
          "base_uri": "https://localhost:8080/",
          "height": 767
        },
        "outputId": "d4e64ffa-611f-4bef-e1d6-5669231f7568"
      },
      "execution_count": 7,
      "outputs": [
        {
          "output_type": "display_data",
          "data": {
            "text/plain": [
              "<Figure size 640x480 with 1 Axes>"
            ],
            "image/png": "[encoded data removed]"
          },
          "metadata": {}
        },
        {
          "output_type": "stream",
          "name": "stdout",
          "text": [
            "Model: \"sequential_1\"\n",
            "_________________________________________________________________\n",
            " Layer (type)                Output Shape              Param #   \n",
            "=================================================================\n",
            " dense_3 (Dense)             (None, 128)               3200      \n",
            "                                                                 \n",
            " dense_4 (Dense)             (None, 128)               16512     \n",
            "                                                                 \n",
            " dense_5 (Dense)             (None, 80)                10400     \n",
            "                                                                 \n",
            " dense_6 (Dense)             (None, 1)                 81        \n",
            "                                                                 \n",
            "=================================================================\n",
            "Total params: 30193 (117.94 KB)\n",
            "Trainable params: 30193 (117.94 KB)\n",
            "Non-trainable params: 0 (0.00 Byte)\n",
            "_________________________________________________________________\n"
          ]
        }
      ]
    },
    {
      "cell_type": "code",
      "execution_count": 8,
      "metadata": {
        "id": "0wzavvtdGMjd",
        "colab": {
          "base_uri": "https://localhost:8080/",
          "height": 581
        },
        "outputId": "3e37aece-33de-4d0f-eb88-141ed3bc32f6"
      },
      "outputs": [
        {
          "output_type": "stream",
          "name": "stdout",
          "text": [
            "3158/3158 [==============================] - 7s 2ms/step\n"
          ]
        },
        {
          "output_type": "display_data",
          "data": {
            "text/plain": [
              "<Figure size 800x600 with 1 Axes>"
            ],
            "image/png": "[encoded data removed]"
          },
          "metadata": {}
        }
      ],
      "source": [
        "from sklearn.metrics import confusion_matrix\n",
        "import seaborn as sns\n",
        "\n",
        "# Predici le probabilità delle classi target sul set di test\n",
        "y_pred_prob = model.predict(X_test_processed)\n",
        "\n",
        "# Arrotonda le probabilità per ottenere le classi predette (0 o 1)\n",
        "y_pred = (y_pred_prob > 0.5).astype(int)\n",
        "\n",
        "\n",
        "# Calcola la confusion matrix\n",
        "cm = confusion_matrix(y_test, y_pred)\n",
        "\n",
        "# Visualizza la confusion matrix utilizzando seaborn\n",
        "plt.figure(figsize=(8, 6))\n",
        "sns.heatmap(cm, annot=True, fmt=\"d\", cmap=\"Blues\", cbar=False)\n",
        "plt.title(\"Confusion Matrix\")\n",
        "plt.xlabel(\"Predicted Labels\")\n",
        "plt.ylabel(\"True Labels\")\n",
        "plt.show()\n"
      ]
    }
  ],
  "metadata": {
    "colab": {
      "provenance": [],
      "mount_file_id": "1ZXmLGneDfjKMm-trkG_CO5aFBCXctMxD",
      "authorship_tag": "ABX9TyPqvR/sJR7cM13iLnq3mSwb",
      "include_colab_link": true
    },
    "kernelspec": {
      "display_name": "Python 3",
      "name": "python3"
    },
    "language_info": {
      "name": "python"
    }
  },
  "nbformat": 4,
  "nbformat_minor": 0
}