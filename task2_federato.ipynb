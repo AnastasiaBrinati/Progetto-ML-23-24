{
  "cells": [
    {
      "cell_type": "markdown",
      "metadata": {
        "id": "view-in-github",
        "colab_type": "text"
      },
      "source": [
        "<a href=\"https://colab.research.google.com/github/AnastasiaBrinati/Progetto-ML-23-24/blob/main/task2_federato.ipynb\" target=\"_parent\"><img src=\"https://colab.research.google.com/assets/colab-badge.svg\" alt=\"Open In Colab\"/></a>"
      ]
    },
    {
      "cell_type": "markdown",
      "metadata": {
        "id": "kMFikawoaYXR"
      },
      "source": [
        "# Flower Quickstart (Simulation with TensorFlow/Keras)\n",
        "\n",
        "Welcome to Flower, a friendly federated learning framework!\n",
        "\n",
        "In this notebook, we'll simulate a federated learning system with 100 clients. The clients will use TensorFlow/Keras to define model training and evaluation. Let's start by installing Flower (published as `flwr` on PyPI) with the `simulation` extra:"
      ]
    },
    {
      "cell_type": "markdown",
      "source": [
        "###Imports"
      ],
      "metadata": {
        "id": "NvgmzdVzqco3"
      }
    },
    {
      "cell_type": "code",
      "execution_count": 1,
      "metadata": {
        "id": "Kdag3ZazaYXX",
        "outputId": "c3af6c6a-bd7c-4785-fd19-b71d2bc60e34",
        "colab": {
          "base_uri": "https://localhost:8080/"
        }
      },
      "outputs": [
        {
          "output_type": "stream",
          "name": "stdout",
          "text": [
            "\u001b[2K     \u001b[90m━━━━━━━━━━━━━━━━━━━━━━━━━━━━━━━━━━━━━━━━\u001b[0m \u001b[32m235.0/235.0 kB\u001b[0m \u001b[31m4.5 MB/s\u001b[0m eta \u001b[36m0:00:00\u001b[0m\n",
            "\u001b[2K     \u001b[90m━━━━━━━━━━━━━━━━━━━━━━━━━━━━━━━━━━━━━━━━\u001b[0m \u001b[32m4.4/4.4 MB\u001b[0m \u001b[31m11.8 MB/s\u001b[0m eta \u001b[36m0:00:00\u001b[0m\n",
            "\u001b[2K     \u001b[90m━━━━━━━━━━━━━━━━━━━━━━━━━━━━━━━━━━━━━━━━\u001b[0m \u001b[32m294.6/294.6 kB\u001b[0m \u001b[31m19.7 MB/s\u001b[0m eta \u001b[36m0:00:00\u001b[0m\n",
            "\u001b[2K     \u001b[90m━━━━━━━━━━━━━━━━━━━━━━━━━━━━━━━━━━━━━━━━\u001b[0m \u001b[32m2.1/2.1 MB\u001b[0m \u001b[31m22.9 MB/s\u001b[0m eta \u001b[36m0:00:00\u001b[0m\n",
            "\u001b[2K     \u001b[90m━━━━━━━━━━━━━━━━━━━━━━━━━━━━━━━━━━━━━━━━\u001b[0m \u001b[32m3.1/3.1 MB\u001b[0m \u001b[31m29.0 MB/s\u001b[0m eta \u001b[36m0:00:00\u001b[0m\n",
            "\u001b[2K     \u001b[90m━━━━━━━━━━━━━━━━━━━━━━━━━━━━━━━━━━━━━━━━\u001b[0m \u001b[32m56.9/56.9 MB\u001b[0m \u001b[31m8.4 MB/s\u001b[0m eta \u001b[36m0:00:00\u001b[0m\n",
            "\u001b[?25h\u001b[31mERROR: pip's dependency resolver does not currently take into account all the packages that are installed. This behaviour is the source of the following dependency conflicts.\n",
            "tensorflow-metadata 1.14.0 requires protobuf<4.21,>=3.20.3, but you have protobuf 4.25.3 which is incompatible.\u001b[0m\u001b[31m\n",
            "\u001b[2K     \u001b[90m━━━━━━━━━━━━━━━━━━━━━━━━━━━━━━━━━━━━━━━━\u001b[0m \u001b[32m536.7/536.7 kB\u001b[0m \u001b[31m7.0 MB/s\u001b[0m eta \u001b[36m0:00:00\u001b[0m\n",
            "\u001b[2K     \u001b[90m━━━━━━━━━━━━━━━━━━━━━━━━━━━━━━━━━━━━━━━━\u001b[0m \u001b[32m116.3/116.3 kB\u001b[0m \u001b[31m7.2 MB/s\u001b[0m eta \u001b[36m0:00:00\u001b[0m\n",
            "\u001b[2K     \u001b[90m━━━━━━━━━━━━━━━━━━━━━━━━━━━━━━━━━━━━━━━━\u001b[0m \u001b[32m134.8/134.8 kB\u001b[0m \u001b[31m7.4 MB/s\u001b[0m eta \u001b[36m0:00:00\u001b[0m\n",
            "\u001b[?25h"
          ]
        }
      ],
      "source": [
        "!pip install -q flwr[\"simulation\"] tensorflow\n",
        "!pip install -q flwr_datasets[\"vision\"]"
      ]
    },
    {
      "cell_type": "markdown",
      "metadata": {
        "id": "YsCrnSxGaYXZ"
      },
      "source": [
        "Let's also install Matplotlib so we can make some plots once the simulation is completed"
      ]
    },
    {
      "cell_type": "code",
      "execution_count": 2,
      "metadata": {
        "id": "Etxk-fLMaYXa",
        "colab": {
          "base_uri": "https://localhost:8080/"
        },
        "outputId": "dce35524-12b9-403e-f6d9-50a300f63b62"
      },
      "outputs": [
        {
          "output_type": "stream",
          "name": "stdout",
          "text": [
            "Requirement already satisfied: matplotlib in /usr/local/lib/python3.10/dist-packages (3.7.1)\n",
            "Requirement already satisfied: contourpy>=1.0.1 in /usr/local/lib/python3.10/dist-packages (from matplotlib) (1.2.0)\n",
            "Requirement already satisfied: cycler>=0.10 in /usr/local/lib/python3.10/dist-packages (from matplotlib) (0.12.1)\n",
            "Requirement already satisfied: fonttools>=4.22.0 in /usr/local/lib/python3.10/dist-packages (from matplotlib) (4.49.0)\n",
            "Requirement already satisfied: kiwisolver>=1.0.1 in /usr/local/lib/python3.10/dist-packages (from matplotlib) (1.4.5)\n",
            "Requirement already satisfied: numpy>=1.20 in /usr/local/lib/python3.10/dist-packages (from matplotlib) (1.25.2)\n",
            "Requirement already satisfied: packaging>=20.0 in /usr/local/lib/python3.10/dist-packages (from matplotlib) (23.2)\n",
            "Requirement already satisfied: pillow>=6.2.0 in /usr/local/lib/python3.10/dist-packages (from matplotlib) (9.4.0)\n",
            "Requirement already satisfied: pyparsing>=2.3.1 in /usr/local/lib/python3.10/dist-packages (from matplotlib) (3.1.1)\n",
            "Requirement already satisfied: python-dateutil>=2.7 in /usr/local/lib/python3.10/dist-packages (from matplotlib) (2.8.2)\n",
            "Requirement already satisfied: six>=1.5 in /usr/local/lib/python3.10/dist-packages (from python-dateutil>=2.7->matplotlib) (1.16.0)\n"
          ]
        }
      ],
      "source": [
        "!pip install matplotlib"
      ]
    },
    {
      "cell_type": "markdown",
      "metadata": {
        "id": "YHgw_29TaYXa"
      },
      "source": [
        "Next, we import the required dependencies. The most important imports are Flower (`flwr`) and TensorFlow:"
      ]
    },
    {
      "cell_type": "code",
      "execution_count": 3,
      "metadata": {
        "id": "ZLNGNaxTaYXb"
      },
      "outputs": [],
      "source": [
        "from typing import Dict, List, Tuple\n",
        "\n",
        "import tensorflow as tf\n",
        "\n",
        "import flwr as fl\n",
        "from flwr.common import Metrics\n",
        "from flwr.simulation.ray_transport.utils import enable_tf_gpu_growth\n",
        "\n",
        "from datasets import Dataset\n",
        "from flwr_datasets import FederatedDataset\n",
        "\n",
        "VERBOSE = 0\n",
        "NUM_CLIENTS = 100"
      ]
    },
    {
      "cell_type": "code",
      "source": [
        "import tensorflow as tf\n",
        "\n",
        "from tensorflow import keras\n",
        "from keras import layers"
      ],
      "metadata": {
        "id": "A27Y2ltGF1o6",
        "colab": {
          "base_uri": "https://localhost:8080/"
        },
        "outputId": "9d1c0409-008c-4639-d0ac-f42e618dcf78"
      },
      "execution_count": 4,
      "outputs": [
        {
          "output_type": "stream",
          "name": "stderr",
          "text": [
            "/usr/local/lib/python3.10/dist-packages/ipykernel/ipkernel.py:283: DeprecationWarning: `should_run_async` will not call `transform_cell` automatically in the future. Please pass the result to `transformed_cell` argument and any exception that happen during thetransform in `preprocessing_exc_tuple` in IPython 7.17 and above.\n",
            "  and should_run_async(code)\n"
          ]
        }
      ]
    },
    {
      "cell_type": "code",
      "source": [
        "import matplotlib.pyplot as plt\n",
        "import numpy as np\n",
        "import pandas as pd\n",
        "import seaborn as sns\n",
        "\n",
        "# Make NumPy printouts easier to read.\n",
        "np.set_printoptions(precision=3, suppress=True)"
      ],
      "metadata": {
        "id": "4K6JuL9mf0OK"
      },
      "execution_count": 5,
      "outputs": []
    },
    {
      "cell_type": "markdown",
      "source": [
        "## Model"
      ],
      "metadata": {
        "id": "c_s34JBdndhk"
      }
    },
    {
      "cell_type": "markdown",
      "source": [
        "It is good practice to normalize features that use different scales and ranges.\n",
        "\n",
        "One reason this is important is because the features are multiplied by the model weights. So, the scale of the outputs and the scale of the gradients are affected by the scale of the inputs.\n",
        "\n",
        "Although a model *might* converge without feature normalization, normalization makes training much more stable.\n",
        "\n",
        "Note: There is no advantage to normalizing the one-hot features—it is done here for simplicity. For more details on how to use the preprocessing layers, refer to the [Working with preprocessing layers](https://www.tensorflow.org/guide/keras/preprocessing_layers) guide and the [Classify structured data using Keras preprocessing layers](../structured_data/preprocessing_layers.ipynb) tutorial."
      ],
      "metadata": {
        "id": "FYNz9lbPnjug"
      }
    },
    {
      "cell_type": "markdown",
      "source": [
        "### Building the DNN"
      ],
      "metadata": {
        "id": "wkDHbVO3AljH"
      }
    },
    {
      "cell_type": "code",
      "execution_count": 6,
      "metadata": {
        "id": "DQdlkjqF19ol",
        "colab": {
          "base_uri": "https://localhost:8080/"
        },
        "outputId": "6cecb82c-8101-4403-f58a-7a0e75791d90"
      },
      "outputs": [
        {
          "output_type": "stream",
          "name": "stderr",
          "text": [
            "/usr/local/lib/python3.10/dist-packages/ipykernel/ipkernel.py:283: DeprecationWarning: `should_run_async` will not call `transform_cell` automatically in the future. Please pass the result to `transformed_cell` argument and any exception that happen during thetransform in `preprocessing_exc_tuple` in IPython 7.17 and above.\n",
            "  and should_run_async(code)\n"
          ]
        }
      ],
      "source": [
        "def get_model():\n",
        "\n",
        "    \"\"\"Constructs a model suitable.\"\"\"\n",
        "    # Define input layers for all the features\n",
        "    mwg_input = tf.keras.layers.Input(shape=(1,), name='MWG')\n",
        "    nwg_input = tf.keras.layers.Input(shape=(1,), name='NWG')\n",
        "    kwg_input = tf.keras.layers.Input(shape=(1,), name='KWG')\n",
        "    mdimc_input = tf.keras.layers.Input(shape=(1,), name='MDIMC')\n",
        "    ndimc_input = tf.keras.layers.Input(shape=(1,), name='NDIMC')\n",
        "    mdima_input = tf.keras.layers.Input(shape=(1,), name='MDIMA')\n",
        "    ndimb_input = tf.keras.layers.Input(shape=(1,), name='NDIMB')\n",
        "    kwi_input = tf.keras.layers.Input(shape=(1,), name='KWI')\n",
        "    vwm_input = tf.keras.layers.Input(shape=(1,), name='VWM')\n",
        "    vwn_input = tf.keras.layers.Input(shape=(1,), name='VWN')\n",
        "    strm_input = tf.keras.layers.Input(shape=(1,), name='STRM')\n",
        "    strn_input = tf.keras.layers.Input(shape=(1,), name='STRN')\n",
        "    sa_input = tf.keras.layers.Input(shape=(1,), name='SA')\n",
        "    sb_input = tf.keras.layers.Input(shape=(1,), name='SB')\n",
        "\n",
        "\n",
        "    # Concatenate the input tensors\n",
        "    concatenated_inputs = tf.keras.layers.concatenate([mwg_input, nwg_input,kwg_input,mdimc_input,\n",
        "                                                       ndimc_input,mdima_input,ndimb_input,kwi_input,\n",
        "                                                       vwm_input,vwn_input,strm_input,strn_input,\n",
        "                                                       sa_input,sb_input\n",
        "                                                       ])\n",
        "\n",
        "    # Define the rest of the model\n",
        "    x = tf.keras.layers.Flatten()(concatenated_inputs)\n",
        "\n",
        "    #      'num_layers': 2,\n",
        "    #      'units_0': 128,\n",
        "    #      'activation_0': 'sigmoid',\n",
        "    #      'units_1': 128,\n",
        "    #      'activation_1': 'sigmoid',\n",
        "    #      'units_2': 112,\n",
        "    #      'activation_2': 'PReLU',\n",
        "    #      'learning_rate': 0.01,\n",
        "    #      'units_3': 96,\n",
        "    #      'activation_3': 'sigmoid'\n",
        "\n",
        "    x = tf.keras.layers.Dense(128, activation=\"sigmoid\")(x)\n",
        "    x = tf.keras.layers.Dense(128, activation=\"sigmoid\")(x)\n",
        "\n",
        "    output = tf.keras.layers.Dense(1, activation=\"sigmoid\")(x)\n",
        "\n",
        "    # Construct the model\n",
        "    model = tf.keras.models.Model(inputs=[mwg_input, nwg_input,kwg_input,mdimc_input,\n",
        "                                          ndimc_input,mdima_input,ndimb_input,kwi_input,\n",
        "                                          vwm_input,vwn_input,strm_input,strn_input,\n",
        "                                          sa_input,sb_input], outputs=output)\n",
        "\n",
        "    # Compile the model\n",
        "    model.compile(loss='mean_absolute_error', optimizer=tf.keras.optimizers.Adam(0.01), metrics=[\"mse\", \"mape\", \"mean_squared_logarithmic_error\",\"R2Score\"])\n",
        "\n",
        "    return model\n",
        "\n",
        "# come era prima:\n",
        "      #model = keras.Sequential([\n",
        "      #layers.Flatten(),\n",
        "      #layers.Dense(16, activation='relu', name=\"uno\"),  #input_shape=(2, 32,15)\n",
        "      #layers.Dense(1, name=\"ultimo\"),"
      ]
    },
    {
      "cell_type": "code",
      "source": [
        "#dnn_model = get_model(normalizer)\n",
        "dnn_model = get_model()\n",
        "dnn_model.summary()"
      ],
      "metadata": {
        "colab": {
          "base_uri": "https://localhost:8080/"
        },
        "id": "bGzqw0BToFah",
        "outputId": "5bc3da50-8fc8-4093-f779-f29c23381a3c"
      },
      "execution_count": 7,
      "outputs": [
        {
          "output_type": "stream",
          "name": "stdout",
          "text": [
            "Model: \"model\"\n",
            "__________________________________________________________________________________________________\n",
            " Layer (type)                Output Shape                 Param #   Connected to                  \n",
            "==================================================================================================\n",
            " MWG (InputLayer)            [(None, 1)]                  0         []                            \n",
            "                                                                                                  \n",
            " NWG (InputLayer)            [(None, 1)]                  0         []                            \n",
            "                                                                                                  \n",
            " KWG (InputLayer)            [(None, 1)]                  0         []                            \n",
            "                                                                                                  \n",
            " MDIMC (InputLayer)          [(None, 1)]                  0         []                            \n",
            "                                                                                                  \n",
            " NDIMC (InputLayer)          [(None, 1)]                  0         []                            \n",
            "                                                                                                  \n",
            " MDIMA (InputLayer)          [(None, 1)]                  0         []                            \n",
            "                                                                                                  \n",
            " NDIMB (InputLayer)          [(None, 1)]                  0         []                            \n",
            "                                                                                                  \n",
            " KWI (InputLayer)            [(None, 1)]                  0         []                            \n",
            "                                                                                                  \n",
            " VWM (InputLayer)            [(None, 1)]                  0         []                            \n",
            "                                                                                                  \n",
            " VWN (InputLayer)            [(None, 1)]                  0         []                            \n",
            "                                                                                                  \n",
            " STRM (InputLayer)           [(None, 1)]                  0         []                            \n",
            "                                                                                                  \n",
            " STRN (InputLayer)           [(None, 1)]                  0         []                            \n",
            "                                                                                                  \n",
            " SA (InputLayer)             [(None, 1)]                  0         []                            \n",
            "                                                                                                  \n",
            " SB (InputLayer)             [(None, 1)]                  0         []                            \n",
            "                                                                                                  \n",
            " concatenate (Concatenate)   (None, 14)                   0         ['MWG[0][0]',                 \n",
            "                                                                     'NWG[0][0]',                 \n",
            "                                                                     'KWG[0][0]',                 \n",
            "                                                                     'MDIMC[0][0]',               \n",
            "                                                                     'NDIMC[0][0]',               \n",
            "                                                                     'MDIMA[0][0]',               \n",
            "                                                                     'NDIMB[0][0]',               \n",
            "                                                                     'KWI[0][0]',                 \n",
            "                                                                     'VWM[0][0]',                 \n",
            "                                                                     'VWN[0][0]',                 \n",
            "                                                                     'STRM[0][0]',                \n",
            "                                                                     'STRN[0][0]',                \n",
            "                                                                     'SA[0][0]',                  \n",
            "                                                                     'SB[0][0]']                  \n",
            "                                                                                                  \n",
            " flatten (Flatten)           (None, 14)                   0         ['concatenate[0][0]']         \n",
            "                                                                                                  \n",
            " dense (Dense)               (None, 128)                  1920      ['flatten[0][0]']             \n",
            "                                                                                                  \n",
            " dense_1 (Dense)             (None, 128)                  16512     ['dense[0][0]']               \n",
            "                                                                                                  \n",
            " dense_2 (Dense)             (None, 1)                    129       ['dense_1[0][0]']             \n",
            "                                                                                                  \n",
            "==================================================================================================\n",
            "Total params: 18561 (72.50 KB)\n",
            "Trainable params: 18561 (72.50 KB)\n",
            "Non-trainable params: 0 (0.00 Byte)\n",
            "__________________________________________________________________________________________________\n"
          ]
        }
      ]
    },
    {
      "cell_type": "markdown",
      "source": [
        "## Clients"
      ],
      "metadata": {
        "id": "Boclv2Z-Aqwr"
      }
    },
    {
      "cell_type": "markdown",
      "metadata": {
        "id": "LWukbw9_aYXd"
      },
      "source": [
        "With that out of the way, let's move on to the interesting bits. Federated learning systems consist of a server and multiple clients. In Flower, we create clients by implementing subclasses of `flwr.client.Client` or `flwr.client.NumPyClient`. We use `NumPyClient` in this tutorial because it is easier to implement and requires us to write less boilerplate.\n",
        "\n",
        "To implement the Flower client, we create a subclass of `flwr.client.NumPyClient` and implement the three methods `get_parameters`, `fit`, and `evaluate`:\n",
        "\n",
        "- `get_parameters`: Return the current local model parameters\n",
        "- `fit`: Receive model parameters from the server, train the model parameters on the local data, and return the (updated) model parameters to the server\n",
        "- `evaluate`: Received model parameters from the server, evaluate the model parameters on the local data, and return the evaluation result to the server\n",
        "\n",
        "We mentioned that our clients will use TensorFlow/Keras for the model training and evaluation. Keras models provide methods that make the implementation straightforward: we can update the local model with server-provides parameters through `model.set_weights`, we can train/evaluate the model through `fit/evaluate`, and we can get the updated model parameters through `model.get_weights`.\n",
        "\n",
        "Let's see a simple implementation:"
      ]
    },
    {
      "cell_type": "code",
      "execution_count": 7,
      "metadata": {
        "id": "ScAm9FDMaYXe"
      },
      "outputs": [],
      "source": [
        "class FlowerClient(fl.client.NumPyClient):\n",
        "    def __init__(self, trainset, valset) -> None:\n",
        "        # Create model\n",
        "        self.model = get_model()\n",
        "        self.trainset = trainset\n",
        "        self.valset = valset\n",
        "\n",
        "    def get_parameters(self, config):\n",
        "        return self.model.get_weights()\n",
        "\n",
        "    def fit(self, parameters, config):\n",
        "        self.model.set_weights(parameters)\n",
        "        self.model.fit(self.trainset, epochs=1, verbose=VERBOSE)\n",
        "        return self.model.get_weights(), len(self.trainset), {}\n",
        "\n",
        "    def evaluate(self, parameters, config):\n",
        "        self.model.set_weights(parameters)\n",
        "        results = self.model.evaluate(self.valset) #, verbose=VERBOSE)\n",
        "\n",
        "        loss = results[0]\n",
        "        mse = results[1]\n",
        "        mape = results[2]\n",
        "        mean_squared_logarithmic_error = results[3]\n",
        "        r2score = results[4]\n",
        "\n",
        "        # return {\"loss\": loss, \"mse\": mse, \"mape\": mape, \"mean_squared_logarithmic_error\":mean_squared_logarithmic_error, \"R2Score\": r2score}\n",
        "        return loss, len(self.valset), {\"mse\": mse, \"mape\": mape, \"mean_squared_logarithmic_error\":mean_squared_logarithmic_error, \"R2Score\": r2score}"
      ]
    },
    {
      "cell_type": "markdown",
      "metadata": {
        "id": "hbT-_UKTaYXf"
      },
      "source": [
        "Our class `FlowerClient` defines how local training/evaluation will be performed and allows Flower to call the local training/evaluation through `fit` and `evaluate`. Each instance of `FlowerClient` represents a *single client* in our federated learning system. Federated learning systems have multiple clients (otherwise, there's not much to federate, is there?), so each client will be represented by its own instance of `FlowerClient`. If we have, for example, three clients in our workload, we'd have three instances of `FlowerClient`. Flower calls `FlowerClient.fit` on the respective instance when the server selects a particular client for training (and `FlowerClient.evaluate` for evaluation).\n",
        "\n",
        "In this notebook, we want to simulate a federated learning system with 100 clients on a single machine. This means that the server and all 100 clients will live on a single machine and share resources such as CPU, GPU, and memory. Having 100 clients would mean having 100 instances of `FlowerClient` in memory. Doing this on a single machine can quickly exhaust the available memory resources, even if only a subset of these clients participates in a single round of federated learning.\n",
        "\n",
        "In addition to the regular capabilities where server and clients run on multiple machines, Flower, therefore, provides special simulation capabilities that create `FlowerClient` instances only when they are actually necessary for training or evaluation. To enable the Flower framework to create clients when necessary, we need to implement a function called `client_fn` that creates a `FlowerClient` instance on demand. Flower calls `client_fn` whenever it needs an instance of one particular client to call `fit` or `evaluate` (those instances are usually discarded after use). Clients are identified by a client ID, or short `cid`. The `cid` can be used, for example, to load different local data partitions for each client"
      ]
    },
    {
      "cell_type": "markdown",
      "source": [
        "##Strategy"
      ],
      "metadata": {
        "id": "uxfM1mgu8qS0"
      }
    },
    {
      "cell_type": "markdown",
      "metadata": {
        "id": "Nf4TEm_JaYXf"
      },
      "source": [
        "We now define four auxiliary functions for this example (note the last two are entirely optional):\n",
        "* `get_client_fn()`: Is a function that returns another function. The returned `client_fn` will be executed by Flower's VirtualClientEngine each time a new _virtual_ client (i.e. a client that is simulated in a Python process) needs to be spawn. When are virtual clients spawned? Each time the strategy samples them to do either `fit()` (i.e. train the global model on the local data of a particular client) or `evaluate()` (i.e. evaluate the global model on the validation set of a given client).\n",
        "\n",
        "* `weighted_average()`: This is an optional function to pass to the strategy. It will be executed after an evaluation round (i.e. when client run `evaluate()`) and will aggregate the metrics clients return. In this example, we use this function to compute the weighted average accuracy of clients doing `evaluate()`.\n",
        "\n",
        "* `get_evaluate_fn()`: This is again a function that returns another function. The returned function will be executed by the strategy at the end of a `fit()` round and after a new global model has been obtained after aggregation. This is an optional argument for Flower strategies. In this example, we use the whole MNIST test set to perform this server-side evaluation."
      ]
    },
    {
      "cell_type": "code",
      "execution_count": 8,
      "metadata": {
        "id": "rYcn2qbSaYXg"
      },
      "outputs": [],
      "source": [
        "\"\"\"Returns a function to construct a client.\n",
        "    The VirtualClientEngine will execute this function whenever a client is sampled by the strategy to participate. \"\"\"\n",
        "\n",
        "def get_client_fn(dataset: FederatedDataset):\n",
        "\n",
        "    def client_fn(cid: str) -> fl.client.Client:\n",
        "        \"\"\"Construct a FlowerClient with its own dataset partition.\"\"\"\n",
        "\n",
        "        # Extract partition for client with id = cid\n",
        "        # !!!!!!!!\n",
        "        client_dataset = dataset.load_partition(int(cid), \"train\")\n",
        "\n",
        "        # Now let's split it into train (80%) and validation (20%)\n",
        "        client_dataset_splits = client_dataset.train_test_split(test_size=0.2)\n",
        "\n",
        "        train_set = client_dataset_splits[\"train\"].to_tf_dataset(columns=['MWG', 'NWG', 'KWG', 'MDIMC', 'NDIMC', 'MDIMA', 'NDIMB', 'KWI', 'VWM',\n",
        "       'VWN', 'STRM', 'STRN', 'SA', 'SB'], label_cols=['avg_runs'], batch_size=32)\n",
        "        val_set = client_dataset_splits[\"test\"].to_tf_dataset(columns=['MWG', 'NWG', 'KWG', 'MDIMC', 'NDIMC', 'MDIMA', 'NDIMB', 'KWI', 'VWM',\n",
        "       'VWN', 'STRM', 'STRN', 'SA', 'SB'], label_cols=['avg_runs'], batch_size=64)\n",
        "\n",
        "\n",
        "        # Create and return client\n",
        "        return FlowerClient(train_set, val_set).to_client()\n",
        "\n",
        "    return client_fn"
      ]
    },
    {
      "cell_type": "code",
      "source": [
        "\"\"\"Aggregation function for (federated) evaluation metrics, i.e. those returned by the client's evaluate() method.\"\"\"\n",
        "\n",
        "def weighted_average(metrics: List[Tuple[int, Metrics]]) -> Metrics:\n",
        "    # Multiply metric of each client by number of examples used\n",
        "\n",
        "    #losses = [num_examples * m[\"loss\"] for num_examples, m in metrics]\n",
        "    mses = [num_examples * m[\"mse\"] for num_examples, m in metrics]\n",
        "    mapes = [num_examples * m[\"mape\"] for num_examples, m in metrics]\n",
        "    mean_squared_logarithmic_errors = [num_examples * m[\"mean_squared_logarithmic_error\"] for num_examples, m in metrics]\n",
        "    R2Scores = [num_examples * m[\"R2Score\"] for num_examples, m in metrics]\n",
        "\n",
        "    examples = [num_examples for num_examples, _ in metrics]\n",
        "\n",
        "    # Aggregate and return custom metric (weighted average)\n",
        "    return {\"mse\": sum(mses) / sum(examples), \"mape\": sum(mapes) / sum(examples), \"mean_squared_logarithmic_error\": sum(mean_squared_logarithmic_errors) / sum(examples),\"R2Score\": sum(R2Scores) / sum(examples)}"
      ],
      "metadata": {
        "id": "8h9XCWORTFQP"
      },
      "execution_count": 9,
      "outputs": []
    },
    {
      "cell_type": "code",
      "source": [
        "\"\"\"Returns an evaluation function for server-side (i.e. centralised) evaluation.\"\"\"\n",
        "\n",
        "def get_evaluate_fn(testset: Dataset):\n",
        "    # The `evaluate` function will be called after every round by the strategy\n",
        "    def evaluate(server_round: int, parameters: fl.common.NDArrays, config: Dict[str, fl.common.Scalar]):\n",
        "        model = get_model()  # Construct the model\n",
        "        model.set_weights(parameters)  # Update model with the latest parameters\n",
        "\n",
        "        loss = 0\n",
        "        aiuto = model.evaluate(testset) #, verbose=VERBOSE)\n",
        "        # return {\"loss\": res['loss'], \"mse\": res['mse'], \"mape\": res['mape'], \"mean_squared_logarithmic_error\": res['mean_squared_logarithmic_error'], \"R2Score\": res['R2Score']}\n",
        "        # return {\"loss\": loss, \"mse\": res[0], \"mape\": res[1], \"mean_squared_logarithmic_error\": res[2], \"R2Score\": res[3]}\n",
        "        # return {\"loss\": aiuto[0], \"mse\": aiuto[1], \"mape\": aiuto[2], \"mean_squared_logarithmic_error\": aiuto[3], \"R2Score\": aiuto[4]}\n",
        "        return loss, {\"mse\": aiuto[0], \"mape\": aiuto[1], \"mean_squared_logarithmic_error\": aiuto[2], \"R2Score\": aiuto[3]}\n",
        "\n",
        "    return evaluate"
      ],
      "metadata": {
        "id": "R6wiCDNeStVr"
      },
      "execution_count": 10,
      "outputs": []
    },
    {
      "cell_type": "markdown",
      "source": [
        "We now have `FlowerClient` which defines client-side training and evaluation, and `client_fn`, which allows Flower to create `FlowerClient` instances whenever it needs to call `fit` or `evaluate` on one particular client. The last step is to start the actual simulation using `flwr.simulation.start_simulation`."
      ],
      "metadata": {
        "id": "q0xhUWGPTzYe"
      }
    },
    {
      "cell_type": "code",
      "source": [
        "# Create FedAvg strategy\n",
        "\n",
        "def get_strategy(centralized_testset):\n",
        "  strategy = fl.server.strategy.FedAvg(\n",
        "      fraction_fit=0.1,  # Sample 10% of available clients for training\n",
        "      fraction_evaluate=0.05,  # Sample 5% of available clients for evaluation\n",
        "      min_fit_clients=10,  # Never sample less than 10 clients for training\n",
        "      min_evaluate_clients=5,  # Never sample less than 5 clients for evaluation\n",
        "      min_available_clients=int(\n",
        "          NUM_CLIENTS * 0.5\n",
        "      ),  # Wait until at least 75 clients are available\n",
        "      evaluate_metrics_aggregation_fn=weighted_average,  # aggregates federated metrics\n",
        "      evaluate_fn=get_evaluate_fn(centralized_testset),  # global evaluation function\n",
        "  )\n",
        "  return strategy"
      ],
      "metadata": {
        "id": "1QRIn5KFc8Lh"
      },
      "execution_count": 11,
      "outputs": []
    },
    {
      "cell_type": "markdown",
      "metadata": {
        "id": "-YeTBpsDaYXg"
      },
      "source": [
        "## Start the Simulation\n",
        "\n",
        "The function `start_simulation` accepts a number of arguments, amongst them the `client_fn` used to create `FlowerClient` instances, the number of clients to simulate `num_clients`, the number of rounds `num_rounds`, and the strategy. The strategy encapsulates the federated learning approach/algorithm, for example, *Federated Averaging* (FedAvg).\n",
        "\n",
        "Flower comes with a number of built-in strategies, but we can also use our own strategy implementations to customize nearly all aspects of the federated learning approach. For this example, we use the built-in `FedAvg` implementation and customize it using a few basic parameters. The last step is the actual call to `start_simulation` which - you guessed it - actually starts the simulation.\n",
        "\n",
        "We can use [Flower Datasets](https://flower.dev/docs/datasets/) to effortlessly obtain an off-the-shelf partitioned dataset or partition one that isn't pre-partitioned. Let's choose MNIST."
      ]
    },
    {
      "cell_type": "code",
      "source": [
        "# Enable GPU growth in your main process\n",
        "enable_tf_gpu_growth()\n",
        "\n",
        "# Download our dataset and partition it\n",
        "gpus_fds = FederatedDataset(dataset=\"anastasiafrosted/gpus\", partitioners={\"train\": NUM_CLIENTS})\n",
        "# Get the whole test set for centralised evaluation\n",
        "#print(column_names)\n",
        "centralized_testset = gpus_fds.load_full(\"test\").to_tf_dataset(columns=['MWG', 'NWG', 'KWG', 'MDIMC', 'NDIMC', 'MDIMA', 'NDIMB', 'KWI', 'VWM',\n",
        "       'VWN', 'STRM', 'STRN', 'SA', 'SB'], label_cols=['avg_runs'], batch_size=64)\n",
        "\n",
        "# get the strategy\n",
        "strategy = get_strategy(centralized_testset)"
      ],
      "metadata": {
        "colab": {
          "base_uri": "https://localhost:8080/",
          "height": 408,
          "referenced_widgets": [
            "28d1470696a34f79a5f3608dfee48ce9",
            "b75ea698dac54b64b13be8903aa1a3d3",
            "f74dd6f7d3c6442cbacfd3c4ef5d15b7",
            "e568a590219e4ab5912c4606b445597d",
            "980e1af368954d5c95b2e8b9738b94b6",
            "a0f6544ee9de41f19104123c527bb86a",
            "ce51bad7671e4bd18cec3edce96f0c37",
            "bfe3432ed70d4d52b87f4047181f0183",
            "5ec9a37cc52f4c9fb640776abb752123",
            "38f2c80768654c07a736a699bb63e734",
            "e56acc09b32c4f6ba50bb2dce2e9e8d2",
            "c29b14b35cb74c6a88b3f6c2da5cac11",
            "1ae70c0290e542f98c68cf6cd03e9023",
            "b30f063d01804cd69badd2908ffcc621",
            "fba27a6aebde4fdaba04b9a900440240",
            "433c00f1e2734ac9995749e3e10aafec",
            "b91b998d1198413ba5c9c741a2a9823a",
            "21fa8153c29f45669e28d9fe06462876",
            "8c49a579b15e45b2a0d655a0841b48d8",
            "dc332c6990ff4844984bfe8eebca574a",
            "58aa88cd2d5a466699779d15c44bc0d5",
            "e3f2d0fc210848f0affa8740881252f8",
            "5c3447d2b0874e63b99e381a12cef0ab",
            "f9aa3fbe2e4244cc82f51c7ed3b22468",
            "f8b3a8a1ac2649f88115a8c6208a2a09",
            "6507717aca7841c7a9918f86b35f04b6",
            "9f16757d2c354801b5718b0af0e124d9",
            "3f1375ff1e0f4ac195cad436450b49e7",
            "5bbdb739707244e7a3379ccc720edc73",
            "58d20548b0d047369c13d434a9feb31d",
            "7efa20a1d7564c39ad0aebb94b1b66d0",
            "fbef0e37a3d34e64b7470342c2b7a450",
            "3759e2934a984525bbd13c0df2bbb359",
            "fb4262d3b7d844a6af089506b8851866",
            "c9896e7417f144d19782ffdce5566226",
            "6861d52ca42f4dc0947c4769b55a8b34",
            "cf1ffde0ebd84f809752d24a09bf6062",
            "42c332d617244297bfc2955d33dd749a",
            "4d6c80870a1c4ebf872941a0103babba",
            "f65c23306a174f01a5f22bf78a1730ac",
            "9be139d2dd974aa8826a07f911210122",
            "3a9d4eb5eb254fafae59b051030ee703",
            "4700e6f7612b4cb69b438645b4d135cc",
            "49f8a5931c34476bba72f823479b5d65"
          ]
        },
        "id": "w0tmibgQkCCq",
        "outputId": "b651e67b-5b76-4ef8-f525-f6c31a813b53"
      },
      "execution_count": 12,
      "outputs": [
        {
          "output_type": "stream",
          "name": "stderr",
          "text": [
            "/usr/local/lib/python3.10/dist-packages/flwr_datasets/utils.py:84: UserWarning: The currently tested dataset are ['mnist', 'cifar10', 'fashion_mnist', 'sasha/dog-food', 'zh-plus/tiny-imagenet']. Given: anastasiafrosted/gpus.\n",
            "  warnings.warn(\n",
            "/usr/local/lib/python3.10/dist-packages/huggingface_hub/utils/_token.py:88: UserWarning: \n",
            "The secret `HF_TOKEN` does not exist in your Colab secrets.\n",
            "To authenticate with the Hugging Face Hub, create a token in your settings tab (https://huggingface.co/settings/tokens), set it as secret in your Google Colab and restart your session.\n",
            "You will be able to reuse this secret in all of your notebooks.\n",
            "Please note that authentication is recommended but still optional to access public models or datasets.\n",
            "  warnings.warn(\n"
          ]
        },
        {
          "output_type": "display_data",
          "data": {
            "text/plain": [
              "Downloading data:   0%|          | 0.00/27.1M [00:00<?, ?B/s]"
            ],
            "application/vnd.jupyter.widget-view+json": {
              "version_major": 2,
              "version_minor": 0,
              "model_id": "28d1470696a34f79a5f3608dfee48ce9"
            }
          },
          "metadata": {}
        },
        {
          "output_type": "display_data",
          "data": {
            "text/plain": [
              "Downloading data:   0%|          | 0.00/6.75M [00:00<?, ?B/s]"
            ],
            "application/vnd.jupyter.widget-view+json": {
              "version_major": 2,
              "version_minor": 0,
              "model_id": "c29b14b35cb74c6a88b3f6c2da5cac11"
            }
          },
          "metadata": {}
        },
        {
          "output_type": "display_data",
          "data": {
            "text/plain": [
              "Generating train split: 0 examples [00:00, ? examples/s]"
            ],
            "application/vnd.jupyter.widget-view+json": {
              "version_major": 2,
              "version_minor": 0,
              "model_id": "5c3447d2b0874e63b99e381a12cef0ab"
            }
          },
          "metadata": {}
        },
        {
          "output_type": "display_data",
          "data": {
            "text/plain": [
              "Generating test split: 0 examples [00:00, ? examples/s]"
            ],
            "application/vnd.jupyter.widget-view+json": {
              "version_major": 2,
              "version_minor": 0,
              "model_id": "fb4262d3b7d844a6af089506b8851866"
            }
          },
          "metadata": {}
        },
        {
          "output_type": "stream",
          "name": "stderr",
          "text": [
            "/usr/local/lib/python3.10/dist-packages/datasets/arrow_dataset.py:401: FutureWarning: The output of `to_tf_dataset` will change when a passing single element list for `labels` or `columns` in the next datasets version. To return a tuple structure rather than dict, pass a single string.\n",
            "Old behaviour: columns=['a'], labels=['labels'] -> (tf.Tensor, tf.Tensor)  \n",
            "             : columns='a', labels='labels' -> (tf.Tensor, tf.Tensor)  \n",
            "New behaviour: columns=['a'],labels=['labels'] -> ({'a': tf.Tensor}, {'labels': tf.Tensor})  \n",
            "             : columns='a', labels='labels' -> (tf.Tensor, tf.Tensor) \n",
            "  warnings.warn(\n"
          ]
        }
      ]
    },
    {
      "cell_type": "code",
      "execution_count": 83,
      "metadata": {
        "id": "pFPZmaYXaYXh",
        "colab": {
          "base_uri": "https://localhost:8080/"
        },
        "outputId": "9b8dbcf0-ac0d-4fda-9197-3a1bd47b7536"
      },
      "outputs": [
        {
          "output_type": "stream",
          "name": "stderr",
          "text": [
            "INFO flwr 2024-02-22 09:12:04,422 | app.py:178 | Starting Flower simulation, config: ServerConfig(num_rounds=10, round_timeout=None)\n",
            "INFO:flwr:Starting Flower simulation, config: ServerConfig(num_rounds=10, round_timeout=None)\n",
            "2024-02-22 09:12:09,904\tINFO worker.py:1621 -- Started a local Ray instance.\n",
            "INFO flwr 2024-02-22 09:12:13,915 | app.py:213 | Flower VCE: Ray initialized with resources: {'memory': 7821813351.0, 'object_store_memory': 3910906675.0, 'CPU': 2.0, 'node:172.28.0.12': 1.0, 'node:__internal_head__': 1.0}\n",
            "INFO:flwr:Flower VCE: Ray initialized with resources: {'memory': 7821813351.0, 'object_store_memory': 3910906675.0, 'CPU': 2.0, 'node:172.28.0.12': 1.0, 'node:__internal_head__': 1.0}\n",
            "INFO flwr 2024-02-22 09:12:13,924 | app.py:219 | Optimize your simulation with Flower VCE: https://flower.dev/docs/framework/how-to-run-simulations.html\n",
            "INFO:flwr:Optimize your simulation with Flower VCE: https://flower.dev/docs/framework/how-to-run-simulations.html\n",
            "INFO flwr 2024-02-22 09:12:13,935 | app.py:242 | Flower VCE: Resources for each Virtual Client: {'num_cpus': 2, 'num_gpus': 0.0}\n",
            "INFO:flwr:Flower VCE: Resources for each Virtual Client: {'num_cpus': 2, 'num_gpus': 0.0}\n",
            "INFO flwr 2024-02-22 09:12:13,982 | app.py:288 | Flower VCE: Creating VirtualClientEngineActorPool with 1 actors\n",
            "INFO:flwr:Flower VCE: Creating VirtualClientEngineActorPool with 1 actors\n",
            "INFO flwr 2024-02-22 09:12:13,992 | server.py:89 | Initializing global parameters\n",
            "INFO:flwr:Initializing global parameters\n",
            "INFO flwr 2024-02-22 09:12:14,009 | server.py:276 | Requesting initial parameters from one random client\n",
            "INFO:flwr:Requesting initial parameters from one random client\n",
            "\u001b[2m\u001b[36m(pid=29718)\u001b[0m 2024-02-22 09:12:15.983111: E external/local_xla/xla/stream_executor/cuda/cuda_dnn.cc:9261] Unable to register cuDNN factory: Attempting to register factory for plugin cuDNN when one has already been registered\n",
            "\u001b[2m\u001b[36m(pid=29718)\u001b[0m 2024-02-22 09:12:15.983191: E external/local_xla/xla/stream_executor/cuda/cuda_fft.cc:607] Unable to register cuFFT factory: Attempting to register factory for plugin cuFFT when one has already been registered\n",
            "\u001b[2m\u001b[36m(pid=29718)\u001b[0m 2024-02-22 09:12:15.986129: E external/local_xla/xla/stream_executor/cuda/cuda_blas.cc:1515] Unable to register cuBLAS factory: Attempting to register factory for plugin cuBLAS when one has already been registered\n",
            "\u001b[2m\u001b[36m(pid=29718)\u001b[0m 2024-02-22 09:12:17.596813: W tensorflow/compiler/tf2tensorrt/utils/py_utils.cc:38] TF-TRT Warning: Could not find TensorRT\n",
            "\u001b[2m\u001b[36m(DefaultActor pid=29718)\u001b[0m /usr/local/lib/python3.10/dist-packages/datasets/arrow_dataset.py:401: FutureWarning: The output of `to_tf_dataset` will change when a passing single element list for `labels` or `columns` in the next datasets version. To return a tuple structure rather than dict, pass a single string.\n",
            "\u001b[2m\u001b[36m(DefaultActor pid=29718)\u001b[0m Old behaviour: columns=['a'], labels=['labels'] -> (tf.Tensor, tf.Tensor)  \n",
            "\u001b[2m\u001b[36m(DefaultActor pid=29718)\u001b[0m              : columns='a', labels='labels' -> (tf.Tensor, tf.Tensor)  \n",
            "\u001b[2m\u001b[36m(DefaultActor pid=29718)\u001b[0m New behaviour: columns=['a'],labels=['labels'] -> ({'a': tf.Tensor}, {'labels': tf.Tensor})  \n",
            "\u001b[2m\u001b[36m(DefaultActor pid=29718)\u001b[0m              : columns='a', labels='labels' -> (tf.Tensor, tf.Tensor) \n",
            "\u001b[2m\u001b[36m(DefaultActor pid=29718)\u001b[0m   warnings.warn(\n",
            "INFO flwr 2024-02-22 09:12:21,650 | server.py:280 | Received initial parameters from one random client\n",
            "INFO:flwr:Received initial parameters from one random client\n",
            "INFO flwr 2024-02-22 09:12:21,654 | server.py:91 | Evaluating initial parameters\n",
            "INFO:flwr:Evaluating initial parameters\n"
          ]
        },
        {
          "output_type": "stream",
          "name": "stdout",
          "text": [
            "755/755 [==============================] - 11s 13ms/step - loss: 1.1295 - mse: 3.9146 - mape: 1819.6349 - mean_squared_logarithmic_error: 0.3705 - r2_score: -8.3721e-04\n"
          ]
        },
        {
          "output_type": "stream",
          "name": "stderr",
          "text": [
            "INFO flwr 2024-02-22 09:12:32,630 | server.py:94 | initial parameters (loss, other metrics): 0, {'mse': 1.1295074224472046, 'mape': 3.9145596027374268, 'mean_squared_logarithmic_error': 1819.6348876953125, 'R2Score': 0.37046465277671814}\n",
            "INFO:flwr:initial parameters (loss, other metrics): 0, {'mse': 1.1295074224472046, 'mape': 3.9145596027374268, 'mean_squared_logarithmic_error': 1819.6348876953125, 'R2Score': 0.37046465277671814}\n",
            "INFO flwr 2024-02-22 09:12:32,634 | server.py:104 | FL starting\n",
            "INFO:flwr:FL starting\n",
            "DEBUG flwr 2024-02-22 09:12:32,640 | server.py:222 | fit_round 1: strategy sampled 10 clients (out of 100)\n",
            "DEBUG:flwr:fit_round 1: strategy sampled 10 clients (out of 100)\n",
            "DEBUG:flwr:fit_round 1 received 10 results and 0 failures\n",
            "WARNING flwr 2024-02-22 09:12:52,525 | fedavg.py:250 | No fit_metrics_aggregation_fn provided\n",
            "WARNING:flwr:No fit_metrics_aggregation_fn provided\n"
          ]
        },
        {
          "output_type": "stream",
          "name": "stdout",
          "text": [
            "755/755 [==============================] - 12s 15ms/step - loss: 0.9344 - mse: 4.5361 - mape: 100.0334 - mean_squared_logarithmic_error: 0.4879 - r2_score: -0.1598\n"
          ]
        },
        {
          "output_type": "stream",
          "name": "stderr",
          "text": [
            "INFO flwr 2024-02-22 09:13:04,534 | server.py:125 | fit progress: (1, 0, {'mse': 0.9344395995140076, 'mape': 4.536120891571045, 'mean_squared_logarithmic_error': 100.03343200683594, 'R2Score': 0.48786693811416626}, 31.894537825000043)\n",
            "INFO:flwr:fit progress: (1, 0, {'mse': 0.9344395995140076, 'mape': 4.536120891571045, 'mean_squared_logarithmic_error': 100.03343200683594, 'R2Score': 0.48786693811416626}, 31.894537825000043)\n",
            "DEBUG flwr 2024-02-22 09:13:04,540 | server.py:173 | evaluate_round 1: strategy sampled 5 clients (out of 100)\n",
            "DEBUG:flwr:evaluate_round 1: strategy sampled 5 clients (out of 100)\n"
          ]
        },
        {
          "output_type": "stream",
          "name": "stdout",
          "text": [
            "7/7 [==============================] - 1s 12ms/step - loss: 0.8861 - mse: 3.5723 - mape: 100.0055 - mean_squared_logarithmic_error: 0.4660 - r2_score: -0.1825\n",
            "5/7 [====================>.........] - ETA: 0s - loss: 1.0812 - mse: 6.3532 - mape: 100.0230 - mean_squared_logarithmic_error: 0.5672 - r2_score: -0.1585\n",
            "7/7 [==============================] - 1s 12ms/step - loss: 1.0672 - mse: 6.4983 - mape: 100.0231 - mean_squared_logarithmic_error: 0.5535 - r2_score: -0.1469\n",
            "1/7 [===>..........................] - ETA: 3s - loss: 1.5179 - mse: 10.6375 - mape: 99.9940 - mean_squared_logarithmic_error: 0.8290 - r2_score: -0.2230\n",
            "7/7 [==============================] - 1s 15ms/step - loss: 0.9240 - mse: 4.0794 - mape: 99.9977 - mean_squared_logarithmic_error: 0.4848 - r2_score: -0.1788\n",
            "1/7 [===>..........................] - ETA: 2s - loss: 0.5050 - mse: 0.8860 - mape: 100.0143 - mean_squared_logarithmic_error: 0.2151 - r2_score: -0.1552\n",
            "7/7 [==============================] - 1s 12ms/step - loss: 0.7032 - mse: 2.5667 - mape: 100.0410 - mean_squared_logarithmic_error: 0.3485 - r2_score: -0.1280\n"
          ]
        },
        {
          "output_type": "stream",
          "name": "stderr",
          "text": [
            "DEBUG flwr 2024-02-22 09:13:09,677 | server.py:187 | evaluate_round 1 received 5 results and 0 failures\n",
            "DEBUG:flwr:evaluate_round 1 received 5 results and 0 failures\n",
            "DEBUG flwr 2024-02-22 09:13:09,685 | server.py:222 | fit_round 2: strategy sampled 10 clients (out of 100)\n",
            "DEBUG:flwr:fit_round 2: strategy sampled 10 clients (out of 100)\n"
          ]
        },
        {
          "output_type": "stream",
          "name": "stdout",
          "text": [
            "\u001b[2m\u001b[36m(DefaultActor pid=29718)\u001b[0m \r1/7 [===>..........................] - ETA: 2s - loss: 0.9952 - mse: 3.1322 - mape: 99.9789 - mean_squared_logarithmic_error: 0.5622 - r2_score: -0.3217\n",
            "\u001b[2m\u001b[36m(DefaultActor pid=29718)\u001b[0m \b\b\b\b\b\b\b\b\b\b\b\b\b\b\b\b\b\b\b\b\b\b\b\b\b\b\b\b\b\b\b\b\b\b\b\b\b\b\b\b\b\b\b\b\b\b\b\b\b\b\b\b\b\b\b\b\b\b\b\b\b\b\b\b\b\b\b\b\b\b\b\b\b\b\b\b\b\b\b\b\b\b\b\b\b\b\b\b\b\b\b\b\b\b\b\b\b\b\b\b\b\b\b\b\b\b\b\b\b\b\b\b\b\b\b\b\b\b\b\b\b\b\b\b\b\b\b\b\b\b\b\b\b\b\b\b\b\b\b\b\b\b\b\b\b\b\b\b\b\b\b\b\r5/7 [====================>.........] - ETA: 0s - loss: 0.9492 - mse: 4.5002 - mape: 99.9735 - mean_squared_logarithmic_error: 0.5036 - r2_score: -0.1725\b\b\b\b\b\b\b\b\b\b\b\b\b\b\b\b\b\b\b\b\b\b\b\b\b\b\b\b\b\b\b\b\b\b\b\b\b\b\b\b\b\b\b\b\b\b\b\b\b\b\b\b\b\b\b\b\b\b\b\b\b\b\b\b\b\b\b\b\b\b\b\b\b\b\b\b\b\b\b\b\b\b\b\b\b\b\b\b\b\b\b\b\b\b\b\b\b\b\b\b\b\b\b\b\b\b\b\b\b\b\b\b\b\b\b\b\b\b\b\b\b\b\b\b\b\b\b\b\b\b\b\b\b\b\b\b\b\b\b\b\b\b\b\b\b\b\b\b\b\b\b\b\r7/7 [==============================] - 1s 12ms/step - loss: 0.9388 - mse: 4.4518 - mape: 99.9821 - mean_squared_logarithmic_error: 0.4959 - r2_score: -0.1678\n"
          ]
        },
        {
          "output_type": "stream",
          "name": "stderr",
          "text": [
            "DEBUG flwr 2024-02-22 09:13:29,732 | server.py:236 | fit_round 2 received 10 results and 0 failures\n",
            "DEBUG:flwr:fit_round 2 received 10 results and 0 failures\n"
          ]
        },
        {
          "output_type": "stream",
          "name": "stdout",
          "text": [
            "755/755 [==============================] - 12s 15ms/step - loss: 0.9344 - mse: 4.5361 - mape: 100.0293 - mean_squared_logarithmic_error: 0.4879 - r2_score: -0.1598\n"
          ]
        },
        {
          "output_type": "stream",
          "name": "stderr",
          "text": [
            "INFO flwr 2024-02-22 09:13:50,740 | server.py:125 | fit progress: (2, 0, {'mse': 0.93443763256073, 'mape': 4.5361199378967285, 'mean_squared_logarithmic_error': 100.02931213378906, 'R2Score': 0.4878677427768707}, 78.10091597100018)\n",
            "INFO:flwr:fit progress: (2, 0, {'mse': 0.93443763256073, 'mape': 4.5361199378967285, 'mean_squared_logarithmic_error': 100.02931213378906, 'R2Score': 0.4878677427768707}, 78.10091597100018)\n",
            "DEBUG flwr 2024-02-22 09:13:50,744 | server.py:173 | evaluate_round 2: strategy sampled 5 clients (out of 100)\n",
            "DEBUG:flwr:evaluate_round 2: strategy sampled 5 clients (out of 100)\n"
          ]
        },
        {
          "output_type": "stream",
          "name": "stdout",
          "text": [
            "\u001b[2m\u001b[36m(DefaultActor pid=29718)\u001b[0m \r1/7 [===>..........................] - ETA: 4s - loss: 1.0415 - mse: 5.3623 - mape: 100.0110 - mean_squared_logarithmic_error: 0.5511 - r2_score: -0.1631\n",
            "7/7 [==============================] - ETA: 0s - loss: 0.8899 - mse: 4.3580 - mape: 99.9999 - mean_squared_logarithmic_error: 0.4534 - r2_score: -0.1373\n",
            "7/7 [==============================] - 1s 20ms/step - loss: 0.8899 - mse: 4.3580 - mape: 99.9999 - mean_squared_logarithmic_error: 0.4534 - r2_score: -0.1373\n",
            "4/7 [================>.............] - ETA: 0s - loss: 1.0463 - mse: 5.8478 - mape: 100.0666 - mean_squared_logarithmic_error: 0.5484 - r2_score: -0.1612\n",
            "7/7 [==============================] - 1s 19ms/step - loss: 0.9519 - mse: 5.1620 - mape: 100.0554 - mean_squared_logarithmic_error: 0.4895 - r2_score: -0.1398\n",
            "1/7 [===>..........................] - ETA: 3s - loss: 0.7875 - mse: 2.0294 - mape: 100.0212 - mean_squared_logarithmic_error: 0.4122 - r2_score: -0.2659\n",
            "7/7 [==============================] - 1s 12ms/step - loss: 0.8509 - mse: 3.5365 - mape: 100.0194 - mean_squared_logarithmic_error: 0.4410 - r2_score: -0.1612\n",
            "5/7 [====================>.........] - ETA: 0s - loss: 0.9948 - mse: 5.3241 - mape: 99.9974 - mean_squared_logarithmic_error: 0.5194 - r2_score: -0.1576\n",
            "7/7 [==============================] - 1s 13ms/step - loss: 1.0058 - mse: 5.1652 - mape: 100.0036 - mean_squared_logarithmic_error: 0.5315 - r2_score: -0.1698\n"
          ]
        },
        {
          "output_type": "stream",
          "name": "stderr",
          "text": [
            "DEBUG flwr 2024-02-22 09:13:56,384 | server.py:187 | evaluate_round 2 received 5 results and 0 failures\n",
            "DEBUG:flwr:evaluate_round 2 received 5 results and 0 failures\n",
            "DEBUG flwr 2024-02-22 09:13:56,387 | server.py:222 | fit_round 3: strategy sampled 10 clients (out of 100)\n",
            "DEBUG:flwr:fit_round 3: strategy sampled 10 clients (out of 100)\n"
          ]
        },
        {
          "output_type": "stream",
          "name": "stdout",
          "text": [
            "\u001b[2m\u001b[36m(DefaultActor pid=29718)\u001b[0m \r1/7 [===>..........................] - ETA: 2s - loss: 0.7203 - mse: 1.7981 - mape: 100.0326 - mean_squared_logarithmic_error: 0.3567 - r2_score: -0.2094\n",
            "\u001b[2m\u001b[36m(DefaultActor pid=29718)\u001b[0m \b\b\b\b\b\b\b\b\b\b\b\b\b\b\b\b\b\b\b\b\b\b\b\b\b\b\b\b\b\b\b\b\b\b\b\b\b\b\b\b\b\b\b\b\b\b\b\b\b\b\b\b\b\b\b\b\b\b\b\b\b\b\b\b\b\b\b\b\b\b\b\b\b\b\b\b\b\b\b\b\b\b\b\b\b\b\b\b\b\b\b\b\b\b\b\b\b\b\b\b\b\b\b\b\b\b\b\b\b\b\b\b\b\b\b\b\b\b\b\b\b\b\b\b\b\b\b\b\b\b\b\b\b\b\b\b\b\b\b\b\b\b\b\b\b\b\b\b\b\b\b\b\b\r5/7 [====================>.........] - ETA: 0s - loss: 0.9719 - mse: 4.0401 - mape: 100.0026 - mean_squared_logarithmic_error: 0.5152 - r2_score: -0.2045\b\b\b\b\b\b\b\b\b\b\b\b\b\b\b\b\b\b\b\b\b\b\b\b\b\b\b\b\b\b\b\b\b\b\b\b\b\b\b\b\b\b\b\b\b\b\b\b\b\b\b\b\b\b\b\b\b\b\b\b\b\b\b\b\b\b\b\b\b\b\b\b\b\b\b\b\b\b\b\b\b\b\b\b\b\b\b\b\b\b\b\b\b\b\b\b\b\b\b\b\b\b\b\b\b\b\b\b\b\b\b\b\b\b\b\b\b\b\b\b\b\b\b\b\b\b\b\b\b\b\b\b\b\b\b\b\b\b\b\b\b\b\b\b\b\b\b\b\b\b\b\b\b\r7/7 [==============================] - 1s 12ms/step - loss: 0.9062 - mse: 3.5186 - mape: 99.9999 - mean_squared_logarithmic_error: 0.4754 - r2_score: -0.1975\n"
          ]
        },
        {
          "output_type": "stream",
          "name": "stderr",
          "text": [
            "DEBUG flwr 2024-02-22 09:14:15,628 | server.py:236 | fit_round 3 received 10 results and 0 failures\n",
            "DEBUG:flwr:fit_round 3 received 10 results and 0 failures\n"
          ]
        },
        {
          "output_type": "stream",
          "name": "stdout",
          "text": [
            "755/755 [==============================] - 12s 15ms/step - loss: 0.9327 - mse: 4.5212 - mape: 101.1882 - mean_squared_logarithmic_error: 0.4825 - r2_score: -0.1559\n"
          ]
        },
        {
          "output_type": "stream",
          "name": "stderr",
          "text": [
            "INFO flwr 2024-02-22 09:14:36,650 | server.py:125 | fit progress: (3, 0, {'mse': 0.9327186346054077, 'mape': 4.521177291870117, 'mean_squared_logarithmic_error': 101.188232421875, 'R2Score': 0.4824909567832947}, 124.01094121999995)\n",
            "INFO:flwr:fit progress: (3, 0, {'mse': 0.9327186346054077, 'mape': 4.521177291870117, 'mean_squared_logarithmic_error': 101.188232421875, 'R2Score': 0.4824909567832947}, 124.01094121999995)\n",
            "DEBUG flwr 2024-02-22 09:14:36,653 | server.py:173 | evaluate_round 3: strategy sampled 5 clients (out of 100)\n",
            "DEBUG:flwr:evaluate_round 3: strategy sampled 5 clients (out of 100)\n"
          ]
        },
        {
          "output_type": "stream",
          "name": "stdout",
          "text": [
            "7/7 [==============================] - 1s 12ms/step - loss: 0.8609 - mse: 4.1250 - mape: 100.2477 - mean_squared_logarithmic_error: 0.4354 - r2_score: -0.1346\n",
            "1/7 [===>..........................] - ETA: 2s - loss: 0.8973 - mse: 3.9177 - mape: 100.1843 - mean_squared_logarithmic_error: 0.4683 - r2_score: -0.1633\n",
            "7/7 [==============================] - 1s 13ms/step - loss: 0.8499 - mse: 2.8462 - mape: 100.0237 - mean_squared_logarithmic_error: 0.4452 - r2_score: -0.2102\n",
            "6/7 [========================>.....] - ETA: 0s - loss: 0.8616 - mse: 3.8092 - mape: 100.7728 - mean_squared_logarithmic_error: 0.4414 - r2_score: -0.1511\n",
            "7/7 [==============================] - 1s 11ms/step - loss: 0.8702 - mse: 3.8585 - mape: 100.7714 - mean_squared_logarithmic_error: 0.4470 - r2_score: -0.1527\n",
            "5/7 [====================>.........] - ETA: 0s - loss: 0.8271 - mse: 3.0894 - mape: 99.9941 - mean_squared_logarithmic_error: 0.4254 - r2_score: -0.1803\n",
            "7/7 [==============================] - 1s 12ms/step - loss: 0.8441 - mse: 3.4656 - mape: 100.0918 - mean_squared_logarithmic_error: 0.4335 - r2_score: -0.1631\n"
          ]
        },
        {
          "output_type": "stream",
          "name": "stderr",
          "text": [
            "DEBUG flwr 2024-02-22 09:14:41,287 | server.py:187 | evaluate_round 3 received 5 results and 0 failures\n",
            "DEBUG:flwr:evaluate_round 3 received 5 results and 0 failures\n",
            "DEBUG flwr 2024-02-22 09:14:41,291 | server.py:222 | fit_round 4: strategy sampled 10 clients (out of 100)\n",
            "DEBUG:flwr:fit_round 4: strategy sampled 10 clients (out of 100)\n"
          ]
        },
        {
          "output_type": "stream",
          "name": "stdout",
          "text": [
            "\u001b[2m\u001b[36m(DefaultActor pid=29718)\u001b[0m \r1/7 [===>..........................] - ETA: 2s - loss: 1.0837 - mse: 4.7778 - mape: 99.9661 - mean_squared_logarithmic_error: 0.5739 - r2_score: -0.2326\n",
            "\u001b[2m\u001b[36m(DefaultActor pid=29718)\u001b[0m \b\b\b\b\b\b\b\b\b\b\b\b\b\b\b\b\b\b\b\b\b\b\b\b\b\b\b\b\b\b\b\b\b\b\b\b\b\b\b\b\b\b\b\b\b\b\b\b\b\b\b\b\b\b\b\b\b\b\b\b\b\b\b\b\b\b\b\b\b\b\b\b\b\b\b\b\b\b\b\b\b\b\b\b\b\b\b\b\b\b\b\b\b\b\b\b\b\b\b\b\b\b\b\b\b\b\b\b\b\b\b\b\b\b\b\b\b\b\b\b\b\b\b\b\b\b\b\b\b\b\b\b\b\b\b\b\b\b\b\b\b\b\b\b\b\b\b\b\b\b\b\b\r6/7 [========================>.....] - ETA: 0s - loss: 1.0006 - mse: 4.8143 - mape: 99.9181 - mean_squared_logarithmic_error: 0.5277 - r2_score: -0.1829\b\b\b\b\b\b\b\b\b\b\b\b\b\b\b\b\b\b\b\b\b\b\b\b\b\b\b\b\b\b\b\b\b\b\b\b\b\b\b\b\b\b\b\b\b\b\b\b\b\b\b\b\b\b\b\b\b\b\b\b\b\b\b\b\b\b\b\b\b\b\b\b\b\b\b\b\b\b\b\b\b\b\b\b\b\b\b\b\b\b\b\b\b\b\b\b\b\b\b\b\b\b\b\b\b\b\b\b\b\b\b\b\b\b\b\b\b\b\b\b\b\b\b\b\b\b\b\b\b\b\b\b\b\b\b\b\b\b\b\b\b\b\b\b\b\b\b\b\b\b\b\b\r7/7 [==============================] - 1s 12ms/step - loss: 0.9988 - mse: 4.7887 - mape: 99.9721 - mean_squared_logarithmic_error: 0.5269 - r2_score: -0.1832\n"
          ]
        },
        {
          "output_type": "stream",
          "name": "stderr",
          "text": [
            "DEBUG flwr 2024-02-22 09:15:01,719 | server.py:236 | fit_round 4 received 10 results and 0 failures\n",
            "DEBUG:flwr:fit_round 4 received 10 results and 0 failures\n"
          ]
        },
        {
          "output_type": "stream",
          "name": "stdout",
          "text": [
            "755/755 [==============================] - 12s 15ms/step - loss: 0.7030 - mse: 3.2481 - mape: 188.0909 - mean_squared_logarithmic_error: 0.1703 - r2_score: 0.1696\n"
          ]
        },
        {
          "output_type": "stream",
          "name": "stderr",
          "text": [
            "INFO flwr 2024-02-22 09:15:13,791 | server.py:125 | fit progress: (4, 0, {'mse': 0.7029988765716553, 'mape': 3.2480885982513428, 'mean_squared_logarithmic_error': 188.09091186523438, 'R2Score': 0.17026087641716003}, 161.1511284119997)\n",
            "INFO:flwr:fit progress: (4, 0, {'mse': 0.7029988765716553, 'mape': 3.2480885982513428, 'mean_squared_logarithmic_error': 188.09091186523438, 'R2Score': 0.17026087641716003}, 161.1511284119997)\n",
            "DEBUG flwr 2024-02-22 09:15:13,797 | server.py:173 | evaluate_round 4: strategy sampled 5 clients (out of 100)\n",
            "DEBUG:flwr:evaluate_round 4: strategy sampled 5 clients (out of 100)\n"
          ]
        },
        {
          "output_type": "stream",
          "name": "stdout",
          "text": [
            "\u001b[2m\u001b[36m(DefaultActor pid=29718)\u001b[0m \r1/7 [===>..........................] - ETA: 2s - loss: 0.7777 - mse: 3.3399 - mape: 147.9724 - mean_squared_logarithmic_error: 0.1883 - r2_score: 0.1571\n",
            "7/7 [==============================] - 1s 13ms/step - loss: 0.5725 - mse: 2.2537 - mape: 237.0910 - mean_squared_logarithmic_error: 0.1284 - r2_score: 0.2059\n",
            "1/7 [===>..........................] - ETA: 2s - loss: 0.5130 - mse: 1.5139 - mape: 150.1343 - mean_squared_logarithmic_error: 0.1193 - r2_score: 0.2560\n",
            "7/7 [==============================] - 1s 12ms/step - loss: 0.7093 - mse: 2.7405 - mape: 168.4880 - mean_squared_logarithmic_error: 0.1731 - r2_score: 0.1991\n",
            "1/7 [===>..........................] - ETA: 2s - loss: 0.3856 - mse: 0.4443 - mape: 94.9309 - mean_squared_logarithmic_error: 0.0619 - r2_score: 0.5038\n",
            "7/7 [==============================] - 1s 14ms/step - loss: 0.6860 - mse: 3.3038 - mape: 192.3496 - mean_squared_logarithmic_error: 0.1648 - r2_score: 0.1684\n",
            "7/7 [==============================] - 1s 12ms/step - loss: 0.8265 - mse: 4.5314 - mape: 171.2638 - mean_squared_logarithmic_error: 0.2148 - r2_score: 0.1224\n"
          ]
        },
        {
          "output_type": "stream",
          "name": "stderr",
          "text": [
            "DEBUG flwr 2024-02-22 09:15:18,456 | server.py:187 | evaluate_round 4 received 5 results and 0 failures\n",
            "DEBUG:flwr:evaluate_round 4 received 5 results and 0 failures\n",
            "DEBUG flwr 2024-02-22 09:15:18,461 | server.py:222 | fit_round 5: strategy sampled 10 clients (out of 100)\n",
            "DEBUG:flwr:fit_round 5: strategy sampled 10 clients (out of 100)\n"
          ]
        },
        {
          "output_type": "stream",
          "name": "stdout",
          "text": [
            "\u001b[2m\u001b[36m(DefaultActor pid=29718)\u001b[0m \r1/7 [===>..........................] - ETA: 2s - loss: 0.3794 - mse: 0.5913 - mape: 122.1560 - mean_squared_logarithmic_error: 0.0697 - r2_score: 0.4238\b\b\b\b\b\b\b\b\b\b\b\b\b\b\b\b\b\b\b\b\b\b\b\b\b\b\b\b\b\b\b\b\b\b\b\b\b\b\b\b\b\b\b\b\b\b\b\b\b\b\b\b\b\b\b\b\b\b\b\b\b\b\b\b\b\b\b\b\b\b\b\b\b\b\b\b\b\b\b\b\b\b\b\b\b\b\b\b\b\b\b\b\b\b\b\b\b\b\b\b\b\b\b\b\b\b\b\b\b\b\b\b\b\b\b\b\b\b\b\b\b\b\b\b\b\b\b\b\b\b\b\b\b\b\b\b\b\b\b\b\b\b\b\b\b\b\b\b\b\b\b\b\r5/7 [====================>.........] - ETA: 0s - loss: 0.7037 - mse: 2.7599 - mape: 139.4787 - mean_squared_logarithmic_error: 0.1737 - r2_score: 0.1885\n",
            "\u001b[2m\u001b[36m(DefaultActor pid=29718)\u001b[0m \b\b\b\b\b\b\b\b\b\b\b\b\b\b\b\b\b\b\b\b\b\b\b\b\b\b\b\b\b\b\b\b\b\b\b\b\b\b\b\b\b\b\b\b\b\b\b\b\b\b\b\b\b\b\b\b\b\b\b\b\b\b\b\b\b\b\b\b\b\b\b\b\b\b\b\b\b\b\b\b\b\b\b\b\b\b\b\b\b\b\b\b\b\b\b\b\b\b\b\b\b\b\b\b\b\b\b\b\b\b\b\b\b\b\b\b\b\b\b\b\b\b\b\b\b\b\b\b\b\b\b\b\b\b\b\b\b\b\b\b\b\b\b\b\b\b\b\b\b\b\b\b\r7/7 [==============================] - 1s 12ms/step - loss: 0.7182 - mse: 2.8677 - mape: 141.0575 - mean_squared_logarithmic_error: 0.1774 - r2_score: 0.1833\n"
          ]
        },
        {
          "output_type": "stream",
          "name": "stderr",
          "text": [
            "DEBUG flwr 2024-02-22 09:15:38,893 | server.py:236 | fit_round 5 received 10 results and 0 failures\n",
            "DEBUG:flwr:fit_round 5 received 10 results and 0 failures\n"
          ]
        },
        {
          "output_type": "stream",
          "name": "stdout",
          "text": [
            "755/755 [==============================] - 12s 15ms/step - loss: 0.6857 - mse: 3.2329 - mape: 130.5594 - mean_squared_logarithmic_error: 0.1669 - r2_score: 0.1735\n"
          ]
        },
        {
          "output_type": "stream",
          "name": "stderr",
          "text": [
            "INFO flwr 2024-02-22 09:15:59,889 | server.py:125 | fit progress: (5, 0, {'mse': 0.6857349276542664, 'mape': 3.23286771774292, 'mean_squared_logarithmic_error': 130.5594024658203, 'R2Score': 0.1669066995382309}, 207.24925564800014)\n",
            "INFO:flwr:fit progress: (5, 0, {'mse': 0.6857349276542664, 'mape': 3.23286771774292, 'mean_squared_logarithmic_error': 130.5594024658203, 'R2Score': 0.1669066995382309}, 207.24925564800014)\n",
            "DEBUG flwr 2024-02-22 09:15:59,892 | server.py:173 | evaluate_round 5: strategy sampled 5 clients (out of 100)\n",
            "DEBUG:flwr:evaluate_round 5: strategy sampled 5 clients (out of 100)\n"
          ]
        },
        {
          "output_type": "stream",
          "name": "stdout",
          "text": [
            "\u001b[2m\u001b[36m(DefaultActor pid=29718)\u001b[0m \r1/7 [===>..........................] - ETA: 3s - loss: 0.5704 - mse: 2.0158 - mape: 88.8952 - mean_squared_logarithmic_error: 0.1291 - r2_score: 0.2570\b\b\b\b\b\b\b\b\b\b\b\b\b\b\b\b\b\b\b\b\b\b\b\b\b\b\b\b\b\b\b\b\b\b\b\b\b\b\b\b\b\b\b\b\b\b\b\b\b\b\b\b\b\b\b\b\b\b\b\b\b\b\b\b\b\b\b\b\b\b\b\b\b\b\b\b\b\b\b\b\b\b\b\b\b\b\b\b\b\b\b\b\b\b\b\b\b\b\b\b\b\b\b\b\b\b\b\b\b\b\b\b\b\b\b\b\b\b\b\b\b\b\b\b\b\b\b\b\b\b\b\b\b\b\b\b\b\b\b\b\b\b\b\b\b\b\b\b\b\b\b\r3/7 [===========>..................] - ETA: 0s - loss: 0.6093 - mse: 2.1735 - mape: 97.9323 - mean_squared_logarithmic_error: 0.1408 - r2_score: 0.2410\n",
            "7/7 [==============================] - 1s 20ms/step - loss: 0.6262 - mse: 1.9796 - mape: 107.4043 - mean_squared_logarithmic_error: 0.1462 - r2_score: 0.2505\n",
            "5/7 [====================>.........] - ETA: 0s - loss: 0.6952 - mse: 3.4149 - mape: 117.2213 - mean_squared_logarithmic_error: 0.1704 - r2_score: 0.1762\n",
            "7/7 [==============================] - 1s 16ms/step - loss: 0.6708 - mse: 3.2281 - mape: 111.9284 - mean_squared_logarithmic_error: 0.1622 - r2_score: 0.1809\n",
            "1/7 [===>..........................] - ETA: 3s - loss: 0.8628 - mse: 4.2789 - mape: 269.9014 - mean_squared_logarithmic_error: 0.2407 - r2_score: 0.1313\n",
            "7/7 [==============================] - 1s 13ms/step - loss: 0.7845 - mse: 3.9282 - mape: 124.3505 - mean_squared_logarithmic_error: 0.1987 - r2_score: 0.1472\n",
            "1/7 [===>..........................] - ETA: 2s - loss: 0.5684 - mse: 1.4924 - mape: 93.9438 - mean_squared_logarithmic_error: 0.1328 - r2_score: 0.2814\n",
            "7/7 [==============================] - 1s 12ms/step - loss: 0.6980 - mse: 3.0449 - mape: 106.2763 - mean_squared_logarithmic_error: 0.1690 - r2_score: 0.1843\n"
          ]
        },
        {
          "output_type": "stream",
          "name": "stderr",
          "text": [
            "DEBUG flwr 2024-02-22 09:16:05,531 | server.py:187 | evaluate_round 5 received 5 results and 0 failures\n",
            "DEBUG:flwr:evaluate_round 5 received 5 results and 0 failures\n",
            "DEBUG flwr 2024-02-22 09:16:05,535 | server.py:222 | fit_round 6: strategy sampled 10 clients (out of 100)\n",
            "DEBUG:flwr:fit_round 6: strategy sampled 10 clients (out of 100)\n"
          ]
        },
        {
          "output_type": "stream",
          "name": "stdout",
          "text": [
            "\u001b[2m\u001b[36m(DefaultActor pid=29718)\u001b[0m \r1/7 [===>..........................] - ETA: 2s - loss: 0.7541 - mse: 3.0478 - mape: 110.5573 - mean_squared_logarithmic_error: 0.1973 - r2_score: 0.1705\n",
            "\u001b[2m\u001b[36m(DefaultActor pid=29718)\u001b[0m \b\b\b\b\b\b\b\b\b\b\b\b\b\b\b\b\b\b\b\b\b\b\b\b\b\b\b\b\b\b\b\b\b\b\b\b\b\b\b\b\b\b\b\b\b\b\b\b\b\b\b\b\b\b\b\b\b\b\b\b\b\b\b\b\b\b\b\b\b\b\b\b\b\b\b\b\b\b\b\b\b\b\b\b\b\b\b\b\b\b\b\b\b\b\b\b\b\b\b\b\b\b\b\b\b\b\b\b\b\b\b\b\b\b\b\b\b\b\b\b\b\b\b\b\b\b\b\b\b\b\b\b\b\b\b\b\b\b\b\b\b\b\b\b\b\b\b\b\b\b\b\b\r5/7 [====================>.........] - ETA: 0s - loss: 0.9444 - mse: 5.3271 - mape: 95.4417 - mean_squared_logarithmic_error: 0.2504 - r2_score: 0.1144 \b\b\b\b\b\b\b\b\b\b\b\b\b\b\b\b\b\b\b\b\b\b\b\b\b\b\b\b\b\b\b\b\b\b\b\b\b\b\b\b\b\b\b\b\b\b\b\b\b\b\b\b\b\b\b\b\b\b\b\b\b\b\b\b\b\b\b\b\b\b\b\b\b\b\b\b\b\b\b\b\b\b\b\b\b\b\b\b\b\b\b\b\b\b\b\b\b\b\b\b\b\b\b\b\b\b\b\b\b\b\b\b\b\b\b\b\b\b\b\b\b\b\b\b\b\b\b\b\b\b\b\b\b\b\b\b\b\b\b\b\b\b\b\b\b\b\b\b\b\b\b\r7/7 [==============================] - 1s 12ms/step - loss: 0.8545 - mse: 4.5382 - mape: 158.5665 - mean_squared_logarithmic_error: 0.2227 - r2_score: 0.1355\n"
          ]
        },
        {
          "output_type": "stream",
          "name": "stderr",
          "text": [
            "DEBUG flwr 2024-02-22 09:16:25,060 | server.py:236 | fit_round 6 received 10 results and 0 failures\n",
            "DEBUG:flwr:fit_round 6 received 10 results and 0 failures\n"
          ]
        },
        {
          "output_type": "stream",
          "name": "stdout",
          "text": [
            "755/755 [==============================] - 12s 15ms/step - loss: 0.6879 - mse: 3.2384 - mape: 97.5764 - mean_squared_logarithmic_error: 0.1703 - r2_score: 0.1720\n"
          ]
        },
        {
          "output_type": "stream",
          "name": "stderr",
          "text": [
            "INFO flwr 2024-02-22 09:16:46,062 | server.py:125 | fit progress: (6, 0, {'mse': 0.6879400014877319, 'mape': 3.238367795944214, 'mean_squared_logarithmic_error': 97.57640838623047, 'R2Score': 0.17027324438095093}, 253.4226044349998)\n",
            "INFO:flwr:fit progress: (6, 0, {'mse': 0.6879400014877319, 'mape': 3.238367795944214, 'mean_squared_logarithmic_error': 97.57640838623047, 'R2Score': 0.17027324438095093}, 253.4226044349998)\n",
            "DEBUG flwr 2024-02-22 09:16:46,066 | server.py:173 | evaluate_round 6: strategy sampled 5 clients (out of 100)\n",
            "DEBUG:flwr:evaluate_round 6: strategy sampled 5 clients (out of 100)\n"
          ]
        },
        {
          "output_type": "stream",
          "name": "stdout",
          "text": [
            "7/7 [==============================] - 1s 12ms/step - loss: 0.6597 - mse: 2.9116 - mape: 87.3304 - mean_squared_logarithmic_error: 0.1543 - r2_score: 0.1862\n",
            "1/7 [===>..........................] - ETA: 2s - loss: 0.7839 - mse: 4.8142 - mape: 82.6143 - mean_squared_logarithmic_error: 0.1978 - r2_score: 0.1250\n",
            "7/7 [==============================] - 1s 13ms/step - loss: 0.7894 - mse: 4.0844 - mape: 93.6983 - mean_squared_logarithmic_error: 0.1976 - r2_score: 0.1444\n",
            "1/7 [===>..........................] - ETA: 2s - loss: 0.3060 - mse: 0.2818 - mape: 91.2240 - mean_squared_logarithmic_error: 0.0518 - r2_score: 0.5079\n",
            "7/7 [==============================] - 1s 11ms/step - loss: 0.5373 - mse: 1.5130 - mape: 96.8626 - mean_squared_logarithmic_error: 0.1213 - r2_score: 0.2804\n",
            "1/7 [===>..........................] - ETA: 2s - loss: 0.8164 - mse: 6.4293 - mape: 98.0441 - mean_squared_logarithmic_error: 0.2126 - r2_score: 0.0895\n",
            "7/7 [==============================] - 1s 12ms/step - loss: 0.6798 - mse: 3.3024 - mape: 97.9935 - mean_squared_logarithmic_error: 0.1656 - r2_score: 0.1694\n"
          ]
        },
        {
          "output_type": "stream",
          "name": "stderr",
          "text": [
            "DEBUG flwr 2024-02-22 09:16:50,798 | server.py:187 | evaluate_round 6 received 5 results and 0 failures\n",
            "DEBUG:flwr:evaluate_round 6 received 5 results and 0 failures\n",
            "DEBUG flwr 2024-02-22 09:16:50,804 | server.py:222 | fit_round 7: strategy sampled 10 clients (out of 100)\n",
            "DEBUG:flwr:fit_round 7: strategy sampled 10 clients (out of 100)\n"
          ]
        },
        {
          "output_type": "stream",
          "name": "stdout",
          "text": [
            "\u001b[2m\u001b[36m(DefaultActor pid=29718)\u001b[0m \r1/7 [===>..........................] - ETA: 3s - loss: 0.5984 - mse: 1.9703 - mape: 80.7870 - mean_squared_logarithmic_error: 0.1446 - r2_score: 0.2440\b\b\b\b\b\b\b\b\b\b\b\b\b\b\b\b\b\b\b\b\b\b\b\b\b\b\b\b\b\b\b\b\b\b\b\b\b\b\b\b\b\b\b\b\b\b\b\b\b\b\b\b\b\b\b\b\b\b\b\b\b\b\b\b\b\b\b\b\b\b\b\b\b\b\b\b\b\b\b\b\b\b\b\b\b\b\b\b\b\b\b\b\b\b\b\b\b\b\b\b\b\b\b\b\b\b\b\b\b\b\b\b\b\b\b\b\b\b\b\b\b\b\b\b\b\b\b\b\b\b\b\b\b\b\b\b\b\b\b\b\b\b\b\b\b\b\b\b\b\b\b\r5/7 [====================>.........] - ETA: 0s - loss: 0.7034 - mse: 3.5814 - mape: 98.8185 - mean_squared_logarithmic_error: 0.1720 - r2_score: 0.1600\n",
            "\u001b[2m\u001b[36m(DefaultActor pid=29718)\u001b[0m \b\b\b\b\b\b\b\b\b\b\b\b\b\b\b\b\b\b\b\b\b\b\b\b\b\b\b\b\b\b\b\b\b\b\b\b\b\b\b\b\b\b\b\b\b\b\b\b\b\b\b\b\b\b\b\b\b\b\b\b\b\b\b\b\b\b\b\b\b\b\b\b\b\b\b\b\b\b\b\b\b\b\b\b\b\b\b\b\b\b\b\b\b\b\b\b\b\b\b\b\b\b\b\b\b\b\b\b\b\b\b\b\b\b\b\b\b\b\b\b\b\b\b\b\b\b\b\b\b\b\b\b\b\b\b\b\b\b\b\b\b\b\b\b\b\b\b\b\b\b\b\r7/7 [==============================] - 1s 12ms/step - loss: 0.7135 - mse: 3.5379 - mape: 98.0862 - mean_squared_logarithmic_error: 0.1751 - r2_score: 0.1645\n"
          ]
        },
        {
          "output_type": "stream",
          "name": "stderr",
          "text": [
            "DEBUG flwr 2024-02-22 09:17:11,794 | server.py:236 | fit_round 7 received 10 results and 0 failures\n",
            "DEBUG:flwr:fit_round 7 received 10 results and 0 failures\n"
          ]
        },
        {
          "output_type": "stream",
          "name": "stdout",
          "text": [
            "755/755 [==============================] - 12s 15ms/step - loss: 0.6805 - mse: 3.2301 - mape: 109.4836 - mean_squared_logarithmic_error: 0.1668 - r2_score: 0.1742\n"
          ]
        },
        {
          "output_type": "stream",
          "name": "stderr",
          "text": [
            "INFO flwr 2024-02-22 09:17:32,800 | server.py:125 | fit progress: (7, 0, {'mse': 0.680474579334259, 'mape': 3.23012375831604, 'mean_squared_logarithmic_error': 109.48358154296875, 'R2Score': 0.16683973371982574}, 300.16039915799956)\n",
            "INFO:flwr:fit progress: (7, 0, {'mse': 0.680474579334259, 'mape': 3.23012375831604, 'mean_squared_logarithmic_error': 109.48358154296875, 'R2Score': 0.16683973371982574}, 300.16039915799956)\n",
            "DEBUG flwr 2024-02-22 09:17:32,803 | server.py:173 | evaluate_round 7: strategy sampled 5 clients (out of 100)\n",
            "DEBUG:flwr:evaluate_round 7: strategy sampled 5 clients (out of 100)\n"
          ]
        },
        {
          "output_type": "stream",
          "name": "stdout",
          "text": [
            "\u001b[2m\u001b[36m(DefaultActor pid=29718)\u001b[0m \r1/7 [===>..........................] - ETA: 2s - loss: 0.7584 - mse: 3.7809 - mape: 100.2160 - mean_squared_logarithmic_error: 0.2023 - r2_score: 0.1512\b\b\b\b\b\b\b\b\b\b\b\b\b\b\b\b\b\b\b\b\b\b\b\b\b\b\b\b\b\b\b\b\b\b\b\b\b\b\b\b\b\b\b\b\b\b\b\b\b\b\b\b\b\b\b\b\b\b\b\b\b\b\b\b\b\b\b\b\b\b\b\b\b\b\b\b\b\b\b\b\b\b\b\b\b\b\b\b\b\b\b\b\b\b\b\b\b\b\b\b\b\b\b\b\b\b\b\b\b\b\b\b\b\b\b\b\b\b\b\b\b\b\b\b\b\b\b\b\b\b\b\b\b\b\b\b\b\b\b\b\b\b\b\b\b\b\b\b\b\b\b\b\r5/7 [====================>.........] - ETA: 0s - loss: 0.6189 - mse: 2.1807 - mape: 101.1623 - mean_squared_logarithmic_error: 0.1489 - r2_score: 0.2247\n",
            "7/7 [==============================] - 1s 13ms/step - loss: 0.6703 - mse: 2.6358 - mape: 100.7820 - mean_squared_logarithmic_error: 0.1642 - r2_score: 0.1998\n",
            "1/7 [===>..........................] - ETA: 2s - loss: 0.9301 - mse: 5.3770 - mape: 84.4391 - mean_squared_logarithmic_error: 0.2497 - r2_score: 0.1082\n",
            "7/7 [==============================] - 1s 12ms/step - loss: 0.7855 - mse: 4.6549 - mape: 94.4112 - mean_squared_logarithmic_error: 0.2044 - r2_score: 0.1294\n",
            "1/7 [===>..........................] - ETA: 2s - loss: 0.4592 - mse: 0.9753 - mape: 96.2850 - mean_squared_logarithmic_error: 0.0976 - r2_score: 0.3533\n",
            "7/7 [==============================] - 1s 13ms/step - loss: 0.6116 - mse: 2.5713 - mape: 100.2047 - mean_squared_logarithmic_error: 0.1445 - r2_score: 0.1993\n",
            "7/7 [==============================] - 1s 12ms/step - loss: 0.6115 - mse: 2.7514 - mape: 90.9500 - mean_squared_logarithmic_error: 0.1431 - r2_score: 0.1942\n"
          ]
        },
        {
          "output_type": "stream",
          "name": "stderr",
          "text": [
            "DEBUG flwr 2024-02-22 09:17:37,555 | server.py:187 | evaluate_round 7 received 5 results and 0 failures\n",
            "DEBUG:flwr:evaluate_round 7 received 5 results and 0 failures\n",
            "DEBUG flwr 2024-02-22 09:17:37,558 | server.py:222 | fit_round 8: strategy sampled 10 clients (out of 100)\n",
            "DEBUG:flwr:fit_round 8: strategy sampled 10 clients (out of 100)\n"
          ]
        },
        {
          "output_type": "stream",
          "name": "stdout",
          "text": [
            "\u001b[2m\u001b[36m(DefaultActor pid=29718)\u001b[0m \r1/7 [===>..........................] - ETA: 3s - loss: 0.6296 - mse: 2.4783 - mape: 98.1261 - mean_squared_logarithmic_error: 0.1437 - r2_score: 0.2205\b\b\b\b\b\b\b\b\b\b\b\b\b\b\b\b\b\b\b\b\b\b\b\b\b\b\b\b\b\b\b\b\b\b\b\b\b\b\b\b\b\b\b\b\b\b\b\b\b\b\b\b\b\b\b\b\b\b\b\b\b\b\b\b\b\b\b\b\b\b\b\b\b\b\b\b\b\b\b\b\b\b\b\b\b\b\b\b\b\b\b\b\b\b\b\b\b\b\b\b\b\b\b\b\b\b\b\b\b\b\b\b\b\b\b\b\b\b\b\b\b\b\b\b\b\b\b\b\b\b\b\b\b\b\b\b\b\b\b\b\b\b\b\b\b\b\b\b\b\b\b\r5/7 [====================>.........] - ETA: 0s - loss: 0.7722 - mse: 3.7676 - mape: 121.4383 - mean_squared_logarithmic_error: 0.1948 - r2_score: 0.1557\n",
            "\u001b[2m\u001b[36m(DefaultActor pid=29718)\u001b[0m \b\b\b\b\b\b\b\b\b\b\b\b\b\b\b\b\b\b\b\b\b\b\b\b\b\b\b\b\b\b\b\b\b\b\b\b\b\b\b\b\b\b\b\b\b\b\b\b\b\b\b\b\b\b\b\b\b\b\b\b\b\b\b\b\b\b\b\b\b\b\b\b\b\b\b\b\b\b\b\b\b\b\b\b\b\b\b\b\b\b\b\b\b\b\b\b\b\b\b\b\b\b\b\b\b\b\b\b\b\b\b\b\b\b\b\b\b\b\b\b\b\b\b\b\b\b\b\b\b\b\b\b\b\b\b\b\b\b\b\b\b\b\b\b\b\b\b\b\b\b\b\b\r7/7 [==============================] - 1s 13ms/step - loss: 0.7402 - mse: 3.5881 - mape: 118.3150 - mean_squared_logarithmic_error: 0.1854 - r2_score: 0.1631\n"
          ]
        },
        {
          "output_type": "stream",
          "name": "stderr",
          "text": [
            "DEBUG flwr 2024-02-22 09:17:58,074 | server.py:236 | fit_round 8 received 10 results and 0 failures\n",
            "DEBUG:flwr:fit_round 8 received 10 results and 0 failures\n"
          ]
        },
        {
          "output_type": "stream",
          "name": "stdout",
          "text": [
            "755/755 [==============================] - 11s 14ms/step - loss: 0.6786 - mse: 3.2296 - mape: 102.5086 - mean_squared_logarithmic_error: 0.1668 - r2_score: 0.1743\n"
          ]
        },
        {
          "output_type": "stream",
          "name": "stderr",
          "text": [
            "INFO flwr 2024-02-22 09:18:09,118 | server.py:125 | fit progress: (8, 0, {'mse': 0.6786019802093506, 'mape': 3.2295753955841064, 'mean_squared_logarithmic_error': 102.50862121582031, 'R2Score': 0.16681072115898132}, 336.4788509600003)\n",
            "INFO:flwr:fit progress: (8, 0, {'mse': 0.6786019802093506, 'mape': 3.2295753955841064, 'mean_squared_logarithmic_error': 102.50862121582031, 'R2Score': 0.16681072115898132}, 336.4788509600003)\n",
            "DEBUG flwr 2024-02-22 09:18:09,122 | server.py:173 | evaluate_round 8: strategy sampled 5 clients (out of 100)\n",
            "DEBUG:flwr:evaluate_round 8: strategy sampled 5 clients (out of 100)\n"
          ]
        },
        {
          "output_type": "stream",
          "name": "stdout",
          "text": [
            "\u001b[2m\u001b[36m(DefaultActor pid=29718)\u001b[0m \r1/7 [===>..........................] - ETA: 4s - loss: 0.5237 - mse: 1.5076 - mape: 77.9407 - mean_squared_logarithmic_error: 0.1144 - r2_score: 0.2877\b\b\b\b\b\b\b\b\b\b\b\b\b\b\b\b\b\b\b\b\b\b\b\b\b\b\b\b\b\b\b\b\b\b\b\b\b\b\b\b\b\b\b\b\b\b\b\b\b\b\b\b\b\b\b\b\b\b\b\b\b\b\b\b\b\b\b\b\b\b\b\b\b\b\b\b\b\b\b\b\b\b\b\b\b\b\b\b\b\b\b\b\b\b\b\b\b\b\b\b\b\b\b\b\b\b\b\b\b\b\b\b\b\b\b\b\b\b\b\b\b\b\b\b\b\b\b\b\b\b\b\b\b\b\b\b\b\b\b\b\b\b\b\b\b\b\b\b\b\b\b\r4/7 [================>.............] - ETA: 0s - loss: 0.6676 - mse: 2.8291 - mape: 88.0880 - mean_squared_logarithmic_error: 0.1584 - r2_score: 0.1947\n",
            "7/7 [==============================] - 1s 18ms/step - loss: 0.6677 - mse: 2.9246 - mape: 89.9521 - mean_squared_logarithmic_error: 0.1595 - r2_score: 0.1912\n",
            "1/7 [===>..........................] - ETA: 3s - loss: 0.6311 - mse: 2.7414 - mape: 99.7578 - mean_squared_logarithmic_error: 0.1492 - r2_score: 0.2100\n",
            "7/7 [==============================] - 1s 13ms/step - loss: 0.8467 - mse: 4.7184 - mape: 130.6875 - mean_squared_logarithmic_error: 0.2184 - r2_score: 0.1369\n",
            "6/7 [========================>.....] - ETA: 0s - loss: 0.6841 - mse: 3.7749 - mape: 101.6052 - mean_squared_logarithmic_error: 0.1687 - r2_score: 0.1515\n",
            "7/7 [==============================] - 1s 12ms/step - loss: 0.6802 - mse: 3.7459 - mape: 101.1865 - mean_squared_logarithmic_error: 0.1675 - r2_score: 0.1520\n",
            "5/7 [====================>.........] - ETA: 0s - loss: 0.6026 - mse: 3.0876 - mape: 145.3845 - mean_squared_logarithmic_error: 0.1443 - r2_score: 0.1757\n",
            "7/7 [==============================] - 1s 12ms/step - loss: 0.6018 - mse: 2.9649 - mape: 136.3120 - mean_squared_logarithmic_error: 0.1430 - r2_score: 0.1782\n"
          ]
        },
        {
          "output_type": "stream",
          "name": "stderr",
          "text": [
            "DEBUG flwr 2024-02-22 09:18:14,609 | server.py:187 | evaluate_round 8 received 5 results and 0 failures\n",
            "DEBUG:flwr:evaluate_round 8 received 5 results and 0 failures\n",
            "DEBUG flwr 2024-02-22 09:18:14,613 | server.py:222 | fit_round 9: strategy sampled 10 clients (out of 100)\n",
            "DEBUG:flwr:fit_round 9: strategy sampled 10 clients (out of 100)\n"
          ]
        },
        {
          "output_type": "stream",
          "name": "stdout",
          "text": [
            "\u001b[2m\u001b[36m(DefaultActor pid=29718)\u001b[0m \r1/7 [===>..........................] - ETA: 2s - loss: 0.5072 - mse: 2.6121 - mape: 90.4897 - mean_squared_logarithmic_error: 0.1197 - r2_score: 0.1861\n",
            "\u001b[2m\u001b[36m(DefaultActor pid=29718)\u001b[0m \b\b\b\b\b\b\b\b\b\b\b\b\b\b\b\b\b\b\b\b\b\b\b\b\b\b\b\b\b\b\b\b\b\b\b\b\b\b\b\b\b\b\b\b\b\b\b\b\b\b\b\b\b\b\b\b\b\b\b\b\b\b\b\b\b\b\b\b\b\b\b\b\b\b\b\b\b\b\b\b\b\b\b\b\b\b\b\b\b\b\b\b\b\b\b\b\b\b\b\b\b\b\b\b\b\b\b\b\b\b\b\b\b\b\b\b\b\b\b\b\b\b\b\b\b\b\b\b\b\b\b\b\b\b\b\b\b\b\b\b\b\b\b\b\b\b\b\b\b\b\b\r6/7 [========================>.....] - ETA: 0s - loss: 0.6523 - mse: 3.0271 - mape: 141.5563 - mean_squared_logarithmic_error: 0.1610 - r2_score: 0.1818\b\b\b\b\b\b\b\b\b\b\b\b\b\b\b\b\b\b\b\b\b\b\b\b\b\b\b\b\b\b\b\b\b\b\b\b\b\b\b\b\b\b\b\b\b\b\b\b\b\b\b\b\b\b\b\b\b\b\b\b\b\b\b\b\b\b\b\b\b\b\b\b\b\b\b\b\b\b\b\b\b\b\b\b\b\b\b\b\b\b\b\b\b\b\b\b\b\b\b\b\b\b\b\b\b\b\b\b\b\b\b\b\b\b\b\b\b\b\b\b\b\b\b\b\b\b\b\b\b\b\b\b\b\b\b\b\b\b\b\b\b\b\b\b\b\b\b\b\b\b\b\b\r7/7 [==============================] - 1s 12ms/step - loss: 0.6478 - mse: 3.0037 - mape: 141.2450 - mean_squared_logarithmic_error: 0.1598 - r2_score: 0.1829\n"
          ]
        },
        {
          "output_type": "stream",
          "name": "stderr",
          "text": [
            "DEBUG flwr 2024-02-22 09:18:34,372 | server.py:236 | fit_round 9 received 10 results and 0 failures\n",
            "DEBUG:flwr:fit_round 9 received 10 results and 0 failures\n"
          ]
        },
        {
          "output_type": "stream",
          "name": "stdout",
          "text": [
            "755/755 [==============================] - 12s 15ms/step - loss: 0.6809 - mse: 3.2328 - mape: 95.3652 - mean_squared_logarithmic_error: 0.1685 - r2_score: 0.1735\n"
          ]
        },
        {
          "output_type": "stream",
          "name": "stderr",
          "text": [
            "INFO flwr 2024-02-22 09:18:55,568 | server.py:125 | fit progress: (9, 0, {'mse': 0.680939793586731, 'mape': 3.2328250408172607, 'mean_squared_logarithmic_error': 95.3652114868164, 'R2Score': 0.1684754192829132}, 382.92818575)\n",
            "INFO:flwr:fit progress: (9, 0, {'mse': 0.680939793586731, 'mape': 3.2328250408172607, 'mean_squared_logarithmic_error': 95.3652114868164, 'R2Score': 0.1684754192829132}, 382.92818575)\n",
            "DEBUG flwr 2024-02-22 09:18:55,571 | server.py:173 | evaluate_round 9: strategy sampled 5 clients (out of 100)\n",
            "DEBUG:flwr:evaluate_round 9: strategy sampled 5 clients (out of 100)\n"
          ]
        },
        {
          "output_type": "stream",
          "name": "stdout",
          "text": [
            "7/7 [==============================] - 1s 14ms/step - loss: 0.6620 - mse: 2.9553 - mape: 91.6216 - mean_squared_logarithmic_error: 0.1653 - r2_score: 0.1750\n",
            "1/7 [===>..........................] - ETA: 2s - loss: 0.3446 - mse: 0.3258 - mape: 111.3239 - mean_squared_logarithmic_error: 0.0553 - r2_score: 0.5557\n",
            "7/7 [==============================] - 1s 13ms/step - loss: 0.6617 - mse: 2.7959 - mape: 97.0624 - mean_squared_logarithmic_error: 0.1611 - r2_score: 0.1943\n",
            "5/7 [====================>.........] - ETA: 0s - loss: 0.7929 - mse: 4.1445 - mape: 94.4982 - mean_squared_logarithmic_error: 0.2028 - r2_score: 0.1432 \n",
            "7/7 [==============================] - 1s 13ms/step - loss: 0.7644 - mse: 3.7721 - mape: 92.2927 - mean_squared_logarithmic_error: 0.1942 - r2_score: 0.1538\n",
            "1/7 [===>..........................] - ETA: 2s - loss: 0.6877 - mse: 2.9155 - mape: 88.0089 - mean_squared_logarithmic_error: 0.1776 - r2_score: 0.1668\n",
            "7/7 [==============================] - 1s 12ms/step - loss: 0.7048 - mse: 3.0113 - mape: 85.1337 - mean_squared_logarithmic_error: 0.1717 - r2_score: 0.1902\n"
          ]
        },
        {
          "output_type": "stream",
          "name": "stderr",
          "text": [
            "DEBUG flwr 2024-02-22 09:19:00,767 | server.py:187 | evaluate_round 9 received 5 results and 0 failures\n",
            "DEBUG:flwr:evaluate_round 9 received 5 results and 0 failures\n",
            "DEBUG flwr 2024-02-22 09:19:00,771 | server.py:222 | fit_round 10: strategy sampled 10 clients (out of 100)\n",
            "DEBUG:flwr:fit_round 10: strategy sampled 10 clients (out of 100)\n"
          ]
        },
        {
          "output_type": "stream",
          "name": "stdout",
          "text": [
            "\u001b[2m\u001b[36m(DefaultActor pid=29718)\u001b[0m \r1/7 [===>..........................] - ETA: 4s - loss: 0.6844 - mse: 3.5395 - mape: 99.7110 - mean_squared_logarithmic_error: 0.1698 - r2_score: 0.1787\b\b\b\b\b\b\b\b\b\b\b\b\b\b\b\b\b\b\b\b\b\b\b\b\b\b\b\b\b\b\b\b\b\b\b\b\b\b\b\b\b\b\b\b\b\b\b\b\b\b\b\b\b\b\b\b\b\b\b\b\b\b\b\b\b\b\b\b\b\b\b\b\b\b\b\b\b\b\b\b\b\b\b\b\b\b\b\b\b\b\b\b\b\b\b\b\b\b\b\b\b\b\b\b\b\b\b\b\b\b\b\b\b\b\b\b\b\b\b\b\b\b\b\b\b\b\b\b\b\b\b\b\b\b\b\b\b\b\b\b\b\b\b\b\b\b\b\b\b\b\b\r3/7 [===========>..................] - ETA: 0s - loss: 0.7075 - mse: 3.7639 - mape: 93.4898 - mean_squared_logarithmic_error: 0.1725 - r2_score: 0.1654\n",
            "\u001b[2m\u001b[36m(DefaultActor pid=29718)\u001b[0m \b\b\b\b\b\b\b\b\b\b\b\b\b\b\b\b\b\b\b\b\b\b\b\b\b\b\b\b\b\b\b\b\b\b\b\b\b\b\b\b\b\b\b\b\b\b\b\b\b\b\b\b\b\b\b\b\b\b\b\b\b\b\b\b\b\b\b\b\b\b\b\b\b\b\b\b\b\b\b\b\b\b\b\b\b\b\b\b\b\b\b\b\b\b\b\b\b\b\b\b\b\b\b\b\b\b\b\b\b\b\b\b\b\b\b\b\b\b\b\b\b\b\b\b\b\b\b\b\b\b\b\b\b\b\b\b\b\b\b\b\b\b\b\b\b\b\b\b\b\b\b\r5/7 [====================>.........] - ETA: 0s - loss: 0.7875 - mse: 4.3573 - mape: 94.7899 - mean_squared_logarithmic_error: 0.2004 - r2_score: 0.1418\b\b\b\b\b\b\b\b\b\b\b\b\b\b\b\b\b\b\b\b\b\b\b\b\b\b\b\b\b\b\b\b\b\b\b\b\b\b\b\b\b\b\b\b\b\b\b\b\b\b\b\b\b\b\b\b\b\b\b\b\b\b\b\b\b\b\b\b\b\b\b\b\b\b\b\b\b\b\b\b\b\b\b\b\b\b\b\b\b\b\b\b\b\b\b\b\b\b\b\b\b\b\b\b\b\b\b\b\b\b\b\b\b\b\b\b\b\b\b\b\b\b\b\b\b\b\b\b\b\b\b\b\b\b\b\b\b\b\b\b\b\b\b\b\b\b\b\b\b\b\b\r7/7 [==============================] - 1s 25ms/step - loss: 0.8225 - mse: 4.8360 - mape: 93.5197 - mean_squared_logarithmic_error: 0.2100 - r2_score: 0.1313\n"
          ]
        },
        {
          "output_type": "stream",
          "name": "stderr",
          "text": [
            "DEBUG flwr 2024-02-22 09:19:20,111 | server.py:236 | fit_round 10 received 10 results and 0 failures\n",
            "DEBUG:flwr:fit_round 10 received 10 results and 0 failures\n"
          ]
        },
        {
          "output_type": "stream",
          "name": "stdout",
          "text": [
            "755/755 [==============================] - 12s 15ms/step - loss: 0.6807 - mse: 3.2306 - mape: 107.1766 - mean_squared_logarithmic_error: 0.1672 - r2_score: 0.1740\n"
          ]
        },
        {
          "output_type": "stream",
          "name": "stderr",
          "text": [
            "INFO flwr 2024-02-22 09:19:41,133 | server.py:125 | fit progress: (10, 0, {'mse': 0.6807003021240234, 'mape': 3.230637311935425, 'mean_squared_logarithmic_error': 107.17658233642578, 'R2Score': 0.16719582676887512}, 428.4937221330001)\n",
            "INFO:flwr:fit progress: (10, 0, {'mse': 0.6807003021240234, 'mape': 3.230637311935425, 'mean_squared_logarithmic_error': 107.17658233642578, 'R2Score': 0.16719582676887512}, 428.4937221330001)\n",
            "DEBUG flwr 2024-02-22 09:19:41,138 | server.py:173 | evaluate_round 10: strategy sampled 5 clients (out of 100)\n",
            "DEBUG:flwr:evaluate_round 10: strategy sampled 5 clients (out of 100)\n"
          ]
        },
        {
          "output_type": "stream",
          "name": "stdout",
          "text": [
            "7/7 [==============================] - 1s 13ms/step - loss: 0.6295 - mse: 2.5849 - mape: 131.3094 - mean_squared_logarithmic_error: 0.1512 - r2_score: 0.2062\n",
            "5/7 [====================>.........] - ETA: 0s - loss: 0.6625 - mse: 2.2671 - mape: 98.1203 - mean_squared_logarithmic_error: 0.1592 - r2_score: 0.2200\n",
            "7/7 [==============================] - 1s 13ms/step - loss: 0.6819 - mse: 2.5941 - mape: 97.7710 - mean_squared_logarithmic_error: 0.1661 - r2_score: 0.2048\n",
            "1/7 [===>..........................] - ETA: 2s - loss: 0.8548 - mse: 5.2508 - mape: 93.2863 - mean_squared_logarithmic_error: 0.2281 - r2_score: 0.1370\n",
            "7/7 [==============================] - 1s 11ms/step - loss: 0.8912 - mse: 5.1849 - mape: 96.7898 - mean_squared_logarithmic_error: 0.2318 - r2_score: 0.1253\n",
            "1/7 [===>..........................] - ETA: 2s - loss: 0.6776 - mse: 2.8975 - mape: 75.0089 - mean_squared_logarithmic_error: 0.1533 - r2_score: 0.1786\n",
            "7/7 [==============================] - 1s 12ms/step - loss: 0.6594 - mse: 2.6084 - mape: 103.6164 - mean_squared_logarithmic_error: 0.1541 - r2_score: 0.2022\n"
          ]
        },
        {
          "output_type": "stream",
          "name": "stderr",
          "text": [
            "DEBUG flwr 2024-02-22 09:19:45,765 | server.py:187 | evaluate_round 10 received 5 results and 0 failures\n",
            "DEBUG:flwr:evaluate_round 10 received 5 results and 0 failures\n",
            "INFO flwr 2024-02-22 09:19:45,773 | server.py:153 | FL finished in 433.1334199869998\n",
            "INFO:flwr:FL finished in 433.1334199869998\n",
            "INFO flwr 2024-02-22 09:19:45,776 | app.py:226 | app_fit: losses_distributed [(1, 0.903866422176361), (2, 0.9209364056587219), (3, 0.8847877860069275), (4, 0.7025092840194702), (5, 0.7268054842948913), (6, 0.6759577393531799), (7, 0.6838371276855468), (8, 0.6888526558876038), (9, 0.7230772972106934), (10, 0.6858045101165772)]\n",
            "INFO:flwr:app_fit: losses_distributed [(1, 0.903866422176361), (2, 0.9209364056587219), (3, 0.8847877860069275), (4, 0.7025092840194702), (5, 0.7268054842948913), (6, 0.6759577393531799), (7, 0.6838371276855468), (8, 0.6888526558876038), (9, 0.7230772972106934), (10, 0.6858045101165772)]\n",
            "INFO flwr 2024-02-22 09:19:45,778 | app.py:227 | app_fit: metrics_distributed_fit {}\n",
            "INFO:flwr:app_fit: metrics_distributed_fit {}\n",
            "INFO flwr 2024-02-22 09:19:45,780 | app.py:228 | app_fit: metrics_distributed {'mse': [(1, 4.233716201782227), (2, 4.348065519332886), (3, 3.8168008804321287), (4, 3.1394262313842773), (5, 3.3438022136688232), (6, 3.0698639869689943), (7, 3.240297794342041), (8, 3.4714910984039307), (9, 3.4741231918334963), (10, 2.9669949054718017)], 'mape': [(1, 100.00987854003907), (2, 100.01565704345703), (3, 100.22131805419922), (4, 182.0499755859375), (5, 121.70519561767578), (6, 94.79421691894531), (7, 100.93258361816406), (8, 119.87662963867187), (9, 91.92601776123047), (10, 104.22403564453126)], 'mean_squared_logarithmic_error': [(1, 0.46972188353538513), (2, 0.47817235589027407), (3, 0.45760841965675353), (4, 0.17170827388763427), (5, 0.17973242700099945), (6, 0.1627831608057022), (7, 0.16834840178489685), (8, 0.1696566015481949), (9, 0.18046280443668367), (10, 0.1663918524980545)], 'R2Score': [(1, -0.1607985019683838), (2, -0.16113178730010985), (3, -0.16874783039093016), (4, 0.1758068323135376), (5, 0.1796891212463379), (6, 0.18898794651031495), (7, 0.17714372873306275), (8, 0.16824127435684205), (9, 0.16893855333328248), (10, 0.19734818935394288)]}\n",
            "INFO:flwr:app_fit: metrics_distributed {'mse': [(1, 4.233716201782227), (2, 4.348065519332886), (3, 3.8168008804321287), (4, 3.1394262313842773), (5, 3.3438022136688232), (6, 3.0698639869689943), (7, 3.240297794342041), (8, 3.4714910984039307), (9, 3.4741231918334963), (10, 2.9669949054718017)], 'mape': [(1, 100.00987854003907), (2, 100.01565704345703), (3, 100.22131805419922), (4, 182.0499755859375), (5, 121.70519561767578), (6, 94.79421691894531), (7, 100.93258361816406), (8, 119.87662963867187), (9, 91.92601776123047), (10, 104.22403564453126)], 'mean_squared_logarithmic_error': [(1, 0.46972188353538513), (2, 0.47817235589027407), (3, 0.45760841965675353), (4, 0.17170827388763427), (5, 0.17973242700099945), (6, 0.1627831608057022), (7, 0.16834840178489685), (8, 0.1696566015481949), (9, 0.18046280443668367), (10, 0.1663918524980545)], 'R2Score': [(1, -0.1607985019683838), (2, -0.16113178730010985), (3, -0.16874783039093016), (4, 0.1758068323135376), (5, 0.1796891212463379), (6, 0.18898794651031495), (7, 0.17714372873306275), (8, 0.16824127435684205), (9, 0.16893855333328248), (10, 0.19734818935394288)]}\n",
            "INFO flwr 2024-02-22 09:19:45,790 | app.py:229 | app_fit: losses_centralized [(0, 0), (1, 0), (2, 0), (3, 0), (4, 0), (5, 0), (6, 0), (7, 0), (8, 0), (9, 0), (10, 0)]\n",
            "INFO:flwr:app_fit: losses_centralized [(0, 0), (1, 0), (2, 0), (3, 0), (4, 0), (5, 0), (6, 0), (7, 0), (8, 0), (9, 0), (10, 0)]\n",
            "INFO flwr 2024-02-22 09:19:45,792 | app.py:230 | app_fit: metrics_centralized {'mse': [(0, 1.1295074224472046), (1, 0.9344395995140076), (2, 0.93443763256073), (3, 0.9327186346054077), (4, 0.7029988765716553), (5, 0.6857349276542664), (6, 0.6879400014877319), (7, 0.680474579334259), (8, 0.6786019802093506), (9, 0.680939793586731), (10, 0.6807003021240234)], 'mape': [(0, 3.9145596027374268), (1, 4.536120891571045), (2, 4.5361199378967285), (3, 4.521177291870117), (4, 3.2480885982513428), (5, 3.23286771774292), (6, 3.238367795944214), (7, 3.23012375831604), (8, 3.2295753955841064), (9, 3.2328250408172607), (10, 3.230637311935425)], 'mean_squared_logarithmic_error': [(0, 1819.6348876953125), (1, 100.03343200683594), (2, 100.02931213378906), (3, 101.188232421875), (4, 188.09091186523438), (5, 130.5594024658203), (6, 97.57640838623047), (7, 109.48358154296875), (8, 102.50862121582031), (9, 95.3652114868164), (10, 107.17658233642578)], 'R2Score': [(0, 0.37046465277671814), (1, 0.48786693811416626), (2, 0.4878677427768707), (3, 0.4824909567832947), (4, 0.17026087641716003), (5, 0.1669066995382309), (6, 0.17027324438095093), (7, 0.16683973371982574), (8, 0.16681072115898132), (9, 0.1684754192829132), (10, 0.16719582676887512)]}\n",
            "INFO:flwr:app_fit: metrics_centralized {'mse': [(0, 1.1295074224472046), (1, 0.9344395995140076), (2, 0.93443763256073), (3, 0.9327186346054077), (4, 0.7029988765716553), (5, 0.6857349276542664), (6, 0.6879400014877319), (7, 0.680474579334259), (8, 0.6786019802093506), (9, 0.680939793586731), (10, 0.6807003021240234)], 'mape': [(0, 3.9145596027374268), (1, 4.536120891571045), (2, 4.5361199378967285), (3, 4.521177291870117), (4, 3.2480885982513428), (5, 3.23286771774292), (6, 3.238367795944214), (7, 3.23012375831604), (8, 3.2295753955841064), (9, 3.2328250408172607), (10, 3.230637311935425)], 'mean_squared_logarithmic_error': [(0, 1819.6348876953125), (1, 100.03343200683594), (2, 100.02931213378906), (3, 101.188232421875), (4, 188.09091186523438), (5, 130.5594024658203), (6, 97.57640838623047), (7, 109.48358154296875), (8, 102.50862121582031), (9, 95.3652114868164), (10, 107.17658233642578)], 'R2Score': [(0, 0.37046465277671814), (1, 0.48786693811416626), (2, 0.4878677427768707), (3, 0.4824909567832947), (4, 0.17026087641716003), (5, 0.1669066995382309), (6, 0.17027324438095093), (7, 0.16683973371982574), (8, 0.16681072115898132), (9, 0.1684754192829132), (10, 0.16719582676887512)]}\n"
          ]
        },
        {
          "output_type": "stream",
          "name": "stdout",
          "text": [
            "\u001b[2m\u001b[36m(DefaultActor pid=29718)\u001b[0m \r1/7 [===>..........................] - ETA: 2s - loss: 0.6616 - mse: 3.0217 - mape: 95.8011 - mean_squared_logarithmic_error: 0.1581 - r2_score: 0.1691\n"
          ]
        }
      ],
      "source": [
        "# With a dictionary, you tell Flower's VirtualClientEngine that each\n",
        "# client needs exclusive access to these many resources in order to run\n",
        "client_resources = {\"num_cpus\": 2, \"num_gpus\": 0.0}\n",
        "\n",
        "# Start simulation\n",
        "history = fl.simulation.start_simulation(\n",
        "    client_fn=get_client_fn(gpus_fds),\n",
        "    num_clients=NUM_CLIENTS,\n",
        "    config=fl.server.ServerConfig(num_rounds=10),\n",
        "    strategy=strategy,\n",
        "    client_resources=client_resources,\n",
        "    actor_kwargs={\n",
        "        \"on_actor_init_fn\": enable_tf_gpu_growth  # Enable GPU growth upon actor init.\n",
        "    },\n",
        ")"
      ]
    },
    {
      "cell_type": "code",
      "source": [
        "print(f\"{history.metrics_centralized = }\")"
      ],
      "metadata": {
        "colab": {
          "base_uri": "https://localhost:8080/"
        },
        "id": "vSZumrGk4sB7",
        "outputId": "cd2f68c9-30c1-48d4-a297-e6be45f0e4a8"
      },
      "execution_count": 84,
      "outputs": [
        {
          "output_type": "stream",
          "name": "stdout",
          "text": [
            "history.metrics_centralized = {'mse': [(0, 1.1295074224472046), (1, 0.9344395995140076), (2, 0.93443763256073), (3, 0.9327186346054077), (4, 0.7029988765716553), (5, 0.6857349276542664), (6, 0.6879400014877319), (7, 0.680474579334259), (8, 0.6786019802093506), (9, 0.680939793586731), (10, 0.6807003021240234)], 'mape': [(0, 3.9145596027374268), (1, 4.536120891571045), (2, 4.5361199378967285), (3, 4.521177291870117), (4, 3.2480885982513428), (5, 3.23286771774292), (6, 3.238367795944214), (7, 3.23012375831604), (8, 3.2295753955841064), (9, 3.2328250408172607), (10, 3.230637311935425)], 'mean_squared_logarithmic_error': [(0, 1819.6348876953125), (1, 100.03343200683594), (2, 100.02931213378906), (3, 101.188232421875), (4, 188.09091186523438), (5, 130.5594024658203), (6, 97.57640838623047), (7, 109.48358154296875), (8, 102.50862121582031), (9, 95.3652114868164), (10, 107.17658233642578)], 'R2Score': [(0, 0.37046465277671814), (1, 0.48786693811416626), (2, 0.4878677427768707), (3, 0.4824909567832947), (4, 0.17026087641716003), (5, 0.1669066995382309), (6, 0.17027324438095093), (7, 0.16683973371982574), (8, 0.16681072115898132), (9, 0.1684754192829132), (10, 0.16719582676887512)]}\n"
          ]
        }
      ]
    },
    {
      "cell_type": "code",
      "source": [
        "import matplotlib.pyplot as plt\n",
        "\n",
        "def plot_loss(history):\n",
        "  fig, (ax1, ax2, ax3, ax4, ax5) = plt.subplots(1, 5, figsize=(19, 5))\n",
        "\n",
        "  ax1.plot(pd.DataFrame(history.losses_centralized)[1], label='loss_centralizzata')\n",
        "  ax1.plot(pd.DataFrame(history.losses_distributed)[1], label='loss_distribuita')\n",
        "\n",
        "  ax2.plot(pd.DataFrame(history.metrics_centralized['mse'])[1], label='mse_centralized')\n",
        "  ax2.plot(pd.DataFrame(history.metrics_distributed['mse'])[1], label='mse_distributed')\n",
        "\n",
        "  ax3.plot(pd.DataFrame(history.metrics_centralized['mape'])[1], label='mape_centralized')\n",
        "  ax3.plot(pd.DataFrame(history.metrics_distributed['mape'])[1], label='mape_distributed')\n",
        "\n",
        "  ax4.plot(pd.DataFrame(history.metrics_centralized['mean_squared_logarithmic_error'])[1], label='mean_squared_logarithmic_error_centralized')\n",
        "  ax4.plot(pd.DataFrame(history.metrics_distributed['mean_squared_logarithmic_error'])[1], label='mean_squared_logarithmic_error_distributed')\n",
        "\n",
        "  ax5.plot(pd.DataFrame(history.metrics_centralized['R2Score'])[1], label='r2_score_centralized')\n",
        "  ax5.plot(pd.DataFrame(history.metrics_distributed['R2Score'])[1], label='r2_score_distributed')\n",
        "\n",
        "  ax1.set(xlabel='Epoch', ylabel='loss')\n",
        "  ax1.legend(loc=\"upper right\")\n",
        "  ax1.grid(True)\n",
        "\n",
        "  ax2.set(xlabel='Epoch', ylabel='mse')\n",
        "  ax2.legend(loc=\"upper right\")\n",
        "  ax2.grid(True)\n",
        "\n",
        "  ax3.set(xlabel='Epoch', ylabel='mape')\n",
        "  ax3.legend(loc=\"upper right\")\n",
        "  ax3.grid(True)\n",
        "\n",
        "  ax4.set(xlabel='Epoch', ylabel='mean_squared_logarithmic_error')\n",
        "  ax4.legend(loc=\"upper right\")\n",
        "  ax4.grid(True)\n",
        "\n",
        "  ax5.set(xlabel='Epoch', ylabel='r2_score')\n",
        "  ax5.legend(loc=\"upper right\")\n",
        "  ax5.grid(True)\n",
        "\n",
        "  fig.tight_layout()"
      ],
      "metadata": {
        "id": "aUi8DZGGtMIG"
      },
      "execution_count": 85,
      "outputs": []
    },
    {
      "cell_type": "code",
      "source": [
        "plot_loss(history)"
      ],
      "metadata": {
        "colab": {
          "base_uri": "https://localhost:8080/",
          "height": 506
        },
        "id": "l4JQD5Bswy3w",
        "outputId": "d4699a93-017a-4390-9351-346b321b2caa"
      },
      "execution_count": 86,
      "outputs": [
        {
          "output_type": "display_data",
          "data": {
            "text/plain": [
              "<Figure size 1900x500 with 5 Axes>"
            ],
            "image/png": "[encoded data removed]"
          },
          "metadata": {}
        }
      ]
    },
    {
      "cell_type": "markdown",
      "metadata": {
        "id": "LMZ1kXWAaYXi"
      },
      "source": [
        "\n",
        "Congratulations! With that, you built a Flower client, customized it's instantiation through the `client_fn`, customized the server-side execution through a `FedAvg` strategy configured for this workload, and started a simulation with 100 clients (each holding their own individual partition of the MNIST dataset).\n",
        "\n",
        "Next, you can continue to explore more advanced Flower topics:\n",
        "\n",
        "- Deploy server and clients on different machines using `start_server` and `start_client`\n",
        "- Customize the server-side execution through custom strategies\n",
        "- Customize the client-side execution through `config` dictionaries\n",
        "\n",
        "Get all resources you need!\n",
        "\n",
        "* **[DOCS]** Our complete documenation: https://flower.dev/docs/\n",
        "* **[Examples]** All Flower examples: https://flower.dev/docs/examples/\n",
        "* **[VIDEO]** Our Youtube channel: https://www.youtube.com/@flowerlabs\n",
        "\n",
        "Don't forget to join our Slack channel: https://flower.dev/join-slack/"
      ]
    }
  ],
  "metadata": {
    "colab": {
      "provenance": [],
      "collapsed_sections": [
        "Xt8wmakefh0t",
        "lhmSUSYOnnQG"
      ],
      "include_colab_link": true
    },
    "kernelspec": {
      "display_name": "Python 3 (ipykernel)",
      "language": "python",
      "name": "python3"
    },
    "widgets": {
      "application/vnd.jupyter.widget-state+json": {
        "28d1470696a34f79a5f3608dfee48ce9": {
          "model_module": "@jupyter-widgets/controls",
          "model_name": "HBoxModel",
          "model_module_version": "1.5.0",
          "state": {
            "_dom_classes": [],
            "_model_module": "@jupyter-widgets/controls",
            "_model_module_version": "1.5.0",
            "_model_name": "HBoxModel",
            "_view_count": null,
            "_view_module": "@jupyter-widgets/controls",
            "_view_module_version": "1.5.0",
            "_view_name": "HBoxView",
            "box_style": "",
            "children": [
              "IPY_MODEL_b75ea698dac54b64b13be8903aa1a3d3",
              "IPY_MODEL_f74dd6f7d3c6442cbacfd3c4ef5d15b7",
              "IPY_MODEL_e568a590219e4ab5912c4606b445597d"
            ],
            "layout": "IPY_MODEL_980e1af368954d5c95b2e8b9738b94b6"
          }
        },
        "b75ea698dac54b64b13be8903aa1a3d3": {
          "model_module": "@jupyter-widgets/controls",
          "model_name": "HTMLModel",
          "model_module_version": "1.5.0",
          "state": {
            "_dom_classes": [],
            "_model_module": "@jupyter-widgets/controls",
            "_model_module_version": "1.5.0",
            "_model_name": "HTMLModel",
            "_view_count": null,
            "_view_module": "@jupyter-widgets/controls",
            "_view_module_version": "1.5.0",
            "_view_name": "HTMLView",
            "description": "",
            "description_tooltip": null,
            "layout": "IPY_MODEL_a0f6544ee9de41f19104123c527bb86a",
            "placeholder": "​",
            "style": "IPY_MODEL_ce51bad7671e4bd18cec3edce96f0c37",
            "value": "Downloading data: 100%"
          }
        },
        "f74dd6f7d3c6442cbacfd3c4ef5d15b7": {
          "model_module": "@jupyter-widgets/controls",
          "model_name": "FloatProgressModel",
          "model_module_version": "1.5.0",
          "state": {
            "_dom_classes": [],
            "_model_module": "@jupyter-widgets/controls",
            "_model_module_version": "1.5.0",
            "_model_name": "FloatProgressModel",
            "_view_count": null,
            "_view_module": "@jupyter-widgets/controls",
            "_view_module_version": "1.5.0",
            "_view_name": "ProgressView",
            "bar_style": "success",
            "description": "",
            "description_tooltip": null,
            "layout": "IPY_MODEL_bfe3432ed70d4d52b87f4047181f0183",
            "max": 27140609,
            "min": 0,
            "orientation": "horizontal",
            "style": "IPY_MODEL_5ec9a37cc52f4c9fb640776abb752123",
            "value": 27140609
          }
        },
        "e568a590219e4ab5912c4606b445597d": {
          "model_module": "@jupyter-widgets/controls",
          "model_name": "HTMLModel",
          "model_module_version": "1.5.0",
          "state": {
            "_dom_classes": [],
            "_model_module": "@jupyter-widgets/controls",
            "_model_module_version": "1.5.0",
            "_model_name": "HTMLModel",
            "_view_count": null,
            "_view_module": "@jupyter-widgets/controls",
            "_view_module_version": "1.5.0",
            "_view_name": "HTMLView",
            "description": "",
            "description_tooltip": null,
            "layout": "IPY_MODEL_38f2c80768654c07a736a699bb63e734",
            "placeholder": "​",
            "style": "IPY_MODEL_e56acc09b32c4f6ba50bb2dce2e9e8d2",
            "value": " 27.1M/27.1M [00:01&lt;00:00, 20.2MB/s]"
          }
        },
        "980e1af368954d5c95b2e8b9738b94b6": {
          "model_module": "@jupyter-widgets/base",
          "model_name": "LayoutModel",
          "model_module_version": "1.2.0",
          "state": {
            "_model_module": "@jupyter-widgets/base",
            "_model_module_version": "1.2.0",
            "_model_name": "LayoutModel",
            "_view_count": null,
            "_view_module": "@jupyter-widgets/base",
            "_view_module_version": "1.2.0",
            "_view_name": "LayoutView",
            "align_content": null,
            "align_items": null,
            "align_self": null,
            "border": null,
            "bottom": null,
            "display": null,
            "flex": null,
            "flex_flow": null,
            "grid_area": null,
            "grid_auto_columns": null,
            "grid_auto_flow": null,
            "grid_auto_rows": null,
            "grid_column": null,
            "grid_gap": null,
            "grid_row": null,
            "grid_template_areas": null,
            "grid_template_columns": null,
            "grid_template_rows": null,
            "height": null,
            "justify_content": null,
            "justify_items": null,
            "left": null,
            "margin": null,
            "max_height": null,
            "max_width": null,
            "min_height": null,
            "min_width": null,
            "object_fit": null,
            "object_position": null,
            "order": null,
            "overflow": null,
            "overflow_x": null,
            "overflow_y": null,
            "padding": null,
            "right": null,
            "top": null,
            "visibility": null,
            "width": null
          }
        },
        "a0f6544ee9de41f19104123c527bb86a": {
          "model_module": "@jupyter-widgets/base",
          "model_name": "LayoutModel",
          "model_module_version": "1.2.0",
          "state": {
            "_model_module": "@jupyter-widgets/base",
            "_model_module_version": "1.2.0",
            "_model_name": "LayoutModel",
            "_view_count": null,
            "_view_module": "@jupyter-widgets/base",
            "_view_module_version": "1.2.0",
            "_view_name": "LayoutView",
            "align_content": null,
            "align_items": null,
            "align_self": null,
            "border": null,
            "bottom": null,
            "display": null,
            "flex": null,
            "flex_flow": null,
            "grid_area": null,
            "grid_auto_columns": null,
            "grid_auto_flow": null,
            "grid_auto_rows": null,
            "grid_column": null,
            "grid_gap": null,
            "grid_row": null,
            "grid_template_areas": null,
            "grid_template_columns": null,
            "grid_template_rows": null,
            "height": null,
            "justify_content": null,
            "justify_items": null,
            "left": null,
            "margin": null,
            "max_height": null,
            "max_width": null,
            "min_height": null,
            "min_width": null,
            "object_fit": null,
            "object_position": null,
            "order": null,
            "overflow": null,
            "overflow_x": null,
            "overflow_y": null,
            "padding": null,
            "right": null,
            "top": null,
            "visibility": null,
            "width": null
          }
        },
        "ce51bad7671e4bd18cec3edce96f0c37": {
          "model_module": "@jupyter-widgets/controls",
          "model_name": "DescriptionStyleModel",
          "model_module_version": "1.5.0",
          "state": {
            "_model_module": "@jupyter-widgets/controls",
            "_model_module_version": "1.5.0",
            "_model_name": "DescriptionStyleModel",
            "_view_count": null,
            "_view_module": "@jupyter-widgets/base",
            "_view_module_version": "1.2.0",
            "_view_name": "StyleView",
            "description_width": ""
          }
        },
        "bfe3432ed70d4d52b87f4047181f0183": {
          "model_module": "@jupyter-widgets/base",
          "model_name": "LayoutModel",
          "model_module_version": "1.2.0",
          "state": {
            "_model_module": "@jupyter-widgets/base",
            "_model_module_version": "1.2.0",
            "_model_name": "LayoutModel",
            "_view_count": null,
            "_view_module": "@jupyter-widgets/base",
            "_view_module_version": "1.2.0",
            "_view_name": "LayoutView",
            "align_content": null,
            "align_items": null,
            "align_self": null,
            "border": null,
            "bottom": null,
            "display": null,
            "flex": null,
            "flex_flow": null,
            "grid_area": null,
            "grid_auto_columns": null,
            "grid_auto_flow": null,
            "grid_auto_rows": null,
            "grid_column": null,
            "grid_gap": null,
            "grid_row": null,
            "grid_template_areas": null,
            "grid_template_columns": null,
            "grid_template_rows": null,
            "height": null,
            "justify_content": null,
            "justify_items": null,
            "left": null,
            "margin": null,
            "max_height": null,
            "max_width": null,
            "min_height": null,
            "min_width": null,
            "object_fit": null,
            "object_position": null,
            "order": null,
            "overflow": null,
            "overflow_x": null,
            "overflow_y": null,
            "padding": null,
            "right": null,
            "top": null,
            "visibility": null,
            "width": null
          }
        },
        "5ec9a37cc52f4c9fb640776abb752123": {
          "model_module": "@jupyter-widgets/controls",
          "model_name": "ProgressStyleModel",
          "model_module_version": "1.5.0",
          "state": {
            "_model_module": "@jupyter-widgets/controls",
            "_model_module_version": "1.5.0",
            "_model_name": "ProgressStyleModel",
            "_view_count": null,
            "_view_module": "@jupyter-widgets/base",
            "_view_module_version": "1.2.0",
            "_view_name": "StyleView",
            "bar_color": null,
            "description_width": ""
          }
        },
        "38f2c80768654c07a736a699bb63e734": {
          "model_module": "@jupyter-widgets/base",
          "model_name": "LayoutModel",
          "model_module_version": "1.2.0",
          "state": {
            "_model_module": "@jupyter-widgets/base",
            "_model_module_version": "1.2.0",
            "_model_name": "LayoutModel",
            "_view_count": null,
            "_view_module": "@jupyter-widgets/base",
            "_view_module_version": "1.2.0",
            "_view_name": "LayoutView",
            "align_content": null,
            "align_items": null,
            "align_self": null,
            "border": null,
            "bottom": null,
            "display": null,
            "flex": null,
            "flex_flow": null,
            "grid_area": null,
            "grid_auto_columns": null,
            "grid_auto_flow": null,
            "grid_auto_rows": null,
            "grid_column": null,
            "grid_gap": null,
            "grid_row": null,
            "grid_template_areas": null,
            "grid_template_columns": null,
            "grid_template_rows": null,
            "height": null,
            "justify_content": null,
            "justify_items": null,
            "left": null,
            "margin": null,
            "max_height": null,
            "max_width": null,
            "min_height": null,
            "min_width": null,
            "object_fit": null,
            "object_position": null,
            "order": null,
            "overflow": null,
            "overflow_x": null,
            "overflow_y": null,
            "padding": null,
            "right": null,
            "top": null,
            "visibility": null,
            "width": null
          }
        },
        "e56acc09b32c4f6ba50bb2dce2e9e8d2": {
          "model_module": "@jupyter-widgets/controls",
          "model_name": "DescriptionStyleModel",
          "model_module_version": "1.5.0",
          "state": {
            "_model_module": "@jupyter-widgets/controls",
            "_model_module_version": "1.5.0",
            "_model_name": "DescriptionStyleModel",
            "_view_count": null,
            "_view_module": "@jupyter-widgets/base",
            "_view_module_version": "1.2.0",
            "_view_name": "StyleView",
            "description_width": ""
          }
        },
        "c29b14b35cb74c6a88b3f6c2da5cac11": {
          "model_module": "@jupyter-widgets/controls",
          "model_name": "HBoxModel",
          "model_module_version": "1.5.0",
          "state": {
            "_dom_classes": [],
            "_model_module": "@jupyter-widgets/controls",
            "_model_module_version": "1.5.0",
            "_model_name": "HBoxModel",
            "_view_count": null,
            "_view_module": "@jupyter-widgets/controls",
            "_view_module_version": "1.5.0",
            "_view_name": "HBoxView",
            "box_style": "",
            "children": [
              "IPY_MODEL_1ae70c0290e542f98c68cf6cd03e9023",
              "IPY_MODEL_b30f063d01804cd69badd2908ffcc621",
              "IPY_MODEL_fba27a6aebde4fdaba04b9a900440240"
            ],
            "layout": "IPY_MODEL_433c00f1e2734ac9995749e3e10aafec"
          }
        },
        "1ae70c0290e542f98c68cf6cd03e9023": {
          "model_module": "@jupyter-widgets/controls",
          "model_name": "HTMLModel",
          "model_module_version": "1.5.0",
          "state": {
            "_dom_classes": [],
            "_model_module": "@jupyter-widgets/controls",
            "_model_module_version": "1.5.0",
            "_model_name": "HTMLModel",
            "_view_count": null,
            "_view_module": "@jupyter-widgets/controls",
            "_view_module_version": "1.5.0",
            "_view_name": "HTMLView",
            "description": "",
            "description_tooltip": null,
            "layout": "IPY_MODEL_b91b998d1198413ba5c9c741a2a9823a",
            "placeholder": "​",
            "style": "IPY_MODEL_21fa8153c29f45669e28d9fe06462876",
            "value": "Downloading data: 100%"
          }
        },
        "b30f063d01804cd69badd2908ffcc621": {
          "model_module": "@jupyter-widgets/controls",
          "model_name": "FloatProgressModel",
          "model_module_version": "1.5.0",
          "state": {
            "_dom_classes": [],
            "_model_module": "@jupyter-widgets/controls",
            "_model_module_version": "1.5.0",
            "_model_name": "FloatProgressModel",
            "_view_count": null,
            "_view_module": "@jupyter-widgets/controls",
            "_view_module_version": "1.5.0",
            "_view_name": "ProgressView",
            "bar_style": "success",
            "description": "",
            "description_tooltip": null,
            "layout": "IPY_MODEL_8c49a579b15e45b2a0d655a0841b48d8",
            "max": 6752195,
            "min": 0,
            "orientation": "horizontal",
            "style": "IPY_MODEL_dc332c6990ff4844984bfe8eebca574a",
            "value": 6752195
          }
        },
        "fba27a6aebde4fdaba04b9a900440240": {
          "model_module": "@jupyter-widgets/controls",
          "model_name": "HTMLModel",
          "model_module_version": "1.5.0",
          "state": {
            "_dom_classes": [],
            "_model_module": "@jupyter-widgets/controls",
            "_model_module_version": "1.5.0",
            "_model_name": "HTMLModel",
            "_view_count": null,
            "_view_module": "@jupyter-widgets/controls",
            "_view_module_version": "1.5.0",
            "_view_name": "HTMLView",
            "description": "",
            "description_tooltip": null,
            "layout": "IPY_MODEL_58aa88cd2d5a466699779d15c44bc0d5",
            "placeholder": "​",
            "style": "IPY_MODEL_e3f2d0fc210848f0affa8740881252f8",
            "value": " 6.75M/6.75M [00:00&lt;00:00, 11.4MB/s]"
          }
        },
        "433c00f1e2734ac9995749e3e10aafec": {
          "model_module": "@jupyter-widgets/base",
          "model_name": "LayoutModel",
          "model_module_version": "1.2.0",
          "state": {
            "_model_module": "@jupyter-widgets/base",
            "_model_module_version": "1.2.0",
            "_model_name": "LayoutModel",
            "_view_count": null,
            "_view_module": "@jupyter-widgets/base",
            "_view_module_version": "1.2.0",
            "_view_name": "LayoutView",
            "align_content": null,
            "align_items": null,
            "align_self": null,
            "border": null,
            "bottom": null,
            "display": null,
            "flex": null,
            "flex_flow": null,
            "grid_area": null,
            "grid_auto_columns": null,
            "grid_auto_flow": null,
            "grid_auto_rows": null,
            "grid_column": null,
            "grid_gap": null,
            "grid_row": null,
            "grid_template_areas": null,
            "grid_template_columns": null,
            "grid_template_rows": null,
            "height": null,
            "justify_content": null,
            "justify_items": null,
            "left": null,
            "margin": null,
            "max_height": null,
            "max_width": null,
            "min_height": null,
            "min_width": null,
            "object_fit": null,
            "object_position": null,
            "order": null,
            "overflow": null,
            "overflow_x": null,
            "overflow_y": null,
            "padding": null,
            "right": null,
            "top": null,
            "visibility": null,
            "width": null
          }
        },
        "b91b998d1198413ba5c9c741a2a9823a": {
          "model_module": "@jupyter-widgets/base",
          "model_name": "LayoutModel",
          "model_module_version": "1.2.0",
          "state": {
            "_model_module": "@jupyter-widgets/base",
            "_model_module_version": "1.2.0",
            "_model_name": "LayoutModel",
            "_view_count": null,
            "_view_module": "@jupyter-widgets/base",
            "_view_module_version": "1.2.0",
            "_view_name": "LayoutView",
            "align_content": null,
            "align_items": null,
            "align_self": null,
            "border": null,
            "bottom": null,
            "display": null,
            "flex": null,
            "flex_flow": null,
            "grid_area": null,
            "grid_auto_columns": null,
            "grid_auto_flow": null,
            "grid_auto_rows": null,
            "grid_column": null,
            "grid_gap": null,
            "grid_row": null,
            "grid_template_areas": null,
            "grid_template_columns": null,
            "grid_template_rows": null,
            "height": null,
            "justify_content": null,
            "justify_items": null,
            "left": null,
            "margin": null,
            "max_height": null,
            "max_width": null,
            "min_height": null,
            "min_width": null,
            "object_fit": null,
            "object_position": null,
            "order": null,
            "overflow": null,
            "overflow_x": null,
            "overflow_y": null,
            "padding": null,
            "right": null,
            "top": null,
            "visibility": null,
            "width": null
          }
        },
        "21fa8153c29f45669e28d9fe06462876": {
          "model_module": "@jupyter-widgets/controls",
          "model_name": "DescriptionStyleModel",
          "model_module_version": "1.5.0",
          "state": {
            "_model_module": "@jupyter-widgets/controls",
            "_model_module_version": "1.5.0",
            "_model_name": "DescriptionStyleModel",
            "_view_count": null,
            "_view_module": "@jupyter-widgets/base",
            "_view_module_version": "1.2.0",
            "_view_name": "StyleView",
            "description_width": ""
          }
        },
        "8c49a579b15e45b2a0d655a0841b48d8": {
          "model_module": "@jupyter-widgets/base",
          "model_name": "LayoutModel",
          "model_module_version": "1.2.0",
          "state": {
            "_model_module": "@jupyter-widgets/base",
            "_model_module_version": "1.2.0",
            "_model_name": "LayoutModel",
            "_view_count": null,
            "_view_module": "@jupyter-widgets/base",
            "_view_module_version": "1.2.0",
            "_view_name": "LayoutView",
            "align_content": null,
            "align_items": null,
            "align_self": null,
            "border": null,
            "bottom": null,
            "display": null,
            "flex": null,
            "flex_flow": null,
            "grid_area": null,
            "grid_auto_columns": null,
            "grid_auto_flow": null,
            "grid_auto_rows": null,
            "grid_column": null,
            "grid_gap": null,
            "grid_row": null,
            "grid_template_areas": null,
            "grid_template_columns": null,
            "grid_template_rows": null,
            "height": null,
            "justify_content": null,
            "justify_items": null,
            "left": null,
            "margin": null,
            "max_height": null,
            "max_width": null,
            "min_height": null,
            "min_width": null,
            "object_fit": null,
            "object_position": null,
            "order": null,
            "overflow": null,
            "overflow_x": null,
            "overflow_y": null,
            "padding": null,
            "right": null,
            "top": null,
            "visibility": null,
            "width": null
          }
        },
        "dc332c6990ff4844984bfe8eebca574a": {
          "model_module": "@jupyter-widgets/controls",
          "model_name": "ProgressStyleModel",
          "model_module_version": "1.5.0",
          "state": {
            "_model_module": "@jupyter-widgets/controls",
            "_model_module_version": "1.5.0",
            "_model_name": "ProgressStyleModel",
            "_view_count": null,
            "_view_module": "@jupyter-widgets/base",
            "_view_module_version": "1.2.0",
            "_view_name": "StyleView",
            "bar_color": null,
            "description_width": ""
          }
        },
        "58aa88cd2d5a466699779d15c44bc0d5": {
          "model_module": "@jupyter-widgets/base",
          "model_name": "LayoutModel",
          "model_module_version": "1.2.0",
          "state": {
            "_model_module": "@jupyter-widgets/base",
            "_model_module_version": "1.2.0",
            "_model_name": "LayoutModel",
            "_view_count": null,
            "_view_module": "@jupyter-widgets/base",
            "_view_module_version": "1.2.0",
            "_view_name": "LayoutView",
            "align_content": null,
            "align_items": null,
            "align_self": null,
            "border": null,
            "bottom": null,
            "display": null,
            "flex": null,
            "flex_flow": null,
            "grid_area": null,
            "grid_auto_columns": null,
            "grid_auto_flow": null,
            "grid_auto_rows": null,
            "grid_column": null,
            "grid_gap": null,
            "grid_row": null,
            "grid_template_areas": null,
            "grid_template_columns": null,
            "grid_template_rows": null,
            "height": null,
            "justify_content": null,
            "justify_items": null,
            "left": null,
            "margin": null,
            "max_height": null,
            "max_width": null,
            "min_height": null,
            "min_width": null,
            "object_fit": null,
            "object_position": null,
            "order": null,
            "overflow": null,
            "overflow_x": null,
            "overflow_y": null,
            "padding": null,
            "right": null,
            "top": null,
            "visibility": null,
            "width": null
          }
        },
        "e3f2d0fc210848f0affa8740881252f8": {
          "model_module": "@jupyter-widgets/controls",
          "model_name": "DescriptionStyleModel",
          "model_module_version": "1.5.0",
          "state": {
            "_model_module": "@jupyter-widgets/controls",
            "_model_module_version": "1.5.0",
            "_model_name": "DescriptionStyleModel",
            "_view_count": null,
            "_view_module": "@jupyter-widgets/base",
            "_view_module_version": "1.2.0",
            "_view_name": "StyleView",
            "description_width": ""
          }
        },
        "5c3447d2b0874e63b99e381a12cef0ab": {
          "model_module": "@jupyter-widgets/controls",
          "model_name": "HBoxModel",
          "model_module_version": "1.5.0",
          "state": {
            "_dom_classes": [],
            "_model_module": "@jupyter-widgets/controls",
            "_model_module_version": "1.5.0",
            "_model_name": "HBoxModel",
            "_view_count": null,
            "_view_module": "@jupyter-widgets/controls",
            "_view_module_version": "1.5.0",
            "_view_name": "HBoxView",
            "box_style": "",
            "children": [
              "IPY_MODEL_f9aa3fbe2e4244cc82f51c7ed3b22468",
              "IPY_MODEL_f8b3a8a1ac2649f88115a8c6208a2a09",
              "IPY_MODEL_6507717aca7841c7a9918f86b35f04b6"
            ],
            "layout": "IPY_MODEL_9f16757d2c354801b5718b0af0e124d9"
          }
        },
        "f9aa3fbe2e4244cc82f51c7ed3b22468": {
          "model_module": "@jupyter-widgets/controls",
          "model_name": "HTMLModel",
          "model_module_version": "1.5.0",
          "state": {
            "_dom_classes": [],
            "_model_module": "@jupyter-widgets/controls",
            "_model_module_version": "1.5.0",
            "_model_name": "HTMLModel",
            "_view_count": null,
            "_view_module": "@jupyter-widgets/controls",
            "_view_module_version": "1.5.0",
            "_view_name": "HTMLView",
            "description": "",
            "description_tooltip": null,
            "layout": "IPY_MODEL_3f1375ff1e0f4ac195cad436450b49e7",
            "placeholder": "​",
            "style": "IPY_MODEL_5bbdb739707244e7a3379ccc720edc73",
            "value": "Generating train split: "
          }
        },
        "f8b3a8a1ac2649f88115a8c6208a2a09": {
          "model_module": "@jupyter-widgets/controls",
          "model_name": "FloatProgressModel",
          "model_module_version": "1.5.0",
          "state": {
            "_dom_classes": [],
            "_model_module": "@jupyter-widgets/controls",
            "_model_module_version": "1.5.0",
            "_model_name": "FloatProgressModel",
            "_view_count": null,
            "_view_module": "@jupyter-widgets/controls",
            "_view_module_version": "1.5.0",
            "_view_name": "ProgressView",
            "bar_style": "success",
            "description": "",
            "description_tooltip": null,
            "layout": "IPY_MODEL_58d20548b0d047369c13d434a9feb31d",
            "max": 1,
            "min": 0,
            "orientation": "horizontal",
            "style": "IPY_MODEL_7efa20a1d7564c39ad0aebb94b1b66d0",
            "value": 1
          }
        },
        "6507717aca7841c7a9918f86b35f04b6": {
          "model_module": "@jupyter-widgets/controls",
          "model_name": "HTMLModel",
          "model_module_version": "1.5.0",
          "state": {
            "_dom_classes": [],
            "_model_module": "@jupyter-widgets/controls",
            "_model_module_version": "1.5.0",
            "_model_name": "HTMLModel",
            "_view_count": null,
            "_view_module": "@jupyter-widgets/controls",
            "_view_module_version": "1.5.0",
            "_view_name": "HTMLView",
            "description": "",
            "description_tooltip": null,
            "layout": "IPY_MODEL_fbef0e37a3d34e64b7470342c2b7a450",
            "placeholder": "​",
            "style": "IPY_MODEL_3759e2934a984525bbd13c0df2bbb359",
            "value": " 193280/0 [00:01&lt;00:00, 123826.48 examples/s]"
          }
        },
        "9f16757d2c354801b5718b0af0e124d9": {
          "model_module": "@jupyter-widgets/base",
          "model_name": "LayoutModel",
          "model_module_version": "1.2.0",
          "state": {
            "_model_module": "@jupyter-widgets/base",
            "_model_module_version": "1.2.0",
            "_model_name": "LayoutModel",
            "_view_count": null,
            "_view_module": "@jupyter-widgets/base",
            "_view_module_version": "1.2.0",
            "_view_name": "LayoutView",
            "align_content": null,
            "align_items": null,
            "align_self": null,
            "border": null,
            "bottom": null,
            "display": null,
            "flex": null,
            "flex_flow": null,
            "grid_area": null,
            "grid_auto_columns": null,
            "grid_auto_flow": null,
            "grid_auto_rows": null,
            "grid_column": null,
            "grid_gap": null,
            "grid_row": null,
            "grid_template_areas": null,
            "grid_template_columns": null,
            "grid_template_rows": null,
            "height": null,
            "justify_content": null,
            "justify_items": null,
            "left": null,
            "margin": null,
            "max_height": null,
            "max_width": null,
            "min_height": null,
            "min_width": null,
            "object_fit": null,
            "object_position": null,
            "order": null,
            "overflow": null,
            "overflow_x": null,
            "overflow_y": null,
            "padding": null,
            "right": null,
            "top": null,
            "visibility": null,
            "width": null
          }
        },
        "3f1375ff1e0f4ac195cad436450b49e7": {
          "model_module": "@jupyter-widgets/base",
          "model_name": "LayoutModel",
          "model_module_version": "1.2.0",
          "state": {
            "_model_module": "@jupyter-widgets/base",
            "_model_module_version": "1.2.0",
            "_model_name": "LayoutModel",
            "_view_count": null,
            "_view_module": "@jupyter-widgets/base",
            "_view_module_version": "1.2.0",
            "_view_name": "LayoutView",
            "align_content": null,
            "align_items": null,
            "align_self": null,
            "border": null,
            "bottom": null,
            "display": null,
            "flex": null,
            "flex_flow": null,
            "grid_area": null,
            "grid_auto_columns": null,
            "grid_auto_flow": null,
            "grid_auto_rows": null,
            "grid_column": null,
            "grid_gap": null,
            "grid_row": null,
            "grid_template_areas": null,
            "grid_template_columns": null,
            "grid_template_rows": null,
            "height": null,
            "justify_content": null,
            "justify_items": null,
            "left": null,
            "margin": null,
            "max_height": null,
            "max_width": null,
            "min_height": null,
            "min_width": null,
            "object_fit": null,
            "object_position": null,
            "order": null,
            "overflow": null,
            "overflow_x": null,
            "overflow_y": null,
            "padding": null,
            "right": null,
            "top": null,
            "visibility": null,
            "width": null
          }
        },
        "5bbdb739707244e7a3379ccc720edc73": {
          "model_module": "@jupyter-widgets/controls",
          "model_name": "DescriptionStyleModel",
          "model_module_version": "1.5.0",
          "state": {
            "_model_module": "@jupyter-widgets/controls",
            "_model_module_version": "1.5.0",
            "_model_name": "DescriptionStyleModel",
            "_view_count": null,
            "_view_module": "@jupyter-widgets/base",
            "_view_module_version": "1.2.0",
            "_view_name": "StyleView",
            "description_width": ""
          }
        },
        "58d20548b0d047369c13d434a9feb31d": {
          "model_module": "@jupyter-widgets/base",
          "model_name": "LayoutModel",
          "model_module_version": "1.2.0",
          "state": {
            "_model_module": "@jupyter-widgets/base",
            "_model_module_version": "1.2.0",
            "_model_name": "LayoutModel",
            "_view_count": null,
            "_view_module": "@jupyter-widgets/base",
            "_view_module_version": "1.2.0",
            "_view_name": "LayoutView",
            "align_content": null,
            "align_items": null,
            "align_self": null,
            "border": null,
            "bottom": null,
            "display": null,
            "flex": null,
            "flex_flow": null,
            "grid_area": null,
            "grid_auto_columns": null,
            "grid_auto_flow": null,
            "grid_auto_rows": null,
            "grid_column": null,
            "grid_gap": null,
            "grid_row": null,
            "grid_template_areas": null,
            "grid_template_columns": null,
            "grid_template_rows": null,
            "height": null,
            "justify_content": null,
            "justify_items": null,
            "left": null,
            "margin": null,
            "max_height": null,
            "max_width": null,
            "min_height": null,
            "min_width": null,
            "object_fit": null,
            "object_position": null,
            "order": null,
            "overflow": null,
            "overflow_x": null,
            "overflow_y": null,
            "padding": null,
            "right": null,
            "top": null,
            "visibility": null,
            "width": "20px"
          }
        },
        "7efa20a1d7564c39ad0aebb94b1b66d0": {
          "model_module": "@jupyter-widgets/controls",
          "model_name": "ProgressStyleModel",
          "model_module_version": "1.5.0",
          "state": {
            "_model_module": "@jupyter-widgets/controls",
            "_model_module_version": "1.5.0",
            "_model_name": "ProgressStyleModel",
            "_view_count": null,
            "_view_module": "@jupyter-widgets/base",
            "_view_module_version": "1.2.0",
            "_view_name": "StyleView",
            "bar_color": null,
            "description_width": ""
          }
        },
        "fbef0e37a3d34e64b7470342c2b7a450": {
          "model_module": "@jupyter-widgets/base",
          "model_name": "LayoutModel",
          "model_module_version": "1.2.0",
          "state": {
            "_model_module": "@jupyter-widgets/base",
            "_model_module_version": "1.2.0",
            "_model_name": "LayoutModel",
            "_view_count": null,
            "_view_module": "@jupyter-widgets/base",
            "_view_module_version": "1.2.0",
            "_view_name": "LayoutView",
            "align_content": null,
            "align_items": null,
            "align_self": null,
            "border": null,
            "bottom": null,
            "display": null,
            "flex": null,
            "flex_flow": null,
            "grid_area": null,
            "grid_auto_columns": null,
            "grid_auto_flow": null,
            "grid_auto_rows": null,
            "grid_column": null,
            "grid_gap": null,
            "grid_row": null,
            "grid_template_areas": null,
            "grid_template_columns": null,
            "grid_template_rows": null,
            "height": null,
            "justify_content": null,
            "justify_items": null,
            "left": null,
            "margin": null,
            "max_height": null,
            "max_width": null,
            "min_height": null,
            "min_width": null,
            "object_fit": null,
            "object_position": null,
            "order": null,
            "overflow": null,
            "overflow_x": null,
            "overflow_y": null,
            "padding": null,
            "right": null,
            "top": null,
            "visibility": null,
            "width": null
          }
        },
        "3759e2934a984525bbd13c0df2bbb359": {
          "model_module": "@jupyter-widgets/controls",
          "model_name": "DescriptionStyleModel",
          "model_module_version": "1.5.0",
          "state": {
            "_model_module": "@jupyter-widgets/controls",
            "_model_module_version": "1.5.0",
            "_model_name": "DescriptionStyleModel",
            "_view_count": null,
            "_view_module": "@jupyter-widgets/base",
            "_view_module_version": "1.2.0",
            "_view_name": "StyleView",
            "description_width": ""
          }
        },
        "fb4262d3b7d844a6af089506b8851866": {
          "model_module": "@jupyter-widgets/controls",
          "model_name": "HBoxModel",
          "model_module_version": "1.5.0",
          "state": {
            "_dom_classes": [],
            "_model_module": "@jupyter-widgets/controls",
            "_model_module_version": "1.5.0",
            "_model_name": "HBoxModel",
            "_view_count": null,
            "_view_module": "@jupyter-widgets/controls",
            "_view_module_version": "1.5.0",
            "_view_name": "HBoxView",
            "box_style": "",
            "children": [
              "IPY_MODEL_c9896e7417f144d19782ffdce5566226",
              "IPY_MODEL_6861d52ca42f4dc0947c4769b55a8b34",
              "IPY_MODEL_cf1ffde0ebd84f809752d24a09bf6062"
            ],
            "layout": "IPY_MODEL_42c332d617244297bfc2955d33dd749a"
          }
        },
        "c9896e7417f144d19782ffdce5566226": {
          "model_module": "@jupyter-widgets/controls",
          "model_name": "HTMLModel",
          "model_module_version": "1.5.0",
          "state": {
            "_dom_classes": [],
            "_model_module": "@jupyter-widgets/controls",
            "_model_module_version": "1.5.0",
            "_model_name": "HTMLModel",
            "_view_count": null,
            "_view_module": "@jupyter-widgets/controls",
            "_view_module_version": "1.5.0",
            "_view_name": "HTMLView",
            "description": "",
            "description_tooltip": null,
            "layout": "IPY_MODEL_4d6c80870a1c4ebf872941a0103babba",
            "placeholder": "​",
            "style": "IPY_MODEL_f65c23306a174f01a5f22bf78a1730ac",
            "value": "Generating test split: "
          }
        },
        "6861d52ca42f4dc0947c4769b55a8b34": {
          "model_module": "@jupyter-widgets/controls",
          "model_name": "FloatProgressModel",
          "model_module_version": "1.5.0",
          "state": {
            "_dom_classes": [],
            "_model_module": "@jupyter-widgets/controls",
            "_model_module_version": "1.5.0",
            "_model_name": "FloatProgressModel",
            "_view_count": null,
            "_view_module": "@jupyter-widgets/controls",
            "_view_module_version": "1.5.0",
            "_view_name": "ProgressView",
            "bar_style": "success",
            "description": "",
            "description_tooltip": null,
            "layout": "IPY_MODEL_9be139d2dd974aa8826a07f911210122",
            "max": 1,
            "min": 0,
            "orientation": "horizontal",
            "style": "IPY_MODEL_3a9d4eb5eb254fafae59b051030ee703",
            "value": 1
          }
        },
        "cf1ffde0ebd84f809752d24a09bf6062": {
          "model_module": "@jupyter-widgets/controls",
          "model_name": "HTMLModel",
          "model_module_version": "1.5.0",
          "state": {
            "_dom_classes": [],
            "_model_module": "@jupyter-widgets/controls",
            "_model_module_version": "1.5.0",
            "_model_name": "HTMLModel",
            "_view_count": null,
            "_view_module": "@jupyter-widgets/controls",
            "_view_module_version": "1.5.0",
            "_view_name": "HTMLView",
            "description": "",
            "description_tooltip": null,
            "layout": "IPY_MODEL_4700e6f7612b4cb69b438645b4d135cc",
            "placeholder": "​",
            "style": "IPY_MODEL_49f8a5931c34476bba72f823479b5d65",
            "value": " 48320/0 [00:00&lt;00:00, 129386.86 examples/s]"
          }
        },
        "42c332d617244297bfc2955d33dd749a": {
          "model_module": "@jupyter-widgets/base",
          "model_name": "LayoutModel",
          "model_module_version": "1.2.0",
          "state": {
            "_model_module": "@jupyter-widgets/base",
            "_model_module_version": "1.2.0",
            "_model_name": "LayoutModel",
            "_view_count": null,
            "_view_module": "@jupyter-widgets/base",
            "_view_module_version": "1.2.0",
            "_view_name": "LayoutView",
            "align_content": null,
            "align_items": null,
            "align_self": null,
            "border": null,
            "bottom": null,
            "display": null,
            "flex": null,
            "flex_flow": null,
            "grid_area": null,
            "grid_auto_columns": null,
            "grid_auto_flow": null,
            "grid_auto_rows": null,
            "grid_column": null,
            "grid_gap": null,
            "grid_row": null,
            "grid_template_areas": null,
            "grid_template_columns": null,
            "grid_template_rows": null,
            "height": null,
            "justify_content": null,
            "justify_items": null,
            "left": null,
            "margin": null,
            "max_height": null,
            "max_width": null,
            "min_height": null,
            "min_width": null,
            "object_fit": null,
            "object_position": null,
            "order": null,
            "overflow": null,
            "overflow_x": null,
            "overflow_y": null,
            "padding": null,
            "right": null,
            "top": null,
            "visibility": null,
            "width": null
          }
        },
        "4d6c80870a1c4ebf872941a0103babba": {
          "model_module": "@jupyter-widgets/base",
          "model_name": "LayoutModel",
          "model_module_version": "1.2.0",
          "state": {
            "_model_module": "@jupyter-widgets/base",
            "_model_module_version": "1.2.0",
            "_model_name": "LayoutModel",
            "_view_count": null,
            "_view_module": "@jupyter-widgets/base",
            "_view_module_version": "1.2.0",
            "_view_name": "LayoutView",
            "align_content": null,
            "align_items": null,
            "align_self": null,
            "border": null,
            "bottom": null,
            "display": null,
            "flex": null,
            "flex_flow": null,
            "grid_area": null,
            "grid_auto_columns": null,
            "grid_auto_flow": null,
            "grid_auto_rows": null,
            "grid_column": null,
            "grid_gap": null,
            "grid_row": null,
            "grid_template_areas": null,
            "grid_template_columns": null,
            "grid_template_rows": null,
            "height": null,
            "justify_content": null,
            "justify_items": null,
            "left": null,
            "margin": null,
            "max_height": null,
            "max_width": null,
            "min_height": null,
            "min_width": null,
            "object_fit": null,
            "object_position": null,
            "order": null,
            "overflow": null,
            "overflow_x": null,
            "overflow_y": null,
            "padding": null,
            "right": null,
            "top": null,
            "visibility": null,
            "width": null
          }
        },
        "f65c23306a174f01a5f22bf78a1730ac": {
          "model_module": "@jupyter-widgets/controls",
          "model_name": "DescriptionStyleModel",
          "model_module_version": "1.5.0",
          "state": {
            "_model_module": "@jupyter-widgets/controls",
            "_model_module_version": "1.5.0",
            "_model_name": "DescriptionStyleModel",
            "_view_count": null,
            "_view_module": "@jupyter-widgets/base",
            "_view_module_version": "1.2.0",
            "_view_name": "StyleView",
            "description_width": ""
          }
        },
        "9be139d2dd974aa8826a07f911210122": {
          "model_module": "@jupyter-widgets/base",
          "model_name": "LayoutModel",
          "model_module_version": "1.2.0",
          "state": {
            "_model_module": "@jupyter-widgets/base",
            "_model_module_version": "1.2.0",
            "_model_name": "LayoutModel",
            "_view_count": null,
            "_view_module": "@jupyter-widgets/base",
            "_view_module_version": "1.2.0",
            "_view_name": "LayoutView",
            "align_content": null,
            "align_items": null,
            "align_self": null,
            "border": null,
            "bottom": null,
            "display": null,
            "flex": null,
            "flex_flow": null,
            "grid_area": null,
            "grid_auto_columns": null,
            "grid_auto_flow": null,
            "grid_auto_rows": null,
            "grid_column": null,
            "grid_gap": null,
            "grid_row": null,
            "grid_template_areas": null,
            "grid_template_columns": null,
            "grid_template_rows": null,
            "height": null,
            "justify_content": null,
            "justify_items": null,
            "left": null,
            "margin": null,
            "max_height": null,
            "max_width": null,
            "min_height": null,
            "min_width": null,
            "object_fit": null,
            "object_position": null,
            "order": null,
            "overflow": null,
            "overflow_x": null,
            "overflow_y": null,
            "padding": null,
            "right": null,
            "top": null,
            "visibility": null,
            "width": "20px"
          }
        },
        "3a9d4eb5eb254fafae59b051030ee703": {
          "model_module": "@jupyter-widgets/controls",
          "model_name": "ProgressStyleModel",
          "model_module_version": "1.5.0",
          "state": {
            "_model_module": "@jupyter-widgets/controls",
            "_model_module_version": "1.5.0",
            "_model_name": "ProgressStyleModel",
            "_view_count": null,
            "_view_module": "@jupyter-widgets/base",
            "_view_module_version": "1.2.0",
            "_view_name": "StyleView",
            "bar_color": null,
            "description_width": ""
          }
        },
        "4700e6f7612b4cb69b438645b4d135cc": {
          "model_module": "@jupyter-widgets/base",
          "model_name": "LayoutModel",
          "model_module_version": "1.2.0",
          "state": {
            "_model_module": "@jupyter-widgets/base",
            "_model_module_version": "1.2.0",
            "_model_name": "LayoutModel",
            "_view_count": null,
            "_view_module": "@jupyter-widgets/base",
            "_view_module_version": "1.2.0",
            "_view_name": "LayoutView",
            "align_content": null,
            "align_items": null,
            "align_self": null,
            "border": null,
            "bottom": null,
            "display": null,
            "flex": null,
            "flex_flow": null,
            "grid_area": null,
            "grid_auto_columns": null,
            "grid_auto_flow": null,
            "grid_auto_rows": null,
            "grid_column": null,
            "grid_gap": null,
            "grid_row": null,
            "grid_template_areas": null,
            "grid_template_columns": null,
            "grid_template_rows": null,
            "height": null,
            "justify_content": null,
            "justify_items": null,
            "left": null,
            "margin": null,
            "max_height": null,
            "max_width": null,
            "min_height": null,
            "min_width": null,
            "object_fit": null,
            "object_position": null,
            "order": null,
            "overflow": null,
            "overflow_x": null,
            "overflow_y": null,
            "padding": null,
            "right": null,
            "top": null,
            "visibility": null,
            "width": null
          }
        },
        "49f8a5931c34476bba72f823479b5d65": {
          "model_module": "@jupyter-widgets/controls",
          "model_name": "DescriptionStyleModel",
          "model_module_version": "1.5.0",
          "state": {
            "_model_module": "@jupyter-widgets/controls",
            "_model_module_version": "1.5.0",
            "_model_name": "DescriptionStyleModel",
            "_view_count": null,
            "_view_module": "@jupyter-widgets/base",
            "_view_module_version": "1.2.0",
            "_view_name": "StyleView",
            "description_width": ""
          }
        }
      }
    }
  },
  "nbformat": 4,
  "nbformat_minor": 0
}