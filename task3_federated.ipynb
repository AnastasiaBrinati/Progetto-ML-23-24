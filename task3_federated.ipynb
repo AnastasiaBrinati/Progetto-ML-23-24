{
  "cells": [
    {
      "cell_type": "markdown",
      "metadata": {
        "id": "view-in-github",
        "colab_type": "text"
      },
      "source": [
        "<a href=\"https://colab.research.google.com/github/AnastasiaBrinati/Progetto-ML-23-24/blob/main/task3_federated.ipynb\" target=\"_parent\"><img src=\"https://colab.research.google.com/assets/colab-badge.svg\" alt=\"Open In Colab\"/></a>"
      ]
    },
    {
      "cell_type": "markdown",
      "source": [
        "#### imports"
      ],
      "metadata": {
        "id": "nF-8q05504Gr"
      }
    },
    {
      "cell_type": "code",
      "execution_count": null,
      "metadata": {
        "id": "kmT3h0MVmpVY"
      },
      "outputs": [],
      "source": [
        "!pip install -q flwr[\"simulation\"] tensorflow\n",
        "!pip install -q flwr_datasets[\"vision\"]"
      ]
    },
    {
      "cell_type": "code",
      "execution_count": null,
      "metadata": {
        "id": "zK65C1qLmpVb"
      },
      "outputs": [],
      "source": [
        "!pip install matplotlib"
      ]
    },
    {
      "cell_type": "code",
      "execution_count": null,
      "metadata": {
        "id": "-Rl6-aNOmpVc"
      },
      "outputs": [],
      "source": [
        "from typing import Dict, List, Tuple\n",
        "\n",
        "import tensorflow as tf\n",
        "\n",
        "import flwr as fl\n",
        "from flwr.common import Metrics\n",
        "from flwr.simulation.ray_transport.utils import enable_tf_gpu_growth\n",
        "\n",
        "from datasets import Dataset\n",
        "from flwr_datasets import FederatedDataset\n",
        "\n",
        "VERBOSE = 0\n",
        "NUM_CLIENTS = 100"
      ]
    },
    {
      "cell_type": "code",
      "source": [
        "from sklearn.metrics import confusion_matrix"
      ],
      "metadata": {
        "id": "s47t35XLHEYe"
      },
      "execution_count": null,
      "outputs": []
    },
    {
      "cell_type": "markdown",
      "source": [
        "#### model"
      ],
      "metadata": {
        "id": "GE3pMhfB06vd"
      }
    },
    {
      "cell_type": "markdown",
      "metadata": {
        "id": "K3FlI9HYmpVc"
      },
      "source": [
        "Let's start by defining the model we want to federated. Since we will be working with MNIST, using a fully connected model is sufficient. You can of course customize this model."
      ]
    },
    {
      "cell_type": "code",
      "execution_count": null,
      "metadata": {
        "id": "9AuoMH0gmpVd"
      },
      "outputs": [],
      "source": [
        "def get_model():\n",
        "    \"\"\"Constructs a simple model architecture suitable for MNIST.\"\"\"\n",
        "    model = tf.keras.models.Sequential(\n",
        "        [\n",
        "            tf.keras.layers.Flatten(input_shape=(28, 28)),\n",
        "            tf.keras.layers.Dense(128, activation=\"relu\"),\n",
        "            tf.keras.layers.Dropout(0.2),\n",
        "            tf.keras.layers.Dense(10, activation=\"softmax\"),\n",
        "        ]\n",
        "    )\n",
        "    model.compile(\"adam\", \"sparse_categorical_crossentropy\", metrics=[\"accuracy\", \"categorical_accuracy\", \"top_k_categorical_accuracy\"])\n",
        "    return model"
      ]
    },
    {
      "cell_type": "markdown",
      "source": [
        "#### client"
      ],
      "metadata": {
        "id": "9sqXxFCBMNGV"
      }
    },
    {
      "cell_type": "markdown",
      "metadata": {
        "id": "My40tunVmpVd"
      },
      "source": [
        "With that out of the way, let's move on to the interesting bits. Federated learning systems consist of a server and multiple clients. In Flower, we create clients by implementing subclasses of `flwr.client.Client` or `flwr.client.NumPyClient`. We use `NumPyClient` in this tutorial because it is easier to implement and requires us to write less boilerplate.\n",
        "\n",
        "To implement the Flower client, we create a subclass of `flwr.client.NumPyClient` and implement the three methods `get_parameters`, `fit`, and `evaluate`:\n",
        "\n",
        "- `get_parameters`: Return the current local model parameters\n",
        "- `fit`: Receive model parameters from the server, train the model parameters on the local data, and return the (updated) model parameters to the server\n",
        "- `evaluate`: Received model parameters from the server, evaluate the model parameters on the local data, and return the evaluation result to the server\n",
        "\n",
        "We mentioned that our clients will use TensorFlow/Keras for the model training and evaluation. Keras models provide methods that make the implementation straightforward: we can update the local model with server-provides parameters through `model.set_weights`, we can train/evaluate the model through `fit/evaluate`, and we can get the updated model parameters through `model.get_weights`.\n",
        "\n",
        "Let's see a simple implementation:"
      ]
    },
    {
      "cell_type": "code",
      "execution_count": null,
      "metadata": {
        "id": "hpEIlaJ8mpVf"
      },
      "outputs": [],
      "source": [
        "class FlowerClient(fl.client.NumPyClient):\n",
        "    def __init__(self, trainset, valset) -> None:\n",
        "        # Create model\n",
        "        self.model = get_model()\n",
        "        self.trainset = trainset\n",
        "        self.valset = valset\n",
        "\n",
        "    def get_parameters(self, config):\n",
        "        return self.model.get_weights()\n",
        "\n",
        "    def fit(self, parameters, config):\n",
        "        self.model.set_weights(parameters)\n",
        "        self.model.fit(self.trainset, epochs=1, verbose=VERBOSE)\n",
        "        return self.model.get_weights(), len(self.trainset), {}\n",
        "\n",
        "    def evaluate(self, parameters, config):\n",
        "        self.model.set_weights(parameters)\n",
        "        results = self.model.evaluate(self.valset, verbose=VERBOSE)\n",
        "\n",
        "        loss = results[0]\n",
        "        acc = results[1]\n",
        "        cat_acc = results[2]\n",
        "        topk_acc = results[3]\n",
        "\n",
        "        return loss, len(self.valset), {\"loss\": loss, \"accuracy\": acc, \"cat_acc\": cat_acc, \"topk_acc\" : topk_acc}"
      ]
    },
    {
      "cell_type": "markdown",
      "metadata": {
        "id": "SaZJK4UdmpVg"
      },
      "source": [
        "Our class `FlowerClient` defines how local training/evaluation will be performed and allows Flower to call the local training/evaluation through `fit` and `evaluate`. Each instance of `FlowerClient` represents a *single client* in our federated learning system. Federated learning systems have multiple clients (otherwise, there's not much to federate, is there?), so each client will be represented by its own instance of `FlowerClient`. If we have, for example, three clients in our workload, we'd have three instances of `FlowerClient`. Flower calls `FlowerClient.fit` on the respective instance when the server selects a particular client for training (and `FlowerClient.evaluate` for evaluation).\n",
        "\n",
        "In this notebook, we want to simulate a federated learning system with 100 clients on a single machine. This means that the server and all 100 clients will live on a single machine and share resources such as CPU, GPU, and memory. Having 100 clients would mean having 100 instances of `FlowerClient` in memory. Doing this on a single machine can quickly exhaust the available memory resources, even if only a subset of these clients participates in a single round of federated learning.\n",
        "\n",
        "In addition to the regular capabilities where server and clients run on multiple machines, Flower, therefore, provides special simulation capabilities that create `FlowerClient` instances only when they are actually necessary for training or evaluation. To enable the Flower framework to create clients when necessary, we need to implement a function called `client_fn` that creates a `FlowerClient` instance on demand. Flower calls `client_fn` whenever it needs an instance of one particular client to call `fit` or `evaluate` (those instances are usually discarded after use). Clients are identified by a client ID, or short `cid`. The `cid` can be used, for example, to load different local data partitions for each client"
      ]
    },
    {
      "cell_type": "markdown",
      "metadata": {
        "id": "wOLsxrwdmpVg"
      },
      "source": [
        "We now define four auxiliary functions for this example (note the last two are entirely optional):\n",
        "* `get_client_fn()`: Is a function that returns another function. The returned `client_fn` will be executed by Flower's VirtualClientEngine each time a new _virtual_ client (i.e. a client that is simulated in a Python process) needs to be spawn. When are virtual clients spawned? Each time the strategy samples them to do either `fit()` (i.e. train the global model on the local data of a particular client) or `evaluate()` (i.e. evaluate the global model on the validation set of a given client).\n",
        "\n",
        "* `weighted_average()`: This is an optional function to pass to the strategy. It will be executed after an evaluation round (i.e. when client run `evaluate()`) and will aggregate the metrics clients return. In this example, we use this function to compute the weighted average accuracy of clients doing `evaluate()`.\n",
        "\n",
        "* `get_evaluate_fn()`: This is again a function that returns another function. The returned function will be executed by the strategy at the end of a `fit()` round and after a new global model has been obtained after aggregation. This is an optional argument for Flower strategies. In this example, we use the whole MNIST test set to perform this server-side evaluation."
      ]
    },
    {
      "cell_type": "code",
      "source": [
        "def get_client_fn(dataset: FederatedDataset):\n",
        "    \"\"\"Return a function to construct a client.\n",
        "\n",
        "    The VirtualClientEngine will execute this function whenever a client is sampled by\n",
        "    the strategy to participate.\n",
        "    \"\"\"\n",
        "\n",
        "    def client_fn(cid: str) -> fl.client.Client:\n",
        "        \"\"\"Construct a FlowerClient with its own dataset partition.\"\"\"\n",
        "\n",
        "        # Extract partition for client with id = cid\n",
        "        client_dataset = dataset.load_partition(int(cid), \"train\")\n",
        "\n",
        "        # Now let's split it into train (90%) and validation (10%)\n",
        "        client_dataset_splits = client_dataset.train_test_split(test_size=0.1)\n",
        "\n",
        "        trainset = client_dataset_splits[\"train\"].to_tf_dataset(\n",
        "            columns=\"image\", label_cols=\"label\", batch_size=32\n",
        "        )\n",
        "        valset = client_dataset_splits[\"test\"].to_tf_dataset(\n",
        "            columns=\"image\", label_cols=\"label\", batch_size=64\n",
        "        )\n",
        "\n",
        "        # Create and return client\n",
        "        return FlowerClient(trainset, valset).to_client()\n",
        "\n",
        "    return client_fn"
      ],
      "metadata": {
        "id": "heul0RbV1RJl"
      },
      "execution_count": null,
      "outputs": []
    },
    {
      "cell_type": "code",
      "source": [
        "def weighted_average(metrics: List[Tuple[int, Metrics]]) -> Metrics:\n",
        "    \"\"\"Aggregation function for (federated) evaluation metrics, i.e. those returned by\n",
        "    the client's evaluate() method.\"\"\"\n",
        "    # Multiply accuracy of each client by number of examples used\n",
        "    accuracies = [num_examples * m[\"accuracy\"] for num_examples, m in metrics]\n",
        "    cat_accuracies = [num_examples * m[\"cat_acc\"] for num_examples, m in metrics]\n",
        "    topk_accuracies = [num_examples * m[\"topk_acc\"] for num_examples, m in metrics]\n",
        "\n",
        "    examples = [num_examples for num_examples, _ in metrics]\n",
        "\n",
        "    # Aggregate and return custom metric (weighted average)\n",
        "    return {\"accuracy\": sum(accuracies) / sum(examples), \"cat_acc\": sum(cat_accuracies) / sum(examples), \"topk_acc\": sum(topk_accuracies) / sum(examples)}"
      ],
      "metadata": {
        "id": "UMoEgyDP1TwD"
      },
      "execution_count": null,
      "outputs": []
    },
    {
      "cell_type": "code",
      "execution_count": null,
      "metadata": {
        "id": "WScGlQULmpVh"
      },
      "outputs": [],
      "source": [
        "def get_evaluate_fn(testset: Dataset):\n",
        "    \"\"\"Return an evaluation function for server-side (i.e. centralised) evaluation.\"\"\"\n",
        "\n",
        "    # The `evaluate` function will be called after every round by the strategy\n",
        "    def evaluate(\n",
        "        server_round: int,\n",
        "        parameters: fl.common.NDArrays,\n",
        "        config: Dict[str, fl.common.Scalar],\n",
        "    ):\n",
        "        model = get_model()  # Construct the model\n",
        "        model.set_weights(parameters)  # Update model with the latest parameters\n",
        "        results = model.evaluate(testset, verbose=VERBOSE)\n",
        "\n",
        "        loss = results[0]\n",
        "        acc = results[1]\n",
        "        cat_acc = results[2]\n",
        "        topk_acc = results[3]\n",
        "\n",
        "        return loss, {\"accuracy\": acc, \"cat_acc\": cat_acc, \"topk_acc\": topk_acc}\n",
        "\n",
        "    return evaluate"
      ]
    },
    {
      "cell_type": "markdown",
      "metadata": {
        "id": "J9dJhatUmpVi"
      },
      "source": [
        "We now have `FlowerClient` which defines client-side training and evaluation, and `client_fn`, which allows Flower to create `FlowerClient` instances whenever it needs to call `fit` or `evaluate` on one particular client. The last step is to start the actual simulation using `flwr.simulation.start_simulation`.\n",
        "\n",
        "The function `start_simulation` accepts a number of arguments, amongst them the `client_fn` used to create `FlowerClient` instances, the number of clients to simulate `num_clients`, the number of rounds `num_rounds`, and the strategy. The strategy encapsulates the federated learning approach/algorithm, for example, *Federated Averaging* (FedAvg).\n",
        "\n",
        "Flower comes with a number of built-in strategies, but we can also use our own strategy implementations to customize nearly all aspects of the federated learning approach. For this example, we use the built-in `FedAvg` implementation and customize it using a few basic parameters. The last step is the actual call to `start_simulation` which - you guessed it - actually starts the simulation.\n",
        "\n",
        "We can use [Flower Datasets](https://flower.ai/docs/datasets/) to effortlessly obtain an off-the-shelf partitioned dataset or partition one that isn't pre-partitioned. Let's choose MNIST."
      ]
    },
    {
      "cell_type": "code",
      "execution_count": null,
      "metadata": {
        "id": "2Uc-w6MdmpVi"
      },
      "outputs": [],
      "source": [
        "# Create FedAvg strategy\n",
        "\n",
        "def get_strategy(centralized_testset):\n",
        "\n",
        "  strategy1 = fl.server.strategy.FedAvg(\n",
        "      fraction_fit=0.1,  # Sample 10% of available clients for training\n",
        "      fraction_evaluate=0.05,  # Sample 5% of available clients for evaluation\n",
        "      min_fit_clients=10,  # Never sample less than 10 clients for training\n",
        "      min_evaluate_clients=5,  # Never sample less than 5 clients for evaluation\n",
        "      min_available_clients=int(\n",
        "          NUM_CLIENTS * 0.75\n",
        "      ),  # Wait until at least 75 clients are available\n",
        "      evaluate_metrics_aggregation_fn=weighted_average,  # aggregates federated metrics\n",
        "      evaluate_fn=get_evaluate_fn(centralized_testset),  # global evaluation function\n",
        "  )\n",
        "\n",
        "  # Create FedAvg strategy\n",
        "  strategy2 = fl.server.strategy.FedProx(\n",
        "      proximal_mu=1.0,\n",
        "      fraction_fit=0.1,  # Sample 10% of available clients for training\n",
        "      fraction_evaluate=0.05,  # Sample 5% of available clients for evaluation\n",
        "      min_fit_clients=10,  # Never sample less than 10 clients for training\n",
        "      min_evaluate_clients=5,  # Never sample less than 5 clients for evaluation\n",
        "      min_available_clients=int(\n",
        "          NUM_CLIENTS * 0.75\n",
        "      ),  # Wait until at least 75 clients are available\n",
        "      evaluate_metrics_aggregation_fn=weighted_average,  # aggregates federated metrics\n",
        "      evaluate_fn=get_evaluate_fn(centralized_testset),  # global evaluation function\n",
        "  )\n",
        "\n",
        "  # Create FedAvg strategy\n",
        "  strategy3 = fl.server.strategy.QFedAvg(\n",
        "      fraction_fit=0.1,  # Sample 10% of available clients for training\n",
        "      fraction_evaluate=0.05,  # Sample 5% of available clients for evaluation\n",
        "      min_fit_clients=10,  # Never sample less than 10 clients for training\n",
        "      min_evaluate_clients=5,  # Never sample less than 5 clients for evaluation\n",
        "      min_available_clients=int(\n",
        "          NUM_CLIENTS * 0.75\n",
        "      ),  # Wait until at least 75 clients are available\n",
        "      evaluate_metrics_aggregation_fn=weighted_average,  # aggregates federated metrics\n",
        "      evaluate_fn=get_evaluate_fn(centralized_testset),  # global evaluation function\n",
        "  )\n",
        "\n",
        "  return strategy1"
      ]
    },
    {
      "cell_type": "code",
      "source": [
        "# Enable GPU growth in your main process\n",
        "enable_tf_gpu_growth()\n",
        "\n",
        "# Download MNIST dataset and partition it\n",
        "mnist_fds = FederatedDataset(dataset=\"mnist\", partitioners={\"train\": NUM_CLIENTS})\n",
        "# Get the whole test set for centralised evaluation\n",
        "centralized_testset = mnist_fds.load_full(\"test\").to_tf_dataset(\n",
        "    columns=\"image\", label_cols=\"label\", batch_size=64\n",
        ")\n",
        "\n",
        "strategy = get_strategy(centralized_testset)"
      ],
      "metadata": {
        "id": "PKHprRB61vm8"
      },
      "execution_count": null,
      "outputs": []
    },
    {
      "cell_type": "markdown",
      "source": [
        "#### TESTING"
      ],
      "metadata": {
        "id": "UtV0LhYsfUr7"
      }
    },
    {
      "cell_type": "code",
      "source": [
        "m = get_model()\n",
        "m.summary()"
      ],
      "metadata": {
        "id": "HuLNjqd-coXr",
        "outputId": "fcfea386-7a0d-4a33-a490-a9102f0866aa",
        "colab": {
          "base_uri": "https://localhost:8080/"
        }
      },
      "execution_count": null,
      "outputs": [
        {
          "output_type": "stream",
          "name": "stdout",
          "text": [
            "Model: \"sequential_22\"\n",
            "_________________________________________________________________\n",
            " Layer (type)                Output Shape              Param #   \n",
            "=================================================================\n",
            " flatten_22 (Flatten)        (None, 784)               0         \n",
            "                                                                 \n",
            " dense_44 (Dense)            (None, 128)               100480    \n",
            "                                                                 \n",
            " dropout_22 (Dropout)        (None, 128)               0         \n",
            "                                                                 \n",
            " dense_45 (Dense)            (None, 10)                1290      \n",
            "                                                                 \n",
            "=================================================================\n",
            "Total params: 101770 (397.54 KB)\n",
            "Trainable params: 101770 (397.54 KB)\n",
            "Non-trainable params: 0 (0.00 Byte)\n",
            "_________________________________________________________________\n"
          ]
        }
      ]
    },
    {
      "cell_type": "code",
      "source": [
        "c_data = mnist_fds.load_partition(0, \"train\")\n",
        "\n",
        "client_dataset_splits = c_data.train_test_split(test_size=0.1)\n",
        "\n",
        "x_tr = client_dataset_splits[\"train\"].to_tf_dataset(columns=\"image\", label_cols=\"label\", batch_size=32)\n",
        "x_ts = client_dataset_splits[\"test\"].to_tf_dataset(columns=\"image\", label_cols=\"label\", batch_size=64)"
      ],
      "metadata": {
        "id": "wFlMXR9NesuY"
      },
      "execution_count": null,
      "outputs": []
    },
    {
      "cell_type": "code",
      "source": [
        "h = m.fit(x_tr)"
      ],
      "metadata": {
        "id": "g6fE7GN8fURh",
        "outputId": "91ba25db-b5f3-4f72-e70e-12c935f5f106",
        "colab": {
          "base_uri": "https://localhost:8080/"
        }
      },
      "execution_count": null,
      "outputs": [
        {
          "output_type": "stream",
          "name": "stdout",
          "text": [
            "17/17 [==============================] - 1s 16ms/step - loss: 76.1579 - accuracy: 0.3426 - categorical_accuracy: 0.0981 - top_k_categorical_accuracy: 0.8889\n"
          ]
        }
      ]
    },
    {
      "cell_type": "code",
      "source": [
        "h.history"
      ],
      "metadata": {
        "id": "l7w6i__dgHn7",
        "outputId": "e598bbbb-1371-4dec-f292-4376f5424971",
        "colab": {
          "base_uri": "https://localhost:8080/"
        }
      },
      "execution_count": null,
      "outputs": [
        {
          "output_type": "execute_result",
          "data": {
            "text/plain": [
              "{'loss': [76.1578598022461],\n",
              " 'accuracy': [0.34259259700775146],\n",
              " 'categorical_accuracy': [0.09814814478158951],\n",
              " 'top_k_categorical_accuracy': [0.8888888955116272]}"
            ]
          },
          "metadata": {},
          "execution_count": 116
        }
      ]
    },
    {
      "cell_type": "markdown",
      "source": [
        "#### SIMULATION"
      ],
      "metadata": {
        "id": "xXoctgaofWud"
      }
    },
    {
      "cell_type": "code",
      "source": [
        "# With a dictionary, you tell Flower's VirtualClientEngine that each\n",
        "# client needs exclusive access to these many resources in order to run\n",
        "client_resources = {\"num_cpus\": 2, \"num_gpus\": 0.0}\n",
        "\n",
        "# Start simulation\n",
        "history = fl.simulation.start_simulation(\n",
        "    client_fn=get_client_fn(mnist_fds),\n",
        "    num_clients=NUM_CLIENTS,\n",
        "    config=fl.server.ServerConfig(num_rounds=10),\n",
        "    strategy=strategy,\n",
        "    client_resources=client_resources,\n",
        "    actor_kwargs={\n",
        "        \"on_actor_init_fn\": enable_tf_gpu_growth  # Enable GPU growth upon actor init.\n",
        "    },\n",
        ")"
      ],
      "metadata": {
        "id": "0Rdlw64T12Qp",
        "outputId": "375c6537-52b4-4a24-caca-b814ad6fecae",
        "colab": {
          "base_uri": "https://localhost:8080/"
        }
      },
      "execution_count": null,
      "outputs": [
        {
          "output_type": "stream",
          "name": "stderr",
          "text": [
            "INFO flwr 2024-03-05 15:53:08,070 | app.py:178 | Starting Flower simulation, config: ServerConfig(num_rounds=10, round_timeout=None)\n",
            "INFO:flwr:Starting Flower simulation, config: ServerConfig(num_rounds=10, round_timeout=None)\n",
            "2024-03-05 15:53:12,737\tINFO worker.py:1621 -- Started a local Ray instance.\n",
            "INFO flwr 2024-03-05 15:53:15,489 | app.py:213 | Flower VCE: Ray initialized with resources: {'node:172.28.0.12': 1.0, 'node:__internal_head__': 1.0, 'memory': 7847497728.0, 'object_store_memory': 3923748864.0, 'CPU': 2.0}\n",
            "INFO:flwr:Flower VCE: Ray initialized with resources: {'node:172.28.0.12': 1.0, 'node:__internal_head__': 1.0, 'memory': 7847497728.0, 'object_store_memory': 3923748864.0, 'CPU': 2.0}\n",
            "INFO flwr 2024-03-05 15:53:15,493 | app.py:219 | Optimize your simulation with Flower VCE: https://flower.dev/docs/framework/how-to-run-simulations.html\n",
            "INFO:flwr:Optimize your simulation with Flower VCE: https://flower.dev/docs/framework/how-to-run-simulations.html\n",
            "INFO flwr 2024-03-05 15:53:15,502 | app.py:242 | Flower VCE: Resources for each Virtual Client: {'num_cpus': 2, 'num_gpus': 0.0}\n",
            "INFO:flwr:Flower VCE: Resources for each Virtual Client: {'num_cpus': 2, 'num_gpus': 0.0}\n",
            "INFO flwr 2024-03-05 15:53:15,576 | app.py:288 | Flower VCE: Creating VirtualClientEngineActorPool with 1 actors\n",
            "INFO:flwr:Flower VCE: Creating VirtualClientEngineActorPool with 1 actors\n",
            "INFO flwr 2024-03-05 15:53:15,582 | server.py:89 | Initializing global parameters\n",
            "INFO:flwr:Initializing global parameters\n",
            "INFO flwr 2024-03-05 15:53:15,587 | server.py:276 | Requesting initial parameters from one random client\n",
            "INFO:flwr:Requesting initial parameters from one random client\n",
            "\u001b[2m\u001b[36m(pid=62291)\u001b[0m 2024-03-05 15:53:22.849692: E external/local_xla/xla/stream_executor/cuda/cuda_dnn.cc:9261] Unable to register cuDNN factory: Attempting to register factory for plugin cuDNN when one has already been registered\n",
            "\u001b[2m\u001b[36m(pid=62291)\u001b[0m 2024-03-05 15:53:22.849763: E external/local_xla/xla/stream_executor/cuda/cuda_fft.cc:607] Unable to register cuFFT factory: Attempting to register factory for plugin cuFFT when one has already been registered\n",
            "\u001b[2m\u001b[36m(pid=62291)\u001b[0m 2024-03-05 15:53:22.851775: E external/local_xla/xla/stream_executor/cuda/cuda_blas.cc:1515] Unable to register cuBLAS factory: Attempting to register factory for plugin cuBLAS when one has already been registered\n",
            "\u001b[2m\u001b[36m(pid=62291)\u001b[0m 2024-03-05 15:53:26.990407: W tensorflow/compiler/tf2tensorrt/utils/py_utils.cc:38] TF-TRT Warning: Could not find TensorRT\n",
            "INFO flwr 2024-03-05 15:53:37,303 | server.py:280 | Received initial parameters from one random client\n",
            "INFO:flwr:Received initial parameters from one random client\n",
            "INFO flwr 2024-03-05 15:53:37,306 | server.py:91 | Evaluating initial parameters\n",
            "INFO:flwr:Evaluating initial parameters\n",
            "INFO flwr 2024-03-05 15:53:39,993 | server.py:94 | initial parameters (loss, other metrics): 177.96697998046875, {'accuracy': 0.08529999852180481, 'cat_acc': 0.00419999985024333, 'topk_acc': 0.8682000041007996}\n",
            "INFO:flwr:initial parameters (loss, other metrics): 177.96697998046875, {'accuracy': 0.08529999852180481, 'cat_acc': 0.00419999985024333, 'topk_acc': 0.8682000041007996}\n",
            "INFO flwr 2024-03-05 15:53:40,001 | server.py:104 | FL starting\n",
            "INFO:flwr:FL starting\n",
            "DEBUG flwr 2024-03-05 15:53:40,005 | server.py:222 | fit_round 1: strategy sampled 10 clients (out of 100)\n",
            "DEBUG:flwr:fit_round 1: strategy sampled 10 clients (out of 100)\n",
            "DEBUG flwr 2024-03-05 15:53:51,540 | server.py:236 | fit_round 1 received 10 results and 0 failures\n",
            "DEBUG:flwr:fit_round 1 received 10 results and 0 failures\n",
            "WARNING flwr 2024-03-05 15:53:51,557 | fedavg.py:250 | No fit_metrics_aggregation_fn provided\n",
            "WARNING:flwr:No fit_metrics_aggregation_fn provided\n",
            "INFO flwr 2024-03-05 15:53:54,446 | server.py:125 | fit progress: (1, 17.71564292907715, {'accuracy': 0.6735000014305115, 'cat_acc': 0.09539999812841415, 'topk_acc': 0.8113999962806702}, 14.441068169999198)\n",
            "INFO:flwr:fit progress: (1, 17.71564292907715, {'accuracy': 0.6735000014305115, 'cat_acc': 0.09539999812841415, 'topk_acc': 0.8113999962806702}, 14.441068169999198)\n",
            "DEBUG flwr 2024-03-05 15:53:54,451 | server.py:173 | evaluate_round 1: strategy sampled 5 clients (out of 100)\n",
            "DEBUG:flwr:evaluate_round 1: strategy sampled 5 clients (out of 100)\n",
            "\u001b[2m\u001b[36m(DefaultActor pid=62291)\u001b[0m WARNING:tensorflow:5 out of the last 5 calls to <function Model.make_test_function.<locals>.test_function at 0x7f55c14e0d30> triggered tf.function retracing. Tracing is expensive and the excessive number of tracings could be due to (1) creating @tf.function repeatedly in a loop, (2) passing tensors with different shapes, (3) passing Python objects instead of tensors. For (1), please define your @tf.function outside of the loop. For (2), @tf.function has reduce_retracing=True option that can avoid unnecessary retracing. For (3), please refer to https://www.tensorflow.org/guide/function#controlling_retracing and https://www.tensorflow.org/api_docs/python/tf/function for  more details.\n",
            "DEBUG flwr 2024-03-05 15:53:57,100 | server.py:187 | evaluate_round 1 received 5 results and 0 failures\n",
            "DEBUG:flwr:evaluate_round 1 received 5 results and 0 failures\n",
            "DEBUG flwr 2024-03-05 15:53:57,103 | server.py:222 | fit_round 2: strategy sampled 10 clients (out of 100)\n",
            "DEBUG:flwr:fit_round 2: strategy sampled 10 clients (out of 100)\n",
            "DEBUG flwr 2024-03-05 15:54:08,872 | server.py:236 | fit_round 2 received 10 results and 0 failures\n",
            "DEBUG:flwr:fit_round 2 received 10 results and 0 failures\n",
            "INFO flwr 2024-03-05 15:54:11,778 | server.py:125 | fit progress: (2, 8.86340045928955, {'accuracy': 0.7689999938011169, 'cat_acc': 0.10189999639987946, 'topk_acc': 0.7742000222206116}, 31.772722525000063)\n",
            "INFO:flwr:fit progress: (2, 8.86340045928955, {'accuracy': 0.7689999938011169, 'cat_acc': 0.10189999639987946, 'topk_acc': 0.7742000222206116}, 31.772722525000063)\n",
            "DEBUG flwr 2024-03-05 15:54:11,784 | server.py:173 | evaluate_round 2: strategy sampled 5 clients (out of 100)\n",
            "DEBUG:flwr:evaluate_round 2: strategy sampled 5 clients (out of 100)\n",
            "\u001b[2m\u001b[36m(DefaultActor pid=62291)\u001b[0m WARNING:tensorflow:6 out of the last 6 calls to <function Model.make_test_function.<locals>.test_function at 0x7f55c0b84c10> triggered tf.function retracing. Tracing is expensive and the excessive number of tracings could be due to (1) creating @tf.function repeatedly in a loop, (2) passing tensors with different shapes, (3) passing Python objects instead of tensors. For (1), please define your @tf.function outside of the loop. For (2), @tf.function has reduce_retracing=True option that can avoid unnecessary retracing. For (3), please refer to https://www.tensorflow.org/guide/function#controlling_retracing and https://www.tensorflow.org/api_docs/python/tf/function for  more details.\n",
            "DEBUG flwr 2024-03-05 15:54:14,650 | server.py:187 | evaluate_round 2 received 5 results and 0 failures\n",
            "DEBUG:flwr:evaluate_round 2 received 5 results and 0 failures\n",
            "DEBUG flwr 2024-03-05 15:54:14,655 | server.py:222 | fit_round 3: strategy sampled 10 clients (out of 100)\n",
            "DEBUG:flwr:fit_round 3: strategy sampled 10 clients (out of 100)\n",
            "DEBUG flwr 2024-03-05 15:54:26,174 | server.py:236 | fit_round 3 received 10 results and 0 failures\n",
            "DEBUG:flwr:fit_round 3 received 10 results and 0 failures\n",
            "INFO flwr 2024-03-05 15:54:29,088 | server.py:125 | fit progress: (3, 5.279898166656494, {'accuracy': 0.8087999820709229, 'cat_acc': 0.09830000251531601, 'topk_acc': 0.6729999780654907}, 49.08311234100074)\n",
            "INFO:flwr:fit progress: (3, 5.279898166656494, {'accuracy': 0.8087999820709229, 'cat_acc': 0.09830000251531601, 'topk_acc': 0.6729999780654907}, 49.08311234100074)\n",
            "DEBUG flwr 2024-03-05 15:54:29,093 | server.py:173 | evaluate_round 3: strategy sampled 5 clients (out of 100)\n",
            "DEBUG:flwr:evaluate_round 3: strategy sampled 5 clients (out of 100)\n",
            "DEBUG flwr 2024-03-05 15:54:32,486 | server.py:187 | evaluate_round 3 received 5 results and 0 failures\n",
            "DEBUG:flwr:evaluate_round 3 received 5 results and 0 failures\n",
            "DEBUG flwr 2024-03-05 15:54:32,490 | server.py:222 | fit_round 4: strategy sampled 10 clients (out of 100)\n",
            "DEBUG:flwr:fit_round 4: strategy sampled 10 clients (out of 100)\n",
            "DEBUG flwr 2024-03-05 15:54:44,416 | server.py:236 | fit_round 4 received 10 results and 0 failures\n",
            "DEBUG:flwr:fit_round 4 received 10 results and 0 failures\n",
            "INFO flwr 2024-03-05 15:54:47,327 | server.py:125 | fit progress: (4, 4.00967264175415, {'accuracy': 0.8118000030517578, 'cat_acc': 0.1054999977350235, 'topk_acc': 0.5853000283241272}, 67.32235426700026)\n",
            "INFO:flwr:fit progress: (4, 4.00967264175415, {'accuracy': 0.8118000030517578, 'cat_acc': 0.1054999977350235, 'topk_acc': 0.5853000283241272}, 67.32235426700026)\n",
            "DEBUG flwr 2024-03-05 15:54:47,332 | server.py:173 | evaluate_round 4: strategy sampled 5 clients (out of 100)\n",
            "DEBUG:flwr:evaluate_round 4: strategy sampled 5 clients (out of 100)\n",
            "DEBUG flwr 2024-03-05 15:54:50,054 | server.py:187 | evaluate_round 4 received 5 results and 0 failures\n",
            "DEBUG:flwr:evaluate_round 4 received 5 results and 0 failures\n",
            "DEBUG flwr 2024-03-05 15:54:50,061 | server.py:222 | fit_round 5: strategy sampled 10 clients (out of 100)\n",
            "DEBUG:flwr:fit_round 5: strategy sampled 10 clients (out of 100)\n",
            "DEBUG flwr 2024-03-05 15:55:01,965 | server.py:236 | fit_round 5 received 10 results and 0 failures\n",
            "DEBUG:flwr:fit_round 5 received 10 results and 0 failures\n",
            "INFO flwr 2024-03-05 15:55:04,055 | server.py:125 | fit progress: (5, 3.0183513164520264, {'accuracy': 0.8167999982833862, 'cat_acc': 0.09390000253915787, 'topk_acc': 0.48660001158714294}, 84.05018419099906)\n",
            "INFO:flwr:fit progress: (5, 3.0183513164520264, {'accuracy': 0.8167999982833862, 'cat_acc': 0.09390000253915787, 'topk_acc': 0.48660001158714294}, 84.05018419099906)\n",
            "DEBUG flwr 2024-03-05 15:55:04,061 | server.py:173 | evaluate_round 5: strategy sampled 5 clients (out of 100)\n",
            "DEBUG:flwr:evaluate_round 5: strategy sampled 5 clients (out of 100)\n",
            "DEBUG flwr 2024-03-05 15:55:06,728 | server.py:187 | evaluate_round 5 received 5 results and 0 failures\n",
            "DEBUG:flwr:evaluate_round 5 received 5 results and 0 failures\n",
            "DEBUG flwr 2024-03-05 15:55:06,731 | server.py:222 | fit_round 6: strategy sampled 10 clients (out of 100)\n",
            "DEBUG:flwr:fit_round 6: strategy sampled 10 clients (out of 100)\n",
            "DEBUG flwr 2024-03-05 15:55:19,896 | server.py:236 | fit_round 6 received 10 results and 0 failures\n",
            "DEBUG:flwr:fit_round 6 received 10 results and 0 failures\n",
            "INFO flwr 2024-03-05 15:55:22,795 | server.py:125 | fit progress: (6, 2.1569747924804688, {'accuracy': 0.7979000210762024, 'cat_acc': 0.09149999916553497, 'topk_acc': 0.4659999907016754}, 102.78949431500041)\n",
            "INFO:flwr:fit progress: (6, 2.1569747924804688, {'accuracy': 0.7979000210762024, 'cat_acc': 0.09149999916553497, 'topk_acc': 0.4659999907016754}, 102.78949431500041)\n",
            "DEBUG flwr 2024-03-05 15:55:22,799 | server.py:173 | evaluate_round 6: strategy sampled 5 clients (out of 100)\n",
            "DEBUG:flwr:evaluate_round 6: strategy sampled 5 clients (out of 100)\n",
            "DEBUG flwr 2024-03-05 15:55:25,942 | server.py:187 | evaluate_round 6 received 5 results and 0 failures\n",
            "DEBUG:flwr:evaluate_round 6 received 5 results and 0 failures\n",
            "DEBUG flwr 2024-03-05 15:55:25,945 | server.py:222 | fit_round 7: strategy sampled 10 clients (out of 100)\n",
            "DEBUG:flwr:fit_round 7: strategy sampled 10 clients (out of 100)\n",
            "DEBUG flwr 2024-03-05 15:55:36,999 | server.py:236 | fit_round 7 received 10 results and 0 failures\n",
            "DEBUG:flwr:fit_round 7 received 10 results and 0 failures\n",
            "INFO flwr 2024-03-05 15:55:39,386 | server.py:125 | fit progress: (7, 1.7792099714279175, {'accuracy': 0.7929999828338623, 'cat_acc': 0.08900000154972076, 'topk_acc': 0.421999990940094}, 119.38067830900036)\n",
            "INFO:flwr:fit progress: (7, 1.7792099714279175, {'accuracy': 0.7929999828338623, 'cat_acc': 0.08900000154972076, 'topk_acc': 0.421999990940094}, 119.38067830900036)\n",
            "DEBUG flwr 2024-03-05 15:55:39,394 | server.py:173 | evaluate_round 7: strategy sampled 5 clients (out of 100)\n",
            "DEBUG:flwr:evaluate_round 7: strategy sampled 5 clients (out of 100)\n",
            "DEBUG flwr 2024-03-05 15:55:42,091 | server.py:187 | evaluate_round 7 received 5 results and 0 failures\n",
            "DEBUG:flwr:evaluate_round 7 received 5 results and 0 failures\n",
            "DEBUG flwr 2024-03-05 15:55:42,098 | server.py:222 | fit_round 8: strategy sampled 10 clients (out of 100)\n",
            "DEBUG:flwr:fit_round 8: strategy sampled 10 clients (out of 100)\n",
            "DEBUG flwr 2024-03-05 15:55:54,235 | server.py:236 | fit_round 8 received 10 results and 0 failures\n",
            "DEBUG:flwr:fit_round 8 received 10 results and 0 failures\n",
            "INFO flwr 2024-03-05 15:55:57,156 | server.py:125 | fit progress: (8, 1.5393775701522827, {'accuracy': 0.7847999930381775, 'cat_acc': 0.12030000239610672, 'topk_acc': 0.4562000036239624}, 137.15120216099967)\n",
            "INFO:flwr:fit progress: (8, 1.5393775701522827, {'accuracy': 0.7847999930381775, 'cat_acc': 0.12030000239610672, 'topk_acc': 0.4562000036239624}, 137.15120216099967)\n",
            "DEBUG flwr 2024-03-05 15:55:57,164 | server.py:173 | evaluate_round 8: strategy sampled 5 clients (out of 100)\n",
            "DEBUG:flwr:evaluate_round 8: strategy sampled 5 clients (out of 100)\n",
            "DEBUG flwr 2024-03-05 15:55:59,837 | server.py:187 | evaluate_round 8 received 5 results and 0 failures\n",
            "DEBUG:flwr:evaluate_round 8 received 5 results and 0 failures\n",
            "DEBUG flwr 2024-03-05 15:55:59,841 | server.py:222 | fit_round 9: strategy sampled 10 clients (out of 100)\n",
            "DEBUG:flwr:fit_round 9: strategy sampled 10 clients (out of 100)\n",
            "DEBUG flwr 2024-03-05 15:56:12,043 | server.py:236 | fit_round 9 received 10 results and 0 failures\n",
            "DEBUG:flwr:fit_round 9 received 10 results and 0 failures\n",
            "INFO flwr 2024-03-05 15:56:14,942 | server.py:125 | fit progress: (9, 1.3519998788833618, {'accuracy': 0.7924000024795532, 'cat_acc': 0.08470000326633453, 'topk_acc': 0.4230000078678131}, 154.93672942000012)\n",
            "INFO:flwr:fit progress: (9, 1.3519998788833618, {'accuracy': 0.7924000024795532, 'cat_acc': 0.08470000326633453, 'topk_acc': 0.4230000078678131}, 154.93672942000012)\n",
            "DEBUG flwr 2024-03-05 15:56:14,946 | server.py:173 | evaluate_round 9: strategy sampled 5 clients (out of 100)\n",
            "DEBUG:flwr:evaluate_round 9: strategy sampled 5 clients (out of 100)\n",
            "DEBUG flwr 2024-03-05 15:56:18,577 | server.py:187 | evaluate_round 9 received 5 results and 0 failures\n",
            "DEBUG:flwr:evaluate_round 9 received 5 results and 0 failures\n",
            "DEBUG flwr 2024-03-05 15:56:18,580 | server.py:222 | fit_round 10: strategy sampled 10 clients (out of 100)\n",
            "DEBUG:flwr:fit_round 10: strategy sampled 10 clients (out of 100)\n",
            "DEBUG flwr 2024-03-05 15:56:29,219 | server.py:236 | fit_round 10 received 10 results and 0 failures\n",
            "DEBUG:flwr:fit_round 10 received 10 results and 0 failures\n",
            "INFO flwr 2024-03-05 15:56:32,007 | server.py:125 | fit progress: (10, 1.300038456916809, {'accuracy': 0.8076000213623047, 'cat_acc': 0.09049999713897705, 'topk_acc': 0.4228000044822693}, 172.00236407900047)\n",
            "INFO:flwr:fit progress: (10, 1.300038456916809, {'accuracy': 0.8076000213623047, 'cat_acc': 0.09049999713897705, 'topk_acc': 0.4228000044822693}, 172.00236407900047)\n",
            "DEBUG flwr 2024-03-05 15:56:32,014 | server.py:173 | evaluate_round 10: strategy sampled 5 clients (out of 100)\n",
            "DEBUG:flwr:evaluate_round 10: strategy sampled 5 clients (out of 100)\n",
            "DEBUG flwr 2024-03-05 15:56:34,700 | server.py:187 | evaluate_round 10 received 5 results and 0 failures\n",
            "DEBUG:flwr:evaluate_round 10 received 5 results and 0 failures\n",
            "INFO flwr 2024-03-05 15:56:34,704 | server.py:153 | FL finished in 174.69896412600065\n",
            "INFO:flwr:FL finished in 174.69896412600065\n",
            "INFO flwr 2024-03-05 15:56:34,709 | app.py:226 | app_fit: losses_distributed [(1, 18.244459533691405), (2, 9.73029613494873), (3, 5.960378980636596), (4, 3.8410278797149657), (5, 4.788220310211182), (6, 1.8644793033599854), (7, 2.0028220891952513), (8, 1.6248701572418214), (9, 1.2045148491859436), (10, 1.2432081878185273)]\n",
            "INFO:flwr:app_fit: losses_distributed [(1, 18.244459533691405), (2, 9.73029613494873), (3, 5.960378980636596), (4, 3.8410278797149657), (5, 4.788220310211182), (6, 1.8644793033599854), (7, 2.0028220891952513), (8, 1.6248701572418214), (9, 1.2045148491859436), (10, 1.2432081878185273)]\n",
            "INFO flwr 2024-03-05 15:56:34,712 | app.py:227 | app_fit: metrics_distributed_fit {}\n",
            "INFO:flwr:app_fit: metrics_distributed_fit {}\n",
            "INFO flwr 2024-03-05 15:56:34,716 | app.py:228 | app_fit: metrics_distributed {'accuracy': [(1, 0.6866666555404664), (2, 0.7566666603088379), (3, 0.7799999952316284), (4, 0.8), (5, 0.7400000095367432), (6, 0.7900000095367432), (7, 0.7566666722297668), (8, 0.8066666722297668), (9, 0.7866666555404663), (10, 0.8066666722297668)], 'cat_acc': [(1, 0.07666666880249977), (2, 0.08000000268220901), (3, 0.10333333611488342), (4, 0.07000000178813934), (5, 0.07666666805744171), (6, 0.12000000327825547), (7, 0.056666668877005576), (8, 0.1600000038743019), (9, 0.07333333641290665), (10, 0.07666666880249977)], 'topk_acc': [(1, 0.8266666650772094), (2, 0.7933333396911622), (3, 0.7), (4, 0.5733333349227905), (5, 0.4699999988079071), (6, 0.5099999904632568), (7, 0.40333332419395446), (8, 0.4833333432674408), (9, 0.44000000357627866), (10, 0.4600000023841858)]}\n",
            "INFO:flwr:app_fit: metrics_distributed {'accuracy': [(1, 0.6866666555404664), (2, 0.7566666603088379), (3, 0.7799999952316284), (4, 0.8), (5, 0.7400000095367432), (6, 0.7900000095367432), (7, 0.7566666722297668), (8, 0.8066666722297668), (9, 0.7866666555404663), (10, 0.8066666722297668)], 'cat_acc': [(1, 0.07666666880249977), (2, 0.08000000268220901), (3, 0.10333333611488342), (4, 0.07000000178813934), (5, 0.07666666805744171), (6, 0.12000000327825547), (7, 0.056666668877005576), (8, 0.1600000038743019), (9, 0.07333333641290665), (10, 0.07666666880249977)], 'topk_acc': [(1, 0.8266666650772094), (2, 0.7933333396911622), (3, 0.7), (4, 0.5733333349227905), (5, 0.4699999988079071), (6, 0.5099999904632568), (7, 0.40333332419395446), (8, 0.4833333432674408), (9, 0.44000000357627866), (10, 0.4600000023841858)]}\n",
            "INFO flwr 2024-03-05 15:56:34,718 | app.py:229 | app_fit: losses_centralized [(0, 177.96697998046875), (1, 17.71564292907715), (2, 8.86340045928955), (3, 5.279898166656494), (4, 4.00967264175415), (5, 3.0183513164520264), (6, 2.1569747924804688), (7, 1.7792099714279175), (8, 1.5393775701522827), (9, 1.3519998788833618), (10, 1.300038456916809)]\n",
            "INFO:flwr:app_fit: losses_centralized [(0, 177.96697998046875), (1, 17.71564292907715), (2, 8.86340045928955), (3, 5.279898166656494), (4, 4.00967264175415), (5, 3.0183513164520264), (6, 2.1569747924804688), (7, 1.7792099714279175), (8, 1.5393775701522827), (9, 1.3519998788833618), (10, 1.300038456916809)]\n",
            "INFO flwr 2024-03-05 15:56:34,723 | app.py:230 | app_fit: metrics_centralized {'accuracy': [(0, 0.08529999852180481), (1, 0.6735000014305115), (2, 0.7689999938011169), (3, 0.8087999820709229), (4, 0.8118000030517578), (5, 0.8167999982833862), (6, 0.7979000210762024), (7, 0.7929999828338623), (8, 0.7847999930381775), (9, 0.7924000024795532), (10, 0.8076000213623047)], 'cat_acc': [(0, 0.00419999985024333), (1, 0.09539999812841415), (2, 0.10189999639987946), (3, 0.09830000251531601), (4, 0.1054999977350235), (5, 0.09390000253915787), (6, 0.09149999916553497), (7, 0.08900000154972076), (8, 0.12030000239610672), (9, 0.08470000326633453), (10, 0.09049999713897705)], 'topk_acc': [(0, 0.8682000041007996), (1, 0.8113999962806702), (2, 0.7742000222206116), (3, 0.6729999780654907), (4, 0.5853000283241272), (5, 0.48660001158714294), (6, 0.4659999907016754), (7, 0.421999990940094), (8, 0.4562000036239624), (9, 0.4230000078678131), (10, 0.4228000044822693)]}\n",
            "INFO:flwr:app_fit: metrics_centralized {'accuracy': [(0, 0.08529999852180481), (1, 0.6735000014305115), (2, 0.7689999938011169), (3, 0.8087999820709229), (4, 0.8118000030517578), (5, 0.8167999982833862), (6, 0.7979000210762024), (7, 0.7929999828338623), (8, 0.7847999930381775), (9, 0.7924000024795532), (10, 0.8076000213623047)], 'cat_acc': [(0, 0.00419999985024333), (1, 0.09539999812841415), (2, 0.10189999639987946), (3, 0.09830000251531601), (4, 0.1054999977350235), (5, 0.09390000253915787), (6, 0.09149999916553497), (7, 0.08900000154972076), (8, 0.12030000239610672), (9, 0.08470000326633453), (10, 0.09049999713897705)], 'topk_acc': [(0, 0.8682000041007996), (1, 0.8113999962806702), (2, 0.7742000222206116), (3, 0.6729999780654907), (4, 0.5853000283241272), (5, 0.48660001158714294), (6, 0.4659999907016754), (7, 0.421999990940094), (8, 0.4562000036239624), (9, 0.4230000078678131), (10, 0.4228000044822693)]}\n"
          ]
        }
      ]
    },
    {
      "cell_type": "markdown",
      "metadata": {
        "id": "wz2N0d9GmpVi"
      },
      "source": [
        "You can then use the resturned History object to either save the results to disk or do some visualisation (or both of course, or neither if you like chaos). Below you can see how you can plot the centralised accuracy obtainined at the end of each round (including at the very beginning of the experiment) for the global model. This is want the function `evaluate_fn()` that we passed to the strategy reports."
      ]
    },
    {
      "cell_type": "code",
      "execution_count": null,
      "metadata": {
        "id": "F1AeCH5impVi"
      },
      "outputs": [],
      "source": [
        "import matplotlib.pyplot as plt\n",
        "\n",
        "print(f\"{history.metrics_centralized = }\")\n",
        "\n",
        "global_accuracy_centralised = history.metrics_centralized[\"accuracy\"]\n",
        "round = [data[0] for data in global_accuracy_centralised]\n",
        "acc = [100.0 * data[1] for data in global_accuracy_centralised]\n",
        "plt.plot(round, acc)\n",
        "plt.grid()\n",
        "plt.ylabel(\"Accuracy (%)\")\n",
        "plt.xlabel(\"Round\")\n",
        "plt.title(\"MNIST - IID - 100 clients with 10 clients per round\")"
      ]
    },
    {
      "cell_type": "markdown",
      "metadata": {
        "id": "S8mW3uTgmpVj"
      },
      "source": [
        "Congratulations! With that, you built a Flower client, customized it's instantiation through the `client_fn`, customized the server-side execution through a `FedAvg` strategy configured for this workload, and started a simulation with 100 clients (each holding their own individual partition of the MNIST dataset).\n",
        "\n",
        "Next, you can continue to explore more advanced Flower topics:\n",
        "\n",
        "- Deploy server and clients on different machines using `start_server` and `start_client`\n",
        "- Customize the server-side execution through custom strategies\n",
        "- Customize the client-side execution through `config` dictionaries\n",
        "\n",
        "Get all resources you need!\n",
        "\n",
        "* **[DOCS]** Our complete documenation: https://flower.ai/docs/\n",
        "* **[Examples]** All Flower examples: https://flower.ai/docs/examples/\n",
        "* **[VIDEO]** Our Youtube channel: https://www.youtube.com/@flowerlabs\n",
        "\n",
        "Don't forget to join our Slack channel: https://flower.ai/join-slack/"
      ]
    }
  ],
  "metadata": {
    "colab": {
      "provenance": [],
      "include_colab_link": true
    },
    "kernelspec": {
      "display_name": "Python 3 (ipykernel)",
      "language": "python",
      "name": "python3"
    }
  },
  "nbformat": 4,
  "nbformat_minor": 0
}