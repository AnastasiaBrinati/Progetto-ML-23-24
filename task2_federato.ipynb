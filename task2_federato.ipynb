{
  "cells": [
    {
      "cell_type": "markdown",
      "metadata": {
        "id": "view-in-github",
        "colab_type": "text"
      },
      "source": [
        "<a href=\"https://colab.research.google.com/github/AnastasiaBrinati/Progetto-ML-23-24/blob/main/task2_federato.ipynb\" target=\"_parent\"><img src=\"https://colab.research.google.com/assets/colab-badge.svg\" alt=\"Open In Colab\"/></a>"
      ]
    },
    {
      "cell_type": "markdown",
      "metadata": {
        "id": "kMFikawoaYXR"
      },
      "source": [
        "# Flower Quickstart (Simulation with TensorFlow/Keras)\n",
        "\n",
        "Welcome to Flower, a friendly federated learning framework!\n",
        "\n",
        "In this notebook, we'll simulate a federated learning system with 100 clients. The clients will use TensorFlow/Keras to define model training and evaluation. Let's start by installing Flower (published as `flwr` on PyPI) with the `simulation` extra:"
      ]
    },
    {
      "cell_type": "markdown",
      "source": [
        "###Imports"
      ],
      "metadata": {
        "id": "NvgmzdVzqco3"
      }
    },
    {
      "cell_type": "code",
      "execution_count": 19,
      "metadata": {
        "id": "Kdag3ZazaYXX"
      },
      "outputs": [],
      "source": [
        "!pip install -q flwr[\"simulation\"] tensorflow\n",
        "!pip install -q flwr_datasets[\"vision\"]"
      ]
    },
    {
      "cell_type": "markdown",
      "metadata": {
        "id": "YsCrnSxGaYXZ"
      },
      "source": [
        "Let's also install Matplotlib so we can make some plots once the simulation is completed"
      ]
    },
    {
      "cell_type": "code",
      "execution_count": 20,
      "metadata": {
        "id": "Etxk-fLMaYXa",
        "colab": {
          "base_uri": "https://localhost:8080/"
        },
        "outputId": "16eb6e9e-c9ee-40f5-d581-5d9a7e0ec59c"
      },
      "outputs": [
        {
          "output_type": "stream",
          "name": "stdout",
          "text": [
            "Requirement already satisfied: matplotlib in /usr/local/lib/python3.10/dist-packages (3.7.1)\n",
            "Requirement already satisfied: contourpy>=1.0.1 in /usr/local/lib/python3.10/dist-packages (from matplotlib) (1.2.0)\n",
            "Requirement already satisfied: cycler>=0.10 in /usr/local/lib/python3.10/dist-packages (from matplotlib) (0.12.1)\n",
            "Requirement already satisfied: fonttools>=4.22.0 in /usr/local/lib/python3.10/dist-packages (from matplotlib) (4.49.0)\n",
            "Requirement already satisfied: kiwisolver>=1.0.1 in /usr/local/lib/python3.10/dist-packages (from matplotlib) (1.4.5)\n",
            "Requirement already satisfied: numpy>=1.20 in /usr/local/lib/python3.10/dist-packages (from matplotlib) (1.25.2)\n",
            "Requirement already satisfied: packaging>=20.0 in /usr/local/lib/python3.10/dist-packages (from matplotlib) (23.2)\n",
            "Requirement already satisfied: pillow>=6.2.0 in /usr/local/lib/python3.10/dist-packages (from matplotlib) (9.4.0)\n",
            "Requirement already satisfied: pyparsing>=2.3.1 in /usr/local/lib/python3.10/dist-packages (from matplotlib) (3.1.1)\n",
            "Requirement already satisfied: python-dateutil>=2.7 in /usr/local/lib/python3.10/dist-packages (from matplotlib) (2.8.2)\n",
            "Requirement already satisfied: six>=1.5 in /usr/local/lib/python3.10/dist-packages (from python-dateutil>=2.7->matplotlib) (1.16.0)\n"
          ]
        }
      ],
      "source": [
        "!pip install matplotlib"
      ]
    },
    {
      "cell_type": "markdown",
      "metadata": {
        "id": "YHgw_29TaYXa"
      },
      "source": [
        "Next, we import the required dependencies. The most important imports are Flower (`flwr`) and TensorFlow:"
      ]
    },
    {
      "cell_type": "code",
      "execution_count": 21,
      "metadata": {
        "id": "ZLNGNaxTaYXb"
      },
      "outputs": [],
      "source": [
        "from typing import Dict, List, Tuple\n",
        "\n",
        "import tensorflow as tf\n",
        "\n",
        "import flwr as fl\n",
        "from flwr.common import Metrics\n",
        "from flwr.simulation.ray_transport.utils import enable_tf_gpu_growth\n",
        "\n",
        "from datasets import Dataset\n",
        "from flwr_datasets import FederatedDataset\n",
        "\n",
        "VERBOSE = 0\n",
        "NUM_CLIENTS = 100"
      ]
    },
    {
      "cell_type": "code",
      "source": [
        "import tensorflow as tf\n",
        "\n",
        "from tensorflow import keras\n",
        "from keras import layers"
      ],
      "metadata": {
        "id": "A27Y2ltGF1o6"
      },
      "execution_count": 22,
      "outputs": []
    },
    {
      "cell_type": "code",
      "source": [
        "import matplotlib.pyplot as plt\n",
        "import numpy as np\n",
        "import pandas as pd\n",
        "import seaborn as sns\n",
        "\n",
        "# Make NumPy printouts easier to read.\n",
        "np.set_printoptions(precision=3, suppress=True)"
      ],
      "metadata": {
        "id": "4K6JuL9mf0OK"
      },
      "execution_count": 23,
      "outputs": []
    },
    {
      "cell_type": "markdown",
      "source": [
        "## Model"
      ],
      "metadata": {
        "id": "c_s34JBdndhk"
      }
    },
    {
      "cell_type": "markdown",
      "source": [
        "It is good practice to normalize features that use different scales and ranges.\n",
        "\n",
        "One reason this is important is because the features are multiplied by the model weights. So, the scale of the outputs and the scale of the gradients are affected by the scale of the inputs.\n",
        "\n",
        "Although a model *might* converge without feature normalization, normalization makes training much more stable.\n",
        "\n",
        "Note: There is no advantage to normalizing the one-hot features—it is done here for simplicity. For more details on how to use the preprocessing layers, refer to the [Working with preprocessing layers](https://www.tensorflow.org/guide/keras/preprocessing_layers) guide and the [Classify structured data using Keras preprocessing layers](../structured_data/preprocessing_layers.ipynb) tutorial."
      ],
      "metadata": {
        "id": "FYNz9lbPnjug"
      }
    },
    {
      "cell_type": "markdown",
      "source": [
        "### Building the DNN"
      ],
      "metadata": {
        "id": "wkDHbVO3AljH"
      }
    },
    {
      "cell_type": "code",
      "execution_count": 24,
      "metadata": {
        "id": "DQdlkjqF19ol"
      },
      "outputs": [],
      "source": [
        "def get_model():\n",
        "\n",
        "    \"\"\"Constructs a model suitable.\"\"\"\n",
        "    # Define input layers for all the features\n",
        "    mwg_input = tf.keras.layers.Input(shape=(1,), name='MWG')\n",
        "    nwg_input = tf.keras.layers.Input(shape=(1,), name='NWG')\n",
        "    kwg_input = tf.keras.layers.Input(shape=(1,), name='KWG')\n",
        "    mdimc_input = tf.keras.layers.Input(shape=(1,), name='MDIMC')\n",
        "    ndimc_input = tf.keras.layers.Input(shape=(1,), name='NDIMC')\n",
        "    mdima_input = tf.keras.layers.Input(shape=(1,), name='MDIMA')\n",
        "    ndimb_input = tf.keras.layers.Input(shape=(1,), name='NDIMB')\n",
        "    kwi_input = tf.keras.layers.Input(shape=(1,), name='KWI')\n",
        "    vwm_input = tf.keras.layers.Input(shape=(1,), name='VWM')\n",
        "    vwn_input = tf.keras.layers.Input(shape=(1,), name='VWN')\n",
        "    strm_input = tf.keras.layers.Input(shape=(1,), name='STRM')\n",
        "    strn_input = tf.keras.layers.Input(shape=(1,), name='STRN')\n",
        "    sa_input = tf.keras.layers.Input(shape=(1,), name='SA')\n",
        "    sb_input = tf.keras.layers.Input(shape=(1,), name='SB')\n",
        "\n",
        "\n",
        "    # Concatenate the input tensors\n",
        "    concatenated_inputs = tf.keras.layers.concatenate([mwg_input, nwg_input,kwg_input,mdimc_input,\n",
        "                                                       ndimc_input,mdima_input,ndimb_input,kwi_input,\n",
        "                                                       vwm_input,vwn_input,strm_input,strn_input,\n",
        "                                                       sa_input,sb_input\n",
        "                                                       ])\n",
        "\n",
        "    # Define the rest of the model\n",
        "    x = tf.keras.layers.Flatten()(concatenated_inputs)\n",
        "\n",
        "    #      'num_layers': 2,\n",
        "    #      'units_0': 128,\n",
        "    #      'activation_0': 'sigmoid',\n",
        "    #      'units_1': 128,\n",
        "    #      'activation_1': 'sigmoid',\n",
        "    #      'units_2': 112,\n",
        "    #      'activation_2': 'PReLU',\n",
        "    #      'learning_rate': 0.01,\n",
        "    #      'units_3': 96,\n",
        "    #      'activation_3': 'sigmoid'\n",
        "\n",
        "    x = tf.keras.layers.Dense(128, activation=\"sigmoid\")(x)\n",
        "    x = tf.keras.layers.Dense(128, activation=\"sigmoid\")(x)\n",
        "\n",
        "    output = tf.keras.layers.Dense(1, activation=\"sigmoid\")(x)\n",
        "\n",
        "    # Construct the model\n",
        "    model = tf.keras.models.Model(inputs=[mwg_input, nwg_input,kwg_input,mdimc_input,\n",
        "                                          ndimc_input,mdima_input,ndimb_input,kwi_input,\n",
        "                                          vwm_input,vwn_input,strm_input,strn_input,\n",
        "                                          sa_input,sb_input], outputs=output)\n",
        "\n",
        "    # Compile the model\n",
        "    model.compile(loss='mean_absolute_error', optimizer=tf.keras.optimizers.Adam(0.01), metrics=[\"mse\", \"mape\", \"mean_squared_logarithmic_error\",\"R2Score\"])\n",
        "\n",
        "    return model\n",
        "\n",
        "# come era prima:\n",
        "      #model = keras.Sequential([\n",
        "      #layers.Flatten(),\n",
        "      #layers.Dense(16, activation='relu', name=\"uno\"),  #input_shape=(2, 32,15)\n",
        "      #layers.Dense(1, name=\"ultimo\"),"
      ]
    },
    {
      "cell_type": "code",
      "source": [
        "#dnn_model = get_model(normalizer)\n",
        "dnn_model = get_model()\n",
        "dnn_model.summary()"
      ],
      "metadata": {
        "colab": {
          "base_uri": "https://localhost:8080/"
        },
        "id": "bGzqw0BToFah",
        "outputId": "f1bdfa4e-3c62-4ad9-bd81-7f8700694f70"
      },
      "execution_count": 25,
      "outputs": [
        {
          "output_type": "stream",
          "name": "stdout",
          "text": [
            "Model: \"model_3\"\n",
            "__________________________________________________________________________________________________\n",
            " Layer (type)                Output Shape                 Param #   Connected to                  \n",
            "==================================================================================================\n",
            " MWG (InputLayer)            [(None, 1)]                  0         []                            \n",
            "                                                                                                  \n",
            " NWG (InputLayer)            [(None, 1)]                  0         []                            \n",
            "                                                                                                  \n",
            " KWG (InputLayer)            [(None, 1)]                  0         []                            \n",
            "                                                                                                  \n",
            " MDIMC (InputLayer)          [(None, 1)]                  0         []                            \n",
            "                                                                                                  \n",
            " NDIMC (InputLayer)          [(None, 1)]                  0         []                            \n",
            "                                                                                                  \n",
            " MDIMA (InputLayer)          [(None, 1)]                  0         []                            \n",
            "                                                                                                  \n",
            " NDIMB (InputLayer)          [(None, 1)]                  0         []                            \n",
            "                                                                                                  \n",
            " KWI (InputLayer)            [(None, 1)]                  0         []                            \n",
            "                                                                                                  \n",
            " VWM (InputLayer)            [(None, 1)]                  0         []                            \n",
            "                                                                                                  \n",
            " VWN (InputLayer)            [(None, 1)]                  0         []                            \n",
            "                                                                                                  \n",
            " STRM (InputLayer)           [(None, 1)]                  0         []                            \n",
            "                                                                                                  \n",
            " STRN (InputLayer)           [(None, 1)]                  0         []                            \n",
            "                                                                                                  \n",
            " SA (InputLayer)             [(None, 1)]                  0         []                            \n",
            "                                                                                                  \n",
            " SB (InputLayer)             [(None, 1)]                  0         []                            \n",
            "                                                                                                  \n",
            " concatenate_3 (Concatenate  (None, 14)                   0         ['MWG[0][0]',                 \n",
            " )                                                                   'NWG[0][0]',                 \n",
            "                                                                     'KWG[0][0]',                 \n",
            "                                                                     'MDIMC[0][0]',               \n",
            "                                                                     'NDIMC[0][0]',               \n",
            "                                                                     'MDIMA[0][0]',               \n",
            "                                                                     'NDIMB[0][0]',               \n",
            "                                                                     'KWI[0][0]',                 \n",
            "                                                                     'VWM[0][0]',                 \n",
            "                                                                     'VWN[0][0]',                 \n",
            "                                                                     'STRM[0][0]',                \n",
            "                                                                     'STRN[0][0]',                \n",
            "                                                                     'SA[0][0]',                  \n",
            "                                                                     'SB[0][0]']                  \n",
            "                                                                                                  \n",
            " flatten_3 (Flatten)         (None, 14)                   0         ['concatenate_3[0][0]']       \n",
            "                                                                                                  \n",
            " dense_9 (Dense)             (None, 128)                  1920      ['flatten_3[0][0]']           \n",
            "                                                                                                  \n",
            " dense_10 (Dense)            (None, 128)                  16512     ['dense_9[0][0]']             \n",
            "                                                                                                  \n",
            " dense_11 (Dense)            (None, 1)                    129       ['dense_10[0][0]']            \n",
            "                                                                                                  \n",
            "==================================================================================================\n",
            "Total params: 18561 (72.50 KB)\n",
            "Trainable params: 18561 (72.50 KB)\n",
            "Non-trainable params: 0 (0.00 Byte)\n",
            "__________________________________________________________________________________________________\n"
          ]
        }
      ]
    },
    {
      "cell_type": "markdown",
      "source": [
        "## Clients"
      ],
      "metadata": {
        "id": "Boclv2Z-Aqwr"
      }
    },
    {
      "cell_type": "markdown",
      "metadata": {
        "id": "LWukbw9_aYXd"
      },
      "source": [
        "With that out of the way, let's move on to the interesting bits. Federated learning systems consist of a server and multiple clients. In Flower, we create clients by implementing subclasses of `flwr.client.Client` or `flwr.client.NumPyClient`. We use `NumPyClient` in this tutorial because it is easier to implement and requires us to write less boilerplate.\n",
        "\n",
        "To implement the Flower client, we create a subclass of `flwr.client.NumPyClient` and implement the three methods `get_parameters`, `fit`, and `evaluate`:\n",
        "\n",
        "- `get_parameters`: Return the current local model parameters\n",
        "- `fit`: Receive model parameters from the server, train the model parameters on the local data, and return the (updated) model parameters to the server\n",
        "- `evaluate`: Received model parameters from the server, evaluate the model parameters on the local data, and return the evaluation result to the server\n",
        "\n",
        "We mentioned that our clients will use TensorFlow/Keras for the model training and evaluation. Keras models provide methods that make the implementation straightforward: we can update the local model with server-provides parameters through `model.set_weights`, we can train/evaluate the model through `fit/evaluate`, and we can get the updated model parameters through `model.get_weights`.\n",
        "\n",
        "Let's see a simple implementation:"
      ]
    },
    {
      "cell_type": "code",
      "execution_count": 26,
      "metadata": {
        "id": "ScAm9FDMaYXe"
      },
      "outputs": [],
      "source": [
        "class FlowerClient(fl.client.NumPyClient):\n",
        "    def __init__(self, trainset, valset) -> None:\n",
        "        # Create model\n",
        "        self.model = get_model()\n",
        "        self.trainset = trainset\n",
        "        self.valset = valset\n",
        "\n",
        "    def get_parameters(self, config):\n",
        "        return self.model.get_weights()\n",
        "\n",
        "    def fit(self, parameters, config):\n",
        "        self.model.set_weights(parameters)\n",
        "        self.model.fit(self.trainset, epochs=1, verbose=VERBOSE)\n",
        "        return self.model.get_weights(), len(self.trainset), {}\n",
        "\n",
        "    def evaluate(self, parameters, config):\n",
        "        self.model.set_weights(parameters)\n",
        "        results = self.model.evaluate(self.valset) #, verbose=VERBOSE)\n",
        "\n",
        "        loss = results[0]\n",
        "        mse = results[1]\n",
        "        mape = results[2]\n",
        "        mean_squared_logarithmic_error = results[3]\n",
        "        r2score = results[4]\n",
        "\n",
        "        # return {\"loss\": loss, \"mse\": mse, \"mape\": mape, \"mean_squared_logarithmic_error\":mean_squared_logarithmic_error, \"R2Score\": r2score}\n",
        "        return loss, len(self.valset), {\"loss\": loss, \"mse\": mse, \"mape\": mape, \"mean_squared_logarithmic_error\": mean_squared_logarithmic_error, \"R2Score\": r2score}"
      ]
    },
    {
      "cell_type": "markdown",
      "metadata": {
        "id": "hbT-_UKTaYXf"
      },
      "source": [
        "Our class `FlowerClient` defines how local training/evaluation will be performed and allows Flower to call the local training/evaluation through `fit` and `evaluate`. Each instance of `FlowerClient` represents a *single client* in our federated learning system. Federated learning systems have multiple clients (otherwise, there's not much to federate, is there?), so each client will be represented by its own instance of `FlowerClient`. If we have, for example, three clients in our workload, we'd have three instances of `FlowerClient`. Flower calls `FlowerClient.fit` on the respective instance when the server selects a particular client for training (and `FlowerClient.evaluate` for evaluation).\n",
        "\n",
        "In this notebook, we want to simulate a federated learning system with 100 clients on a single machine. This means that the server and all 100 clients will live on a single machine and share resources such as CPU, GPU, and memory. Having 100 clients would mean having 100 instances of `FlowerClient` in memory. Doing this on a single machine can quickly exhaust the available memory resources, even if only a subset of these clients participates in a single round of federated learning.\n",
        "\n",
        "In addition to the regular capabilities where server and clients run on multiple machines, Flower, therefore, provides special simulation capabilities that create `FlowerClient` instances only when they are actually necessary for training or evaluation. To enable the Flower framework to create clients when necessary, we need to implement a function called `client_fn` that creates a `FlowerClient` instance on demand. Flower calls `client_fn` whenever it needs an instance of one particular client to call `fit` or `evaluate` (those instances are usually discarded after use). Clients are identified by a client ID, or short `cid`. The `cid` can be used, for example, to load different local data partitions for each client"
      ]
    },
    {
      "cell_type": "markdown",
      "source": [
        "##Strategy"
      ],
      "metadata": {
        "id": "uxfM1mgu8qS0"
      }
    },
    {
      "cell_type": "markdown",
      "metadata": {
        "id": "Nf4TEm_JaYXf"
      },
      "source": [
        "We now define four auxiliary functions for this example (note the last two are entirely optional):\n",
        "* `get_client_fn()`: Is a function that returns another function. The returned `client_fn` will be executed by Flower's VirtualClientEngine each time a new _virtual_ client (i.e. a client that is simulated in a Python process) needs to be spawn. When are virtual clients spawned? Each time the strategy samples them to do either `fit()` (i.e. train the global model on the local data of a particular client) or `evaluate()` (i.e. evaluate the global model on the validation set of a given client).\n",
        "\n",
        "* `weighted_average()`: This is an optional function to pass to the strategy. It will be executed after an evaluation round (i.e. when client run `evaluate()`) and will aggregate the metrics clients return. In this example, we use this function to compute the weighted average accuracy of clients doing `evaluate()`.\n",
        "\n",
        "* `get_evaluate_fn()`: This is again a function that returns another function. The returned function will be executed by the strategy at the end of a `fit()` round and after a new global model has been obtained after aggregation. This is an optional argument for Flower strategies. In this example, we use the whole MNIST test set to perform this server-side evaluation."
      ]
    },
    {
      "cell_type": "code",
      "execution_count": 27,
      "metadata": {
        "id": "rYcn2qbSaYXg"
      },
      "outputs": [],
      "source": [
        "\"\"\"Returns a function to construct a client.\n",
        "    The VirtualClientEngine will execute this function whenever a client is sampled by the strategy to participate. \"\"\"\n",
        "\n",
        "def get_client_fn(dataset: FederatedDataset):\n",
        "\n",
        "    def client_fn(cid: str) -> fl.client.Client:\n",
        "        \"\"\"Construct a FlowerClient with its own dataset partition.\"\"\"\n",
        "\n",
        "        # Extract partition for client with id = cid\n",
        "        # !!!!!!!!\n",
        "        client_dataset = dataset.load_partition(int(cid), \"train\")\n",
        "\n",
        "        # Now let's split it into train (80%) and validation (20%)\n",
        "        client_dataset_splits = client_dataset.train_test_split(test_size=0.2)\n",
        "\n",
        "        train_set = client_dataset_splits[\"train\"].to_tf_dataset(columns=['MWG', 'NWG', 'KWG', 'MDIMC', 'NDIMC', 'MDIMA', 'NDIMB', 'KWI', 'VWM',\n",
        "       'VWN', 'STRM', 'STRN', 'SA', 'SB'], label_cols=['avg_runs'], batch_size=32)\n",
        "        val_set = client_dataset_splits[\"test\"].to_tf_dataset(columns=['MWG', 'NWG', 'KWG', 'MDIMC', 'NDIMC', 'MDIMA', 'NDIMB', 'KWI', 'VWM',\n",
        "       'VWN', 'STRM', 'STRN', 'SA', 'SB'], label_cols=['avg_runs'], batch_size=64)\n",
        "\n",
        "\n",
        "        # Create and return client\n",
        "        return FlowerClient(train_set, val_set).to_client()\n",
        "\n",
        "    return client_fn"
      ]
    },
    {
      "cell_type": "code",
      "source": [
        "\"\"\"Aggregation function for (federated) evaluation metrics, i.e. those returned by the client's evaluate() method.\"\"\"\n",
        "\n",
        "def weighted_average(metrics: List[Tuple[int, Metrics]]) -> Metrics:\n",
        "    # Multiply metric of each client by number of examples used\n",
        "\n",
        "    #losses = [num_examples * m[\"loss\"] for num_examples, m in metrics]\n",
        "    mses = [num_examples * m[\"mse\"] for num_examples, m in metrics]\n",
        "    mapes = [num_examples * m[\"mape\"] for num_examples, m in metrics]\n",
        "    mean_squared_logarithmic_errors = [num_examples * m[\"mean_squared_logarithmic_error\"] for num_examples, m in metrics]\n",
        "    R2Scores = [num_examples * m[\"R2Score\"] for num_examples, m in metrics]\n",
        "\n",
        "    examples = [num_examples for num_examples, _ in metrics]\n",
        "\n",
        "    # Aggregate and return custom metric (weighted average)\n",
        "    return {\"mse\": sum(mses) / sum(examples), \"mape\": sum(mapes) / sum(examples), \"mean_squared_logarithmic_error\": sum(mean_squared_logarithmic_errors) / sum(examples),\"R2Score\": sum(R2Scores) / sum(examples)}"
      ],
      "metadata": {
        "id": "8h9XCWORTFQP"
      },
      "execution_count": 28,
      "outputs": []
    },
    {
      "cell_type": "code",
      "source": [
        "\"\"\"Returns an evaluation function for server-side (i.e. centralised) evaluation.\"\"\"\n",
        "\n",
        "def get_evaluate_fn(testset: Dataset):\n",
        "    # The `evaluate` function will be called after every round by the strategy\n",
        "    def evaluate(server_round: int, parameters: fl.common.NDArrays, config: Dict[str, fl.common.Scalar]):\n",
        "        model = get_model()  # Construct the model\n",
        "        model.set_weights(parameters)  # Update model with the latest parameters\n",
        "        aiuto = model.evaluate(testset) #, verbose=VERBOSE)\n",
        "        # return {\"loss\": res['loss'], \"mse\": res['mse'], \"mape\": res['mape'], \"mean_squared_logarithmic_error\": res['mean_squared_logarithmic_error'], \"R2Score\": res['R2Score']}\n",
        "        # return {\"loss\": loss, \"mse\": res[0], \"mape\": res[1], \"mean_squared_logarithmic_error\": res[2], \"R2Score\": res[3]}\n",
        "        # return {\"loss\": aiuto[0], \"mse\": aiuto[1], \"mape\": aiuto[2], \"mean_squared_logarithmic_error\": aiuto[3], \"R2Score\": aiuto[4]}\n",
        "        return aiuto[0], {\"mse\": aiuto[1], \"mape\": aiuto[2], \"mean_squared_logarithmic_error\": aiuto[3], \"R2Score\": aiuto[4]}\n",
        "\n",
        "    return evaluate"
      ],
      "metadata": {
        "id": "R6wiCDNeStVr"
      },
      "execution_count": 29,
      "outputs": []
    },
    {
      "cell_type": "markdown",
      "source": [
        "We now have `FlowerClient` which defines client-side training and evaluation, and `client_fn`, which allows Flower to create `FlowerClient` instances whenever it needs to call `fit` or `evaluate` on one particular client. The last step is to start the actual simulation using `flwr.simulation.start_simulation`."
      ],
      "metadata": {
        "id": "q0xhUWGPTzYe"
      }
    },
    {
      "cell_type": "code",
      "source": [
        "# Create FedAvg strategy\n",
        "\n",
        "def get_strategy(centralized_testset):\n",
        "  strategy = fl.server.strategy.FedAvg(\n",
        "      fraction_fit=0.1,  # Sample 10% of available clients for training\n",
        "      fraction_evaluate=0.05,  # Sample 5% of available clients for evaluation\n",
        "      min_fit_clients=10,  # Never sample less than 10 clients for training\n",
        "      min_evaluate_clients=5,  # Never sample less than 5 clients for evaluation\n",
        "      min_available_clients=int(\n",
        "          NUM_CLIENTS * 0.5\n",
        "      ),  # Wait until at least 75 clients are available\n",
        "      evaluate_metrics_aggregation_fn=weighted_average,  # aggregates federated metrics\n",
        "      evaluate_fn=get_evaluate_fn(centralized_testset),  # global evaluation function\n",
        "  )\n",
        "  return strategy"
      ],
      "metadata": {
        "id": "1QRIn5KFc8Lh"
      },
      "execution_count": 30,
      "outputs": []
    },
    {
      "cell_type": "markdown",
      "metadata": {
        "id": "-YeTBpsDaYXg"
      },
      "source": [
        "## Start the Simulation\n",
        "\n",
        "The function `start_simulation` accepts a number of arguments, amongst them the `client_fn` used to create `FlowerClient` instances, the number of clients to simulate `num_clients`, the number of rounds `num_rounds`, and the strategy. The strategy encapsulates the federated learning approach/algorithm, for example, *Federated Averaging* (FedAvg).\n",
        "\n",
        "Flower comes with a number of built-in strategies, but we can also use our own strategy implementations to customize nearly all aspects of the federated learning approach. For this example, we use the built-in `FedAvg` implementation and customize it using a few basic parameters. The last step is the actual call to `start_simulation` which - you guessed it - actually starts the simulation.\n",
        "\n",
        "We can use [Flower Datasets](https://flower.dev/docs/datasets/) to effortlessly obtain an off-the-shelf partitioned dataset or partition one that isn't pre-partitioned. Let's choose MNIST."
      ]
    },
    {
      "cell_type": "code",
      "source": [
        "# Enable GPU growth in your main process\n",
        "enable_tf_gpu_growth()\n",
        "\n",
        "# Download our dataset and partition it\n",
        "gpus_fds = FederatedDataset(dataset=\"anastasiafrosted/gpus\", partitioners={\"train\": NUM_CLIENTS})\n",
        "# Get the whole test set for centralised evaluation\n",
        "#print(column_names)\n",
        "centralized_testset = gpus_fds.load_full(\"test\").to_tf_dataset(columns=['MWG', 'NWG', 'KWG', 'MDIMC', 'NDIMC', 'MDIMA', 'NDIMB', 'KWI', 'VWM',\n",
        "       'VWN', 'STRM', 'STRN', 'SA', 'SB'], label_cols=['avg_runs'], batch_size=64)\n",
        "\n",
        "# get the strategy\n",
        "strategy = get_strategy(centralized_testset)"
      ],
      "metadata": {
        "id": "w0tmibgQkCCq"
      },
      "execution_count": 31,
      "outputs": []
    },
    {
      "cell_type": "code",
      "execution_count": 33,
      "metadata": {
        "id": "pFPZmaYXaYXh",
        "colab": {
          "base_uri": "https://localhost:8080/"
        },
        "outputId": "22445469-9bb6-442e-9b6b-5059206b01b9"
      },
      "outputs": [
        {
          "metadata": {
            "tags": null
          },
          "name": "stderr",
          "output_type": "stream",
          "text": [
            "INFO flwr 2024-03-01 09:28:49,413 | app.py:178 | Starting Flower simulation, config: ServerConfig(num_rounds=10, round_timeout=None)\n",
            "INFO:flwr:Starting Flower simulation, config: ServerConfig(num_rounds=10, round_timeout=None)\n",
            "2024-03-01 09:28:55,957\tINFO worker.py:1621 -- Started a local Ray instance.\n",
            "INFO flwr 2024-03-01 09:28:59,308 | app.py:213 | Flower VCE: Ray initialized with resources: {'object_store_memory': 3916056576.0, 'memory': 7832113152.0, 'node:172.28.0.12': 1.0, 'node:__internal_head__': 1.0, 'CPU': 2.0}\n",
            "INFO:flwr:Flower VCE: Ray initialized with resources: {'object_store_memory': 3916056576.0, 'memory': 7832113152.0, 'node:172.28.0.12': 1.0, 'node:__internal_head__': 1.0, 'CPU': 2.0}\n",
            "INFO flwr 2024-03-01 09:28:59,318 | app.py:219 | Optimize your simulation with Flower VCE: https://flower.dev/docs/framework/how-to-run-simulations.html\n",
            "INFO:flwr:Optimize your simulation with Flower VCE: https://flower.dev/docs/framework/how-to-run-simulations.html\n",
            "INFO flwr 2024-03-01 09:28:59,327 | app.py:242 | Flower VCE: Resources for each Virtual Client: {'num_cpus': 2, 'num_gpus': 0.0}\n",
            "INFO:flwr:Flower VCE: Resources for each Virtual Client: {'num_cpus': 2, 'num_gpus': 0.0}\n",
            "INFO flwr 2024-03-01 09:28:59,400 | app.py:288 | Flower VCE: Creating VirtualClientEngineActorPool with 1 actors\n",
            "INFO:flwr:Flower VCE: Creating VirtualClientEngineActorPool with 1 actors\n",
            "INFO flwr 2024-03-01 09:28:59,414 | server.py:89 | Initializing global parameters\n",
            "INFO:flwr:Initializing global parameters\n",
            "INFO flwr 2024-03-01 09:28:59,433 | server.py:276 | Requesting initial parameters from one random client\n",
            "INFO:flwr:Requesting initial parameters from one random client\n",
            "\u001b[2m\u001b[36m(pid=15416)\u001b[0m 2024-03-01 09:29:01.374067: E external/local_xla/xla/stream_executor/cuda/cuda_dnn.cc:9261] Unable to register cuDNN factory: Attempting to register factory for plugin cuDNN when one has already been registered\n",
            "\u001b[2m\u001b[36m(pid=15416)\u001b[0m 2024-03-01 09:29:01.374241: E external/local_xla/xla/stream_executor/cuda/cuda_fft.cc:607] Unable to register cuFFT factory: Attempting to register factory for plugin cuFFT when one has already been registered\n",
            "\u001b[2m\u001b[36m(pid=15416)\u001b[0m 2024-03-01 09:29:01.376268: E external/local_xla/xla/stream_executor/cuda/cuda_blas.cc:1515] Unable to register cuBLAS factory: Attempting to register factory for plugin cuBLAS when one has already been registered\n",
            "\u001b[2m\u001b[36m(pid=15416)\u001b[0m 2024-03-01 09:29:02.800087: W tensorflow/compiler/tf2tensorrt/utils/py_utils.cc:38] TF-TRT Warning: Could not find TensorRT\n",
            "\u001b[2m\u001b[36m(DefaultActor pid=15416)\u001b[0m /usr/local/lib/python3.10/dist-packages/datasets/arrow_dataset.py:401: FutureWarning: The output of `to_tf_dataset` will change when a passing single element list for `labels` or `columns` in the next datasets version. To return a tuple structure rather than dict, pass a single string.\n",
            "\u001b[2m\u001b[36m(DefaultActor pid=15416)\u001b[0m Old behaviour: columns=['a'], labels=['labels'] -> (tf.Tensor, tf.Tensor)  \n",
            "\u001b[2m\u001b[36m(DefaultActor pid=15416)\u001b[0m              : columns='a', labels='labels' -> (tf.Tensor, tf.Tensor)  \n",
            "\u001b[2m\u001b[36m(DefaultActor pid=15416)\u001b[0m New behaviour: columns=['a'],labels=['labels'] -> ({'a': tf.Tensor}, {'labels': tf.Tensor})  \n",
            "\u001b[2m\u001b[36m(DefaultActor pid=15416)\u001b[0m              : columns='a', labels='labels' -> (tf.Tensor, tf.Tensor) \n",
            "\u001b[2m\u001b[36m(DefaultActor pid=15416)\u001b[0m   warnings.warn(\n",
            "INFO flwr 2024-03-01 09:29:05,724 | server.py:280 | Received initial parameters from one random client\n",
            "INFO:flwr:Received initial parameters from one random client\n",
            "INFO flwr 2024-03-01 09:29:05,727 | server.py:91 | Evaluating initial parameters\n",
            "INFO:flwr:Evaluating initial parameters\n"
          ]
        },
        {
          "metadata": {
            "tags": null
          },
          "name": "stdout",
          "output_type": "stream",
          "text": [
            "755/755 [==============================] - 17s 22ms/step - loss: 1.1896 - mse: 3.9166 - mape: 2123.6982 - mean_squared_logarithmic_error: 0.3991 - r2_score: -0.0013\n"
          ]
        },
        {
          "metadata": {
            "tags": null
          },
          "name": "stderr",
          "output_type": "stream",
          "text": [
            "INFO flwr 2024-03-01 09:29:26,846 | server.py:94 | initial parameters (loss, other metrics): 1.1896244287490845, {'mse': 3.916562795639038, 'mape': 2123.6982421875, 'mean_squared_logarithmic_error': 0.39910581707954407, 'R2Score': -0.0013494491577148438}\n",
            "INFO:flwr:initial parameters (loss, other metrics): 1.1896244287490845, {'mse': 3.916562795639038, 'mape': 2123.6982421875, 'mean_squared_logarithmic_error': 0.39910581707954407, 'R2Score': -0.0013494491577148438}\n",
            "INFO flwr 2024-03-01 09:29:26,851 | server.py:104 | FL starting\n",
            "INFO:flwr:FL starting\n",
            "DEBUG flwr 2024-03-01 09:29:26,855 | server.py:222 | fit_round 1: strategy sampled 10 clients (out of 100)\n",
            "DEBUG:flwr:fit_round 1: strategy sampled 10 clients (out of 100)\n",
            "DEBUG flwr 2024-03-01 09:29:53,078 | server.py:236 | fit_round 1 received 10 results and 0 failures\n",
            "DEBUG:flwr:fit_round 1 received 10 results and 0 failures\n",
            "WARNING flwr 2024-03-01 09:29:53,095 | fedavg.py:250 | No fit_metrics_aggregation_fn provided\n",
            "WARNING:flwr:No fit_metrics_aggregation_fn provided\n"
          ]
        },
        {
          "metadata": {
            "tags": null
          },
          "name": "stdout",
          "output_type": "stream",
          "text": [
            "755/755 [==============================] - 14s 17ms/step - loss: 0.9344 - mse: 4.5362 - mape: 100.0147 - mean_squared_logarithmic_error: 0.4879 - r2_score: -0.1598\n"
          ]
        },
        {
          "metadata": {
            "tags": null
          },
          "name": "stderr",
          "output_type": "stream",
          "text": [
            "INFO flwr 2024-03-01 09:30:06,750 | server.py:125 | fit progress: (1, 0.934440016746521, {'mse': 4.536165237426758, 'mape': 100.01473236083984, 'mean_squared_logarithmic_error': 0.48788943886756897, 'R2Score': -0.15976345539093018}, 39.89569243300002)\n",
            "INFO:flwr:fit progress: (1, 0.934440016746521, {'mse': 4.536165237426758, 'mape': 100.01473236083984, 'mean_squared_logarithmic_error': 0.48788943886756897, 'R2Score': -0.15976345539093018}, 39.89569243300002)\n",
            "DEBUG flwr 2024-03-01 09:30:06,755 | server.py:173 | evaluate_round 1: strategy sampled 5 clients (out of 100)\n",
            "DEBUG:flwr:evaluate_round 1: strategy sampled 5 clients (out of 100)\n"
          ]
        },
        {
          "metadata": {
            "tags": null
          },
          "name": "stdout",
          "output_type": "stream",
          "text": [
            "7/7 [==============================] - 1s 13ms/step - loss: 1.0503 - mse: 6.8370 - mape: 99.9557 - mean_squared_logarithmic_error: 0.5401 - r2_score: -0.1337\n",
            "1/7 [===>..........................] - ETA: 7s - loss: 0.7862 - mse: 3.3417 - mape: 100.0354 - mean_squared_logarithmic_error: 0.4024 - r2_score: -0.1476\n",
            "7/7 [==============================] - 1s 14ms/step - loss: 0.8681 - mse: 4.4747 - mape: 100.0100 - mean_squared_logarithmic_error: 0.4471 - r2_score: -0.1327\n",
            "1/7 [===>..........................] - ETA: 3s - loss: 1.0000 - mse: 4.4709 - mape: 100.0321 - mean_squared_logarithmic_error: 0.5344 - r2_score: -0.2120\n",
            "7/7 [==============================] - 1s 13ms/step - loss: 0.9474 - mse: 4.3878 - mape: 99.9787 - mean_squared_logarithmic_error: 0.4970 - r2_score: -0.1742\n",
            "1/7 [===>..........................] - ETA: 2s - loss: 1.1837 - mse: 8.9931 - mape: 99.9978 - mean_squared_logarithmic_error: 0.6282 - r2_score: -0.1420\n",
            "7/7 [==============================] - 1s 13ms/step - loss: 1.0791 - mse: 6.5662 - mape: 100.0443 - mean_squared_logarithmic_error: 0.5661 - r2_score: -0.1530\n"
          ]
        },
        {
          "metadata": {
            "tags": null
          },
          "name": "stderr",
          "output_type": "stream",
          "text": [
            "DEBUG flwr 2024-03-01 09:30:12,563 | server.py:187 | evaluate_round 1 received 5 results and 0 failures\n",
            "DEBUG:flwr:evaluate_round 1 received 5 results and 0 failures\n",
            "DEBUG flwr 2024-03-01 09:30:12,572 | server.py:222 | fit_round 2: strategy sampled 10 clients (out of 100)\n",
            "DEBUG:flwr:fit_round 2: strategy sampled 10 clients (out of 100)\n"
          ]
        },
        {
          "metadata": {
            "tags": null
          },
          "name": "stdout",
          "output_type": "stream",
          "text": [
            "\u001b[2m\u001b[36m(DefaultActor pid=15416)\u001b[0m \r1/7 [===>..........................] - ETA: 3s - loss: 1.2289 - mse: 5.5014 - mape: 100.0065 - mean_squared_logarithmic_error: 0.6855 - r2_score: -0.2807\b\b\b\b\b\b\b\b\b\b\b\b\b\b\b\b\b\b\b\b\b\b\b\b\b\b\b\b\b\b\b\b\b\b\b\b\b\b\b\b\b\b\b\b\b\b\b\b\b\b\b\b\b\b\b\b\b\b\b\b\b\b\b\b\b\b\b\b\b\b\b\b\b\b\b\b\b\b\b\b\b\b\b\b\b\b\b\b\b\b\b\b\b\b\b\b\b\b\b\b\b\b\b\b\b\b\b\b\b\b\b\b\b\b\b\b\b\b\b\b\b\b\b\b\b\b\b\b\b\b\b\b\b\b\b\b\b\b\b\b\b\b\b\b\b\b\b\b\b\b\b\b\b\r5/7 [====================>.........] - ETA: 0s - loss: 0.8406 - mse: 3.5379 - mape: 100.0947 - mean_squared_logarithmic_error: 0.4366 - r2_score: -0.1580\b\b\b\b\b\b\b\b\b\b\b\b\b\b\b\b\b\b\b\b\b\b\b\b\b\b\b\b\b\b\b\b\b\b\b\b\b\b\b\b\b\b\b\b\b\b\b\b\b\b\b\b\b\b\b\b\b\b\b\b\b\b\b\b\b\b\b\b\b\b\b\b\b\b\b\b\b\b\b\b\b\b\b\b\b\b\b\b\b\b\b\b\b\b\b\b\b\b\b\b\b\b\b\b\b\b\b\b\b\b\b\b\b\b\b\b\b\b\b\b\b\b\b\b\b\b\b\b\b\b\b\b\b\b\b\b\b\b\b\b\b\b\b\b\b\b\b\b\b\b\b\b\b\r7/7 [==============================] - 1s 13ms/step - loss: 0.8453 - mse: 3.4817 - mape: 100.0804 - mean_squared_logarithmic_error: 0.4428 - r2_score: -0.1654\n"
          ]
        },
        {
          "metadata": {
            "tags": null
          },
          "name": "stderr",
          "output_type": "stream",
          "text": [
            "DEBUG flwr 2024-03-01 09:30:34,739 | server.py:236 | fit_round 2 received 10 results and 0 failures\n",
            "DEBUG:flwr:fit_round 2 received 10 results and 0 failures\n"
          ]
        },
        {
          "metadata": {
            "tags": null
          },
          "name": "stdout",
          "output_type": "stream",
          "text": [
            "755/755 [==============================] - 13s 17ms/step - loss: 0.9344 - mse: 4.5361 - mape: 100.0361 - mean_squared_logarithmic_error: 0.4879 - r2_score: -0.1597\n"
          ]
        },
        {
          "metadata": {
            "tags": null
          },
          "name": "stderr",
          "output_type": "stream",
          "text": [
            "INFO flwr 2024-03-01 09:30:55,756 | server.py:125 | fit progress: (2, 0.9344384670257568, {'mse': 4.536111354827881, 'mape': 100.03607177734375, 'mean_squared_logarithmic_error': 0.48786240816116333, 'R2Score': -0.15974974632263184}, 88.90158416199984)\n",
            "INFO:flwr:fit progress: (2, 0.9344384670257568, {'mse': 4.536111354827881, 'mape': 100.03607177734375, 'mean_squared_logarithmic_error': 0.48786240816116333, 'R2Score': -0.15974974632263184}, 88.90158416199984)\n",
            "DEBUG flwr 2024-03-01 09:30:55,760 | server.py:173 | evaluate_round 2: strategy sampled 5 clients (out of 100)\n",
            "DEBUG:flwr:evaluate_round 2: strategy sampled 5 clients (out of 100)\n"
          ]
        },
        {
          "metadata": {
            "tags": null
          },
          "name": "stdout",
          "output_type": "stream",
          "text": [
            "1/7 [===>..........................] - ETA: 3s - loss: 0.9543 - mse: 3.3076 - mape: 99.9947 - mean_squared_logarithmic_error: 0.5174 - r2_score: -0.2557\n",
            "3/7 [===========>..................] - ETA: 0s - loss: 0.9060 - mse: 3.4407 - mape: 99.9646 - mean_squared_logarithmic_error: 0.4765 - r2_score: -0.2080\n",
            "7/7 [==============================] - 1s 24ms/step - loss: 0.8955 - mse: 3.4384 - mape: 99.9805 - mean_squared_logarithmic_error: 0.4698 - r2_score: -0.2019\n",
            "1/7 [===>..........................] - ETA: 4s - loss: 0.7750 - mse: 2.2577 - mape: 100.1819 - mean_squared_logarithmic_error: 0.4098 - r2_score: -0.2046\n",
            "4/7 [================>.............] - ETA: 0s - loss: 0.8373 - mse: 3.4272 - mape: 100.0679 - mean_squared_logarithmic_error: 0.4375 - r2_score: -0.1576\n",
            "7/7 [==============================] - 1s 19ms/step - loss: 0.9265 - mse: 4.4554 - mape: 100.0459 - mean_squared_logarithmic_error: 0.4891 - r2_score: -0.1587\n",
            "3/7 [===========>..................] - ETA: 0s - loss: 0.6853 - mse: 1.9671 - mape: 100.0190 - mean_squared_logarithmic_error: 0.3435 - r2_score: -0.1716\n",
            "7/7 [==============================] - 1s 24ms/step - loss: 0.8334 - mse: 2.9170 - mape: 99.9583 - mean_squared_logarithmic_error: 0.4390 - r2_score: -0.1907\n",
            "7/7 [==============================] - 1s 13ms/step - loss: 0.9611 - mse: 4.8343 - mape: 100.0502 - mean_squared_logarithmic_error: 0.5047 - r2_score: -0.1617\n"
          ]
        },
        {
          "metadata": {
            "tags": null
          },
          "name": "stderr",
          "output_type": "stream",
          "text": [
            "DEBUG flwr 2024-03-01 09:31:01,961 | server.py:187 | evaluate_round 2 received 5 results and 0 failures\n",
            "DEBUG:flwr:evaluate_round 2 received 5 results and 0 failures\n",
            "DEBUG flwr 2024-03-01 09:31:01,965 | server.py:222 | fit_round 3: strategy sampled 10 clients (out of 100)\n",
            "DEBUG:flwr:fit_round 3: strategy sampled 10 clients (out of 100)\n"
          ]
        },
        {
          "metadata": {
            "tags": null
          },
          "name": "stdout",
          "output_type": "stream",
          "text": [
            "\u001b[2m\u001b[36m(DefaultActor pid=15416)\u001b[0m \r1/7 [===>..........................] - ETA: 3s - loss: 0.9445 - mse: 3.7807 - mape: 99.8766 - mean_squared_logarithmic_error: 0.5107 - r2_score: -0.2216\n",
            "\u001b[2m\u001b[36m(DefaultActor pid=15416)\u001b[0m \b\b\b\b\b\b\b\b\b\b\b\b\b\b\b\b\b\b\b\b\b\b\b\b\b\b\b\b\b\b\b\b\b\b\b\b\b\b\b\b\b\b\b\b\b\b\b\b\b\b\b\b\b\b\b\b\b\b\b\b\b\b\b\b\b\b\b\b\b\b\b\b\b\b\b\b\b\b\b\b\b\b\b\b\b\b\b\b\b\b\b\b\b\b\b\b\b\b\b\b\b\b\b\b\b\b\b\b\b\b\b\b\b\b\b\b\b\b\b\b\b\b\b\b\b\b\b\b\b\b\b\b\b\b\b\b\b\b\b\b\b\b\b\b\b\b\b\b\b\b\b\b\r6/7 [========================>.....] - ETA: 0s - loss: 0.8455 - mse: 3.7814 - mape: 100.0080 - mean_squared_logarithmic_error: 0.4338 - r2_score: -0.1521\b\b\b\b\b\b\b\b\b\b\b\b\b\b\b\b\b\b\b\b\b\b\b\b\b\b\b\b\b\b\b\b\b\b\b\b\b\b\b\b\b\b\b\b\b\b\b\b\b\b\b\b\b\b\b\b\b\b\b\b\b\b\b\b\b\b\b\b\b\b\b\b\b\b\b\b\b\b\b\b\b\b\b\b\b\b\b\b\b\b\b\b\b\b\b\b\b\b\b\b\b\b\b\b\b\b\b\b\b\b\b\b\b\b\b\b\b\b\b\b\b\b\b\b\b\b\b\b\b\b\b\b\b\b\b\b\b\b\b\b\b\b\b\b\b\b\b\b\b\b\b\b\b\r7/7 [==============================] - 1s 11ms/step - loss: 0.8447 - mse: 3.7580 - mape: 100.0081 - mean_squared_logarithmic_error: 0.4331 - r2_score: -0.1530\n"
          ]
        },
        {
          "metadata": {
            "tags": null
          },
          "name": "stderr",
          "output_type": "stream",
          "text": [
            "DEBUG flwr 2024-03-01 09:31:22,441 | server.py:236 | fit_round 3 received 10 results and 0 failures\n",
            "DEBUG:flwr:fit_round 3 received 10 results and 0 failures\n"
          ]
        },
        {
          "metadata": {
            "tags": null
          },
          "name": "stdout",
          "output_type": "stream",
          "text": [
            "755/755 [==============================] - 13s 17ms/step - loss: 0.9342 - mse: 4.5343 - mape: 100.2515 - mean_squared_logarithmic_error: 0.4872 - r2_score: -0.1593\n"
          ]
        },
        {
          "metadata": {
            "tags": null
          },
          "name": "stderr",
          "output_type": "stream",
          "text": [
            "INFO flwr 2024-03-01 09:31:43,457 | server.py:125 | fit progress: (3, 0.9342393279075623, {'mse': 4.5343427658081055, 'mape': 100.25154876708984, 'mean_squared_logarithmic_error': 0.48718520998954773, 'R2Score': -0.15929758548736572}, 136.60242258200014)\n",
            "INFO:flwr:fit progress: (3, 0.9342393279075623, {'mse': 4.5343427658081055, 'mape': 100.25154876708984, 'mean_squared_logarithmic_error': 0.48718520998954773, 'R2Score': -0.15929758548736572}, 136.60242258200014)\n",
            "DEBUG flwr 2024-03-01 09:31:43,460 | server.py:173 | evaluate_round 3: strategy sampled 5 clients (out of 100)\n",
            "DEBUG:flwr:evaluate_round 3: strategy sampled 5 clients (out of 100)\n"
          ]
        },
        {
          "metadata": {
            "tags": null
          },
          "name": "stdout",
          "output_type": "stream",
          "text": [
            "1/7 [===>..........................] - ETA: 3s - loss: 1.4738 - mse: 9.7600 - mape: 99.9337 - mean_squared_logarithmic_error: 0.7947 - r2_score: -0.2400\n",
            "7/7 [==============================] - 1s 15ms/step - loss: 0.9771 - mse: 5.6772 - mape: 100.3042 - mean_squared_logarithmic_error: 0.5029 - r2_score: -0.1446\n",
            "1/7 [===>..........................] - ETA: 2s - loss: 0.6512 - mse: 1.8602 - mape: 100.2498 - mean_squared_logarithmic_error: 0.3324 - r2_score: -0.1586\n",
            "7/7 [==============================] - 1s 14ms/step - loss: 0.8570 - mse: 3.5463 - mape: 100.0134 - mean_squared_logarithmic_error: 0.4448 - r2_score: -0.1697\n",
            "1/7 [===>..........................] - ETA: 3s - loss: 1.0710 - mse: 5.4948 - mape: 100.7182 - mean_squared_logarithmic_error: 0.5725 - r2_score: -0.1811\n",
            "7/7 [==============================] - 1s 16ms/step - loss: 1.1030 - mse: 6.0736 - mape: 100.0423 - mean_squared_logarithmic_error: 0.5901 - r2_score: -0.1790\n",
            "1/7 [===>..........................] - ETA: 3s - loss: 0.6457 - mse: 1.5288 - mape: 100.0705 - mean_squared_logarithmic_error: 0.3207 - r2_score: -0.2030\n",
            "7/7 [==============================] - 1s 17ms/step - loss: 0.8376 - mse: 3.5253 - mape: 100.2742 - mean_squared_logarithmic_error: 0.4339 - r2_score: -0.1535\n"
          ]
        },
        {
          "metadata": {
            "tags": null
          },
          "name": "stderr",
          "output_type": "stream",
          "text": [
            "DEBUG flwr 2024-03-01 09:31:48,412 | server.py:187 | evaluate_round 3 received 5 results and 0 failures\n",
            "DEBUG:flwr:evaluate_round 3 received 5 results and 0 failures\n",
            "DEBUG flwr 2024-03-01 09:31:48,417 | server.py:222 | fit_round 4: strategy sampled 10 clients (out of 100)\n",
            "DEBUG:flwr:fit_round 4: strategy sampled 10 clients (out of 100)\n"
          ]
        },
        {
          "metadata": {
            "tags": null
          },
          "name": "stdout",
          "output_type": "stream",
          "text": [
            "\u001b[2m\u001b[36m(DefaultActor pid=15416)\u001b[0m \r1/7 [===>..........................] - ETA: 2s - loss: 1.0192 - mse: 5.5578 - mape: 100.5095 - mean_squared_logarithmic_error: 0.5290 - r2_score: -0.1498\n",
            "\u001b[2m\u001b[36m(DefaultActor pid=15416)\u001b[0m \b\b\b\b\b\b\b\b\b\b\b\b\b\b\b\b\b\b\b\b\b\b\b\b\b\b\b\b\b\b\b\b\b\b\b\b\b\b\b\b\b\b\b\b\b\b\b\b\b\b\b\b\b\b\b\b\b\b\b\b\b\b\b\b\b\b\b\b\b\b\b\b\b\b\b\b\b\b\b\b\b\b\b\b\b\b\b\b\b\b\b\b\b\b\b\b\b\b\b\b\b\b\b\b\b\b\b\b\b\b\b\b\b\b\b\b\b\b\b\b\b\b\b\b\b\b\b\b\b\b\b\b\b\b\b\b\b\b\b\b\b\b\b\b\b\b\b\b\b\b\b\b\b\r5/7 [====================>.........] - ETA: 0s - loss: 1.0354 - mse: 5.9549 - mape: 100.2051 - mean_squared_logarithmic_error: 0.5421 - r2_score: -0.1528\b\b\b\b\b\b\b\b\b\b\b\b\b\b\b\b\b\b\b\b\b\b\b\b\b\b\b\b\b\b\b\b\b\b\b\b\b\b\b\b\b\b\b\b\b\b\b\b\b\b\b\b\b\b\b\b\b\b\b\b\b\b\b\b\b\b\b\b\b\b\b\b\b\b\b\b\b\b\b\b\b\b\b\b\b\b\b\b\b\b\b\b\b\b\b\b\b\b\b\b\b\b\b\b\b\b\b\b\b\b\b\b\b\b\b\b\b\b\b\b\b\b\b\b\b\b\b\b\b\b\b\b\b\b\b\b\b\b\b\b\b\b\b\b\b\b\b\b\b\b\b\b\b\r7/7 [==============================] - 1s 13ms/step - loss: 1.0003 - mse: 5.2433 - mape: 100.2303 - mean_squared_logarithmic_error: 0.5246 - r2_score: -0.1648\n"
          ]
        },
        {
          "metadata": {
            "tags": null
          },
          "name": "stderr",
          "output_type": "stream",
          "text": [
            "DEBUG flwr 2024-03-01 09:32:09,978 | server.py:236 | fit_round 4 received 10 results and 0 failures\n",
            "DEBUG:flwr:fit_round 4 received 10 results and 0 failures\n"
          ]
        },
        {
          "metadata": {
            "tags": null
          },
          "name": "stdout",
          "output_type": "stream",
          "text": [
            "755/755 [==============================] - 13s 17ms/step - loss: 0.7131 - mse: 3.2752 - mape: 153.9035 - mean_squared_logarithmic_error: 0.1767 - r2_score: 0.1626\n"
          ]
        },
        {
          "metadata": {
            "tags": null
          },
          "name": "stderr",
          "output_type": "stream",
          "text": [
            "INFO flwr 2024-03-01 09:32:31,094 | server.py:125 | fit progress: (4, 0.7131234407424927, {'mse': 3.275172472000122, 'mape': 153.90354919433594, 'mean_squared_logarithmic_error': 0.1767091304063797, 'R2Score': 0.16263514757156372}, 184.23983195399978)\n",
            "INFO:flwr:fit progress: (4, 0.7131234407424927, {'mse': 3.275172472000122, 'mape': 153.90354919433594, 'mean_squared_logarithmic_error': 0.1767091304063797, 'R2Score': 0.16263514757156372}, 184.23983195399978)\n",
            "DEBUG flwr 2024-03-01 09:32:31,099 | server.py:173 | evaluate_round 4: strategy sampled 5 clients (out of 100)\n",
            "DEBUG:flwr:evaluate_round 4: strategy sampled 5 clients (out of 100)\n"
          ]
        },
        {
          "metadata": {
            "tags": null
          },
          "name": "stdout",
          "output_type": "stream",
          "text": [
            "7/7 [==============================] - 1s 12ms/step - loss: 0.8741 - mse: 5.0766 - mape: 125.2913 - mean_squared_logarithmic_error: 0.2273 - r2_score: 0.1131\n",
            "7/7 [==============================] - 1s 11ms/step - loss: 0.7789 - mse: 3.5498 - mape: 117.0115 - mean_squared_logarithmic_error: 0.2037 - r2_score: 0.1475\n",
            "1/7 [===>..........................] - ETA: 2s - loss: 1.1236 - mse: 5.9649 - mape: 88.4444 - mean_squared_logarithmic_error: 0.3001 - r2_score: 0.0817\n",
            "7/7 [==============================] - 1s 13ms/step - loss: 0.7607 - mse: 3.4412 - mape: 143.6742 - mean_squared_logarithmic_error: 0.1900 - r2_score: 0.1578\n",
            "1/7 [===>..........................] - ETA: 2s - loss: 0.5833 - mse: 2.6810 - mape: 112.8677 - mean_squared_logarithmic_error: 0.1325 - r2_score: 0.1900\n",
            "7/7 [==============================] - 1s 15ms/step - loss: 0.6739 - mse: 2.9570 - mape: 130.6794 - mean_squared_logarithmic_error: 0.1673 - r2_score: 0.1692\n"
          ]
        },
        {
          "metadata": {
            "tags": null
          },
          "name": "stderr",
          "output_type": "stream",
          "text": [
            "DEBUG flwr 2024-03-01 09:32:35,953 | server.py:187 | evaluate_round 4 received 5 results and 0 failures\n",
            "DEBUG:flwr:evaluate_round 4 received 5 results and 0 failures\n",
            "DEBUG flwr 2024-03-01 09:32:35,958 | server.py:222 | fit_round 5: strategy sampled 10 clients (out of 100)\n",
            "DEBUG:flwr:fit_round 5: strategy sampled 10 clients (out of 100)\n"
          ]
        },
        {
          "metadata": {
            "tags": null
          },
          "name": "stdout",
          "output_type": "stream",
          "text": [
            "\u001b[2m\u001b[36m(DefaultActor pid=15416)\u001b[0m \r1/7 [===>..........................] - ETA: 3s - loss: 0.4164 - mse: 0.9241 - mape: 111.1604 - mean_squared_logarithmic_error: 0.0834 - r2_score: 0.3132\n",
            "\u001b[2m\u001b[36m(DefaultActor pid=15416)\u001b[0m \b\b\b\b\b\b\b\b\b\b\b\b\b\b\b\b\b\b\b\b\b\b\b\b\b\b\b\b\b\b\b\b\b\b\b\b\b\b\b\b\b\b\b\b\b\b\b\b\b\b\b\b\b\b\b\b\b\b\b\b\b\b\b\b\b\b\b\b\b\b\b\b\b\b\b\b\b\b\b\b\b\b\b\b\b\b\b\b\b\b\b\b\b\b\b\b\b\b\b\b\b\b\b\b\b\b\b\b\b\b\b\b\b\b\b\b\b\b\b\b\b\b\b\b\b\b\b\b\b\b\b\b\b\b\b\b\b\b\b\b\b\b\b\b\b\b\b\b\b\b\b\b\r4/7 [================>.............] - ETA: 0s - loss: 0.6057 - mse: 2.4240 - mape: 101.0977 - mean_squared_logarithmic_error: 0.1436 - r2_score: 0.1897\b\b\b\b\b\b\b\b\b\b\b\b\b\b\b\b\b\b\b\b\b\b\b\b\b\b\b\b\b\b\b\b\b\b\b\b\b\b\b\b\b\b\b\b\b\b\b\b\b\b\b\b\b\b\b\b\b\b\b\b\b\b\b\b\b\b\b\b\b\b\b\b\b\b\b\b\b\b\b\b\b\b\b\b\b\b\b\b\b\b\b\b\b\b\b\b\b\b\b\b\b\b\b\b\b\b\b\b\b\b\b\b\b\b\b\b\b\b\b\b\b\b\b\b\b\b\b\b\b\b\b\b\b\b\b\b\b\b\b\b\b\b\b\b\b\b\b\b\b\b\b\b\r7/7 [==============================] - 1s 16ms/step - loss: 0.7093 - mse: 3.3340 - mape: 105.8739 - mean_squared_logarithmic_error: 0.1765 - r2_score: 0.1622\n"
          ]
        },
        {
          "metadata": {
            "tags": null
          },
          "name": "stderr",
          "output_type": "stream",
          "text": [
            "DEBUG flwr 2024-03-01 09:32:57,072 | server.py:236 | fit_round 5 received 10 results and 0 failures\n",
            "DEBUG:flwr:fit_round 5 received 10 results and 0 failures\n"
          ]
        },
        {
          "metadata": {
            "tags": null
          },
          "name": "stdout",
          "output_type": "stream",
          "text": [
            "755/755 [==============================] - 13s 17ms/step - loss: 0.6849 - mse: 3.2330 - mape: 127.2923 - mean_squared_logarithmic_error: 0.1668 - r2_score: 0.1734\n"
          ]
        },
        {
          "metadata": {
            "tags": null
          },
          "name": "stderr",
          "output_type": "stream",
          "text": [
            "INFO flwr 2024-03-01 09:33:10,441 | server.py:125 | fit progress: (5, 0.6848775744438171, {'mse': 3.2329540252685547, 'mape': 127.2923355102539, 'mean_squared_logarithmic_error': 0.16679687798023224, 'R2Score': 0.17342913150787354}, 223.58635456899992)\n",
            "INFO:flwr:fit progress: (5, 0.6848775744438171, {'mse': 3.2329540252685547, 'mape': 127.2923355102539, 'mean_squared_logarithmic_error': 0.16679687798023224, 'R2Score': 0.17342913150787354}, 223.58635456899992)\n",
            "DEBUG flwr 2024-03-01 09:33:10,446 | server.py:173 | evaluate_round 5: strategy sampled 5 clients (out of 100)\n",
            "DEBUG:flwr:evaluate_round 5: strategy sampled 5 clients (out of 100)\n"
          ]
        },
        {
          "metadata": {
            "tags": null
          },
          "name": "stdout",
          "output_type": "stream",
          "text": [
            "5/7 [====================>.........] - ETA: 0s - loss: 0.6925 - mse: 3.4633 - mape: 88.2557 - mean_squared_logarithmic_error: 0.1665 - r2_score: 0.1573\n",
            "7/7 [==============================] - 1s 12ms/step - loss: 0.6736 - mse: 3.1192 - mape: 89.1401 - mean_squared_logarithmic_error: 0.1608 - r2_score: 0.1711\n",
            "5/7 [====================>.........] - ETA: 0s - loss: 0.5773 - mse: 2.2538 - mape: 143.7260 - mean_squared_logarithmic_error: 0.1357 - r2_score: 0.2184\n",
            "7/7 [==============================] - 1s 12ms/step - loss: 0.5620 - mse: 2.0093 - mape: 148.0278 - mean_squared_logarithmic_error: 0.1302 - r2_score: 0.2337\n",
            "1/7 [===>..........................] - ETA: 2s - loss: 0.6483 - mse: 3.1206 - mape: 105.3613 - mean_squared_logarithmic_error: 0.1568 - r2_score: 0.1731\n",
            "7/7 [==============================] - 1s 13ms/step - loss: 0.6496 - mse: 2.9052 - mape: 93.4263 - mean_squared_logarithmic_error: 0.1553 - r2_score: 0.1812\n",
            "1/7 [===>..........................] - ETA: 3s - loss: 0.7930 - mse: 5.2119 - mape: 183.0626 - mean_squared_logarithmic_error: 0.2009 - r2_score: 0.1088\n",
            "7/7 [==============================] - 1s 14ms/step - loss: 0.5751 - mse: 2.0384 - mape: 133.9755 - mean_squared_logarithmic_error: 0.1318 - r2_score: 0.2293\n"
          ]
        },
        {
          "metadata": {
            "tags": null
          },
          "name": "stderr",
          "output_type": "stream",
          "text": [
            "DEBUG flwr 2024-03-01 09:33:15,696 | server.py:187 | evaluate_round 5 received 5 results and 0 failures\n",
            "DEBUG:flwr:evaluate_round 5 received 5 results and 0 failures\n",
            "DEBUG flwr 2024-03-01 09:33:15,699 | server.py:222 | fit_round 6: strategy sampled 10 clients (out of 100)\n",
            "DEBUG:flwr:fit_round 6: strategy sampled 10 clients (out of 100)\n"
          ]
        },
        {
          "metadata": {
            "tags": null
          },
          "name": "stdout",
          "output_type": "stream",
          "text": [
            "\u001b[2m\u001b[36m(DefaultActor pid=15416)\u001b[0m \r1/7 [===>..........................] - ETA: 2s - loss: 0.7583 - mse: 3.0828 - mape: 166.4137 - mean_squared_logarithmic_error: 0.1836 - r2_score: 0.1770\b\b\b\b\b\b\b\b\b\b\b\b\b\b\b\b\b\b\b\b\b\b\b\b\b\b\b\b\b\b\b\b\b\b\b\b\b\b\b\b\b\b\b\b\b\b\b\b\b\b\b\b\b\b\b\b\b\b\b\b\b\b\b\b\b\b\b\b\b\b\b\b\b\b\b\b\b\b\b\b\b\b\b\b\b\b\b\b\b\b\b\b\b\b\b\b\b\b\b\b\b\b\b\b\b\b\b\b\b\b\b\b\b\b\b\b\b\b\b\b\b\b\b\b\b\b\b\b\b\b\b\b\b\b\b\b\b\b\b\b\b\b\b\b\b\b\b\b\b\b\b\b\r6/7 [========================>.....] - ETA: 0s - loss: 0.7554 - mse: 3.4326 - mape: 131.4953 - mean_squared_logarithmic_error: 0.1851 - r2_score: 0.1737\b\b\b\b\b\b\b\b\b\b\b\b\b\b\b\b\b\b\b\b\b\b\b\b\b\b\b\b\b\b\b\b\b\b\b\b\b\b\b\b\b\b\b\b\b\b\b\b\b\b\b\b\b\b\b\b\b\b\b\b\b\b\b\b\b\b\b\b\b\b\b\b\b\b\b\b\b\b\b\b\b\b\b\b\b\b\b\b\b\b\b\b\b\b\b\b\b\b\b\b\b\b\b\b\b\b\b\b\b\b\b\b\b\b\b\b\b\b\b\b\b\b\b\b\b\b\b\b\b\b\b\b\b\b\b\b\b\b\b\b\b\b\b\b\b\b\b\b\b\b\b\b\r7/7 [==============================] - 1s 11ms/step - loss: 0.7501 - mse: 3.4060 - mape: 130.9626 - mean_squared_logarithmic_error: 0.1836 - r2_score: 0.1748\n"
          ]
        },
        {
          "metadata": {
            "tags": null
          },
          "name": "stderr",
          "output_type": "stream",
          "text": [
            "DEBUG flwr 2024-03-01 09:33:37,910 | server.py:236 | fit_round 6 received 10 results and 0 failures\n",
            "DEBUG:flwr:fit_round 6 received 10 results and 0 failures\n"
          ]
        },
        {
          "metadata": {
            "tags": null
          },
          "name": "stdout",
          "output_type": "stream",
          "text": [
            "755/755 [==============================] - 12s 16ms/step - loss: 0.6807 - mse: 3.2302 - mape: 110.8947 - mean_squared_logarithmic_error: 0.1666 - r2_score: 0.1741\n"
          ]
        },
        {
          "metadata": {
            "tags": null
          },
          "name": "stderr",
          "output_type": "stream",
          "text": [
            "INFO flwr 2024-03-01 09:33:50,576 | server.py:125 | fit progress: (6, 0.6807371377944946, {'mse': 3.2302088737487793, 'mape': 110.89469146728516, 'mean_squared_logarithmic_error': 0.16663487255573273, 'R2Score': 0.17413103580474854}, 263.721858031)\n",
            "INFO:flwr:fit progress: (6, 0.6807371377944946, {'mse': 3.2302088737487793, 'mape': 110.89469146728516, 'mean_squared_logarithmic_error': 0.16663487255573273, 'R2Score': 0.17413103580474854}, 263.721858031)\n",
            "DEBUG flwr 2024-03-01 09:33:50,585 | server.py:173 | evaluate_round 6: strategy sampled 5 clients (out of 100)\n",
            "DEBUG:flwr:evaluate_round 6: strategy sampled 5 clients (out of 100)\n"
          ]
        },
        {
          "metadata": {
            "tags": null
          },
          "name": "stdout",
          "output_type": "stream",
          "text": [
            "7/7 [==============================] - 1s 11ms/step - loss: 0.7848 - mse: 3.9742 - mape: 122.7793 - mean_squared_logarithmic_error: 0.1968 - r2_score: 0.1416\n",
            "5/7 [====================>.........] - ETA: 0s - loss: 0.8241 - mse: 4.2184 - mape: 90.1609 - mean_squared_logarithmic_error: 0.2078 - r2_score: 0.1465\n",
            "7/7 [==============================] - 1s 15ms/step - loss: 0.7751 - mse: 3.9187 - mape: 91.2582 - mean_squared_logarithmic_error: 0.1914 - r2_score: 0.1547\n",
            "1/7 [===>..........................] - ETA: 3s - loss: 0.4665 - mse: 0.6104 - mape: 183.6155 - mean_squared_logarithmic_error: 0.0906 - r2_score: 0.4479\n",
            "7/7 [==============================] - 1s 17ms/step - loss: 0.7258 - mse: 3.4890 - mape: 114.0270 - mean_squared_logarithmic_error: 0.1742 - r2_score: 0.1658\n",
            "1/7 [===>..........................] - ETA: 3s - loss: 0.8497 - mse: 5.8230 - mape: 102.5817 - mean_squared_logarithmic_error: 0.2380 - r2_score: 0.0938\n",
            "7/7 [==============================] - 1s 16ms/step - loss: 0.6138 - mse: 2.8587 - mape: 100.5071 - mean_squared_logarithmic_error: 0.1523 - r2_score: 0.1709\n"
          ]
        },
        {
          "metadata": {
            "tags": null
          },
          "name": "stderr",
          "output_type": "stream",
          "text": [
            "DEBUG flwr 2024-03-01 09:33:55,897 | server.py:187 | evaluate_round 6 received 5 results and 0 failures\n",
            "DEBUG:flwr:evaluate_round 6 received 5 results and 0 failures\n",
            "DEBUG flwr 2024-03-01 09:33:55,900 | server.py:222 | fit_round 7: strategy sampled 10 clients (out of 100)\n",
            "DEBUG:flwr:fit_round 7: strategy sampled 10 clients (out of 100)\n"
          ]
        },
        {
          "metadata": {
            "tags": null
          },
          "name": "stdout",
          "output_type": "stream",
          "text": [
            "\u001b[2m\u001b[36m(DefaultActor pid=15416)\u001b[0m \r1/7 [===>..........................] - ETA: 3s - loss: 0.7009 - mse: 3.3391 - mape: 97.6761 - mean_squared_logarithmic_error: 0.1666 - r2_score: 0.1892\n",
            "\u001b[2m\u001b[36m(DefaultActor pid=15416)\u001b[0m \b\b\b\b\b\b\b\b\b\b\b\b\b\b\b\b\b\b\b\b\b\b\b\b\b\b\b\b\b\b\b\b\b\b\b\b\b\b\b\b\b\b\b\b\b\b\b\b\b\b\b\b\b\b\b\b\b\b\b\b\b\b\b\b\b\b\b\b\b\b\b\b\b\b\b\b\b\b\b\b\b\b\b\b\b\b\b\b\b\b\b\b\b\b\b\b\b\b\b\b\b\b\b\b\b\b\b\b\b\b\b\b\b\b\b\b\b\b\b\b\b\b\b\b\b\b\b\b\b\b\b\b\b\b\b\b\b\b\b\b\b\b\b\b\b\b\b\b\b\b\b\r5/7 [====================>.........] - ETA: 0s - loss: 0.6392 - mse: 2.9247 - mape: 117.7706 - mean_squared_logarithmic_error: 0.1526 - r2_score: 0.1844\b\b\b\b\b\b\b\b\b\b\b\b\b\b\b\b\b\b\b\b\b\b\b\b\b\b\b\b\b\b\b\b\b\b\b\b\b\b\b\b\b\b\b\b\b\b\b\b\b\b\b\b\b\b\b\b\b\b\b\b\b\b\b\b\b\b\b\b\b\b\b\b\b\b\b\b\b\b\b\b\b\b\b\b\b\b\b\b\b\b\b\b\b\b\b\b\b\b\b\b\b\b\b\b\b\b\b\b\b\b\b\b\b\b\b\b\b\b\b\b\b\b\b\b\b\b\b\b\b\b\b\b\b\b\b\b\b\b\b\b\b\b\b\b\b\b\b\b\b\b\b\b\r7/7 [==============================] - 1s 12ms/step - loss: 0.6402 - mse: 2.7793 - mape: 111.1300 - mean_squared_logarithmic_error: 0.1515 - r2_score: 0.1930\n"
          ]
        },
        {
          "metadata": {
            "tags": null
          },
          "name": "stderr",
          "output_type": "stream",
          "text": [
            "DEBUG flwr 2024-03-01 09:34:17,961 | server.py:236 | fit_round 7 received 10 results and 0 failures\n",
            "DEBUG:flwr:fit_round 7 received 10 results and 0 failures\n"
          ]
        },
        {
          "metadata": {
            "tags": null
          },
          "name": "stdout",
          "output_type": "stream",
          "text": [
            "755/755 [==============================] - 14s 18ms/step - loss: 0.6807 - mse: 3.2302 - mape: 112.0599 - mean_squared_logarithmic_error: 0.1669 - r2_score: 0.1741\n"
          ]
        },
        {
          "metadata": {
            "tags": null
          },
          "name": "stderr",
          "output_type": "stream",
          "text": [
            "INFO flwr 2024-03-01 09:34:39,003 | server.py:125 | fit progress: (7, 0.6806697845458984, {'mse': 3.230189085006714, 'mape': 112.05987548828125, 'mean_squared_logarithmic_error': 0.1669459193944931, 'R2Score': 0.17413604259490967}, 312.1484358550001)\n",
            "INFO:flwr:fit progress: (7, 0.6806697845458984, {'mse': 3.230189085006714, 'mape': 112.05987548828125, 'mean_squared_logarithmic_error': 0.1669459193944931, 'R2Score': 0.17413604259490967}, 312.1484358550001)\n",
            "DEBUG flwr 2024-03-01 09:34:39,007 | server.py:173 | evaluate_round 7: strategy sampled 5 clients (out of 100)\n",
            "DEBUG:flwr:evaluate_round 7: strategy sampled 5 clients (out of 100)\n"
          ]
        },
        {
          "metadata": {
            "tags": null
          },
          "name": "stdout",
          "output_type": "stream",
          "text": [
            "1/7 [===>..........................] - ETA: 3s - loss: 0.3947 - mse: 0.4119 - mape: 88.0638 - mean_squared_logarithmic_error: 0.0716 - r2_score: 0.5015\n",
            "7/7 [==============================] - 1s 14ms/step - loss: 0.6921 - mse: 3.3740 - mape: 272.3887 - mean_squared_logarithmic_error: 0.1726 - r2_score: 0.1693\n",
            "1/7 [===>..........................] - ETA: 3s - loss: 0.6708 - mse: 2.8709 - mape: 90.3002 - mean_squared_logarithmic_error: 0.1614 - r2_score: 0.1983\n",
            "7/7 [==============================] - 1s 14ms/step - loss: 0.6847 - mse: 2.7906 - mape: 106.2258 - mean_squared_logarithmic_error: 0.1673 - r2_score: 0.1886\n",
            "3/7 [===========>..................] - ETA: 0s - loss: 0.8277 - mse: 4.6118 - mape: 85.0142 - mean_squared_logarithmic_error: 0.2120 - r2_score: 0.1232\n",
            "7/7 [==============================] - 1s 23ms/step - loss: 0.6819 - mse: 3.4450 - mape: 97.8407 - mean_squared_logarithmic_error: 0.1649 - r2_score: 0.1631\n",
            "4/7 [================>.............] - ETA: 0s - loss: 0.6046 - mse: 2.7726 - mape: 116.4100 - mean_squared_logarithmic_error: 0.1426 - r2_score: 0.1902\n",
            "7/7 [==============================] - 1s 21ms/step - loss: 0.6096 - mse: 2.7799 - mape: 105.3707 - mean_squared_logarithmic_error: 0.1439 - r2_score: 0.1966\n"
          ]
        },
        {
          "metadata": {
            "tags": null
          },
          "name": "stderr",
          "output_type": "stream",
          "text": [
            "DEBUG flwr 2024-03-01 09:34:45,113 | server.py:187 | evaluate_round 7 received 5 results and 0 failures\n",
            "DEBUG:flwr:evaluate_round 7 received 5 results and 0 failures\n",
            "DEBUG flwr 2024-03-01 09:34:45,116 | server.py:222 | fit_round 8: strategy sampled 10 clients (out of 100)\n",
            "DEBUG:flwr:fit_round 8: strategy sampled 10 clients (out of 100)\n"
          ]
        },
        {
          "metadata": {
            "tags": null
          },
          "name": "stdout",
          "output_type": "stream",
          "text": [
            "\u001b[2m\u001b[36m(DefaultActor pid=15416)\u001b[0m \r1/7 [===>..........................] - ETA: 3s - loss: 0.5923 - mse: 2.4198 - mape: 100.0508 - mean_squared_logarithmic_error: 0.1415 - r2_score: 0.2321\n",
            "\u001b[2m\u001b[36m(DefaultActor pid=15416)\u001b[0m \b\b\b\b\b\b\b\b\b\b\b\b\b\b\b\b\b\b\b\b\b\b\b\b\b\b\b\b\b\b\b\b\b\b\b\b\b\b\b\b\b\b\b\b\b\b\b\b\b\b\b\b\b\b\b\b\b\b\b\b\b\b\b\b\b\b\b\b\b\b\b\b\b\b\b\b\b\b\b\b\b\b\b\b\b\b\b\b\b\b\b\b\b\b\b\b\b\b\b\b\b\b\b\b\b\b\b\b\b\b\b\b\b\b\b\b\b\b\b\b\b\b\b\b\b\b\b\b\b\b\b\b\b\b\b\b\b\b\b\b\b\b\b\b\b\b\b\b\b\b\b\b\r5/7 [====================>.........] - ETA: 0s - loss: 0.7978 - mse: 4.4427 - mape: 133.4614 - mean_squared_logarithmic_error: 0.2066 - r2_score: 0.1326\b\b\b\b\b\b\b\b\b\b\b\b\b\b\b\b\b\b\b\b\b\b\b\b\b\b\b\b\b\b\b\b\b\b\b\b\b\b\b\b\b\b\b\b\b\b\b\b\b\b\b\b\b\b\b\b\b\b\b\b\b\b\b\b\b\b\b\b\b\b\b\b\b\b\b\b\b\b\b\b\b\b\b\b\b\b\b\b\b\b\b\b\b\b\b\b\b\b\b\b\b\b\b\b\b\b\b\b\b\b\b\b\b\b\b\b\b\b\b\b\b\b\b\b\b\b\b\b\b\b\b\b\b\b\b\b\b\b\b\b\b\b\b\b\b\b\b\b\b\b\b\b\r7/7 [==============================] - 1s 13ms/step - loss: 0.7793 - mse: 4.2535 - mape: 125.7036 - mean_squared_logarithmic_error: 0.2017 - r2_score: 0.1407\n"
          ]
        },
        {
          "metadata": {
            "tags": null
          },
          "name": "stderr",
          "output_type": "stream",
          "text": [
            "DEBUG flwr 2024-03-01 09:35:05,854 | server.py:236 | fit_round 8 received 10 results and 0 failures\n",
            "DEBUG:flwr:fit_round 8 received 10 results and 0 failures\n"
          ]
        },
        {
          "metadata": {
            "tags": null
          },
          "name": "stdout",
          "output_type": "stream",
          "text": [
            "755/755 [==============================] - 13s 17ms/step - loss: 0.6784 - mse: 3.2306 - mape: 94.5684 - mean_squared_logarithmic_error: 0.1675 - r2_score: 0.1740\n"
          ]
        },
        {
          "output_type": "stream",
          "name": "stderr",
          "text": [
            "INFO flwr 2024-03-01 09:35:26,972 | server.py:125 | fit progress: (8, 0.6784089207649231, {'mse': 3.2306392192840576, 'mape': 94.56838989257812, 'mean_squared_logarithmic_error': 0.16747894883155823, 'R2Score': 0.17402100563049316}, 360.117839387)\n",
            "INFO:flwr:fit progress: (8, 0.6784089207649231, {'mse': 3.2306392192840576, 'mape': 94.56838989257812, 'mean_squared_logarithmic_error': 0.16747894883155823, 'R2Score': 0.17402100563049316}, 360.117839387)\n",
            "DEBUG flwr 2024-03-01 09:35:26,979 | server.py:173 | evaluate_round 8: strategy sampled 5 clients (out of 100)\n",
            "DEBUG:flwr:evaluate_round 8: strategy sampled 5 clients (out of 100)\n"
          ]
        },
        {
          "output_type": "stream",
          "name": "stdout",
          "text": [
            "7/7 [==============================] - 1s 12ms/step - loss: 0.7387 - mse: 3.3268 - mape: 97.1348 - mean_squared_logarithmic_error: 0.1825 - r2_score: 0.1697\n",
            "5/7 [====================>.........] - ETA: 0s - loss: 0.4792 - mse: 0.8496 - mape: 83.9646 - mean_squared_logarithmic_error: 0.0979 - r2_score: 0.4037\n",
            "7/7 [==============================] - 1s 15ms/step - loss: 0.4973 - mse: 0.9461 - mape: 84.4483 - mean_squared_logarithmic_error: 0.1053 - r2_score: 0.3781\n",
            "1/7 [===>..........................] - ETA: 3s - loss: 0.6874 - mse: 3.2774 - mape: 81.4596 - mean_squared_logarithmic_error: 0.1684 - r2_score: 0.1742\n",
            "7/7 [==============================] - 1s 13ms/step - loss: 0.4687 - mse: 1.4985 - mape: 85.5058 - mean_squared_logarithmic_error: 0.1018 - r2_score: 0.2646\n",
            "7/7 [==============================] - 1s 12ms/step - loss: 0.6512 - mse: 2.6900 - mape: 91.4387 - mean_squared_logarithmic_error: 0.1611 - r2_score: 0.1935\n"
          ]
        },
        {
          "output_type": "stream",
          "name": "stderr",
          "text": [
            "DEBUG flwr 2024-03-01 09:35:31,894 | server.py:187 | evaluate_round 8 received 5 results and 0 failures\n",
            "DEBUG:flwr:evaluate_round 8 received 5 results and 0 failures\n",
            "DEBUG flwr 2024-03-01 09:35:31,899 | server.py:222 | fit_round 9: strategy sampled 10 clients (out of 100)\n",
            "DEBUG:flwr:fit_round 9: strategy sampled 10 clients (out of 100)\n"
          ]
        },
        {
          "output_type": "stream",
          "name": "stdout",
          "text": [
            "\u001b[2m\u001b[36m(DefaultActor pid=15416)\u001b[0m \r1/7 [===>..........................] - ETA: 2s - loss: 0.7518 - mse: 4.0877 - mape: 76.7001 - mean_squared_logarithmic_error: 0.2093 - r2_score: 0.1217\b\b\b\b\b\b\b\b\b\b\b\b\b\b\b\b\b\b\b\b\b\b\b\b\b\b\b\b\b\b\b\b\b\b\b\b\b\b\b\b\b\b\b\b\b\b\b\b\b\b\b\b\b\b\b\b\b\b\b\b\b\b\b\b\b\b\b\b\b\b\b\b\b\b\b\b\b\b\b\b\b\b\b\b\b\b\b\b\b\b\b\b\b\b\b\b\b\b\b\b\b\b\b\b\b\b\b\b\b\b\b\b\b\b\b\b\b\b\b\b\b\b\b\b\b\b\b\b\b\b\b\b\b\b\b\b\b\b\b\b\b\b\b\b\b\b\b\b\b\b\b\r5/7 [====================>.........] - ETA: 0s - loss: 0.7053 - mse: 3.1562 - mape: 83.7490 - mean_squared_logarithmic_error: 0.1792 - r2_score: 0.1713\b\b\b\b\b\b\b\b\b\b\b\b\b\b\b\b\b\b\b\b\b\b\b\b\b\b\b\b\b\b\b\b\b\b\b\b\b\b\b\b\b\b\b\b\b\b\b\b\b\b\b\b\b\b\b\b\b\b\b\b\b\b\b\b\b\b\b\b\b\b\b\b\b\b\b\b\b\b\b\b\b\b\b\b\b\b\b\b\b\b\b\b\b\b\b\b\b\b\b\b\b\b\b\b\b\b\b\b\b\b\b\b\b\b\b\b\b\b\b\b\b\b\b\b\b\b\b\b\b\b\b\b\b\b\b\b\b\b\b\b\b\b\b\b\b\b\b\b\b\b\b\r7/7 [==============================] - 1s 12ms/step - loss: 0.7454 - mse: 3.8050 - mape: 86.9822 - mean_squared_logarithmic_error: 0.1918 - r2_score: 0.1514\n"
          ]
        },
        {
          "output_type": "stream",
          "name": "stderr",
          "text": [
            "DEBUG flwr 2024-03-01 09:35:54,318 | server.py:236 | fit_round 9 received 10 results and 0 failures\n",
            "DEBUG:flwr:fit_round 9 received 10 results and 0 failures\n"
          ]
        },
        {
          "output_type": "stream",
          "name": "stdout",
          "text": [
            "755/755 [==============================] - 14s 17ms/step - loss: 0.6791 - mse: 3.2302 - mape: 102.0298 - mean_squared_logarithmic_error: 0.1672 - r2_score: 0.1741\n"
          ]
        },
        {
          "output_type": "stream",
          "name": "stderr",
          "text": [
            "INFO flwr 2024-03-01 09:36:08,061 | server.py:125 | fit progress: (9, 0.6791244149208069, {'mse': 3.2301549911499023, 'mape': 102.02979278564453, 'mean_squared_logarithmic_error': 0.16715028882026672, 'R2Score': 0.17414474487304688}, 401.20609344600007)\n",
            "INFO:flwr:fit progress: (9, 0.6791244149208069, {'mse': 3.2301549911499023, 'mape': 102.02979278564453, 'mean_squared_logarithmic_error': 0.16715028882026672, 'R2Score': 0.17414474487304688}, 401.20609344600007)\n",
            "DEBUG flwr 2024-03-01 09:36:08,067 | server.py:173 | evaluate_round 9: strategy sampled 5 clients (out of 100)\n",
            "DEBUG:flwr:evaluate_round 9: strategy sampled 5 clients (out of 100)\n"
          ]
        },
        {
          "output_type": "stream",
          "name": "stdout",
          "text": [
            "\u001b[2m\u001b[36m(DefaultActor pid=15416)\u001b[0m \r1/7 [===>..........................] - ETA: 3s - loss: 0.8839 - mse: 6.5973 - mape: 92.2433 - mean_squared_logarithmic_error: 0.2405 - r2_score: 0.1023\n",
            "7/7 [==============================] - 1s 12ms/step - loss: 0.7124 - mse: 3.3366 - mape: 87.2367 - mean_squared_logarithmic_error: 0.1764 - r2_score: 0.1690\n",
            "7/7 [==============================] - 1s 12ms/step - loss: 0.6626 - mse: 2.2331 - mape: 97.2950 - mean_squared_logarithmic_error: 0.1574 - r2_score: 0.2330\n",
            "1/7 [===>..........................] - ETA: 3s - loss: 0.5568 - mse: 1.7765 - mape: 121.4338 - mean_squared_logarithmic_error: 0.1282 - r2_score: 0.2466\n",
            "7/7 [==============================] - 1s 15ms/step - loss: 0.6362 - mse: 2.3625 - mape: 101.3322 - mean_squared_logarithmic_error: 0.1524 - r2_score: 0.2155\n",
            "7/7 [==============================] - 1s 12ms/step - loss: 0.5965 - mse: 2.5520 - mape: 118.9022 - mean_squared_logarithmic_error: 0.1410 - r2_score: 0.2070\n"
          ]
        },
        {
          "output_type": "stream",
          "name": "stderr",
          "text": [
            "DEBUG flwr 2024-03-01 09:36:13,117 | server.py:187 | evaluate_round 9 received 5 results and 0 failures\n",
            "DEBUG:flwr:evaluate_round 9 received 5 results and 0 failures\n",
            "DEBUG flwr 2024-03-01 09:36:13,121 | server.py:222 | fit_round 10: strategy sampled 10 clients (out of 100)\n",
            "DEBUG:flwr:fit_round 10: strategy sampled 10 clients (out of 100)\n"
          ]
        },
        {
          "output_type": "stream",
          "name": "stdout",
          "text": [
            "\u001b[2m\u001b[36m(DefaultActor pid=15416)\u001b[0m \r1/7 [===>..........................] - ETA: 3s - loss: 0.8898 - mse: 5.1381 - mape: 176.9323 - mean_squared_logarithmic_error: 0.2231 - r2_score: 0.1059\n",
            "\u001b[2m\u001b[36m(DefaultActor pid=15416)\u001b[0m \b\b\b\b\b\b\b\b\b\b\b\b\b\b\b\b\b\b\b\b\b\b\b\b\b\b\b\b\b\b\b\b\b\b\b\b\b\b\b\b\b\b\b\b\b\b\b\b\b\b\b\b\b\b\b\b\b\b\b\b\b\b\b\b\b\b\b\b\b\b\b\b\b\b\b\b\b\b\b\b\b\b\b\b\b\b\b\b\b\b\b\b\b\b\b\b\b\b\b\b\b\b\b\b\b\b\b\b\b\b\b\b\b\b\b\b\b\b\b\b\b\b\b\b\b\b\b\b\b\b\b\b\b\b\b\b\b\b\b\b\b\b\b\b\b\b\b\b\b\b\b\b\r4/7 [================>.............] - ETA: 0s - loss: 0.7451 - mse: 4.9915 - mape: 114.4285 - mean_squared_logarithmic_error: 0.1874 - r2_score: 0.1215\b\b\b\b\b\b\b\b\b\b\b\b\b\b\b\b\b\b\b\b\b\b\b\b\b\b\b\b\b\b\b\b\b\b\b\b\b\b\b\b\b\b\b\b\b\b\b\b\b\b\b\b\b\b\b\b\b\b\b\b\b\b\b\b\b\b\b\b\b\b\b\b\b\b\b\b\b\b\b\b\b\b\b\b\b\b\b\b\b\b\b\b\b\b\b\b\b\b\b\b\b\b\b\b\b\b\b\b\b\b\b\b\b\b\b\b\b\b\b\b\b\b\b\b\b\b\b\b\b\b\b\b\b\b\b\b\b\b\b\b\b\b\b\b\b\b\b\b\b\b\b\b\r7/7 [==============================] - 1s 17ms/step - loss: 0.6956 - mse: 4.0646 - mape: 143.7268 - mean_squared_logarithmic_error: 0.1698 - r2_score: 0.1428\n"
          ]
        },
        {
          "output_type": "stream",
          "name": "stderr",
          "text": [
            "DEBUG flwr 2024-03-01 09:36:33,706 | server.py:236 | fit_round 10 received 10 results and 0 failures\n",
            "DEBUG:flwr:fit_round 10 received 10 results and 0 failures\n"
          ]
        },
        {
          "output_type": "stream",
          "name": "stdout",
          "text": [
            "755/755 [==============================] - 14s 17ms/step - loss: 0.6791 - mse: 3.2313 - mape: 92.9354 - mean_squared_logarithmic_error: 0.1679 - r2_score: 0.1738\n"
          ]
        },
        {
          "output_type": "stream",
          "name": "stderr",
          "text": [
            "INFO flwr 2024-03-01 09:36:54,720 | server.py:125 | fit progress: (10, 0.6790748238563538, {'mse': 3.2313389778137207, 'mape': 92.9354019165039, 'mean_squared_logarithmic_error': 0.16788776218891144, 'R2Score': 0.17384207248687744}, 447.8654488269999)\n",
            "INFO:flwr:fit progress: (10, 0.6790748238563538, {'mse': 3.2313389778137207, 'mape': 92.9354019165039, 'mean_squared_logarithmic_error': 0.16788776218891144, 'R2Score': 0.17384207248687744}, 447.8654488269999)\n",
            "DEBUG flwr 2024-03-01 09:36:54,724 | server.py:173 | evaluate_round 10: strategy sampled 5 clients (out of 100)\n",
            "DEBUG:flwr:evaluate_round 10: strategy sampled 5 clients (out of 100)\n"
          ]
        },
        {
          "output_type": "stream",
          "name": "stdout",
          "text": [
            "\u001b[2m\u001b[36m(DefaultActor pid=15416)\u001b[0m \r1/7 [===>..........................] - ETA: 4s - loss: 0.4971 - mse: 2.2993 - mape: 91.5353 - mean_squared_logarithmic_error: 0.1072 - r2_score: 0.2224\n",
            "7/7 [==============================] - 1s 13ms/step - loss: 0.5711 - mse: 2.3417 - mape: 85.2391 - mean_squared_logarithmic_error: 0.1298 - r2_score: 0.2159\n",
            "1/7 [===>..........................] - ETA: 2s - loss: 1.0231 - mse: 6.1203 - mape: 83.1930 - mean_squared_logarithmic_error: 0.2823 - r2_score: 0.1078\n",
            "7/7 [==============================] - 1s 12ms/step - loss: 0.8066 - mse: 4.0812 - mape: 88.3601 - mean_squared_logarithmic_error: 0.2068 - r2_score: 0.1435\n",
            "1/7 [===>..........................] - ETA: 2s - loss: 0.9144 - mse: 3.9290 - mape: 89.0458 - mean_squared_logarithmic_error: 0.2310 - r2_score: 0.1423\n",
            "7/7 [==============================] - 1s 12ms/step - loss: 0.8142 - mse: 5.0988 - mape: 93.8183 - mean_squared_logarithmic_error: 0.2102 - r2_score: 0.1293\n",
            "7/7 [==============================] - 1s 11ms/step - loss: 0.6994 - mse: 3.3704 - mape: 92.6437 - mean_squared_logarithmic_error: 0.1756 - r2_score: 0.1713\n"
          ]
        },
        {
          "output_type": "stream",
          "name": "stderr",
          "text": [
            "DEBUG flwr 2024-03-01 09:37:00,000 | server.py:187 | evaluate_round 10 received 5 results and 0 failures\n",
            "DEBUG:flwr:evaluate_round 10 received 5 results and 0 failures\n",
            "INFO flwr 2024-03-01 09:37:00,005 | server.py:153 | FL finished in 453.15045945300017\n",
            "INFO:flwr:FL finished in 453.15045945300017\n",
            "INFO flwr 2024-03-01 09:37:00,008 | app.py:226 | app_fit: losses_distributed [(1, 0.9580541491508484), (2, 0.8922129034996032), (3, 0.9549748659133911), (4, 0.7593846082687378), (5, 0.6420782566070556), (6, 0.7079549193382263), (7, 0.6895213842391967), (8, 0.6202534735202789), (9, 0.6606318593025208), (10, 0.7164076805114746)]\n",
            "INFO:flwr:app_fit: losses_distributed [(1, 0.9580541491508484), (2, 0.8922129034996032), (3, 0.9549748659133911), (4, 0.7593846082687378), (5, 0.6420782566070556), (6, 0.7079549193382263), (7, 0.6895213842391967), (8, 0.6202534735202789), (9, 0.6606318593025208), (10, 0.7164076805114746)]\n",
            "INFO flwr 2024-03-01 09:37:00,011 | app.py:227 | app_fit: metrics_distributed_fit {}\n",
            "INFO:flwr:app_fit: metrics_distributed_fit {}\n",
            "INFO flwr 2024-03-01 09:37:00,014 | app.py:228 | app_fit: metrics_distributed {'mse': [(1, 5.149509286880493), (2, 3.880632925033569), (3, 4.813127851486206), (4, 3.671702432632446), (5, 2.6956480026245115), (6, 3.4039941787719727), (7, 3.328607177734375), (8, 2.4532731771469116), (9, 2.909761333465576), (10, 3.712145185470581)], 'mape': [(1, 100.01381225585938), (2, 100.0085952758789), (3, 100.17288970947266), (4, 124.50606536865234), (5, 119.10648498535156), (6, 107.94032440185546), (7, 141.5058853149414), (8, 89.10196838378906), (9, 109.69857635498047), (10, 89.27938995361328)], 'mean_squared_logarithmic_error': [(1, 0.49860509037971495), (2, 0.46714493036270144), (3, 0.4992571234703064), (4, 0.1929435044527054), (5, 0.15233646631240844), (6, 0.1732267141342163), (7, 0.1700829118490219), (8, 0.1485225334763527), (9, 0.15939731001853943), (10, 0.178874671459198)], 'R2Score': [(1, -0.15179946422576904), (2, -0.17321608066558838), (3, -0.1623173713684082), (4, 0.1499732255935669), (5, 0.1980133056640625), (6, 0.1651877284049988), (7, 0.1716755747795105), (8, 0.23144290447235108), (9, 0.19345672130584718), (10, 0.16391582489013673)]}\n",
            "INFO:flwr:app_fit: metrics_distributed {'mse': [(1, 5.149509286880493), (2, 3.880632925033569), (3, 4.813127851486206), (4, 3.671702432632446), (5, 2.6956480026245115), (6, 3.4039941787719727), (7, 3.328607177734375), (8, 2.4532731771469116), (9, 2.909761333465576), (10, 3.712145185470581)], 'mape': [(1, 100.01381225585938), (2, 100.0085952758789), (3, 100.17288970947266), (4, 124.50606536865234), (5, 119.10648498535156), (6, 107.94032440185546), (7, 141.5058853149414), (8, 89.10196838378906), (9, 109.69857635498047), (10, 89.27938995361328)], 'mean_squared_logarithmic_error': [(1, 0.49860509037971495), (2, 0.46714493036270144), (3, 0.4992571234703064), (4, 0.1929435044527054), (5, 0.15233646631240844), (6, 0.1732267141342163), (7, 0.1700829118490219), (8, 0.1485225334763527), (9, 0.15939731001853943), (10, 0.178874671459198)], 'R2Score': [(1, -0.15179946422576904), (2, -0.17321608066558838), (3, -0.1623173713684082), (4, 0.1499732255935669), (5, 0.1980133056640625), (6, 0.1651877284049988), (7, 0.1716755747795105), (8, 0.23144290447235108), (9, 0.19345672130584718), (10, 0.16391582489013673)]}\n",
            "INFO flwr 2024-03-01 09:37:00,018 | app.py:229 | app_fit: losses_centralized [(0, 1.1896244287490845), (1, 0.934440016746521), (2, 0.9344384670257568), (3, 0.9342393279075623), (4, 0.7131234407424927), (5, 0.6848775744438171), (6, 0.6807371377944946), (7, 0.6806697845458984), (8, 0.6784089207649231), (9, 0.6791244149208069), (10, 0.6790748238563538)]\n",
            "INFO:flwr:app_fit: losses_centralized [(0, 1.1896244287490845), (1, 0.934440016746521), (2, 0.9344384670257568), (3, 0.9342393279075623), (4, 0.7131234407424927), (5, 0.6848775744438171), (6, 0.6807371377944946), (7, 0.6806697845458984), (8, 0.6784089207649231), (9, 0.6791244149208069), (10, 0.6790748238563538)]\n",
            "INFO flwr 2024-03-01 09:37:00,023 | app.py:230 | app_fit: metrics_centralized {'mse': [(0, 3.916562795639038), (1, 4.536165237426758), (2, 4.536111354827881), (3, 4.5343427658081055), (4, 3.275172472000122), (5, 3.2329540252685547), (6, 3.2302088737487793), (7, 3.230189085006714), (8, 3.2306392192840576), (9, 3.2301549911499023), (10, 3.2313389778137207)], 'mape': [(0, 2123.6982421875), (1, 100.01473236083984), (2, 100.03607177734375), (3, 100.25154876708984), (4, 153.90354919433594), (5, 127.2923355102539), (6, 110.89469146728516), (7, 112.05987548828125), (8, 94.56838989257812), (9, 102.02979278564453), (10, 92.9354019165039)], 'mean_squared_logarithmic_error': [(0, 0.39910581707954407), (1, 0.48788943886756897), (2, 0.48786240816116333), (3, 0.48718520998954773), (4, 0.1767091304063797), (5, 0.16679687798023224), (6, 0.16663487255573273), (7, 0.1669459193944931), (8, 0.16747894883155823), (9, 0.16715028882026672), (10, 0.16788776218891144)], 'R2Score': [(0, -0.0013494491577148438), (1, -0.15976345539093018), (2, -0.15974974632263184), (3, -0.15929758548736572), (4, 0.16263514757156372), (5, 0.17342913150787354), (6, 0.17413103580474854), (7, 0.17413604259490967), (8, 0.17402100563049316), (9, 0.17414474487304688), (10, 0.17384207248687744)]}\n",
            "INFO:flwr:app_fit: metrics_centralized {'mse': [(0, 3.916562795639038), (1, 4.536165237426758), (2, 4.536111354827881), (3, 4.5343427658081055), (4, 3.275172472000122), (5, 3.2329540252685547), (6, 3.2302088737487793), (7, 3.230189085006714), (8, 3.2306392192840576), (9, 3.2301549911499023), (10, 3.2313389778137207)], 'mape': [(0, 2123.6982421875), (1, 100.01473236083984), (2, 100.03607177734375), (3, 100.25154876708984), (4, 153.90354919433594), (5, 127.2923355102539), (6, 110.89469146728516), (7, 112.05987548828125), (8, 94.56838989257812), (9, 102.02979278564453), (10, 92.9354019165039)], 'mean_squared_logarithmic_error': [(0, 0.39910581707954407), (1, 0.48788943886756897), (2, 0.48786240816116333), (3, 0.48718520998954773), (4, 0.1767091304063797), (5, 0.16679687798023224), (6, 0.16663487255573273), (7, 0.1669459193944931), (8, 0.16747894883155823), (9, 0.16715028882026672), (10, 0.16788776218891144)], 'R2Score': [(0, -0.0013494491577148438), (1, -0.15976345539093018), (2, -0.15974974632263184), (3, -0.15929758548736572), (4, 0.16263514757156372), (5, 0.17342913150787354), (6, 0.17413103580474854), (7, 0.17413604259490967), (8, 0.17402100563049316), (9, 0.17414474487304688), (10, 0.17384207248687744)]}\n"
          ]
        },
        {
          "output_type": "stream",
          "name": "stdout",
          "text": [
            "\u001b[2m\u001b[36m(DefaultActor pid=15416)\u001b[0m \r1/7 [===>..........................] - ETA: 2s - loss: 0.6969 - mse: 3.3901 - mape: 79.2503 - mean_squared_logarithmic_error: 0.1799 - r2_score: 0.1548\b\b\b\b\b\b\b\b\b\b\b\b\b\b\b\b\b\b\b\b\b\b\b\b\b\b\b\b\b\b\b\b\b\b\b\b\b\b\b\b\b\b\b\b\b\b\b\b\b\b\b\b\b\b\b\b\b\b\b\b\b\b\b\b\b\b\b\b\b\b\b\b\b\b\b\b\b\b\b\b\b\b\b\b\b\b\b\b\b\b\b\b\b\b\b\b\b\b\b\b\b\b\b\b\b\b\b\b\b\b\b\b\b\b\b\b\b\b\b\b\b\b\b\b\b\b\b\b\b\b\b\b\b\b\b\b\b\b\b\b\b\b\b\b\b\b\b\b\b\b\b\r5/7 [====================>.........] - ETA: 0s - loss: 0.7236 - mse: 3.9407 - mape: 84.0000 - mean_squared_logarithmic_error: 0.1835 - r2_score: 0.1510\n"
          ]
        }
      ],
      "source": [
        "# With a dictionary, you tell Flower's VirtualClientEngine that each\n",
        "# client needs exclusive access to these many resources in order to run\n",
        "client_resources = {\"num_cpus\": 2, \"num_gpus\": 0.0}\n",
        "\n",
        "# Start simulation\n",
        "history = fl.simulation.start_simulation(\n",
        "    client_fn=get_client_fn(gpus_fds),\n",
        "    num_clients=NUM_CLIENTS,\n",
        "    config=fl.server.ServerConfig(num_rounds=10),\n",
        "    strategy=strategy,\n",
        "    client_resources=client_resources,\n",
        "    actor_kwargs={\n",
        "        \"on_actor_init_fn\": enable_tf_gpu_growth  # Enable GPU growth upon actor init.\n",
        "    },\n",
        ")"
      ]
    },
    {
      "cell_type": "code",
      "source": [
        "print(f\"{history.losses_centralized = }\")"
      ],
      "metadata": {
        "colab": {
          "base_uri": "https://localhost:8080/"
        },
        "id": "vSZumrGk4sB7",
        "outputId": "5f1dea37-0281-4ac4-beb6-4e00ad731121"
      },
      "execution_count": 36,
      "outputs": [
        {
          "output_type": "stream",
          "name": "stdout",
          "text": [
            "history.losses_centralized = [(0, 1.1896244287490845), (1, 0.934440016746521), (2, 0.9344384670257568), (3, 0.9342393279075623), (4, 0.7131234407424927), (5, 0.6848775744438171), (6, 0.6807371377944946), (7, 0.6806697845458984), (8, 0.6784089207649231), (9, 0.6791244149208069), (10, 0.6790748238563538)]\n"
          ]
        },
        {
          "output_type": "stream",
          "name": "stderr",
          "text": [
            "/usr/local/lib/python3.10/dist-packages/ipykernel/ipkernel.py:283: DeprecationWarning: `should_run_async` will not call `transform_cell` automatically in the future. Please pass the result to `transformed_cell` argument and any exception that happen during thetransform in `preprocessing_exc_tuple` in IPython 7.17 and above.\n",
            "  and should_run_async(code)\n"
          ]
        }
      ]
    },
    {
      "cell_type": "code",
      "source": [
        "h = pd.DataFrame(history.metrics_centralized['R2Score']).drop([0], axis=1).rename(columns={1: 'r2score'})\n",
        "h = pd.concat([h, pd.DataFrame(history.metrics_centralized['mse']).drop([0], axis=1)], axis=1).rename(columns={1: 'mse'})\n",
        "h = pd.concat([h, pd.DataFrame(history.metrics_centralized['mape']).drop([0], axis=1)], axis=1).rename(columns={1: 'mape'})\n",
        "h = pd.concat([h, pd.DataFrame(history.metrics_centralized['mean_squared_logarithmic_error']).drop([0], axis=1)], axis=1).rename(columns={1: 'msle'})\n",
        "h = pd.concat([h, pd.DataFrame(history.losses_centralized).drop([0], axis=1)], axis=1).rename(columns={1: 'loss (mae)'})\n",
        "h\n",
        "\n",
        "#perchè le losses centralizzate sono zeri ???????"
      ],
      "metadata": {
        "id": "MpyTX7QDAF4x",
        "outputId": "cc7b4f80-4ff8-429e-a442-e0355b258119",
        "colab": {
          "base_uri": "https://localhost:8080/",
          "height": 603
        }
      },
      "execution_count": 37,
      "outputs": [
        {
          "output_type": "stream",
          "name": "stderr",
          "text": [
            "/usr/local/lib/python3.10/dist-packages/pandas/core/dtypes/cast.py:1641: DeprecationWarning: np.find_common_type is deprecated.  Please use `np.result_type` or `np.promote_types`.\n",
            "See https://numpy.org/devdocs/release/1.25.0-notes.html and the docs for more information.  (Deprecated NumPy 1.25)\n",
            "  return np.find_common_type(types, [])\n",
            "/usr/local/lib/python3.10/dist-packages/pandas/core/dtypes/cast.py:1641: DeprecationWarning: np.find_common_type is deprecated.  Please use `np.result_type` or `np.promote_types`.\n",
            "See https://numpy.org/devdocs/release/1.25.0-notes.html and the docs for more information.  (Deprecated NumPy 1.25)\n",
            "  return np.find_common_type(types, [])\n",
            "/usr/local/lib/python3.10/dist-packages/pandas/core/dtypes/cast.py:1641: DeprecationWarning: np.find_common_type is deprecated.  Please use `np.result_type` or `np.promote_types`.\n",
            "See https://numpy.org/devdocs/release/1.25.0-notes.html and the docs for more information.  (Deprecated NumPy 1.25)\n",
            "  return np.find_common_type(types, [])\n",
            "/usr/local/lib/python3.10/dist-packages/pandas/core/dtypes/cast.py:1641: DeprecationWarning: np.find_common_type is deprecated.  Please use `np.result_type` or `np.promote_types`.\n",
            "See https://numpy.org/devdocs/release/1.25.0-notes.html and the docs for more information.  (Deprecated NumPy 1.25)\n",
            "  return np.find_common_type(types, [])\n"
          ]
        },
        {
          "output_type": "execute_result",
          "data": {
            "text/plain": [
              "     r2score       mse         mape      msle  loss (mae)\n",
              "0  -0.001349  3.916563  2123.698242  0.399106    1.189624\n",
              "1  -0.159763  4.536165   100.014732  0.487889    0.934440\n",
              "2  -0.159750  4.536111   100.036072  0.487862    0.934438\n",
              "3  -0.159298  4.534343   100.251549  0.487185    0.934239\n",
              "4   0.162635  3.275172   153.903549  0.176709    0.713123\n",
              "5   0.173429  3.232954   127.292336  0.166797    0.684878\n",
              "6   0.174131  3.230209   110.894691  0.166635    0.680737\n",
              "7   0.174136  3.230189   112.059875  0.166946    0.680670\n",
              "8   0.174021  3.230639    94.568390  0.167479    0.678409\n",
              "9   0.174145  3.230155   102.029793  0.167150    0.679124\n",
              "10  0.173842  3.231339    92.935402  0.167888    0.679075"
            ],
            "text/html": [
              "\n",
              "  <div id=\"df-d42267fb-a76c-4312-a094-ca97dd8ea4c3\" class=\"colab-df-container\">\n",
              "    <div>\n",
              "<style scoped>\n",
              "    .dataframe tbody tr th:only-of-type {\n",
              "        vertical-align: middle;\n",
              "    }\n",
              "\n",
              "    .dataframe tbody tr th {\n",
              "        vertical-align: top;\n",
              "    }\n",
              "\n",
              "    .dataframe thead th {\n",
              "        text-align: right;\n",
              "    }\n",
              "</style>\n",
              "<table border=\"1\" class=\"dataframe\">\n",
              "  <thead>\n",
              "    <tr style=\"text-align: right;\">\n",
              "      <th></th>\n",
              "      <th>r2score</th>\n",
              "      <th>mse</th>\n",
              "      <th>mape</th>\n",
              "      <th>msle</th>\n",
              "      <th>loss (mae)</th>\n",
              "    </tr>\n",
              "  </thead>\n",
              "  <tbody>\n",
              "    <tr>\n",
              "      <th>0</th>\n",
              "      <td>-0.001349</td>\n",
              "      <td>3.916563</td>\n",
              "      <td>2123.698242</td>\n",
              "      <td>0.399106</td>\n",
              "      <td>1.189624</td>\n",
              "    </tr>\n",
              "    <tr>\n",
              "      <th>1</th>\n",
              "      <td>-0.159763</td>\n",
              "      <td>4.536165</td>\n",
              "      <td>100.014732</td>\n",
              "      <td>0.487889</td>\n",
              "      <td>0.934440</td>\n",
              "    </tr>\n",
              "    <tr>\n",
              "      <th>2</th>\n",
              "      <td>-0.159750</td>\n",
              "      <td>4.536111</td>\n",
              "      <td>100.036072</td>\n",
              "      <td>0.487862</td>\n",
              "      <td>0.934438</td>\n",
              "    </tr>\n",
              "    <tr>\n",
              "      <th>3</th>\n",
              "      <td>-0.159298</td>\n",
              "      <td>4.534343</td>\n",
              "      <td>100.251549</td>\n",
              "      <td>0.487185</td>\n",
              "      <td>0.934239</td>\n",
              "    </tr>\n",
              "    <tr>\n",
              "      <th>4</th>\n",
              "      <td>0.162635</td>\n",
              "      <td>3.275172</td>\n",
              "      <td>153.903549</td>\n",
              "      <td>0.176709</td>\n",
              "      <td>0.713123</td>\n",
              "    </tr>\n",
              "    <tr>\n",
              "      <th>5</th>\n",
              "      <td>0.173429</td>\n",
              "      <td>3.232954</td>\n",
              "      <td>127.292336</td>\n",
              "      <td>0.166797</td>\n",
              "      <td>0.684878</td>\n",
              "    </tr>\n",
              "    <tr>\n",
              "      <th>6</th>\n",
              "      <td>0.174131</td>\n",
              "      <td>3.230209</td>\n",
              "      <td>110.894691</td>\n",
              "      <td>0.166635</td>\n",
              "      <td>0.680737</td>\n",
              "    </tr>\n",
              "    <tr>\n",
              "      <th>7</th>\n",
              "      <td>0.174136</td>\n",
              "      <td>3.230189</td>\n",
              "      <td>112.059875</td>\n",
              "      <td>0.166946</td>\n",
              "      <td>0.680670</td>\n",
              "    </tr>\n",
              "    <tr>\n",
              "      <th>8</th>\n",
              "      <td>0.174021</td>\n",
              "      <td>3.230639</td>\n",
              "      <td>94.568390</td>\n",
              "      <td>0.167479</td>\n",
              "      <td>0.678409</td>\n",
              "    </tr>\n",
              "    <tr>\n",
              "      <th>9</th>\n",
              "      <td>0.174145</td>\n",
              "      <td>3.230155</td>\n",
              "      <td>102.029793</td>\n",
              "      <td>0.167150</td>\n",
              "      <td>0.679124</td>\n",
              "    </tr>\n",
              "    <tr>\n",
              "      <th>10</th>\n",
              "      <td>0.173842</td>\n",
              "      <td>3.231339</td>\n",
              "      <td>92.935402</td>\n",
              "      <td>0.167888</td>\n",
              "      <td>0.679075</td>\n",
              "    </tr>\n",
              "  </tbody>\n",
              "</table>\n",
              "</div>\n",
              "    <div class=\"colab-df-buttons\">\n",
              "\n",
              "  <div class=\"colab-df-container\">\n",
              "    <button class=\"colab-df-convert\" onclick=\"convertToInteractive('df-d42267fb-a76c-4312-a094-ca97dd8ea4c3')\"\n",
              "            title=\"Convert this dataframe to an interactive table.\"\n",
              "            style=\"display:none;\">\n",
              "\n",
              "  <svg xmlns=\"http://www.w3.org/2000/svg\" height=\"24px\" viewBox=\"0 -960 960 960\">\n",
              "    <path d=\"M120-120v-720h720v720H120Zm60-500h600v-160H180v160Zm220 220h160v-160H400v160Zm0 220h160v-160H400v160ZM180-400h160v-160H180v160Zm440 0h160v-160H620v160ZM180-180h160v-160H180v160Zm440 0h160v-160H620v160Z\"/>\n",
              "  </svg>\n",
              "    </button>\n",
              "\n",
              "  <style>\n",
              "    .colab-df-container {\n",
              "      display:flex;\n",
              "      gap: 12px;\n",
              "    }\n",
              "\n",
              "    .colab-df-convert {\n",
              "      background-color: #E8F0FE;\n",
              "      border: none;\n",
              "      border-radius: 50%;\n",
              "      cursor: pointer;\n",
              "      display: none;\n",
              "      fill: #1967D2;\n",
              "      height: 32px;\n",
              "      padding: 0 0 0 0;\n",
              "      width: 32px;\n",
              "    }\n",
              "\n",
              "    .colab-df-convert:hover {\n",
              "      background-color: #E2EBFA;\n",
              "      box-shadow: 0px 1px 2px rgba(60, 64, 67, 0.3), 0px 1px 3px 1px rgba(60, 64, 67, 0.15);\n",
              "      fill: #174EA6;\n",
              "    }\n",
              "\n",
              "    .colab-df-buttons div {\n",
              "      margin-bottom: 4px;\n",
              "    }\n",
              "\n",
              "    [theme=dark] .colab-df-convert {\n",
              "      background-color: #3B4455;\n",
              "      fill: #D2E3FC;\n",
              "    }\n",
              "\n",
              "    [theme=dark] .colab-df-convert:hover {\n",
              "      background-color: #434B5C;\n",
              "      box-shadow: 0px 1px 3px 1px rgba(0, 0, 0, 0.15);\n",
              "      filter: drop-shadow(0px 1px 2px rgba(0, 0, 0, 0.3));\n",
              "      fill: #FFFFFF;\n",
              "    }\n",
              "  </style>\n",
              "\n",
              "    <script>\n",
              "      const buttonEl =\n",
              "        document.querySelector('#df-d42267fb-a76c-4312-a094-ca97dd8ea4c3 button.colab-df-convert');\n",
              "      buttonEl.style.display =\n",
              "        google.colab.kernel.accessAllowed ? 'block' : 'none';\n",
              "\n",
              "      async function convertToInteractive(key) {\n",
              "        const element = document.querySelector('#df-d42267fb-a76c-4312-a094-ca97dd8ea4c3');\n",
              "        const dataTable =\n",
              "          await google.colab.kernel.invokeFunction('convertToInteractive',\n",
              "                                                    [key], {});\n",
              "        if (!dataTable) return;\n",
              "\n",
              "        const docLinkHtml = 'Like what you see? Visit the ' +\n",
              "          '<a target=\"_blank\" href=https://colab.research.google.com/notebooks/data_table.ipynb>data table notebook</a>'\n",
              "          + ' to learn more about interactive tables.';\n",
              "        element.innerHTML = '';\n",
              "        dataTable['output_type'] = 'display_data';\n",
              "        await google.colab.output.renderOutput(dataTable, element);\n",
              "        const docLink = document.createElement('div');\n",
              "        docLink.innerHTML = docLinkHtml;\n",
              "        element.appendChild(docLink);\n",
              "      }\n",
              "    </script>\n",
              "  </div>\n",
              "\n",
              "\n",
              "<div id=\"df-d2f8b59c-13a4-4bf9-a9bc-cb9ac3accc51\">\n",
              "  <button class=\"colab-df-quickchart\" onclick=\"quickchart('df-d2f8b59c-13a4-4bf9-a9bc-cb9ac3accc51')\"\n",
              "            title=\"Suggest charts\"\n",
              "            style=\"display:none;\">\n",
              "\n",
              "<svg xmlns=\"http://www.w3.org/2000/svg\" height=\"24px\"viewBox=\"0 0 24 24\"\n",
              "     width=\"24px\">\n",
              "    <g>\n",
              "        <path d=\"M19 3H5c-1.1 0-2 .9-2 2v14c0 1.1.9 2 2 2h14c1.1 0 2-.9 2-2V5c0-1.1-.9-2-2-2zM9 17H7v-7h2v7zm4 0h-2V7h2v10zm4 0h-2v-4h2v4z\"/>\n",
              "    </g>\n",
              "</svg>\n",
              "  </button>\n",
              "\n",
              "<style>\n",
              "  .colab-df-quickchart {\n",
              "      --bg-color: #E8F0FE;\n",
              "      --fill-color: #1967D2;\n",
              "      --hover-bg-color: #E2EBFA;\n",
              "      --hover-fill-color: #174EA6;\n",
              "      --disabled-fill-color: #AAA;\n",
              "      --disabled-bg-color: #DDD;\n",
              "  }\n",
              "\n",
              "  [theme=dark] .colab-df-quickchart {\n",
              "      --bg-color: #3B4455;\n",
              "      --fill-color: #D2E3FC;\n",
              "      --hover-bg-color: #434B5C;\n",
              "      --hover-fill-color: #FFFFFF;\n",
              "      --disabled-bg-color: #3B4455;\n",
              "      --disabled-fill-color: #666;\n",
              "  }\n",
              "\n",
              "  .colab-df-quickchart {\n",
              "    background-color: var(--bg-color);\n",
              "    border: none;\n",
              "    border-radius: 50%;\n",
              "    cursor: pointer;\n",
              "    display: none;\n",
              "    fill: var(--fill-color);\n",
              "    height: 32px;\n",
              "    padding: 0;\n",
              "    width: 32px;\n",
              "  }\n",
              "\n",
              "  .colab-df-quickchart:hover {\n",
              "    background-color: var(--hover-bg-color);\n",
              "    box-shadow: 0 1px 2px rgba(60, 64, 67, 0.3), 0 1px 3px 1px rgba(60, 64, 67, 0.15);\n",
              "    fill: var(--button-hover-fill-color);\n",
              "  }\n",
              "\n",
              "  .colab-df-quickchart-complete:disabled,\n",
              "  .colab-df-quickchart-complete:disabled:hover {\n",
              "    background-color: var(--disabled-bg-color);\n",
              "    fill: var(--disabled-fill-color);\n",
              "    box-shadow: none;\n",
              "  }\n",
              "\n",
              "  .colab-df-spinner {\n",
              "    border: 2px solid var(--fill-color);\n",
              "    border-color: transparent;\n",
              "    border-bottom-color: var(--fill-color);\n",
              "    animation:\n",
              "      spin 1s steps(1) infinite;\n",
              "  }\n",
              "\n",
              "  @keyframes spin {\n",
              "    0% {\n",
              "      border-color: transparent;\n",
              "      border-bottom-color: var(--fill-color);\n",
              "      border-left-color: var(--fill-color);\n",
              "    }\n",
              "    20% {\n",
              "      border-color: transparent;\n",
              "      border-left-color: var(--fill-color);\n",
              "      border-top-color: var(--fill-color);\n",
              "    }\n",
              "    30% {\n",
              "      border-color: transparent;\n",
              "      border-left-color: var(--fill-color);\n",
              "      border-top-color: var(--fill-color);\n",
              "      border-right-color: var(--fill-color);\n",
              "    }\n",
              "    40% {\n",
              "      border-color: transparent;\n",
              "      border-right-color: var(--fill-color);\n",
              "      border-top-color: var(--fill-color);\n",
              "    }\n",
              "    60% {\n",
              "      border-color: transparent;\n",
              "      border-right-color: var(--fill-color);\n",
              "    }\n",
              "    80% {\n",
              "      border-color: transparent;\n",
              "      border-right-color: var(--fill-color);\n",
              "      border-bottom-color: var(--fill-color);\n",
              "    }\n",
              "    90% {\n",
              "      border-color: transparent;\n",
              "      border-bottom-color: var(--fill-color);\n",
              "    }\n",
              "  }\n",
              "</style>\n",
              "\n",
              "  <script>\n",
              "    async function quickchart(key) {\n",
              "      const quickchartButtonEl =\n",
              "        document.querySelector('#' + key + ' button');\n",
              "      quickchartButtonEl.disabled = true;  // To prevent multiple clicks.\n",
              "      quickchartButtonEl.classList.add('colab-df-spinner');\n",
              "      try {\n",
              "        const charts = await google.colab.kernel.invokeFunction(\n",
              "            'suggestCharts', [key], {});\n",
              "      } catch (error) {\n",
              "        console.error('Error during call to suggestCharts:', error);\n",
              "      }\n",
              "      quickchartButtonEl.classList.remove('colab-df-spinner');\n",
              "      quickchartButtonEl.classList.add('colab-df-quickchart-complete');\n",
              "    }\n",
              "    (() => {\n",
              "      let quickchartButtonEl =\n",
              "        document.querySelector('#df-d2f8b59c-13a4-4bf9-a9bc-cb9ac3accc51 button');\n",
              "      quickchartButtonEl.style.display =\n",
              "        google.colab.kernel.accessAllowed ? 'block' : 'none';\n",
              "    })();\n",
              "  </script>\n",
              "</div>\n",
              "    </div>\n",
              "  </div>\n"
            ],
            "application/vnd.google.colaboratory.intrinsic+json": {
              "type": "dataframe",
              "variable_name": "h",
              "summary": "{\n  \"name\": \"h\",\n  \"rows\": 11,\n  \"fields\": [\n    {\n      \"column\": \"r2score\",\n      \"properties\": {\n        \"dtype\": \"number\",\n        \"std\": 0.1537809688896595,\n        \"min\": -0.15976345539093018,\n        \"max\": 0.17414474487304688,\n        \"num_unique_values\": 11,\n        \"samples\": [\n          0.17342913150787354,\n          -0.0013494491577148438,\n          0.17414474487304688\n        ],\n        \"semantic_type\": \"\",\n        \"description\": \"\"\n      }\n    },\n    {\n      \"column\": \"mse\",\n      \"properties\": {\n        \"dtype\": \"number\",\n        \"std\": 0.6014810946241088,\n        \"min\": 3.2301549911499023,\n        \"max\": 4.536165237426758,\n        \"num_unique_values\": 11,\n        \"samples\": [\n          3.2329540252685547,\n          3.916562795639038,\n          3.2301549911499023\n        ],\n        \"semantic_type\": \"\",\n        \"description\": \"\"\n      }\n    },\n    {\n      \"column\": \"mape\",\n      \"properties\": {\n        \"dtype\": \"number\",\n        \"std\": 607.5905639610819,\n        \"min\": 92.9354019165039,\n        \"max\": 2123.6982421875,\n        \"num_unique_values\": 11,\n        \"samples\": [\n          127.2923355102539,\n          2123.6982421875,\n          102.02979278564453\n        ],\n        \"semantic_type\": \"\",\n        \"description\": \"\"\n      }\n    },\n    {\n      \"column\": \"msle\",\n      \"properties\": {\n        \"dtype\": \"number\",\n        \"std\": 0.15181732679732224,\n        \"min\": 0.16663487255573273,\n        \"max\": 0.48788943886756897,\n        \"num_unique_values\": 11,\n        \"samples\": [\n          0.16679687798023224,\n          0.39910581707954407,\n          0.16715028882026672\n        ],\n        \"semantic_type\": \"\",\n        \"description\": \"\"\n      }\n    },\n    {\n      \"column\": \"loss (mae)\",\n      \"properties\": {\n        \"dtype\": \"number\",\n        \"std\": 0.17298727103440106,\n        \"min\": 0.6784089207649231,\n        \"max\": 1.1896244287490845,\n        \"num_unique_values\": 11,\n        \"samples\": [\n          0.6848775744438171,\n          1.1896244287490845,\n          0.6791244149208069\n        ],\n        \"semantic_type\": \"\",\n        \"description\": \"\"\n      }\n    }\n  ]\n}"
            }
          },
          "metadata": {},
          "execution_count": 37
        }
      ]
    },
    {
      "cell_type": "code",
      "source": [
        "import matplotlib.pyplot as plt\n",
        "\n",
        "def plot_loss(history):\n",
        "  fig, (ax1, ax2, ax3, ax4, ax5) = plt.subplots(1, 5, figsize=(19, 5))\n",
        "\n",
        "  ax1.plot(pd.DataFrame(history.losses_centralized)[1], label='loss_centralizzata')\n",
        "  ax1.plot(pd.DataFrame(history.losses_distributed)[1], label='loss_distribuita')\n",
        "\n",
        "  ax2.plot(pd.DataFrame(history.metrics_centralized['mse'])[1], label='mse_centralized')\n",
        "  ax2.plot(pd.DataFrame(history.metrics_distributed['mse'])[1], label='mse_distributed')\n",
        "\n",
        "  ax3.plot(pd.DataFrame(history.metrics_centralized['mape'])[1], label='mape_centralized')\n",
        "  ax3.plot(pd.DataFrame(history.metrics_distributed['mape'])[1], label='mape_distributed')\n",
        "\n",
        "  ax4.plot(pd.DataFrame(history.metrics_centralized['mean_squared_logarithmic_error'])[1], label='mean_squared_logarithmic_error_centralized')\n",
        "  ax4.plot(pd.DataFrame(history.metrics_distributed['mean_squared_logarithmic_error'])[1], label='mean_squared_logarithmic_error_distributed')\n",
        "\n",
        "  ax5.plot(pd.DataFrame(history.metrics_centralized['R2Score'])[1], label='r2_score_centralized')\n",
        "  ax5.plot(pd.DataFrame(history.metrics_distributed['R2Score'])[1], label='r2_score_distributed')\n",
        "\n",
        "  ax1.set(xlabel='Epoch', ylabel='loss')\n",
        "  ax1.legend(loc=\"upper right\")\n",
        "  ax1.grid(True)\n",
        "\n",
        "  ax2.set(xlabel='Epoch', ylabel='mse')\n",
        "  ax2.legend(loc=\"upper right\")\n",
        "  ax2.grid(True)\n",
        "\n",
        "  ax3.set(xlabel='Epoch', ylabel='mape')\n",
        "  ax3.legend(loc=\"upper right\")\n",
        "  ax3.grid(True)\n",
        "\n",
        "  ax4.set(xlabel='Epoch', ylabel='mean_squared_logarithmic_error')\n",
        "  ax4.legend(loc=\"upper right\")\n",
        "  ax4.grid(True)\n",
        "\n",
        "  ax5.set(xlabel='Epoch', ylabel='r2_score')\n",
        "  ax5.legend(loc=\"upper right\")\n",
        "  ax5.grid(True)\n",
        "\n",
        "  fig.tight_layout()"
      ],
      "metadata": {
        "id": "aUi8DZGGtMIG"
      },
      "execution_count": null,
      "outputs": []
    },
    {
      "cell_type": "code",
      "source": [
        "plot_loss(history)"
      ],
      "metadata": {
        "id": "l4JQD5Bswy3w"
      },
      "execution_count": null,
      "outputs": []
    },
    {
      "cell_type": "markdown",
      "metadata": {
        "id": "LMZ1kXWAaYXi"
      },
      "source": [
        "\n",
        "Congratulations! With that, you built a Flower client, customized it's instantiation through the `client_fn`, customized the server-side execution through a `FedAvg` strategy configured for this workload, and started a simulation with 100 clients (each holding their own individual partition of the MNIST dataset).\n",
        "\n",
        "Next, you can continue to explore more advanced Flower topics:\n",
        "\n",
        "- Deploy server and clients on different machines using `start_server` and `start_client`\n",
        "- Customize the server-side execution through custom strategies\n",
        "- Customize the client-side execution through `config` dictionaries\n",
        "\n",
        "Get all resources you need!\n",
        "\n",
        "* **[DOCS]** Our complete documenation: https://flower.dev/docs/\n",
        "* **[Examples]** All Flower examples: https://flower.dev/docs/examples/\n",
        "* **[VIDEO]** Our Youtube channel: https://www.youtube.com/@flowerlabs\n",
        "\n",
        "Don't forget to join our Slack channel: https://flower.dev/join-slack/"
      ]
    }
  ],
  "metadata": {
    "colab": {
      "provenance": [],
      "collapsed_sections": [
        "Xt8wmakefh0t",
        "lhmSUSYOnnQG"
      ],
      "include_colab_link": true
    },
    "kernelspec": {
      "display_name": "Python 3 (ipykernel)",
      "language": "python",
      "name": "python3"
    }
  },
  "nbformat": 4,
  "nbformat_minor": 0
}