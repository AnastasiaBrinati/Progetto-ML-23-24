{
  "cells": [
    {
      "cell_type": "markdown",
      "metadata": {
        "id": "view-in-github",
        "colab_type": "text"
      },
      "source": [
        "<a href=\"https://colab.research.google.com/github/AnastasiaBrinati/Progetto-ML-23-24/blob/main/task3_federato.ipynb\" target=\"_parent\"><img src=\"https://colab.research.google.com/assets/colab-badge.svg\" alt=\"Open In Colab\"/></a>"
      ]
    },
    {
      "cell_type": "markdown",
      "source": [
        "# TASK 3"
      ],
      "metadata": {
        "id": "AUmn77KKhb-m"
      }
    },
    {
      "cell_type": "markdown",
      "source": [
        "#### imports"
      ],
      "metadata": {
        "id": "nF-8q05504Gr"
      }
    },
    {
      "cell_type": "code",
      "execution_count": 28,
      "metadata": {
        "id": "kmT3h0MVmpVY"
      },
      "outputs": [],
      "source": [
        "!pip install -q flwr[\"simulation\"] tensorflow\n",
        "!pip install -q flwr_datasets[\"vision\"]"
      ]
    },
    {
      "cell_type": "code",
      "execution_count": 29,
      "metadata": {
        "id": "zK65C1qLmpVb",
        "colab": {
          "base_uri": "https://localhost:8080/"
        },
        "outputId": "9e082b33-dd10-41bb-eece-c999807b718e"
      },
      "outputs": [
        {
          "output_type": "stream",
          "name": "stdout",
          "text": [
            "Requirement already satisfied: matplotlib in /usr/local/lib/python3.10/dist-packages (3.7.1)\n",
            "Requirement already satisfied: contourpy>=1.0.1 in /usr/local/lib/python3.10/dist-packages (from matplotlib) (1.2.0)\n",
            "Requirement already satisfied: cycler>=0.10 in /usr/local/lib/python3.10/dist-packages (from matplotlib) (0.12.1)\n",
            "Requirement already satisfied: fonttools>=4.22.0 in /usr/local/lib/python3.10/dist-packages (from matplotlib) (4.49.0)\n",
            "Requirement already satisfied: kiwisolver>=1.0.1 in /usr/local/lib/python3.10/dist-packages (from matplotlib) (1.4.5)\n",
            "Requirement already satisfied: numpy>=1.20 in /usr/local/lib/python3.10/dist-packages (from matplotlib) (1.25.2)\n",
            "Requirement already satisfied: packaging>=20.0 in /usr/local/lib/python3.10/dist-packages (from matplotlib) (23.2)\n",
            "Requirement already satisfied: pillow>=6.2.0 in /usr/local/lib/python3.10/dist-packages (from matplotlib) (9.4.0)\n",
            "Requirement already satisfied: pyparsing>=2.3.1 in /usr/local/lib/python3.10/dist-packages (from matplotlib) (3.1.1)\n",
            "Requirement already satisfied: python-dateutil>=2.7 in /usr/local/lib/python3.10/dist-packages (from matplotlib) (2.8.2)\n",
            "Requirement already satisfied: six>=1.5 in /usr/local/lib/python3.10/dist-packages (from python-dateutil>=2.7->matplotlib) (1.16.0)\n"
          ]
        }
      ],
      "source": [
        "!pip install matplotlib"
      ]
    },
    {
      "cell_type": "code",
      "execution_count": 30,
      "metadata": {
        "id": "-Rl6-aNOmpVc"
      },
      "outputs": [],
      "source": [
        "from typing import Dict, List, Tuple\n",
        "\n",
        "import tensorflow as tf\n",
        "\n",
        "import flwr as fl\n",
        "from flwr.common import Metrics\n",
        "from flwr.simulation.ray_transport.utils import enable_tf_gpu_growth\n",
        "\n",
        "from datasets import Dataset\n",
        "from flwr_datasets import FederatedDataset\n",
        "\n",
        "VERBOSE = 0\n",
        "NUM_CLIENTS = 100"
      ]
    },
    {
      "cell_type": "code",
      "source": [
        "from sklearn.metrics import confusion_matrix\n",
        "\n",
        "import pandas as pd"
      ],
      "metadata": {
        "id": "s47t35XLHEYe"
      },
      "execution_count": 31,
      "outputs": []
    },
    {
      "cell_type": "code",
      "source": [
        "import numpy as np\n",
        "import pandas as pd\n",
        "import tensorflow as tf\n",
        "from tensorflow import keras\n",
        "from tensorflow.keras import layers\n",
        "from tensorflow.keras.datasets import mnist\n",
        "from tensorflow.keras.optimizers import Adam\n",
        "!pip install -q -U keras-tuner\n",
        "import keras_tuner as kt"
      ],
      "metadata": {
        "id": "LQmt62kItDcE"
      },
      "execution_count": 32,
      "outputs": []
    },
    {
      "cell_type": "markdown",
      "source": [
        "#### model"
      ],
      "metadata": {
        "id": "GE3pMhfB06vd"
      }
    },
    {
      "cell_type": "markdown",
      "metadata": {
        "id": "K3FlI9HYmpVc"
      },
      "source": [
        "Let's start by defining the model we want to federated. Since we will be working with MNIST, using a fully connected model is sufficient. You can of course customize this model."
      ]
    },
    {
      "cell_type": "code",
      "execution_count": 33,
      "metadata": {
        "id": "9AuoMH0gmpVd"
      },
      "outputs": [],
      "source": [
        "# Build the actual model\n",
        "def get_model():\n",
        "\n",
        "  model = keras.Sequential()\n",
        "\n",
        "  # (conv2 + pooling)*2\n",
        "  model.add(layers.Conv2D(input_shape=(28,28,1), filters=1,kernel_size=5,activation='relu',padding='same'))\n",
        "\n",
        "  model.add(layers.MaxPooling2D(pool_size=(2, 2)))\n",
        "\n",
        "  model.add(layers.Conv2D(filters=48,kernel_size=5,activation='relu',padding='same'))\n",
        "\n",
        "  model.add(layers.MaxPooling2D(pool_size=(2, 2)))\n",
        "\n",
        "  # flatten layer\n",
        "  model.add(layers.Flatten())\n",
        "\n",
        "  # dense layers\n",
        "  model.add(layers.Dense(units=64, activation=\"relu\"))\n",
        "  model.add(layers.Dense(units=80, activation=\"relu\"))\n",
        "  model.add(layers.Dense(units=32, activation=\"relu\"))\n",
        "  # output layer\n",
        "  model.add(layers.Dense(10, activation='softmax'))\n",
        "\n",
        "  # If your Yi's are integers, use sparse_categorical_crossentropy. Examples for above 3-class classification problem: [1] , [2], [3]\n",
        "  # sparse_top_k_categorical_accuracy deafult K=5\n",
        "\n",
        "  model.compile(loss='sparse_categorical_crossentropy', optimizer=tf.keras.optimizers.Adam(learning_rate=0.001), metrics=[\"accuracy\", \"sparse_categorical_accuracy\", \"sparse_top_k_categorical_accuracy\"])\n",
        "  return model"
      ]
    },
    {
      "cell_type": "markdown",
      "source": [
        "top_k_categorical_accuracy: This metric computes the number of times where the correct label is among the top k labels predicted (ranked by predicted scores);\n",
        "In cases where two or more labels are assigned equal predicted scores, the labels with the highest indices will be chosen first. This might impact the result if the correct label falls after the threshold because of that.\n"
      ],
      "metadata": {
        "id": "BsiGNYEKAD37"
      }
    },
    {
      "cell_type": "markdown",
      "source": [
        "#### build the model"
      ],
      "metadata": {
        "id": "FoymLzX2tZCK"
      }
    },
    {
      "cell_type": "code",
      "source": [
        "model = get_model()\n",
        "model.summary()"
      ],
      "metadata": {
        "id": "qUClIiPPtbUT",
        "outputId": "af55ea53-ebf2-4046-8d01-3be1f98959a7",
        "colab": {
          "base_uri": "https://localhost:8080/"
        }
      },
      "execution_count": 34,
      "outputs": [
        {
          "output_type": "stream",
          "name": "stdout",
          "text": [
            "Model: \"sequential_2\"\n",
            "_________________________________________________________________\n",
            " Layer (type)                Output Shape              Param #   \n",
            "=================================================================\n",
            " conv2d_4 (Conv2D)           (None, 28, 28, 1)         26        \n",
            "                                                                 \n",
            " max_pooling2d_4 (MaxPoolin  (None, 14, 14, 1)         0         \n",
            " g2D)                                                            \n",
            "                                                                 \n",
            " conv2d_5 (Conv2D)           (None, 14, 14, 48)        1248      \n",
            "                                                                 \n",
            " max_pooling2d_5 (MaxPoolin  (None, 7, 7, 48)          0         \n",
            " g2D)                                                            \n",
            "                                                                 \n",
            " flatten_2 (Flatten)         (None, 2352)              0         \n",
            "                                                                 \n",
            " dense_8 (Dense)             (None, 64)                150592    \n",
            "                                                                 \n",
            " dense_9 (Dense)             (None, 80)                5200      \n",
            "                                                                 \n",
            " dense_10 (Dense)            (None, 32)                2592      \n",
            "                                                                 \n",
            " dense_11 (Dense)            (None, 10)                330       \n",
            "                                                                 \n",
            "=================================================================\n",
            "Total params: 159988 (624.95 KB)\n",
            "Trainable params: 159988 (624.95 KB)\n",
            "Non-trainable params: 0 (0.00 Byte)\n",
            "_________________________________________________________________\n"
          ]
        }
      ]
    },
    {
      "cell_type": "markdown",
      "source": [
        "#### CLIENT"
      ],
      "metadata": {
        "id": "9sqXxFCBMNGV"
      }
    },
    {
      "cell_type": "code",
      "execution_count": 35,
      "metadata": {
        "id": "hpEIlaJ8mpVf"
      },
      "outputs": [],
      "source": [
        "class FlowerClient(fl.client.NumPyClient):\n",
        "    def __init__(self, trainset, valset) -> None:\n",
        "        # Create model\n",
        "        self.model = get_model()\n",
        "        self.trainset = trainset\n",
        "        self.valset = valset\n",
        "\n",
        "    def get_parameters(self, config):\n",
        "        return self.model.get_weights()\n",
        "\n",
        "    def fit(self, parameters, config):\n",
        "        self.model.set_weights(parameters)\n",
        "        self.model.fit(self.trainset, epochs=1, verbose=VERBOSE)\n",
        "        return self.model.get_weights(), len(self.trainset), {}\n",
        "\n",
        "    def evaluate(self, parameters, config):\n",
        "        self.model.set_weights(parameters)\n",
        "        results = self.model.evaluate(self.valset, verbose=VERBOSE)\n",
        "\n",
        "        loss = results[0]\n",
        "        acc = results[1]\n",
        "        cat_acc = results[2]\n",
        "        topk_acc = results[3]\n",
        "\n",
        "        return loss, len(self.valset), {\"loss\": loss, \"accuracy\": acc, \"cat_acc\": cat_acc, \"topk_acc\" : topk_acc}"
      ]
    },
    {
      "cell_type": "code",
      "source": [
        "def get_client_fn(dataset: FederatedDataset):\n",
        "    \"\"\"Return a function to construct a client.\n",
        "\n",
        "    The VirtualClientEngine will execute this function whenever a client is sampled by\n",
        "    the strategy to participate.\n",
        "    \"\"\"\n",
        "\n",
        "    def client_fn(cid: str) -> fl.client.Client:\n",
        "        \"\"\"Construct a FlowerClient with its own dataset partition.\"\"\"\n",
        "\n",
        "        # Extract partition for client with id = cid\n",
        "        client_dataset = dataset.load_partition(int(cid), \"train\")\n",
        "\n",
        "        # Now let's split it into train (90%) and validation (10%)\n",
        "        client_dataset_splits = client_dataset.train_test_split(test_size=0.1)\n",
        "\n",
        "        trainset = client_dataset_splits[\"train\"].to_tf_dataset(\n",
        "            columns=\"image\", label_cols=\"label\", batch_size=32\n",
        "        )\n",
        "        valset = client_dataset_splits[\"test\"].to_tf_dataset(\n",
        "            columns=\"image\", label_cols=\"label\", batch_size=64\n",
        "        )\n",
        "\n",
        "        # Create and return client\n",
        "        return FlowerClient(trainset, valset).to_client()\n",
        "\n",
        "    return client_fn"
      ],
      "metadata": {
        "id": "heul0RbV1RJl"
      },
      "execution_count": 36,
      "outputs": []
    },
    {
      "cell_type": "code",
      "source": [
        "def weighted_average(metrics: List[Tuple[int, Metrics]]) -> Metrics:\n",
        "    \"\"\"Aggregation function for (federated) evaluation metrics, i.e. those returned by\n",
        "    the client's evaluate() method.\"\"\"\n",
        "    # Multiply accuracy of each client by number of examples used\n",
        "    accuracies = [num_examples * m[\"accuracy\"] for num_examples, m in metrics]\n",
        "    cat_accuracies = [num_examples * m[\"cat_acc\"] for num_examples, m in metrics]\n",
        "    topk_accuracies = [num_examples * m[\"topk_acc\"] for num_examples, m in metrics]\n",
        "\n",
        "    examples = [num_examples for num_examples, _ in metrics]\n",
        "\n",
        "    # Aggregate and return custom metric (weighted average)\n",
        "    return {\"accuracy\": sum(accuracies) / sum(examples), \"cat_acc\": sum(cat_accuracies) / sum(examples), \"topk_acc\": sum(topk_accuracies) / sum(examples)}"
      ],
      "metadata": {
        "id": "UMoEgyDP1TwD"
      },
      "execution_count": 37,
      "outputs": []
    },
    {
      "cell_type": "code",
      "execution_count": 38,
      "metadata": {
        "id": "WScGlQULmpVh"
      },
      "outputs": [],
      "source": [
        "def get_evaluate_fn(testset: Dataset):\n",
        "    \"\"\"Return an evaluation function for server-side (i.e. centralised) evaluation.\"\"\"\n",
        "\n",
        "    # The `evaluate` function will be called after every round by the strategy\n",
        "    def evaluate(\n",
        "        server_round: int,\n",
        "        parameters: fl.common.NDArrays,\n",
        "        config: Dict[str, fl.common.Scalar],\n",
        "    ):\n",
        "        model = get_model()  # Construct the model\n",
        "        model.set_weights(parameters)  # Update model with the latest parameters\n",
        "        results = model.evaluate(testset, verbose=VERBOSE)\n",
        "\n",
        "        loss = results[0]\n",
        "        acc = results[1]\n",
        "        cat_acc = results[2]\n",
        "        topk_acc = results[3]\n",
        "\n",
        "        return loss, {\"accuracy\": acc, \"cat_acc\": cat_acc, \"topk_acc\": topk_acc}\n",
        "\n",
        "    return evaluate"
      ]
    },
    {
      "cell_type": "markdown",
      "source": [
        "#### settings and strategies"
      ],
      "metadata": {
        "id": "VQExZ72s7Uig"
      }
    },
    {
      "cell_type": "code",
      "source": [
        "# Simulation parameters\n",
        "settings = {\n",
        "    \"VERBOSE\": 0,\n",
        "    \"NUM_CLIENTS\": 5,\n",
        "    \"FRACTION_FIT\": 0.8,\n",
        "    \"FRACTION_EVALUATE\": 0.2,\n",
        "    \"MIN_FIT_CLIENTS\": 5,\n",
        "    \"MIN_EVALUATE_CLIENTS\": 2,\n",
        "    \"MIN_AVAILABLE_CLIENTS_FRACTION\": 0.5,\n",
        "    \"STRATEGY_TYPE\": 'QFedAvg', # QFedAvg, FedAvg, FedProx\n",
        "    \"NUM_ROUNDS\": 10\n",
        "}"
      ],
      "metadata": {
        "id": "EXloxMMj7XJv"
      },
      "execution_count": 70,
      "outputs": []
    },
    {
      "cell_type": "code",
      "execution_count": 79,
      "metadata": {
        "id": "2Uc-w6MdmpVi",
        "colab": {
          "base_uri": "https://localhost:8080/"
        },
        "outputId": "256773fa-6ef6-4f38-a9c8-418077a71464"
      },
      "outputs": [
        {
          "output_type": "stream",
          "name": "stderr",
          "text": [
            "/usr/local/lib/python3.10/dist-packages/ipykernel/ipkernel.py:283: DeprecationWarning: `should_run_async` will not call `transform_cell` automatically in the future. Please pass the result to `transformed_cell` argument and any exception that happen during thetransform in `preprocessing_exc_tuple` in IPython 7.17 and above.\n",
            "  and should_run_async(code)\n"
          ]
        }
      ],
      "source": [
        "# Create FedAvg strategy\n",
        "\n",
        "def get_strategy(centralized_testset):\n",
        "\n",
        "  strategy1 = fl.server.strategy.FedAvg(\n",
        "      fraction_fit=0.1,  # Sample 10% of available clients for training\n",
        "      fraction_evaluate=0.05,  # Sample 5% of available clients for evaluation\n",
        "      min_fit_clients=10,  # Never sample less than 10 clients for training\n",
        "      min_evaluate_clients=5,  # Never sample less than 5 clients for evaluation\n",
        "      min_available_clients=int(\n",
        "          NUM_CLIENTS * 0.75\n",
        "      ),  # Wait until at least 75 clients are available\n",
        "      evaluate_metrics_aggregation_fn=weighted_average,  # aggregates federated metrics\n",
        "      evaluate_fn=get_evaluate_fn(centralized_testset),  # global evaluation function\n",
        "  )\n",
        "\n",
        "  # Create FedAvg strategy\n",
        "  strategy2 = fl.server.strategy.FedProx(\n",
        "      proximal_mu=1.0,\n",
        "      fraction_fit=0.1,  # Sample 10% of available clients for training\n",
        "      fraction_evaluate=0.05,  # Sample 5% of available clients for evaluation\n",
        "      min_fit_clients=10,  # Never sample less than 10 clients for training\n",
        "      min_evaluate_clients=5,  # Never sample less than 5 clients for evaluation\n",
        "      min_available_clients=int(\n",
        "          NUM_CLIENTS * 0.75\n",
        "      ),  # Wait until at least 75 clients are available\n",
        "      evaluate_metrics_aggregation_fn=weighted_average,  # aggregates federated metrics\n",
        "      evaluate_fn=get_evaluate_fn(centralized_testset),  # global evaluation function\n",
        "  )\n",
        "\n",
        "  # Create FedAvg strategy\n",
        "  strategy3 = fl.server.strategy.QFedAvg(\n",
        "      fraction_fit=0.1,  # Sample 10% of available clients for training\n",
        "      fraction_evaluate=0.05,  # Sample 5% of available clients for evaluation\n",
        "      min_fit_clients=10,  # Never sample less than 10 clients for training\n",
        "      min_evaluate_clients=5,  # Never sample less than 5 clients for evaluation\n",
        "      min_available_clients=int(\n",
        "          NUM_CLIENTS * 0.75\n",
        "      ),  # Wait until at least 75 clients are available\n",
        "      evaluate_metrics_aggregation_fn=weighted_average,  # aggregates federated metrics\n",
        "      evaluate_fn=get_evaluate_fn(centralized_testset),  # global evaluation function\n",
        "  )\n",
        "\n",
        "  return strategy3"
      ]
    },
    {
      "cell_type": "code",
      "source": [
        "# Enable GPU growth in your main process\n",
        "enable_tf_gpu_growth()\n",
        "\n",
        "# Download MNIST dataset and partition it\n",
        "mnist_fds = FederatedDataset(dataset=\"mnist\", partitioners={\"train\": NUM_CLIENTS})\n",
        "# Get the whole test set for centralised evaluation\n",
        "centralized_testset = mnist_fds.load_full(\"test\").to_tf_dataset(\n",
        "    columns=\"image\", label_cols=\"label\", batch_size=64\n",
        ")\n",
        "\n",
        "strategy = get_strategy(centralized_testset)"
      ],
      "metadata": {
        "id": "PKHprRB61vm8"
      },
      "execution_count": 80,
      "outputs": []
    },
    {
      "cell_type": "markdown",
      "source": [
        "#### TESTING"
      ],
      "metadata": {
        "id": "UtV0LhYsfUr7"
      }
    },
    {
      "cell_type": "code",
      "source": [
        "c_data = mnist_fds.load_partition(0, \"train\")\n",
        "\n",
        "client_dataset_splits = c_data.train_test_split(test_size=0.1)\n",
        "\n",
        "x_tr = client_dataset_splits[\"train\"].to_tf_dataset(columns=\"image\", label_cols=\"label\", batch_size=32)\n",
        "x_ts = client_dataset_splits[\"test\"].to_tf_dataset(columns=\"image\", label_cols=\"label\", batch_size=64)"
      ],
      "metadata": {
        "id": "wFlMXR9NesuY"
      },
      "execution_count": 17,
      "outputs": []
    },
    {
      "cell_type": "code",
      "source": [
        "m = get_model()\n",
        "h = m.fit(x_tr)"
      ],
      "metadata": {
        "id": "g6fE7GN8fURh",
        "outputId": "d8ce5953-45b9-4189-b427-11c910f7b8c5",
        "colab": {
          "base_uri": "https://localhost:8080/"
        }
      },
      "execution_count": 18,
      "outputs": [
        {
          "output_type": "stream",
          "name": "stdout",
          "text": [
            "17/17 [==============================] - 2s 27ms/step - loss: 3.7163 - accuracy: 0.2630 - sparse_categorical_accuracy: 0.2630 - sparse_top_k_categorical_accuracy: 0.7037\n"
          ]
        }
      ]
    },
    {
      "cell_type": "code",
      "source": [
        "h.history"
      ],
      "metadata": {
        "id": "l7w6i__dgHn7",
        "outputId": "c2b13e51-e3d2-47df-bf88-536a3ae430c6",
        "colab": {
          "base_uri": "https://localhost:8080/"
        }
      },
      "execution_count": 19,
      "outputs": [
        {
          "output_type": "execute_result",
          "data": {
            "text/plain": [
              "{'loss': [3.71625018119812],\n",
              " 'accuracy': [0.2629629671573639],\n",
              " 'sparse_categorical_accuracy': [0.2629629671573639],\n",
              " 'sparse_top_k_categorical_accuracy': [0.7037037014961243]}"
            ]
          },
          "metadata": {},
          "execution_count": 19
        }
      ]
    },
    {
      "cell_type": "markdown",
      "source": [
        "#### SIMULATION"
      ],
      "metadata": {
        "id": "xXoctgaofWud"
      }
    },
    {
      "cell_type": "code",
      "source": [
        "# With a dictionary, you tell Flower's VirtualClientEngine that each\n",
        "# client needs exclusive access to these many resources in order to run\n",
        "client_resources = {\"num_cpus\": 2, \"num_gpus\": 0.0}\n",
        "\n",
        "# Start simulation\n",
        "history = fl.simulation.start_simulation(\n",
        "    client_fn=get_client_fn(mnist_fds),\n",
        "    num_clients=NUM_CLIENTS,\n",
        "    config=fl.server.ServerConfig(num_rounds=10),\n",
        "    strategy=strategy,\n",
        "    client_resources=client_resources,\n",
        "    actor_kwargs={\n",
        "        \"on_actor_init_fn\": enable_tf_gpu_growth  # Enable GPU growth upon actor init.\n",
        "    },\n",
        ")"
      ],
      "metadata": {
        "id": "0Rdlw64T12Qp"
      },
      "execution_count": null,
      "outputs": []
    },
    {
      "cell_type": "markdown",
      "source": [
        "#### PLOT"
      ],
      "metadata": {
        "id": "BEXVLGY0K__d"
      }
    },
    {
      "cell_type": "code",
      "source": [
        "import matplotlib.pyplot as plt\n",
        "\n",
        "def plot_loss(history):\n",
        "  fig, (ax1, ax2, ax3, ax4, ax5) = plt.subplots(1, 5, figsize=(19, 5))\n",
        "\n",
        "  ax1.plot(pd.DataFrame(history.c_loss), label='loss_centralizzata')\n",
        "  ax1.plot(pd.DataFrame(history.loss_avg), label='loss_avg')\n",
        "  ax1.plot(pd.DataFrame(history.loss_prox), label='loss_prox')\n",
        "  ax1.plot(pd.DataFrame(history.loss_qavg), label='loss_qavg')\n",
        "\n",
        "  ax2.plot(pd.DataFrame(history.c_mse), label='mse_centralized')\n",
        "  ax2.plot(pd.DataFrame(history.mse_avg), label='mse_avg')\n",
        "  ax2.plot(pd.DataFrame(history.mse_prox), label='mse_prox')\n",
        "  ax2.plot(pd.DataFrame(history.mse_qavg), label='mse_qavg')\n",
        "\n",
        "  ax3.plot(pd.DataFrame(history.c_mape), label='mape_centralized')\n",
        "  ax3.plot(pd.DataFrame(history.mape_avg), label='mape_avg')\n",
        "  ax3.plot(pd.DataFrame(history.mape_prox), label='mape_prox')\n",
        "  ax3.plot(pd.DataFrame(history.mape_qavg), label='mape_qavg')\n",
        "\n",
        "  ax4.plot(pd.DataFrame(history.c_msle), label='msle_centralized')\n",
        "  ax4.plot(pd.DataFrame(history.msle_avg), label='msle_avg')\n",
        "  ax4.plot(pd.DataFrame(history.msle_prox), label='msle_prox')\n",
        "  ax4.plot(pd.DataFrame(history.msle_qavg), label='msle_qavg')\n",
        "\n",
        "  ax5.plot(pd.DataFrame(history.c_r2), label='r2_centralized')\n",
        "  ax5.plot(pd.DataFrame(history.r2_avg), label='r2_avg')\n",
        "  ax5.plot(pd.DataFrame(history.r2_prox), label='r2_prox')\n",
        "  ax5.plot(pd.DataFrame(history.r2_qavg), label='r2_qavg')\n",
        "\n",
        "  ax1.set(xlabel='Epoch', ylabel='loss')\n",
        "  ax1.legend(loc=\"upper right\")\n",
        "  ax1.grid(True)\n",
        "\n",
        "  ax2.set(xlabel='Epoch', ylabel='mse')\n",
        "  ax2.legend(loc=\"upper right\")\n",
        "  ax2.grid(True)\n",
        "\n",
        "  ax3.set(xlabel='Epoch', ylabel='mape')\n",
        "  ax3.legend(loc=\"upper right\")\n",
        "  ax3.grid(True)\n",
        "\n",
        "  ax4.set(xlabel='Epoch', ylabel='mean_squared_logarithmic_error')\n",
        "  ax4.legend(loc=\"upper right\")\n",
        "  ax4.grid(True)\n",
        "\n",
        "  ax5.set(xlabel='Epoch', ylabel='r2_score')\n",
        "  ax5.legend(loc=\"upper right\")\n",
        "  ax5.grid(True)\n",
        "\n",
        "  fig.tight_layout()"
      ],
      "metadata": {
        "id": "iForLunEK_V0"
      },
      "execution_count": null,
      "outputs": []
    },
    {
      "cell_type": "markdown",
      "source": [
        "## 100 clients"
      ],
      "metadata": {
        "id": "qqcItPirMIdB"
      }
    },
    {
      "cell_type": "markdown",
      "source": [
        "#### AVG"
      ],
      "metadata": {
        "id": "G2AGMkpeORtd"
      }
    },
    {
      "cell_type": "code",
      "source": [
        "h = pd.DataFrame(history.metrics_centralized['accuracy']).drop([0], axis=1).rename(columns={1: 'accuracy_avg'})\n",
        "h = pd.concat([h, pd.DataFrame(history.metrics_centralized['cat_acc']).drop([0], axis=1)], axis=1).rename(columns={1: 'categorical_accuracy_avg'})\n",
        "h = pd.concat([h, pd.DataFrame(history.metrics_centralized['topk_acc']).drop([0], axis=1)], axis=1).rename(columns={1: 'topk_categorical_accuracy_avg'})\n",
        "h_fedavg = pd.concat([h, pd.DataFrame(history.losses_centralized).drop([0], axis=1)], axis=1).rename(columns={1: 'loss_avg'})\n",
        "h_avg = h_fedavg.drop(0)\n",
        "h_avg"
      ],
      "metadata": {
        "id": "0dZ1MhdQOK7e"
      },
      "execution_count": null,
      "outputs": []
    },
    {
      "cell_type": "markdown",
      "source": [
        "#### PROX"
      ],
      "metadata": {
        "id": "sqLs_JblPDgR"
      }
    },
    {
      "cell_type": "code",
      "source": [
        "h = pd.DataFrame(history.metrics_centralized['accuracy']).drop([0], axis=1).rename(columns={1: 'accuracy_prox'})\n",
        "h = pd.concat([h, pd.DataFrame(history.metrics_centralized['cat_acc']).drop([0], axis=1)], axis=1).rename(columns={1: 'categorical_accuracy_prox'})\n",
        "h = pd.concat([h, pd.DataFrame(history.metrics_centralized['topk_acc']).drop([0], axis=1)], axis=1).rename(columns={1: 'topk_categorical_accuracy_prox'})\n",
        "h_prox = pd.concat([h, pd.DataFrame(history.losses_centralized).drop([0], axis=1)], axis=1).rename(columns={1: 'loss_prox'})\n",
        "h_prox = h_prox.drop(0)\n",
        "h_prox"
      ],
      "metadata": {
        "id": "UyBSHMaid2JQ"
      },
      "execution_count": null,
      "outputs": []
    },
    {
      "cell_type": "markdown",
      "source": [
        "#### QAVG"
      ],
      "metadata": {
        "id": "Pa8HifneQUeM"
      }
    },
    {
      "cell_type": "code",
      "source": [
        "h = pd.DataFrame(history.metrics_centralized['accuracy']).drop([0], axis=1).rename(columns={1: 'accuracy_qavg'})\n",
        "h = pd.concat([h, pd.DataFrame(history.metrics_centralized['cat_acc']).drop([0], axis=1)], axis=1).rename(columns={1: 'categorical_accuracy_qavg'})\n",
        "h = pd.concat([h, pd.DataFrame(history.metrics_centralized['topk_acc']).drop([0], axis=1)], axis=1).rename(columns={1: 'topk_categorical_accuracy_qavg'})\n",
        "h_fedQavg = pd.concat([h, pd.DataFrame(history.losses_centralized).drop([0], axis=1)], axis=1).rename(columns={1: 'loss_qavg'})\n",
        "h_qavg = h_fedQavg.drop(0)\n",
        "h_qavg"
      ],
      "metadata": {
        "id": "IQvRFyIyQENz"
      },
      "execution_count": null,
      "outputs": []
    },
    {
      "cell_type": "markdown",
      "source": [
        "## 10 clients"
      ],
      "metadata": {
        "id": "IkXCwYBYTbfc"
      }
    },
    {
      "cell_type": "markdown",
      "source": [
        "#### AVG"
      ],
      "metadata": {
        "id": "CK1eI-ScThli"
      }
    },
    {
      "cell_type": "code",
      "source": [
        "h = pd.DataFrame(history.metrics_centralized['accuracy']).drop([0], axis=1).rename(columns={1: 'accuracy_avg'})\n",
        "h = pd.concat([h, pd.DataFrame(history.metrics_centralized['cat_acc']).drop([0], axis=1)], axis=1).rename(columns={1: 'categorical_accuracy_avg'})\n",
        "h = pd.concat([h, pd.DataFrame(history.metrics_centralized['topk_acc']).drop([0], axis=1)], axis=1).rename(columns={1: 'topk_categorical_accuracy_avg'})\n",
        "h_fedavg = pd.concat([h, pd.DataFrame(history.losses_centralized).drop([0], axis=1)], axis=1).rename(columns={1: 'loss_avg'})\n",
        "h_avg = h_fedavg.drop(0)\n",
        "h_avg"
      ],
      "metadata": {
        "id": "LinpyFSYTjmE"
      },
      "execution_count": null,
      "outputs": []
    },
    {
      "cell_type": "markdown",
      "source": [
        "#### PROX"
      ],
      "metadata": {
        "id": "9khxUcoiTrLM"
      }
    },
    {
      "cell_type": "code",
      "source": [
        "h = pd.DataFrame(history.metrics_centralized['accuracy']).drop([0], axis=1).rename(columns={1: 'accuracy_prox'})\n",
        "h = pd.concat([h, pd.DataFrame(history.metrics_centralized['cat_acc']).drop([0], axis=1)], axis=1).rename(columns={1: 'categorical_accuracy_prox'})\n",
        "h = pd.concat([h, pd.DataFrame(history.metrics_centralized['topk_acc']).drop([0], axis=1)], axis=1).rename(columns={1: 'topk_categorical_accuracy_prox'})\n",
        "h_prox = pd.concat([h, pd.DataFrame(history.losses_centralized).drop([0], axis=1)], axis=1).rename(columns={1: 'loss_prox'})\n",
        "h_prox = h_prox.drop(0)\n",
        "h_prox"
      ],
      "metadata": {
        "id": "CXbWErx6TpTw"
      },
      "execution_count": null,
      "outputs": []
    },
    {
      "cell_type": "markdown",
      "source": [
        "#### QAVG"
      ],
      "metadata": {
        "id": "FAMBnVtWTtA_"
      }
    },
    {
      "cell_type": "code",
      "source": [
        "h = pd.DataFrame(history.metrics_centralized['accuracy']).drop([0], axis=1).rename(columns={1: 'accuracy_qavg'})\n",
        "h = pd.concat([h, pd.DataFrame(history.metrics_centralized['cat_acc']).drop([0], axis=1)], axis=1).rename(columns={1: 'categorical_accuracy_qavg'})\n",
        "h = pd.concat([h, pd.DataFrame(history.metrics_centralized['topk_acc']).drop([0], axis=1)], axis=1).rename(columns={1: 'topk_categorical_accuracy_qavg'})\n",
        "h_fedQavg = pd.concat([h, pd.DataFrame(history.losses_centralized).drop([0], axis=1)], axis=1).rename(columns={1: 'loss_qavg'})\n",
        "h_qavg = h_fedQavg.drop(0)\n",
        "h_qavg"
      ],
      "metadata": {
        "id": "Dd6h5Z5oTqsz"
      },
      "execution_count": null,
      "outputs": []
    },
    {
      "cell_type": "markdown",
      "source": [
        "## 5 clients"
      ],
      "metadata": {
        "id": "XWEvkdK4ZeSf"
      }
    },
    {
      "cell_type": "markdown",
      "source": [
        "#### AVG"
      ],
      "metadata": {
        "id": "1tHUtra1ZgUS"
      }
    },
    {
      "cell_type": "code",
      "source": [
        "h = pd.DataFrame(history.metrics_centralized['accuracy']).drop([0], axis=1).rename(columns={1: 'accuracy_avg'})\n",
        "h = pd.concat([h, pd.DataFrame(history.metrics_centralized['cat_acc']).drop([0], axis=1)], axis=1).rename(columns={1: 'categorical_accuracy_avg'})\n",
        "h = pd.concat([h, pd.DataFrame(history.metrics_centralized['topk_acc']).drop([0], axis=1)], axis=1).rename(columns={1: 'topk_categorical_accuracy_avg'})\n",
        "h_fedavg = pd.concat([h, pd.DataFrame(history.losses_centralized).drop([0], axis=1)], axis=1).rename(columns={1: 'loss_avg'})\n",
        "h_avg = h_fedavg.drop(0)\n",
        "h_avg"
      ],
      "metadata": {
        "id": "w-iHlGzqZiC_"
      },
      "execution_count": null,
      "outputs": []
    },
    {
      "cell_type": "markdown",
      "source": [
        "#### PROX"
      ],
      "metadata": {
        "id": "oo6iSoumZifK"
      }
    },
    {
      "cell_type": "code",
      "source": [
        "h = pd.DataFrame(history.metrics_centralized['accuracy']).drop([0], axis=1).rename(columns={1: 'accuracy_prox'})\n",
        "h = pd.concat([h, pd.DataFrame(history.metrics_centralized['cat_acc']).drop([0], axis=1)], axis=1).rename(columns={1: 'categorical_accuracy_prox'})\n",
        "h = pd.concat([h, pd.DataFrame(history.metrics_centralized['topk_acc']).drop([0], axis=1)], axis=1).rename(columns={1: 'topk_categorical_accuracy_prox'})\n",
        "h_prox = pd.concat([h, pd.DataFrame(history.losses_centralized).drop([0], axis=1)], axis=1).rename(columns={1: 'loss_prox'})\n",
        "h_prox = h_prox.drop(0)\n",
        "h_prox"
      ],
      "metadata": {
        "id": "9Ai3OdIGZj2j"
      },
      "execution_count": null,
      "outputs": []
    },
    {
      "cell_type": "markdown",
      "source": [
        "#### QAVG"
      ],
      "metadata": {
        "id": "n1lAI9VCZkVK"
      }
    },
    {
      "cell_type": "code",
      "source": [
        "h = pd.DataFrame(history.metrics_centralized['accuracy']).drop([0], axis=1).rename(columns={1: 'accuracy_qavg'})\n",
        "h = pd.concat([h, pd.DataFrame(history.metrics_centralized['cat_acc']).drop([0], axis=1)], axis=1).rename(columns={1: 'categorical_accuracy_qavg'})\n",
        "h = pd.concat([h, pd.DataFrame(history.metrics_centralized['topk_acc']).drop([0], axis=1)], axis=1).rename(columns={1: 'topk_categorical_accuracy_qavg'})\n",
        "h_fedQavg = pd.concat([h, pd.DataFrame(history.losses_centralized).drop([0], axis=1)], axis=1).rename(columns={1: 'loss_qavg'})\n",
        "h_qavg = h_fedQavg.drop(0)\n",
        "h_qavg"
      ],
      "metadata": {
        "id": "qvQDPTRaZmCA"
      },
      "execution_count": null,
      "outputs": []
    },
    {
      "cell_type": "markdown",
      "source": [
        "# DATA"
      ],
      "metadata": {
        "id": "f9s8bA7Rd23j"
      }
    },
    {
      "cell_type": "markdown",
      "source": [
        "#### 100"
      ],
      "metadata": {
        "id": "H4Gsbd1QeQQB"
      }
    },
    {
      "cell_type": "code",
      "source": [
        "#AVG 100 clients\n",
        "\n",
        "data_avg_100 = [ [0,0,0,0],\n",
        "    [0.1308,\t0.1308,\t0.5753,\t2.505817],\n",
        "    [0.3246,\t0.3246,\t0.7525,\t2.000379],\n",
        "    [0.4898,\t0.4898,\t0.9141,\t1.478582],\n",
        "    [0.6543,\t0.6543,\t0.9668,\t1.046845],\n",
        "    [0.7552,\t0.7552,\t0.9785,\t0.750211],\n",
        "    [0.8001,\t0.8001,\t0.9833,\t0.623913],\n",
        "    [0.8352,\t0.8352,\t0.9854,\t0.529405],\n",
        "    [0.8536,\t0.8536,\t0.9881,\t0.464159],\n",
        "    [0.8750,\t0.8750,\t0.9906,\t0.413245],\n",
        "    [0.8866,\t0.8866,\t0.9899,\t0.379287]]\n",
        "\n",
        "h100_avg = pd.DataFrame(data_avg_100, columns=['accuracy_avg', 'cat_accuracy_avg', 'topk_accuracy_avg','loss_avg']).drop(0)\n",
        "h100_avg"
      ],
      "metadata": {
        "id": "IJLsqb0gQtAy"
      },
      "execution_count": null,
      "outputs": []
    },
    {
      "cell_type": "code",
      "source": [
        "#PROX 100 clients\n",
        "\n",
        "data_prox_100 = [ [0,0,0,0],\n",
        "    [0.2901,\t0.2901,\t0.7522,\t2.081158],\n",
        "    [0.6465,\t0.6465,\t0.9611,\t1.047874],\n",
        "    [0.7844,\t0.7844,\t0.9783,\t0.701940],\n",
        "    [0.8335,\t0.8335,\t0.9835,\t0.556559],\n",
        "    [0.8619,\t0.8619,\t0.9880,\t0.466229],\n",
        "    [0.8735,\t0.8735,\t0.9896,\t0.419731],\n",
        "    [0.8920,\t0.8920,\t0.9907,\t0.368518],\n",
        "    [0.8982,\t0.8982,\t0.9920,\t0.342408],\n",
        "    [0.9058,\t0.9058,\t0.9936,\t0.307516],\n",
        "    [0.9137,\t0.9137,\t0.9942,\t0.284420]]\n",
        "\n",
        "h100_prox = pd.DataFrame(data_prox_100, columns=['accuracy_prox', 'cat_accuracy_prox', 'topk_accuracy_prox','loss_prox']).drop(0)\n",
        "h100_prox"
      ],
      "metadata": {
        "id": "sZ55TFMqRBYk"
      },
      "execution_count": null,
      "outputs": []
    },
    {
      "cell_type": "code",
      "source": [
        "#QAVG 100 clients\n",
        "\n",
        "data_qavg_100 = [[0,0,0,0],\n",
        "    [0.1736,\t0.1736,\t0.6223,\t3.052144],\n",
        "    [0.2191,\t0.2191,\t0.6136,\t2.138689],\n",
        "    [0.3004,\t0.3004,\t0.7422,\t2.040695],\n",
        "    [0.4299,\t0.4299,\t0.8810,\t1.813220],\n",
        "    [0.5358,\t0.5358,\t0.9144,\t1.393641],\n",
        "    [0.5787,\t0.5787,\t0.9514,\t1.139368],\n",
        "    [0.6509,\t0.6509,\t0.9717,\t0.912194],\n",
        "    [0.7234,\t0.7234,\t0.9787,\t0.800335],\n",
        "    [0.7767,\t0.7767,\t0.9836,\t0.690224],\n",
        "    [0.8106,\t0.8106,\t0.9866,\t0.611684]]\n",
        "\n",
        "h100_qavg = pd.DataFrame(data_qavg_100, columns=['accuracy_qavg', 'cat_accuracy_qavg', 'topk_accuracy_qavg','loss_qavg']).drop(0)\n",
        "h100_qavg"
      ],
      "metadata": {
        "id": "IvkLD7ezRDj5"
      },
      "execution_count": null,
      "outputs": []
    },
    {
      "cell_type": "markdown",
      "source": [
        "#### 10"
      ],
      "metadata": {
        "id": "wf6wbyfneSAN"
      }
    },
    {
      "cell_type": "code",
      "source": [
        "# AVG 10 clients\n",
        "\n",
        "data_avg_10 = [[0,0,0,0],\n",
        "    [0.1396,\t0.1396,\t0.6178,\t3.834348],\n",
        "    [0.3144,\t0.3144,\t0.8005,\t1.981152],\n",
        "    [0.4015,\t0.4015,\t0.8854,\t1.618643],\n",
        "    [0.6595,\t0.6595,\t0.9510,\t1.211388],\n",
        "    [0.7933,\t0.7933,\t0.9725,\t0.757223],\n",
        "    [0.8624,\t0.8624,\t0.9874,\t0.493698],\n",
        "    [0.8788,\t0.8788,\t0.9893,\t0.412210],\n",
        "    [0.9020,\t0.9020,\t0.9929,\t0.320931],\n",
        "    [0.9135,\t0.9135,\t0.9940,\t0.279641],\n",
        "    [0.9238,\t0.9238,\t0.9942,\t0.248362]]\n",
        "\n",
        "h10_avg = pd.DataFrame(data_avg_10, columns=['accuracy_avg', 'cat_accuracy_avg', 'topk_accuracy_avg','loss_avg']).drop(0)\n",
        "h10_avg"
      ],
      "metadata": {
        "id": "ymOIrQk5VM5I"
      },
      "execution_count": null,
      "outputs": []
    },
    {
      "cell_type": "code",
      "source": [
        "# PROX 10 clients\n",
        "\n",
        "data_prox_10 = [[ 0,0,0,0],\n",
        "    [0.2111,\t0.2111,\t0.7899,\t2.065002],\n",
        "    [0.5874,\t0.5874,\t0.9376,\t1.274748],\n",
        "    [0.7182,\t0.7182,\t0.9709,\t0.862452],\n",
        "    [0.7933,\t0.7933,\t0.9845,\t0.654375],\n",
        "    [0.8403,\t0.8403,\t0.9894,\t0.518748],\n",
        "    [0.8488,\t0.8488,\t0.9907,\t0.462882],\n",
        "    [0.8767,\t0.8767,\t0.9936,\t0.398931],\n",
        "    [0.8907,\t0.8907,\t0.9940,\t0.352000],\n",
        "    [0.9002,\t0.9002,\t0.9956,\t0.322833],\n",
        "    [0.9140,\t0.9140,\t0.9964,\t0.288012 ]]\n",
        "\n",
        "h10_prox = pd.DataFrame(data_prox_10, columns=['accuracy_prox', 'cat_accuracy_prox', 'topk_accuracy_prox','loss_prox']).drop(0)\n",
        "h10_prox"
      ],
      "metadata": {
        "id": "dlVeurvtWsa6"
      },
      "execution_count": null,
      "outputs": []
    },
    {
      "cell_type": "code",
      "source": [
        "# QAVG 10 clients\n",
        "\n",
        "data_qavg_10 = [[0,0,0,0],\n",
        "    [0.1633,\t0.1633,\t0.6567,\t2.810671],\n",
        "    [0.3720,\t0.3720,\t0.8066,\t1.824364],\n",
        "    [0.4776,\t0.4776,\t0.9003,\t1.510225],\n",
        "    [0.6038,\t0.6038,\t0.9434,\t1.189084],\n",
        "    [0.6566,\t0.6566,\t0.9627,\t1.028795],\n",
        "    [0.7180,\t0.7180,\t0.9729,\t0.871393],\n",
        "    [0.7522,\t0.7522,\t0.9791,\t0.775111],\n",
        "    [0.7768,\t0.7768,\t0.9840,\t0.687708],\n",
        "    [0.7934,\t0.7934,\t0.9857,\t0.634439],\n",
        "    [0.8206,\t0.8206,\t0.9879,\t0.569984]]\n",
        "\n",
        "h10_qavg = pd.DataFrame(data_qavg_10, columns=['accuracy_qavg', 'cat_accuracy_qavg', 'topk_accuracy_qavg','loss_qavg']).drop(0)\n",
        "h10_qavg"
      ],
      "metadata": {
        "id": "AEp8rKG0ZULB",
        "outputId": "dab375e7-90ce-4437-c538-2b81f695283c",
        "colab": {
          "base_uri": "https://localhost:8080/",
          "height": 363
        }
      },
      "execution_count": 83,
      "outputs": [
        {
          "output_type": "execute_result",
          "data": {
            "text/plain": [
              "    accuracy_qavg  cat_accuracy_qavg  topk_accuracy_qavg  loss_qavg\n",
              "1          0.1633             0.1633              0.6567   2.810671\n",
              "2          0.3720             0.3720              0.8066   1.824364\n",
              "3          0.4776             0.4776              0.9003   1.510225\n",
              "4          0.6038             0.6038              0.9434   1.189084\n",
              "5          0.6566             0.6566              0.9627   1.028795\n",
              "6          0.7180             0.7180              0.9729   0.871393\n",
              "7          0.7522             0.7522              0.9791   0.775111\n",
              "8          0.7768             0.7768              0.9840   0.687708\n",
              "9          0.7934             0.7934              0.9857   0.634439\n",
              "10         0.8206             0.8206              0.9879   0.569984"
            ],
            "text/html": [
              "\n",
              "  <div id=\"df-6e38c813-6a70-4672-9d83-06079bc8bab9\" class=\"colab-df-container\">\n",
              "    <div>\n",
              "<style scoped>\n",
              "    .dataframe tbody tr th:only-of-type {\n",
              "        vertical-align: middle;\n",
              "    }\n",
              "\n",
              "    .dataframe tbody tr th {\n",
              "        vertical-align: top;\n",
              "    }\n",
              "\n",
              "    .dataframe thead th {\n",
              "        text-align: right;\n",
              "    }\n",
              "</style>\n",
              "<table border=\"1\" class=\"dataframe\">\n",
              "  <thead>\n",
              "    <tr style=\"text-align: right;\">\n",
              "      <th></th>\n",
              "      <th>accuracy_qavg</th>\n",
              "      <th>cat_accuracy_qavg</th>\n",
              "      <th>topk_accuracy_qavg</th>\n",
              "      <th>loss_qavg</th>\n",
              "    </tr>\n",
              "  </thead>\n",
              "  <tbody>\n",
              "    <tr>\n",
              "      <th>1</th>\n",
              "      <td>0.1633</td>\n",
              "      <td>0.1633</td>\n",
              "      <td>0.6567</td>\n",
              "      <td>2.810671</td>\n",
              "    </tr>\n",
              "    <tr>\n",
              "      <th>2</th>\n",
              "      <td>0.3720</td>\n",
              "      <td>0.3720</td>\n",
              "      <td>0.8066</td>\n",
              "      <td>1.824364</td>\n",
              "    </tr>\n",
              "    <tr>\n",
              "      <th>3</th>\n",
              "      <td>0.4776</td>\n",
              "      <td>0.4776</td>\n",
              "      <td>0.9003</td>\n",
              "      <td>1.510225</td>\n",
              "    </tr>\n",
              "    <tr>\n",
              "      <th>4</th>\n",
              "      <td>0.6038</td>\n",
              "      <td>0.6038</td>\n",
              "      <td>0.9434</td>\n",
              "      <td>1.189084</td>\n",
              "    </tr>\n",
              "    <tr>\n",
              "      <th>5</th>\n",
              "      <td>0.6566</td>\n",
              "      <td>0.6566</td>\n",
              "      <td>0.9627</td>\n",
              "      <td>1.028795</td>\n",
              "    </tr>\n",
              "    <tr>\n",
              "      <th>6</th>\n",
              "      <td>0.7180</td>\n",
              "      <td>0.7180</td>\n",
              "      <td>0.9729</td>\n",
              "      <td>0.871393</td>\n",
              "    </tr>\n",
              "    <tr>\n",
              "      <th>7</th>\n",
              "      <td>0.7522</td>\n",
              "      <td>0.7522</td>\n",
              "      <td>0.9791</td>\n",
              "      <td>0.775111</td>\n",
              "    </tr>\n",
              "    <tr>\n",
              "      <th>8</th>\n",
              "      <td>0.7768</td>\n",
              "      <td>0.7768</td>\n",
              "      <td>0.9840</td>\n",
              "      <td>0.687708</td>\n",
              "    </tr>\n",
              "    <tr>\n",
              "      <th>9</th>\n",
              "      <td>0.7934</td>\n",
              "      <td>0.7934</td>\n",
              "      <td>0.9857</td>\n",
              "      <td>0.634439</td>\n",
              "    </tr>\n",
              "    <tr>\n",
              "      <th>10</th>\n",
              "      <td>0.8206</td>\n",
              "      <td>0.8206</td>\n",
              "      <td>0.9879</td>\n",
              "      <td>0.569984</td>\n",
              "    </tr>\n",
              "  </tbody>\n",
              "</table>\n",
              "</div>\n",
              "    <div class=\"colab-df-buttons\">\n",
              "\n",
              "  <div class=\"colab-df-container\">\n",
              "    <button class=\"colab-df-convert\" onclick=\"convertToInteractive('df-6e38c813-6a70-4672-9d83-06079bc8bab9')\"\n",
              "            title=\"Convert this dataframe to an interactive table.\"\n",
              "            style=\"display:none;\">\n",
              "\n",
              "  <svg xmlns=\"http://www.w3.org/2000/svg\" height=\"24px\" viewBox=\"0 -960 960 960\">\n",
              "    <path d=\"M120-120v-720h720v720H120Zm60-500h600v-160H180v160Zm220 220h160v-160H400v160Zm0 220h160v-160H400v160ZM180-400h160v-160H180v160Zm440 0h160v-160H620v160ZM180-180h160v-160H180v160Zm440 0h160v-160H620v160Z\"/>\n",
              "  </svg>\n",
              "    </button>\n",
              "\n",
              "  <style>\n",
              "    .colab-df-container {\n",
              "      display:flex;\n",
              "      gap: 12px;\n",
              "    }\n",
              "\n",
              "    .colab-df-convert {\n",
              "      background-color: #E8F0FE;\n",
              "      border: none;\n",
              "      border-radius: 50%;\n",
              "      cursor: pointer;\n",
              "      display: none;\n",
              "      fill: #1967D2;\n",
              "      height: 32px;\n",
              "      padding: 0 0 0 0;\n",
              "      width: 32px;\n",
              "    }\n",
              "\n",
              "    .colab-df-convert:hover {\n",
              "      background-color: #E2EBFA;\n",
              "      box-shadow: 0px 1px 2px rgba(60, 64, 67, 0.3), 0px 1px 3px 1px rgba(60, 64, 67, 0.15);\n",
              "      fill: #174EA6;\n",
              "    }\n",
              "\n",
              "    .colab-df-buttons div {\n",
              "      margin-bottom: 4px;\n",
              "    }\n",
              "\n",
              "    [theme=dark] .colab-df-convert {\n",
              "      background-color: #3B4455;\n",
              "      fill: #D2E3FC;\n",
              "    }\n",
              "\n",
              "    [theme=dark] .colab-df-convert:hover {\n",
              "      background-color: #434B5C;\n",
              "      box-shadow: 0px 1px 3px 1px rgba(0, 0, 0, 0.15);\n",
              "      filter: drop-shadow(0px 1px 2px rgba(0, 0, 0, 0.3));\n",
              "      fill: #FFFFFF;\n",
              "    }\n",
              "  </style>\n",
              "\n",
              "    <script>\n",
              "      const buttonEl =\n",
              "        document.querySelector('#df-6e38c813-6a70-4672-9d83-06079bc8bab9 button.colab-df-convert');\n",
              "      buttonEl.style.display =\n",
              "        google.colab.kernel.accessAllowed ? 'block' : 'none';\n",
              "\n",
              "      async function convertToInteractive(key) {\n",
              "        const element = document.querySelector('#df-6e38c813-6a70-4672-9d83-06079bc8bab9');\n",
              "        const dataTable =\n",
              "          await google.colab.kernel.invokeFunction('convertToInteractive',\n",
              "                                                    [key], {});\n",
              "        if (!dataTable) return;\n",
              "\n",
              "        const docLinkHtml = 'Like what you see? Visit the ' +\n",
              "          '<a target=\"_blank\" href=https://colab.research.google.com/notebooks/data_table.ipynb>data table notebook</a>'\n",
              "          + ' to learn more about interactive tables.';\n",
              "        element.innerHTML = '';\n",
              "        dataTable['output_type'] = 'display_data';\n",
              "        await google.colab.output.renderOutput(dataTable, element);\n",
              "        const docLink = document.createElement('div');\n",
              "        docLink.innerHTML = docLinkHtml;\n",
              "        element.appendChild(docLink);\n",
              "      }\n",
              "    </script>\n",
              "  </div>\n",
              "\n",
              "\n",
              "<div id=\"df-cb86f0ae-a2fe-4dae-8d83-b395c4148764\">\n",
              "  <button class=\"colab-df-quickchart\" onclick=\"quickchart('df-cb86f0ae-a2fe-4dae-8d83-b395c4148764')\"\n",
              "            title=\"Suggest charts\"\n",
              "            style=\"display:none;\">\n",
              "\n",
              "<svg xmlns=\"http://www.w3.org/2000/svg\" height=\"24px\"viewBox=\"0 0 24 24\"\n",
              "     width=\"24px\">\n",
              "    <g>\n",
              "        <path d=\"M19 3H5c-1.1 0-2 .9-2 2v14c0 1.1.9 2 2 2h14c1.1 0 2-.9 2-2V5c0-1.1-.9-2-2-2zM9 17H7v-7h2v7zm4 0h-2V7h2v10zm4 0h-2v-4h2v4z\"/>\n",
              "    </g>\n",
              "</svg>\n",
              "  </button>\n",
              "\n",
              "<style>\n",
              "  .colab-df-quickchart {\n",
              "      --bg-color: #E8F0FE;\n",
              "      --fill-color: #1967D2;\n",
              "      --hover-bg-color: #E2EBFA;\n",
              "      --hover-fill-color: #174EA6;\n",
              "      --disabled-fill-color: #AAA;\n",
              "      --disabled-bg-color: #DDD;\n",
              "  }\n",
              "\n",
              "  [theme=dark] .colab-df-quickchart {\n",
              "      --bg-color: #3B4455;\n",
              "      --fill-color: #D2E3FC;\n",
              "      --hover-bg-color: #434B5C;\n",
              "      --hover-fill-color: #FFFFFF;\n",
              "      --disabled-bg-color: #3B4455;\n",
              "      --disabled-fill-color: #666;\n",
              "  }\n",
              "\n",
              "  .colab-df-quickchart {\n",
              "    background-color: var(--bg-color);\n",
              "    border: none;\n",
              "    border-radius: 50%;\n",
              "    cursor: pointer;\n",
              "    display: none;\n",
              "    fill: var(--fill-color);\n",
              "    height: 32px;\n",
              "    padding: 0;\n",
              "    width: 32px;\n",
              "  }\n",
              "\n",
              "  .colab-df-quickchart:hover {\n",
              "    background-color: var(--hover-bg-color);\n",
              "    box-shadow: 0 1px 2px rgba(60, 64, 67, 0.3), 0 1px 3px 1px rgba(60, 64, 67, 0.15);\n",
              "    fill: var(--button-hover-fill-color);\n",
              "  }\n",
              "\n",
              "  .colab-df-quickchart-complete:disabled,\n",
              "  .colab-df-quickchart-complete:disabled:hover {\n",
              "    background-color: var(--disabled-bg-color);\n",
              "    fill: var(--disabled-fill-color);\n",
              "    box-shadow: none;\n",
              "  }\n",
              "\n",
              "  .colab-df-spinner {\n",
              "    border: 2px solid var(--fill-color);\n",
              "    border-color: transparent;\n",
              "    border-bottom-color: var(--fill-color);\n",
              "    animation:\n",
              "      spin 1s steps(1) infinite;\n",
              "  }\n",
              "\n",
              "  @keyframes spin {\n",
              "    0% {\n",
              "      border-color: transparent;\n",
              "      border-bottom-color: var(--fill-color);\n",
              "      border-left-color: var(--fill-color);\n",
              "    }\n",
              "    20% {\n",
              "      border-color: transparent;\n",
              "      border-left-color: var(--fill-color);\n",
              "      border-top-color: var(--fill-color);\n",
              "    }\n",
              "    30% {\n",
              "      border-color: transparent;\n",
              "      border-left-color: var(--fill-color);\n",
              "      border-top-color: var(--fill-color);\n",
              "      border-right-color: var(--fill-color);\n",
              "    }\n",
              "    40% {\n",
              "      border-color: transparent;\n",
              "      border-right-color: var(--fill-color);\n",
              "      border-top-color: var(--fill-color);\n",
              "    }\n",
              "    60% {\n",
              "      border-color: transparent;\n",
              "      border-right-color: var(--fill-color);\n",
              "    }\n",
              "    80% {\n",
              "      border-color: transparent;\n",
              "      border-right-color: var(--fill-color);\n",
              "      border-bottom-color: var(--fill-color);\n",
              "    }\n",
              "    90% {\n",
              "      border-color: transparent;\n",
              "      border-bottom-color: var(--fill-color);\n",
              "    }\n",
              "  }\n",
              "</style>\n",
              "\n",
              "  <script>\n",
              "    async function quickchart(key) {\n",
              "      const quickchartButtonEl =\n",
              "        document.querySelector('#' + key + ' button');\n",
              "      quickchartButtonEl.disabled = true;  // To prevent multiple clicks.\n",
              "      quickchartButtonEl.classList.add('colab-df-spinner');\n",
              "      try {\n",
              "        const charts = await google.colab.kernel.invokeFunction(\n",
              "            'suggestCharts', [key], {});\n",
              "      } catch (error) {\n",
              "        console.error('Error during call to suggestCharts:', error);\n",
              "      }\n",
              "      quickchartButtonEl.classList.remove('colab-df-spinner');\n",
              "      quickchartButtonEl.classList.add('colab-df-quickchart-complete');\n",
              "    }\n",
              "    (() => {\n",
              "      let quickchartButtonEl =\n",
              "        document.querySelector('#df-cb86f0ae-a2fe-4dae-8d83-b395c4148764 button');\n",
              "      quickchartButtonEl.style.display =\n",
              "        google.colab.kernel.accessAllowed ? 'block' : 'none';\n",
              "    })();\n",
              "  </script>\n",
              "</div>\n",
              "    </div>\n",
              "  </div>\n"
            ],
            "application/vnd.google.colaboratory.intrinsic+json": {
              "type": "dataframe",
              "variable_name": "h10_qavg",
              "summary": "{\n  \"name\": \"h10_qavg\",\n  \"rows\": 10,\n  \"fields\": [\n    {\n      \"column\": \"accuracy_qavg\",\n      \"properties\": {\n        \"dtype\": \"number\",\n        \"std\": 0.21434707084020949,\n        \"min\": 0.1633,\n        \"max\": 0.8206,\n        \"num_unique_values\": 10,\n        \"samples\": [\n          0.7934,\n          0.372,\n          0.718\n        ],\n        \"semantic_type\": \"\",\n        \"description\": \"\"\n      }\n    },\n    {\n      \"column\": \"cat_accuracy_qavg\",\n      \"properties\": {\n        \"dtype\": \"number\",\n        \"std\": 0.21434707084020949,\n        \"min\": 0.1633,\n        \"max\": 0.8206,\n        \"num_unique_values\": 10,\n        \"samples\": [\n          0.7934,\n          0.372,\n          0.718\n        ],\n        \"semantic_type\": \"\",\n        \"description\": \"\"\n      }\n    },\n    {\n      \"column\": \"topk_accuracy_qavg\",\n      \"properties\": {\n        \"dtype\": \"number\",\n        \"std\": 0.10760868459376317,\n        \"min\": 0.6567,\n        \"max\": 0.9879,\n        \"num_unique_values\": 10,\n        \"samples\": [\n          0.9857,\n          0.8066,\n          0.9729\n        ],\n        \"semantic_type\": \"\",\n        \"description\": \"\"\n      }\n    },\n    {\n      \"column\": \"loss_qavg\",\n      \"properties\": {\n        \"dtype\": \"number\",\n        \"std\": 0.6973387685213933,\n        \"min\": 0.569984,\n        \"max\": 2.810671,\n        \"num_unique_values\": 10,\n        \"samples\": [\n          0.634439,\n          1.824364,\n          0.871393\n        ],\n        \"semantic_type\": \"\",\n        \"description\": \"\"\n      }\n    }\n  ]\n}"
            }
          },
          "metadata": {},
          "execution_count": 83
        }
      ]
    },
    {
      "cell_type": "markdown",
      "source": [
        "#### 5"
      ],
      "metadata": {
        "id": "TCVgA0Tgefyz"
      }
    },
    {
      "cell_type": "code",
      "source": [
        "# AVG 5 clients\n",
        "\n",
        "data_avg_5 = [[0,0,0,0],\n",
        "      [0.1791,\t0.1791,\t0.6482,\t3.018399],\n",
        "      [0.5450,\t0.5450,\t0.9487,\t1.334101],\n",
        "      [0.6940,\t0.6940,\t0.9768,\t0.877807],\n",
        "      [0.8395,\t0.8395,\t0.9855,\t0.549155],\n",
        "      [0.8814,\t0.8814,\t0.9902,\t0.418776],\n",
        "      [0.9069,\t0.9069,\t0.9922,\t0.330590],\n",
        "      [0.9189,\t0.9189,\t0.9935,\t0.281983],\n",
        "      [0.9254,\t0.9254,\t0.9939,\t0.263710],\n",
        "      [0.9348,\t0.9348,\t0.9954,\t0.225585],\n",
        "      [0.9402,\t0.9402,\t0.9962,\t0.209047]]\n",
        "\n",
        "h5_avg = pd.DataFrame(data_avg_5, columns=['accuracy_avg', 'cat_accuracy_avg', 'topk_accuracy_avg','loss_avg']).drop(0)\n",
        "h5_avg"
      ],
      "metadata": {
        "id": "qjhGnUGObRGL"
      },
      "execution_count": null,
      "outputs": []
    },
    {
      "cell_type": "code",
      "source": [
        "# PROX 5 clients\n",
        "\n",
        "data_prox_5 = [[0,0,0,0],\n",
        "\t[0.2039,\t0.2039,\t0.6811,\t2.506892],\n",
        "  [0.4199,\t0.4199,\t0.8906,\t1.593910],\n",
        "  [0.6056,\t0.6056,\t0.9365,\t1.178540],\n",
        "  [0.7671,\t0.7671,\t0.9683,\t0.764252],\n",
        "  [0.8279,\t0.8279,\t0.9796,\t0.567366],\n",
        "  [0.8617,\t0.8617,\t0.9851,\t0.453980],\n",
        "  [0.8819,\t0.8819,\t0.9860,\t0.385182],\n",
        "  [0.8988,\t0.8988,\t0.9905,\t0.337637],\n",
        "  [0.9077,\t0.9077,\t0.9913,\t0.311508],\n",
        "  [0.9183,\t0.9183,\t0.9929,\t0.275550]]\n",
        "\n",
        "h5_prox = pd.DataFrame(data_prox_5, columns=['accuracy_prox', 'cat_accuracy_prox', 'topk_accuracy_prox','loss_prox']).drop(0)\n",
        "h5_prox"
      ],
      "metadata": {
        "id": "vzIXR1-pdBq4"
      },
      "execution_count": null,
      "outputs": []
    },
    {
      "cell_type": "code",
      "source": [
        "# QAVG 5 clients\n",
        "\n",
        "data_qavg_5 = [[0,0,0,0],\n",
        "    [0.2820,\t0.2820,\t0.7107,\t2.126181],\n",
        "    [0.4595,\t0.4595,\t0.8653,\t1.846541],\n",
        "    [0.5911,\t0.5911,\t0.9333,\t1.529425],\n",
        "    [0.6826,\t0.6826,\t0.9648,\t1.230552],\n",
        "    [0.7282,\t0.7282,\t0.9770,\t1.003095],\n",
        "    [0.7655,\t0.7655,\t0.9802,\t0.861222],\n",
        "    [0.7898,\t0.7898,\t0.9832,\t0.766520],\n",
        "    [0.8096,\t0.8096,\t0.9848,\t0.691888],\n",
        "    [0.8200,\t0.8200,\t0.9860,\t0.645418],\n",
        "    [0.8285,\t0.8285,\t0.9868,\t0.601402]]\n",
        "\n",
        "h5_qavg = pd.DataFrame(data_qavg_5, columns=['accuracy_qavg', 'cat_accuracy_qavg', 'topk_accuracy_qavg','loss_qavg']).drop(0)\n",
        "h5_qavg"
      ],
      "metadata": {
        "id": "61FCsmuceo0S"
      },
      "execution_count": null,
      "outputs": []
    }
  ],
  "metadata": {
    "colab": {
      "provenance": [],
      "collapsed_sections": [
        "UtV0LhYsfUr7"
      ],
      "include_colab_link": true
    },
    "kernelspec": {
      "display_name": "Python 3 (ipykernel)",
      "language": "python",
      "name": "python3"
    }
  },
  "nbformat": 4,
  "nbformat_minor": 0
}