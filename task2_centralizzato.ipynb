{
  "cells": [
    {
      "cell_type": "markdown",
      "metadata": {
        "id": "view-in-github",
        "colab_type": "text"
      },
      "source": [
        "<a href=\"https://colab.research.google.com/github/AnastasiaBrinati/Progetto-ML-23-24/blob/main/task2_centralizzato.ipynb\" target=\"_parent\"><img src=\"https://colab.research.google.com/assets/colab-badge.svg\" alt=\"Open In Colab\"/></a>"
      ]
    },
    {
      "cell_type": "markdown",
      "metadata": {
        "id": "FhGuhbZ6M5tl"
      },
      "source": [
        "##### Copyright 2018 The TensorFlow Authors."
      ]
    },
    {
      "cell_type": "markdown",
      "metadata": {
        "id": "EIdT9iu_Z4Rb"
      },
      "source": [
        "# Regression: Predict gpus avg performance time in milliseconds."
      ]
    },
    {
      "cell_type": "markdown",
      "metadata": {
        "id": "AHp3M9ZmrIxj"
      },
      "source": [
        "In a *regression* problem, the aim is to predict the output of a continuous value, like a price or a probability. Contrast this with a *classification* problem, where the aim is to select a class from a list of classes (for example, where a picture contains an apple or an orange, recognizing which fruit is in the picture).\n",
        "\n",
        "We are using the \"SGEMM GPU kernel performance\" dataset, which measures the running time of a matrix-matrix product A*B = C, where all matrices have size 2048 x 2048, using a parameterizable SGEMM GPU kernel with 241600 possible parameter combinations. For each tested combination, 4 runs were performed and their results are reported as the 4 last columns. All times are measured in milliseconds.\n",
        "The results are then averaged and aggregated in one single final feature.\n",
        "There are 14 parameter, the first 10 are ordinal and can only take up to 4 different powers of two values, and the 4 last variables are binary. Out of 1327104 total parameter combinations, only 241600 are feasible (due to various kernel constraints). This data set contains the results for all these feasible combinations.\n",
        "The experiment was run on a desktop workstation running Ubuntu 16.04 Linux with an Intel Core i5 (3.5GHz), 16GB RAM, and a NVidia Geforce GTX 680 4GB GF580 GTX-1.5GB GPU. We use the 'gemm_fast' kernel from the automatic OpenCL kernel tuning library 'CLTune' (https://github.com/CNugteren/CLTune).\n",
        "https://archive.ics.uci.edu/dataset/440/sgemm+gpu+kernel+performance\n",
        "\n",
        "The models aim to predict the avg performance time."
      ]
    },
    {
      "cell_type": "markdown",
      "source": [
        "#### Imports"
      ],
      "metadata": {
        "id": "35aGq05-k1nb"
      }
    },
    {
      "cell_type": "code",
      "execution_count": 16,
      "metadata": {
        "id": "moB4tpEHxKB3",
        "colab": {
          "base_uri": "https://localhost:8080/"
        },
        "outputId": "ea876c24-29e9-4df0-ce88-724d34561641"
      },
      "outputs": [
        {
          "output_type": "stream",
          "name": "stdout",
          "text": [
            "Requirement already satisfied: datasets in /usr/local/lib/python3.10/dist-packages (2.18.0)\n",
            "Requirement already satisfied: filelock in /usr/local/lib/python3.10/dist-packages (from datasets) (3.13.1)\n",
            "Requirement already satisfied: numpy>=1.17 in /usr/local/lib/python3.10/dist-packages (from datasets) (1.25.2)\n",
            "Requirement already satisfied: pyarrow>=12.0.0 in /usr/local/lib/python3.10/dist-packages (from datasets) (14.0.2)\n",
            "Requirement already satisfied: pyarrow-hotfix in /usr/local/lib/python3.10/dist-packages (from datasets) (0.6)\n",
            "Requirement already satisfied: dill<0.3.9,>=0.3.0 in /usr/local/lib/python3.10/dist-packages (from datasets) (0.3.8)\n",
            "Requirement already satisfied: pandas in /usr/local/lib/python3.10/dist-packages (from datasets) (1.5.3)\n",
            "Requirement already satisfied: requests>=2.19.0 in /usr/local/lib/python3.10/dist-packages (from datasets) (2.31.0)\n",
            "Requirement already satisfied: tqdm>=4.62.1 in /usr/local/lib/python3.10/dist-packages (from datasets) (4.66.2)\n",
            "Requirement already satisfied: xxhash in /usr/local/lib/python3.10/dist-packages (from datasets) (3.4.1)\n",
            "Requirement already satisfied: multiprocess in /usr/local/lib/python3.10/dist-packages (from datasets) (0.70.16)\n",
            "Requirement already satisfied: fsspec[http]<=2024.2.0,>=2023.1.0 in /usr/local/lib/python3.10/dist-packages (from datasets) (2023.6.0)\n",
            "Requirement already satisfied: aiohttp in /usr/local/lib/python3.10/dist-packages (from datasets) (3.9.3)\n",
            "Requirement already satisfied: huggingface-hub>=0.19.4 in /usr/local/lib/python3.10/dist-packages (from datasets) (0.20.3)\n",
            "Requirement already satisfied: packaging in /usr/local/lib/python3.10/dist-packages (from datasets) (23.2)\n",
            "Requirement already satisfied: pyyaml>=5.1 in /usr/local/lib/python3.10/dist-packages (from datasets) (6.0.1)\n",
            "Requirement already satisfied: aiosignal>=1.1.2 in /usr/local/lib/python3.10/dist-packages (from aiohttp->datasets) (1.3.1)\n",
            "Requirement already satisfied: attrs>=17.3.0 in /usr/local/lib/python3.10/dist-packages (from aiohttp->datasets) (23.2.0)\n",
            "Requirement already satisfied: frozenlist>=1.1.1 in /usr/local/lib/python3.10/dist-packages (from aiohttp->datasets) (1.4.1)\n",
            "Requirement already satisfied: multidict<7.0,>=4.5 in /usr/local/lib/python3.10/dist-packages (from aiohttp->datasets) (6.0.5)\n",
            "Requirement already satisfied: yarl<2.0,>=1.0 in /usr/local/lib/python3.10/dist-packages (from aiohttp->datasets) (1.9.4)\n",
            "Requirement already satisfied: async-timeout<5.0,>=4.0 in /usr/local/lib/python3.10/dist-packages (from aiohttp->datasets) (4.0.3)\n",
            "Requirement already satisfied: typing-extensions>=3.7.4.3 in /usr/local/lib/python3.10/dist-packages (from huggingface-hub>=0.19.4->datasets) (4.10.0)\n",
            "Requirement already satisfied: charset-normalizer<4,>=2 in /usr/local/lib/python3.10/dist-packages (from requests>=2.19.0->datasets) (3.3.2)\n",
            "Requirement already satisfied: idna<4,>=2.5 in /usr/local/lib/python3.10/dist-packages (from requests>=2.19.0->datasets) (3.6)\n",
            "Requirement already satisfied: urllib3<3,>=1.21.1 in /usr/local/lib/python3.10/dist-packages (from requests>=2.19.0->datasets) (2.0.7)\n",
            "Requirement already satisfied: certifi>=2017.4.17 in /usr/local/lib/python3.10/dist-packages (from requests>=2.19.0->datasets) (2024.2.2)\n",
            "Requirement already satisfied: python-dateutil>=2.8.1 in /usr/local/lib/python3.10/dist-packages (from pandas->datasets) (2.8.2)\n",
            "Requirement already satisfied: pytz>=2020.1 in /usr/local/lib/python3.10/dist-packages (from pandas->datasets) (2023.4)\n",
            "Requirement already satisfied: six>=1.5 in /usr/local/lib/python3.10/dist-packages (from python-dateutil>=2.8.1->pandas->datasets) (1.16.0)\n"
          ]
        }
      ],
      "source": [
        "# Use seaborn for pairplot.\n",
        "!pip install datasets"
      ]
    },
    {
      "cell_type": "code",
      "execution_count": 17,
      "metadata": {
        "id": "1rRo8oNqZ-Rj"
      },
      "outputs": [],
      "source": [
        "import matplotlib.pyplot as plt\n",
        "import numpy as np\n",
        "import pandas as pd\n",
        "import seaborn as sns\n",
        "\n",
        "# Make NumPy printouts easier to read.\n",
        "np.set_printoptions(precision=3, suppress=True)"
      ]
    },
    {
      "cell_type": "code",
      "execution_count": 18,
      "metadata": {
        "colab": {
          "base_uri": "https://localhost:8080/"
        },
        "id": "9xQKvCJ85kCQ",
        "outputId": "220f0bbf-20d0-45c7-bf5a-78cd383ce2e2"
      },
      "outputs": [
        {
          "output_type": "stream",
          "name": "stdout",
          "text": [
            "2.15.0\n"
          ]
        }
      ],
      "source": [
        "import tensorflow as tf\n",
        "\n",
        "from tensorflow import keras\n",
        "from keras import layers\n",
        "from tensorflow.keras.callbacks import EarlyStopping\n",
        "\n",
        "\n",
        "print(tf.__version__)"
      ]
    },
    {
      "cell_type": "code",
      "source": [
        "!pip install -q -U keras-tuner\n",
        "\n",
        "import keras_tuner as kt"
      ],
      "metadata": {
        "id": "dbPd6kDImsXM"
      },
      "execution_count": 19,
      "outputs": []
    },
    {
      "cell_type": "markdown",
      "source": [
        "### Get the data"
      ],
      "metadata": {
        "id": "XdflSdN9jI5N"
      }
    },
    {
      "cell_type": "code",
      "source": [
        "from datasets import load_dataset\n",
        "dataset = load_dataset(\"anastasiafrosted/gpus\", download_mode=\"force_redownload\")"
      ],
      "metadata": {
        "colab": {
          "base_uri": "https://localhost:8080/",
          "referenced_widgets": [
            "1e37b23d8fdb4d28b88aff9c533cb889",
            "06b7fa81f3dc483ca44c75fe8f0d8de7",
            "e05563eaaa2b429684a6d8c752f830e6",
            "11b5e16a271c428dbc0bb01adb315026",
            "78e2c54b19e9465a89aa526f3f843bd5",
            "f4bdee54626b401bbc5292520c90867d",
            "4a5ddeafad4c46a4a626e350eba30f13",
            "ce901c5acd3243a7ac4f524ca6b4c58a",
            "c1be9594e1674f1ab8e6b46ed72535fa",
            "1218b6da192b42cb9987a08b9834077d",
            "ddaa3bf4343e496eafcdd798a875a71f",
            "b0eafd0b41db4243bb738789141e304e",
            "3453bd2037524277985e5f576006068d",
            "d30cb96e48f94b639edf3411701912d8",
            "a0abc762669c42e5b9ee56a8864872b0",
            "e364efc7745d42d6a5689114f38976cf",
            "cb8bb63ab9b94ef0bdebcd41201a6c17",
            "aeca3a954ebe410fb33f310680e0d3dc",
            "58b0bb7348984c5693a0d438919f8963",
            "052ffd135da44579a132abf0f7ea1f16",
            "6c3935bc85134f3d95a69ee3b0fe5646",
            "0e7bd6ed488c4bf99cf3c39bce4f47ea",
            "b29de20b91124f42835808d9af7e53bd",
            "b25d27a7fe9f4388955e82bbec934039",
            "e7c306a8645d43e4886644ada95ca443",
            "1fefef6f3c784d5f8fe4c20810d993dc",
            "76cebfd519be495ba8d171e06c8173c2",
            "466e5f2527fc4b5182f97379b1e0d6d8",
            "2e974fe074b0465e9268b21668055b19",
            "e34a28d105da4179bd127557bd4d06da",
            "bf5b813dda5546689f5a963f80a90463",
            "294c7ee1065d44639e6597875734ef18",
            "7dfa7e4b66cf4ecfbd746b931bbe5ac2",
            "3c7ff0301feb4ef38ceb824dfc878450",
            "e62273bc32fa4373ada26200f82ed15f",
            "a9df63cc00e74a0e86c52ef2a78ca6fa",
            "7d557d0148ce43f082519f0bc2d0b420",
            "6410a6c5cac64afb825e00a67b25e2fb",
            "d1cc6f92b24d463aab62580b4d9f901c",
            "1f656e1fa2af44308c5caea7bdaa672e",
            "83521df89d0046189b9bd524c41685fa",
            "e12286e90f8e4d938065ead9056da195",
            "f54cf0dca4c14fa1aa4b25be38804651",
            "338a08a73cf14faba93660c8d321eb55"
          ],
          "height": 0
        },
        "id": "xB0SRw_ua8Bq",
        "outputId": "df041212-468b-44ae-a9c0-cf5eb9e08c74"
      },
      "execution_count": 20,
      "outputs": [
        {
          "output_type": "display_data",
          "data": {
            "text/plain": [
              "Downloading data:   0%|          | 0.00/27.1M [00:00<?, ?B/s]"
            ],
            "application/vnd.jupyter.widget-view+json": {
              "version_major": 2,
              "version_minor": 0,
              "model_id": "1e37b23d8fdb4d28b88aff9c533cb889"
            }
          },
          "metadata": {}
        },
        {
          "output_type": "display_data",
          "data": {
            "text/plain": [
              "Downloading data:   0%|          | 0.00/6.75M [00:00<?, ?B/s]"
            ],
            "application/vnd.jupyter.widget-view+json": {
              "version_major": 2,
              "version_minor": 0,
              "model_id": "b0eafd0b41db4243bb738789141e304e"
            }
          },
          "metadata": {}
        },
        {
          "output_type": "display_data",
          "data": {
            "text/plain": [
              "Generating train split:   0%|          | 0/193280 [00:00<?, ? examples/s]"
            ],
            "application/vnd.jupyter.widget-view+json": {
              "version_major": 2,
              "version_minor": 0,
              "model_id": "b29de20b91124f42835808d9af7e53bd"
            }
          },
          "metadata": {}
        },
        {
          "output_type": "display_data",
          "data": {
            "text/plain": [
              "Generating test split:   0%|          | 0/48320 [00:00<?, ? examples/s]"
            ],
            "application/vnd.jupyter.widget-view+json": {
              "version_major": 2,
              "version_minor": 0,
              "model_id": "3c7ff0301feb4ef38ceb824dfc878450"
            }
          },
          "metadata": {}
        }
      ]
    },
    {
      "cell_type": "markdown",
      "source": [
        "### Split training from test"
      ],
      "metadata": {
        "id": "o1nPCjw0jPzY"
      }
    },
    {
      "cell_type": "code",
      "source": [
        "training_set = pd.DataFrame(dataset['train'])\n",
        "columns = list(dataset['train'].features.keys())\n",
        "training_set = training_set.drop(\"Unnamed: 0\", axis=1)\n",
        "\n",
        "test_set = pd.DataFrame(dataset['test'])\n",
        "test_set = test_set.drop(\"Unnamed: 0\", axis=1)"
      ],
      "metadata": {
        "id": "ZYIjmP3ohi0D"
      },
      "execution_count": 21,
      "outputs": []
    },
    {
      "cell_type": "markdown",
      "source": [
        "### Split features from labels"
      ],
      "metadata": {
        "id": "CfSgBIJJkJW_"
      }
    },
    {
      "cell_type": "code",
      "source": [
        "x_train = training_set.copy()\n",
        "x_test = test_set.copy()\n",
        "\n",
        "y_train = x_train.pop('avg_runs')\n",
        "y_test = x_test.pop('avg_runs')"
      ],
      "metadata": {
        "id": "HoyVbHaukN07"
      },
      "execution_count": 22,
      "outputs": []
    },
    {
      "cell_type": "markdown",
      "source": [
        "### Build the model"
      ],
      "metadata": {
        "id": "3ZcH5M9QjVHY"
      }
    },
    {
      "cell_type": "code",
      "source": [
        "def build_and_compile_model(hp):\n",
        "\n",
        "  model = keras.Sequential()\n",
        "\n",
        "  # Tune the number of units and activation function for each Dense layer\n",
        "  for i in range(hp.Int('num_layers', 2, 4, default=3)):\n",
        "    hp_units = hp.Int(f'units_{i}', min_value=16, max_value=128, step=16)\n",
        "    hp_activation = hp.Choice(f'activation_{i}', values=['PReLU','LeakyReLU','relu', 'tanh', 'sigmoid'])\n",
        "\n",
        "    model.add(layers.Dense(units=hp_units, activation=hp_activation, input_shape=(14,))) #, kernel_initializer=he_normal))\n",
        "\n",
        "  # Output layer\n",
        "  model.add(layers.Dense(1, activation='sigmoid')) #, kernel_initializer=glorot_normal))\n",
        "\n",
        "  # Tune the learning rate for the optimizer\n",
        "  hp_learning_rate = hp.Choice('learning_rate', values=[1e-2, 1e-3, 1e-4])\n",
        "\n",
        "  model.compile(loss='mean_absolute_error', optimizer=tf.keras.optimizers.Adam(learning_rate=hp_learning_rate), metrics=[\"mse\", \"mape\", \"mean_squared_logarithmic_error\",\"logcosh\", \"R2Score\"])\n",
        "  return model"
      ],
      "metadata": {
        "id": "JaUKsEeUh6sN"
      },
      "execution_count": null,
      "outputs": []
    },
    {
      "cell_type": "markdown",
      "source": [
        "###Looking for hyperparameters"
      ],
      "metadata": {
        "id": "ZiA1-x_PmBGY"
      }
    },
    {
      "cell_type": "code",
      "source": [
        "tuner = kt.Hyperband(build_and_compile_model, objective='val_mse',max_epochs=10,factor=3,directory='my_dir',project_name='multi_layer_tuning')\n",
        "stop = EarlyStopping(monitor='val_loss', patience=5)\n",
        "\n",
        "tuner.search(x_train, y_train, epochs=10, validation_split=0.2, callbacks=[stop])\n",
        "best_hps = tuner.get_best_hyperparameters(num_trials=1)[0]"
      ],
      "metadata": {
        "colab": {
          "base_uri": "https://localhost:8080/"
        },
        "id": "gHd3KxpIlpMk",
        "outputId": "24d9d6e9-1297-4912-f3ec-fac205665303"
      },
      "execution_count": null,
      "outputs": [
        {
          "output_type": "stream",
          "name": "stdout",
          "text": [
            "Trial 30 Complete [00h 02m 12s]\n",
            "val_mse: 3.1347689628601074\n",
            "\n",
            "Best val_mse So Far: 3.1206870079040527\n",
            "Total elapsed time: 00h 33m 40s\n"
          ]
        }
      ]
    },
    {
      "cell_type": "code",
      "source": [
        "best_hps.values"
      ],
      "metadata": {
        "colab": {
          "base_uri": "https://localhost:8080/"
        },
        "id": "IxU8PxWLSkGv",
        "outputId": "5a923fca-bb85-4105-8d0e-8abd079b1139"
      },
      "execution_count": null,
      "outputs": [
        {
          "output_type": "execute_result",
          "data": {
            "text/plain": [
              "{'num_layers': 2,\n",
              " 'units_0': 128,\n",
              " 'activation_0': 'sigmoid',\n",
              " 'units_1': 128,\n",
              " 'activation_1': 'sigmoid',\n",
              " 'units_2': 112,\n",
              " 'activation_2': 'PReLU',\n",
              " 'learning_rate': 0.01,\n",
              " 'units_3': 96,\n",
              " 'activation_3': 'sigmoid',\n",
              " 'tuner/epochs': 10,\n",
              " 'tuner/initial_epoch': 4,\n",
              " 'tuner/bracket': 2,\n",
              " 'tuner/round': 2,\n",
              " 'tuner/trial_id': '0012'}"
            ]
          },
          "metadata": {},
          "execution_count": 28
        }
      ]
    },
    {
      "cell_type": "code",
      "source": [
        "# Find the best epoch\n",
        "model = tuner.hypermodel.build(best_hps)\n",
        "history = model.fit(x_train, y_train, epochs=10, validation_split=0.2)\n",
        "\n",
        "val_acc_per_epoch = history.history['val_mse']\n",
        "best_epoch = val_acc_per_epoch.index(max(val_acc_per_epoch)) + 1\n",
        "print('Best epoch:', best_epoch)"
      ],
      "metadata": {
        "colab": {
          "base_uri": "https://localhost:8080/"
        },
        "id": "rYBHecsRWqbc",
        "outputId": "66a28823-c839-42b6-becf-2ca3f1381899"
      },
      "execution_count": null,
      "outputs": [
        {
          "output_type": "stream",
          "name": "stdout",
          "text": [
            "Epoch 1/10\n",
            "4832/4832 [==============================] - 16s 3ms/step - loss: 0.7928 - mse: 3.8210 - mape: 94.9444 - mean_squared_logarithmic_error: 0.3139 - logcosh: 0.5342 - r2_score: 0.0225 - val_loss: 0.6574 - val_mse: 3.1533 - val_mape: 82.4749 - val_mean_squared_logarithmic_error: 0.1627 - val_logcosh: 0.4332 - val_r2_score: 0.1787\n",
            "Epoch 2/10\n",
            "4832/4832 [==============================] - 14s 3ms/step - loss: 0.6518 - mse: 3.2080 - mape: 80.6706 - mean_squared_logarithmic_error: 0.1603 - logcosh: 0.4353 - r2_score: 0.1794 - val_loss: 0.6359 - val_mse: 3.1347 - val_mape: 83.2983 - val_mean_squared_logarithmic_error: 0.1542 - val_logcosh: 0.4254 - val_r2_score: 0.1836\n",
            "Epoch 3/10\n",
            "4832/4832 [==============================] - 14s 3ms/step - loss: 0.6409 - mse: 3.1990 - mape: 78.9561 - mean_squared_logarithmic_error: 0.1562 - logcosh: 0.4315 - r2_score: 0.1817 - val_loss: 0.6378 - val_mse: 3.1372 - val_mape: 84.9477 - val_mean_squared_logarithmic_error: 0.1550 - val_logcosh: 0.4265 - val_r2_score: 0.1829\n",
            "Epoch 4/10\n",
            "4832/4832 [==============================] - 13s 3ms/step - loss: 0.6372 - mse: 3.1971 - mape: 79.2130 - mean_squared_logarithmic_error: 0.1553 - logcosh: 0.4307 - r2_score: 0.1821 - val_loss: 0.6294 - val_mse: 3.1306 - val_mape: 77.0629 - val_mean_squared_logarithmic_error: 0.1522 - val_logcosh: 0.4238 - val_r2_score: 0.1846\n",
            "Epoch 5/10\n",
            "4832/4832 [==============================] - 14s 3ms/step - loss: 0.6288 - mse: 3.1897 - mape: 83.1513 - mean_squared_logarithmic_error: 0.1517 - logcosh: 0.4277 - r2_score: 0.1840 - val_loss: 0.6190 - val_mse: 3.1228 - val_mape: 95.7693 - val_mean_squared_logarithmic_error: 0.1482 - val_logcosh: 0.4205 - val_r2_score: 0.1867\n",
            "Epoch 6/10\n",
            "4832/4832 [==============================] - 14s 3ms/step - loss: 0.6222 - mse: 3.1864 - mape: 84.5679 - mean_squared_logarithmic_error: 0.1498 - logcosh: 0.4262 - r2_score: 0.1849 - val_loss: 0.6152 - val_mse: 3.1215 - val_mape: 80.2106 - val_mean_squared_logarithmic_error: 0.1474 - val_logcosh: 0.4199 - val_r2_score: 0.1870\n",
            "Epoch 7/10\n",
            "4832/4832 [==============================] - 14s 3ms/step - loss: 0.6199 - mse: 3.1857 - mape: 83.1269 - mean_squared_logarithmic_error: 0.1494 - logcosh: 0.4259 - r2_score: 0.1850 - val_loss: 0.6136 - val_mse: 3.1211 - val_mape: 79.4463 - val_mean_squared_logarithmic_error: 0.1473 - val_logcosh: 0.4197 - val_r2_score: 0.1871\n",
            "Epoch 8/10\n",
            "4832/4832 [==============================] - 14s 3ms/step - loss: 0.6187 - mse: 3.1854 - mape: 83.9442 - mean_squared_logarithmic_error: 0.1493 - logcosh: 0.4258 - r2_score: 0.1851 - val_loss: 0.6130 - val_mse: 3.1209 - val_mape: 77.6305 - val_mean_squared_logarithmic_error: 0.1472 - val_logcosh: 0.4196 - val_r2_score: 0.1872\n",
            "Epoch 9/10\n",
            "4832/4832 [==============================] - 15s 3ms/step - loss: 0.6179 - mse: 3.1853 - mape: 85.9111 - mean_squared_logarithmic_error: 0.1492 - logcosh: 0.4257 - r2_score: 0.1852 - val_loss: 0.6122 - val_mse: 3.1207 - val_mape: 88.0532 - val_mean_squared_logarithmic_error: 0.1471 - val_logcosh: 0.4195 - val_r2_score: 0.1872\n",
            "Epoch 10/10\n",
            "4832/4832 [==============================] - 16s 3ms/step - loss: 0.6173 - mse: 3.1851 - mape: 87.3929 - mean_squared_logarithmic_error: 0.1491 - logcosh: 0.4256 - r2_score: 0.1852 - val_loss: 0.6105 - val_mse: 3.1205 - val_mape: 80.1958 - val_mean_squared_logarithmic_error: 0.1469 - val_logcosh: 0.4193 - val_r2_score: 0.1873\n",
            "Best epoch: 1\n"
          ]
        }
      ]
    },
    {
      "cell_type": "code",
      "source": [
        "tuned_model = tuner.hypermodel.build(best_hps)\n",
        "tuned_model.summary()"
      ],
      "metadata": {
        "colab": {
          "base_uri": "https://localhost:8080/"
        },
        "id": "4A4BcLq9cBbU",
        "outputId": "3c3be2ce-fd6e-4eba-bcf9-f916971625f1"
      },
      "execution_count": null,
      "outputs": [
        {
          "output_type": "stream",
          "name": "stdout",
          "text": [
            "Model: \"sequential_2\"\n",
            "_________________________________________________________________\n",
            " Layer (type)                Output Shape              Param #   \n",
            "=================================================================\n",
            " dense_6 (Dense)             (None, 128)               1920      \n",
            "                                                                 \n",
            " dense_7 (Dense)             (None, 128)               16512     \n",
            "                                                                 \n",
            " dense_8 (Dense)             (None, 1)                 129       \n",
            "                                                                 \n",
            "=================================================================\n",
            "Total params: 18561 (72.50 KB)\n",
            "Trainable params: 18561 (72.50 KB)\n",
            "Non-trainable params: 0 (0.00 Byte)\n",
            "_________________________________________________________________\n"
          ]
        }
      ]
    },
    {
      "cell_type": "markdown",
      "source": [
        "### Model"
      ],
      "metadata": {
        "id": "fkNhWQFyffnf"
      }
    },
    {
      "cell_type": "code",
      "source": [
        "def get_model():\n",
        "\n",
        "  model = keras.Sequential()\n",
        "\n",
        "  # input layer\n",
        "  model.add(layers.Dense(units=128, activation=\"sigmoid\", input_shape=(14,)))\n",
        "\n",
        "  # an hidden layer\n",
        "  model.add(layers.Dense(units=128, activation=\"sigmoid\"))\n",
        "\n",
        "  # output layer\n",
        "  model.add(layers.Dense(1, activation='sigmoid'))\n",
        "\n",
        "  model.compile(loss='mean_absolute_error', optimizer=tf.keras.optimizers.Adam(learning_rate=0.01), metrics=[\"mse\", \"mape\", \"mean_squared_logarithmic_error\", \"R2Score\"])\n",
        "  return model"
      ],
      "metadata": {
        "id": "WQqNKKDCfoI0"
      },
      "execution_count": 23,
      "outputs": []
    },
    {
      "cell_type": "code",
      "source": [
        "dnn_model = get_model()\n",
        "dnn_model.summary()"
      ],
      "metadata": {
        "colab": {
          "base_uri": "https://localhost:8080/"
        },
        "id": "sIE002Cghh54",
        "outputId": "cf712f1f-eac9-4b93-e4ed-df0773a003e1"
      },
      "execution_count": 25,
      "outputs": [
        {
          "output_type": "stream",
          "name": "stdout",
          "text": [
            "Model: \"sequential_1\"\n",
            "_________________________________________________________________\n",
            " Layer (type)                Output Shape              Param #   \n",
            "=================================================================\n",
            " dense_3 (Dense)             (None, 128)               1920      \n",
            "                                                                 \n",
            " dense_4 (Dense)             (None, 128)               16512     \n",
            "                                                                 \n",
            " dense_5 (Dense)             (None, 1)                 129       \n",
            "                                                                 \n",
            "=================================================================\n",
            "Total params: 18561 (72.50 KB)\n",
            "Trainable params: 18561 (72.50 KB)\n",
            "Non-trainable params: 0 (0.00 Byte)\n",
            "_________________________________________________________________\n"
          ]
        }
      ]
    },
    {
      "cell_type": "markdown",
      "source": [
        "### History"
      ],
      "metadata": {
        "id": "n9SKqpCqOepz"
      }
    },
    {
      "cell_type": "code",
      "source": [
        "%%time\n",
        "history = dnn_model.fit(\n",
        "    x_train,\n",
        "    y_train,\n",
        "    epochs=10,\n",
        "    validation_split=0.2)\n",
        "\n",
        "\n",
        "# non ho usato la best epoch perchè risulta essere la zero"
      ],
      "metadata": {
        "colab": {
          "base_uri": "https://localhost:8080/"
        },
        "id": "4BVWcCg8uW72",
        "outputId": "a8e393ee-bb1f-4eda-e91c-c98fbf5a913b"
      },
      "execution_count": 26,
      "outputs": [
        {
          "output_type": "stream",
          "name": "stdout",
          "text": [
            "Epoch 1/10\n",
            "4832/4832 [==============================] - 20s 4ms/step - loss: 0.8628 - mse: 4.1653 - mape: 99.3090 - mean_squared_logarithmic_error: 0.3978 - r2_score: -0.0656 - val_loss: 0.6547 - val_mse: 3.1489 - val_mape: 84.4390 - val_mean_squared_logarithmic_error: 0.1583 - val_r2_score: 0.1799\n",
            "Epoch 2/10\n",
            "4832/4832 [==============================] - 14s 3ms/step - loss: 0.6473 - mse: 3.2023 - mape: 80.1259 - mean_squared_logarithmic_error: 0.1573 - r2_score: 0.1808 - val_loss: 0.6382 - val_mse: 3.1360 - val_mape: 79.7500 - val_mean_squared_logarithmic_error: 0.1546 - val_r2_score: 0.1832\n",
            "Epoch 3/10\n",
            "4832/4832 [==============================] - 13s 3ms/step - loss: 0.6405 - mse: 3.1988 - mape: 80.4783 - mean_squared_logarithmic_error: 0.1560 - r2_score: 0.1817 - val_loss: 0.6313 - val_mse: 3.1322 - val_mape: 77.7094 - val_mean_squared_logarithmic_error: 0.1526 - val_r2_score: 0.1842\n",
            "Epoch 4/10\n",
            "4832/4832 [==============================] - 13s 3ms/step - loss: 0.6308 - mse: 3.1902 - mape: 84.3926 - mean_squared_logarithmic_error: 0.1517 - r2_score: 0.1839 - val_loss: 0.6203 - val_mse: 3.1231 - val_mape: 80.7651 - val_mean_squared_logarithmic_error: 0.1482 - val_r2_score: 0.1866\n",
            "Epoch 5/10\n",
            "4832/4832 [==============================] - 15s 3ms/step - loss: 0.6249 - mse: 3.1874 - mape: 90.6028 - mean_squared_logarithmic_error: 0.1501 - r2_score: 0.1846 - val_loss: 0.6206 - val_mse: 3.1228 - val_mape: 93.1559 - val_mean_squared_logarithmic_error: 0.1479 - val_r2_score: 0.1867\n",
            "Epoch 6/10\n",
            "4832/4832 [==============================] - 14s 3ms/step - loss: 0.6222 - mse: 3.1865 - mape: 87.7434 - mean_squared_logarithmic_error: 0.1497 - r2_score: 0.1849 - val_loss: 0.6167 - val_mse: 3.1220 - val_mape: 78.3991 - val_mean_squared_logarithmic_error: 0.1475 - val_r2_score: 0.1869\n",
            "Epoch 7/10\n",
            "4832/4832 [==============================] - 14s 3ms/step - loss: 0.6204 - mse: 3.1859 - mape: 85.9721 - mean_squared_logarithmic_error: 0.1494 - r2_score: 0.1850 - val_loss: 0.6136 - val_mse: 3.1212 - val_mape: 78.3428 - val_mean_squared_logarithmic_error: 0.1472 - val_r2_score: 0.1871\n",
            "Epoch 8/10\n",
            "4832/4832 [==============================] - 13s 3ms/step - loss: 0.6190 - mse: 3.1855 - mape: 82.7388 - mean_squared_logarithmic_error: 0.1492 - r2_score: 0.1851 - val_loss: 0.6134 - val_mse: 3.1211 - val_mape: 79.3065 - val_mean_squared_logarithmic_error: 0.1472 - val_r2_score: 0.1871\n",
            "Epoch 9/10\n",
            "4832/4832 [==============================] - 15s 3ms/step - loss: 0.6181 - mse: 3.1853 - mape: 83.3134 - mean_squared_logarithmic_error: 0.1491 - r2_score: 0.1852 - val_loss: 0.6111 - val_mse: 3.1206 - val_mape: 76.8017 - val_mean_squared_logarithmic_error: 0.1469 - val_r2_score: 0.1873\n",
            "Epoch 10/10\n",
            "4832/4832 [==============================] - 14s 3ms/step - loss: 0.6171 - mse: 3.1850 - mape: 84.0691 - mean_squared_logarithmic_error: 0.1490 - r2_score: 0.1852 - val_loss: 0.6112 - val_mse: 3.1205 - val_mape: 77.0303 - val_mean_squared_logarithmic_error: 0.1468 - val_r2_score: 0.1873\n",
            "CPU times: user 2min 31s, sys: 6.48 s, total: 2min 38s\n",
            "Wall time: 3min 23s\n"
          ]
        }
      ]
    },
    {
      "cell_type": "code",
      "source": [
        "results = dnn_model.evaluate(x_test, y_test)\n",
        "print(\"[loss,mse,mape,mean_squared_logarithmic_error,r2_score]:\", results)"
      ],
      "metadata": {
        "colab": {
          "base_uri": "https://localhost:8080/"
        },
        "id": "8SPMrq1Ezcp0",
        "outputId": "df46691c-ed8a-4000-ec08-2b2524773476"
      },
      "execution_count": 27,
      "outputs": [
        {
          "output_type": "stream",
          "name": "stdout",
          "text": [
            "1510/1510 [==============================] - 3s 2ms/step - loss: 0.6150 - mse: 3.1891 - mape: 77.7275 - mean_squared_logarithmic_error: 0.1485 - r2_score: 0.1847\n",
            "[loss,mse,mape,mean_squared_logarithmic_error,r2_score]: [0.6149595379829407, 3.1890511512756348, 77.72752380371094, 0.1484648883342743, 0.1846550703048706]\n"
          ]
        }
      ]
    },
    {
      "cell_type": "code",
      "execution_count": 37,
      "metadata": {
        "colab": {
          "base_uri": "https://localhost:8080/",
          "height": 363
        },
        "id": "CPPNJvXk6UA4",
        "outputId": "710709f4-0a4b-4efc-b3e6-b986e3ecd008"
      },
      "outputs": [
        {
          "output_type": "execute_result",
          "data": {
            "text/plain": [
              "       loss       mse       mape  mean_squared_logarithmic_error  r2_score  \\\n",
              "0  0.862768  4.165329  99.308952                        0.397793 -0.065561   \n",
              "1  0.647280  3.202306  80.125908                        0.157280  0.180798   \n",
              "2  0.640516  3.198795  80.478287                        0.156028  0.181695   \n",
              "3  0.630772  3.190247  84.392601                        0.151695  0.183882   \n",
              "4  0.624861  3.187426  90.602760                        0.150106  0.184605   \n",
              "5  0.622176  3.186460  87.743385                        0.149650  0.184851   \n",
              "6  0.620396  3.185916  85.972107                        0.149402  0.184990   \n",
              "7  0.618982  3.185530  82.738770                        0.149231  0.185088   \n",
              "8  0.618057  3.185287  83.313438                        0.149122  0.185151   \n",
              "9  0.617114  3.185041  84.069107                        0.148989  0.185215   \n",
              "\n",
              "   val_loss   val_mse   val_mape  val_mean_squared_logarithmic_error  \\\n",
              "0  0.654691  3.148931  84.439003                            0.158293   \n",
              "1  0.638235  3.136050  79.750023                            0.154645   \n",
              "2  0.631250  3.132224  77.709427                            0.152647   \n",
              "3  0.620261  3.123100  80.765099                            0.148184   \n",
              "4  0.620576  3.122755  93.155891                            0.147896   \n",
              "5  0.616670  3.121987  78.399124                            0.147527   \n",
              "6  0.613600  3.121242  78.342842                            0.147210   \n",
              "7  0.613441  3.121131  79.306496                            0.147167   \n",
              "8  0.611118  3.120584  76.801743                            0.146897   \n",
              "9  0.611208  3.120517  77.030296                            0.146838   \n",
              "\n",
              "   val_r2_score  epoch  \n",
              "0      0.179876      0  \n",
              "1      0.183230      1  \n",
              "2      0.184227      2  \n",
              "3      0.186603      3  \n",
              "4      0.186693      4  \n",
              "5      0.186893      5  \n",
              "6      0.187087      6  \n",
              "7      0.187116      7  \n",
              "8      0.187258      8  \n",
              "9      0.187276      9  "
            ],
            "text/html": [
              "\n",
              "  <div id=\"df-44d82853-0914-4092-8222-2751fe96bf6e\" class=\"colab-df-container\">\n",
              "    <div>\n",
              "<style scoped>\n",
              "    .dataframe tbody tr th:only-of-type {\n",
              "        vertical-align: middle;\n",
              "    }\n",
              "\n",
              "    .dataframe tbody tr th {\n",
              "        vertical-align: top;\n",
              "    }\n",
              "\n",
              "    .dataframe thead th {\n",
              "        text-align: right;\n",
              "    }\n",
              "</style>\n",
              "<table border=\"1\" class=\"dataframe\">\n",
              "  <thead>\n",
              "    <tr style=\"text-align: right;\">\n",
              "      <th></th>\n",
              "      <th>loss</th>\n",
              "      <th>mse</th>\n",
              "      <th>mape</th>\n",
              "      <th>mean_squared_logarithmic_error</th>\n",
              "      <th>r2_score</th>\n",
              "      <th>val_loss</th>\n",
              "      <th>val_mse</th>\n",
              "      <th>val_mape</th>\n",
              "      <th>val_mean_squared_logarithmic_error</th>\n",
              "      <th>val_r2_score</th>\n",
              "      <th>epoch</th>\n",
              "    </tr>\n",
              "  </thead>\n",
              "  <tbody>\n",
              "    <tr>\n",
              "      <th>0</th>\n",
              "      <td>0.862768</td>\n",
              "      <td>4.165329</td>\n",
              "      <td>99.308952</td>\n",
              "      <td>0.397793</td>\n",
              "      <td>-0.065561</td>\n",
              "      <td>0.654691</td>\n",
              "      <td>3.148931</td>\n",
              "      <td>84.439003</td>\n",
              "      <td>0.158293</td>\n",
              "      <td>0.179876</td>\n",
              "      <td>0</td>\n",
              "    </tr>\n",
              "    <tr>\n",
              "      <th>1</th>\n",
              "      <td>0.647280</td>\n",
              "      <td>3.202306</td>\n",
              "      <td>80.125908</td>\n",
              "      <td>0.157280</td>\n",
              "      <td>0.180798</td>\n",
              "      <td>0.638235</td>\n",
              "      <td>3.136050</td>\n",
              "      <td>79.750023</td>\n",
              "      <td>0.154645</td>\n",
              "      <td>0.183230</td>\n",
              "      <td>1</td>\n",
              "    </tr>\n",
              "    <tr>\n",
              "      <th>2</th>\n",
              "      <td>0.640516</td>\n",
              "      <td>3.198795</td>\n",
              "      <td>80.478287</td>\n",
              "      <td>0.156028</td>\n",
              "      <td>0.181695</td>\n",
              "      <td>0.631250</td>\n",
              "      <td>3.132224</td>\n",
              "      <td>77.709427</td>\n",
              "      <td>0.152647</td>\n",
              "      <td>0.184227</td>\n",
              "      <td>2</td>\n",
              "    </tr>\n",
              "    <tr>\n",
              "      <th>3</th>\n",
              "      <td>0.630772</td>\n",
              "      <td>3.190247</td>\n",
              "      <td>84.392601</td>\n",
              "      <td>0.151695</td>\n",
              "      <td>0.183882</td>\n",
              "      <td>0.620261</td>\n",
              "      <td>3.123100</td>\n",
              "      <td>80.765099</td>\n",
              "      <td>0.148184</td>\n",
              "      <td>0.186603</td>\n",
              "      <td>3</td>\n",
              "    </tr>\n",
              "    <tr>\n",
              "      <th>4</th>\n",
              "      <td>0.624861</td>\n",
              "      <td>3.187426</td>\n",
              "      <td>90.602760</td>\n",
              "      <td>0.150106</td>\n",
              "      <td>0.184605</td>\n",
              "      <td>0.620576</td>\n",
              "      <td>3.122755</td>\n",
              "      <td>93.155891</td>\n",
              "      <td>0.147896</td>\n",
              "      <td>0.186693</td>\n",
              "      <td>4</td>\n",
              "    </tr>\n",
              "    <tr>\n",
              "      <th>5</th>\n",
              "      <td>0.622176</td>\n",
              "      <td>3.186460</td>\n",
              "      <td>87.743385</td>\n",
              "      <td>0.149650</td>\n",
              "      <td>0.184851</td>\n",
              "      <td>0.616670</td>\n",
              "      <td>3.121987</td>\n",
              "      <td>78.399124</td>\n",
              "      <td>0.147527</td>\n",
              "      <td>0.186893</td>\n",
              "      <td>5</td>\n",
              "    </tr>\n",
              "    <tr>\n",
              "      <th>6</th>\n",
              "      <td>0.620396</td>\n",
              "      <td>3.185916</td>\n",
              "      <td>85.972107</td>\n",
              "      <td>0.149402</td>\n",
              "      <td>0.184990</td>\n",
              "      <td>0.613600</td>\n",
              "      <td>3.121242</td>\n",
              "      <td>78.342842</td>\n",
              "      <td>0.147210</td>\n",
              "      <td>0.187087</td>\n",
              "      <td>6</td>\n",
              "    </tr>\n",
              "    <tr>\n",
              "      <th>7</th>\n",
              "      <td>0.618982</td>\n",
              "      <td>3.185530</td>\n",
              "      <td>82.738770</td>\n",
              "      <td>0.149231</td>\n",
              "      <td>0.185088</td>\n",
              "      <td>0.613441</td>\n",
              "      <td>3.121131</td>\n",
              "      <td>79.306496</td>\n",
              "      <td>0.147167</td>\n",
              "      <td>0.187116</td>\n",
              "      <td>7</td>\n",
              "    </tr>\n",
              "    <tr>\n",
              "      <th>8</th>\n",
              "      <td>0.618057</td>\n",
              "      <td>3.185287</td>\n",
              "      <td>83.313438</td>\n",
              "      <td>0.149122</td>\n",
              "      <td>0.185151</td>\n",
              "      <td>0.611118</td>\n",
              "      <td>3.120584</td>\n",
              "      <td>76.801743</td>\n",
              "      <td>0.146897</td>\n",
              "      <td>0.187258</td>\n",
              "      <td>8</td>\n",
              "    </tr>\n",
              "    <tr>\n",
              "      <th>9</th>\n",
              "      <td>0.617114</td>\n",
              "      <td>3.185041</td>\n",
              "      <td>84.069107</td>\n",
              "      <td>0.148989</td>\n",
              "      <td>0.185215</td>\n",
              "      <td>0.611208</td>\n",
              "      <td>3.120517</td>\n",
              "      <td>77.030296</td>\n",
              "      <td>0.146838</td>\n",
              "      <td>0.187276</td>\n",
              "      <td>9</td>\n",
              "    </tr>\n",
              "  </tbody>\n",
              "</table>\n",
              "</div>\n",
              "    <div class=\"colab-df-buttons\">\n",
              "\n",
              "  <div class=\"colab-df-container\">\n",
              "    <button class=\"colab-df-convert\" onclick=\"convertToInteractive('df-44d82853-0914-4092-8222-2751fe96bf6e')\"\n",
              "            title=\"Convert this dataframe to an interactive table.\"\n",
              "            style=\"display:none;\">\n",
              "\n",
              "  <svg xmlns=\"http://www.w3.org/2000/svg\" height=\"24px\" viewBox=\"0 -960 960 960\">\n",
              "    <path d=\"M120-120v-720h720v720H120Zm60-500h600v-160H180v160Zm220 220h160v-160H400v160Zm0 220h160v-160H400v160ZM180-400h160v-160H180v160Zm440 0h160v-160H620v160ZM180-180h160v-160H180v160Zm440 0h160v-160H620v160Z\"/>\n",
              "  </svg>\n",
              "    </button>\n",
              "\n",
              "  <style>\n",
              "    .colab-df-container {\n",
              "      display:flex;\n",
              "      gap: 12px;\n",
              "    }\n",
              "\n",
              "    .colab-df-convert {\n",
              "      background-color: #E8F0FE;\n",
              "      border: none;\n",
              "      border-radius: 50%;\n",
              "      cursor: pointer;\n",
              "      display: none;\n",
              "      fill: #1967D2;\n",
              "      height: 32px;\n",
              "      padding: 0 0 0 0;\n",
              "      width: 32px;\n",
              "    }\n",
              "\n",
              "    .colab-df-convert:hover {\n",
              "      background-color: #E2EBFA;\n",
              "      box-shadow: 0px 1px 2px rgba(60, 64, 67, 0.3), 0px 1px 3px 1px rgba(60, 64, 67, 0.15);\n",
              "      fill: #174EA6;\n",
              "    }\n",
              "\n",
              "    .colab-df-buttons div {\n",
              "      margin-bottom: 4px;\n",
              "    }\n",
              "\n",
              "    [theme=dark] .colab-df-convert {\n",
              "      background-color: #3B4455;\n",
              "      fill: #D2E3FC;\n",
              "    }\n",
              "\n",
              "    [theme=dark] .colab-df-convert:hover {\n",
              "      background-color: #434B5C;\n",
              "      box-shadow: 0px 1px 3px 1px rgba(0, 0, 0, 0.15);\n",
              "      filter: drop-shadow(0px 1px 2px rgba(0, 0, 0, 0.3));\n",
              "      fill: #FFFFFF;\n",
              "    }\n",
              "  </style>\n",
              "\n",
              "    <script>\n",
              "      const buttonEl =\n",
              "        document.querySelector('#df-44d82853-0914-4092-8222-2751fe96bf6e button.colab-df-convert');\n",
              "      buttonEl.style.display =\n",
              "        google.colab.kernel.accessAllowed ? 'block' : 'none';\n",
              "\n",
              "      async function convertToInteractive(key) {\n",
              "        const element = document.querySelector('#df-44d82853-0914-4092-8222-2751fe96bf6e');\n",
              "        const dataTable =\n",
              "          await google.colab.kernel.invokeFunction('convertToInteractive',\n",
              "                                                    [key], {});\n",
              "        if (!dataTable) return;\n",
              "\n",
              "        const docLinkHtml = 'Like what you see? Visit the ' +\n",
              "          '<a target=\"_blank\" href=https://colab.research.google.com/notebooks/data_table.ipynb>data table notebook</a>'\n",
              "          + ' to learn more about interactive tables.';\n",
              "        element.innerHTML = '';\n",
              "        dataTable['output_type'] = 'display_data';\n",
              "        await google.colab.output.renderOutput(dataTable, element);\n",
              "        const docLink = document.createElement('div');\n",
              "        docLink.innerHTML = docLinkHtml;\n",
              "        element.appendChild(docLink);\n",
              "      }\n",
              "    </script>\n",
              "  </div>\n",
              "\n",
              "\n",
              "<div id=\"df-eb4012bf-5c5b-49ed-b3ee-6b227801e7f4\">\n",
              "  <button class=\"colab-df-quickchart\" onclick=\"quickchart('df-eb4012bf-5c5b-49ed-b3ee-6b227801e7f4')\"\n",
              "            title=\"Suggest charts\"\n",
              "            style=\"display:none;\">\n",
              "\n",
              "<svg xmlns=\"http://www.w3.org/2000/svg\" height=\"24px\"viewBox=\"0 0 24 24\"\n",
              "     width=\"24px\">\n",
              "    <g>\n",
              "        <path d=\"M19 3H5c-1.1 0-2 .9-2 2v14c0 1.1.9 2 2 2h14c1.1 0 2-.9 2-2V5c0-1.1-.9-2-2-2zM9 17H7v-7h2v7zm4 0h-2V7h2v10zm4 0h-2v-4h2v4z\"/>\n",
              "    </g>\n",
              "</svg>\n",
              "  </button>\n",
              "\n",
              "<style>\n",
              "  .colab-df-quickchart {\n",
              "      --bg-color: #E8F0FE;\n",
              "      --fill-color: #1967D2;\n",
              "      --hover-bg-color: #E2EBFA;\n",
              "      --hover-fill-color: #174EA6;\n",
              "      --disabled-fill-color: #AAA;\n",
              "      --disabled-bg-color: #DDD;\n",
              "  }\n",
              "\n",
              "  [theme=dark] .colab-df-quickchart {\n",
              "      --bg-color: #3B4455;\n",
              "      --fill-color: #D2E3FC;\n",
              "      --hover-bg-color: #434B5C;\n",
              "      --hover-fill-color: #FFFFFF;\n",
              "      --disabled-bg-color: #3B4455;\n",
              "      --disabled-fill-color: #666;\n",
              "  }\n",
              "\n",
              "  .colab-df-quickchart {\n",
              "    background-color: var(--bg-color);\n",
              "    border: none;\n",
              "    border-radius: 50%;\n",
              "    cursor: pointer;\n",
              "    display: none;\n",
              "    fill: var(--fill-color);\n",
              "    height: 32px;\n",
              "    padding: 0;\n",
              "    width: 32px;\n",
              "  }\n",
              "\n",
              "  .colab-df-quickchart:hover {\n",
              "    background-color: var(--hover-bg-color);\n",
              "    box-shadow: 0 1px 2px rgba(60, 64, 67, 0.3), 0 1px 3px 1px rgba(60, 64, 67, 0.15);\n",
              "    fill: var(--button-hover-fill-color);\n",
              "  }\n",
              "\n",
              "  .colab-df-quickchart-complete:disabled,\n",
              "  .colab-df-quickchart-complete:disabled:hover {\n",
              "    background-color: var(--disabled-bg-color);\n",
              "    fill: var(--disabled-fill-color);\n",
              "    box-shadow: none;\n",
              "  }\n",
              "\n",
              "  .colab-df-spinner {\n",
              "    border: 2px solid var(--fill-color);\n",
              "    border-color: transparent;\n",
              "    border-bottom-color: var(--fill-color);\n",
              "    animation:\n",
              "      spin 1s steps(1) infinite;\n",
              "  }\n",
              "\n",
              "  @keyframes spin {\n",
              "    0% {\n",
              "      border-color: transparent;\n",
              "      border-bottom-color: var(--fill-color);\n",
              "      border-left-color: var(--fill-color);\n",
              "    }\n",
              "    20% {\n",
              "      border-color: transparent;\n",
              "      border-left-color: var(--fill-color);\n",
              "      border-top-color: var(--fill-color);\n",
              "    }\n",
              "    30% {\n",
              "      border-color: transparent;\n",
              "      border-left-color: var(--fill-color);\n",
              "      border-top-color: var(--fill-color);\n",
              "      border-right-color: var(--fill-color);\n",
              "    }\n",
              "    40% {\n",
              "      border-color: transparent;\n",
              "      border-right-color: var(--fill-color);\n",
              "      border-top-color: var(--fill-color);\n",
              "    }\n",
              "    60% {\n",
              "      border-color: transparent;\n",
              "      border-right-color: var(--fill-color);\n",
              "    }\n",
              "    80% {\n",
              "      border-color: transparent;\n",
              "      border-right-color: var(--fill-color);\n",
              "      border-bottom-color: var(--fill-color);\n",
              "    }\n",
              "    90% {\n",
              "      border-color: transparent;\n",
              "      border-bottom-color: var(--fill-color);\n",
              "    }\n",
              "  }\n",
              "</style>\n",
              "\n",
              "  <script>\n",
              "    async function quickchart(key) {\n",
              "      const quickchartButtonEl =\n",
              "        document.querySelector('#' + key + ' button');\n",
              "      quickchartButtonEl.disabled = true;  // To prevent multiple clicks.\n",
              "      quickchartButtonEl.classList.add('colab-df-spinner');\n",
              "      try {\n",
              "        const charts = await google.colab.kernel.invokeFunction(\n",
              "            'suggestCharts', [key], {});\n",
              "      } catch (error) {\n",
              "        console.error('Error during call to suggestCharts:', error);\n",
              "      }\n",
              "      quickchartButtonEl.classList.remove('colab-df-spinner');\n",
              "      quickchartButtonEl.classList.add('colab-df-quickchart-complete');\n",
              "    }\n",
              "    (() => {\n",
              "      let quickchartButtonEl =\n",
              "        document.querySelector('#df-eb4012bf-5c5b-49ed-b3ee-6b227801e7f4 button');\n",
              "      quickchartButtonEl.style.display =\n",
              "        google.colab.kernel.accessAllowed ? 'block' : 'none';\n",
              "    })();\n",
              "  </script>\n",
              "</div>\n",
              "    </div>\n",
              "  </div>\n"
            ],
            "application/vnd.google.colaboratory.intrinsic+json": {
              "type": "dataframe",
              "variable_name": "hist",
              "summary": "{\n  \"name\": \"hist\",\n  \"rows\": 10,\n  \"fields\": [\n    {\n      \"column\": \"loss\",\n      \"properties\": {\n        \"dtype\": \"number\",\n        \"std\": 0.07533841934516372,\n        \"min\": 0.6171136498451233,\n        \"max\": 0.8627676963806152,\n        \"num_unique_values\": 10,\n        \"samples\": [\n          0.6180566549301147,\n          0.6472801566123962,\n          0.6221756935119629\n        ],\n        \"semantic_type\": \"\",\n        \"description\": \"\"\n      }\n    },\n    {\n      \"column\": \"mse\",\n      \"properties\": {\n        \"dtype\": \"number\",\n        \"std\": 0.30859068611778245,\n        \"min\": 3.1850407123565674,\n        \"max\": 4.1653289794921875,\n        \"num_unique_values\": 10,\n        \"samples\": [\n          3.1852874755859375,\n          3.202306032180786,\n          3.186460256576538\n        ],\n        \"semantic_type\": \"\",\n        \"description\": \"\"\n      }\n    },\n    {\n      \"column\": \"mape\",\n      \"properties\": {\n        \"dtype\": \"number\",\n        \"std\": 5.679944771347191,\n        \"min\": 80.12590789794922,\n        \"max\": 99.30895233154297,\n        \"num_unique_values\": 10,\n        \"samples\": [\n          83.31343841552734,\n          80.12590789794922,\n          87.7433853149414\n        ],\n        \"semantic_type\": \"\",\n        \"description\": \"\"\n      }\n    },\n    {\n      \"column\": \"mean_squared_logarithmic_error\",\n      \"properties\": {\n        \"dtype\": \"number\",\n        \"std\": 0.07801191077606168,\n        \"min\": 0.14898884296417236,\n        \"max\": 0.3977925777435303,\n        \"num_unique_values\": 10,\n        \"samples\": [\n          0.14912249147891998,\n          0.1572800725698471,\n          0.149650439620018\n        ],\n        \"semantic_type\": \"\",\n        \"description\": \"\"\n      }\n    },\n    {\n      \"column\": \"r2_score\",\n      \"properties\": {\n        \"dtype\": \"number\",\n        \"std\": 0.07894287014456865,\n        \"min\": -0.06556069850921631,\n        \"max\": 0.1852145791053772,\n        \"num_unique_values\": 10,\n        \"samples\": [\n          0.18515080213546753,\n          0.18079793453216553,\n          0.18485116958618164\n        ],\n        \"semantic_type\": \"\",\n        \"description\": \"\"\n      }\n    },\n    {\n      \"column\": \"val_loss\",\n      \"properties\": {\n        \"dtype\": \"number\",\n        \"std\": 0.014211811759042533,\n        \"min\": 0.611117959022522,\n        \"max\": 0.6546907424926758,\n        \"num_unique_values\": 10,\n        \"samples\": [\n          0.611117959022522,\n          0.6382351517677307,\n          0.6166698932647705\n        ],\n        \"semantic_type\": \"\",\n        \"description\": \"\"\n      }\n    },\n    {\n      \"column\": \"val_mse\",\n      \"properties\": {\n        \"dtype\": \"number\",\n        \"std\": 0.009422685495629116,\n        \"min\": 3.1205174922943115,\n        \"max\": 3.1489310264587402,\n        \"num_unique_values\": 10,\n        \"samples\": [\n          3.12058424949646,\n          3.13604998588562,\n          3.1219873428344727\n        ],\n        \"semantic_type\": \"\",\n        \"description\": \"\"\n      }\n    },\n    {\n      \"column\": \"val_mape\",\n      \"properties\": {\n        \"dtype\": \"number\",\n        \"std\": 4.94711807456851,\n        \"min\": 76.80174255371094,\n        \"max\": 93.15589141845703,\n        \"num_unique_values\": 10,\n        \"samples\": [\n          76.80174255371094,\n          79.7500228881836,\n          78.39912414550781\n        ],\n        \"semantic_type\": \"\",\n        \"description\": \"\"\n      }\n    },\n    {\n      \"column\": \"val_mean_squared_logarithmic_error\",\n      \"properties\": {\n        \"dtype\": \"number\",\n        \"std\": 0.004026382899574983,\n        \"min\": 0.14683768153190613,\n        \"max\": 0.15829293429851532,\n        \"num_unique_values\": 10,\n        \"samples\": [\n          0.14689673483371735,\n          0.15464524924755096,\n          0.14752745628356934\n        ],\n        \"semantic_type\": \"\",\n        \"description\": \"\"\n      }\n    },\n    {\n      \"column\": \"val_r2_score\",\n      \"properties\": {\n        \"dtype\": \"number\",\n        \"std\": 0.0024540975934462628,\n        \"min\": 0.17987561225891113,\n        \"max\": 0.18727576732635498,\n        \"num_unique_values\": 10,\n        \"samples\": [\n          0.18725842237472534,\n          0.18323040008544922,\n          0.18689292669296265\n        ],\n        \"semantic_type\": \"\",\n        \"description\": \"\"\n      }\n    },\n    {\n      \"column\": \"epoch\",\n      \"properties\": {\n        \"dtype\": \"number\",\n        \"std\": 3,\n        \"min\": 0,\n        \"max\": 9,\n        \"num_unique_values\": 10,\n        \"samples\": [\n          8,\n          1,\n          5\n        ],\n        \"semantic_type\": \"\",\n        \"description\": \"\"\n      }\n    }\n  ]\n}"
            }
          },
          "metadata": {},
          "execution_count": 37
        }
      ],
      "source": [
        "hist = pd.DataFrame(history.history)\n",
        "hist['epoch'] = history.epoch\n",
        "hist"
      ]
    },
    {
      "cell_type": "code",
      "source": [
        "hist.columns"
      ],
      "metadata": {
        "id": "PqESqHNsOGmz",
        "outputId": "4d4b9351-c32d-4dc2-f69b-c56abb3b6927",
        "colab": {
          "base_uri": "https://localhost:8080/"
        }
      },
      "execution_count": 38,
      "outputs": [
        {
          "output_type": "execute_result",
          "data": {
            "text/plain": [
              "Index(['loss', 'mse', 'mape', 'mean_squared_logarithmic_error', 'r2_score',\n",
              "       'val_loss', 'val_mse', 'val_mape', 'val_mean_squared_logarithmic_error',\n",
              "       'val_r2_score', 'epoch'],\n",
              "      dtype='object')"
            ]
          },
          "metadata": {},
          "execution_count": 38
        }
      ]
    },
    {
      "cell_type": "markdown",
      "source": [
        "##Metrics insight\n"
      ],
      "metadata": {
        "id": "g5UR9JROG9nq"
      }
    },
    {
      "cell_type": "markdown",
      "source": [
        "The mean of the distance from each point to the predicted regression model can be calculated, and shown as the **mean squared error**.\n",
        "mean squared error has the disadvantage of heavily weighting outliers.\n",
        "This is a result of the squaring of each term, which effectively weights large errors more heavily than small ones.\n",
        "\n",
        "**Mean absolute error** (MAE) is a measure of errors between paired observations expressing the same phenomenon. MAE is calculated as the sum of absolute errors divided by the sample size.\n",
        "The mean absolute error is one of a number of ways of comparing forecasts with their eventual outcomes. Well-established alternatives are the mean absolute scaled error (MASE) and the mean squared error.\n",
        "MAE is not identical to root-mean square error (RMSE), although some researchers report and interpret it that way. The MAE is conceptually simpler and also easier to interpret than RMSE: it is simply the average absolute vertical or horizontal distance between each point in a scatter plot and the Y=X line. In other words, MAE is the average absolute difference between X and Y. Furthermore, each error contributes to MAE in proportion to the absolute value of the error. This is in contrast to RMSE which involves squaring the differences, so that a few large differences will increase the RMSE to a greater degree than the MAE.\n",
        "\n",
        "\n",
        "The **Mean Squared Logarithmic Error (MSLE)** is a statistical measure used to evaluate the accuracy of a forecasting model, particularly when the data has a wide range of values. It measures the average of the squared differences between the logarithms of the predicted and actual values.\n",
        "The logarithmic transformation used in the MSLE reduces the impact of large differences between the actual and predicted values and provides a better measure of the relative errors between the two values. The MSLE is always a positive value, with a smaller MSLE indicating better forecast accuracy.\n",
        "The MSLE is commonly used in applications where the data has a wide range of\n",
        "values and the relative errors are more important than the absolute errors.\n",
        "It is important to note that the MSLE is not suitable for data with negative values or zero values, as the logarithm function is not defined for these values. + Best possible score is 0.0, smaller value is better. Range = [0, +inf)\n",
        "\n",
        "**Logcosh** works mostly like the mean squared error, but will not be so strongly affected by the occasional wildly incorrect prediction.\n",
        "\n",
        "\n",
        "In statistica, il **coefficiente di determinazione**, più comunemente **R2**, è un indice che misura il legame tra la variabilità dei dati e la correttezza del modello statistico utilizzato. Intuitivamente, esso è legato alla frazione della varianza non spiegata dal modello.\n",
        "\n",
        "The **mean absolute percentage error (MAPE)**, also known as mean absolute percentage deviation (MAPD), is a measure of prediction accuracy of a forecasting method in statistics. It usually expresses the accuracy as a ratio\n",
        "Mean absolute percentage error is commonly used as a loss function for regression problems and in model evaluation, because of its very intuitive interpretation in terms of relative error.\n",
        "From a practical point of view, the use of the MAPE as a quality function for regression model is equivalent to doing weighted mean absolute error (MAE) regression, also known as quantile regression.\n",
        "Although the concept of MAPE sounds very simple and convincing, it has major drawbacks in practical application, and there are many studies on shortcomings and misleading results from MAPE.(vedi wiki)\n",
        "\n",
        "The result is a percentage indicating the average deviation of the predicted values from the actual values.\n",
        "\n",
        "\n",
        "In statistics, the **mean absolute scaled error (MASE)** is a measure of the accuracy of forecasts. It is the mean absolute error of the forecast values, divided by the mean absolute error of the in-sample one-step naive forecast.\n",
        "The mean absolute scaled error has favorable properties when compared to other methods for calculating forecast errors, such as root-mean-square-deviation, and is therefore recommended for determining comparative accuracy of forecasts.\n",
        "The mean absolute scaled error can be easily interpreted, as values greater than one indicate that in-sample one-step forecasts from the naïve method perform better than the forecast values under consideration.\n",
        "\n",
        "non presenti:\n",
        "\n",
        "smape\n",
        "mda\n",
        "mad"
      ],
      "metadata": {
        "id": "iAFfQRfz9JgD"
      }
    },
    {
      "cell_type": "code",
      "source": [
        "dnn_model.metrics_names"
      ],
      "metadata": {
        "colab": {
          "base_uri": "https://localhost:8080/"
        },
        "id": "Fqazj-EDEcqO",
        "outputId": "4af54e09-0672-4323-d416-5088cbf6ff43"
      },
      "execution_count": 30,
      "outputs": [
        {
          "output_type": "execute_result",
          "data": {
            "text/plain": [
              "['loss', 'mse', 'mape', 'mean_squared_logarithmic_error', 'r2_score']"
            ]
          },
          "metadata": {},
          "execution_count": 30
        }
      ]
    },
    {
      "cell_type": "code",
      "execution_count": 35,
      "metadata": {
        "id": "ZBPBIx4M6U6S"
      },
      "outputs": [],
      "source": [
        "from ctypes import alignment\n",
        "def plot_loss(history):\n",
        "  fig, (ax1, ax2, ax3, ax4, ax5) = plt.subplots(1, 5, figsize=(19, 5))\n",
        "  ax1.plot(history.history['loss'], label='loss (mae)')\n",
        "  ax1.plot(history.history['val_loss'], label='val_loss')\n",
        "  ax2.plot(history.history['mse'], label='mse')\n",
        "  ax2.plot(history.history['val_mse'], label='val_mse')\n",
        "  ax3.plot(history.history['mape'], label='mape')\n",
        "  ax3.plot(history.history['val_mape'], label='val_mape')\n",
        "  ax4.plot(history.history['mean_squared_logarithmic_error'], label='mean_squared_logarithmic_error')\n",
        "  ax4.plot(history.history['val_mean_squared_logarithmic_error'], label='val_mean_squared_logarithmic_error')\n",
        "  ax5.plot(history.history['r2_score'], label='r2_score')\n",
        "  ax5.plot(history.history['val_r2_score'], label='val_r2_score')\n",
        "\n",
        "  ax1.set(xlabel='Epoch', ylabel='loss (mae)')\n",
        "  ax1.legend(loc=\"upper right\")\n",
        "  ax1.grid(True)\n",
        "\n",
        "  ax2.set(xlabel='Epoch', ylabel='mse')\n",
        "  ax2.legend(loc=\"upper right\")\n",
        "  ax2.grid(True)\n",
        "\n",
        "  ax3.set(xlabel='Epoch', ylabel='mape')\n",
        "  ax3.legend(loc=\"upper right\")\n",
        "  ax3.grid(True)\n",
        "\n",
        "  ax4.set(xlabel='Epoch', ylabel='mean_squared_logarithmic_error')\n",
        "  ax4.legend(loc=\"upper right\")\n",
        "  ax4.grid(True)\n",
        "\n",
        "  ax5.set(xlabel='Epoch', ylabel='r2_score')\n",
        "  ax5.legend(loc=\"upper right\")\n",
        "  ax5.grid(True)\n",
        "\n",
        "  fig.tight_layout()"
      ]
    },
    {
      "cell_type": "code",
      "source": [
        "plot_loss(history)"
      ],
      "metadata": {
        "colab": {
          "base_uri": "https://localhost:8080/",
          "height": 507
        },
        "id": "M-0744d_6mBH",
        "outputId": "e5447dca-1f63-4534-bb9c-923ec8f9f550"
      },
      "execution_count": 36,
      "outputs": [
        {
          "output_type": "display_data",
          "data": {
            "text/plain": [
              "<Figure size 1900x500 with 5 Axes>"
            ],
            "image/png": "[encoded data removed]"
          },
          "metadata": {}
        }
      ]
    },
    {
      "cell_type": "markdown",
      "metadata": {
        "id": "hWoVYS34fJPZ"
      },
      "source": [
        "Collect the results on the test set:"
      ]
    },
    {
      "cell_type": "code",
      "source": [
        "loss,mse,mape,mean_squared_logarithmic_error,logcosh,r2_score = tuned_model.evaluate(x_test, y_test, verbose=0)"
      ],
      "metadata": {
        "id": "wF3xYPFKIYXb"
      },
      "execution_count": null,
      "outputs": []
    },
    {
      "cell_type": "code",
      "source": [
        "test_results = {}\n",
        "\n",
        "test_results['loss'] = loss\n",
        "test_results['mse'] = mse\n",
        "test_results['mean_squared_logarithmic_error'] = mean_squared_logarithmic_error\n",
        "test_results['logcosh'] = logcosh\n",
        "test_results['r2_score'] = r2_score"
      ],
      "metadata": {
        "id": "2NrqlT5CIRy7"
      },
      "execution_count": null,
      "outputs": []
    },
    {
      "cell_type": "markdown",
      "metadata": {
        "id": "uiCucdPLfMkZ"
      },
      "source": [
        "## Performance"
      ]
    },
    {
      "cell_type": "markdown",
      "metadata": {
        "id": "rDf1xebEfWBw"
      },
      "source": [
        "Since all models have been trained, you can review their test set performance:"
      ]
    },
    {
      "cell_type": "code",
      "execution_count": null,
      "metadata": {
        "colab": {
          "base_uri": "https://localhost:8080/",
          "height": 206
        },
        "id": "e5_ooufM5iH2",
        "outputId": "0eedbb05-e937-4ff7-cc48-53b9057386ca"
      },
      "outputs": [
        {
          "output_type": "execute_result",
          "data": {
            "text/plain": [
              "                                    loss       mse      mape  \\\n",
              "loss                            0.609666  0.609666  0.609666   \n",
              "mse                             3.188002  3.188002  3.188002   \n",
              "mean_squared_logarithmic_error  0.147992  0.147992  0.147992   \n",
              "logcosh                         0.423757  0.423757  0.423757   \n",
              "r2_score                        0.184923  0.184923  0.184923   \n",
              "\n",
              "                                mean_squared_logarithmic_error   logcosh  \\\n",
              "loss                                                  0.609666  0.609666   \n",
              "mse                                                   3.188002  3.188002   \n",
              "mean_squared_logarithmic_error                        0.147992  0.147992   \n",
              "logcosh                                               0.423757  0.423757   \n",
              "r2_score                                              0.184923  0.184923   \n",
              "\n",
              "                                r2_score  \n",
              "loss                            0.609666  \n",
              "mse                             3.188002  \n",
              "mean_squared_logarithmic_error  0.147992  \n",
              "logcosh                         0.423757  \n",
              "r2_score                        0.184923  "
            ],
            "text/html": [
              "\n",
              "  <div id=\"df-4bfb2a87-0f5a-4161-a33a-543279590d49\" class=\"colab-df-container\">\n",
              "    <div>\n",
              "<style scoped>\n",
              "    .dataframe tbody tr th:only-of-type {\n",
              "        vertical-align: middle;\n",
              "    }\n",
              "\n",
              "    .dataframe tbody tr th {\n",
              "        vertical-align: top;\n",
              "    }\n",
              "\n",
              "    .dataframe thead th {\n",
              "        text-align: right;\n",
              "    }\n",
              "</style>\n",
              "<table border=\"1\" class=\"dataframe\">\n",
              "  <thead>\n",
              "    <tr style=\"text-align: right;\">\n",
              "      <th></th>\n",
              "      <th>loss</th>\n",
              "      <th>mse</th>\n",
              "      <th>mape</th>\n",
              "      <th>mean_squared_logarithmic_error</th>\n",
              "      <th>logcosh</th>\n",
              "      <th>r2_score</th>\n",
              "    </tr>\n",
              "  </thead>\n",
              "  <tbody>\n",
              "    <tr>\n",
              "      <th>loss</th>\n",
              "      <td>0.609666</td>\n",
              "      <td>0.609666</td>\n",
              "      <td>0.609666</td>\n",
              "      <td>0.609666</td>\n",
              "      <td>0.609666</td>\n",
              "      <td>0.609666</td>\n",
              "    </tr>\n",
              "    <tr>\n",
              "      <th>mse</th>\n",
              "      <td>3.188002</td>\n",
              "      <td>3.188002</td>\n",
              "      <td>3.188002</td>\n",
              "      <td>3.188002</td>\n",
              "      <td>3.188002</td>\n",
              "      <td>3.188002</td>\n",
              "    </tr>\n",
              "    <tr>\n",
              "      <th>mean_squared_logarithmic_error</th>\n",
              "      <td>0.147992</td>\n",
              "      <td>0.147992</td>\n",
              "      <td>0.147992</td>\n",
              "      <td>0.147992</td>\n",
              "      <td>0.147992</td>\n",
              "      <td>0.147992</td>\n",
              "    </tr>\n",
              "    <tr>\n",
              "      <th>logcosh</th>\n",
              "      <td>0.423757</td>\n",
              "      <td>0.423757</td>\n",
              "      <td>0.423757</td>\n",
              "      <td>0.423757</td>\n",
              "      <td>0.423757</td>\n",
              "      <td>0.423757</td>\n",
              "    </tr>\n",
              "    <tr>\n",
              "      <th>r2_score</th>\n",
              "      <td>0.184923</td>\n",
              "      <td>0.184923</td>\n",
              "      <td>0.184923</td>\n",
              "      <td>0.184923</td>\n",
              "      <td>0.184923</td>\n",
              "      <td>0.184923</td>\n",
              "    </tr>\n",
              "  </tbody>\n",
              "</table>\n",
              "</div>\n",
              "    <div class=\"colab-df-buttons\">\n",
              "\n",
              "  <div class=\"colab-df-container\">\n",
              "    <button class=\"colab-df-convert\" onclick=\"convertToInteractive('df-4bfb2a87-0f5a-4161-a33a-543279590d49')\"\n",
              "            title=\"Convert this dataframe to an interactive table.\"\n",
              "            style=\"display:none;\">\n",
              "\n",
              "  <svg xmlns=\"http://www.w3.org/2000/svg\" height=\"24px\" viewBox=\"0 -960 960 960\">\n",
              "    <path d=\"M120-120v-720h720v720H120Zm60-500h600v-160H180v160Zm220 220h160v-160H400v160Zm0 220h160v-160H400v160ZM180-400h160v-160H180v160Zm440 0h160v-160H620v160ZM180-180h160v-160H180v160Zm440 0h160v-160H620v160Z\"/>\n",
              "  </svg>\n",
              "    </button>\n",
              "\n",
              "  <style>\n",
              "    .colab-df-container {\n",
              "      display:flex;\n",
              "      gap: 12px;\n",
              "    }\n",
              "\n",
              "    .colab-df-convert {\n",
              "      background-color: #E8F0FE;\n",
              "      border: none;\n",
              "      border-radius: 50%;\n",
              "      cursor: pointer;\n",
              "      display: none;\n",
              "      fill: #1967D2;\n",
              "      height: 32px;\n",
              "      padding: 0 0 0 0;\n",
              "      width: 32px;\n",
              "    }\n",
              "\n",
              "    .colab-df-convert:hover {\n",
              "      background-color: #E2EBFA;\n",
              "      box-shadow: 0px 1px 2px rgba(60, 64, 67, 0.3), 0px 1px 3px 1px rgba(60, 64, 67, 0.15);\n",
              "      fill: #174EA6;\n",
              "    }\n",
              "\n",
              "    .colab-df-buttons div {\n",
              "      margin-bottom: 4px;\n",
              "    }\n",
              "\n",
              "    [theme=dark] .colab-df-convert {\n",
              "      background-color: #3B4455;\n",
              "      fill: #D2E3FC;\n",
              "    }\n",
              "\n",
              "    [theme=dark] .colab-df-convert:hover {\n",
              "      background-color: #434B5C;\n",
              "      box-shadow: 0px 1px 3px 1px rgba(0, 0, 0, 0.15);\n",
              "      filter: drop-shadow(0px 1px 2px rgba(0, 0, 0, 0.3));\n",
              "      fill: #FFFFFF;\n",
              "    }\n",
              "  </style>\n",
              "\n",
              "    <script>\n",
              "      const buttonEl =\n",
              "        document.querySelector('#df-4bfb2a87-0f5a-4161-a33a-543279590d49 button.colab-df-convert');\n",
              "      buttonEl.style.display =\n",
              "        google.colab.kernel.accessAllowed ? 'block' : 'none';\n",
              "\n",
              "      async function convertToInteractive(key) {\n",
              "        const element = document.querySelector('#df-4bfb2a87-0f5a-4161-a33a-543279590d49');\n",
              "        const dataTable =\n",
              "          await google.colab.kernel.invokeFunction('convertToInteractive',\n",
              "                                                    [key], {});\n",
              "        if (!dataTable) return;\n",
              "\n",
              "        const docLinkHtml = 'Like what you see? Visit the ' +\n",
              "          '<a target=\"_blank\" href=https://colab.research.google.com/notebooks/data_table.ipynb>data table notebook</a>'\n",
              "          + ' to learn more about interactive tables.';\n",
              "        element.innerHTML = '';\n",
              "        dataTable['output_type'] = 'display_data';\n",
              "        await google.colab.output.renderOutput(dataTable, element);\n",
              "        const docLink = document.createElement('div');\n",
              "        docLink.innerHTML = docLinkHtml;\n",
              "        element.appendChild(docLink);\n",
              "      }\n",
              "    </script>\n",
              "  </div>\n",
              "\n",
              "\n",
              "<div id=\"df-bfc42497-20b9-4302-84fe-eb34244d0e4b\">\n",
              "  <button class=\"colab-df-quickchart\" onclick=\"quickchart('df-bfc42497-20b9-4302-84fe-eb34244d0e4b')\"\n",
              "            title=\"Suggest charts\"\n",
              "            style=\"display:none;\">\n",
              "\n",
              "<svg xmlns=\"http://www.w3.org/2000/svg\" height=\"24px\"viewBox=\"0 0 24 24\"\n",
              "     width=\"24px\">\n",
              "    <g>\n",
              "        <path d=\"M19 3H5c-1.1 0-2 .9-2 2v14c0 1.1.9 2 2 2h14c1.1 0 2-.9 2-2V5c0-1.1-.9-2-2-2zM9 17H7v-7h2v7zm4 0h-2V7h2v10zm4 0h-2v-4h2v4z\"/>\n",
              "    </g>\n",
              "</svg>\n",
              "  </button>\n",
              "\n",
              "<style>\n",
              "  .colab-df-quickchart {\n",
              "      --bg-color: #E8F0FE;\n",
              "      --fill-color: #1967D2;\n",
              "      --hover-bg-color: #E2EBFA;\n",
              "      --hover-fill-color: #174EA6;\n",
              "      --disabled-fill-color: #AAA;\n",
              "      --disabled-bg-color: #DDD;\n",
              "  }\n",
              "\n",
              "  [theme=dark] .colab-df-quickchart {\n",
              "      --bg-color: #3B4455;\n",
              "      --fill-color: #D2E3FC;\n",
              "      --hover-bg-color: #434B5C;\n",
              "      --hover-fill-color: #FFFFFF;\n",
              "      --disabled-bg-color: #3B4455;\n",
              "      --disabled-fill-color: #666;\n",
              "  }\n",
              "\n",
              "  .colab-df-quickchart {\n",
              "    background-color: var(--bg-color);\n",
              "    border: none;\n",
              "    border-radius: 50%;\n",
              "    cursor: pointer;\n",
              "    display: none;\n",
              "    fill: var(--fill-color);\n",
              "    height: 32px;\n",
              "    padding: 0;\n",
              "    width: 32px;\n",
              "  }\n",
              "\n",
              "  .colab-df-quickchart:hover {\n",
              "    background-color: var(--hover-bg-color);\n",
              "    box-shadow: 0 1px 2px rgba(60, 64, 67, 0.3), 0 1px 3px 1px rgba(60, 64, 67, 0.15);\n",
              "    fill: var(--button-hover-fill-color);\n",
              "  }\n",
              "\n",
              "  .colab-df-quickchart-complete:disabled,\n",
              "  .colab-df-quickchart-complete:disabled:hover {\n",
              "    background-color: var(--disabled-bg-color);\n",
              "    fill: var(--disabled-fill-color);\n",
              "    box-shadow: none;\n",
              "  }\n",
              "\n",
              "  .colab-df-spinner {\n",
              "    border: 2px solid var(--fill-color);\n",
              "    border-color: transparent;\n",
              "    border-bottom-color: var(--fill-color);\n",
              "    animation:\n",
              "      spin 1s steps(1) infinite;\n",
              "  }\n",
              "\n",
              "  @keyframes spin {\n",
              "    0% {\n",
              "      border-color: transparent;\n",
              "      border-bottom-color: var(--fill-color);\n",
              "      border-left-color: var(--fill-color);\n",
              "    }\n",
              "    20% {\n",
              "      border-color: transparent;\n",
              "      border-left-color: var(--fill-color);\n",
              "      border-top-color: var(--fill-color);\n",
              "    }\n",
              "    30% {\n",
              "      border-color: transparent;\n",
              "      border-left-color: var(--fill-color);\n",
              "      border-top-color: var(--fill-color);\n",
              "      border-right-color: var(--fill-color);\n",
              "    }\n",
              "    40% {\n",
              "      border-color: transparent;\n",
              "      border-right-color: var(--fill-color);\n",
              "      border-top-color: var(--fill-color);\n",
              "    }\n",
              "    60% {\n",
              "      border-color: transparent;\n",
              "      border-right-color: var(--fill-color);\n",
              "    }\n",
              "    80% {\n",
              "      border-color: transparent;\n",
              "      border-right-color: var(--fill-color);\n",
              "      border-bottom-color: var(--fill-color);\n",
              "    }\n",
              "    90% {\n",
              "      border-color: transparent;\n",
              "      border-bottom-color: var(--fill-color);\n",
              "    }\n",
              "  }\n",
              "</style>\n",
              "\n",
              "  <script>\n",
              "    async function quickchart(key) {\n",
              "      const quickchartButtonEl =\n",
              "        document.querySelector('#' + key + ' button');\n",
              "      quickchartButtonEl.disabled = true;  // To prevent multiple clicks.\n",
              "      quickchartButtonEl.classList.add('colab-df-spinner');\n",
              "      try {\n",
              "        const charts = await google.colab.kernel.invokeFunction(\n",
              "            'suggestCharts', [key], {});\n",
              "      } catch (error) {\n",
              "        console.error('Error during call to suggestCharts:', error);\n",
              "      }\n",
              "      quickchartButtonEl.classList.remove('colab-df-spinner');\n",
              "      quickchartButtonEl.classList.add('colab-df-quickchart-complete');\n",
              "    }\n",
              "    (() => {\n",
              "      let quickchartButtonEl =\n",
              "        document.querySelector('#df-bfc42497-20b9-4302-84fe-eb34244d0e4b button');\n",
              "      quickchartButtonEl.style.display =\n",
              "        google.colab.kernel.accessAllowed ? 'block' : 'none';\n",
              "    })();\n",
              "  </script>\n",
              "</div>\n",
              "    </div>\n",
              "  </div>\n"
            ],
            "application/vnd.google.colaboratory.intrinsic+json": {
              "type": "dataframe",
              "summary": "{\n  \"name\": \" 'r2_score'])\",\n  \"rows\": 5,\n  \"fields\": [\n    {\n      \"column\": \"loss\",\n      \"properties\": {\n        \"dtype\": \"number\",\n        \"std\": 1.286692757347539,\n        \"min\": 0.14799249172210693,\n        \"max\": 3.188001871109009,\n        \"samples\": [\n          3.188001871109009,\n          0.18492335081100464,\n          0.14799249172210693\n        ],\n        \"num_unique_values\": 5,\n        \"semantic_type\": \"\",\n        \"description\": \"\"\n      }\n    },\n    {\n      \"column\": \"mse\",\n      \"properties\": {\n        \"dtype\": \"number\",\n        \"std\": 1.286692757347539,\n        \"min\": 0.14799249172210693,\n        \"max\": 3.188001871109009,\n        \"samples\": [\n          3.188001871109009,\n          0.18492335081100464,\n          0.14799249172210693\n        ],\n        \"num_unique_values\": 5,\n        \"semantic_type\": \"\",\n        \"description\": \"\"\n      }\n    },\n    {\n      \"column\": \"mape\",\n      \"properties\": {\n        \"dtype\": \"number\",\n        \"std\": 1.286692757347539,\n        \"min\": 0.14799249172210693,\n        \"max\": 3.188001871109009,\n        \"samples\": [\n          3.188001871109009,\n          0.18492335081100464,\n          0.14799249172210693\n        ],\n        \"num_unique_values\": 5,\n        \"semantic_type\": \"\",\n        \"description\": \"\"\n      }\n    },\n    {\n      \"column\": \"mean_squared_logarithmic_error\",\n      \"properties\": {\n        \"dtype\": \"number\",\n        \"std\": 1.286692757347539,\n        \"min\": 0.14799249172210693,\n        \"max\": 3.188001871109009,\n        \"samples\": [\n          3.188001871109009,\n          0.18492335081100464,\n          0.14799249172210693\n        ],\n        \"num_unique_values\": 5,\n        \"semantic_type\": \"\",\n        \"description\": \"\"\n      }\n    },\n    {\n      \"column\": \"logcosh\",\n      \"properties\": {\n        \"dtype\": \"number\",\n        \"std\": 1.286692757347539,\n        \"min\": 0.14799249172210693,\n        \"max\": 3.188001871109009,\n        \"samples\": [\n          3.188001871109009,\n          0.18492335081100464,\n          0.14799249172210693\n        ],\n        \"num_unique_values\": 5,\n        \"semantic_type\": \"\",\n        \"description\": \"\"\n      }\n    },\n    {\n      \"column\": \"r2_score\",\n      \"properties\": {\n        \"dtype\": \"number\",\n        \"std\": 1.286692757347539,\n        \"min\": 0.14799249172210693,\n        \"max\": 3.188001871109009,\n        \"samples\": [\n          3.188001871109009,\n          0.18492335081100464,\n          0.14799249172210693\n        ],\n        \"num_unique_values\": 5,\n        \"semantic_type\": \"\",\n        \"description\": \"\"\n      }\n    }\n  ]\n}"
            }
          },
          "metadata": {},
          "execution_count": 22
        }
      ],
      "source": [
        "pd.DataFrame(test_results, index=['loss',\n",
        " 'mse',\n",
        " 'mape',\n",
        " 'mean_squared_logarithmic_error',\n",
        " 'logcosh',\n",
        " 'r2_score']).T"
      ]
    },
    {
      "cell_type": "markdown",
      "metadata": {
        "id": "DABIVzsCf-QI"
      },
      "source": [
        "These results match the validation error observed during training."
      ]
    },
    {
      "cell_type": "markdown",
      "metadata": {
        "id": "ft603OzXuEZC"
      },
      "source": [
        "### Make predictions\n",
        "\n",
        "You can now make predictions with the `dnn_model` on the test set using Keras `Model.predict` and review the loss:"
      ]
    },
    {
      "cell_type": "code",
      "execution_count": null,
      "metadata": {
        "colab": {
          "base_uri": "https://localhost:8080/",
          "height": 129
        },
        "id": "Xe7RXH3N3CWU",
        "outputId": "46cef182-28ae-427a-c03f-3a07efc471a0"
      },
      "outputs": [
        {
          "output_type": "stream",
          "name": "stdout",
          "text": [
            "1510/1510 [==============================] - 2s 1ms/step\n"
          ]
        },
        {
          "output_type": "display_data",
          "data": {
            "text/plain": [
              "<Figure size 640x480 with 1 Axes>"
            ],
            "image/png": "[encoded data removed]"
          },
          "metadata": {}
        }
      ],
      "source": [
        "test_predictions = tuned_model.predict(x_test).flatten()\n",
        "\n",
        "a = plt.axes(aspect='equal')\n",
        "plt.scatter(y_test, test_predictions)\n",
        "plt.xlabel('True Values [avg_runs]')\n",
        "plt.ylabel('Predictions [avg_runs]')\n",
        "plt.grid(True)"
      ]
    },
    {
      "cell_type": "code",
      "source": [
        "r = tuned_model.predict(x_test)\n",
        "r"
      ],
      "metadata": {
        "colab": {
          "base_uri": "https://localhost:8080/"
        },
        "id": "NGBMBZCq7gmQ",
        "outputId": "56144364-1459-4619-b94a-a9b33f778933"
      },
      "execution_count": null,
      "outputs": [
        {
          "output_type": "stream",
          "name": "stdout",
          "text": [
            "1510/1510 [==============================] - 3s 2ms/step\n"
          ]
        },
        {
          "output_type": "execute_result",
          "data": {
            "text/plain": [
              "array([[0.016],\n",
              "       [1.   ],\n",
              "       [0.   ],\n",
              "       ...,\n",
              "       [1.   ],\n",
              "       [0.   ],\n",
              "       [0.   ]], dtype=float32)"
            ]
          },
          "metadata": {},
          "execution_count": 24
        }
      ]
    },
    {
      "cell_type": "code",
      "execution_count": null,
      "metadata": {
        "colab": {
          "base_uri": "https://localhost:8080/",
          "height": 450
        },
        "id": "f-OHX4DiXd8x",
        "outputId": "263410fe-4f51-459d-adeb-e98e07b9542b"
      },
      "outputs": [
        {
          "output_type": "display_data",
          "data": {
            "text/plain": [
              "<Figure size 640x480 with 1 Axes>"
            ],
            "image/png": "[encoded data removed]"
          },
          "metadata": {}
        }
      ],
      "source": [
        "error = test_predictions - y_test\n",
        "plt.hist(error, bins=25)\n",
        "plt.xlabel('Prediction Error [avg_runs]')\n",
        "_ = plt.ylabel('Count')"
      ]
    },
    {
      "cell_type": "markdown",
      "metadata": {
        "id": "KSyaHUfDT-mZ"
      },
      "source": [
        "If you're happy with the model, save it for later use with `Model.save`:"
      ]
    },
    {
      "cell_type": "code",
      "execution_count": null,
      "metadata": {
        "id": "4-WwLlmfT-mb"
      },
      "outputs": [],
      "source": [
        "tuned_model.save('dnn_model.keras')"
      ]
    },
    {
      "cell_type": "code",
      "execution_count": null,
      "metadata": {
        "id": "f_GchJ2tg-2o",
        "colab": {
          "base_uri": "https://localhost:8080/",
          "height": 206
        },
        "outputId": "0a865c1c-b992-47ae-a13b-a3143b8f8e25"
      },
      "outputs": [
        {
          "output_type": "execute_result",
          "data": {
            "text/plain": [
              "                                Mean absolute error [avg_runs]\n",
              "loss                                                  0.609666\n",
              "mse                                                   3.188002\n",
              "mean_squared_logarithmic_error                        0.147992\n",
              "logcosh                                               0.423757\n",
              "r2_score                                              0.184923"
            ],
            "text/html": [
              "\n",
              "  <div id=\"df-c0dcd886-e943-4eb9-b421-931410ef8c1c\" class=\"colab-df-container\">\n",
              "    <div>\n",
              "<style scoped>\n",
              "    .dataframe tbody tr th:only-of-type {\n",
              "        vertical-align: middle;\n",
              "    }\n",
              "\n",
              "    .dataframe tbody tr th {\n",
              "        vertical-align: top;\n",
              "    }\n",
              "\n",
              "    .dataframe thead th {\n",
              "        text-align: right;\n",
              "    }\n",
              "</style>\n",
              "<table border=\"1\" class=\"dataframe\">\n",
              "  <thead>\n",
              "    <tr style=\"text-align: right;\">\n",
              "      <th></th>\n",
              "      <th>Mean absolute error [avg_runs]</th>\n",
              "    </tr>\n",
              "  </thead>\n",
              "  <tbody>\n",
              "    <tr>\n",
              "      <th>loss</th>\n",
              "      <td>0.609666</td>\n",
              "    </tr>\n",
              "    <tr>\n",
              "      <th>mse</th>\n",
              "      <td>3.188002</td>\n",
              "    </tr>\n",
              "    <tr>\n",
              "      <th>mean_squared_logarithmic_error</th>\n",
              "      <td>0.147992</td>\n",
              "    </tr>\n",
              "    <tr>\n",
              "      <th>logcosh</th>\n",
              "      <td>0.423757</td>\n",
              "    </tr>\n",
              "    <tr>\n",
              "      <th>r2_score</th>\n",
              "      <td>0.184923</td>\n",
              "    </tr>\n",
              "  </tbody>\n",
              "</table>\n",
              "</div>\n",
              "    <div class=\"colab-df-buttons\">\n",
              "\n",
              "  <div class=\"colab-df-container\">\n",
              "    <button class=\"colab-df-convert\" onclick=\"convertToInteractive('df-c0dcd886-e943-4eb9-b421-931410ef8c1c')\"\n",
              "            title=\"Convert this dataframe to an interactive table.\"\n",
              "            style=\"display:none;\">\n",
              "\n",
              "  <svg xmlns=\"http://www.w3.org/2000/svg\" height=\"24px\" viewBox=\"0 -960 960 960\">\n",
              "    <path d=\"M120-120v-720h720v720H120Zm60-500h600v-160H180v160Zm220 220h160v-160H400v160Zm0 220h160v-160H400v160ZM180-400h160v-160H180v160Zm440 0h160v-160H620v160ZM180-180h160v-160H180v160Zm440 0h160v-160H620v160Z\"/>\n",
              "  </svg>\n",
              "    </button>\n",
              "\n",
              "  <style>\n",
              "    .colab-df-container {\n",
              "      display:flex;\n",
              "      gap: 12px;\n",
              "    }\n",
              "\n",
              "    .colab-df-convert {\n",
              "      background-color: #E8F0FE;\n",
              "      border: none;\n",
              "      border-radius: 50%;\n",
              "      cursor: pointer;\n",
              "      display: none;\n",
              "      fill: #1967D2;\n",
              "      height: 32px;\n",
              "      padding: 0 0 0 0;\n",
              "      width: 32px;\n",
              "    }\n",
              "\n",
              "    .colab-df-convert:hover {\n",
              "      background-color: #E2EBFA;\n",
              "      box-shadow: 0px 1px 2px rgba(60, 64, 67, 0.3), 0px 1px 3px 1px rgba(60, 64, 67, 0.15);\n",
              "      fill: #174EA6;\n",
              "    }\n",
              "\n",
              "    .colab-df-buttons div {\n",
              "      margin-bottom: 4px;\n",
              "    }\n",
              "\n",
              "    [theme=dark] .colab-df-convert {\n",
              "      background-color: #3B4455;\n",
              "      fill: #D2E3FC;\n",
              "    }\n",
              "\n",
              "    [theme=dark] .colab-df-convert:hover {\n",
              "      background-color: #434B5C;\n",
              "      box-shadow: 0px 1px 3px 1px rgba(0, 0, 0, 0.15);\n",
              "      filter: drop-shadow(0px 1px 2px rgba(0, 0, 0, 0.3));\n",
              "      fill: #FFFFFF;\n",
              "    }\n",
              "  </style>\n",
              "\n",
              "    <script>\n",
              "      const buttonEl =\n",
              "        document.querySelector('#df-c0dcd886-e943-4eb9-b421-931410ef8c1c button.colab-df-convert');\n",
              "      buttonEl.style.display =\n",
              "        google.colab.kernel.accessAllowed ? 'block' : 'none';\n",
              "\n",
              "      async function convertToInteractive(key) {\n",
              "        const element = document.querySelector('#df-c0dcd886-e943-4eb9-b421-931410ef8c1c');\n",
              "        const dataTable =\n",
              "          await google.colab.kernel.invokeFunction('convertToInteractive',\n",
              "                                                    [key], {});\n",
              "        if (!dataTable) return;\n",
              "\n",
              "        const docLinkHtml = 'Like what you see? Visit the ' +\n",
              "          '<a target=\"_blank\" href=https://colab.research.google.com/notebooks/data_table.ipynb>data table notebook</a>'\n",
              "          + ' to learn more about interactive tables.';\n",
              "        element.innerHTML = '';\n",
              "        dataTable['output_type'] = 'display_data';\n",
              "        await google.colab.output.renderOutput(dataTable, element);\n",
              "        const docLink = document.createElement('div');\n",
              "        docLink.innerHTML = docLinkHtml;\n",
              "        element.appendChild(docLink);\n",
              "      }\n",
              "    </script>\n",
              "  </div>\n",
              "\n",
              "\n",
              "<div id=\"df-675e7049-5af9-4e0e-8079-745b8987d630\">\n",
              "  <button class=\"colab-df-quickchart\" onclick=\"quickchart('df-675e7049-5af9-4e0e-8079-745b8987d630')\"\n",
              "            title=\"Suggest charts\"\n",
              "            style=\"display:none;\">\n",
              "\n",
              "<svg xmlns=\"http://www.w3.org/2000/svg\" height=\"24px\"viewBox=\"0 0 24 24\"\n",
              "     width=\"24px\">\n",
              "    <g>\n",
              "        <path d=\"M19 3H5c-1.1 0-2 .9-2 2v14c0 1.1.9 2 2 2h14c1.1 0 2-.9 2-2V5c0-1.1-.9-2-2-2zM9 17H7v-7h2v7zm4 0h-2V7h2v10zm4 0h-2v-4h2v4z\"/>\n",
              "    </g>\n",
              "</svg>\n",
              "  </button>\n",
              "\n",
              "<style>\n",
              "  .colab-df-quickchart {\n",
              "      --bg-color: #E8F0FE;\n",
              "      --fill-color: #1967D2;\n",
              "      --hover-bg-color: #E2EBFA;\n",
              "      --hover-fill-color: #174EA6;\n",
              "      --disabled-fill-color: #AAA;\n",
              "      --disabled-bg-color: #DDD;\n",
              "  }\n",
              "\n",
              "  [theme=dark] .colab-df-quickchart {\n",
              "      --bg-color: #3B4455;\n",
              "      --fill-color: #D2E3FC;\n",
              "      --hover-bg-color: #434B5C;\n",
              "      --hover-fill-color: #FFFFFF;\n",
              "      --disabled-bg-color: #3B4455;\n",
              "      --disabled-fill-color: #666;\n",
              "  }\n",
              "\n",
              "  .colab-df-quickchart {\n",
              "    background-color: var(--bg-color);\n",
              "    border: none;\n",
              "    border-radius: 50%;\n",
              "    cursor: pointer;\n",
              "    display: none;\n",
              "    fill: var(--fill-color);\n",
              "    height: 32px;\n",
              "    padding: 0;\n",
              "    width: 32px;\n",
              "  }\n",
              "\n",
              "  .colab-df-quickchart:hover {\n",
              "    background-color: var(--hover-bg-color);\n",
              "    box-shadow: 0 1px 2px rgba(60, 64, 67, 0.3), 0 1px 3px 1px rgba(60, 64, 67, 0.15);\n",
              "    fill: var(--button-hover-fill-color);\n",
              "  }\n",
              "\n",
              "  .colab-df-quickchart-complete:disabled,\n",
              "  .colab-df-quickchart-complete:disabled:hover {\n",
              "    background-color: var(--disabled-bg-color);\n",
              "    fill: var(--disabled-fill-color);\n",
              "    box-shadow: none;\n",
              "  }\n",
              "\n",
              "  .colab-df-spinner {\n",
              "    border: 2px solid var(--fill-color);\n",
              "    border-color: transparent;\n",
              "    border-bottom-color: var(--fill-color);\n",
              "    animation:\n",
              "      spin 1s steps(1) infinite;\n",
              "  }\n",
              "\n",
              "  @keyframes spin {\n",
              "    0% {\n",
              "      border-color: transparent;\n",
              "      border-bottom-color: var(--fill-color);\n",
              "      border-left-color: var(--fill-color);\n",
              "    }\n",
              "    20% {\n",
              "      border-color: transparent;\n",
              "      border-left-color: var(--fill-color);\n",
              "      border-top-color: var(--fill-color);\n",
              "    }\n",
              "    30% {\n",
              "      border-color: transparent;\n",
              "      border-left-color: var(--fill-color);\n",
              "      border-top-color: var(--fill-color);\n",
              "      border-right-color: var(--fill-color);\n",
              "    }\n",
              "    40% {\n",
              "      border-color: transparent;\n",
              "      border-right-color: var(--fill-color);\n",
              "      border-top-color: var(--fill-color);\n",
              "    }\n",
              "    60% {\n",
              "      border-color: transparent;\n",
              "      border-right-color: var(--fill-color);\n",
              "    }\n",
              "    80% {\n",
              "      border-color: transparent;\n",
              "      border-right-color: var(--fill-color);\n",
              "      border-bottom-color: var(--fill-color);\n",
              "    }\n",
              "    90% {\n",
              "      border-color: transparent;\n",
              "      border-bottom-color: var(--fill-color);\n",
              "    }\n",
              "  }\n",
              "</style>\n",
              "\n",
              "  <script>\n",
              "    async function quickchart(key) {\n",
              "      const quickchartButtonEl =\n",
              "        document.querySelector('#' + key + ' button');\n",
              "      quickchartButtonEl.disabled = true;  // To prevent multiple clicks.\n",
              "      quickchartButtonEl.classList.add('colab-df-spinner');\n",
              "      try {\n",
              "        const charts = await google.colab.kernel.invokeFunction(\n",
              "            'suggestCharts', [key], {});\n",
              "      } catch (error) {\n",
              "        console.error('Error during call to suggestCharts:', error);\n",
              "      }\n",
              "      quickchartButtonEl.classList.remove('colab-df-spinner');\n",
              "      quickchartButtonEl.classList.add('colab-df-quickchart-complete');\n",
              "    }\n",
              "    (() => {\n",
              "      let quickchartButtonEl =\n",
              "        document.querySelector('#df-675e7049-5af9-4e0e-8079-745b8987d630 button');\n",
              "      quickchartButtonEl.style.display =\n",
              "        google.colab.kernel.accessAllowed ? 'block' : 'none';\n",
              "    })();\n",
              "  </script>\n",
              "</div>\n",
              "    </div>\n",
              "  </div>\n"
            ],
            "application/vnd.google.colaboratory.intrinsic+json": {
              "type": "dataframe",
              "summary": "{\n  \"name\": \"pd\",\n  \"rows\": 5,\n  \"fields\": [\n    {\n      \"column\": \"Mean absolute error [avg_runs]\",\n      \"properties\": {\n        \"dtype\": \"number\",\n        \"std\": 1.286692757347539,\n        \"min\": 0.14799249172210693,\n        \"max\": 3.188001871109009,\n        \"samples\": [\n          3.188001871109009,\n          0.18492335081100464,\n          0.14799249172210693\n        ],\n        \"num_unique_values\": 5,\n        \"semantic_type\": \"\",\n        \"description\": \"\"\n      }\n    }\n  ]\n}"
            }
          },
          "metadata": {},
          "execution_count": 27
        }
      ],
      "source": [
        "pd.DataFrame(test_results, index=['Mean absolute error [avg_runs]']).T"
      ]
    },
    {
      "cell_type": "markdown",
      "metadata": {
        "id": "vgGQuV-yqYZH"
      },
      "source": [
        "## Conclusion\n",
        "\n",
        "This notebook introduced a few techniques to handle a regression problem. Here are a few more tips that may help:\n",
        "\n",
        "- Mean squared error (MSE) (`tf.keras.losses.MeanSquaredError`) and mean absolute error (MAE) (`tf.keras.losses.MeanAbsoluteError`) are common loss functions used for regression problems. MAE is less sensitive to outliers. Different loss functions are used for classification problems.\n",
        "- Similarly, evaluation metrics used for regression differ from classification.\n",
        "- When numeric input data features have values with different ranges, each feature should be scaled independently to the same range.\n",
        "- Overfitting is a common problem for DNN models, though it wasn't a problem for this tutorial. Visit the [Overfit and underfit](overfit_and_underfit.ipynb) tutorial for more help with this."
      ]
    }
  ],
  "metadata": {
    "colab": {
      "provenance": [],
      "collapsed_sections": [
        "35aGq05-k1nb",
        "XdflSdN9jI5N",
        "o1nPCjw0jPzY"
      ],
      "include_colab_link": true
    },
    "kernelspec": {
      "display_name": "Python 3",
      "name": "python3"
    },
    "widgets": {
      "application/vnd.jupyter.widget-state+json": {
        "1e37b23d8fdb4d28b88aff9c533cb889": {
          "model_module": "@jupyter-widgets/controls",
          "model_name": "HBoxModel",
          "model_module_version": "1.5.0",
          "state": {
            "_dom_classes": [],
            "_model_module": "@jupyter-widgets/controls",
            "_model_module_version": "1.5.0",
            "_model_name": "HBoxModel",
            "_view_count": null,
            "_view_module": "@jupyter-widgets/controls",
            "_view_module_version": "1.5.0",
            "_view_name": "HBoxView",
            "box_style": "",
            "children": [
              "IPY_MODEL_06b7fa81f3dc483ca44c75fe8f0d8de7",
              "IPY_MODEL_e05563eaaa2b429684a6d8c752f830e6",
              "IPY_MODEL_11b5e16a271c428dbc0bb01adb315026"
            ],
            "layout": "IPY_MODEL_78e2c54b19e9465a89aa526f3f843bd5"
          }
        },
        "06b7fa81f3dc483ca44c75fe8f0d8de7": {
          "model_module": "@jupyter-widgets/controls",
          "model_name": "HTMLModel",
          "model_module_version": "1.5.0",
          "state": {
            "_dom_classes": [],
            "_model_module": "@jupyter-widgets/controls",
            "_model_module_version": "1.5.0",
            "_model_name": "HTMLModel",
            "_view_count": null,
            "_view_module": "@jupyter-widgets/controls",
            "_view_module_version": "1.5.0",
            "_view_name": "HTMLView",
            "description": "",
            "description_tooltip": null,
            "layout": "IPY_MODEL_f4bdee54626b401bbc5292520c90867d",
            "placeholder": "​",
            "style": "IPY_MODEL_4a5ddeafad4c46a4a626e350eba30f13",
            "value": "Downloading data: 100%"
          }
        },
        "e05563eaaa2b429684a6d8c752f830e6": {
          "model_module": "@jupyter-widgets/controls",
          "model_name": "FloatProgressModel",
          "model_module_version": "1.5.0",
          "state": {
            "_dom_classes": [],
            "_model_module": "@jupyter-widgets/controls",
            "_model_module_version": "1.5.0",
            "_model_name": "FloatProgressModel",
            "_view_count": null,
            "_view_module": "@jupyter-widgets/controls",
            "_view_module_version": "1.5.0",
            "_view_name": "ProgressView",
            "bar_style": "success",
            "description": "",
            "description_tooltip": null,
            "layout": "IPY_MODEL_ce901c5acd3243a7ac4f524ca6b4c58a",
            "max": 27140609,
            "min": 0,
            "orientation": "horizontal",
            "style": "IPY_MODEL_c1be9594e1674f1ab8e6b46ed72535fa",
            "value": 27140609
          }
        },
        "11b5e16a271c428dbc0bb01adb315026": {
          "model_module": "@jupyter-widgets/controls",
          "model_name": "HTMLModel",
          "model_module_version": "1.5.0",
          "state": {
            "_dom_classes": [],
            "_model_module": "@jupyter-widgets/controls",
            "_model_module_version": "1.5.0",
            "_model_name": "HTMLModel",
            "_view_count": null,
            "_view_module": "@jupyter-widgets/controls",
            "_view_module_version": "1.5.0",
            "_view_name": "HTMLView",
            "description": "",
            "description_tooltip": null,
            "layout": "IPY_MODEL_1218b6da192b42cb9987a08b9834077d",
            "placeholder": "​",
            "style": "IPY_MODEL_ddaa3bf4343e496eafcdd798a875a71f",
            "value": " 27.1M/27.1M [00:01&lt;00:00, 26.8MB/s]"
          }
        },
        "78e2c54b19e9465a89aa526f3f843bd5": {
          "model_module": "@jupyter-widgets/base",
          "model_name": "LayoutModel",
          "model_module_version": "1.2.0",
          "state": {
            "_model_module": "@jupyter-widgets/base",
            "_model_module_version": "1.2.0",
            "_model_name": "LayoutModel",
            "_view_count": null,
            "_view_module": "@jupyter-widgets/base",
            "_view_module_version": "1.2.0",
            "_view_name": "LayoutView",
            "align_content": null,
            "align_items": null,
            "align_self": null,
            "border": null,
            "bottom": null,
            "display": null,
            "flex": null,
            "flex_flow": null,
            "grid_area": null,
            "grid_auto_columns": null,
            "grid_auto_flow": null,
            "grid_auto_rows": null,
            "grid_column": null,
            "grid_gap": null,
            "grid_row": null,
            "grid_template_areas": null,
            "grid_template_columns": null,
            "grid_template_rows": null,
            "height": null,
            "justify_content": null,
            "justify_items": null,
            "left": null,
            "margin": null,
            "max_height": null,
            "max_width": null,
            "min_height": null,
            "min_width": null,
            "object_fit": null,
            "object_position": null,
            "order": null,
            "overflow": null,
            "overflow_x": null,
            "overflow_y": null,
            "padding": null,
            "right": null,
            "top": null,
            "visibility": null,
            "width": null
          }
        },
        "f4bdee54626b401bbc5292520c90867d": {
          "model_module": "@jupyter-widgets/base",
          "model_name": "LayoutModel",
          "model_module_version": "1.2.0",
          "state": {
            "_model_module": "@jupyter-widgets/base",
            "_model_module_version": "1.2.0",
            "_model_name": "LayoutModel",
            "_view_count": null,
            "_view_module": "@jupyter-widgets/base",
            "_view_module_version": "1.2.0",
            "_view_name": "LayoutView",
            "align_content": null,
            "align_items": null,
            "align_self": null,
            "border": null,
            "bottom": null,
            "display": null,
            "flex": null,
            "flex_flow": null,
            "grid_area": null,
            "grid_auto_columns": null,
            "grid_auto_flow": null,
            "grid_auto_rows": null,
            "grid_column": null,
            "grid_gap": null,
            "grid_row": null,
            "grid_template_areas": null,
            "grid_template_columns": null,
            "grid_template_rows": null,
            "height": null,
            "justify_content": null,
            "justify_items": null,
            "left": null,
            "margin": null,
            "max_height": null,
            "max_width": null,
            "min_height": null,
            "min_width": null,
            "object_fit": null,
            "object_position": null,
            "order": null,
            "overflow": null,
            "overflow_x": null,
            "overflow_y": null,
            "padding": null,
            "right": null,
            "top": null,
            "visibility": null,
            "width": null
          }
        },
        "4a5ddeafad4c46a4a626e350eba30f13": {
          "model_module": "@jupyter-widgets/controls",
          "model_name": "DescriptionStyleModel",
          "model_module_version": "1.5.0",
          "state": {
            "_model_module": "@jupyter-widgets/controls",
            "_model_module_version": "1.5.0",
            "_model_name": "DescriptionStyleModel",
            "_view_count": null,
            "_view_module": "@jupyter-widgets/base",
            "_view_module_version": "1.2.0",
            "_view_name": "StyleView",
            "description_width": ""
          }
        },
        "ce901c5acd3243a7ac4f524ca6b4c58a": {
          "model_module": "@jupyter-widgets/base",
          "model_name": "LayoutModel",
          "model_module_version": "1.2.0",
          "state": {
            "_model_module": "@jupyter-widgets/base",
            "_model_module_version": "1.2.0",
            "_model_name": "LayoutModel",
            "_view_count": null,
            "_view_module": "@jupyter-widgets/base",
            "_view_module_version": "1.2.0",
            "_view_name": "LayoutView",
            "align_content": null,
            "align_items": null,
            "align_self": null,
            "border": null,
            "bottom": null,
            "display": null,
            "flex": null,
            "flex_flow": null,
            "grid_area": null,
            "grid_auto_columns": null,
            "grid_auto_flow": null,
            "grid_auto_rows": null,
            "grid_column": null,
            "grid_gap": null,
            "grid_row": null,
            "grid_template_areas": null,
            "grid_template_columns": null,
            "grid_template_rows": null,
            "height": null,
            "justify_content": null,
            "justify_items": null,
            "left": null,
            "margin": null,
            "max_height": null,
            "max_width": null,
            "min_height": null,
            "min_width": null,
            "object_fit": null,
            "object_position": null,
            "order": null,
            "overflow": null,
            "overflow_x": null,
            "overflow_y": null,
            "padding": null,
            "right": null,
            "top": null,
            "visibility": null,
            "width": null
          }
        },
        "c1be9594e1674f1ab8e6b46ed72535fa": {
          "model_module": "@jupyter-widgets/controls",
          "model_name": "ProgressStyleModel",
          "model_module_version": "1.5.0",
          "state": {
            "_model_module": "@jupyter-widgets/controls",
            "_model_module_version": "1.5.0",
            "_model_name": "ProgressStyleModel",
            "_view_count": null,
            "_view_module": "@jupyter-widgets/base",
            "_view_module_version": "1.2.0",
            "_view_name": "StyleView",
            "bar_color": null,
            "description_width": ""
          }
        },
        "1218b6da192b42cb9987a08b9834077d": {
          "model_module": "@jupyter-widgets/base",
          "model_name": "LayoutModel",
          "model_module_version": "1.2.0",
          "state": {
            "_model_module": "@jupyter-widgets/base",
            "_model_module_version": "1.2.0",
            "_model_name": "LayoutModel",
            "_view_count": null,
            "_view_module": "@jupyter-widgets/base",
            "_view_module_version": "1.2.0",
            "_view_name": "LayoutView",
            "align_content": null,
            "align_items": null,
            "align_self": null,
            "border": null,
            "bottom": null,
            "display": null,
            "flex": null,
            "flex_flow": null,
            "grid_area": null,
            "grid_auto_columns": null,
            "grid_auto_flow": null,
            "grid_auto_rows": null,
            "grid_column": null,
            "grid_gap": null,
            "grid_row": null,
            "grid_template_areas": null,
            "grid_template_columns": null,
            "grid_template_rows": null,
            "height": null,
            "justify_content": null,
            "justify_items": null,
            "left": null,
            "margin": null,
            "max_height": null,
            "max_width": null,
            "min_height": null,
            "min_width": null,
            "object_fit": null,
            "object_position": null,
            "order": null,
            "overflow": null,
            "overflow_x": null,
            "overflow_y": null,
            "padding": null,
            "right": null,
            "top": null,
            "visibility": null,
            "width": null
          }
        },
        "ddaa3bf4343e496eafcdd798a875a71f": {
          "model_module": "@jupyter-widgets/controls",
          "model_name": "DescriptionStyleModel",
          "model_module_version": "1.5.0",
          "state": {
            "_model_module": "@jupyter-widgets/controls",
            "_model_module_version": "1.5.0",
            "_model_name": "DescriptionStyleModel",
            "_view_count": null,
            "_view_module": "@jupyter-widgets/base",
            "_view_module_version": "1.2.0",
            "_view_name": "StyleView",
            "description_width": ""
          }
        },
        "b0eafd0b41db4243bb738789141e304e": {
          "model_module": "@jupyter-widgets/controls",
          "model_name": "HBoxModel",
          "model_module_version": "1.5.0",
          "state": {
            "_dom_classes": [],
            "_model_module": "@jupyter-widgets/controls",
            "_model_module_version": "1.5.0",
            "_model_name": "HBoxModel",
            "_view_count": null,
            "_view_module": "@jupyter-widgets/controls",
            "_view_module_version": "1.5.0",
            "_view_name": "HBoxView",
            "box_style": "",
            "children": [
              "IPY_MODEL_3453bd2037524277985e5f576006068d",
              "IPY_MODEL_d30cb96e48f94b639edf3411701912d8",
              "IPY_MODEL_a0abc762669c42e5b9ee56a8864872b0"
            ],
            "layout": "IPY_MODEL_e364efc7745d42d6a5689114f38976cf"
          }
        },
        "3453bd2037524277985e5f576006068d": {
          "model_module": "@jupyter-widgets/controls",
          "model_name": "HTMLModel",
          "model_module_version": "1.5.0",
          "state": {
            "_dom_classes": [],
            "_model_module": "@jupyter-widgets/controls",
            "_model_module_version": "1.5.0",
            "_model_name": "HTMLModel",
            "_view_count": null,
            "_view_module": "@jupyter-widgets/controls",
            "_view_module_version": "1.5.0",
            "_view_name": "HTMLView",
            "description": "",
            "description_tooltip": null,
            "layout": "IPY_MODEL_cb8bb63ab9b94ef0bdebcd41201a6c17",
            "placeholder": "​",
            "style": "IPY_MODEL_aeca3a954ebe410fb33f310680e0d3dc",
            "value": "Downloading data: 100%"
          }
        },
        "d30cb96e48f94b639edf3411701912d8": {
          "model_module": "@jupyter-widgets/controls",
          "model_name": "FloatProgressModel",
          "model_module_version": "1.5.0",
          "state": {
            "_dom_classes": [],
            "_model_module": "@jupyter-widgets/controls",
            "_model_module_version": "1.5.0",
            "_model_name": "FloatProgressModel",
            "_view_count": null,
            "_view_module": "@jupyter-widgets/controls",
            "_view_module_version": "1.5.0",
            "_view_name": "ProgressView",
            "bar_style": "success",
            "description": "",
            "description_tooltip": null,
            "layout": "IPY_MODEL_58b0bb7348984c5693a0d438919f8963",
            "max": 6752195,
            "min": 0,
            "orientation": "horizontal",
            "style": "IPY_MODEL_052ffd135da44579a132abf0f7ea1f16",
            "value": 6752195
          }
        },
        "a0abc762669c42e5b9ee56a8864872b0": {
          "model_module": "@jupyter-widgets/controls",
          "model_name": "HTMLModel",
          "model_module_version": "1.5.0",
          "state": {
            "_dom_classes": [],
            "_model_module": "@jupyter-widgets/controls",
            "_model_module_version": "1.5.0",
            "_model_name": "HTMLModel",
            "_view_count": null,
            "_view_module": "@jupyter-widgets/controls",
            "_view_module_version": "1.5.0",
            "_view_name": "HTMLView",
            "description": "",
            "description_tooltip": null,
            "layout": "IPY_MODEL_6c3935bc85134f3d95a69ee3b0fe5646",
            "placeholder": "​",
            "style": "IPY_MODEL_0e7bd6ed488c4bf99cf3c39bce4f47ea",
            "value": " 6.75M/6.75M [00:00&lt;00:00, 7.87MB/s]"
          }
        },
        "e364efc7745d42d6a5689114f38976cf": {
          "model_module": "@jupyter-widgets/base",
          "model_name": "LayoutModel",
          "model_module_version": "1.2.0",
          "state": {
            "_model_module": "@jupyter-widgets/base",
            "_model_module_version": "1.2.0",
            "_model_name": "LayoutModel",
            "_view_count": null,
            "_view_module": "@jupyter-widgets/base",
            "_view_module_version": "1.2.0",
            "_view_name": "LayoutView",
            "align_content": null,
            "align_items": null,
            "align_self": null,
            "border": null,
            "bottom": null,
            "display": null,
            "flex": null,
            "flex_flow": null,
            "grid_area": null,
            "grid_auto_columns": null,
            "grid_auto_flow": null,
            "grid_auto_rows": null,
            "grid_column": null,
            "grid_gap": null,
            "grid_row": null,
            "grid_template_areas": null,
            "grid_template_columns": null,
            "grid_template_rows": null,
            "height": null,
            "justify_content": null,
            "justify_items": null,
            "left": null,
            "margin": null,
            "max_height": null,
            "max_width": null,
            "min_height": null,
            "min_width": null,
            "object_fit": null,
            "object_position": null,
            "order": null,
            "overflow": null,
            "overflow_x": null,
            "overflow_y": null,
            "padding": null,
            "right": null,
            "top": null,
            "visibility": null,
            "width": null
          }
        },
        "cb8bb63ab9b94ef0bdebcd41201a6c17": {
          "model_module": "@jupyter-widgets/base",
          "model_name": "LayoutModel",
          "model_module_version": "1.2.0",
          "state": {
            "_model_module": "@jupyter-widgets/base",
            "_model_module_version": "1.2.0",
            "_model_name": "LayoutModel",
            "_view_count": null,
            "_view_module": "@jupyter-widgets/base",
            "_view_module_version": "1.2.0",
            "_view_name": "LayoutView",
            "align_content": null,
            "align_items": null,
            "align_self": null,
            "border": null,
            "bottom": null,
            "display": null,
            "flex": null,
            "flex_flow": null,
            "grid_area": null,
            "grid_auto_columns": null,
            "grid_auto_flow": null,
            "grid_auto_rows": null,
            "grid_column": null,
            "grid_gap": null,
            "grid_row": null,
            "grid_template_areas": null,
            "grid_template_columns": null,
            "grid_template_rows": null,
            "height": null,
            "justify_content": null,
            "justify_items": null,
            "left": null,
            "margin": null,
            "max_height": null,
            "max_width": null,
            "min_height": null,
            "min_width": null,
            "object_fit": null,
            "object_position": null,
            "order": null,
            "overflow": null,
            "overflow_x": null,
            "overflow_y": null,
            "padding": null,
            "right": null,
            "top": null,
            "visibility": null,
            "width": null
          }
        },
        "aeca3a954ebe410fb33f310680e0d3dc": {
          "model_module": "@jupyter-widgets/controls",
          "model_name": "DescriptionStyleModel",
          "model_module_version": "1.5.0",
          "state": {
            "_model_module": "@jupyter-widgets/controls",
            "_model_module_version": "1.5.0",
            "_model_name": "DescriptionStyleModel",
            "_view_count": null,
            "_view_module": "@jupyter-widgets/base",
            "_view_module_version": "1.2.0",
            "_view_name": "StyleView",
            "description_width": ""
          }
        },
        "58b0bb7348984c5693a0d438919f8963": {
          "model_module": "@jupyter-widgets/base",
          "model_name": "LayoutModel",
          "model_module_version": "1.2.0",
          "state": {
            "_model_module": "@jupyter-widgets/base",
            "_model_module_version": "1.2.0",
            "_model_name": "LayoutModel",
            "_view_count": null,
            "_view_module": "@jupyter-widgets/base",
            "_view_module_version": "1.2.0",
            "_view_name": "LayoutView",
            "align_content": null,
            "align_items": null,
            "align_self": null,
            "border": null,
            "bottom": null,
            "display": null,
            "flex": null,
            "flex_flow": null,
            "grid_area": null,
            "grid_auto_columns": null,
            "grid_auto_flow": null,
            "grid_auto_rows": null,
            "grid_column": null,
            "grid_gap": null,
            "grid_row": null,
            "grid_template_areas": null,
            "grid_template_columns": null,
            "grid_template_rows": null,
            "height": null,
            "justify_content": null,
            "justify_items": null,
            "left": null,
            "margin": null,
            "max_height": null,
            "max_width": null,
            "min_height": null,
            "min_width": null,
            "object_fit": null,
            "object_position": null,
            "order": null,
            "overflow": null,
            "overflow_x": null,
            "overflow_y": null,
            "padding": null,
            "right": null,
            "top": null,
            "visibility": null,
            "width": null
          }
        },
        "052ffd135da44579a132abf0f7ea1f16": {
          "model_module": "@jupyter-widgets/controls",
          "model_name": "ProgressStyleModel",
          "model_module_version": "1.5.0",
          "state": {
            "_model_module": "@jupyter-widgets/controls",
            "_model_module_version": "1.5.0",
            "_model_name": "ProgressStyleModel",
            "_view_count": null,
            "_view_module": "@jupyter-widgets/base",
            "_view_module_version": "1.2.0",
            "_view_name": "StyleView",
            "bar_color": null,
            "description_width": ""
          }
        },
        "6c3935bc85134f3d95a69ee3b0fe5646": {
          "model_module": "@jupyter-widgets/base",
          "model_name": "LayoutModel",
          "model_module_version": "1.2.0",
          "state": {
            "_model_module": "@jupyter-widgets/base",
            "_model_module_version": "1.2.0",
            "_model_name": "LayoutModel",
            "_view_count": null,
            "_view_module": "@jupyter-widgets/base",
            "_view_module_version": "1.2.0",
            "_view_name": "LayoutView",
            "align_content": null,
            "align_items": null,
            "align_self": null,
            "border": null,
            "bottom": null,
            "display": null,
            "flex": null,
            "flex_flow": null,
            "grid_area": null,
            "grid_auto_columns": null,
            "grid_auto_flow": null,
            "grid_auto_rows": null,
            "grid_column": null,
            "grid_gap": null,
            "grid_row": null,
            "grid_template_areas": null,
            "grid_template_columns": null,
            "grid_template_rows": null,
            "height": null,
            "justify_content": null,
            "justify_items": null,
            "left": null,
            "margin": null,
            "max_height": null,
            "max_width": null,
            "min_height": null,
            "min_width": null,
            "object_fit": null,
            "object_position": null,
            "order": null,
            "overflow": null,
            "overflow_x": null,
            "overflow_y": null,
            "padding": null,
            "right": null,
            "top": null,
            "visibility": null,
            "width": null
          }
        },
        "0e7bd6ed488c4bf99cf3c39bce4f47ea": {
          "model_module": "@jupyter-widgets/controls",
          "model_name": "DescriptionStyleModel",
          "model_module_version": "1.5.0",
          "state": {
            "_model_module": "@jupyter-widgets/controls",
            "_model_module_version": "1.5.0",
            "_model_name": "DescriptionStyleModel",
            "_view_count": null,
            "_view_module": "@jupyter-widgets/base",
            "_view_module_version": "1.2.0",
            "_view_name": "StyleView",
            "description_width": ""
          }
        },
        "b29de20b91124f42835808d9af7e53bd": {
          "model_module": "@jupyter-widgets/controls",
          "model_name": "HBoxModel",
          "model_module_version": "1.5.0",
          "state": {
            "_dom_classes": [],
            "_model_module": "@jupyter-widgets/controls",
            "_model_module_version": "1.5.0",
            "_model_name": "HBoxModel",
            "_view_count": null,
            "_view_module": "@jupyter-widgets/controls",
            "_view_module_version": "1.5.0",
            "_view_name": "HBoxView",
            "box_style": "",
            "children": [
              "IPY_MODEL_b25d27a7fe9f4388955e82bbec934039",
              "IPY_MODEL_e7c306a8645d43e4886644ada95ca443",
              "IPY_MODEL_1fefef6f3c784d5f8fe4c20810d993dc"
            ],
            "layout": "IPY_MODEL_76cebfd519be495ba8d171e06c8173c2"
          }
        },
        "b25d27a7fe9f4388955e82bbec934039": {
          "model_module": "@jupyter-widgets/controls",
          "model_name": "HTMLModel",
          "model_module_version": "1.5.0",
          "state": {
            "_dom_classes": [],
            "_model_module": "@jupyter-widgets/controls",
            "_model_module_version": "1.5.0",
            "_model_name": "HTMLModel",
            "_view_count": null,
            "_view_module": "@jupyter-widgets/controls",
            "_view_module_version": "1.5.0",
            "_view_name": "HTMLView",
            "description": "",
            "description_tooltip": null,
            "layout": "IPY_MODEL_466e5f2527fc4b5182f97379b1e0d6d8",
            "placeholder": "​",
            "style": "IPY_MODEL_2e974fe074b0465e9268b21668055b19",
            "value": "Generating train split: 100%"
          }
        },
        "e7c306a8645d43e4886644ada95ca443": {
          "model_module": "@jupyter-widgets/controls",
          "model_name": "FloatProgressModel",
          "model_module_version": "1.5.0",
          "state": {
            "_dom_classes": [],
            "_model_module": "@jupyter-widgets/controls",
            "_model_module_version": "1.5.0",
            "_model_name": "FloatProgressModel",
            "_view_count": null,
            "_view_module": "@jupyter-widgets/controls",
            "_view_module_version": "1.5.0",
            "_view_name": "ProgressView",
            "bar_style": "success",
            "description": "",
            "description_tooltip": null,
            "layout": "IPY_MODEL_e34a28d105da4179bd127557bd4d06da",
            "max": 193280,
            "min": 0,
            "orientation": "horizontal",
            "style": "IPY_MODEL_bf5b813dda5546689f5a963f80a90463",
            "value": 193280
          }
        },
        "1fefef6f3c784d5f8fe4c20810d993dc": {
          "model_module": "@jupyter-widgets/controls",
          "model_name": "HTMLModel",
          "model_module_version": "1.5.0",
          "state": {
            "_dom_classes": [],
            "_model_module": "@jupyter-widgets/controls",
            "_model_module_version": "1.5.0",
            "_model_name": "HTMLModel",
            "_view_count": null,
            "_view_module": "@jupyter-widgets/controls",
            "_view_module_version": "1.5.0",
            "_view_name": "HTMLView",
            "description": "",
            "description_tooltip": null,
            "layout": "IPY_MODEL_294c7ee1065d44639e6597875734ef18",
            "placeholder": "​",
            "style": "IPY_MODEL_7dfa7e4b66cf4ecfbd746b931bbe5ac2",
            "value": " 193280/193280 [00:01&lt;00:00, 157847.85 examples/s]"
          }
        },
        "76cebfd519be495ba8d171e06c8173c2": {
          "model_module": "@jupyter-widgets/base",
          "model_name": "LayoutModel",
          "model_module_version": "1.2.0",
          "state": {
            "_model_module": "@jupyter-widgets/base",
            "_model_module_version": "1.2.0",
            "_model_name": "LayoutModel",
            "_view_count": null,
            "_view_module": "@jupyter-widgets/base",
            "_view_module_version": "1.2.0",
            "_view_name": "LayoutView",
            "align_content": null,
            "align_items": null,
            "align_self": null,
            "border": null,
            "bottom": null,
            "display": null,
            "flex": null,
            "flex_flow": null,
            "grid_area": null,
            "grid_auto_columns": null,
            "grid_auto_flow": null,
            "grid_auto_rows": null,
            "grid_column": null,
            "grid_gap": null,
            "grid_row": null,
            "grid_template_areas": null,
            "grid_template_columns": null,
            "grid_template_rows": null,
            "height": null,
            "justify_content": null,
            "justify_items": null,
            "left": null,
            "margin": null,
            "max_height": null,
            "max_width": null,
            "min_height": null,
            "min_width": null,
            "object_fit": null,
            "object_position": null,
            "order": null,
            "overflow": null,
            "overflow_x": null,
            "overflow_y": null,
            "padding": null,
            "right": null,
            "top": null,
            "visibility": null,
            "width": null
          }
        },
        "466e5f2527fc4b5182f97379b1e0d6d8": {
          "model_module": "@jupyter-widgets/base",
          "model_name": "LayoutModel",
          "model_module_version": "1.2.0",
          "state": {
            "_model_module": "@jupyter-widgets/base",
            "_model_module_version": "1.2.0",
            "_model_name": "LayoutModel",
            "_view_count": null,
            "_view_module": "@jupyter-widgets/base",
            "_view_module_version": "1.2.0",
            "_view_name": "LayoutView",
            "align_content": null,
            "align_items": null,
            "align_self": null,
            "border": null,
            "bottom": null,
            "display": null,
            "flex": null,
            "flex_flow": null,
            "grid_area": null,
            "grid_auto_columns": null,
            "grid_auto_flow": null,
            "grid_auto_rows": null,
            "grid_column": null,
            "grid_gap": null,
            "grid_row": null,
            "grid_template_areas": null,
            "grid_template_columns": null,
            "grid_template_rows": null,
            "height": null,
            "justify_content": null,
            "justify_items": null,
            "left": null,
            "margin": null,
            "max_height": null,
            "max_width": null,
            "min_height": null,
            "min_width": null,
            "object_fit": null,
            "object_position": null,
            "order": null,
            "overflow": null,
            "overflow_x": null,
            "overflow_y": null,
            "padding": null,
            "right": null,
            "top": null,
            "visibility": null,
            "width": null
          }
        },
        "2e974fe074b0465e9268b21668055b19": {
          "model_module": "@jupyter-widgets/controls",
          "model_name": "DescriptionStyleModel",
          "model_module_version": "1.5.0",
          "state": {
            "_model_module": "@jupyter-widgets/controls",
            "_model_module_version": "1.5.0",
            "_model_name": "DescriptionStyleModel",
            "_view_count": null,
            "_view_module": "@jupyter-widgets/base",
            "_view_module_version": "1.2.0",
            "_view_name": "StyleView",
            "description_width": ""
          }
        },
        "e34a28d105da4179bd127557bd4d06da": {
          "model_module": "@jupyter-widgets/base",
          "model_name": "LayoutModel",
          "model_module_version": "1.2.0",
          "state": {
            "_model_module": "@jupyter-widgets/base",
            "_model_module_version": "1.2.0",
            "_model_name": "LayoutModel",
            "_view_count": null,
            "_view_module": "@jupyter-widgets/base",
            "_view_module_version": "1.2.0",
            "_view_name": "LayoutView",
            "align_content": null,
            "align_items": null,
            "align_self": null,
            "border": null,
            "bottom": null,
            "display": null,
            "flex": null,
            "flex_flow": null,
            "grid_area": null,
            "grid_auto_columns": null,
            "grid_auto_flow": null,
            "grid_auto_rows": null,
            "grid_column": null,
            "grid_gap": null,
            "grid_row": null,
            "grid_template_areas": null,
            "grid_template_columns": null,
            "grid_template_rows": null,
            "height": null,
            "justify_content": null,
            "justify_items": null,
            "left": null,
            "margin": null,
            "max_height": null,
            "max_width": null,
            "min_height": null,
            "min_width": null,
            "object_fit": null,
            "object_position": null,
            "order": null,
            "overflow": null,
            "overflow_x": null,
            "overflow_y": null,
            "padding": null,
            "right": null,
            "top": null,
            "visibility": null,
            "width": null
          }
        },
        "bf5b813dda5546689f5a963f80a90463": {
          "model_module": "@jupyter-widgets/controls",
          "model_name": "ProgressStyleModel",
          "model_module_version": "1.5.0",
          "state": {
            "_model_module": "@jupyter-widgets/controls",
            "_model_module_version": "1.5.0",
            "_model_name": "ProgressStyleModel",
            "_view_count": null,
            "_view_module": "@jupyter-widgets/base",
            "_view_module_version": "1.2.0",
            "_view_name": "StyleView",
            "bar_color": null,
            "description_width": ""
          }
        },
        "294c7ee1065d44639e6597875734ef18": {
          "model_module": "@jupyter-widgets/base",
          "model_name": "LayoutModel",
          "model_module_version": "1.2.0",
          "state": {
            "_model_module": "@jupyter-widgets/base",
            "_model_module_version": "1.2.0",
            "_model_name": "LayoutModel",
            "_view_count": null,
            "_view_module": "@jupyter-widgets/base",
            "_view_module_version": "1.2.0",
            "_view_name": "LayoutView",
            "align_content": null,
            "align_items": null,
            "align_self": null,
            "border": null,
            "bottom": null,
            "display": null,
            "flex": null,
            "flex_flow": null,
            "grid_area": null,
            "grid_auto_columns": null,
            "grid_auto_flow": null,
            "grid_auto_rows": null,
            "grid_column": null,
            "grid_gap": null,
            "grid_row": null,
            "grid_template_areas": null,
            "grid_template_columns": null,
            "grid_template_rows": null,
            "height": null,
            "justify_content": null,
            "justify_items": null,
            "left": null,
            "margin": null,
            "max_height": null,
            "max_width": null,
            "min_height": null,
            "min_width": null,
            "object_fit": null,
            "object_position": null,
            "order": null,
            "overflow": null,
            "overflow_x": null,
            "overflow_y": null,
            "padding": null,
            "right": null,
            "top": null,
            "visibility": null,
            "width": null
          }
        },
        "7dfa7e4b66cf4ecfbd746b931bbe5ac2": {
          "model_module": "@jupyter-widgets/controls",
          "model_name": "DescriptionStyleModel",
          "model_module_version": "1.5.0",
          "state": {
            "_model_module": "@jupyter-widgets/controls",
            "_model_module_version": "1.5.0",
            "_model_name": "DescriptionStyleModel",
            "_view_count": null,
            "_view_module": "@jupyter-widgets/base",
            "_view_module_version": "1.2.0",
            "_view_name": "StyleView",
            "description_width": ""
          }
        },
        "3c7ff0301feb4ef38ceb824dfc878450": {
          "model_module": "@jupyter-widgets/controls",
          "model_name": "HBoxModel",
          "model_module_version": "1.5.0",
          "state": {
            "_dom_classes": [],
            "_model_module": "@jupyter-widgets/controls",
            "_model_module_version": "1.5.0",
            "_model_name": "HBoxModel",
            "_view_count": null,
            "_view_module": "@jupyter-widgets/controls",
            "_view_module_version": "1.5.0",
            "_view_name": "HBoxView",
            "box_style": "",
            "children": [
              "IPY_MODEL_e62273bc32fa4373ada26200f82ed15f",
              "IPY_MODEL_a9df63cc00e74a0e86c52ef2a78ca6fa",
              "IPY_MODEL_7d557d0148ce43f082519f0bc2d0b420"
            ],
            "layout": "IPY_MODEL_6410a6c5cac64afb825e00a67b25e2fb"
          }
        },
        "e62273bc32fa4373ada26200f82ed15f": {
          "model_module": "@jupyter-widgets/controls",
          "model_name": "HTMLModel",
          "model_module_version": "1.5.0",
          "state": {
            "_dom_classes": [],
            "_model_module": "@jupyter-widgets/controls",
            "_model_module_version": "1.5.0",
            "_model_name": "HTMLModel",
            "_view_count": null,
            "_view_module": "@jupyter-widgets/controls",
            "_view_module_version": "1.5.0",
            "_view_name": "HTMLView",
            "description": "",
            "description_tooltip": null,
            "layout": "IPY_MODEL_d1cc6f92b24d463aab62580b4d9f901c",
            "placeholder": "​",
            "style": "IPY_MODEL_1f656e1fa2af44308c5caea7bdaa672e",
            "value": "Generating test split: 100%"
          }
        },
        "a9df63cc00e74a0e86c52ef2a78ca6fa": {
          "model_module": "@jupyter-widgets/controls",
          "model_name": "FloatProgressModel",
          "model_module_version": "1.5.0",
          "state": {
            "_dom_classes": [],
            "_model_module": "@jupyter-widgets/controls",
            "_model_module_version": "1.5.0",
            "_model_name": "FloatProgressModel",
            "_view_count": null,
            "_view_module": "@jupyter-widgets/controls",
            "_view_module_version": "1.5.0",
            "_view_name": "ProgressView",
            "bar_style": "success",
            "description": "",
            "description_tooltip": null,
            "layout": "IPY_MODEL_83521df89d0046189b9bd524c41685fa",
            "max": 48320,
            "min": 0,
            "orientation": "horizontal",
            "style": "IPY_MODEL_e12286e90f8e4d938065ead9056da195",
            "value": 48320
          }
        },
        "7d557d0148ce43f082519f0bc2d0b420": {
          "model_module": "@jupyter-widgets/controls",
          "model_name": "HTMLModel",
          "model_module_version": "1.5.0",
          "state": {
            "_dom_classes": [],
            "_model_module": "@jupyter-widgets/controls",
            "_model_module_version": "1.5.0",
            "_model_name": "HTMLModel",
            "_view_count": null,
            "_view_module": "@jupyter-widgets/controls",
            "_view_module_version": "1.5.0",
            "_view_name": "HTMLView",
            "description": "",
            "description_tooltip": null,
            "layout": "IPY_MODEL_f54cf0dca4c14fa1aa4b25be38804651",
            "placeholder": "​",
            "style": "IPY_MODEL_338a08a73cf14faba93660c8d321eb55",
            "value": " 48320/48320 [00:00&lt;00:00, 143678.82 examples/s]"
          }
        },
        "6410a6c5cac64afb825e00a67b25e2fb": {
          "model_module": "@jupyter-widgets/base",
          "model_name": "LayoutModel",
          "model_module_version": "1.2.0",
          "state": {
            "_model_module": "@jupyter-widgets/base",
            "_model_module_version": "1.2.0",
            "_model_name": "LayoutModel",
            "_view_count": null,
            "_view_module": "@jupyter-widgets/base",
            "_view_module_version": "1.2.0",
            "_view_name": "LayoutView",
            "align_content": null,
            "align_items": null,
            "align_self": null,
            "border": null,
            "bottom": null,
            "display": null,
            "flex": null,
            "flex_flow": null,
            "grid_area": null,
            "grid_auto_columns": null,
            "grid_auto_flow": null,
            "grid_auto_rows": null,
            "grid_column": null,
            "grid_gap": null,
            "grid_row": null,
            "grid_template_areas": null,
            "grid_template_columns": null,
            "grid_template_rows": null,
            "height": null,
            "justify_content": null,
            "justify_items": null,
            "left": null,
            "margin": null,
            "max_height": null,
            "max_width": null,
            "min_height": null,
            "min_width": null,
            "object_fit": null,
            "object_position": null,
            "order": null,
            "overflow": null,
            "overflow_x": null,
            "overflow_y": null,
            "padding": null,
            "right": null,
            "top": null,
            "visibility": null,
            "width": null
          }
        },
        "d1cc6f92b24d463aab62580b4d9f901c": {
          "model_module": "@jupyter-widgets/base",
          "model_name": "LayoutModel",
          "model_module_version": "1.2.0",
          "state": {
            "_model_module": "@jupyter-widgets/base",
            "_model_module_version": "1.2.0",
            "_model_name": "LayoutModel",
            "_view_count": null,
            "_view_module": "@jupyter-widgets/base",
            "_view_module_version": "1.2.0",
            "_view_name": "LayoutView",
            "align_content": null,
            "align_items": null,
            "align_self": null,
            "border": null,
            "bottom": null,
            "display": null,
            "flex": null,
            "flex_flow": null,
            "grid_area": null,
            "grid_auto_columns": null,
            "grid_auto_flow": null,
            "grid_auto_rows": null,
            "grid_column": null,
            "grid_gap": null,
            "grid_row": null,
            "grid_template_areas": null,
            "grid_template_columns": null,
            "grid_template_rows": null,
            "height": null,
            "justify_content": null,
            "justify_items": null,
            "left": null,
            "margin": null,
            "max_height": null,
            "max_width": null,
            "min_height": null,
            "min_width": null,
            "object_fit": null,
            "object_position": null,
            "order": null,
            "overflow": null,
            "overflow_x": null,
            "overflow_y": null,
            "padding": null,
            "right": null,
            "top": null,
            "visibility": null,
            "width": null
          }
        },
        "1f656e1fa2af44308c5caea7bdaa672e": {
          "model_module": "@jupyter-widgets/controls",
          "model_name": "DescriptionStyleModel",
          "model_module_version": "1.5.0",
          "state": {
            "_model_module": "@jupyter-widgets/controls",
            "_model_module_version": "1.5.0",
            "_model_name": "DescriptionStyleModel",
            "_view_count": null,
            "_view_module": "@jupyter-widgets/base",
            "_view_module_version": "1.2.0",
            "_view_name": "StyleView",
            "description_width": ""
          }
        },
        "83521df89d0046189b9bd524c41685fa": {
          "model_module": "@jupyter-widgets/base",
          "model_name": "LayoutModel",
          "model_module_version": "1.2.0",
          "state": {
            "_model_module": "@jupyter-widgets/base",
            "_model_module_version": "1.2.0",
            "_model_name": "LayoutModel",
            "_view_count": null,
            "_view_module": "@jupyter-widgets/base",
            "_view_module_version": "1.2.0",
            "_view_name": "LayoutView",
            "align_content": null,
            "align_items": null,
            "align_self": null,
            "border": null,
            "bottom": null,
            "display": null,
            "flex": null,
            "flex_flow": null,
            "grid_area": null,
            "grid_auto_columns": null,
            "grid_auto_flow": null,
            "grid_auto_rows": null,
            "grid_column": null,
            "grid_gap": null,
            "grid_row": null,
            "grid_template_areas": null,
            "grid_template_columns": null,
            "grid_template_rows": null,
            "height": null,
            "justify_content": null,
            "justify_items": null,
            "left": null,
            "margin": null,
            "max_height": null,
            "max_width": null,
            "min_height": null,
            "min_width": null,
            "object_fit": null,
            "object_position": null,
            "order": null,
            "overflow": null,
            "overflow_x": null,
            "overflow_y": null,
            "padding": null,
            "right": null,
            "top": null,
            "visibility": null,
            "width": null
          }
        },
        "e12286e90f8e4d938065ead9056da195": {
          "model_module": "@jupyter-widgets/controls",
          "model_name": "ProgressStyleModel",
          "model_module_version": "1.5.0",
          "state": {
            "_model_module": "@jupyter-widgets/controls",
            "_model_module_version": "1.5.0",
            "_model_name": "ProgressStyleModel",
            "_view_count": null,
            "_view_module": "@jupyter-widgets/base",
            "_view_module_version": "1.2.0",
            "_view_name": "StyleView",
            "bar_color": null,
            "description_width": ""
          }
        },
        "f54cf0dca4c14fa1aa4b25be38804651": {
          "model_module": "@jupyter-widgets/base",
          "model_name": "LayoutModel",
          "model_module_version": "1.2.0",
          "state": {
            "_model_module": "@jupyter-widgets/base",
            "_model_module_version": "1.2.0",
            "_model_name": "LayoutModel",
            "_view_count": null,
            "_view_module": "@jupyter-widgets/base",
            "_view_module_version": "1.2.0",
            "_view_name": "LayoutView",
            "align_content": null,
            "align_items": null,
            "align_self": null,
            "border": null,
            "bottom": null,
            "display": null,
            "flex": null,
            "flex_flow": null,
            "grid_area": null,
            "grid_auto_columns": null,
            "grid_auto_flow": null,
            "grid_auto_rows": null,
            "grid_column": null,
            "grid_gap": null,
            "grid_row": null,
            "grid_template_areas": null,
            "grid_template_columns": null,
            "grid_template_rows": null,
            "height": null,
            "justify_content": null,
            "justify_items": null,
            "left": null,
            "margin": null,
            "max_height": null,
            "max_width": null,
            "min_height": null,
            "min_width": null,
            "object_fit": null,
            "object_position": null,
            "order": null,
            "overflow": null,
            "overflow_x": null,
            "overflow_y": null,
            "padding": null,
            "right": null,
            "top": null,
            "visibility": null,
            "width": null
          }
        },
        "338a08a73cf14faba93660c8d321eb55": {
          "model_module": "@jupyter-widgets/controls",
          "model_name": "DescriptionStyleModel",
          "model_module_version": "1.5.0",
          "state": {
            "_model_module": "@jupyter-widgets/controls",
            "_model_module_version": "1.5.0",
            "_model_name": "DescriptionStyleModel",
            "_view_count": null,
            "_view_module": "@jupyter-widgets/base",
            "_view_module_version": "1.2.0",
            "_view_name": "StyleView",
            "description_width": ""
          }
        }
      }
    }
  },
  "nbformat": 4,
  "nbformat_minor": 0
}