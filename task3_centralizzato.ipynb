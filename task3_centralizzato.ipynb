{
  "nbformat": 4,
  "nbformat_minor": 0,
  "metadata": {
    "colab": {
      "provenance": [],
      "gpuType": "T4",
      "mount_file_id": "1CD5Mx2QO76gXexswNlKAC_Lf5Bmw-Xzs",
      "authorship_tag": "ABX9TyNj7j8r0A5SCsmAjSo8e792",
      "include_colab_link": true
    },
    "kernelspec": {
      "name": "python3",
      "display_name": "Python 3"
    },
    "language_info": {
      "name": "python"
    },
    "accelerator": "GPU"
  },
  "cells": [
    {
      "cell_type": "markdown",
      "metadata": {
        "id": "view-in-github",
        "colab_type": "text"
      },
      "source": [
        "<a href=\"https://colab.research.google.com/github/AnastasiaBrinati/Progetto-ML-23-24/blob/main/task3_centralizzato.ipynb\" target=\"_parent\"><img src=\"https://colab.research.google.com/assets/colab-badge.svg\" alt=\"Open In Colab\"/></a>"
      ]
    },
    {
      "cell_type": "markdown",
      "source": [
        "# Import libraries\n"
      ],
      "metadata": {
        "id": "puH08ZQT5vVy"
      }
    },
    {
      "cell_type": "code",
      "source": [
        "import pandas as pd\n",
        "from sklearn.model_selection import train_test_split\n",
        "from sklearn.preprocessing import LabelEncoder, StandardScaler, OneHotEncoder\n",
        "from sklearn.impute import SimpleImputer\n",
        "from sklearn.compose import ColumnTransformer\n",
        "from sklearn.pipeline import Pipeline\n",
        "from sklearn.metrics import accuracy_score\n",
        "import tensorflow as tf\n",
        "from tensorflow.keras.models import Sequential\n",
        "from tensorflow.keras.layers import Dense, Dropout\n",
        "from tensorflow.keras.layers import LeakyReLU, PReLU\n",
        "import numpy as np\n",
        "from keras.initializers import RandomNormal, he_normal, glorot_normal, he_uniform, glorot_uniform\n",
        "import matplotlib.pyplot as plt\n",
        "from imblearn.over_sampling import SMOTE\n",
        "from imblearn.under_sampling import RandomUnderSampler\n",
        "from tensorflow.keras.optimizers import Adam\n",
        "from sklearn.model_selection import train_test_split\n",
        "from sklearn.preprocessing import StandardScaler, OneHotEncoder, LabelEncoder\n",
        "from sklearn.impute import SimpleImputer\n",
        "from sklearn.compose import ColumnTransformer\n",
        "from sklearn.pipeline import Pipeline\n",
        "from imblearn.over_sampling import RandomOverSampler\n",
        "from imblearn.under_sampling import RandomUnderSampler\n",
        "from imblearn.over_sampling import SMOTE\n",
        "import seaborn as sns\n",
        "import matplotlib.pyplot as plt\n",
        "import pandas as pd\n",
        "!pip install -q -U keras-tuner\n",
        "import keras_tuner as kt\n",
        "from tensorflow.keras.callbacks import EarlyStopping\n",
        "from tensorflow.keras.layers import Dense, PReLU\n",
        "from tensorflow.keras.models import Sequential\n",
        "from tensorflow.keras.optimizers import Adam\n",
        "from tensorflow.keras.initializers import he_normal, glorot_normal"
      ],
      "metadata": {
        "colab": {
          "base_uri": "https://localhost:8080/"
        },
        "id": "i-eeU4qJ6LPk",
        "outputId": "75625cee-2c4c-41db-e9dd-e1fd872bc7cb"
      },
      "execution_count": null,
      "outputs": [
        {
          "output_type": "stream",
          "name": "stdout",
          "text": [
            "\u001b[?25l     \u001b[90m━━━━━━━━━━━━━━━━━━━━━━━━━━━━━━━━━━━━━━━━\u001b[0m \u001b[32m0.0/128.9 kB\u001b[0m \u001b[31m?\u001b[0m eta \u001b[36m-:--:--\u001b[0m\r\u001b[2K     \u001b[90m━━━━━━━━━━━━━━━━━━━━━━━━━━━━━━━━━━━━━━━━\u001b[0m \u001b[32m128.9/128.9 kB\u001b[0m \u001b[31m4.4 MB/s\u001b[0m eta \u001b[36m0:00:00\u001b[0m\n",
            "\u001b[?25h"
          ]
        }
      ]
    },
    {
      "cell_type": "markdown",
      "source": [
        "# Dataset loading and preprocessing"
      ],
      "metadata": {
        "id": "vHfkgasX50rI"
      }
    },
    {
      "cell_type": "markdown",
      "source": [],
      "metadata": {
        "id": "tEdFYFLUAZX8"
      }
    },
    {
      "cell_type": "code",
      "source": [
        "df = pd.read_csv('/content/drive/MyDrive/ML/Projects datasets/emnist-letters (1).csv')\n",
        "X = df.iloc[:,1:].to_numpy().reshape(-1, 28, 28, order=\"F\")\n",
        "y = df.iloc[:,0].to_numpy()-1"
      ],
      "metadata": {
        "id": "n9i2jnSV6N0u"
      },
      "execution_count": null,
      "outputs": []
    },
    {
      "cell_type": "code",
      "source": [
        "# Divide in training and test set\n",
        "X_train, X_test, y_train, y_test = train_test_split(X, y, test_size=0.2, random_state=42)\n",
        "\n",
        "# Normalization\n",
        "X_train, X_test = X_train/255, X_test/255\n",
        "\n",
        "# Aggiungi una dimensione ai dati di input per includere il canale di colore\n",
        "X_train_expanded = np.expand_dims(X_train, axis=-1)\n",
        "X_test_expanded = np.expand_dims(X_test, axis=-1)"
      ],
      "metadata": {
        "id": "0RMzcKQLAEzo"
      },
      "execution_count": null,
      "outputs": []
    },
    {
      "cell_type": "code",
      "source": [
        "# Converti i dati in DataFrame\n",
        "X_train_expanded_df = pd.DataFrame(X_train_expanded.reshape(X_train_expanded.shape[0], -1))\n",
        "X_test_expanded_df = pd.DataFrame(X_test_expanded.reshape(X_test_expanded.shape[0], -1))\n",
        "\n",
        "# Salva i DataFrame come file CSV\n",
        "X_train_expanded_df.to_csv('X_train_expanded.csv', index=False)\n",
        "X_test_expanded_df.to_csv('X_test_expanded.csv', index=False)"
      ],
      "metadata": {
        "id": "E-EKs6ccRiXJ"
      },
      "execution_count": null,
      "outputs": []
    },
    {
      "cell_type": "code",
      "source": [
        "# Salva i DataFrame come file CSV\n",
        "X_train_expanded_df.to_csv('X_train_expanded.csv', index=False)\n",
        "X_test_expanded_df.to_csv('X_test_expanded.csv', index=False)"
      ],
      "metadata": {
        "colab": {
          "base_uri": "https://localhost:8080/",
          "height": 235
        },
        "id": "DzWfEVpFR-VV",
        "outputId": "e4cb1656-d145-47c1-a3bd-e518039c16e7"
      },
      "execution_count": null,
      "outputs": [
        {
          "output_type": "error",
          "ename": "KeyboardInterrupt",
          "evalue": "",
          "traceback": [
            "\u001b[0;31m---------------------------------------------------------------------------\u001b[0m",
            "\u001b[0;31mKeyboardInterrupt\u001b[0m                         Traceback (most recent call last)",
            "\u001b[0;32m<ipython-input-15-9c60abf5a115>\u001b[0m in \u001b[0;36m<cell line: 3>\u001b[0;34m()\u001b[0m\n\u001b[1;32m      1\u001b[0m \u001b[0;31m# Salva i DataFrame come file CSV\u001b[0m\u001b[0;34m\u001b[0m\u001b[0;34m\u001b[0m\u001b[0m\n\u001b[1;32m      2\u001b[0m \u001b[0mX_train_expanded_df\u001b[0m\u001b[0;34m.\u001b[0m\u001b[0mto_csv\u001b[0m\u001b[0;34m(\u001b[0m\u001b[0;34m'X_train_expanded.csv'\u001b[0m\u001b[0;34m,\u001b[0m \u001b[0mindex\u001b[0m\u001b[0;34m=\u001b[0m\u001b[0;32mFalse\u001b[0m\u001b[0;34m)\u001b[0m\u001b[0;34m\u001b[0m\u001b[0;34m\u001b[0m\u001b[0m\n\u001b[0;32m----> 3\u001b[0;31m \u001b[0mX_test_expanded_df\u001b[0m\u001b[0;34m.\u001b[0m\u001b[0mto_csv\u001b[0m\u001b[0;34m(\u001b[0m\u001b[0;34m'X_test_expanded.csv'\u001b[0m\u001b[0;34m,\u001b[0m \u001b[0mindex\u001b[0m\u001b[0;34m=\u001b[0m\u001b[0;32mFalse\u001b[0m\u001b[0;34m)\u001b[0m\u001b[0;34m\u001b[0m\u001b[0;34m\u001b[0m\u001b[0m\n\u001b[0m",
            "\u001b[0;32m/usr/local/lib/python3.10/dist-packages/pandas/util/_decorators.py\u001b[0m in \u001b[0;36mwrapper\u001b[0;34m(*args, **kwargs)\u001b[0m\n\u001b[1;32m    209\u001b[0m                 \u001b[0;32melse\u001b[0m\u001b[0;34m:\u001b[0m\u001b[0;34m\u001b[0m\u001b[0;34m\u001b[0m\u001b[0m\n\u001b[1;32m    210\u001b[0m                     \u001b[0mkwargs\u001b[0m\u001b[0;34m[\u001b[0m\u001b[0mnew_arg_name\u001b[0m\u001b[0;34m]\u001b[0m \u001b[0;34m=\u001b[0m \u001b[0mnew_arg_value\u001b[0m\u001b[0;34m\u001b[0m\u001b[0;34m\u001b[0m\u001b[0m\n\u001b[0;32m--> 211\u001b[0;31m             \u001b[0;32mreturn\u001b[0m \u001b[0mfunc\u001b[0m\u001b[0;34m(\u001b[0m\u001b[0;34m*\u001b[0m\u001b[0margs\u001b[0m\u001b[0;34m,\u001b[0m \u001b[0;34m**\u001b[0m\u001b[0mkwargs\u001b[0m\u001b[0;34m)\u001b[0m\u001b[0;34m\u001b[0m\u001b[0;34m\u001b[0m\u001b[0m\n\u001b[0m\u001b[1;32m    212\u001b[0m \u001b[0;34m\u001b[0m\u001b[0m\n\u001b[1;32m    213\u001b[0m         \u001b[0;32mreturn\u001b[0m \u001b[0mcast\u001b[0m\u001b[0;34m(\u001b[0m\u001b[0mF\u001b[0m\u001b[0;34m,\u001b[0m \u001b[0mwrapper\u001b[0m\u001b[0;34m)\u001b[0m\u001b[0;34m\u001b[0m\u001b[0;34m\u001b[0m\u001b[0m\n",
            "\u001b[0;32m/usr/local/lib/python3.10/dist-packages/pandas/core/generic.py\u001b[0m in \u001b[0;36mto_csv\u001b[0;34m(self, path_or_buf, sep, na_rep, float_format, columns, header, index, index_label, mode, encoding, compression, quoting, quotechar, lineterminator, chunksize, date_format, doublequote, escapechar, decimal, errors, storage_options)\u001b[0m\n\u001b[1;32m   3718\u001b[0m         )\n\u001b[1;32m   3719\u001b[0m \u001b[0;34m\u001b[0m\u001b[0m\n\u001b[0;32m-> 3720\u001b[0;31m         return DataFrameRenderer(formatter).to_csv(\n\u001b[0m\u001b[1;32m   3721\u001b[0m             \u001b[0mpath_or_buf\u001b[0m\u001b[0;34m,\u001b[0m\u001b[0;34m\u001b[0m\u001b[0;34m\u001b[0m\u001b[0m\n\u001b[1;32m   3722\u001b[0m             \u001b[0mlineterminator\u001b[0m\u001b[0;34m=\u001b[0m\u001b[0mlineterminator\u001b[0m\u001b[0;34m,\u001b[0m\u001b[0;34m\u001b[0m\u001b[0;34m\u001b[0m\u001b[0m\n",
            "\u001b[0;32m/usr/local/lib/python3.10/dist-packages/pandas/util/_decorators.py\u001b[0m in \u001b[0;36mwrapper\u001b[0;34m(*args, **kwargs)\u001b[0m\n\u001b[1;32m    209\u001b[0m                 \u001b[0;32melse\u001b[0m\u001b[0;34m:\u001b[0m\u001b[0;34m\u001b[0m\u001b[0;34m\u001b[0m\u001b[0m\n\u001b[1;32m    210\u001b[0m                     \u001b[0mkwargs\u001b[0m\u001b[0;34m[\u001b[0m\u001b[0mnew_arg_name\u001b[0m\u001b[0;34m]\u001b[0m \u001b[0;34m=\u001b[0m \u001b[0mnew_arg_value\u001b[0m\u001b[0;34m\u001b[0m\u001b[0;34m\u001b[0m\u001b[0m\n\u001b[0;32m--> 211\u001b[0;31m             \u001b[0;32mreturn\u001b[0m \u001b[0mfunc\u001b[0m\u001b[0;34m(\u001b[0m\u001b[0;34m*\u001b[0m\u001b[0margs\u001b[0m\u001b[0;34m,\u001b[0m \u001b[0;34m**\u001b[0m\u001b[0mkwargs\u001b[0m\u001b[0;34m)\u001b[0m\u001b[0;34m\u001b[0m\u001b[0;34m\u001b[0m\u001b[0m\n\u001b[0m\u001b[1;32m    212\u001b[0m \u001b[0;34m\u001b[0m\u001b[0m\n\u001b[1;32m    213\u001b[0m         \u001b[0;32mreturn\u001b[0m \u001b[0mcast\u001b[0m\u001b[0;34m(\u001b[0m\u001b[0mF\u001b[0m\u001b[0;34m,\u001b[0m \u001b[0mwrapper\u001b[0m\u001b[0;34m)\u001b[0m\u001b[0;34m\u001b[0m\u001b[0;34m\u001b[0m\u001b[0m\n",
            "\u001b[0;32m/usr/local/lib/python3.10/dist-packages/pandas/io/formats/format.py\u001b[0m in \u001b[0;36mto_csv\u001b[0;34m(self, path_or_buf, encoding, sep, columns, index_label, mode, compression, quoting, quotechar, lineterminator, chunksize, date_format, doublequote, escapechar, errors, storage_options)\u001b[0m\n\u001b[1;32m   1187\u001b[0m             \u001b[0mformatter\u001b[0m\u001b[0;34m=\u001b[0m\u001b[0mself\u001b[0m\u001b[0;34m.\u001b[0m\u001b[0mfmt\u001b[0m\u001b[0;34m,\u001b[0m\u001b[0;34m\u001b[0m\u001b[0;34m\u001b[0m\u001b[0m\n\u001b[1;32m   1188\u001b[0m         )\n\u001b[0;32m-> 1189\u001b[0;31m         \u001b[0mcsv_formatter\u001b[0m\u001b[0;34m.\u001b[0m\u001b[0msave\u001b[0m\u001b[0;34m(\u001b[0m\u001b[0;34m)\u001b[0m\u001b[0;34m\u001b[0m\u001b[0;34m\u001b[0m\u001b[0m\n\u001b[0m\u001b[1;32m   1190\u001b[0m \u001b[0;34m\u001b[0m\u001b[0m\n\u001b[1;32m   1191\u001b[0m         \u001b[0;32mif\u001b[0m \u001b[0mcreated_buffer\u001b[0m\u001b[0;34m:\u001b[0m\u001b[0;34m\u001b[0m\u001b[0;34m\u001b[0m\u001b[0m\n",
            "\u001b[0;32m/usr/local/lib/python3.10/dist-packages/pandas/io/formats/csvs.py\u001b[0m in \u001b[0;36msave\u001b[0;34m(self)\u001b[0m\n\u001b[1;32m    259\u001b[0m             )\n\u001b[1;32m    260\u001b[0m \u001b[0;34m\u001b[0m\u001b[0m\n\u001b[0;32m--> 261\u001b[0;31m             \u001b[0mself\u001b[0m\u001b[0;34m.\u001b[0m\u001b[0m_save\u001b[0m\u001b[0;34m(\u001b[0m\u001b[0;34m)\u001b[0m\u001b[0;34m\u001b[0m\u001b[0;34m\u001b[0m\u001b[0m\n\u001b[0m\u001b[1;32m    262\u001b[0m \u001b[0;34m\u001b[0m\u001b[0m\n\u001b[1;32m    263\u001b[0m     \u001b[0;32mdef\u001b[0m \u001b[0m_save\u001b[0m\u001b[0;34m(\u001b[0m\u001b[0mself\u001b[0m\u001b[0;34m)\u001b[0m \u001b[0;34m->\u001b[0m \u001b[0;32mNone\u001b[0m\u001b[0;34m:\u001b[0m\u001b[0;34m\u001b[0m\u001b[0;34m\u001b[0m\u001b[0m\n",
            "\u001b[0;32m/usr/local/lib/python3.10/dist-packages/pandas/io/formats/csvs.py\u001b[0m in \u001b[0;36m_save\u001b[0;34m(self)\u001b[0m\n\u001b[1;32m    264\u001b[0m         \u001b[0;32mif\u001b[0m \u001b[0mself\u001b[0m\u001b[0;34m.\u001b[0m\u001b[0m_need_to_save_header\u001b[0m\u001b[0;34m:\u001b[0m\u001b[0;34m\u001b[0m\u001b[0;34m\u001b[0m\u001b[0m\n\u001b[1;32m    265\u001b[0m             \u001b[0mself\u001b[0m\u001b[0;34m.\u001b[0m\u001b[0m_save_header\u001b[0m\u001b[0;34m(\u001b[0m\u001b[0;34m)\u001b[0m\u001b[0;34m\u001b[0m\u001b[0;34m\u001b[0m\u001b[0m\n\u001b[0;32m--> 266\u001b[0;31m         \u001b[0mself\u001b[0m\u001b[0;34m.\u001b[0m\u001b[0m_save_body\u001b[0m\u001b[0;34m(\u001b[0m\u001b[0;34m)\u001b[0m\u001b[0;34m\u001b[0m\u001b[0;34m\u001b[0m\u001b[0m\n\u001b[0m\u001b[1;32m    267\u001b[0m \u001b[0;34m\u001b[0m\u001b[0m\n\u001b[1;32m    268\u001b[0m     \u001b[0;32mdef\u001b[0m \u001b[0m_save_header\u001b[0m\u001b[0;34m(\u001b[0m\u001b[0mself\u001b[0m\u001b[0;34m)\u001b[0m \u001b[0;34m->\u001b[0m \u001b[0;32mNone\u001b[0m\u001b[0;34m:\u001b[0m\u001b[0;34m\u001b[0m\u001b[0;34m\u001b[0m\u001b[0m\n",
            "\u001b[0;32m/usr/local/lib/python3.10/dist-packages/pandas/io/formats/csvs.py\u001b[0m in \u001b[0;36m_save_body\u001b[0;34m(self)\u001b[0m\n\u001b[1;32m    302\u001b[0m             \u001b[0;32mif\u001b[0m \u001b[0mstart_i\u001b[0m \u001b[0;34m>=\u001b[0m \u001b[0mend_i\u001b[0m\u001b[0;34m:\u001b[0m\u001b[0;34m\u001b[0m\u001b[0;34m\u001b[0m\u001b[0m\n\u001b[1;32m    303\u001b[0m                 \u001b[0;32mbreak\u001b[0m\u001b[0;34m\u001b[0m\u001b[0;34m\u001b[0m\u001b[0m\n\u001b[0;32m--> 304\u001b[0;31m             \u001b[0mself\u001b[0m\u001b[0;34m.\u001b[0m\u001b[0m_save_chunk\u001b[0m\u001b[0;34m(\u001b[0m\u001b[0mstart_i\u001b[0m\u001b[0;34m,\u001b[0m \u001b[0mend_i\u001b[0m\u001b[0;34m)\u001b[0m\u001b[0;34m\u001b[0m\u001b[0;34m\u001b[0m\u001b[0m\n\u001b[0m\u001b[1;32m    305\u001b[0m \u001b[0;34m\u001b[0m\u001b[0m\n\u001b[1;32m    306\u001b[0m     \u001b[0;32mdef\u001b[0m \u001b[0m_save_chunk\u001b[0m\u001b[0;34m(\u001b[0m\u001b[0mself\u001b[0m\u001b[0;34m,\u001b[0m \u001b[0mstart_i\u001b[0m\u001b[0;34m:\u001b[0m \u001b[0mint\u001b[0m\u001b[0;34m,\u001b[0m \u001b[0mend_i\u001b[0m\u001b[0;34m:\u001b[0m \u001b[0mint\u001b[0m\u001b[0;34m)\u001b[0m \u001b[0;34m->\u001b[0m \u001b[0;32mNone\u001b[0m\u001b[0;34m:\u001b[0m\u001b[0;34m\u001b[0m\u001b[0;34m\u001b[0m\u001b[0m\n",
            "\u001b[0;32m/usr/local/lib/python3.10/dist-packages/pandas/io/formats/csvs.py\u001b[0m in \u001b[0;36m_save_chunk\u001b[0;34m(self, start_i, end_i)\u001b[0m\n\u001b[1;32m    313\u001b[0m \u001b[0;34m\u001b[0m\u001b[0m\n\u001b[1;32m    314\u001b[0m         \u001b[0mix\u001b[0m \u001b[0;34m=\u001b[0m \u001b[0mself\u001b[0m\u001b[0;34m.\u001b[0m\u001b[0mdata_index\u001b[0m\u001b[0;34m[\u001b[0m\u001b[0mslicer\u001b[0m\u001b[0;34m]\u001b[0m\u001b[0;34m.\u001b[0m\u001b[0m_format_native_types\u001b[0m\u001b[0;34m(\u001b[0m\u001b[0;34m**\u001b[0m\u001b[0mself\u001b[0m\u001b[0;34m.\u001b[0m\u001b[0m_number_format\u001b[0m\u001b[0;34m)\u001b[0m\u001b[0;34m\u001b[0m\u001b[0;34m\u001b[0m\u001b[0m\n\u001b[0;32m--> 315\u001b[0;31m         libwriters.write_csv_rows(\n\u001b[0m\u001b[1;32m    316\u001b[0m             \u001b[0mdata\u001b[0m\u001b[0;34m,\u001b[0m\u001b[0;34m\u001b[0m\u001b[0;34m\u001b[0m\u001b[0m\n\u001b[1;32m    317\u001b[0m             \u001b[0mix\u001b[0m\u001b[0;34m,\u001b[0m\u001b[0;34m\u001b[0m\u001b[0;34m\u001b[0m\u001b[0m\n",
            "\u001b[0;32m/usr/local/lib/python3.10/dist-packages/pandas/_libs/writers.pyx\u001b[0m in \u001b[0;36mpandas._libs.writers.write_csv_rows\u001b[0;34m()\u001b[0m\n",
            "\u001b[0;31mKeyboardInterrupt\u001b[0m: "
          ]
        }
      ]
    },
    {
      "cell_type": "markdown",
      "source": [
        "# Hyperparameters tuning"
      ],
      "metadata": {
        "id": "L44bf4Di5374"
      }
    },
    {
      "cell_type": "code",
      "source": [
        "from tensorflow.keras.layers import Conv2D, MaxPooling2D, Flatten, AveragePooling2D\n",
        "from tensorflow.keras.optimizers import Adam\n",
        "from tensorflow.keras.callbacks import EarlyStopping\n",
        "import kerastuner as kt\n",
        "\n",
        "def model_builder(hp):\n",
        "    model = Sequential()\n",
        "\n",
        "    # Tune the number of convolutional layers\n",
        "    for i in range(hp.Int('num_conv_layers', 1, 3)):\n",
        "        hp_filters = hp.Int(f'filters_{i}', min_value=16, max_value=128, step=16)\n",
        "        hp_kernel_size = hp.Choice(f'kernel_size_{i}', values=[3, 5])\n",
        "        hp_pooling = hp.Choice(f'pooling_{i}', values=['max', 'avg'])\n",
        "\n",
        "        model.add(Conv2D(filters=hp_filters, kernel_size=hp_kernel_size, activation='relu', padding='same'))\n",
        "\n",
        "        if hp_pooling == 'max':\n",
        "            model.add(MaxPooling2D(pool_size=(2, 2)))\n",
        "        else:\n",
        "            model.add(AveragePooling2D(pool_size=(2, 2)))\n",
        "\n",
        "    model.add(Flatten())\n",
        "\n",
        "    # Tune the number of units and activation function for each Dense layer\n",
        "    for i in range(hp.Int('num_dense_layers', 1, 3)):\n",
        "        hp_units = hp.Int(f'units_{i}', min_value=16, max_value=128, step=16)\n",
        "        hp_activation = hp.Choice(f'activation_{i}', values=['PReLU','LeakyReLU','relu', 'tanh', 'sigmoid'])\n",
        "\n",
        "        model.add(Dense(units=hp_units, activation=hp_activation))\n",
        "\n",
        "    # Output layer\n",
        "    num_classes = 26  # Numero di classi per il dataset EMNIST Letters\n",
        "    model.add(Dense(num_classes, activation='softmax'))\n",
        "\n",
        "    # Tune the learning rate for the optimizer\n",
        "    hp_learning_rate = hp.Choice('learning_rate', values=[1e-2, 1e-3, 1e-4])\n",
        "\n",
        "    model.compile(optimizer=Adam(learning_rate=hp_learning_rate),\n",
        "                  loss='sparse_categorical_crossentropy',\n",
        "                  metrics=['accuracy'])\n",
        "\n",
        "    return model\n",
        "\n",
        "tuner = kt.Hyperband(model_builder,\n",
        "                     objective='val_accuracy',\n",
        "                     max_epochs=10,\n",
        "                     factor=3,\n",
        "                     directory='my_dir',\n",
        "                     project_name='multi_layer_tuning')\n",
        "\n",
        "stop_early = EarlyStopping(monitor='val_loss', patience=5)\n",
        "\n",
        "tuner.search(X_train_expanded, y_train, epochs=50, validation_split=0.2, callbacks=[stop_early])\n",
        "\n",
        "# Get the optimal hyperparameters\n",
        "best_hps = tuner.get_best_hyperparameters(num_trials=1)[0]\n",
        "\n",
        "# Build the model with the optimal hyperparameters and train it on the data for 50 epochs\n",
        "model = tuner.hypermodel.build(best_hps)\n",
        "history = model.fit(X_train_expanded, y_train, epochs=30, validation_split=0.2)\n",
        "\n",
        "val_acc_per_epoch = history.history['val_accuracy']\n",
        "best_epoch = val_acc_per_epoch.index(max(val_acc_per_epoch)) + 1\n",
        "print('Best epoch:', best_epoch)\n",
        "\n",
        "# Retrain the model\n",
        "hypermodel = tuner.hypermodel.build(best_hps)\n",
        "hypermodel.fit(X_train_expanded, y_train, epochs=best_epoch, validation_split=0.2)\n",
        "\n",
        "# Evaluate the model on the test set\n",
        "eval_result = hypermodel.evaluate(X_test_expanded, y_test)\n",
        "print(\"Test loss:\", eval_result[0])\n",
        "print(\"Test accuracy:\", eval_result[1])\n"
      ],
      "metadata": {
        "colab": {
          "base_uri": "https://localhost:8080/"
        },
        "id": "nvcOsFD76Oj6",
        "outputId": "6b157185-b563-4afd-eb4e-829dea3013fa"
      },
      "execution_count": null,
      "outputs": [
        {
          "output_type": "stream",
          "name": "stdout",
          "text": [
            "Reloading Tuner from my_dir/multi_layer_tuning/tuner0.json\n",
            "Epoch 1/30\n",
            "1776/1776 [==============================] - 13s 6ms/step - loss: 0.6330 - accuracy: 0.8025 - val_loss: 0.3238 - val_accuracy: 0.8896\n",
            "Epoch 2/30\n",
            "1776/1776 [==============================] - 11s 6ms/step - loss: 0.2588 - accuracy: 0.9121 - val_loss: 0.2515 - val_accuracy: 0.9176\n",
            "Epoch 3/30\n",
            "1776/1776 [==============================] - 11s 6ms/step - loss: 0.2105 - accuracy: 0.9286 - val_loss: 0.2384 - val_accuracy: 0.9222\n",
            "Epoch 4/30\n",
            "1776/1776 [==============================] - 12s 6ms/step - loss: 0.1831 - accuracy: 0.9358 - val_loss: 0.2144 - val_accuracy: 0.9289\n",
            "Epoch 5/30\n",
            "1776/1776 [==============================] - 11s 6ms/step - loss: 0.1622 - accuracy: 0.9426 - val_loss: 0.2088 - val_accuracy: 0.9338\n",
            "Epoch 6/30\n",
            "1776/1776 [==============================] - 10s 6ms/step - loss: 0.1466 - accuracy: 0.9457 - val_loss: 0.1999 - val_accuracy: 0.9359\n",
            "Epoch 7/30\n",
            "1776/1776 [==============================] - 11s 6ms/step - loss: 0.1328 - accuracy: 0.9505 - val_loss: 0.2004 - val_accuracy: 0.9341\n",
            "Epoch 8/30\n",
            "1776/1776 [==============================] - 11s 6ms/step - loss: 0.1207 - accuracy: 0.9553 - val_loss: 0.2149 - val_accuracy: 0.9335\n",
            "Epoch 9/30\n",
            "1776/1776 [==============================] - 12s 7ms/step - loss: 0.1115 - accuracy: 0.9581 - val_loss: 0.2049 - val_accuracy: 0.9386\n",
            "Epoch 10/30\n",
            "1776/1776 [==============================] - 11s 6ms/step - loss: 0.1037 - accuracy: 0.9595 - val_loss: 0.2387 - val_accuracy: 0.9324\n",
            "Epoch 11/30\n",
            "1776/1776 [==============================] - 11s 6ms/step - loss: 0.0974 - accuracy: 0.9614 - val_loss: 0.2102 - val_accuracy: 0.9393\n",
            "Epoch 12/30\n",
            "1776/1776 [==============================] - 11s 6ms/step - loss: 0.0894 - accuracy: 0.9648 - val_loss: 0.2184 - val_accuracy: 0.9396\n",
            "Epoch 13/30\n",
            "1776/1776 [==============================] - 11s 6ms/step - loss: 0.0843 - accuracy: 0.9658 - val_loss: 0.2358 - val_accuracy: 0.9362\n",
            "Epoch 14/30\n",
            "1776/1776 [==============================] - 11s 6ms/step - loss: 0.0809 - accuracy: 0.9676 - val_loss: 0.2424 - val_accuracy: 0.9367\n",
            "Epoch 15/30\n",
            "1776/1776 [==============================] - 11s 6ms/step - loss: 0.0758 - accuracy: 0.9684 - val_loss: 0.2539 - val_accuracy: 0.9351\n",
            "Epoch 16/30\n",
            "1776/1776 [==============================] - 12s 6ms/step - loss: 0.0732 - accuracy: 0.9695 - val_loss: 0.2452 - val_accuracy: 0.9376\n",
            "Epoch 17/30\n",
            "1776/1776 [==============================] - 11s 6ms/step - loss: 0.0711 - accuracy: 0.9710 - val_loss: 0.2502 - val_accuracy: 0.9358\n",
            "Epoch 18/30\n",
            "1776/1776 [==============================] - 11s 6ms/step - loss: 0.0650 - accuracy: 0.9726 - val_loss: 0.2830 - val_accuracy: 0.9295\n",
            "Epoch 19/30\n",
            "1776/1776 [==============================] - 10s 6ms/step - loss: 0.0642 - accuracy: 0.9724 - val_loss: 0.2749 - val_accuracy: 0.9341\n",
            "Epoch 20/30\n",
            "1776/1776 [==============================] - 11s 6ms/step - loss: 0.0618 - accuracy: 0.9739 - val_loss: 0.3010 - val_accuracy: 0.9327\n",
            "Epoch 21/30\n",
            "1776/1776 [==============================] - 11s 6ms/step - loss: 0.0611 - accuracy: 0.9742 - val_loss: 0.2869 - val_accuracy: 0.9365\n",
            "Epoch 22/30\n",
            "1776/1776 [==============================] - 11s 6ms/step - loss: 0.0553 - accuracy: 0.9758 - val_loss: 0.2874 - val_accuracy: 0.9348\n",
            "Epoch 23/30\n",
            "1776/1776 [==============================] - 11s 6ms/step - loss: 0.0590 - accuracy: 0.9745 - val_loss: 0.2978 - val_accuracy: 0.9370\n",
            "Epoch 24/30\n",
            "1776/1776 [==============================] - 11s 6ms/step - loss: 0.0554 - accuracy: 0.9756 - val_loss: 0.3348 - val_accuracy: 0.9348\n",
            "Epoch 25/30\n",
            "1776/1776 [==============================] - 10s 6ms/step - loss: 0.0540 - accuracy: 0.9768 - val_loss: 0.3265 - val_accuracy: 0.9338\n",
            "Epoch 26/30\n",
            "1776/1776 [==============================] - 12s 7ms/step - loss: 0.0518 - accuracy: 0.9783 - val_loss: 0.3681 - val_accuracy: 0.9314\n",
            "Epoch 27/30\n",
            "1776/1776 [==============================] - 11s 6ms/step - loss: 0.0517 - accuracy: 0.9783 - val_loss: 0.3129 - val_accuracy: 0.9371\n",
            "Epoch 28/30\n",
            "1776/1776 [==============================] - 11s 6ms/step - loss: 0.0501 - accuracy: 0.9788 - val_loss: 0.3820 - val_accuracy: 0.9328\n",
            "Epoch 29/30\n",
            "1776/1776 [==============================] - 11s 6ms/step - loss: 0.0474 - accuracy: 0.9792 - val_loss: 0.3389 - val_accuracy: 0.9338\n",
            "Epoch 30/30\n",
            "1776/1776 [==============================] - 12s 7ms/step - loss: 0.0476 - accuracy: 0.9800 - val_loss: 0.3482 - val_accuracy: 0.9326\n",
            "Best epoch: 12\n",
            "Epoch 1/12\n",
            "1776/1776 [==============================] - 13s 6ms/step - loss: 0.6290 - accuracy: 0.8019 - val_loss: 0.4225 - val_accuracy: 0.8632\n",
            "Epoch 2/12\n",
            "1776/1776 [==============================] - 12s 7ms/step - loss: 0.2643 - accuracy: 0.9108 - val_loss: 0.2672 - val_accuracy: 0.9131\n",
            "Epoch 3/12\n",
            "1776/1776 [==============================] - 11s 6ms/step - loss: 0.2130 - accuracy: 0.9268 - val_loss: 0.2311 - val_accuracy: 0.9219\n",
            "Epoch 4/12\n",
            "1776/1776 [==============================] - 11s 6ms/step - loss: 0.1861 - accuracy: 0.9358 - val_loss: 0.2173 - val_accuracy: 0.9274\n",
            "Epoch 5/12\n",
            "1776/1776 [==============================] - 11s 6ms/step - loss: 0.1648 - accuracy: 0.9421 - val_loss: 0.2177 - val_accuracy: 0.9278\n",
            "Epoch 6/12\n",
            "1776/1776 [==============================] - 12s 7ms/step - loss: 0.1480 - accuracy: 0.9469 - val_loss: 0.2103 - val_accuracy: 0.9350\n",
            "Epoch 7/12\n",
            "1776/1776 [==============================] - 12s 7ms/step - loss: 0.1341 - accuracy: 0.9502 - val_loss: 0.2125 - val_accuracy: 0.9329\n",
            "Epoch 8/12\n",
            "1776/1776 [==============================] - 11s 6ms/step - loss: 0.1222 - accuracy: 0.9538 - val_loss: 0.2011 - val_accuracy: 0.9377\n",
            "Epoch 9/12\n",
            "1776/1776 [==============================] - 11s 6ms/step - loss: 0.1129 - accuracy: 0.9569 - val_loss: 0.2081 - val_accuracy: 0.9298\n",
            "Epoch 10/12\n",
            "1776/1776 [==============================] - 11s 6ms/step - loss: 0.1043 - accuracy: 0.9598 - val_loss: 0.2085 - val_accuracy: 0.9333\n",
            "Epoch 11/12\n",
            "1776/1776 [==============================] - 11s 6ms/step - loss: 0.0947 - accuracy: 0.9624 - val_loss: 0.2222 - val_accuracy: 0.9352\n",
            "Epoch 12/12\n",
            "1776/1776 [==============================] - 11s 6ms/step - loss: 0.0908 - accuracy: 0.9623 - val_loss: 0.2414 - val_accuracy: 0.9316\n",
            "555/555 [==============================] - 2s 4ms/step - loss: 0.2297 - accuracy: 0.9331\n",
            "Test loss: 0.22967441380023956\n",
            "Test accuracy: 0.9331080913543701\n"
          ]
        }
      ]
    },
    {
      "cell_type": "code",
      "source": [
        "hypermodel.summary()"
      ],
      "metadata": {
        "colab": {
          "base_uri": "https://localhost:8080/"
        },
        "id": "BIRTWgiWK-9Q",
        "outputId": "1f07ebbb-d147-4534-f22c-56b97bfe590e"
      },
      "execution_count": null,
      "outputs": [
        {
          "output_type": "stream",
          "name": "stdout",
          "text": [
            "Model: \"sequential_3\"\n",
            "_________________________________________________________________\n",
            " Layer (type)                Output Shape              Param #   \n",
            "=================================================================\n",
            " conv2d_9 (Conv2D)           (None, 28, 28, 112)       2912      \n",
            "                                                                 \n",
            " max_pooling2d_3 (MaxPoolin  (None, 14, 14, 112)       0         \n",
            " g2D)                                                            \n",
            "                                                                 \n",
            " conv2d_10 (Conv2D)          (None, 14, 14, 48)        48432     \n",
            "                                                                 \n",
            " average_pooling2d_6 (Avera  (None, 7, 7, 48)          0         \n",
            " gePooling2D)                                                    \n",
            "                                                                 \n",
            " conv2d_11 (Conv2D)          (None, 7, 7, 128)         55424     \n",
            "                                                                 \n",
            " average_pooling2d_7 (Avera  (None, 3, 3, 128)         0         \n",
            " gePooling2D)                                                    \n",
            "                                                                 \n",
            " flatten_3 (Flatten)         (None, 1152)              0         \n",
            "                                                                 \n",
            " dense_8 (Dense)             (None, 64)                73856     \n",
            "                                                                 \n",
            " dense_9 (Dense)             (None, 64)                4224      \n",
            "                                                                 \n",
            " dense_10 (Dense)            (None, 26)                1690      \n",
            "                                                                 \n",
            "=================================================================\n",
            "Total params: 186538 (728.66 KB)\n",
            "Trainable params: 186538 (728.66 KB)\n",
            "Non-trainable params: 0 (0.00 Byte)\n",
            "_________________________________________________________________\n"
          ]
        }
      ]
    },
    {
      "cell_type": "code",
      "source": [
        "best_hps.values"
      ],
      "metadata": {
        "colab": {
          "base_uri": "https://localhost:8080/"
        },
        "id": "tGUotZ8WOBdV",
        "outputId": "f5c428e7-dd95-4dfc-eb6c-b94d0ee11f73"
      },
      "execution_count": null,
      "outputs": [
        {
          "output_type": "execute_result",
          "data": {
            "text/plain": [
              "{'num_conv_layers': 3,\n",
              " 'filters_0': 112,\n",
              " 'kernel_size_0': 5,\n",
              " 'pooling_0': 'max',\n",
              " 'num_dense_layers': 2,\n",
              " 'units_0': 64,\n",
              " 'activation_0': 'PReLU',\n",
              " 'learning_rate': 0.001,\n",
              " 'filters_1': 48,\n",
              " 'kernel_size_1': 3,\n",
              " 'pooling_1': 'avg',\n",
              " 'units_1': 64,\n",
              " 'activation_1': 'PReLU',\n",
              " 'units_2': 128,\n",
              " 'activation_2': 'tanh',\n",
              " 'filters_2': 128,\n",
              " 'kernel_size_2': 3,\n",
              " 'pooling_2': 'avg',\n",
              " 'tuner/epochs': 10,\n",
              " 'tuner/initial_epoch': 4,\n",
              " 'tuner/bracket': 2,\n",
              " 'tuner/round': 2,\n",
              " 'tuner/trial_id': '0012'}"
            ]
          },
          "metadata": {},
          "execution_count": 12
        }
      ]
    }
  ]
}