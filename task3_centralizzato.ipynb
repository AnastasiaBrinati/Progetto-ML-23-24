{
  "nbformat": 4,
  "nbformat_minor": 0,
  "metadata": {
    "colab": {
      "provenance": [],
      "include_colab_link": true
    },
    "kernelspec": {
      "name": "python3",
      "display_name": "Python 3"
    },
    "language_info": {
      "name": "python"
    },
    "accelerator": "TPU"
  },
  "cells": [
    {
      "cell_type": "markdown",
      "metadata": {
        "id": "view-in-github",
        "colab_type": "text"
      },
      "source": [
        "<a href=\"https://colab.research.google.com/github/AnastasiaBrinati/Progetto-ML-23-24/blob/main/task3_centralizzato.ipynb\" target=\"_parent\"><img src=\"https://colab.research.google.com/assets/colab-badge.svg\" alt=\"Open In Colab\"/></a>"
      ]
    },
    {
      "cell_type": "markdown",
      "source": [
        "#TASK 3"
      ],
      "metadata": {
        "id": "kSPzeObWRIXt"
      }
    },
    {
      "cell_type": "markdown",
      "source": [
        "#### import"
      ],
      "metadata": {
        "id": "BUMPwbHmtJtw"
      }
    },
    {
      "cell_type": "code",
      "source": [
        "import numpy as np\n",
        "import pandas as pd\n",
        "import tensorflow as tf\n",
        "from tensorflow import keras\n",
        "from tensorflow.keras import layers\n",
        "from tensorflow.keras.datasets import mnist\n",
        "from tensorflow.keras.optimizers import Adam\n",
        "!pip install -q -U keras-tuner\n",
        "import keras_tuner as kt\n",
        "from sklearn.metrics import precision_score, recall_score, f1_score"
      ],
      "metadata": {
        "colab": {
          "base_uri": "https://localhost:8080/"
        },
        "id": "Q7ciSSdWMW_J",
        "outputId": "e279fc7c-fdf8-41db-8387-0c1a8957da68"
      },
      "execution_count": 1,
      "outputs": [
        {
          "output_type": "stream",
          "name": "stdout",
          "text": [
            "\u001b[?25l     \u001b[90m━━━━━━━━━━━━━━━━━━━━━━━━━━━━━━━━━━━━━━━━\u001b[0m \u001b[32m0.0/129.1 kB\u001b[0m \u001b[31m?\u001b[0m eta \u001b[36m-:--:--\u001b[0m\r\u001b[2K     \u001b[91m━━━━━━━━━━━━━━━━━━━━━━━━━━━━━━━━━━━━━━\u001b[0m\u001b[90m╺\u001b[0m\u001b[90m━\u001b[0m \u001b[32m122.9/129.1 kB\u001b[0m \u001b[31m4.1 MB/s\u001b[0m eta \u001b[36m0:00:01\u001b[0m\r\u001b[2K     \u001b[90m━━━━━━━━━━━━━━━━━━━━━━━━━━━━━━━━━━━━━━━━\u001b[0m \u001b[32m129.1/129.1 kB\u001b[0m \u001b[31m3.1 MB/s\u001b[0m eta \u001b[36m0:00:00\u001b[0m\n",
            "\u001b[?25h"
          ]
        }
      ]
    },
    {
      "cell_type": "markdown",
      "source": [
        "#### get the data"
      ],
      "metadata": {
        "id": "JBNR0lBltMNa"
      }
    },
    {
      "cell_type": "code",
      "source": [
        "# Inizializza il seed per NumPy per riproducibilità\n",
        "np.random.seed(42)\n",
        "\n",
        "# Inizializza il seed per TensorFlow per riproducibilità\n",
        "tf.random.set_seed(42)\n",
        "# Load the MNIST dataset\n",
        "(X_train, y_train), (X_test, y_test) = mnist.load_data()\n",
        "\n",
        "# Preprocessing\n",
        "# Reshape and scale the input features\n",
        "X_train = X_train.reshape(-1, 28, 28, 1).astype('float32') / 255.0\n",
        "X_test = X_test.reshape(-1, 28, 28, 1).astype('float32') / 255.0\n",
        "\n",
        "# One-hot encode the target labels\n",
        "y_train = tf.keras.utils.to_categorical(y_train, 10)\n",
        "y_test = tf.keras.utils.to_categorical(y_test, 10)\n"
      ],
      "metadata": {
        "colab": {
          "base_uri": "https://localhost:8080/"
        },
        "id": "nTrWXqjSlNHB",
        "outputId": "e72a25f3-f8c4-42aa-ef41-6a4afc9dd3a8"
      },
      "execution_count": 2,
      "outputs": [
        {
          "output_type": "stream",
          "name": "stdout",
          "text": [
            "Downloading data from https://storage.googleapis.com/tensorflow/tf-keras-datasets/mnist.npz\n",
            "11490434/11490434 [==============================] - 0s 0us/step\n"
          ]
        }
      ]
    },
    {
      "cell_type": "markdown",
      "source": [
        " #### Tuning"
      ],
      "metadata": {
        "id": "pxgKm_zgRmit"
      }
    },
    {
      "cell_type": "code",
      "source": [
        "# Define the model builder function for hyperparameter tuning\n",
        "def model_builder(hp):\n",
        "    model = keras.Sequential()\n",
        "\n",
        "    # Tune the number of convolutional layers\n",
        "    for i in range(hp.Int('num_conv_layers', 1, 3)):\n",
        "        model.add(layers.Conv2D(\n",
        "            filters=hp.Int(f'filters_{i}', min_value=16, max_value=128, step=16),\n",
        "            kernel_size=hp.Choice(f'kernel_size_{i}', values=[3, 5]),\n",
        "            activation='relu',\n",
        "            padding='same'\n",
        "        ))\n",
        "        model.add(layers.MaxPooling2D(pool_size=(2, 2)))\n",
        "\n",
        "    model.add(layers.Flatten())\n",
        "\n",
        "    # Tune the number of units and activation function for each Dense layer\n",
        "    for i in range(hp.Int('num_dense_layers', 1, 3)):\n",
        "        model.add(layers.Dense(\n",
        "            units=hp.Int(f'units_{i}', min_value=16, max_value=128, step=16),\n",
        "            activation=hp.Choice(f'activation_{i}', values=['PReLU','LeakyReLU','relu', 'tanh', 'sigmoid'])\n",
        "        ))\n",
        "\n",
        "    # Output layer\n",
        "    model.add(layers.Dense(10, activation='softmax'))\n",
        "\n",
        "    # Tune the learning rate for the optimizer\n",
        "    # hp_learning_rate = hp.Choice('learning_rate', values=[1e-2, 1e-3, 1e-4])\n",
        "    hp_learning_rate = 1e-2\n",
        "\n",
        "    model.compile(optimizer=Adam(learning_rate=hp_learning_rate),\n",
        "                  loss='categorical_crossentropy',\n",
        "                  metrics=[\"accuracy\", \"categorical_accuracy\", \"top_k_categorical_accuracy\"])\n",
        "\n",
        "    return model\n",
        "\n",
        "# Initialize the tuner\n",
        "tuner = kt.Hyperband(model_builder,\n",
        "                     objective='val_accuracy',\n",
        "                     max_epochs=10,\n",
        "                     factor=3,\n",
        "                     directory='my_dir',\n",
        "                     project_name='mnist_tuning')\n",
        "\n",
        "# Perform hyperparameter search\n",
        "tuner.search(X_train, y_train, epochs=2, validation_split=0.2)\n",
        "\n",
        "# Get the optimal hyperparameters\n",
        "best_hps = tuner.get_best_hyperparameters(num_trials=1)[0]\n",
        "\n",
        "# Build the model with the optimal hyperparameters\n",
        "tuned_model = tuner.hypermodel.build(best_hps)\n"
      ],
      "metadata": {
        "id": "MH7b1XU-JnAV"
      },
      "execution_count": null,
      "outputs": []
    },
    {
      "cell_type": "code",
      "source": [
        "best_hps.values"
      ],
      "metadata": {
        "id": "DDAgqfxqf1eY",
        "outputId": "ece42100-2e0c-4539-f7d2-3ba0f4ccce0a",
        "colab": {
          "base_uri": "https://localhost:8080/"
        }
      },
      "execution_count": null,
      "outputs": [
        {
          "output_type": "execute_result",
          "data": {
            "text/plain": [
              "{'num_conv_layers': 2,\n",
              " 'filters_0': 128,\n",
              " 'kernel_size_0': 5,\n",
              " 'num_dense_layers': 2,\n",
              " 'units_0': 64,\n",
              " 'activation_0': 'PReLU',\n",
              " 'learning_rate': 0.001,\n",
              " 'filters_1': 48,\n",
              " 'kernel_size_1': 5,\n",
              " 'filters_2': 112,\n",
              " 'kernel_size_2': 3,\n",
              " 'units_1': 80,\n",
              " 'activation_1': 'relu',\n",
              " 'units_2': 32,\n",
              " 'activation_2': 'PReLU',\n",
              " 'tuner/epochs': 10,\n",
              " 'tuner/initial_epoch': 4,\n",
              " 'tuner/bracket': 1,\n",
              " 'tuner/round': 1,\n",
              " 'tuner/trial_id': '0018'}"
            ]
          },
          "metadata": {},
          "execution_count": 12
        }
      ]
    },
    {
      "cell_type": "markdown",
      "source": [
        "#### Model"
      ],
      "metadata": {
        "id": "tAMzjb6jR051"
      }
    },
    {
      "cell_type": "code",
      "source": [
        "# Build the actual model\n",
        "def get_model():\n",
        "\n",
        "  model = keras.Sequential()\n",
        "\n",
        "  # (conv2 + pooling)*2\n",
        "  model.add(layers.Conv2D(input_shape=(28, 28, 1), filters=1, kernel_size=5, activation='relu',padding='same'))\n",
        "\n",
        "  model.add(layers.MaxPooling2D(pool_size=(2, 2)))\n",
        "\n",
        "  model.add(layers.Conv2D(filters=48,kernel_size=5,activation='relu',padding='same'))\n",
        "\n",
        "  model.add(layers.MaxPooling2D(pool_size=(2, 2)))\n",
        "\n",
        "  # flatten layer\n",
        "  model.add(layers.Flatten())\n",
        "\n",
        "  # dense layers\n",
        "  model.add(layers.Dense(units=64, activation=\"PReLU\"))\n",
        "  model.add(layers.Dense(units=80, activation=\"ReLU\"))\n",
        "  model.add(layers.Dense(units=32, activation=\"PReLU\"))\n",
        "  # output layer\n",
        "  model.add(layers.Dense(10, activation='softmax'))\n",
        "\n",
        "  model.compile(loss='categorical_crossentropy', optimizer=tf.keras.optimizers.Adam(learning_rate=0.001), metrics=[\"accuracy\", \"categorical_accuracy\", \"top_k_categorical_accuracy\"])\n",
        "  return model"
      ],
      "metadata": {
        "id": "lZkzXPyaR3Hv"
      },
      "execution_count": 54,
      "outputs": []
    },
    {
      "cell_type": "code",
      "source": [
        "model = get_model()\n",
        "model.summary()"
      ],
      "metadata": {
        "colab": {
          "base_uri": "https://localhost:8080/"
        },
        "id": "cyp6AMZBRK1M",
        "outputId": "69245690-d69e-4a6f-e116-8d9de1637478"
      },
      "execution_count": 55,
      "outputs": [
        {
          "output_type": "stream",
          "name": "stdout",
          "text": [
            "Model: \"sequential_16\"\n",
            "_________________________________________________________________\n",
            " Layer (type)                Output Shape              Param #   \n",
            "=================================================================\n",
            " conv2d_25 (Conv2D)          (None, 28, 28, 1)         26        \n",
            "                                                                 \n",
            " max_pooling2d_22 (MaxPooli  (None, 14, 14, 1)         0         \n",
            " ng2D)                                                           \n",
            "                                                                 \n",
            " conv2d_26 (Conv2D)          (None, 14, 14, 48)        1248      \n",
            "                                                                 \n",
            " max_pooling2d_23 (MaxPooli  (None, 7, 7, 48)          0         \n",
            " ng2D)                                                           \n",
            "                                                                 \n",
            " flatten_10 (Flatten)        (None, 2352)              0         \n",
            "                                                                 \n",
            " dense_39 (Dense)            (None, 64)                150656    \n",
            "                                                                 \n",
            " dense_40 (Dense)            (None, 80)                5200      \n",
            "                                                                 \n",
            " dense_41 (Dense)            (None, 32)                2624      \n",
            "                                                                 \n",
            " dense_42 (Dense)            (None, 10)                330       \n",
            "                                                                 \n",
            "=================================================================\n",
            "Total params: 160084 (625.33 KB)\n",
            "Trainable params: 160084 (625.33 KB)\n",
            "Non-trainable params: 0 (0.00 Byte)\n",
            "_________________________________________________________________\n"
          ]
        }
      ]
    },
    {
      "cell_type": "markdown",
      "source": [
        "#### history"
      ],
      "metadata": {
        "id": "YJwvuD3qtQoP"
      }
    },
    {
      "cell_type": "code",
      "source": [
        "# Train the model with the optimal hyperparameters\n",
        "history = model.fit(X_train, y_train, epochs=10, validation_split=0.2, verbose=0)\n",
        "\n",
        "# Evaluate the model on test data\n",
        "test_loss, test_accuracy, test_categorical_accuracy, test_top_k_categorical_accuracy = model.evaluate(X_test, y_test)\n",
        "\n",
        "# Predictions on the validation set\n",
        "y_pred = model.predict(X_test)\n",
        "y_pred_classes = np.argmax(y_pred, axis=1)\n",
        "\n",
        "# Calculate precision, recall, and F1-score\n",
        "test_precision = precision_score(np.argmax(y_test, axis=1), y_pred_classes, average='weighted')\n",
        "test_recall = recall_score(np.argmax(y_test, axis=1), y_pred_classes, average='weighted')\n",
        "test_f1_score = f1_score(np.argmax(y_test, axis=1), y_pred_classes, average='weighted')\n",
        "\n",
        "# Display metrics\n",
        "print(\"Test Loss:\", test_loss)\n",
        "print(\"Test Accuracy:\", test_accuracy)\n",
        "print(\"Test Categorical Accuracy:\", test_categorical_accuracy)\n",
        "print(\"Test Top-K Categorical Accuracy:\", test_top_k_categorical_accuracy)\n",
        "print(\"Test Precision:\", test_precision)\n",
        "print(\"Test Recall:\", test_recall)\n",
        "print(\"Test F1 Score:\", test_f1_score)"
      ],
      "metadata": {
        "colab": {
          "base_uri": "https://localhost:8080/"
        },
        "id": "nj_NMz1kRkUH",
        "outputId": "2d178766-42f7-4094-e8ac-57fddbafe189"
      },
      "execution_count": 62,
      "outputs": [
        {
          "output_type": "stream",
          "name": "stdout",
          "text": [
            "313/313 [==============================] - 3s 9ms/step - loss: 0.0565 - accuracy: 0.9885 - categorical_accuracy: 0.9885 - top_k_categorical_accuracy: 1.0000\n",
            "313/313 [==============================] - 3s 9ms/step\n",
            "Test Loss: 0.05647412687540054\n",
            "Test Accuracy: 0.9884999990463257\n",
            "Test Categorical Accuracy: 0.9884999990463257\n",
            "Test Top-K Categorical Accuracy: 1.0\n",
            "Test Precision: 0.9885204587249998\n",
            "Test Recall: 0.9885\n",
            "Test F1 Score: 0.988500365550457\n"
          ]
        }
      ]
    },
    {
      "cell_type": "code",
      "source": [
        "import pandas as pd\n",
        "\n",
        "# Converti la cronologia in un DataFrame\n",
        "history_df = pd.DataFrame(history.history)\n",
        "\n",
        "# Stampa la tabella delle metriche per ogni epoca\n",
        "print(history_df.to_string())\n"
      ],
      "metadata": {
        "colab": {
          "base_uri": "https://localhost:8080/"
        },
        "id": "esYXuP7KR7WY",
        "outputId": "a356699c-b5a0-4f75-b905-65b3f488bf93"
      },
      "execution_count": 63,
      "outputs": [
        {
          "output_type": "stream",
          "name": "stdout",
          "text": [
            "       loss  accuracy  categorical_accuracy  top_k_categorical_accuracy  val_loss  val_accuracy  val_categorical_accuracy  val_top_k_categorical_accuracy\n",
            "0  0.006573  0.997979              0.997979                         1.0  0.074014      0.985750                  0.985750                        0.999667\n",
            "1  0.009880  0.996938              0.996938                         1.0  0.080995      0.984750                  0.984750                        0.999500\n",
            "2  0.005082  0.998417              0.998417                         1.0  0.095862      0.983250                  0.983250                        0.999667\n",
            "3  0.007821  0.997604              0.997604                         1.0  0.078904      0.983333                  0.983333                        0.999500\n",
            "4  0.006833  0.997896              0.997896                         1.0  0.078506      0.986083                  0.986083                        0.999333\n",
            "5  0.007958  0.997604              0.997604                         1.0  0.082024      0.984917                  0.984917                        0.999500\n",
            "6  0.006708  0.997875              0.997875                         1.0  0.083500      0.984583                  0.984583                        0.999250\n",
            "7  0.007617  0.997917              0.997917                         1.0  0.074037      0.987667                  0.987667                        0.999667\n",
            "8  0.004179  0.998854              0.998854                         1.0  0.101887      0.982833                  0.982833                        0.999250\n",
            "9  0.007079  0.998000              0.998000                         1.0  0.073561      0.985833                  0.985833                        0.999417\n"
          ]
        }
      ]
    },
    {
      "cell_type": "code",
      "source": [],
      "metadata": {
        "id": "3NJjzAUV4b3x"
      },
      "execution_count": null,
      "outputs": []
    }
  ]
}