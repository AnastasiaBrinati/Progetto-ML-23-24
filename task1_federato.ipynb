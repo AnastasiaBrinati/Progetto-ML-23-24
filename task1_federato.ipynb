{
  "cells": [
    {
      "cell_type": "markdown",
      "metadata": {
        "id": "view-in-github",
        "colab_type": "text"
      },
      "source": [
        "<a href=\"https://colab.research.google.com/github/AnastasiaBrinati/Progetto-ML-23-24/blob/main/task1_federato.ipynb\" target=\"_parent\"><img src=\"https://colab.research.google.com/assets/colab-badge.svg\" alt=\"Open In Colab\"/></a>"
      ]
    },
    {
      "cell_type": "code",
      "source": [
        "import tensorflow as tf\n",
        "\n",
        "!pip install -q flwr[\"simulation\"] tensorflow\n",
        "!pip install -q flwr_datasets[\"vision\"]\n",
        "!pip install matplotlib\n",
        "\n",
        "from typing import Dict, List, Tuple\n",
        "import flwr as fl\n",
        "from flwr.common import Metrics\n",
        "import tensorflow as tf\n",
        "from tensorflow.keras.initializers import he_normal, glorot_normal\n",
        "from tensorflow.keras.layers import Input, Dense, concatenate, Flatten\n",
        "!pip install tensorflow-addons\n",
        "from tensorflow_addons.metrics import F1Score\n",
        "from flwr.simulation.ray_transport.utils import enable_tf_gpu_growth\n",
        "from datasets import Dataset\n",
        "from flwr_datasets import FederatedDataset\n",
        "from keras.initializers import RandomNormal, he_normal, glorot_normal, he_uniform, glorot_uniform"
      ],
      "metadata": {
        "colab": {
          "base_uri": "https://localhost:8080/"
        },
        "id": "c1tJ8LG1hr7Z",
        "outputId": "b539c9a4-ff48-42f6-aff1-c7368f182f3d"
      },
      "execution_count": 17,
      "outputs": [
        {
          "output_type": "stream",
          "name": "stdout",
          "text": [
            "Requirement already satisfied: matplotlib in /usr/local/lib/python3.10/dist-packages (3.7.1)\n",
            "Requirement already satisfied: contourpy>=1.0.1 in /usr/local/lib/python3.10/dist-packages (from matplotlib) (1.2.0)\n",
            "Requirement already satisfied: cycler>=0.10 in /usr/local/lib/python3.10/dist-packages (from matplotlib) (0.12.1)\n",
            "Requirement already satisfied: fonttools>=4.22.0 in /usr/local/lib/python3.10/dist-packages (from matplotlib) (4.49.0)\n",
            "Requirement already satisfied: kiwisolver>=1.0.1 in /usr/local/lib/python3.10/dist-packages (from matplotlib) (1.4.5)\n",
            "Requirement already satisfied: numpy>=1.20 in /usr/local/lib/python3.10/dist-packages (from matplotlib) (1.25.2)\n",
            "Requirement already satisfied: packaging>=20.0 in /usr/local/lib/python3.10/dist-packages (from matplotlib) (23.2)\n",
            "Requirement already satisfied: pillow>=6.2.0 in /usr/local/lib/python3.10/dist-packages (from matplotlib) (9.4.0)\n",
            "Requirement already satisfied: pyparsing>=2.3.1 in /usr/local/lib/python3.10/dist-packages (from matplotlib) (3.1.1)\n",
            "Requirement already satisfied: python-dateutil>=2.7 in /usr/local/lib/python3.10/dist-packages (from matplotlib) (2.8.2)\n",
            "Requirement already satisfied: six>=1.5 in /usr/local/lib/python3.10/dist-packages (from python-dateutil>=2.7->matplotlib) (1.16.0)\n",
            "Requirement already satisfied: tensorflow-addons in /usr/local/lib/python3.10/dist-packages (0.23.0)\n",
            "Requirement already satisfied: packaging in /usr/local/lib/python3.10/dist-packages (from tensorflow-addons) (23.2)\n",
            "Requirement already satisfied: typeguard<3.0.0,>=2.7 in /usr/local/lib/python3.10/dist-packages (from tensorflow-addons) (2.13.3)\n"
          ]
        }
      ]
    },
    {
      "cell_type": "code",
      "execution_count": 18,
      "metadata": {
        "id": "wr1W-6_43eIE"
      },
      "outputs": [],
      "source": [
        "# Simulation parameters\n",
        "settings = {\n",
        "    \"VERBOSE\": 0,\n",
        "    \"NUM_CLIENTS\": 100,\n",
        "    \"FRACTION_FIT\": 0.8,\n",
        "    \"FRACTION_EVALUATE\": 0.2,\n",
        "    \"MIN_FIT_CLIENTS\": 5,\n",
        "    \"MIN_EVALUATE_CLIENTS\": 2,\n",
        "    \"MIN_AVAILABLE_CLIENTS_FRACTION\": 0.5,\n",
        "    \"STRATEGY_TYPE\": 'QFedAvg', # QFedAvg , FedAvg, FedProx\n",
        "    \"NUM_ROUNDS\": 10\n",
        "}"
      ]
    },
    {
      "cell_type": "code",
      "execution_count": 19,
      "metadata": {
        "id": "Z778yKgU3eIF"
      },
      "outputs": [],
      "source": [
        "\n",
        "def get_model():\n",
        "    \"\"\"Constructs a model suitable for features.\"\"\"\n",
        "    # Define input layers\n",
        "    Support_Calls_input = Input(shape=(1,), name='Support Calls')\n",
        "    Payment_Delay_input = Input(shape=(1,), name='Payment Delay')\n",
        "    Usage_Frequency_input = Input(shape=(1,), name='Usage Frequency')\n",
        "    Total_Spend_input = Input(shape=(1,), name='Total Spend')\n",
        "    Last_Interaction_input = Input(shape=(1,), name='Last Interaction')\n",
        "    Age_18_25_input = Input(shape=(1,), name='Age_binned_(18.0, 25.0]')\n",
        "    Age_25_35_input = Input(shape=(1,), name='Age_binned_(25.0, 35.0]')\n",
        "    Age_35_50_input = Input(shape=(1,), name='Age_binned_(35.0, 50.0]')\n",
        "    Age_50_60_input = Input(shape=(1,), name='Age_binned_(50.0, 60.0]')\n",
        "    Age_60_70_input = Input(shape=(1,), name='Age_binned_(60.0, 70.0]')\n",
        "    Age_nan_input = Input(shape=(1,), name='Age_binned_nan')\n",
        "    Contract_Length_Annual_input = Input(shape=(1,), name='Contract Length_Annual')\n",
        "    Contract_Length_Monthly_input = Input(shape=(1,), name='Contract Length_Monthly')\n",
        "    Contract_Length_Quarterly_input = Input(shape=(1,), name='Contract Length_Quarterly')\n",
        "    Contract_Length_nan_input = Input(shape=(1,), name='Contract Length_nan')\n",
        "    Gender_Female_input = Input(shape=(1,), name='Gender_Female')\n",
        "    Gender_Male_input = Input(shape=(1,), name='Gender_Male')\n",
        "    Gender_nan_input = Input(shape=(1,), name='Gender_nan')\n",
        "    Subscription_Type_Basic_input = Input(shape=(1,), name='Subscription Type_Basic')\n",
        "    Subscription_Type_Premium_input = Input(shape=(1,), name='Subscription Type_Premium')\n",
        "    Subscription_Type_Standard_input = Input(shape=(1,), name='Subscription Type_Standard')\n",
        "    Subscription_Type_nan_input = Input(shape=(1,), name='Subscription Type_nan')\n",
        "\n",
        "    # Concatenate the input tensors\n",
        "    concatenated_inputs = concatenate([\n",
        "        Support_Calls_input, Payment_Delay_input, Usage_Frequency_input, Total_Spend_input, Last_Interaction_input,\n",
        "        Age_18_25_input, Age_25_35_input, Age_35_50_input, Age_50_60_input, Age_60_70_input, Age_nan_input,\n",
        "        Contract_Length_Annual_input, Contract_Length_Monthly_input, Contract_Length_Quarterly_input, Contract_Length_nan_input,\n",
        "        Gender_Female_input, Gender_Male_input, Gender_nan_input,\n",
        "        Subscription_Type_Basic_input, Subscription_Type_Premium_input, Subscription_Type_Standard_input, Subscription_Type_nan_input\n",
        "    ])\n",
        "\n",
        "    # Define the rest of the model\n",
        "    x = Flatten()(concatenated_inputs)\n",
        "    x = Dense(32, activation=\"relu\", kernel_initializer=he_normal())(x)\n",
        "    x = Dense(96, activation=\"PReLU\", kernel_initializer=he_normal())(x)\n",
        "    x = Dense(128, activation=\"tanh\", kernel_initializer=glorot_normal())(x)\n",
        "    x = Dense(96, activation=\"sigmoid\", kernel_initializer=glorot_normal())(x)\n",
        "    output = Dense(1, activation=\"sigmoid\", kernel_initializer=glorot_normal())(x)\n",
        "\n",
        "    # Construct the model\n",
        "    model = tf.keras.models.Model(inputs=[\n",
        "        Support_Calls_input, Payment_Delay_input, Usage_Frequency_input, Total_Spend_input, Last_Interaction_input,\n",
        "        Age_18_25_input, Age_25_35_input, Age_35_50_input, Age_50_60_input, Age_60_70_input, Age_nan_input,\n",
        "        Contract_Length_Annual_input, Contract_Length_Monthly_input, Contract_Length_Quarterly_input, Contract_Length_nan_input,\n",
        "        Gender_Female_input, Gender_Male_input, Gender_nan_input,\n",
        "        Subscription_Type_Basic_input, Subscription_Type_Premium_input, Subscription_Type_Standard_input, Subscription_Type_nan_input\n",
        "    ], outputs=output)\n",
        "\n",
        "    # Compile the model with accuracy, precision, recall, and F1-score metrics\n",
        "    model.compile(optimizer=\"adam\", loss=\"binary_crossentropy\", metrics=[\"accuracy\", tf.keras.metrics.Precision(), tf.keras.metrics.Recall()])\n",
        "    return model\n"
      ]
    },
    {
      "cell_type": "code",
      "execution_count": 20,
      "metadata": {
        "id": "CreaAmfK3eIG"
      },
      "outputs": [],
      "source": [
        "class FlowerClient(fl.client.NumPyClient):\n",
        "    def __init__(self, trainset, valset) -> None:\n",
        "        # Create model\n",
        "        self.model = get_model()\n",
        "        self.trainset = trainset\n",
        "        self.valset = valset\n",
        "\n",
        "    def get_parameters(self, config):\n",
        "        return self.model.get_weights()\n",
        "\n",
        "    def fit(self, parameters, config):\n",
        "        self.model.set_weights(parameters)\n",
        "        self.model.fit(self.trainset, epochs=1, verbose=settings['VERBOSE'])\n",
        "        return self.model.get_weights(), len(self.trainset), {}\n",
        "\n",
        "    def evaluate(self, parameters, config):\n",
        "        self.model.set_weights(parameters)\n",
        "        results = self.model.evaluate(self.valset)\n",
        "\n",
        "        loss = results[0]\n",
        "        accuracy = results[1]\n",
        "        precision = results[2]\n",
        "        recall = results[3]\n",
        "        #f1_score = results[4]\n",
        "\n",
        "        # Convert metrics results to appropriate data types\n",
        "        loss = float(loss)\n",
        "        accuracy = float(accuracy)\n",
        "        precision = float(precision)\n",
        "        recall = float(recall)\n",
        "        #f1_score = float(f1_score)\n",
        "\n",
        "\n",
        "        return loss, len(self.valset), {\"accuracy\": accuracy, \"precision\":precision, \"recall\":recall}"
      ]
    },
    {
      "cell_type": "code",
      "source": [
        "# Download MNIST dataset and partition it\n",
        "mnist_fds = FederatedDataset(dataset=\"giulioappetito/churn_dataset_giulioappetito\", partitioners={\"train\": settings['NUM_CLIENTS']})\n",
        "# Get the whole test set for centralised evaluation\n",
        "centralized_testset = mnist_fds.load_full(\"test\").to_tf_dataset(\n",
        "  columns=[\n",
        "            'Support Calls',\n",
        "            'Payment Delay',\n",
        "            'Usage Frequency',\n",
        "            'Total Spend',\n",
        "            'Last Interaction',\n",
        "            'Age_binned_(18.0, 25.0]',\n",
        "            'Age_binned_(25.0, 35.0]',\n",
        "            'Age_binned_(35.0, 50.0]',\n",
        "            'Age_binned_(50.0, 60.0]',\n",
        "            'Age_binned_(60.0, 70.0]',\n",
        "            'Age_binned_nan',\n",
        "            'Contract Length_Annual',\n",
        "            'Contract Length_Monthly',\n",
        "            'Contract Length_Quarterly',\n",
        "            'Contract Length_nan',\n",
        "            'Gender_Female',\n",
        "            'Gender_Male',\n",
        "            'Gender_nan',\n",
        "            'Subscription Type_Basic',\n",
        "            'Subscription Type_Premium',\n",
        "            'Subscription Type_Standard',\n",
        "            'Subscription Type_nan'\n",
        "        ],\n",
        "        label_cols=\"Churn\", batch_size=64\n",
        "    )"
      ],
      "metadata": {
        "id": "b3QVqYkdWxQw",
        "colab": {
          "base_uri": "https://localhost:8080/"
        },
        "outputId": "a20469b6-6d87-44d1-fd72-e01b82992c0a"
      },
      "execution_count": 21,
      "outputs": [
        {
          "output_type": "stream",
          "name": "stderr",
          "text": [
            "/usr/local/lib/python3.10/dist-packages/flwr_datasets/utils.py:84: UserWarning: The currently tested dataset are ['mnist', 'cifar10', 'fashion_mnist', 'sasha/dog-food', 'zh-plus/tiny-imagenet']. Given: giulioappetito/churn_dataset_giulioappetito.\n",
            "  warnings.warn(\n"
          ]
        }
      ]
    },
    {
      "cell_type": "code",
      "execution_count": 22,
      "metadata": {
        "id": "BJYjw7yt3eIH"
      },
      "outputs": [],
      "source": [
        "# @title\n",
        "def get_client_fn(dataset: FederatedDataset):\n",
        "    \"\"\"Return a function to construct a client.\n",
        "\n",
        "    The VirtualClientEngine will execute this function whenever a client is sampled by\n",
        "    the strategy to participate.\n",
        "    \"\"\"\n",
        "\n",
        "    def client_fn(cid: str) -> fl.client.Client:\n",
        "        \"\"\"Construct a FlowerClient with its own dataset partition.\"\"\"\n",
        "\n",
        "        # Extract partition for client with id = cid\n",
        "        client_dataset = dataset.load_partition(int(cid), \"train\")\n",
        "\n",
        "        # Now let's split it into train (90%) and validation (10%)\n",
        "        client_dataset_splits = client_dataset.train_test_split(test_size=0.1)\n",
        "        trainset = client_dataset_splits[\"train\"].to_tf_dataset(\n",
        "            columns=[\n",
        "                'Support Calls',\n",
        "                'Payment Delay',\n",
        "                'Usage Frequency',\n",
        "                'Total Spend',\n",
        "                'Last Interaction',\n",
        "                'Age_binned_(18.0, 25.0]',\n",
        "                'Age_binned_(25.0, 35.0]',\n",
        "                'Age_binned_(35.0, 50.0]',\n",
        "                'Age_binned_(50.0, 60.0]',\n",
        "                'Age_binned_(60.0, 70.0]',\n",
        "                'Age_binned_nan',\n",
        "                'Contract Length_Annual',\n",
        "                'Contract Length_Monthly',\n",
        "                'Contract Length_Quarterly',\n",
        "                'Contract Length_nan',\n",
        "                'Gender_Female',\n",
        "                'Gender_Male',\n",
        "                'Gender_nan',\n",
        "                'Subscription Type_Basic',\n",
        "                'Subscription Type_Premium',\n",
        "                'Subscription Type_Standard',\n",
        "                'Subscription Type_nan'\n",
        "            ],\n",
        "            label_cols=\"Churn\", batch_size=32\n",
        "        )\n",
        "        valset = client_dataset_splits[\"test\"].to_tf_dataset(\n",
        "            columns=[\n",
        "                'Support Calls',\n",
        "                'Payment Delay',\n",
        "                'Usage Frequency',\n",
        "                'Total Spend',\n",
        "                'Last Interaction',\n",
        "                'Age_binned_(18.0, 25.0]',\n",
        "                'Age_binned_(25.0, 35.0]',\n",
        "                'Age_binned_(35.0, 50.0]',\n",
        "                'Age_binned_(50.0, 60.0]',\n",
        "                'Age_binned_(60.0, 70.0]',\n",
        "                'Age_binned_nan',\n",
        "                'Contract Length_Annual',\n",
        "                'Contract Length_Monthly',\n",
        "                'Contract Length_Quarterly',\n",
        "                'Contract Length_nan',\n",
        "                'Gender_Female',\n",
        "                'Gender_Male',\n",
        "                'Gender_nan',\n",
        "                'Subscription Type_Basic',\n",
        "                'Subscription Type_Premium',\n",
        "                'Subscription Type_Standard',\n",
        "                'Subscription Type_nan'\n",
        "            ],\n",
        "            label_cols=\"Churn\", batch_size=64\n",
        "        )\n",
        "\n",
        "        # Create and return client\n",
        "        return FlowerClient(trainset, valset).to_client()\n",
        "\n",
        "    return client_fn\n",
        "\n",
        "\n",
        "def weighted_average(metrics: List[Tuple[int, Metrics]]) -> Metrics:\n",
        "    \"\"\"Aggregation function for (federated) evaluation metrics, i.e. those returned by\n",
        "    the client's evaluate() method.\"\"\"\n",
        "    # Multiply accuracy of each client by number of examples used\n",
        "    accuracies = [num_examples * m[\"accuracy\"] for num_examples, m in metrics]\n",
        "    precisions = [num_examples * m[\"precision\"] for num_examples, m in metrics]\n",
        "    recalls = [num_examples * m[\"recall\"] for num_examples, m in metrics]\n",
        "    #f1_scores = [num_examples * m[\"f1_score\"] for num_examples, m in metrics]\n",
        "    examples = [num_examples for num_examples, _ in metrics]\n",
        "\n",
        "    # Aggregate and return custom metric (weighted average)\n",
        "    return {\"accuracy\": sum(accuracies) / sum(examples), \"precision\":sum(precisions) / sum(examples),\"recall\":sum(recalls) / sum(examples)}\n",
        "\n",
        "\n",
        "def get_evaluate_fn(testset: Dataset):\n",
        "    \"\"\"Return an evaluation function for server-side (i.e. centralised) evaluation.\"\"\"\n",
        "\n",
        "    # The `evaluate` function will be called after every round by the strategy\n",
        "    def evaluate(\n",
        "        server_round: int,\n",
        "        parameters: fl.common.NDArrays,\n",
        "        config: Dict[str, fl.common.Scalar],\n",
        "    ):\n",
        "        model = get_model()  # Construct the model\n",
        "        model.set_weights(parameters)  # Update model with the latest parameters\n",
        "        results = model.evaluate(testset)\n",
        "        loss = results[0]\n",
        "        return loss, {\"accuracy\": results[1], \"precision\":results[2], \"recall\":results[3]}\n",
        "\n",
        "    return evaluate\n"
      ]
    },
    {
      "cell_type": "code",
      "source": [
        "# Create FedAvg strategy\n",
        "strategy_FedOptim = fl.server.strategy.FedProx(\n",
        "    proximal_mu=1.0,\n",
        "    fraction_fit=settings[\"FRACTION_FIT\"],\n",
        "    fraction_evaluate=settings[\"FRACTION_EVALUATE\"],\n",
        "    min_fit_clients=settings[\"MIN_FIT_CLIENTS\"],\n",
        "    min_evaluate_clients=settings[\"MIN_EVALUATE_CLIENTS\"],\n",
        "    min_available_clients=int(settings[\"NUM_CLIENTS\"] * settings[\"MIN_AVAILABLE_CLIENTS_FRACTION\"]),\n",
        "    evaluate_metrics_aggregation_fn=weighted_average,\n",
        "    evaluate_fn=get_evaluate_fn(centralized_testset),\n",
        ")\n",
        "\n",
        "strategy_FedProx = fl.server.strategy.FedProx(\n",
        "    proximal_mu=1.0,\n",
        "    fraction_fit=settings[\"FRACTION_FIT\"],\n",
        "    fraction_evaluate=settings[\"FRACTION_EVALUATE\"],\n",
        "    min_fit_clients=settings[\"MIN_FIT_CLIENTS\"],\n",
        "    min_evaluate_clients=settings[\"MIN_EVALUATE_CLIENTS\"],\n",
        "    min_available_clients=int(settings[\"NUM_CLIENTS\"] * settings[\"MIN_AVAILABLE_CLIENTS_FRACTION\"]),\n",
        "    evaluate_metrics_aggregation_fn=weighted_average,\n",
        "    evaluate_fn=get_evaluate_fn(centralized_testset),\n",
        ")\n",
        "\n",
        "strategy_FedAvg = fl.server.strategy.FedAvg(\n",
        "    fraction_fit=settings[\"FRACTION_FIT\"],\n",
        "    fraction_evaluate=settings[\"FRACTION_EVALUATE\"],\n",
        "    min_fit_clients=settings[\"MIN_FIT_CLIENTS\"],\n",
        "    min_evaluate_clients=settings[\"MIN_EVALUATE_CLIENTS\"],\n",
        "    min_available_clients=int(settings[\"NUM_CLIENTS\"] * settings[\"MIN_AVAILABLE_CLIENTS_FRACTION\"]),\n",
        "    evaluate_metrics_aggregation_fn=weighted_average,\n",
        "    evaluate_fn=get_evaluate_fn(centralized_testset),\n",
        ")\n",
        "\n",
        "# Selezione della strategia\n",
        "if settings[\"STRATEGY_TYPE\"] == 'FedProx':\n",
        "    strategy = strategy_FedProx\n",
        "elif settings[\"STRATEGY_TYPE\"] == 'FedOptim':\n",
        "    strategy = strategy_FedOptim\n",
        "else:\n",
        "    strategy = strategy_FedAvg\n",
        "\n",
        "# Configurazione delle risorse del client\n",
        "client_resources = {\"num_cpus\": 1, \"num_gpus\": 0.0}\n",
        "\n",
        "# Avvia la simulazione una volta\n",
        "history = fl.simulation.start_simulation(\n",
        "    client_fn=get_client_fn(mnist_fds),\n",
        "    num_clients=settings[\"NUM_CLIENTS\"],\n",
        "    config=fl.server.ServerConfig(num_rounds=settings[\"NUM_ROUNDS\"]),\n",
        "    strategy=strategy,\n",
        "    client_resources=client_resources,\n",
        "    actor_kwargs={\"on_actor_init_fn\": enable_tf_gpu_growth}  # Abilita la crescita della GPU durante l'inizializzazione dell'attore\n",
        ")"
      ],
      "metadata": {
        "colab": {
          "base_uri": "https://localhost:8080/"
        },
        "id": "6M_HYuC67-6_",
        "outputId": "e7786600-fd97-4df9-f5b4-8c61e0c3779d"
      },
      "execution_count": null,
      "outputs": [
        {
          "output_type": "stream",
          "name": "stderr",
          "text": [
            "INFO flwr 2024-03-05 16:17:19,439 | app.py:178 | Starting Flower simulation, config: ServerConfig(num_rounds=10, round_timeout=None)\n",
            "INFO:flwr:Starting Flower simulation, config: ServerConfig(num_rounds=10, round_timeout=None)\n",
            "2024-03-05 16:17:24,813\tINFO worker.py:1621 -- Started a local Ray instance.\n",
            "INFO flwr 2024-03-05 16:17:26,995 | app.py:213 | Flower VCE: Ray initialized with resources: {'memory': 7895315252.0, 'object_store_memory': 3947657625.0, 'CPU': 2.0, 'node:__internal_head__': 1.0, 'node:172.28.0.12': 1.0}\n",
            "INFO:flwr:Flower VCE: Ray initialized with resources: {'memory': 7895315252.0, 'object_store_memory': 3947657625.0, 'CPU': 2.0, 'node:__internal_head__': 1.0, 'node:172.28.0.12': 1.0}\n",
            "INFO flwr 2024-03-05 16:17:26,998 | app.py:219 | Optimize your simulation with Flower VCE: https://flower.dev/docs/framework/how-to-run-simulations.html\n",
            "INFO:flwr:Optimize your simulation with Flower VCE: https://flower.dev/docs/framework/how-to-run-simulations.html\n",
            "INFO flwr 2024-03-05 16:17:27,002 | app.py:242 | Flower VCE: Resources for each Virtual Client: {'num_cpus': 1, 'num_gpus': 0.0}\n",
            "INFO:flwr:Flower VCE: Resources for each Virtual Client: {'num_cpus': 1, 'num_gpus': 0.0}\n",
            "INFO flwr 2024-03-05 16:17:27,040 | app.py:288 | Flower VCE: Creating VirtualClientEngineActorPool with 2 actors\n",
            "INFO:flwr:Flower VCE: Creating VirtualClientEngineActorPool with 2 actors\n",
            "INFO flwr 2024-03-05 16:17:27,050 | server.py:89 | Initializing global parameters\n",
            "INFO:flwr:Initializing global parameters\n",
            "INFO flwr 2024-03-05 16:17:27,063 | server.py:276 | Requesting initial parameters from one random client\n",
            "INFO:flwr:Requesting initial parameters from one random client\n",
            "\u001b[2m\u001b[36m(pid=67534)\u001b[0m 2024-03-05 16:17:33.008142: E external/local_xla/xla/stream_executor/cuda/cuda_dnn.cc:9261] Unable to register cuDNN factory: Attempting to register factory for plugin cuDNN when one has already been registered\n",
            "\u001b[2m\u001b[36m(pid=67534)\u001b[0m 2024-03-05 16:17:33.008260: E external/local_xla/xla/stream_executor/cuda/cuda_fft.cc:607] Unable to register cuFFT factory: Attempting to register factory for plugin cuFFT when one has already been registered\n",
            "\u001b[2m\u001b[36m(pid=67534)\u001b[0m 2024-03-05 16:17:33.020943: E external/local_xla/xla/stream_executor/cuda/cuda_blas.cc:1515] Unable to register cuBLAS factory: Attempting to register factory for plugin cuBLAS when one has already been registered\n",
            "\u001b[2m\u001b[36m(pid=67534)\u001b[0m 2024-03-05 16:17:39.250060: W tensorflow/compiler/tf2tensorrt/utils/py_utils.cc:38] TF-TRT Warning: Could not find TensorRT\n",
            "\u001b[2m\u001b[36m(pid=67532)\u001b[0m 2024-03-05 16:17:33.012569: E external/local_xla/xla/stream_executor/cuda/cuda_dnn.cc:9261] Unable to register cuDNN factory: Attempting to register factory for plugin cuDNN when one has already been registered\n",
            "\u001b[2m\u001b[36m(pid=67532)\u001b[0m 2024-03-05 16:17:33.012603: E external/local_xla/xla/stream_executor/cuda/cuda_fft.cc:607] Unable to register cuFFT factory: Attempting to register factory for plugin cuFFT when one has already been registered\n",
            "\u001b[2m\u001b[36m(pid=67532)\u001b[0m 2024-03-05 16:17:33.014341: E external/local_xla/xla/stream_executor/cuda/cuda_blas.cc:1515] Unable to register cuBLAS factory: Attempting to register factory for plugin cuBLAS when one has already been registered\n",
            "INFO flwr 2024-03-05 16:17:42,481 | server.py:280 | Received initial parameters from one random client\n",
            "INFO:flwr:Received initial parameters from one random client\n",
            "INFO flwr 2024-03-05 16:17:42,485 | server.py:91 | Evaluating initial parameters\n",
            "INFO:flwr:Evaluating initial parameters\n"
          ]
        },
        {
          "output_type": "stream",
          "name": "stdout",
          "text": [
            "1579/1579 [==============================] - 20s 12ms/step - loss: 1.0796 - accuracy: 0.4450 - precision_14: 0.0000e+00 - recall_14: 0.0000e+00\n"
          ]
        },
        {
          "output_type": "stream",
          "name": "stderr",
          "text": [
            "INFO flwr 2024-03-05 16:18:03,609 | server.py:94 | initial parameters (loss, other metrics): 1.0796140432357788, {'accuracy': 0.44499316811561584, 'precision': 0.0, 'recall': 0.0}\n",
            "INFO:flwr:initial parameters (loss, other metrics): 1.0796140432357788, {'accuracy': 0.44499316811561584, 'precision': 0.0, 'recall': 0.0}\n",
            "INFO flwr 2024-03-05 16:18:03,612 | server.py:104 | FL starting\n",
            "INFO:flwr:FL starting\n",
            "DEBUG flwr 2024-03-05 16:18:03,617 | server.py:222 | fit_round 1: strategy sampled 80 clients (out of 100)\n",
            "DEBUG:flwr:fit_round 1: strategy sampled 80 clients (out of 100)\n",
            "DEBUG flwr 2024-03-05 16:20:53,998 | server.py:236 | fit_round 1 received 80 results and 0 failures\n",
            "DEBUG:flwr:fit_round 1 received 80 results and 0 failures\n",
            "WARNING flwr 2024-03-05 16:20:54,052 | fedavg.py:250 | No fit_metrics_aggregation_fn provided\n",
            "WARNING:flwr:No fit_metrics_aggregation_fn provided\n"
          ]
        },
        {
          "output_type": "stream",
          "name": "stdout",
          "text": [
            "1579/1579 [==============================] - 18s 11ms/step - loss: 0.3351 - accuracy: 0.8784 - precision_15: 0.8854 - recall_15: 0.8971\n"
          ]
        },
        {
          "output_type": "stream",
          "name": "stderr",
          "text": [
            "INFO flwr 2024-03-05 16:21:12,599 | server.py:125 | fit progress: (1, 0.3350878357887268, {'accuracy': 0.8784465789794922, 'precision': 0.885421633720398, 'recall': 0.8970737457275391}, 188.98185028599983)\n",
            "INFO:flwr:fit progress: (1, 0.3350878357887268, {'accuracy': 0.8784465789794922, 'precision': 0.885421633720398, 'recall': 0.8970737457275391}, 188.98185028599983)\n",
            "DEBUG flwr 2024-03-05 16:21:12,603 | server.py:173 | evaluate_round 1: strategy sampled 20 clients (out of 100)\n",
            "DEBUG:flwr:evaluate_round 1: strategy sampled 20 clients (out of 100)\n"
          ]
        },
        {
          "output_type": "stream",
          "name": "stdout",
          "text": [
            "\u001b[2m\u001b[36m(DefaultActor pid=67534)\u001b[0m \r1/7 [===>..........................] - ETA: 4s - loss: 0.2315 - accuracy: 0.9531 - precision_41: 0.9231 - recall_41: 1.0000\b\b\b\b\b\b\b\b\b\b\b\b\b\b\b\b\b\b\b\b\b\b\b\b\b\b\b\b\b\b\b\b\b\b\b\b\b\b\b\b\b\b\b\b\b\b\b\b\b\b\b\b\b\b\b\b\b\b\b\b\b\b\b\b\b\b\b\b\b\b\b\b\b\b\b\b\b\b\b\b\b\b\b\b\b\b\b\b\b\b\b\b\b\b\b\b\b\b\b\b\b\b\b\b\b\b\b\b\b\b\b\b\b\b\b\b\b\b\b\b\b\b\b\r3/7 [===========>..................] - ETA: 0s - loss: 0.3302 - accuracy: 0.8646 - precision_41: 0.8559 - recall_41: 0.9048\n",
            "7/7 [==============================] - 1s 20ms/step - loss: 0.3448 - accuracy: 0.8667 - precision_41: 0.8694 - recall_41: 0.8853\n",
            "1/7 [===>..........................] - ETA: 5s - loss: 0.2049 - accuracy: 0.9531 - precision_42: 0.9231 - recall_42: 1.0000\n",
            "5/7 [====================>.........] - ETA: 0s - loss: 0.2968 - accuracy: 0.8969 - precision_42: 0.8547 - recall_42: 0.9484\n",
            "7/7 [==============================] - ETA: 0s - loss: 0.3633 - accuracy: 0.8667 - precision_41: 0.8705 - recall_41: 0.8864\n",
            "7/7 [==============================] - 1s 23ms/step - loss: 0.3633 - accuracy: 0.8667 - precision_41: 0.8705 - recall_41: 0.8864\n",
            "7/7 [==============================] - 1s 17ms/step - loss: 0.2760 - accuracy: 0.9037 - precision_43: 0.9250 - recall_43: 0.9136\n",
            "3/7 [===========>..................] - ETA: 0s - loss: 0.3123 - accuracy: 0.8698 - precision_40: 0.9167 - recall_40: 0.8381\n",
            "7/7 [==============================] - 1s 25ms/step - loss: 0.3056 - accuracy: 0.8938 - precision_42: 0.8500 - recall_42: 0.9492\u001b[32m [repeated 2x across cluster]\u001b[0m\n",
            "4/7 [================>.............] - ETA: 0s - loss: 0.2761 - accuracy: 0.8906 - precision_45: 0.9220 - recall_45: 0.8844\n",
            "7/7 [==============================] - 1s 18ms/step - loss: 0.2713 - accuracy: 0.8889 - precision_45: 0.9112 - recall_45: 0.8824\n",
            "3/7 [===========>..................] - ETA: 0s - loss: 0.3139 - accuracy: 0.8958 - precision_44: 0.8957 - recall_44: 0.9279\n",
            "4/7 [================>.............] - ETA: 0s - loss: 0.3218 - accuracy: 0.9023 - precision_46: 0.9014 - recall_46: 0.9209\n",
            "1/7 [===>..........................] - ETA: 4s - loss: 0.2208 - accuracy: 0.9531 - precision_43: 0.9394 - recall_43: 0.9688\u001b[32m [repeated 5x across cluster]\u001b[0m\n",
            "7/7 [==============================] - 1s 19ms/step - loss: 0.3066 - accuracy: 0.8988 - precision_46: 0.9111 - recall_46: 0.9071\n",
            "7/7 [==============================] - 1s 17ms/step - loss: 0.3436 - accuracy: 0.8840 - precision_43: 0.8791 - recall_43: 0.9000\u001b[32m [repeated 3x across cluster]\u001b[0m\n",
            "7/7 [==============================] - 1s 19ms/step - loss: 0.3158 - accuracy: 0.8815 - precision_47: 0.8739 - recall_47: 0.9136\n",
            "4/7 [================>.............] - ETA: 0s - loss: 0.2850 - accuracy: 0.9023 - precision_45: 0.9032 - recall_45: 0.8960\n",
            "7/7 [==============================] - 1s 19ms/step - loss: 0.3133 - accuracy: 0.8889 - precision_44: 0.9087 - recall_44: 0.8970\n",
            "7/7 [==============================] - 1s 17ms/step - loss: 0.3694 - accuracy: 0.8617 - precision_49: 0.8622 - recall_49: 0.8858\n"
          ]
        },
        {
          "output_type": "stream",
          "name": "stderr",
          "text": [
            "DEBUG flwr 2024-03-05 16:21:27,905 | server.py:187 | evaluate_round 1 received 20 results and 0 failures\n",
            "DEBUG:flwr:evaluate_round 1 received 20 results and 0 failures\n",
            "DEBUG flwr 2024-03-05 16:21:27,908 | server.py:222 | fit_round 2: strategy sampled 80 clients (out of 100)\n",
            "DEBUG:flwr:fit_round 2: strategy sampled 80 clients (out of 100)\n"
          ]
        },
        {
          "output_type": "stream",
          "name": "stdout",
          "text": [
            "\u001b[2m\u001b[36m(DefaultActor pid=67534)\u001b[0m \r1/7 [===>..........................] - ETA: 5s - loss: 0.3527 - accuracy: 0.8906 - precision_50: 0.8750 - recall_50: 0.9459\b\b\b\b\b\b\b\b\b\b\b\b\b\b\b\b\b\b\b\b\b\b\b\b\b\b\b\b\b\b\b\b\b\b\b\b\b\b\b\b\b\b\b\b\b\b\b\b\b\b\b\b\b\b\b\b\b\b\b\b\b\b\b\b\b\b\b\b\b\b\b\b\b\b\b\b\b\b\b\b\b\b\b\b\b\b\b\b\b\b\b\b\b\b\b\b\b\b\b\b\b\b\b\b\b\b\b\b\b\b\b\b\b\b\b\b\b\b\b\b\b\b\b\r3/7 [===========>..................] - ETA: 0s - loss: 0.3495 - accuracy: 0.8906 - precision_50: 0.8807 - recall_50: 0.9231\n",
            "\u001b[2m\u001b[36m(DefaultActor pid=67532)\u001b[0m \r1/7 [===>..........................] - ETA: 4s - loss: 0.2438 - accuracy: 0.8906 - precision_48: 0.9500 - recall_48: 0.8837\u001b[32m [repeated 6x across cluster]\u001b[0m\n",
            "\u001b[2m\u001b[36m(DefaultActor pid=67532)\u001b[0m \b\b\b\b\b\b\b\b\b\b\b\b\b\b\b\b\b\b\b\b\b\b\b\b\b\b\b\b\b\b\b\b\b\b\b\b\b\b\b\b\b\b\b\b\b\b\b\b\b\b\b\b\b\b\b\b\b\b\b\b\b\b\b\b\b\b\b\b\b\b\b\b\b\b\b\b\b\b\b\b\b\b\b\b\b\b\b\b\b\b\b\b\b\b\b\b\b\b\b\b\b\b\b\b\b\b\b\b\b\b\b\b\b\b\b\b\b\b\b\b\b\b\b\r7/7 [==============================] - 1s 17ms/step - loss: 0.2931 - accuracy: 0.8938 - precision_45: 0.8932 - recall_45: 0.8976\n",
            "\u001b[2m\u001b[36m(DefaultActor pid=67534)\u001b[0m \b\b\b\b\b\b\b\b\b\b\b\b\b\b\b\b\b\b\b\b\b\b\b\b\b\b\b\b\b\b\b\b\b\b\b\b\b\b\b\b\b\b\b\b\b\b\b\b\b\b\b\b\b\b\b\b\b\b\b\b\b\b\b\b\b\b\b\b\b\b\b\b\b\b\b\b\b\b\b\b\b\b\b\b\b\b\b\b\b\b\b\b\b\b\b\b\b\b\b\b\b\b\b\b\b\b\b\b\b\b\b\b\b\b\b\b\b\b\b\b\b\b\b\r6/7 [========================>.....] - ETA: 0s - loss: 0.3391 - accuracy: 0.8932 - precision_50: 0.8894 - recall_50: 0.9190\b\b\b\b\b\b\b\b\b\b\b\b\b\b\b\b\b\b\b\b\b\b\b\b\b\b\b\b\b\b\b\b\b\b\b\b\b\b\b\b\b\b\b\b\b\b\b\b\b\b\b\b\b\b\b\b\b\b\b\b\b\b\b\b\b\b\b\b\b\b\b\b\b\b\b\b\b\b\b\b\b\b\b\b\b\b\b\b\b\b\b\b\b\b\b\b\b\b\b\b\b\b\b\b\b\b\b\b\b\b\b\b\b\b\b\b\b\b\b\b\b\b\b\r7/7 [==============================] - 1s 24ms/step - loss: 0.3367 - accuracy: 0.8938 - precision_50: 0.8874 - recall_50: 0.9234\n"
          ]
        },
        {
          "output_type": "stream",
          "name": "stderr",
          "text": [
            "DEBUG flwr 2024-03-05 16:24:22,281 | server.py:236 | fit_round 2 received 80 results and 0 failures\n",
            "DEBUG:flwr:fit_round 2 received 80 results and 0 failures\n"
          ]
        },
        {
          "output_type": "stream",
          "name": "stdout",
          "text": [
            "1579/1579 [==============================] - 19s 12ms/step - loss: 0.2996 - accuracy: 0.8940 - precision_16: 0.8846 - recall_16: 0.9303\n"
          ]
        },
        {
          "output_type": "stream",
          "name": "stderr",
          "text": [
            "INFO flwr 2024-03-05 16:24:41,583 | server.py:125 | fit progress: (2, 0.299630343914032, {'accuracy': 0.8940044641494751, 'precision': 0.8846460580825806, 'recall': 0.9303304553031921}, 397.9665921709993)\n",
            "INFO:flwr:fit progress: (2, 0.299630343914032, {'accuracy': 0.8940044641494751, 'precision': 0.8846460580825806, 'recall': 0.9303304553031921}, 397.9665921709993)\n",
            "DEBUG flwr 2024-03-05 16:24:41,587 | server.py:173 | evaluate_round 2: strategy sampled 20 clients (out of 100)\n",
            "DEBUG:flwr:evaluate_round 2: strategy sampled 20 clients (out of 100)\n"
          ]
        },
        {
          "output_type": "stream",
          "name": "stdout",
          "text": [
            "\u001b[2m\u001b[36m(DefaultActor pid=67532)\u001b[0m \b\b\b\b\b\b\b\b\b\b\b\b\b\b\b\b\b\b\b\b\b\b\b\b\b\b\b\b\b\b\b\b\b\b\b\b\b\b\b\b\b\b\b\b\b\b\b\b\b\b\b\b\b\b\b\b\b\b\b\b\b\b\b\b\b\b\b\b\b\b\b\b\b\b\b\b\b\b\b\b\b\b\b\b\b\b\b\b\b\b\b\b\b\b\b\b\b\b\b\b\b\b\b\b\b\b\b\b\b\b\b\b\b\b\b\b\b\b\b\b\b\b\b\r4/7 [================>.............] - ETA: 0s - loss: 0.2481 - accuracy: 0.9141 - precision_49: 0.8980 - recall_49: 0.9496\b\b\b\b\b\b\b\b\b\b\b\b\b\b\b\b\b\b\b\b\b\b\b\b\b\b\b\b\b\b\b\b\b\b\b\b\b\b\b\b\b\b\b\b\b\b\b\b\b\b\b\b\b\b\b\b\b\b\b\b\b\b\b\b\b\b\b\b\b\b\b\b\b\b\b\b\b\b\b\b\b\b\b\b\b\b\b\b\b\b\b\b\b\b\b\b\b\b\b\b\b\b\b\b\b\b\b\b\b\b\b\b\b\b\b\b\b\b\b\b\b\b\b\r7/7 [==============================] - 1s 17ms/step - loss: 0.2762 - accuracy: 0.8914 - precision_49: 0.8918 - recall_49: 0.9156\u001b[32m [repeated 5x across cluster]\u001b[0m\n",
            "\u001b[2m\u001b[36m(DefaultActor pid=67534)\u001b[0m \r1/7 [===>..........................] - ETA: 4s - loss: 0.3058 - accuracy: 0.9219 - precision_91: 0.8837 - recall_91: 1.0000\u001b[32m [repeated 2x across cluster]\u001b[0m\n",
            "7/7 [==============================] - 1s 20ms/step - loss: 0.3085 - accuracy: 0.8988 - precision_91: 0.8902 - recall_91: 0.9399\n",
            "4/7 [================>.............] - ETA: 0s - loss: 0.2695 - accuracy: 0.9180 - precision_93: 0.8931 - recall_93: 0.9726\n",
            "7/7 [==============================] - 1s 18ms/step - loss: 0.2645 - accuracy: 0.9185 - precision_93: 0.8912 - recall_93: 0.9682\n",
            "7/7 [==============================] - 1s 15ms/step - loss: 0.2711 - accuracy: 0.9012 - precision_92: 0.8776 - recall_92: 0.9556\n",
            "2/7 [=======>......................] - ETA: 0s - loss: 0.3012 - accuracy: 0.8984 - precision_94: 0.8750 - recall_94: 0.9403\n",
            "4/7 [================>.............] - ETA: 0s - loss: 0.2959 - accuracy: 0.8906 - precision_94: 0.8859 - recall_94: 0.9231\n",
            "7/7 [==============================] - 1s 18ms/step - loss: 0.2674 - accuracy: 0.9062 - precision_91: 0.8824 - recall_91: 0.9420\u001b[32m [repeated 3x across cluster]\u001b[0m\n",
            "1/7 [===>..........................] - ETA: 6s - loss: 0.1621 - accuracy: 0.9531 - precision_93: 1.0000 - recall_93: 0.9167\u001b[32m [repeated 7x across cluster]\u001b[0m\n",
            "3/7 [===========>..................] - ETA: 0s - loss: 0.2014 - accuracy: 0.9427 - precision_93: 0.9391 - recall_93: 0.9643\n",
            "7/7 [==============================] - 1s 36ms/step - loss: 0.2351 - accuracy: 0.9160 - precision_93: 0.9106 - recall_93: 0.9427\n",
            "6/7 [========================>.....] - ETA: 0s - loss: 0.2786 - accuracy: 0.9089 - precision_95: 0.9043 - recall_95: 0.9412\n",
            "7/7 [==============================] - 1s 20ms/step - loss: 0.2776 - accuracy: 0.9086 - precision_95: 0.9000 - recall_95: 0.9432\n",
            "4/7 [================>.............] - ETA: 0s - loss: 0.2890 - accuracy: 0.8984 - precision_94: 0.8904 - recall_94: 0.9286\n",
            "4/7 [================>.............] - ETA: 0s - loss: 0.2160 - accuracy: 0.9297 - precision_93: 0.9128 - recall_93: 0.9645\n",
            "7/7 [==============================] - 1s 18ms/step - loss: 0.2953 - accuracy: 0.8988 - precision_94: 0.8921 - recall_94: 0.9348\n",
            "7/7 [==============================] - 1s 41ms/step - loss: 0.3243 - accuracy: 0.8815 - precision_94: 0.8821 - recall_94: 0.9195\n",
            "3/7 [===========>..................] - ETA: 0s - loss: 0.2900 - accuracy: 0.9010 - precision_97: 0.8981 - recall_97: 0.9238\n",
            "7/7 [==============================] - 1s 20ms/step - loss: 0.3066 - accuracy: 0.8815 - precision_97: 0.8745 - recall_97: 0.9207\n",
            "7/7 [==============================] - 1s 18ms/step - loss: 0.2496 - accuracy: 0.9284 - precision_96: 0.9264 - recall_96: 0.9469\u001b[32m [repeated 3x across cluster]\u001b[0m\n",
            "1/7 [===>..........................] - ETA: 4s - loss: 0.3444 - accuracy: 0.8750 - precision_98: 0.8537 - recall_98: 0.9459\u001b[32m [repeated 5x across cluster]\u001b[0m\n",
            "6/7 [========================>.....] - ETA: 0s - loss: 0.2822 - accuracy: 0.8984 - precision_98: 0.9014 - recall_98: 0.9143\n",
            "7/7 [==============================] - 1s 21ms/step - loss: 0.2781 - accuracy: 0.8988 - precision_98: 0.9022 - recall_98: 0.9144\n",
            "4/7 [================>.............] - ETA: 0s - loss: 0.2825 - accuracy: 0.8789 - precision_100: 0.8667 - recall_100: 0.9220\n",
            "7/7 [==============================] - 1s 19ms/step - loss: 0.2930 - accuracy: 0.8790 - precision_100: 0.8595 - recall_100: 0.9327\n"
          ]
        },
        {
          "output_type": "stream",
          "name": "stderr",
          "text": [
            "DEBUG flwr 2024-03-05 16:24:56,830 | server.py:187 | evaluate_round 2 received 20 results and 0 failures\n",
            "DEBUG:flwr:evaluate_round 2 received 20 results and 0 failures\n",
            "DEBUG flwr 2024-03-05 16:24:56,833 | server.py:222 | fit_round 3: strategy sampled 80 clients (out of 100)\n",
            "DEBUG:flwr:fit_round 3: strategy sampled 80 clients (out of 100)\n"
          ]
        },
        {
          "output_type": "stream",
          "name": "stdout",
          "text": [
            "\u001b[2m\u001b[36m(DefaultActor pid=67532)\u001b[0m \r1/7 [===>..........................] - ETA: 3s - loss: 0.3616 - accuracy: 0.8594 - precision_99: 0.8529 - recall_99: 0.8788\b\b\b\b\b\b\b\b\b\b\b\b\b\b\b\b\b\b\b\b\b\b\b\b\b\b\b\b\b\b\b\b\b\b\b\b\b\b\b\b\b\b\b\b\b\b\b\b\b\b\b\b\b\b\b\b\b\b\b\b\b\b\b\b\b\b\b\b\b\b\b\b\b\b\b\b\b\b\b\b\b\b\b\b\b\b\b\b\b\b\b\b\b\b\b\b\b\b\b\b\b\b\b\b\b\b\b\b\b\b\b\b\b\b\b\b\b\b\b\b\b\b\b\r6/7 [========================>.....] - ETA: 0s - loss: 0.3026 - accuracy: 0.8906 - precision_99: 0.8889 - recall_99: 0.9286\b\b\b\b\b\b\b\b\b\b\b\b\b\b\b\b\b\b\b\b\b\b\b\b\b\b\b\b\b\b\b\b\b\b\b\b\b\b\b\b\b\b\b\b\b\b\b\b\b\b\b\b\b\b\b\b\b\b\b\b\b\b\b\b\b\b\b\b\b\b\b\b\b\b\b\b\b\b\b\b\b\b\b\b\b\b\b\b\b\b\b\b\b\b\b\b\b\b\b\b\b\b\b\b\b\b\b\b\b\b\b\b\b\b\b\b\b\b\b\b\b\b\b\r7/7 [==============================] - 1s 11ms/step - loss: 0.3148 - accuracy: 0.8864 - precision_99: 0.8790 - recall_99: 0.9316\n"
          ]
        },
        {
          "output_type": "stream",
          "name": "stderr",
          "text": [
            "DEBUG flwr 2024-03-05 16:28:02,313 | server.py:236 | fit_round 3 received 80 results and 0 failures\n",
            "DEBUG:flwr:fit_round 3 received 80 results and 0 failures\n"
          ]
        },
        {
          "output_type": "stream",
          "name": "stdout",
          "text": [
            "1579/1579 [==============================] - 20s 12ms/step - loss: 0.2842 - accuracy: 0.9013 - precision_17: 0.8885 - recall_17: 0.9402\n"
          ]
        },
        {
          "output_type": "stream",
          "name": "stderr",
          "text": [
            "INFO flwr 2024-03-05 16:28:22,021 | server.py:125 | fit progress: (3, 0.28421550989151, {'accuracy': 0.9013083577156067, 'precision': 0.8884526491165161, 'recall': 0.9402271509170532}, 618.4045050459999)\n",
            "INFO:flwr:fit progress: (3, 0.28421550989151, {'accuracy': 0.9013083577156067, 'precision': 0.8884526491165161, 'recall': 0.9402271509170532}, 618.4045050459999)\n",
            "DEBUG flwr 2024-03-05 16:28:22,026 | server.py:173 | evaluate_round 3: strategy sampled 20 clients (out of 100)\n",
            "DEBUG:flwr:evaluate_round 3: strategy sampled 20 clients (out of 100)\n"
          ]
        },
        {
          "output_type": "stream",
          "name": "stdout",
          "text": [
            "\u001b[2m\u001b[36m(DefaultActor pid=67532)\u001b[0m \b\b\b\b\b\b\b\b\b\b\b\b\b\b\b\b\b\b\b\b\b\b\b\b\b\b\b\b\b\b\b\b\b\b\b\b\b\b\b\b\b\b\b\b\b\b\b\b\b\b\b\b\b\b\b\b\b\b\b\b\b\b\b\b\b\b\b\b\b\b\b\b\b\b\b\b\b\b\b\b\b\b\b\b\b\b\b\b\b\b\b\b\b\b\b\b\b\b\b\b\b\b\b\b\b\b\b\b\b\b\b\b\b\b\b\b\b\b\b\b\b\b\b\r4/7 [================>.............] - ETA: 0s - loss: 0.2884 - accuracy: 0.9141 - precision_98: 0.8813 - recall_98: 0.9792\b\b\b\b\b\b\b\b\b\b\b\b\b\b\b\b\b\b\b\b\b\b\b\b\b\b\b\b\b\b\b\b\b\b\b\b\b\b\b\b\b\b\b\b\b\b\b\b\b\b\b\b\b\b\b\b\b\b\b\b\b\b\b\b\b\b\b\b\b\b\b\b\b\b\b\b\b\b\b\b\b\b\b\b\b\b\b\b\b\b\b\b\b\b\b\b\b\b\b\b\b\b\b\b\b\b\b\b\b\b\b\b\b\b\b\b\b\b\b\b\b\b\b\r7/7 [==============================] - 1s 21ms/step - loss: 0.2805 - accuracy: 0.9111 - precision_98: 0.8907 - recall_98: 0.9607\u001b[32m [repeated 3x across cluster]\u001b[0m\n",
            "\u001b[2m\u001b[36m(DefaultActor pid=67534)\u001b[0m \r1/7 [===>..........................] - ETA: 3s - loss: 0.1792 - accuracy: 0.9375 - precision_141: 0.9259 - recall_141: 0.9259\u001b[32m [repeated 4x across cluster]\u001b[0m\n",
            "\u001b[2m\u001b[36m(DefaultActor pid=67534)\u001b[0m \b\b\b\b\b\b\b\b\b\b\b\b\b\b\b\b\b\b\b\b\b\b\b\b\b\b\b\b\b\b\b\b\b\b\b\b\b\b\b\b\b\b\b\b\b\b\b\b\b\b\b\b\b\b\b\b\b\b\b\b\b\b\b\b\b\b\b\b\b\b\b\b\b\b\b\b\b\b\b\b\b\b\b\b\b\b\b\b\b\b\b\b\b\b\b\b\b\b\b\b\b\b\b\b\b\b\b\b\b\b\b\b\b\b\b\b\b\b\b\b\b\b\b\b\b\r4/7 [================>.............] - ETA: 0s - loss: 0.2606 - accuracy: 0.9141 - precision_141: 0.8750 - recall_141: 0.9692\n",
            "3/7 [===========>..................] - ETA: 0s - loss: 0.2713 - accuracy: 0.9167 - precision_140: 0.9027 - recall_140: 0.9533\n",
            "7/7 [==============================] - 1s 20ms/step - loss: 0.2774 - accuracy: 0.9012 - precision_141: 0.8730 - recall_141: 0.9595\n",
            "7/7 [==============================] - 1s 19ms/step - loss: 0.2515 - accuracy: 0.9235 - precision_140: 0.9142 - recall_140: 0.9509\n",
            "4/7 [================>.............] - ETA: 0s - loss: 0.2737 - accuracy: 0.9180 - precision_142: 0.9133 - recall_142: 0.9448\n",
            "3/7 [===========>..................] - ETA: 0s - loss: 0.3451 - accuracy: 0.8698 - precision_141: 0.8696 - recall_141: 0.9091\n",
            "7/7 [==============================] - 1s 20ms/step - loss: 0.2720 - accuracy: 0.9086 - precision_141: 0.9163 - recall_141: 0.9204\n",
            "7/7 [==============================] - 1s 17ms/step - loss: 0.3257 - accuracy: 0.8716 - precision_143: 0.8724 - recall_143: 0.9099\n",
            "7/7 [==============================] - 1s 20ms/step - loss: 0.2610 - accuracy: 0.9062 - precision_142: 0.8814 - recall_142: 0.9654\n",
            "3/7 [===========>..................] - ETA: 0s - loss: 0.2345 - accuracy: 0.9219 - precision_144: 0.8962 - recall_144: 0.9596\n",
            "1/7 [===>..........................] - ETA: 4s - loss: 0.3431 - accuracy: 0.8438 - precision_145: 0.8250 - recall_145: 0.9167\u001b[32m [repeated 5x across cluster]\u001b[0m\n",
            "7/7 [==============================] - 1s 18ms/step - loss: 0.2943 - accuracy: 0.9086 - precision_142: 0.9106 - recall_142: 0.9304\n",
            "7/7 [==============================] - 1s 20ms/step - loss: 0.3101 - accuracy: 0.8938 - precision_144: 0.8670 - recall_144: 0.9439\n",
            "4/7 [================>.............] - ETA: 0s - loss: 0.3402 - accuracy: 0.8828 - precision_144: 0.8552 - recall_144: 0.9323\u001b[32m [repeated 2x across cluster]\u001b[0m\n",
            "7/7 [==============================] - 1s 22ms/step - loss: 0.2747 - accuracy: 0.9111 - precision_144: 0.8945 - recall_144: 0.9507\n",
            "7/7 [==============================] - 1s 17ms/step - loss: 0.3317 - accuracy: 0.8765 - precision_146: 0.8735 - recall_146: 0.9247\n",
            "7/7 [==============================] - 1s 21ms/step - loss: 0.2367 - accuracy: 0.9037 - precision_145: 0.9017 - recall_145: 0.9295\u001b[32m [repeated 3x across cluster]\u001b[0m\n",
            "2/7 [=======>......................] - ETA: 0s - loss: 0.1903 - accuracy: 0.9375 - precision_146: 0.9176 - recall_146: 0.9873\n",
            "5/7 [====================>.........] - ETA: 0s - loss: 0.2638 - accuracy: 0.9156 - precision_147: 0.9027 - recall_147: 0.9489\n",
            "7/7 [==============================] - 1s 32ms/step - loss: 0.2649 - accuracy: 0.9136 - precision_147: 0.9053 - recall_147: 0.9483\n",
            "1/7 [===>..........................] - ETA: 4s - loss: 0.1790 - accuracy: 0.9531 - precision_148: 0.9250 - recall_148: 1.0000\u001b[32m [repeated 5x across cluster]\u001b[0m\n",
            "7/7 [==============================] - 1s 20ms/step - loss: 0.2179 - accuracy: 0.9333 - precision_148: 0.9231 - recall_148: 0.9600\n",
            "7/7 [==============================] - 1s 17ms/step - loss: 0.2621 - accuracy: 0.9086 - precision_147: 0.9030 - recall_147: 0.9386\u001b[32m [repeated 2x across cluster]\u001b[0m\n",
            "3/7 [===========>..................] - ETA: 0s - loss: 0.2168 - accuracy: 0.9219 - precision_148: 0.9143 - recall_148: 0.9412\n"
          ]
        },
        {
          "output_type": "stream",
          "name": "stderr",
          "text": [
            "DEBUG flwr 2024-03-05 16:28:37,140 | server.py:187 | evaluate_round 3 received 20 results and 0 failures\n",
            "DEBUG:flwr:evaluate_round 3 received 20 results and 0 failures\n",
            "DEBUG flwr 2024-03-05 16:28:37,146 | server.py:222 | fit_round 4: strategy sampled 80 clients (out of 100)\n",
            "DEBUG:flwr:fit_round 4: strategy sampled 80 clients (out of 100)\n"
          ]
        },
        {
          "output_type": "stream",
          "name": "stdout",
          "text": [
            "\u001b[2m\u001b[36m(DefaultActor pid=67534)\u001b[0m \r1/7 [===>..........................] - ETA: 4s - loss: 0.2741 - accuracy: 0.9219 - precision_150: 0.8864 - recall_150: 1.0000\b\b\b\b\b\b\b\b\b\b\b\b\b\b\b\b\b\b\b\b\b\b\b\b\b\b\b\b\b\b\b\b\b\b\b\b\b\b\b\b\b\b\b\b\b\b\b\b\b\b\b\b\b\b\b\b\b\b\b\b\b\b\b\b\b\b\b\b\b\b\b\b\b\b\b\b\b\b\b\b\b\b\b\b\b\b\b\b\b\b\b\b\b\b\b\b\b\b\b\b\b\b\b\b\b\b\b\b\b\b\b\b\b\b\b\b\b\b\b\b\b\b\b\b\b\r4/7 [================>.............] - ETA: 0s - loss: 0.2904 - accuracy: 0.9102 - precision_150: 0.8896 - recall_150: 0.9580\n",
            "\u001b[2m\u001b[36m(DefaultActor pid=67534)\u001b[0m \b\b\b\b\b\b\b\b\b\b\b\b\b\b\b\b\b\b\b\b\b\b\b\b\b\b\b\b\b\b\b\b\b\b\b\b\b\b\b\b\b\b\b\b\b\b\b\b\b\b\b\b\b\b\b\b\b\b\b\b\b\b\b\b\b\b\b\b\b\b\b\b\b\b\b\b\b\b\b\b\b\b\b\b\b\b\b\b\b\b\b\b\b\b\b\b\b\b\b\b\b\b\b\b\b\b\b\b\b\b\b\b\b\b\b\b\b\b\b\b\b\b\b\b\b\r7/7 [==============================] - 1s 18ms/step - loss: 0.2843 - accuracy: 0.9037 - precision_150: 0.8810 - recall_150: 0.9610\n"
          ]
        }
      ]
    },
    {
      "cell_type": "code",
      "execution_count": null,
      "metadata": {
        "id": "fa3sHQYT3eII"
      },
      "outputs": [],
      "source": [
        "import matplotlib.pyplot as plt\n",
        "from tabulate import tabulate\n",
        "\n",
        "# I dati dell'accuratezza\n",
        "print(f\"{history.metrics_centralized = }\")\n",
        "global_accuracy_centralised = history.metrics_centralized[\"accuracy\"]\n",
        "global_recall_centralised = history.metrics_centralized[\"recall\"]\n",
        "global_precision_centralised = history.metrics_centralized[\"precision\"]\n",
        "\n",
        "\n",
        "rounds = [data[0] for data in global_accuracy_centralised]\n",
        "accuracies = [data[1] for data in global_accuracy_centralised]\n",
        "recalls = [data[1] for data in global_recall_centralised]\n",
        "precisions = [data[1] for data in global_precision_centralised]\n",
        "losses = [t[1] for t in history.losses_centralized]\n",
        "\n",
        "# Calcoliamo gli F1 score\n",
        "f1_scores = []\n",
        "for precision, recall in zip(precisions, recalls):\n",
        "    if precision == 0 or recall == 0:\n",
        "        f1_scores.append(0)\n",
        "    else:\n",
        "        f1_scores.append(2 * (precision * recall) / (precision + recall))\n",
        "\n",
        "# Plot\n",
        "plt.plot(rounds, accuracies, label=\"Accuracy\")\n",
        "plt.plot(rounds, recalls, label=\"Recall\")\n",
        "plt.plot(rounds, precisions, label=\"Precision\")\n",
        "plt.plot(rounds, f1_scores, label=\"F1 Score\")\n",
        "\n",
        "plt.grid()\n",
        "plt.ylabel(\"Percentage\")\n",
        "plt.xlabel(\"Round\")\n",
        "plt.title(str(settings['NUM_CLIENTS']) + ' clients with ' + str(int(settings['FRACTION_FIT']*settings['NUM_CLIENTS'])) + ' clients per round, with strategy ' + settings['STRATEGY_TYPE'])\n",
        "plt.legend()\n",
        "plt.show()\n",
        "\n",
        "# Tabella\n",
        "data_table = [[\"Round\", \"Loss\", \"Accuracy (%)\", \"Precision\", \"Recall\", \"F1_score\"]] + [[r, l, a, p, rec, f1] for r, l, a, p, rec, f1 in zip(rounds, losses, accuracies, precisions, recalls, f1_scores)]\n",
        "table = tabulate(data_table, headers=\"firstrow\", tablefmt=\"fancy_grid\")\n",
        "print(table)\n",
        "\n",
        "print(losses)"
      ]
    }
  ],
  "metadata": {
    "colab": {
      "provenance": [],
      "gpuType": "T4",
      "include_colab_link": true
    },
    "kernelspec": {
      "display_name": "Python 3",
      "name": "python3"
    },
    "accelerator": "GPU"
  },
  "nbformat": 4,
  "nbformat_minor": 0
}