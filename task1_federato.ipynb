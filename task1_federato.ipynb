{
  "cells": [
    {
      "cell_type": "markdown",
      "metadata": {
        "id": "view-in-github",
        "colab_type": "text"
      },
      "source": [
        "<a href=\"https://colab.research.google.com/github/AnastasiaBrinati/Progetto-ML-23-24/blob/main/task1_federato.ipynb\" target=\"_parent\"><img src=\"https://colab.research.google.com/assets/colab-badge.svg\" alt=\"Open In Colab\"/></a>"
      ]
    },
    {
      "cell_type": "code",
      "source": [
        "!pip install -q flwr[\"simulation\"] tensorflow\n",
        "!pip install -q flwr_datasets[\"vision\"]\n",
        "!pip install matplotlib\n",
        "\n",
        "from typing import Dict, List, Tuple\n",
        "import tensorflow as tf\n",
        "import flwr as fl\n",
        "from flwr.common import Metrics\n",
        "from flwr.simulation.ray_transport.utils import enable_tf_gpu_growth\n",
        "from datasets import Dataset\n",
        "from flwr_datasets import FederatedDataset\n",
        "from keras.initializers import RandomNormal, he_normal, glorot_normal, he_uniform, glorot_uniform"
      ],
      "metadata": {
        "colab": {
          "base_uri": "https://localhost:8080/"
        },
        "id": "c1tJ8LG1hr7Z",
        "outputId": "a370d4ee-603a-4ccd-b7a9-056aa4837cc5"
      },
      "execution_count": 52,
      "outputs": [
        {
          "output_type": "stream",
          "name": "stderr",
          "text": [
            "/usr/local/lib/python3.10/dist-packages/ipykernel/ipkernel.py:283: DeprecationWarning: `should_run_async` will not call `transform_cell` automatically in the future. Please pass the result to `transformed_cell` argument and any exception that happen during thetransform in `preprocessing_exc_tuple` in IPython 7.17 and above.\n",
            "  and should_run_async(code)\n"
          ]
        },
        {
          "output_type": "stream",
          "name": "stdout",
          "text": [
            "Requirement already satisfied: matplotlib in /usr/local/lib/python3.10/dist-packages (3.7.1)\n",
            "Requirement already satisfied: contourpy>=1.0.1 in /usr/local/lib/python3.10/dist-packages (from matplotlib) (1.2.0)\n",
            "Requirement already satisfied: cycler>=0.10 in /usr/local/lib/python3.10/dist-packages (from matplotlib) (0.12.1)\n",
            "Requirement already satisfied: fonttools>=4.22.0 in /usr/local/lib/python3.10/dist-packages (from matplotlib) (4.49.0)\n",
            "Requirement already satisfied: kiwisolver>=1.0.1 in /usr/local/lib/python3.10/dist-packages (from matplotlib) (1.4.5)\n",
            "Requirement already satisfied: numpy>=1.20 in /usr/local/lib/python3.10/dist-packages (from matplotlib) (1.25.2)\n",
            "Requirement already satisfied: packaging>=20.0 in /usr/local/lib/python3.10/dist-packages (from matplotlib) (23.2)\n",
            "Requirement already satisfied: pillow>=6.2.0 in /usr/local/lib/python3.10/dist-packages (from matplotlib) (9.4.0)\n",
            "Requirement already satisfied: pyparsing>=2.3.1 in /usr/local/lib/python3.10/dist-packages (from matplotlib) (3.1.1)\n",
            "Requirement already satisfied: python-dateutil>=2.7 in /usr/local/lib/python3.10/dist-packages (from matplotlib) (2.8.2)\n",
            "Requirement already satisfied: six>=1.5 in /usr/local/lib/python3.10/dist-packages (from python-dateutil>=2.7->matplotlib) (1.16.0)\n"
          ]
        }
      ]
    },
    {
      "cell_type": "code",
      "execution_count": 53,
      "metadata": {
        "id": "wr1W-6_43eIE"
      },
      "outputs": [],
      "source": [
        "# Simulation parameters\n",
        "settings = {\n",
        "    \"VERBOSE\": 0,\n",
        "    \"NUM_CLIENTS\": 100,\n",
        "    \"FRACTION_FIT\": 0.1,\n",
        "    \"FRACTION_EVALUATE\": 0.05,\n",
        "    \"MIN_FIT_CLIENTS\": 10,\n",
        "    \"MIN_EVALUATE_CLIENTS\": 5,\n",
        "    \"MIN_AVAILABLE_CLIENTS_FRACTION\": 0.75,\n",
        "    \"STRATEGY_TYPE\": 'FedOptim', # FedOptim, FedAvg, FedProx\n",
        "    \"NUM_ROUNDS\": 10\n",
        "}"
      ]
    },
    {
      "cell_type": "code",
      "execution_count": 54,
      "metadata": {
        "id": "Z778yKgU3eIF",
        "outputId": "a827bc06-5cb7-4a15-92ec-7c7d005db75c",
        "colab": {
          "base_uri": "https://localhost:8080/"
        }
      },
      "outputs": [
        {
          "output_type": "stream",
          "name": "stdout",
          "text": [
            "Requirement already satisfied: tensorflow-addons in /usr/local/lib/python3.10/dist-packages (0.23.0)\n",
            "Requirement already satisfied: packaging in /usr/local/lib/python3.10/dist-packages (from tensorflow-addons) (23.2)\n",
            "Requirement already satisfied: typeguard<3.0.0,>=2.7 in /usr/local/lib/python3.10/dist-packages (from tensorflow-addons) (2.13.3)\n"
          ]
        }
      ],
      "source": [
        "import tensorflow as tf\n",
        "from tensorflow.keras.initializers import he_normal, glorot_normal\n",
        "from tensorflow.keras.layers import Input, Dense, concatenate, Flatten\n",
        "!pip install tensorflow-addons\n",
        "from tensorflow_addons.metrics import F1Score\n",
        "\n",
        "def get_model():\n",
        "    \"\"\"Constructs a model suitable for features.\"\"\"\n",
        "    # Define input layers\n",
        "    Support_Calls_input = Input(shape=(1,), name='Support Calls')\n",
        "    Payment_Delay_input = Input(shape=(1,), name='Payment Delay')\n",
        "    Usage_Frequency_input = Input(shape=(1,), name='Usage Frequency')\n",
        "    Total_Spend_input = Input(shape=(1,), name='Total Spend')\n",
        "    Last_Interaction_input = Input(shape=(1,), name='Last Interaction')\n",
        "    Age_18_25_input = Input(shape=(1,), name='Age_binned_(18.0, 25.0]')\n",
        "    Age_25_35_input = Input(shape=(1,), name='Age_binned_(25.0, 35.0]')\n",
        "    Age_35_50_input = Input(shape=(1,), name='Age_binned_(35.0, 50.0]')\n",
        "    Age_50_60_input = Input(shape=(1,), name='Age_binned_(50.0, 60.0]')\n",
        "    Age_60_70_input = Input(shape=(1,), name='Age_binned_(60.0, 70.0]')\n",
        "    Age_nan_input = Input(shape=(1,), name='Age_binned_nan')\n",
        "    Contract_Length_Annual_input = Input(shape=(1,), name='Contract Length_Annual')\n",
        "    Contract_Length_Monthly_input = Input(shape=(1,), name='Contract Length_Monthly')\n",
        "    Contract_Length_Quarterly_input = Input(shape=(1,), name='Contract Length_Quarterly')\n",
        "    Contract_Length_nan_input = Input(shape=(1,), name='Contract Length_nan')\n",
        "    Gender_Female_input = Input(shape=(1,), name='Gender_Female')\n",
        "    Gender_Male_input = Input(shape=(1,), name='Gender_Male')\n",
        "    Gender_nan_input = Input(shape=(1,), name='Gender_nan')\n",
        "    Subscription_Type_Basic_input = Input(shape=(1,), name='Subscription Type_Basic')\n",
        "    Subscription_Type_Premium_input = Input(shape=(1,), name='Subscription Type_Premium')\n",
        "    Subscription_Type_Standard_input = Input(shape=(1,), name='Subscription Type_Standard')\n",
        "    Subscription_Type_nan_input = Input(shape=(1,), name='Subscription Type_nan')\n",
        "\n",
        "    # Concatenate the input tensors\n",
        "    concatenated_inputs = concatenate([\n",
        "        Support_Calls_input, Payment_Delay_input, Usage_Frequency_input, Total_Spend_input, Last_Interaction_input,\n",
        "        Age_18_25_input, Age_25_35_input, Age_35_50_input, Age_50_60_input, Age_60_70_input, Age_nan_input,\n",
        "        Contract_Length_Annual_input, Contract_Length_Monthly_input, Contract_Length_Quarterly_input, Contract_Length_nan_input,\n",
        "        Gender_Female_input, Gender_Male_input, Gender_nan_input,\n",
        "        Subscription_Type_Basic_input, Subscription_Type_Premium_input, Subscription_Type_Standard_input, Subscription_Type_nan_input\n",
        "    ])\n",
        "\n",
        "    # Define the rest of the model\n",
        "    x = Flatten()(concatenated_inputs)\n",
        "    x = Dense(80, activation=\"PReLU\", kernel_initializer=he_normal())(x)\n",
        "    x = Dense(64, activation=\"relu\", kernel_initializer=he_normal())(x)\n",
        "    x = Dense(16, activation=\"tanh\", kernel_initializer=he_normal())(x)\n",
        "    x = Dense(32, activation=\"sigmoid\", kernel_initializer=glorot_normal())(x)\n",
        "    output = Dense(1, activation=\"sigmoid\", kernel_initializer=glorot_normal())(x)\n",
        "\n",
        "    # Construct the model\n",
        "    model = tf.keras.models.Model(inputs=[\n",
        "        Support_Calls_input, Payment_Delay_input, Usage_Frequency_input, Total_Spend_input, Last_Interaction_input,\n",
        "        Age_18_25_input, Age_25_35_input, Age_35_50_input, Age_50_60_input, Age_60_70_input, Age_nan_input,\n",
        "        Contract_Length_Annual_input, Contract_Length_Monthly_input, Contract_Length_Quarterly_input, Contract_Length_nan_input,\n",
        "        Gender_Female_input, Gender_Male_input, Gender_nan_input,\n",
        "        Subscription_Type_Basic_input, Subscription_Type_Premium_input, Subscription_Type_Standard_input, Subscription_Type_nan_input\n",
        "    ], outputs=output)\n",
        "\n",
        "    # Compile the model with accuracy, precision, recall, and F1-score metrics\n",
        "    model.compile(optimizer=\"adam\", loss=\"binary_crossentropy\", metrics=[\"accuracy\", tf.keras.metrics.Precision(), tf.keras.metrics.Recall()])\n",
        "    return model\n"
      ]
    },
    {
      "cell_type": "code",
      "execution_count": 55,
      "metadata": {
        "id": "CreaAmfK3eIG"
      },
      "outputs": [],
      "source": [
        "class FlowerClient(fl.client.NumPyClient):\n",
        "    def __init__(self, trainset, valset) -> None:\n",
        "        # Create model\n",
        "        self.model = get_model()\n",
        "        self.trainset = trainset\n",
        "        self.valset = valset\n",
        "\n",
        "    def get_parameters(self, config):\n",
        "        return self.model.get_weights()\n",
        "\n",
        "    def fit(self, parameters, config):\n",
        "        self.model.set_weights(parameters)\n",
        "        self.model.fit(self.trainset, epochs=1, verbose=settings['VERBOSE'])\n",
        "        return self.model.get_weights(), len(self.trainset), {}\n",
        "\n",
        "    def evaluate(self, parameters, config):\n",
        "        self.model.set_weights(parameters)\n",
        "        results = self.model.evaluate(self.valset)\n",
        "\n",
        "        loss = results[0]\n",
        "        accuracy = results[1]\n",
        "        precision = results[2]\n",
        "        recall = results[3]\n",
        "\n",
        "\n",
        "        return loss, len(self.valset), {\"accuracy\": accuracy, \"precision\":precision, \"recall\":recall}"
      ]
    },
    {
      "cell_type": "code",
      "source": [
        "# Download MNIST dataset and partition it\n",
        "mnist_fds = FederatedDataset(dataset=\"giulioappetito/churn_dataset_giulioappetito\", partitioners={\"train\": settings['NUM_CLIENTS']})\n",
        "# Get the whole test set for centralised evaluation\n",
        "centralized_testset = mnist_fds.load_full(\"test\").to_tf_dataset(\n",
        "  columns=[\n",
        "            'Support Calls',\n",
        "            'Payment Delay',\n",
        "            'Usage Frequency',\n",
        "            'Total Spend',\n",
        "            'Last Interaction',\n",
        "            'Age_binned_(18.0, 25.0]',\n",
        "            'Age_binned_(25.0, 35.0]',\n",
        "            'Age_binned_(35.0, 50.0]',\n",
        "            'Age_binned_(50.0, 60.0]',\n",
        "            'Age_binned_(60.0, 70.0]',\n",
        "            'Age_binned_nan',\n",
        "            'Contract Length_Annual',\n",
        "            'Contract Length_Monthly',\n",
        "            'Contract Length_Quarterly',\n",
        "            'Contract Length_nan',\n",
        "            'Gender_Female',\n",
        "            'Gender_Male',\n",
        "            'Gender_nan',\n",
        "            'Subscription Type_Basic',\n",
        "            'Subscription Type_Premium',\n",
        "            'Subscription Type_Standard',\n",
        "            'Subscription Type_nan'\n",
        "        ],\n",
        "        label_cols=\"Churn\", batch_size=64\n",
        "    )"
      ],
      "metadata": {
        "id": "b3QVqYkdWxQw",
        "colab": {
          "base_uri": "https://localhost:8080/"
        },
        "outputId": "1ab12105-f10b-4be2-964e-e407a5d89815"
      },
      "execution_count": 56,
      "outputs": [
        {
          "output_type": "stream",
          "name": "stderr",
          "text": [
            "/usr/local/lib/python3.10/dist-packages/flwr_datasets/utils.py:84: UserWarning: The currently tested dataset are ['mnist', 'cifar10', 'fashion_mnist', 'sasha/dog-food', 'zh-plus/tiny-imagenet']. Given: giulioappetito/churn_dataset_giulioappetito.\n",
            "  warnings.warn(\n"
          ]
        }
      ]
    },
    {
      "cell_type": "code",
      "execution_count": 57,
      "metadata": {
        "id": "BJYjw7yt3eIH"
      },
      "outputs": [],
      "source": [
        "# @title\n",
        "def get_client_fn(dataset: FederatedDataset):\n",
        "    \"\"\"Return a function to construct a client.\n",
        "\n",
        "    The VirtualClientEngine will execute this function whenever a client is sampled by\n",
        "    the strategy to participate.\n",
        "    \"\"\"\n",
        "\n",
        "    def client_fn(cid: str) -> fl.client.Client:\n",
        "        \"\"\"Construct a FlowerClient with its own dataset partition.\"\"\"\n",
        "\n",
        "        # Extract partition for client with id = cid\n",
        "        client_dataset = dataset.load_partition(int(cid), \"train\")\n",
        "\n",
        "        # Now let's split it into train (90%) and validation (10%)\n",
        "        client_dataset_splits = client_dataset.train_test_split(test_size=0.1)\n",
        "        trainset = client_dataset_splits[\"train\"].to_tf_dataset(\n",
        "            columns=[\n",
        "                'Support Calls',\n",
        "                'Payment Delay',\n",
        "                'Usage Frequency',\n",
        "                'Total Spend',\n",
        "                'Last Interaction',\n",
        "                'Age_binned_(18.0, 25.0]',\n",
        "                'Age_binned_(25.0, 35.0]',\n",
        "                'Age_binned_(35.0, 50.0]',\n",
        "                'Age_binned_(50.0, 60.0]',\n",
        "                'Age_binned_(60.0, 70.0]',\n",
        "                'Age_binned_nan',\n",
        "                'Contract Length_Annual',\n",
        "                'Contract Length_Monthly',\n",
        "                'Contract Length_Quarterly',\n",
        "                'Contract Length_nan',\n",
        "                'Gender_Female',\n",
        "                'Gender_Male',\n",
        "                'Gender_nan',\n",
        "                'Subscription Type_Basic',\n",
        "                'Subscription Type_Premium',\n",
        "                'Subscription Type_Standard',\n",
        "                'Subscription Type_nan'\n",
        "            ],\n",
        "            label_cols=\"Churn\", batch_size=32\n",
        "        )\n",
        "        valset = client_dataset_splits[\"test\"].to_tf_dataset(\n",
        "            columns=[\n",
        "                'Support Calls',\n",
        "                'Payment Delay',\n",
        "                'Usage Frequency',\n",
        "                'Total Spend',\n",
        "                'Last Interaction',\n",
        "                'Age_binned_(18.0, 25.0]',\n",
        "                'Age_binned_(25.0, 35.0]',\n",
        "                'Age_binned_(35.0, 50.0]',\n",
        "                'Age_binned_(50.0, 60.0]',\n",
        "                'Age_binned_(60.0, 70.0]',\n",
        "                'Age_binned_nan',\n",
        "                'Contract Length_Annual',\n",
        "                'Contract Length_Monthly',\n",
        "                'Contract Length_Quarterly',\n",
        "                'Contract Length_nan',\n",
        "                'Gender_Female',\n",
        "                'Gender_Male',\n",
        "                'Gender_nan',\n",
        "                'Subscription Type_Basic',\n",
        "                'Subscription Type_Premium',\n",
        "                'Subscription Type_Standard',\n",
        "                'Subscription Type_nan'\n",
        "            ],\n",
        "            label_cols=\"Churn\", batch_size=64\n",
        "        )\n",
        "\n",
        "        # Create and return client\n",
        "        return FlowerClient(trainset, valset).to_client()\n",
        "\n",
        "    return client_fn\n",
        "\n",
        "\n",
        "def weighted_average(metrics: List[Tuple[int, Metrics]]) -> Metrics:\n",
        "    \"\"\"Aggregation function for (federated) evaluation metrics, i.e. those returned by\n",
        "    the client's evaluate() method.\"\"\"\n",
        "    # Multiply accuracy of each client by number of examples used\n",
        "    accuracies = [num_examples * m[\"accuracy\"] for num_examples, m in metrics]\n",
        "    precisions = [num_examples * m[\"precision\"] for num_examples, m in metrics]\n",
        "    recalls = [num_examples * m[\"recall\"] for num_examples, m in metrics]\n",
        "    examples = [num_examples for num_examples, _ in metrics]\n",
        "\n",
        "    # Aggregate and return custom metric (weighted average)\n",
        "    return {\"accuracy\": sum(accuracies) / sum(examples), \"precision\":sum(precisions) / sum(examples),\"recall\":sum(recalls) / sum(examples)}\n",
        "\n",
        "\n",
        "def get_evaluate_fn(testset: Dataset):\n",
        "    \"\"\"Return an evaluation function for server-side (i.e. centralised) evaluation.\"\"\"\n",
        "\n",
        "    # The `evaluate` function will be called after every round by the strategy\n",
        "    def evaluate(\n",
        "        server_round: int,\n",
        "        parameters: fl.common.NDArrays,\n",
        "        config: Dict[str, fl.common.Scalar],\n",
        "    ):\n",
        "        model = get_model()  # Construct the model\n",
        "        model.set_weights(parameters)  # Update model with the latest parameters\n",
        "        results = model.evaluate(testset)\n",
        "        loss = results[0]\n",
        "        return loss, {\"accuracy\": results[1], \"precision\":results[2], \"recall\":results[3]}\n",
        "\n",
        "    return evaluate\n"
      ]
    },
    {
      "cell_type": "code",
      "source": [
        "# Create FedAvg strategy\n",
        "strategy_FedOptim = fl.server.strategy.FedProx(\n",
        "    proximal_mu=1.0,\n",
        "    fraction_fit=settings[\"FRACTION_FIT\"],\n",
        "    fraction_evaluate=settings[\"FRACTION_EVALUATE\"],\n",
        "    min_fit_clients=settings[\"MIN_FIT_CLIENTS\"],\n",
        "    min_evaluate_clients=settings[\"MIN_EVALUATE_CLIENTS\"],\n",
        "    min_available_clients=int(settings[\"NUM_CLIENTS\"] * settings[\"MIN_AVAILABLE_CLIENTS_FRACTION\"]),\n",
        "    evaluate_metrics_aggregation_fn=weighted_average,\n",
        "    evaluate_fn=get_evaluate_fn(centralized_testset),\n",
        ")\n",
        "\n",
        "strategy_FedProx = fl.server.strategy.FedProx(\n",
        "    proximal_mu=1.0,\n",
        "    fraction_fit=settings[\"FRACTION_FIT\"],\n",
        "    fraction_evaluate=settings[\"FRACTION_EVALUATE\"],\n",
        "    min_fit_clients=settings[\"MIN_FIT_CLIENTS\"],\n",
        "    min_evaluate_clients=settings[\"MIN_EVALUATE_CLIENTS\"],\n",
        "    min_available_clients=int(settings[\"NUM_CLIENTS\"] * settings[\"MIN_AVAILABLE_CLIENTS_FRACTION\"]),\n",
        "    evaluate_metrics_aggregation_fn=weighted_average,\n",
        "    evaluate_fn=get_evaluate_fn(centralized_testset),\n",
        ")\n",
        "\n",
        "strategy_FedAvg = fl.server.strategy.FedAvg(\n",
        "    fraction_fit=settings[\"FRACTION_FIT\"],\n",
        "    fraction_evaluate=settings[\"FRACTION_EVALUATE\"],\n",
        "    min_fit_clients=settings[\"MIN_FIT_CLIENTS\"],\n",
        "    min_evaluate_clients=settings[\"MIN_EVALUATE_CLIENTS\"],\n",
        "    min_available_clients=int(settings[\"NUM_CLIENTS\"] * settings[\"MIN_AVAILABLE_CLIENTS_FRACTION\"]),\n",
        "    evaluate_metrics_aggregation_fn=weighted_average,\n",
        "    evaluate_fn=get_evaluate_fn(centralized_testset),\n",
        ")\n",
        "\n",
        "# Selezione della strategia\n",
        "if settings[\"STRATEGY_TYPE\"] == 'FedProx':\n",
        "    strategy = strategy_FedProx\n",
        "elif settings[\"STRATEGY_TYPE\"] == 'FedOptim':\n",
        "    strategy = strategy_FedOptim\n",
        "else:\n",
        "    strategy = strategy_FedAvg\n",
        "\n",
        "# Configurazione delle risorse del client\n",
        "client_resources = {\"num_cpus\": 1, \"num_gpus\": 0.0}\n",
        "\n",
        "# Avvia la simulazione una volta\n",
        "history = fl.simulation.start_simulation(\n",
        "    client_fn=get_client_fn(mnist_fds),\n",
        "    num_clients=settings[\"NUM_CLIENTS\"],\n",
        "    config=fl.server.ServerConfig(num_rounds=settings[\"NUM_ROUNDS\"]),\n",
        "    strategy=strategy,\n",
        "    client_resources=client_resources,\n",
        "    actor_kwargs={\"on_actor_init_fn\": enable_tf_gpu_growth}  # Abilita la crescita della GPU durante l'inizializzazione dell'attore\n",
        ")"
      ],
      "metadata": {
        "colab": {
          "base_uri": "https://localhost:8080/"
        },
        "id": "6M_HYuC67-6_",
        "outputId": "0735f956-51f8-403e-9f05-4e14f11ab029"
      },
      "execution_count": 60,
      "outputs": [
        {
          "output_type": "stream",
          "name": "stderr",
          "text": [
            "INFO flwr 2024-02-29 10:53:51,296 | app.py:178 | Starting Flower simulation, config: ServerConfig(num_rounds=10, round_timeout=None)\n",
            "INFO:flwr:Starting Flower simulation, config: ServerConfig(num_rounds=10, round_timeout=None)\n",
            "2024-02-29 10:53:57,190\tINFO worker.py:1621 -- Started a local Ray instance.\n",
            "INFO flwr 2024-02-29 10:54:00,898 | app.py:213 | Flower VCE: Ray initialized with resources: {'memory': 7834973799.0, 'object_store_memory': 3917486899.0, 'node:172.28.0.12': 1.0, 'node:__internal_head__': 1.0, 'CPU': 2.0}\n",
            "INFO:flwr:Flower VCE: Ray initialized with resources: {'memory': 7834973799.0, 'object_store_memory': 3917486899.0, 'node:172.28.0.12': 1.0, 'node:__internal_head__': 1.0, 'CPU': 2.0}\n",
            "INFO flwr 2024-02-29 10:54:00,907 | app.py:219 | Optimize your simulation with Flower VCE: https://flower.dev/docs/framework/how-to-run-simulations.html\n",
            "INFO:flwr:Optimize your simulation with Flower VCE: https://flower.dev/docs/framework/how-to-run-simulations.html\n",
            "INFO flwr 2024-02-29 10:54:00,919 | app.py:242 | Flower VCE: Resources for each Virtual Client: {'num_cpus': 1, 'num_gpus': 0.0}\n",
            "INFO:flwr:Flower VCE: Resources for each Virtual Client: {'num_cpus': 1, 'num_gpus': 0.0}\n",
            "INFO flwr 2024-02-29 10:54:01,000 | app.py:288 | Flower VCE: Creating VirtualClientEngineActorPool with 2 actors\n",
            "INFO:flwr:Flower VCE: Creating VirtualClientEngineActorPool with 2 actors\n",
            "INFO flwr 2024-02-29 10:54:01,007 | server.py:89 | Initializing global parameters\n",
            "INFO:flwr:Initializing global parameters\n",
            "INFO flwr 2024-02-29 10:54:01,018 | server.py:276 | Requesting initial parameters from one random client\n",
            "INFO:flwr:Requesting initial parameters from one random client\n",
            "\u001b[2m\u001b[36m(pid=52764)\u001b[0m 2024-02-29 10:54:11.105291: E external/local_xla/xla/stream_executor/cuda/cuda_dnn.cc:9261] Unable to register cuDNN factory: Attempting to register factory for plugin cuDNN when one has already been registered\n",
            "\u001b[2m\u001b[36m(pid=52764)\u001b[0m 2024-02-29 10:54:11.105388: E external/local_xla/xla/stream_executor/cuda/cuda_fft.cc:607] Unable to register cuFFT factory: Attempting to register factory for plugin cuFFT when one has already been registered\n",
            "\u001b[2m\u001b[36m(pid=52764)\u001b[0m 2024-02-29 10:54:11.110302: E external/local_xla/xla/stream_executor/cuda/cuda_blas.cc:1515] Unable to register cuBLAS factory: Attempting to register factory for plugin cuBLAS when one has already been registered\n",
            "\u001b[2m\u001b[36m(pid=52764)\u001b[0m 2024-02-29 10:54:16.063066: W tensorflow/compiler/tf2tensorrt/utils/py_utils.cc:38] TF-TRT Warning: Could not find TensorRT\n",
            "\u001b[2m\u001b[36m(pid=52765)\u001b[0m 2024-02-29 10:54:11.877949: E external/local_xla/xla/stream_executor/cuda/cuda_dnn.cc:9261] Unable to register cuDNN factory: Attempting to register factory for plugin cuDNN when one has already been registered\n",
            "\u001b[2m\u001b[36m(pid=52765)\u001b[0m 2024-02-29 10:54:11.878030: E external/local_xla/xla/stream_executor/cuda/cuda_fft.cc:607] Unable to register cuFFT factory: Attempting to register factory for plugin cuFFT when one has already been registered\n",
            "\u001b[2m\u001b[36m(pid=52765)\u001b[0m 2024-02-29 10:54:11.885204: E external/local_xla/xla/stream_executor/cuda/cuda_blas.cc:1515] Unable to register cuBLAS factory: Attempting to register factory for plugin cuBLAS when one has already been registered\n",
            "INFO flwr 2024-02-29 10:54:20,821 | server.py:280 | Received initial parameters from one random client\n",
            "INFO:flwr:Received initial parameters from one random client\n",
            "INFO flwr 2024-02-29 10:54:20,829 | server.py:91 | Evaluating initial parameters\n",
            "INFO:flwr:Evaluating initial parameters\n"
          ]
        },
        {
          "output_type": "stream",
          "name": "stdout",
          "text": [
            "1579/1579 [==============================] - 35s 22ms/step - loss: 0.9832 - accuracy: 0.4450 - precision_14: 0.0000e+00 - recall_14: 0.0000e+00\n"
          ]
        },
        {
          "output_type": "stream",
          "name": "stderr",
          "text": [
            "INFO flwr 2024-02-29 10:55:02,945 | server.py:94 | initial parameters (loss, other metrics): 0.9832313656806946, {'accuracy': 0.44499316811561584, 'precision': 0.0, 'recall': 0.0}\n",
            "INFO:flwr:initial parameters (loss, other metrics): 0.9832313656806946, {'accuracy': 0.44499316811561584, 'precision': 0.0, 'recall': 0.0}\n",
            "INFO flwr 2024-02-29 10:55:02,952 | server.py:104 | FL starting\n",
            "INFO:flwr:FL starting\n",
            "DEBUG flwr 2024-02-29 10:55:02,955 | server.py:222 | fit_round 1: strategy sampled 10 clients (out of 100)\n",
            "DEBUG:flwr:fit_round 1: strategy sampled 10 clients (out of 100)\n",
            "DEBUG flwr 2024-02-29 10:55:38,423 | server.py:236 | fit_round 1 received 10 results and 0 failures\n",
            "DEBUG:flwr:fit_round 1 received 10 results and 0 failures\n",
            "WARNING flwr 2024-02-29 10:55:38,443 | fedavg.py:250 | No fit_metrics_aggregation_fn provided\n",
            "WARNING:flwr:No fit_metrics_aggregation_fn provided\n"
          ]
        },
        {
          "output_type": "stream",
          "name": "stdout",
          "text": [
            "1579/1579 [==============================] - 33s 21ms/step - loss: 0.3328 - accuracy: 0.8834 - precision_15: 0.8836 - recall_15: 0.9098\n"
          ]
        },
        {
          "output_type": "stream",
          "name": "stderr",
          "text": [
            "INFO flwr 2024-02-29 10:56:11,615 | server.py:125 | fit progress: (1, 0.33278295397758484, {'accuracy': 0.8834444880485535, 'precision': 0.8836202621459961, 'recall': 0.9098236560821533}, 68.66050441199877)\n",
            "INFO:flwr:fit progress: (1, 0.33278295397758484, {'accuracy': 0.8834444880485535, 'precision': 0.8836202621459961, 'recall': 0.9098236560821533}, 68.66050441199877)\n",
            "DEBUG flwr 2024-02-29 10:56:11,620 | server.py:173 | evaluate_round 1: strategy sampled 5 clients (out of 100)\n",
            "DEBUG:flwr:evaluate_round 1: strategy sampled 5 clients (out of 100)\n"
          ]
        },
        {
          "output_type": "stream",
          "name": "stdout",
          "text": [
            "\u001b[2m\u001b[36m(DefaultActor pid=52765)\u001b[0m \r1/7 [===>..........................] - ETA: 10s - loss: 0.3636 - accuracy: 0.8750 - precision_6: 0.8974 - recall_6: 0.8974\n",
            "3/7 [===========>..................] - ETA: 0s - loss: 0.3042 - accuracy: 0.8958 - precision_6: 0.9196 - recall_6: 0.9035 \n",
            "5/7 [====================>.........] - ETA: 0s - loss: 0.3054 - accuracy: 0.8938 - precision_6: 0.9194 - recall_6: 0.9000\n",
            "6/7 [========================>.....] - ETA: 0s - loss: 0.3148 - accuracy: 0.8880 - precision_6: 0.9062 - recall_6: 0.9022\n",
            "7/7 [==============================] - 2s 45ms/step - loss: 0.3123 - accuracy: 0.8914 - precision_6: 0.9110 - recall_6: 0.9034\n",
            "7/7 [==============================] - 2s 45ms/step - loss: 0.3711 - accuracy: 0.8593 - precision_5: 0.8661 - recall_5: 0.8922\n",
            "3/7 [===========>..................] - ETA: 0s - loss: 0.3192 - accuracy: 0.9062 - precision_6: 0.8981 - recall_6: 0.9327\n",
            "3/7 [===========>..................] - ETA: 0s - loss: 0.3310 - accuracy: 0.8802 - precision_7: 0.8860 - recall_7: 0.9099\n",
            "7/7 [==============================] - 1s 34ms/step - loss: 0.3083 - accuracy: 0.9037 - precision_6: 0.9009 - recall_6: 0.9289\n",
            "7/7 [==============================] - 1s 33ms/step - loss: 0.3191 - accuracy: 0.8938 - precision_7: 0.8844 - recall_7: 0.9213\n"
          ]
        },
        {
          "output_type": "stream",
          "name": "stderr",
          "text": [
            "DEBUG flwr 2024-02-29 10:56:18,518 | server.py:187 | evaluate_round 1 received 5 results and 0 failures\n",
            "DEBUG:flwr:evaluate_round 1 received 5 results and 0 failures\n",
            "DEBUG flwr 2024-02-29 10:56:18,522 | server.py:222 | fit_round 2: strategy sampled 10 clients (out of 100)\n",
            "DEBUG:flwr:fit_round 2: strategy sampled 10 clients (out of 100)\n"
          ]
        },
        {
          "output_type": "stream",
          "name": "stdout",
          "text": [
            "\u001b[2m\u001b[36m(DefaultActor pid=52765)\u001b[0m \b\b\b\b\b\b\b\b\b\b\b\b\b\b\b\b\b\b\b\b\b\b\b\b\b\b\b\b\b\b\b\b\b\b\b\b\b\b\b\b\b\b\b\b\b\b\b\b\b\b\b\b\b\b\b\b\b\b\b\b\b\b\b\b\b\b\b\b\b\b\b\b\b\b\b\b\b\b\b\b\b\b\b\b\b\b\b\b\b\b\b\b\b\b\b\b\b\b\b\b\b\b\b\b\b\b\b\b\b\b\b\b\b\b\b\b\b\b\b\b\b\r4/7 [================>.............] - ETA: 0s - loss: 0.2766 - accuracy: 0.9180 - precision_8: 0.9021 - recall_8: 0.9485\b\b\b\b\b\b\b\b\b\b\b\b\b\b\b\b\b\b\b\b\b\b\b\b\b\b\b\b\b\b\b\b\b\b\b\b\b\b\b\b\b\b\b\b\b\b\b\b\b\b\b\b\b\b\b\b\b\b\b\b\b\b\b\b\b\b\b\b\b\b\b\b\b\b\b\b\b\b\b\b\b\b\b\b\b\b\b\b\b\b\b\b\b\b\b\b\b\b\b\b\b\b\b\b\b\b\b\b\b\b\b\b\b\b\b\b\b\b\b\b\b\r7/7 [==============================] - 1s 18ms/step - loss: 0.2989 - accuracy: 0.9037 - precision_8: 0.8841 - recall_8: 0.9450\n"
          ]
        },
        {
          "output_type": "stream",
          "name": "stderr",
          "text": [
            "DEBUG flwr 2024-02-29 10:56:50,479 | server.py:236 | fit_round 2 received 10 results and 0 failures\n",
            "DEBUG:flwr:fit_round 2 received 10 results and 0 failures\n"
          ]
        },
        {
          "output_type": "stream",
          "name": "stdout",
          "text": [
            "1579/1579 [==============================] - 35s 22ms/step - loss: 0.2891 - accuracy: 0.9020 - precision_16: 0.8865 - recall_16: 0.9444\n"
          ]
        },
        {
          "output_type": "stream",
          "name": "stderr",
          "text": [
            "INFO flwr 2024-02-29 10:57:25,858 | server.py:125 | fit progress: (2, 0.2891472280025482, {'accuracy': 0.9020308256149292, 'precision': 0.886482298374176, 'recall': 0.9444177150726318}, 142.90345989900015)\n",
            "INFO:flwr:fit progress: (2, 0.2891472280025482, {'accuracy': 0.9020308256149292, 'precision': 0.886482298374176, 'recall': 0.9444177150726318}, 142.90345989900015)\n",
            "DEBUG flwr 2024-02-29 10:57:25,864 | server.py:173 | evaluate_round 2: strategy sampled 5 clients (out of 100)\n",
            "DEBUG:flwr:evaluate_round 2: strategy sampled 5 clients (out of 100)\n"
          ]
        },
        {
          "output_type": "stream",
          "name": "stdout",
          "text": [
            "\u001b[2m\u001b[36m(DefaultActor pid=52764)\u001b[0m \r1/7 [===>..........................] - ETA: 6s - loss: 0.2819 - accuracy: 0.9062 - precision_12: 0.8421 - recall_12: 1.0000\u001b[32m [repeated 4x across cluster]\u001b[0m\n",
            "\u001b[2m\u001b[36m(DefaultActor pid=52764)\u001b[0m \b\b\b\b\b\b\b\b\b\b\b\b\b\b\b\b\b\b\b\b\b\b\b\b\b\b\b\b\b\b\b\b\b\b\b\b\b\b\b\b\b\b\b\b\b\b\b\b\b\b\b\b\b\b\b\b\b\b\b\b\b\b\b\b\b\b\b\b\b\b\b\b\b\b\b\b\b\b\b\b\b\b\b\b\b\b\b\b\b\b\b\b\b\b\b\b\b\b\b\b\b\b\b\b\b\b\b\b\b\b\b\b\b\b\b\b\b\b\b\b\b\b\r3/7 [===========>..................] - ETA: 0s - loss: 0.4049 - accuracy: 0.8333 - precision_5: 0.8246 - recall_5: 0.8868 \n",
            "\u001b[2m\u001b[36m(DefaultActor pid=52764)\u001b[0m \b\b\b\b\b\b\b\b\b\b\b\b\b\b\b\b\b\b\b\b\b\b\b\b\b\b\b\b\b\b\b\b\b\b\b\b\b\b\b\b\b\b\b\b\b\b\b\b\b\b\b\b\b\b\b\b\b\b\b\b\b\b\b\b\b\b\b\b\b\b\b\b\b\b\b\b\b\b\b\b\b\b\b\b\b\b\b\b\b\b\b\b\b\b\b\b\b\b\b\b\b\b\b\b\b\b\b\b\b\b\b\b\b\b\b\b\b\b\b\b\b\b\b\r3/7 [===========>..................] - ETA: 0s - loss: 0.2793 - accuracy: 0.9115 - precision_12: 0.8983 - recall_12: 0.9550\n",
            "3/7 [===========>..................] - ETA: 0s - loss: 0.2677 - accuracy: 0.9219 - precision_14: 0.9333 - recall_14: 0.9245\n",
            "7/7 [==============================] - 1s 26ms/step - loss: 0.2616 - accuracy: 0.9086 - precision_12: 0.9020 - recall_12: 0.9444\n",
            "4/7 [================>.............] - ETA: 0s - loss: 0.2418 - accuracy: 0.9297 - precision_14: 0.9448 - recall_14: 0.9320\n",
            "6/7 [========================>.....] - ETA: 0s - loss: 0.2522 - accuracy: 0.9245 - precision_14: 0.9259 - recall_14: 0.9390\n",
            "7/7 [==============================] - 1s 31ms/step - loss: 0.2626 - accuracy: 0.9185 - precision_14: 0.9170 - recall_14: 0.9375\n",
            "7/7 [==============================] - 1s 25ms/step - loss: 0.3061 - accuracy: 0.8963 - precision_13: 0.8724 - recall_13: 0.9507\n"
          ]
        },
        {
          "output_type": "stream",
          "name": "stderr",
          "text": [
            "DEBUG flwr 2024-02-29 10:57:31,129 | server.py:187 | evaluate_round 2 received 5 results and 0 failures\n",
            "DEBUG:flwr:evaluate_round 2 received 5 results and 0 failures\n",
            "DEBUG flwr 2024-02-29 10:57:31,133 | server.py:222 | fit_round 3: strategy sampled 10 clients (out of 100)\n",
            "DEBUG:flwr:fit_round 3: strategy sampled 10 clients (out of 100)\n"
          ]
        },
        {
          "output_type": "stream",
          "name": "stdout",
          "text": [
            "\u001b[2m\u001b[36m(DefaultActor pid=52764)\u001b[0m \b\b\b\b\b\b\b\b\b\b\b\b\b\b\b\b\b\b\b\b\b\b\b\b\b\b\b\b\b\b\b\b\b\b\b\b\b\b\b\b\b\b\b\b\b\b\b\b\b\b\b\b\b\b\b\b\b\b\b\b\b\b\b\b\b\b\b\b\b\b\b\b\b\b\b\b\b\b\b\b\b\b\b\b\b\b\b\b\b\b\b\b\b\b\b\b\b\b\b\b\b\b\b\b\b\b\b\b\b\b\b\b\b\b\b\b\b\b\b\b\b\b\b\r4/7 [================>.............] - ETA: 0s - loss: 0.2361 - accuracy: 0.9102 - precision_14: 0.9122 - recall_14: 0.9310\b\b\b\b\b\b\b\b\b\b\b\b\b\b\b\b\b\b\b\b\b\b\b\b\b\b\b\b\b\b\b\b\b\b\b\b\b\b\b\b\b\b\b\b\b\b\b\b\b\b\b\b\b\b\b\b\b\b\b\b\b\b\b\b\b\b\b\b\b\b\b\b\b\b\b\b\b\b\b\b\b\b\b\b\b\b\b\b\b\b\b\b\b\b\b\b\b\b\b\b\b\b\b\b\b\b\b\b\b\b\b\b\b\b\b\b\b\b\b\b\b\b\b\r7/7 [==============================] - 1s 18ms/step - loss: 0.2286 - accuracy: 0.9210 - precision_14: 0.9132 - recall_14: 0.9526\n"
          ]
        },
        {
          "output_type": "stream",
          "name": "stderr",
          "text": [
            "DEBUG flwr 2024-02-29 10:58:04,355 | server.py:236 | fit_round 3 received 10 results and 0 failures\n",
            "DEBUG:flwr:fit_round 3 received 10 results and 0 failures\n"
          ]
        },
        {
          "output_type": "stream",
          "name": "stdout",
          "text": [
            "1579/1579 [==============================] - 34s 21ms/step - loss: 0.2762 - accuracy: 0.9076 - precision_17: 0.8893 - recall_17: 0.9520\n"
          ]
        },
        {
          "output_type": "stream",
          "name": "stderr",
          "text": [
            "INFO flwr 2024-02-29 10:58:46,388 | server.py:125 | fit progress: (3, 0.27619147300720215, {'accuracy': 0.9075928926467896, 'precision': 0.8892831206321716, 'recall': 0.9520319700241089}, 223.43322526099837)\n",
            "INFO:flwr:fit progress: (3, 0.27619147300720215, {'accuracy': 0.9075928926467896, 'precision': 0.8892831206321716, 'recall': 0.9520319700241089}, 223.43322526099837)\n",
            "DEBUG flwr 2024-02-29 10:58:46,391 | server.py:173 | evaluate_round 3: strategy sampled 5 clients (out of 100)\n",
            "DEBUG:flwr:evaluate_round 3: strategy sampled 5 clients (out of 100)\n"
          ]
        },
        {
          "output_type": "stream",
          "name": "stdout",
          "text": [
            "\u001b[2m\u001b[36m(DefaultActor pid=52765)\u001b[0m \r1/7 [===>..........................] - ETA: 5s - loss: 0.1678 - accuracy: 0.9531 - precision_21: 0.9268 - recall_21: 1.0000\u001b[32m [repeated 3x across cluster]\u001b[0m\n",
            "\u001b[2m\u001b[36m(DefaultActor pid=52765)\u001b[0m \b\b\b\b\b\b\b\b\b\b\b\b\b\b\b\b\b\b\b\b\b\b\b\b\b\b\b\b\b\b\b\b\b\b\b\b\b\b\b\b\b\b\b\b\b\b\b\b\b\b\b\b\b\b\b\b\b\b\b\b\b\b\b\b\b\b\b\b\b\b\b\b\b\b\b\b\b\b\b\b\b\b\b\b\b\b\b\b\b\b\b\b\b\b\b\b\b\b\b\b\b\b\b\b\b\b\b\b\b\b\b\b\b\b\b\b\b\b\b\b\b\b\b\r3/7 [===========>..................] - ETA: 0s - loss: 0.2679 - accuracy: 0.9010 - precision_15: 0.8824 - recall_15: 0.9278\n",
            "\u001b[2m\u001b[36m(DefaultActor pid=52764)\u001b[0m \r1/7 [===>..........................] - ETA: 5s - loss: 0.2127 - accuracy: 0.9375 - precision_13: 0.9118 - recall_13: 0.9688\b\b\b\b\b\b\b\b\b\b\b\b\b\b\b\b\b\b\b\b\b\b\b\b\b\b\b\b\b\b\b\b\b\b\b\b\b\b\b\b\b\b\b\b\b\b\b\b\b\b\b\b\b\b\b\b\b\b\b\b\b\b\b\b\b\b\b\b\b\b\b\b\b\b\b\b\b\b\b\b\b\b\b\b\b\b\b\b\b\b\b\b\b\b\b\b\b\b\b\b\b\b\b\b\b\b\b\b\b\b\b\b\b\b\b\b\b\b\b\b\b\b\b\r3/7 [===========>..................] - ETA: 0s - loss: 0.3077 - accuracy: 0.8906 - precision_13: 0.8718 - recall_13: 0.9444\n",
            "\u001b[2m\u001b[36m(DefaultActor pid=52765)\u001b[0m \b\b\b\b\b\b\b\b\b\b\b\b\b\b\b\b\b\b\b\b\b\b\b\b\b\b\b\b\b\b\b\b\b\b\b\b\b\b\b\b\b\b\b\b\b\b\b\b\b\b\b\b\b\b\b\b\b\b\b\b\b\b\b\b\b\b\b\b\b\b\b\b\b\b\b\b\b\b\b\b\b\b\b\b\b\b\b\b\b\b\b\b\b\b\b\b\b\b\b\b\b\b\b\b\b\b\b\b\b\b\b\b\b\b\b\b\b\b\b\b\b\b\b\r5/7 [====================>.........] - ETA: 0s - loss: 0.2466 - accuracy: 0.9125 - precision_15: 0.9017 - recall_15: 0.9341\b\b\b\b\b\b\b\b\b\b\b\b\b\b\b\b\b\b\b\b\b\b\b\b\b\b\b\b\b\b\b\b\b\b\b\b\b\b\b\b\b\b\b\b\b\b\b\b\b\b\b\b\b\b\b\b\b\b\b\b\b\b\b\b\b\b\b\b\b\b\b\b\b\b\b\b\b\b\b\b\b\b\b\b\b\b\b\b\b\b\b\b\b\b\b\b\b\b\b\b\b\b\b\b\b\b\b\b\b\b\b\b\b\b\b\b\b\b\b\b\b\b\b\r7/7 [==============================] - 1s 28ms/step - loss: 0.2518 - accuracy: 0.9111 - precision_15: 0.8899 - recall_15: 0.9417\n",
            "\u001b[2m\u001b[36m(DefaultActor pid=52764)\u001b[0m \r1/7 [===>..........................] - ETA: 5s - loss: 0.1924 - accuracy: 0.9531 - precision_20: 0.9333 - recall_20: 1.0000\b\b\b\b\b\b\b\b\b\b\b\b\b\b\b\b\b\b\b\b\b\b\b\b\b\b\b\b\b\b\b\b\b\b\b\b\b\b\b\b\b\b\b\b\b\b\b\b\b\b\b\b\b\b\b\b\b\b\b\b\b\b\b\b\b\b\b\b\b\b\b\b\b\b\b\b\b\b\b\b\b\b\b\b\b\b\b\b\b\b\b\b\b\b\b\b\b\b\b\b\b\b\b\b\b\b\b\b\b\b\b\b\b\b\b\b\b\b\b\b\b\b\b\r3/7 [===========>..................] - ETA: 0s - loss: 0.3007 - accuracy: 0.9062 - precision_20: 0.8943 - recall_20: 0.9565\n",
            "3/7 [===========>..................] - ETA: 0s - loss: 0.2836 - accuracy: 0.9010 - precision_21: 0.8571 - recall_21: 0.9808\n",
            "7/7 [==============================] - 1s 31ms/step - loss: 0.3059 - accuracy: 0.8938 - precision_20: 0.8571 - recall_20: 0.9633\n",
            "7/7 [==============================] - 1s 25ms/step - loss: 0.2380 - accuracy: 0.9235 - precision_21: 0.9025 - recall_21: 0.9638\n",
            "4/7 [================>.............] - ETA: 0s - loss: 0.2701 - accuracy: 0.8945 - precision_21: 0.8980 - recall_21: 0.9167\n",
            "5/7 [====================>.........] - ETA: 0s - loss: 0.2701 - accuracy: 0.9125 - precision_22: 0.8985 - recall_22: 0.9568\n",
            "7/7 [==============================] - 1s 29ms/step - loss: 0.2571 - accuracy: 0.9160 - precision_22: 0.9020 - recall_22: 0.9567\n"
          ]
        },
        {
          "output_type": "stream",
          "name": "stderr",
          "text": [
            "DEBUG flwr 2024-02-29 10:58:51,716 | server.py:187 | evaluate_round 3 received 5 results and 0 failures\n",
            "DEBUG:flwr:evaluate_round 3 received 5 results and 0 failures\n",
            "DEBUG flwr 2024-02-29 10:58:51,719 | server.py:222 | fit_round 4: strategy sampled 10 clients (out of 100)\n",
            "DEBUG:flwr:fit_round 4: strategy sampled 10 clients (out of 100)\n"
          ]
        },
        {
          "output_type": "stream",
          "name": "stdout",
          "text": [
            "\u001b[2m\u001b[36m(DefaultActor pid=52765)\u001b[0m \r1/7 [===>..........................] - ETA: 3s - loss: 0.1568 - accuracy: 0.9688 - precision_23: 0.9706 - recall_23: 0.9706\b\b\b\b\b\b\b\b\b\b\b\b\b\b\b\b\b\b\b\b\b\b\b\b\b\b\b\b\b\b\b\b\b\b\b\b\b\b\b\b\b\b\b\b\b\b\b\b\b\b\b\b\b\b\b\b\b\b\b\b\b\b\b\b\b\b\b\b\b\b\b\b\b\b\b\b\b\b\b\b\b\b\b\b\b\b\b\b\b\b\b\b\b\b\b\b\b\b\b\b\b\b\b\b\b\b\b\b\b\b\b\b\b\b\b\b\b\b\b\b\b\b\b\r4/7 [================>.............] - ETA: 0s - loss: 0.2947 - accuracy: 0.8984 - precision_23: 0.9000 - recall_23: 0.9247\n",
            "\u001b[2m\u001b[36m(DefaultActor pid=52765)\u001b[0m \b\b\b\b\b\b\b\b\b\b\b\b\b\b\b\b\b\b\b\b\b\b\b\b\b\b\b\b\b\b\b\b\b\b\b\b\b\b\b\b\b\b\b\b\b\b\b\b\b\b\b\b\b\b\b\b\b\b\b\b\b\b\b\b\b\b\b\b\b\b\b\b\b\b\b\b\b\b\b\b\b\b\b\b\b\b\b\b\b\b\b\b\b\b\b\b\b\b\b\b\b\b\b\b\b\b\b\b\b\b\b\b\b\b\b\b\b\b\b\b\b\b\b\r7/7 [==============================] - 1s 17ms/step - loss: 0.2625 - accuracy: 0.9111 - precision_23: 0.9022 - recall_23: 0.9355\n"
          ]
        },
        {
          "output_type": "stream",
          "name": "stderr",
          "text": [
            "DEBUG flwr 2024-02-29 10:59:24,997 | server.py:236 | fit_round 4 received 10 results and 0 failures\n",
            "DEBUG:flwr:fit_round 4 received 10 results and 0 failures\n"
          ]
        },
        {
          "output_type": "stream",
          "name": "stdout",
          "text": [
            "1579/1579 [==============================] - 34s 21ms/step - loss: 0.2689 - accuracy: 0.9111 - precision_18: 0.8914 - recall_18: 0.9562\n"
          ]
        },
        {
          "output_type": "stream",
          "name": "stderr",
          "text": [
            "INFO flwr 2024-02-29 11:00:07,108 | server.py:125 | fit progress: (4, 0.26887932419776917, {'accuracy': 0.9110568165779114, 'precision': 0.8914156556129456, 'recall': 0.9562224745750427}, 304.1538101639999)\n",
            "INFO:flwr:fit progress: (4, 0.26887932419776917, {'accuracy': 0.9110568165779114, 'precision': 0.8914156556129456, 'recall': 0.9562224745750427}, 304.1538101639999)\n",
            "DEBUG flwr 2024-02-29 11:00:07,113 | server.py:173 | evaluate_round 4: strategy sampled 5 clients (out of 100)\n",
            "DEBUG:flwr:evaluate_round 4: strategy sampled 5 clients (out of 100)\n"
          ]
        },
        {
          "output_type": "stream",
          "name": "stdout",
          "text": [
            "\u001b[2m\u001b[36m(DefaultActor pid=52764)\u001b[0m \r1/7 [===>..........................] - ETA: 6s - loss: 0.2462 - accuracy: 0.9219 - precision_27: 0.9062 - recall_27: 0.9355\u001b[32m [repeated 3x across cluster]\u001b[0m\n",
            "\u001b[2m\u001b[36m(DefaultActor pid=52764)\u001b[0m \b\b\b\b\b\b\b\b\b\b\b\b\b\b\b\b\b\b\b\b\b\b\b\b\b\b\b\b\b\b\b\b\b\b\b\b\b\b\b\b\b\b\b\b\b\b\b\b\b\b\b\b\b\b\b\b\b\b\b\b\b\b\b\b\b\b\b\b\b\b\b\b\b\b\b\b\b\b\b\b\b\b\b\b\b\b\b\b\b\b\b\b\b\b\b\b\b\b\b\b\b\b\b\b\b\b\b\b\b\b\b\b\b\b\b\b\b\b\b\b\b\b\b\r6/7 [========================>.....] - ETA: 0s - loss: 0.2539 - accuracy: 0.9089 - precision_21: 0.8986 - recall_21: 0.9375\b\b\b\b\b\b\b\b\b\b\b\b\b\b\b\b\b\b\b\b\b\b\b\b\b\b\b\b\b\b\b\b\b\b\b\b\b\b\b\b\b\b\b\b\b\b\b\b\b\b\b\b\b\b\b\b\b\b\b\b\b\b\b\b\b\b\b\b\b\b\b\b\b\b\b\b\b\b\b\b\b\b\b\b\b\b\b\b\b\b\b\b\b\b\b\b\b\b\b\b\b\b\b\b\b\b\b\b\b\b\b\b\b\b\b\b\b\b\b\b\b\b\b\r7/7 [==============================] - 1s 25ms/step - loss: 0.2462 - accuracy: 0.9111 - precision_21: 0.8987 - recall_21: 0.9401\n",
            "\u001b[2m\u001b[36m(DefaultActor pid=52765)\u001b[0m \r1/7 [===>..........................] - ETA: 5s - loss: 0.2327 - accuracy: 0.9062 - precision_29: 0.9667 - recall_29: 0.8529\b\b\b\b\b\b\b\b\b\b\b\b\b\b\b\b\b\b\b\b\b\b\b\b\b\b\b\b\b\b\b\b\b\b\b\b\b\b\b\b\b\b\b\b\b\b\b\b\b\b\b\b\b\b\b\b\b\b\b\b\b\b\b\b\b\b\b\b\b\b\b\b\b\b\b\b\b\b\b\b\b\b\b\b\b\b\b\b\b\b\b\b\b\b\b\b\b\b\b\b\b\b\b\b\b\b\b\b\b\b\b\b\b\b\b\b\b\b\b\b\b\b\b\r3/7 [===========>..................] - ETA: 0s - loss: 0.2593 - accuracy: 0.9167 - precision_29: 0.9100 - recall_29: 0.9286\n",
            "\u001b[2m\u001b[36m(DefaultActor pid=52764)\u001b[0m \b\b\b\b\b\b\b\b\b\b\b\b\b\b\b\b\b\b\b\b\b\b\b\b\b\b\b\b\b\b\b\b\b\b\b\b\b\b\b\b\b\b\b\b\b\b\b\b\b\b\b\b\b\b\b\b\b\b\b\b\b\b\b\b\b\b\b\b\b\b\b\b\b\b\b\b\b\b\b\b\b\b\b\b\b\b\b\b\b\b\b\b\b\b\b\b\b\b\b\b\b\b\b\b\b\b\b\b\b\b\b\b\b\b\b\b\b\b\b\b\b\b\b\r4/7 [================>.............] - ETA: 0s - loss: 0.2781 - accuracy: 0.9023 - precision_27: 0.8839 - recall_27: 0.9514\b\b\b\b\b\b\b\b\b\b\b\b\b\b\b\b\b\b\b\b\b\b\b\b\b\b\b\b\b\b\b\b\b\b\b\b\b\b\b\b\b\b\b\b\b\b\b\b\b\b\b\b\b\b\b\b\b\b\b\b\b\b\b\b\b\b\b\b\b\b\b\b\b\b\b\b\b\b\b\b\b\b\b\b\b\b\b\b\b\b\b\b\b\b\b\b\b\b\b\b\b\b\b\b\b\b\b\b\b\b\b\b\b\b\b\b\b\b\b\b\b\b\b\r7/7 [==============================] - ETA: 0s - loss: 0.2485 - accuracy: 0.9210 - precision_27: 0.8922 - recall_27: 0.9673\b\b\b\b\b\b\b\b\b\b\b\b\b\b\b\b\b\b\b\b\b\b\b\b\b\b\b\b\b\b\b\b\b\b\b\b\b\b\b\b\b\b\b\b\b\b\b\b\b\b\b\b\b\b\b\b\b\b\b\b\b\b\b\b\b\b\b\b\b\b\b\b\b\b\b\b\b\b\b\b\b\b\b\b\b\b\b\b\b\b\b\b\b\b\b\b\b\b\b\b\b\b\b\b\b\b\b\b\b\b\b\b\b\b\b\b\b\b\b\b\b\b\b\r7/7 [==============================] - 1s 24ms/step - loss: 0.2485 - accuracy: 0.9210 - precision_27: 0.8922 - recall_27: 0.9673\n",
            "7/7 [==============================] - 1s 30ms/step - loss: 0.2678 - accuracy: 0.9086 - precision_29: 0.8879 - recall_29: 0.9429\n",
            "3/7 [===========>..................] - ETA: 0s - loss: 0.2910 - accuracy: 0.9062 - precision_30: 0.8684 - recall_30: 0.9706\n",
            "7/7 [==============================] - 1s 24ms/step - loss: 0.2558 - accuracy: 0.9185 - precision_28: 0.9023 - recall_28: 0.9417\n",
            "7/7 [==============================] - 1s 31ms/step - loss: 0.2998 - accuracy: 0.9062 - precision_30: 0.8730 - recall_30: 0.9682\n"
          ]
        },
        {
          "output_type": "stream",
          "name": "stderr",
          "text": [
            "DEBUG flwr 2024-02-29 11:00:12,403 | server.py:187 | evaluate_round 4 received 5 results and 0 failures\n",
            "DEBUG:flwr:evaluate_round 4 received 5 results and 0 failures\n",
            "DEBUG flwr 2024-02-29 11:00:12,406 | server.py:222 | fit_round 5: strategy sampled 10 clients (out of 100)\n",
            "DEBUG:flwr:fit_round 5: strategy sampled 10 clients (out of 100)\n"
          ]
        },
        {
          "output_type": "stream",
          "name": "stdout",
          "text": [
            "\u001b[2m\u001b[36m(DefaultActor pid=52764)\u001b[0m \r1/7 [===>..........................] - ETA: 3s - loss: 0.2556 - accuracy: 0.9219 - precision_29: 0.8611 - recall_29: 1.0000\b\b\b\b\b\b\b\b\b\b\b\b\b\b\b\b\b\b\b\b\b\b\b\b\b\b\b\b\b\b\b\b\b\b\b\b\b\b\b\b\b\b\b\b\b\b\b\b\b\b\b\b\b\b\b\b\b\b\b\b\b\b\b\b\b\b\b\b\b\b\b\b\b\b\b\b\b\b\b\b\b\b\b\b\b\b\b\b\b\b\b\b\b\b\b\b\b\b\b\b\b\b\b\b\b\b\b\b\b\b\b\b\b\b\b\b\b\b\b\b\b\b\b\r4/7 [================>.............] - ETA: 0s - loss: 0.2467 - accuracy: 0.9219 - precision_29: 0.8947 - recall_29: 0.9714\n",
            "\u001b[2m\u001b[36m(DefaultActor pid=52764)\u001b[0m \b\b\b\b\b\b\b\b\b\b\b\b\b\b\b\b\b\b\b\b\b\b\b\b\b\b\b\b\b\b\b\b\b\b\b\b\b\b\b\b\b\b\b\b\b\b\b\b\b\b\b\b\b\b\b\b\b\b\b\b\b\b\b\b\b\b\b\b\b\b\b\b\b\b\b\b\b\b\b\b\b\b\b\b\b\b\b\b\b\b\b\b\b\b\b\b\b\b\b\b\b\b\b\b\b\b\b\b\b\b\b\b\b\b\b\b\b\b\b\b\b\b\b\r7/7 [==============================] - 1s 18ms/step - loss: 0.2624 - accuracy: 0.9185 - precision_29: 0.8930 - recall_29: 0.9688\n"
          ]
        },
        {
          "output_type": "stream",
          "name": "stderr",
          "text": [
            "DEBUG flwr 2024-02-29 11:00:46,887 | server.py:236 | fit_round 5 received 10 results and 0 failures\n",
            "DEBUG:flwr:fit_round 5 received 10 results and 0 failures\n"
          ]
        },
        {
          "output_type": "stream",
          "name": "stdout",
          "text": [
            "1579/1579 [==============================] - 34s 21ms/step - loss: 0.2643 - accuracy: 0.9132 - precision_19: 0.8898 - recall_19: 0.9629\n"
          ]
        },
        {
          "output_type": "stream",
          "name": "stderr",
          "text": [
            "INFO flwr 2024-02-29 11:01:21,465 | server.py:125 | fit progress: (5, 0.2643461525440216, {'accuracy': 0.9132440090179443, 'precision': 0.8898373246192932, 'recall': 0.9628916382789612}, 378.5100925129991)\n",
            "INFO:flwr:fit progress: (5, 0.2643461525440216, {'accuracy': 0.9132440090179443, 'precision': 0.8898373246192932, 'recall': 0.9628916382789612}, 378.5100925129991)\n",
            "DEBUG flwr 2024-02-29 11:01:21,470 | server.py:173 | evaluate_round 5: strategy sampled 5 clients (out of 100)\n",
            "DEBUG:flwr:evaluate_round 5: strategy sampled 5 clients (out of 100)\n"
          ]
        },
        {
          "output_type": "stream",
          "name": "stdout",
          "text": [
            "\u001b[2m\u001b[36m(DefaultActor pid=52764)\u001b[0m \r1/7 [===>..........................] - ETA: 6s - loss: 0.2955 - accuracy: 0.8750 - precision_35: 0.8158 - recall_35: 0.9688\u001b[32m [repeated 2x across cluster]\u001b[0m\n",
            "\u001b[2m\u001b[36m(DefaultActor pid=52764)\u001b[0m \b\b\b\b\b\b\b\b\b\b\b\b\b\b\b\b\b\b\b\b\b\b\b\b\b\b\b\b\b\b\b\b\b\b\b\b\b\b\b\b\b\b\b\b\b\b\b\b\b\b\b\b\b\b\b\b\b\b\b\b\b\b\b\b\b\b\b\b\b\b\b\b\b\b\b\b\b\b\b\b\b\b\b\b\b\b\b\b\b\b\b\b\b\b\b\b\b\b\b\b\b\b\b\b\b\b\b\b\b\b\b\b\b\b\b\b\b\b\b\b\b\b\b\r3/7 [===========>..................] - ETA: 0s - loss: 0.2812 - accuracy: 0.8958 - precision_35: 0.8559 - recall_35: 0.9712\b\b\b\b\b\b\b\b\b\b\b\b\b\b\b\b\b\b\b\b\b\b\b\b\b\b\b\b\b\b\b\b\b\b\b\b\b\b\b\b\b\b\b\b\b\b\b\b\b\b\b\b\b\b\b\b\b\b\b\b\b\b\b\b\b\b\b\b\b\b\b\b\b\b\b\b\b\b\b\b\b\b\b\b\b\b\b\b\b\b\b\b\b\b\b\b\b\b\b\b\b\b\b\b\b\b\b\b\b\b\b\b\b\b\b\b\b\b\b\b\b\b\b\r4/7 [================>.............] - ETA: 0s - loss: 0.2843 - accuracy: 0.9023 - precision_35: 0.8701 - recall_35: 0.9640\n",
            "5/7 [====================>.........] - ETA: 0s - loss: 0.2720 - accuracy: 0.9125 - precision_36: 0.8800 - recall_36: 0.9565\n",
            "7/7 [==============================] - 1s 31ms/step - loss: 0.2657 - accuracy: 0.9062 - precision_35: 0.8730 - recall_35: 0.9682\n",
            "7/7 [==============================] - 1s 28ms/step - loss: 0.2732 - accuracy: 0.9160 - precision_36: 0.8829 - recall_36: 0.9608\n",
            "3/7 [===========>..................] - ETA: 0s - loss: 0.1948 - accuracy: 0.9479 - precision_36: 0.9145 - recall_36: 1.0000\n",
            "4/7 [================>.............] - ETA: 0s - loss: 0.2538 - accuracy: 0.9180 - precision_37: 0.8954 - recall_37: 0.9648\n",
            "7/7 [==============================] - 1s 30ms/step - loss: 0.2155 - accuracy: 0.9333 - precision_36: 0.9016 - recall_36: 0.9865\n"
          ]
        },
        {
          "output_type": "stream",
          "name": "stderr",
          "text": [
            "DEBUG flwr 2024-02-29 11:01:27,360 | server.py:187 | evaluate_round 5 received 5 results and 0 failures\n",
            "DEBUG:flwr:evaluate_round 5 received 5 results and 0 failures\n",
            "DEBUG flwr 2024-02-29 11:01:27,364 | server.py:222 | fit_round 6: strategy sampled 10 clients (out of 100)\n",
            "DEBUG:flwr:fit_round 6: strategy sampled 10 clients (out of 100)\n"
          ]
        },
        {
          "output_type": "stream",
          "name": "stdout",
          "text": [
            "\u001b[2m\u001b[36m(DefaultActor pid=52765)\u001b[0m \b\b\b\b\b\b\b\b\b\b\b\b\b\b\b\b\b\b\b\b\b\b\b\b\b\b\b\b\b\b\b\b\b\b\b\b\b\b\b\b\b\b\b\b\b\b\b\b\b\b\b\b\b\b\b\b\b\b\b\b\b\b\b\b\b\b\b\b\b\b\b\b\b\b\b\b\b\b\b\b\b\b\b\b\b\b\b\b\b\b\b\b\b\b\b\b\b\b\b\b\b\b\b\b\b\b\b\b\b\b\b\b\b\b\b\b\b\b\b\b\b\b\b\r2/7 [=======>......................] - ETA: 0s - loss: 0.2647 - accuracy: 0.9297 - precision_38: 0.9315 - recall_38: 0.9444\b\b\b\b\b\b\b\b\b\b\b\b\b\b\b\b\b\b\b\b\b\b\b\b\b\b\b\b\b\b\b\b\b\b\b\b\b\b\b\b\b\b\b\b\b\b\b\b\b\b\b\b\b\b\b\b\b\b\b\b\b\b\b\b\b\b\b\b\b\b\b\b\b\b\b\b\b\b\b\b\b\b\b\b\b\b\b\b\b\b\b\b\b\b\b\b\b\b\b\b\b\b\b\b\b\b\b\b\b\b\b\b\b\b\b\b\b\b\b\b\b\b\b\r5/7 [====================>.........] - ETA: 0s - loss: 0.2551 - accuracy: 0.9250 - precision_38: 0.9045 - recall_38: 0.9583\n",
            "\u001b[2m\u001b[36m(DefaultActor pid=52765)\u001b[0m \b\b\b\b\b\b\b\b\b\b\b\b\b\b\b\b\b\b\b\b\b\b\b\b\b\b\b\b\b\b\b\b\b\b\b\b\b\b\b\b\b\b\b\b\b\b\b\b\b\b\b\b\b\b\b\b\b\b\b\b\b\b\b\b\b\b\b\b\b\b\b\b\b\b\b\b\b\b\b\b\b\b\b\b\b\b\b\b\b\b\b\b\b\b\b\b\b\b\b\b\b\b\b\b\b\b\b\b\b\b\b\b\b\b\b\b\b\b\b\b\b\b\b\r7/7 [==============================] - 1s 29ms/step - loss: 0.2662 - accuracy: 0.9160 - precision_38: 0.8973 - recall_38: 0.9481\n"
          ]
        },
        {
          "output_type": "stream",
          "name": "stderr",
          "text": [
            "DEBUG flwr 2024-02-29 11:02:01,780 | server.py:236 | fit_round 6 received 10 results and 0 failures\n",
            "DEBUG:flwr:fit_round 6 received 10 results and 0 failures\n"
          ]
        },
        {
          "output_type": "stream",
          "name": "stdout",
          "text": [
            "1579/1579 [==============================] - 34s 21ms/step - loss: 0.2618 - accuracy: 0.9137 - precision_20: 0.8929 - recall_20: 0.9596\n"
          ]
        },
        {
          "output_type": "stream",
          "name": "stderr",
          "text": [
            "INFO flwr 2024-02-29 11:02:35,719 | server.py:125 | fit progress: (6, 0.2618025839328766, {'accuracy': 0.9137091636657715, 'precision': 0.8929377198219299, 'recall': 0.9595748782157898}, 452.76480810700014)\n",
            "INFO:flwr:fit progress: (6, 0.2618025839328766, {'accuracy': 0.9137091636657715, 'precision': 0.8929377198219299, 'recall': 0.9595748782157898}, 452.76480810700014)\n",
            "DEBUG flwr 2024-02-29 11:02:35,725 | server.py:173 | evaluate_round 6: strategy sampled 5 clients (out of 100)\n",
            "DEBUG:flwr:evaluate_round 6: strategy sampled 5 clients (out of 100)\n"
          ]
        },
        {
          "output_type": "stream",
          "name": "stdout",
          "text": [
            "\u001b[2m\u001b[36m(DefaultActor pid=52765)\u001b[0m \r1/7 [===>..........................] - ETA: 10s - loss: 0.3337 - accuracy: 0.8750 - precision_44: 0.8293 - recall_44: 0.9714\b\b\b\b\b\b\b\b\b\b\b\b\b\b\b\b\b\b\b\b\b\b\b\b\b\b\b\b\b\b\b\b\b\b\b\b\b\b\b\b\b\b\b\b\b\b\b\b\b\b\b\b\b\b\b\b\b\b\b\b\b\b\b\b\b\b\b\b\b\b\b\b\b\b\b\b\b\b\b\b\b\b\b\b\b\b\b\b\b\b\b\b\b\b\b\b\b\b\b\b\b\b\b\b\b\b\b\b\b\b\b\b\b\b\b\b\b\b\b\b\b\b\b\b\r2/7 [=======>......................] - ETA: 0s - loss: 0.2957 - accuracy: 0.8984 - precision_44: 0.8571 - recall_44: 0.9706 \n",
            "\u001b[2m\u001b[36m(DefaultActor pid=52765)\u001b[0m \r1/7 [===>..........................] - ETA: 5s - loss: 0.2301 - accuracy: 0.9531 - precision_38: 1.0000 - recall_38: 0.9231\u001b[32m [repeated 4x across cluster]\u001b[0m\n",
            "\u001b[2m\u001b[36m(DefaultActor pid=52765)\u001b[0m \b\b\b\b\b\b\b\b\b\b\b\b\b\b\b\b\b\b\b\b\b\b\b\b\b\b\b\b\b\b\b\b\b\b\b\b\b\b\b\b\b\b\b\b\b\b\b\b\b\b\b\b\b\b\b\b\b\b\b\b\b\b\b\b\b\b\b\b\b\b\b\b\b\b\b\b\b\b\b\b\b\b\b\b\b\b\b\b\b\b\b\b\b\b\b\b\b\b\b\b\b\b\b\b\b\b\b\b\b\b\b\b\b\b\b\b\b\b\b\b\b\b\b\r5/7 [====================>.........] - ETA: 0s - loss: 0.2477 - accuracy: 0.9219 - precision_37: 0.8942 - recall_37: 0.9713\b\b\b\b\b\b\b\b\b\b\b\b\b\b\b\b\b\b\b\b\b\b\b\b\b\b\b\b\b\b\b\b\b\b\b\b\b\b\b\b\b\b\b\b\b\b\b\b\b\b\b\b\b\b\b\b\b\b\b\b\b\b\b\b\b\b\b\b\b\b\b\b\b\b\b\b\b\b\b\b\b\b\b\b\b\b\b\b\b\b\b\b\b\b\b\b\b\b\b\b\b\b\b\b\b\b\b\b\b\b\b\b\b\b\b\b\b\b\b\b\b\b\b\r7/7 [==============================] - 1s 26ms/step - loss: 0.2534 - accuracy: 0.9210 - precision_37: 0.8963 - recall_37: 0.9686\n",
            "4/7 [================>.............] - ETA: 0s - loss: 0.2500 - accuracy: 0.9258 - precision_44: 0.8947 - recall_44: 0.9784\n",
            "5/7 [====================>.........] - ETA: 0s - loss: 0.2694 - accuracy: 0.9156 - precision_44: 0.8854 - recall_44: 0.9714\n",
            "7/7 [==============================] - 2s 53ms/step - loss: 0.2782 - accuracy: 0.9086 - precision_44: 0.8719 - recall_44: 0.9724\n",
            "3/7 [===========>..................] - ETA: 0s - loss: 0.2795 - accuracy: 0.9010 - precision_42: 0.8455 - recall_42: 0.9789 \n",
            "7/7 [==============================] - 2s 34ms/step - loss: 0.2551 - accuracy: 0.9160 - precision_42: 0.8701 - recall_42: 0.9805\n",
            "5/7 [====================>.........] - ETA: 0s - loss: 0.2849 - accuracy: 0.9062 - precision_45: 0.8794 - recall_45: 0.9669\n",
            "3/7 [===========>..................] - ETA: 0s - loss: 0.2402 - accuracy: 0.9271 - precision_43: 0.9083 - recall_43: 0.9612\n",
            "7/7 [==============================] - 1s 33ms/step - loss: 0.2180 - accuracy: 0.9358 - precision_43: 0.9103 - recall_43: 0.9713\n"
          ]
        },
        {
          "output_type": "stream",
          "name": "stderr",
          "text": [
            "DEBUG flwr 2024-02-29 11:02:43,361 | server.py:187 | evaluate_round 6 received 5 results and 0 failures\n",
            "DEBUG:flwr:evaluate_round 6 received 5 results and 0 failures\n",
            "DEBUG flwr 2024-02-29 11:02:43,365 | server.py:222 | fit_round 7: strategy sampled 10 clients (out of 100)\n",
            "DEBUG:flwr:fit_round 7: strategy sampled 10 clients (out of 100)\n"
          ]
        },
        {
          "output_type": "stream",
          "name": "stdout",
          "text": [
            "\u001b[2m\u001b[36m(DefaultActor pid=52765)\u001b[0m \b\b\b\b\b\b\b\b\b\b\b\b\b\b\b\b\b\b\b\b\b\b\b\b\b\b\b\b\b\b\b\b\b\b\b\b\b\b\b\b\b\b\b\b\b\b\b\b\b\b\b\b\b\b\b\b\b\b\b\b\b\b\b\b\b\b\b\b\b\b\b\b\b\b\b\b\b\b\b\b\b\b\b\b\b\b\b\b\b\b\b\b\b\b\b\b\b\b\b\b\b\b\b\b\b\b\b\b\b\b\b\b\b\b\b\b\b\b\b\b\b\b\b\r4/7 [================>.............] - ETA: 0s - loss: 0.2504 - accuracy: 0.9219 - precision_46: 0.8947 - recall_46: 0.9714\b\b\b\b\b\b\b\b\b\b\b\b\b\b\b\b\b\b\b\b\b\b\b\b\b\b\b\b\b\b\b\b\b\b\b\b\b\b\b\b\b\b\b\b\b\b\b\b\b\b\b\b\b\b\b\b\b\b\b\b\b\b\b\b\b\b\b\b\b\b\b\b\b\b\b\b\b\b\b\b\b\b\b\b\b\b\b\b\b\b\b\b\b\b\b\b\b\b\b\b\b\b\b\b\b\b\b\b\b\b\b\b\b\b\b\b\b\b\b\b\b\b\b\r7/7 [==============================] - 1s 18ms/step - loss: 0.2418 - accuracy: 0.9259 - precision_46: 0.9076 - recall_46: 0.9700\n"
          ]
        },
        {
          "output_type": "stream",
          "name": "stderr",
          "text": [
            "DEBUG flwr 2024-02-29 11:03:16,383 | server.py:236 | fit_round 7 received 10 results and 0 failures\n",
            "DEBUG:flwr:fit_round 7 received 10 results and 0 failures\n"
          ]
        },
        {
          "output_type": "stream",
          "name": "stdout",
          "text": [
            "1579/1579 [==============================] - 36s 22ms/step - loss: 0.2580 - accuracy: 0.9157 - precision_21: 0.8910 - recall_21: 0.9664\n"
          ]
        },
        {
          "output_type": "stream",
          "name": "stderr",
          "text": [
            "INFO flwr 2024-02-29 11:03:58,149 | server.py:125 | fit progress: (7, 0.25804567337036133, {'accuracy': 0.9157181978225708, 'precision': 0.8909566402435303, 'recall': 0.9664223790168762}, 535.1940616029988)\n",
            "INFO:flwr:fit progress: (7, 0.25804567337036133, {'accuracy': 0.9157181978225708, 'precision': 0.8909566402435303, 'recall': 0.9664223790168762}, 535.1940616029988)\n",
            "DEBUG flwr 2024-02-29 11:03:58,166 | server.py:173 | evaluate_round 7: strategy sampled 5 clients (out of 100)\n",
            "DEBUG:flwr:evaluate_round 7: strategy sampled 5 clients (out of 100)\n"
          ]
        },
        {
          "output_type": "stream",
          "name": "stdout",
          "text": [
            "\u001b[2m\u001b[36m(DefaultActor pid=52764)\u001b[0m \r1/7 [===>..........................] - ETA: 7s - loss: 0.1782 - accuracy: 0.9531 - precision_49: 0.9211 - recall_49: 1.0000\u001b[32m [repeated 4x across cluster]\u001b[0m\n",
            "\u001b[2m\u001b[36m(DefaultActor pid=52764)\u001b[0m \b\b\b\b\b\b\b\b\b\b\b\b\b\b\b\b\b\b\b\b\b\b\b\b\b\b\b\b\b\b\b\b\b\b\b\b\b\b\b\b\b\b\b\b\b\b\b\b\b\b\b\b\b\b\b\b\b\b\b\b\b\b\b\b\b\b\b\b\b\b\b\b\b\b\b\b\b\b\b\b\b\b\b\b\b\b\b\b\b\b\b\b\b\b\b\b\b\b\b\b\b\b\b\b\b\b\b\b\b\b\b\b\b\b\b\b\b\b\b\b\b\b\b\r5/7 [====================>.........] - ETA: 0s - loss: 0.2497 - accuracy: 0.9156 - precision_42: 0.8722 - recall_42: 0.9752\n",
            "\u001b[2m\u001b[36m(DefaultActor pid=52765)\u001b[0m \b\b\b\b\b\b\b\b\b\b\b\b\b\b\b\b\b\b\b\b\b\b\b\b\b\b\b\b\b\b\b\b\b\b\b\b\b\b\b\b\b\b\b\b\b\b\b\b\b\b\b\b\b\b\b\b\b\b\b\b\b\b\b\b\b\b\b\b\b\b\b\b\b\b\b\b\b\b\b\b\b\b\b\b\b\b\b\b\b\b\b\b\b\b\b\b\b\b\b\b\b\b\b\b\b\b\b\b\b\b\b\b\b\b\b\b\b\b\b\b\b\b\b\r7/7 [==============================] - 1s 29ms/step - loss: 0.2708 - accuracy: 0.9111 - precision_45: 0.8835 - recall_45: 0.9692\n",
            "4/7 [================>.............] - ETA: 0s - loss: 0.2848 - accuracy: 0.9102 - precision_49: 0.8726 - recall_49: 0.9786\n",
            "5/7 [====================>.........] - ETA: 0s - loss: 0.2607 - accuracy: 0.9187 - precision_49: 0.8789 - recall_49: 0.9824\n",
            "3/7 [===========>..................] - ETA: 0s - loss: 0.1939 - accuracy: 0.9427 - precision_52: 0.9138 - recall_52: 0.9907\n",
            "7/7 [==============================] - 2s 60ms/step - loss: 0.2565 - accuracy: 0.9160 - precision_49: 0.8807 - recall_49: 0.9772\n",
            "5/7 [====================>.........] - ETA: 0s - loss: 0.2187 - accuracy: 0.9375 - precision_52: 0.9091 - recall_52: 0.9827\n",
            "3/7 [===========>..................] - ETA: 0s - loss: 0.2881 - accuracy: 0.9062 - precision_53: 0.8803 - recall_53: 0.9626 \n",
            "6/7 [========================>.....] - ETA: 0s - loss: 0.2203 - accuracy: 0.9401 - precision_53: 0.9174 - recall_53: 0.9814\n",
            "7/7 [==============================] - 2s 29ms/step - loss: 0.2250 - accuracy: 0.9309 - precision_50: 0.8974 - recall_50: 0.9813\n",
            "7/7 [==============================] - 2s 34ms/step - loss: 0.2305 - accuracy: 0.9358 - precision_53: 0.9136 - recall_53: 0.9780\n"
          ]
        },
        {
          "output_type": "stream",
          "name": "stderr",
          "text": [
            "DEBUG flwr 2024-02-29 11:04:06,084 | server.py:187 | evaluate_round 7 received 5 results and 0 failures\n",
            "DEBUG:flwr:evaluate_round 7 received 5 results and 0 failures\n",
            "DEBUG flwr 2024-02-29 11:04:06,088 | server.py:222 | fit_round 8: strategy sampled 10 clients (out of 100)\n",
            "DEBUG:flwr:fit_round 8: strategy sampled 10 clients (out of 100)\n"
          ]
        },
        {
          "output_type": "stream",
          "name": "stdout",
          "text": [
            "\u001b[2m\u001b[36m(DefaultActor pid=52765)\u001b[0m \r1/7 [===>..........................] - ETA: 3s - loss: 0.1310 - accuracy: 0.9688 - precision_54: 0.9524 - recall_54: 1.0000\u001b[32m [repeated 3x across cluster]\u001b[0m\n",
            "\u001b[2m\u001b[36m(DefaultActor pid=52765)\u001b[0m \b\b\b\b\b\b\b\b\b\b\b\b\b\b\b\b\b\b\b\b\b\b\b\b\b\b\b\b\b\b\b\b\b\b\b\b\b\b\b\b\b\b\b\b\b\b\b\b\b\b\b\b\b\b\b\b\b\b\b\b\b\b\b\b\b\b\b\b\b\b\b\b\b\b\b\b\b\b\b\b\b\b\b\b\b\b\b\b\b\b\b\b\b\b\b\b\b\b\b\b\b\b\b\b\b\b\b\b\b\b\b\b\b\b\b\b\b\b\b\b\b\b\b\r6/7 [========================>.....] - ETA: 0s - loss: 0.2292 - accuracy: 0.9297 - precision_52: 0.8973 - recall_52: 0.9805\b\b\b\b\b\b\b\b\b\b\b\b\b\b\b\b\b\b\b\b\b\b\b\b\b\b\b\b\b\b\b\b\b\b\b\b\b\b\b\b\b\b\b\b\b\b\b\b\b\b\b\b\b\b\b\b\b\b\b\b\b\b\b\b\b\b\b\b\b\b\b\b\b\b\b\b\b\b\b\b\b\b\b\b\b\b\b\b\b\b\b\b\b\b\b\b\b\b\b\b\b\b\b\b\b\b\b\b\b\b\b\b\b\b\b\b\b\b\b\b\b\b\b\r7/7 [==============================] - 2s 44ms/step - loss: 0.2294 - accuracy: 0.9309 - precision_52: 0.8987 - recall_52: 0.9816\n",
            "\u001b[2m\u001b[36m(DefaultActor pid=52765)\u001b[0m \b\b\b\b\b\b\b\b\b\b\b\b\b\b\b\b\b\b\b\b\b\b\b\b\b\b\b\b\b\b\b\b\b\b\b\b\b\b\b\b\b\b\b\b\b\b\b\b\b\b\b\b\b\b\b\b\b\b\b\b\b\b\b\b\b\b\b\b\b\b\b\b\b\b\b\b\b\b\b\b\b\b\b\b\b\b\b\b\b\b\b\b\b\b\b\b\b\b\b\b\b\b\b\b\b\b\b\b\b\b\b\b\b\b\b\b\b\b\b\b\b\b\b\r3/7 [===========>..................] - ETA: 0s - loss: 0.2391 - accuracy: 0.9219 - precision_54: 0.9008 - recall_54: 0.9732\b\b\b\b\b\b\b\b\b\b\b\b\b\b\b\b\b\b\b\b\b\b\b\b\b\b\b\b\b\b\b\b\b\b\b\b\b\b\b\b\b\b\b\b\b\b\b\b\b\b\b\b\b\b\b\b\b\b\b\b\b\b\b\b\b\b\b\b\b\b\b\b\b\b\b\b\b\b\b\b\b\b\b\b\b\b\b\b\b\b\b\b\b\b\b\b\b\b\b\b\b\b\b\b\b\b\b\b\b\b\b\b\b\b\b\b\b\b\b\b\b\b\b\r7/7 [==============================] - ETA: 0s - loss: 0.2680 - accuracy: 0.9136 - precision_54: 0.8920 - recall_54: 0.9654\b\b\b\b\b\b\b\b\b\b\b\b\b\b\b\b\b\b\b\b\b\b\b\b\b\b\b\b\b\b\b\b\b\b\b\b\b\b\b\b\b\b\b\b\b\b\b\b\b\b\b\b\b\b\b\b\b\b\b\b\b\b\b\b\b\b\b\b\b\b\b\b\b\b\b\b\b\b\b\b\b\b\b\b\b\b\b\b\b\b\b\b\b\b\b\b\b\b\b\b\b\b\b\b\b\b\b\b\b\b\b\b\b\b\b\b\b\b\b\b\b\b\b\r7/7 [==============================] - 1s 20ms/step - loss: 0.2680 - accuracy: 0.9136 - precision_54: 0.8920 - recall_54: 0.9654\n"
          ]
        },
        {
          "output_type": "stream",
          "name": "stderr",
          "text": [
            "DEBUG flwr 2024-02-29 11:04:39,217 | server.py:236 | fit_round 8 received 10 results and 0 failures\n",
            "DEBUG:flwr:fit_round 8 received 10 results and 0 failures\n"
          ]
        },
        {
          "output_type": "stream",
          "name": "stdout",
          "text": [
            "1579/1579 [==============================] - 36s 23ms/step - loss: 0.2562 - accuracy: 0.9164 - precision_22: 0.8917 - recall_22: 0.9669\n"
          ]
        },
        {
          "output_type": "stream",
          "name": "stderr",
          "text": [
            "INFO flwr 2024-02-29 11:05:15,698 | server.py:125 | fit progress: (8, 0.256234347820282, {'accuracy': 0.9164208769798279, 'precision': 0.8916625380516052, 'recall': 0.9668859839439392}, 612.7438154269985)\n",
            "INFO:flwr:fit progress: (8, 0.256234347820282, {'accuracy': 0.9164208769798279, 'precision': 0.8916625380516052, 'recall': 0.9668859839439392}, 612.7438154269985)\n",
            "DEBUG flwr 2024-02-29 11:05:15,705 | server.py:173 | evaluate_round 8: strategy sampled 5 clients (out of 100)\n",
            "DEBUG:flwr:evaluate_round 8: strategy sampled 5 clients (out of 100)\n"
          ]
        },
        {
          "output_type": "stream",
          "name": "stdout",
          "text": [
            "\u001b[2m\u001b[36m(DefaultActor pid=52765)\u001b[0m \r1/7 [===>..........................] - ETA: 6s - loss: 0.2849 - accuracy: 0.8906 - precision_60: 0.8333 - recall_60: 0.9677\n",
            "\u001b[2m\u001b[36m(DefaultActor pid=52764)\u001b[0m \r1/7 [===>..........................] - ETA: 6s - loss: 0.3505 - accuracy: 0.8750 - precision_56: 0.8485 - recall_56: 0.9032\n",
            "5/7 [====================>.........] - ETA: 0s - loss: 0.3007 - accuracy: 0.8875 - precision_60: 0.8556 - recall_60: 0.9467\n",
            "7/7 [==============================] - 1s 24ms/step - loss: 0.2812 - accuracy: 0.9037 - precision_56: 0.8828 - recall_56: 0.9617\n",
            "7/7 [==============================] - 1s 29ms/step - loss: 0.3054 - accuracy: 0.8889 - precision_60: 0.8517 - recall_60: 0.9526\n",
            "3/7 [===========>..................] - ETA: 0s - loss: 0.2932 - accuracy: 0.9167 - precision_57: 0.8807 - recall_57: 0.9697\n",
            "4/7 [================>.............] - ETA: 0s - loss: 0.2830 - accuracy: 0.9102 - precision_61: 0.8931 - recall_61: 0.9595\n",
            "7/7 [==============================] - 1s 30ms/step - loss: 0.2687 - accuracy: 0.9284 - precision_57: 0.9020 - recall_57: 0.9779\n",
            "7/7 [==============================] - 1s 31ms/step - loss: 0.2836 - accuracy: 0.9062 - precision_61: 0.8871 - recall_61: 0.9565\n"
          ]
        },
        {
          "output_type": "stream",
          "name": "stderr",
          "text": [
            "DEBUG flwr 2024-02-29 11:05:21,359 | server.py:187 | evaluate_round 8 received 5 results and 0 failures\n",
            "DEBUG:flwr:evaluate_round 8 received 5 results and 0 failures\n",
            "DEBUG flwr 2024-02-29 11:05:21,365 | server.py:222 | fit_round 9: strategy sampled 10 clients (out of 100)\n",
            "DEBUG:flwr:fit_round 9: strategy sampled 10 clients (out of 100)\n"
          ]
        },
        {
          "output_type": "stream",
          "name": "stdout",
          "text": [
            "\u001b[2m\u001b[36m(DefaultActor pid=52765)\u001b[0m \r1/7 [===>..........................] - ETA: 3s - loss: 0.2418 - accuracy: 0.9375 - precision_62: 0.8919 - recall_62: 1.0000\b\b\b\b\b\b\b\b\b\b\b\b\b\b\b\b\b\b\b\b\b\b\b\b\b\b\b\b\b\b\b\b\b\b\b\b\b\b\b\b\b\b\b\b\b\b\b\b\b\b\b\b\b\b\b\b\b\b\b\b\b\b\b\b\b\b\b\b\b\b\b\b\b\b\b\b\b\b\b\b\b\b\b\b\b\b\b\b\b\b\b\b\b\b\b\b\b\b\b\b\b\b\b\b\b\b\b\b\b\b\b\b\b\b\b\b\b\b\b\b\b\b\b\r4/7 [================>.............] - ETA: 0s - loss: 0.2730 - accuracy: 0.9102 - precision_62: 0.8813 - recall_62: 0.9724\n",
            "\u001b[2m\u001b[36m(DefaultActor pid=52765)\u001b[0m \b\b\b\b\b\b\b\b\b\b\b\b\b\b\b\b\b\b\b\b\b\b\b\b\b\b\b\b\b\b\b\b\b\b\b\b\b\b\b\b\b\b\b\b\b\b\b\b\b\b\b\b\b\b\b\b\b\b\b\b\b\b\b\b\b\b\b\b\b\b\b\b\b\b\b\b\b\b\b\b\b\b\b\b\b\b\b\b\b\b\b\b\b\b\b\b\b\b\b\b\b\b\b\b\b\b\b\b\b\b\b\b\b\b\b\b\b\b\b\b\b\b\b\r7/7 [==============================] - 1s 18ms/step - loss: 0.2792 - accuracy: 0.9012 - precision_62: 0.8607 - recall_62: 0.9722\n"
          ]
        },
        {
          "output_type": "stream",
          "name": "stderr",
          "text": [
            "DEBUG flwr 2024-02-29 11:05:57,766 | server.py:236 | fit_round 9 received 10 results and 0 failures\n",
            "DEBUG:flwr:fit_round 9 received 10 results and 0 failures\n"
          ]
        },
        {
          "output_type": "stream",
          "name": "stdout",
          "text": [
            "1579/1579 [==============================] - 34s 21ms/step - loss: 0.2563 - accuracy: 0.9155 - precision_23: 0.8949 - recall_23: 0.9607\n"
          ]
        },
        {
          "output_type": "stream",
          "name": "stderr",
          "text": [
            "INFO flwr 2024-02-29 11:06:39,542 | server.py:125 | fit progress: (9, 0.2562549412250519, {'accuracy': 0.9155400991439819, 'precision': 0.8948723673820496, 'recall': 0.9606804847717285}, 696.5870033709998)\n",
            "INFO:flwr:fit progress: (9, 0.2562549412250519, {'accuracy': 0.9155400991439819, 'precision': 0.8948723673820496, 'recall': 0.9606804847717285}, 696.5870033709998)\n",
            "DEBUG flwr 2024-02-29 11:06:39,546 | server.py:173 | evaluate_round 9: strategy sampled 5 clients (out of 100)\n",
            "DEBUG:flwr:evaluate_round 9: strategy sampled 5 clients (out of 100)\n"
          ]
        },
        {
          "output_type": "stream",
          "name": "stdout",
          "text": [
            "\u001b[2m\u001b[36m(DefaultActor pid=52764)\u001b[0m \r1/7 [===>..........................] - ETA: 6s - loss: 0.1753 - accuracy: 0.9531 - precision_63: 0.9167 - recall_63: 1.0000\u001b[32m [repeated 2x across cluster]\u001b[0m\n",
            "\u001b[2m\u001b[36m(DefaultActor pid=52765)\u001b[0m \r1/7 [===>..........................] - ETA: 6s - loss: 0.1732 - accuracy: 0.9531 - precision_68: 0.9500 - recall_68: 0.9744\b\b\b\b\b\b\b\b\b\b\b\b\b\b\b\b\b\b\b\b\b\b\b\b\b\b\b\b\b\b\b\b\b\b\b\b\b\b\b\b\b\b\b\b\b\b\b\b\b\b\b\b\b\b\b\b\b\b\b\b\b\b\b\b\b\b\b\b\b\b\b\b\b\b\b\b\b\b\b\b\b\b\b\b\b\b\b\b\b\b\b\b\b\b\b\b\b\b\b\b\b\b\b\b\b\b\b\b\b\b\b\b\b\b\b\b\b\b\b\b\b\b\b\r3/7 [===========>..................] - ETA: 0s - loss: 0.2441 - accuracy: 0.9271 - precision_68: 0.9160 - recall_68: 0.9646\n",
            "\u001b[2m\u001b[36m(DefaultActor pid=52764)\u001b[0m \b\b\b\b\b\b\b\b\b\b\b\b\b\b\b\b\b\b\b\b\b\b\b\b\b\b\b\b\b\b\b\b\b\b\b\b\b\b\b\b\b\b\b\b\b\b\b\b\b\b\b\b\b\b\b\b\b\b\b\b\b\b\b\b\b\b\b\b\b\b\b\b\b\b\b\b\b\b\b\b\b\b\b\b\b\b\b\b\b\b\b\b\b\b\b\b\b\b\b\b\b\b\b\b\b\b\b\b\b\b\b\b\b\b\b\b\b\b\b\b\b\b\b\r4/7 [================>.............] - ETA: 0s - loss: 0.2211 - accuracy: 0.9336 - precision_63: 0.9133 - recall_63: 0.9716\b\b\b\b\b\b\b\b\b\b\b\b\b\b\b\b\b\b\b\b\b\b\b\b\b\b\b\b\b\b\b\b\b\b\b\b\b\b\b\b\b\b\b\b\b\b\b\b\b\b\b\b\b\b\b\b\b\b\b\b\b\b\b\b\b\b\b\b\b\b\b\b\b\b\b\b\b\b\b\b\b\b\b\b\b\b\b\b\b\b\b\b\b\b\b\b\b\b\b\b\b\b\b\b\b\b\b\b\b\b\b\b\b\b\b\b\b\b\b\b\b\b\b\r7/7 [==============================] - 1s 25ms/step - loss: 0.2451 - accuracy: 0.9235 - precision_63: 0.9072 - recall_63: 0.9598\n",
            "7/7 [==============================] - 1s 29ms/step - loss: 0.3070 - accuracy: 0.8988 - precision_68: 0.8706 - recall_68: 0.9652\n",
            "7/7 [==============================] - 1s 28ms/step - loss: 0.2858 - accuracy: 0.9037 - precision_64: 0.8898 - recall_64: 0.9478\n"
          ]
        },
        {
          "output_type": "stream",
          "name": "stderr",
          "text": [
            "DEBUG flwr 2024-02-29 11:06:45,169 | server.py:187 | evaluate_round 9 received 5 results and 0 failures\n",
            "DEBUG:flwr:evaluate_round 9 received 5 results and 0 failures\n",
            "DEBUG flwr 2024-02-29 11:06:45,173 | server.py:222 | fit_round 10: strategy sampled 10 clients (out of 100)\n",
            "DEBUG:flwr:fit_round 10: strategy sampled 10 clients (out of 100)\n"
          ]
        },
        {
          "output_type": "stream",
          "name": "stdout",
          "text": [
            "\u001b[2m\u001b[36m(DefaultActor pid=52764)\u001b[0m \r1/7 [===>..........................] - ETA: 3s - loss: 0.2166 - accuracy: 0.9219 - precision_65: 0.9189 - recall_65: 0.9444\b\b\b\b\b\b\b\b\b\b\b\b\b\b\b\b\b\b\b\b\b\b\b\b\b\b\b\b\b\b\b\b\b\b\b\b\b\b\b\b\b\b\b\b\b\b\b\b\b\b\b\b\b\b\b\b\b\b\b\b\b\b\b\b\b\b\b\b\b\b\b\b\b\b\b\b\b\b\b\b\b\b\b\b\b\b\b\b\b\b\b\b\b\b\b\b\b\b\b\b\b\b\b\b\b\b\b\b\b\b\b\b\b\b\b\b\b\b\b\b\b\b\b\r4/7 [================>.............] - ETA: 0s - loss: 0.2309 - accuracy: 0.9258 - precision_65: 0.8994 - recall_65: 0.9795\n",
            "\u001b[2m\u001b[36m(DefaultActor pid=52764)\u001b[0m \b\b\b\b\b\b\b\b\b\b\b\b\b\b\b\b\b\b\b\b\b\b\b\b\b\b\b\b\b\b\b\b\b\b\b\b\b\b\b\b\b\b\b\b\b\b\b\b\b\b\b\b\b\b\b\b\b\b\b\b\b\b\b\b\b\b\b\b\b\b\b\b\b\b\b\b\b\b\b\b\b\b\b\b\b\b\b\b\b\b\b\b\b\b\b\b\b\b\b\b\b\b\b\b\b\b\b\b\b\b\b\b\b\b\b\b\b\b\b\b\b\b\b\r7/7 [==============================] - ETA: 0s - loss: 0.2570 - accuracy: 0.9136 - precision_65: 0.8884 - recall_65: 0.9696\b\b\b\b\b\b\b\b\b\b\b\b\b\b\b\b\b\b\b\b\b\b\b\b\b\b\b\b\b\b\b\b\b\b\b\b\b\b\b\b\b\b\b\b\b\b\b\b\b\b\b\b\b\b\b\b\b\b\b\b\b\b\b\b\b\b\b\b\b\b\b\b\b\b\b\b\b\b\b\b\b\b\b\b\b\b\b\b\b\b\b\b\b\b\b\b\b\b\b\b\b\b\b\b\b\b\b\b\b\b\b\b\b\b\b\b\b\b\b\b\b\b\b\r7/7 [==============================] - 1s 19ms/step - loss: 0.2570 - accuracy: 0.9136 - precision_65: 0.8884 - recall_65: 0.9696\n"
          ]
        },
        {
          "output_type": "stream",
          "name": "stderr",
          "text": [
            "DEBUG flwr 2024-02-29 11:07:20,035 | server.py:236 | fit_round 10 received 10 results and 0 failures\n",
            "DEBUG:flwr:fit_round 10 received 10 results and 0 failures\n"
          ]
        },
        {
          "output_type": "stream",
          "name": "stdout",
          "text": [
            "1579/1579 [==============================] - 35s 22ms/step - loss: 0.2520 - accuracy: 0.9177 - precision_24: 0.8933 - recall_24: 0.9671\n"
          ]
        },
        {
          "output_type": "stream",
          "name": "stderr",
          "text": [
            "INFO flwr 2024-02-29 11:08:01,818 | server.py:125 | fit progress: (10, 0.2519906759262085, {'accuracy': 0.9176580309867859, 'precision': 0.8933177590370178, 'recall': 0.9671356678009033}, 778.8634578869987)\n",
            "INFO:flwr:fit progress: (10, 0.2519906759262085, {'accuracy': 0.9176580309867859, 'precision': 0.8933177590370178, 'recall': 0.9671356678009033}, 778.8634578869987)\n",
            "DEBUG flwr 2024-02-29 11:08:01,825 | server.py:173 | evaluate_round 10: strategy sampled 5 clients (out of 100)\n",
            "DEBUG:flwr:evaluate_round 10: strategy sampled 5 clients (out of 100)\n"
          ]
        },
        {
          "output_type": "stream",
          "name": "stdout",
          "text": [
            "\u001b[2m\u001b[36m(DefaultActor pid=52764)\u001b[0m \r1/7 [===>..........................] - ETA: 6s - loss: 0.3203 - accuracy: 0.8750 - precision_71: 0.8776 - recall_71: 0.9556\b\b\b\b\b\b\b\b\b\b\b\b\b\b\b\b\b\b\b\b\b\b\b\b\b\b\b\b\b\b\b\b\b\b\b\b\b\b\b\b\b\b\b\b\b\b\b\b\b\b\b\b\b\b\b\b\b\b\b\b\b\b\b\b\b\b\b\b\b\b\b\b\b\b\b\b\b\b\b\b\b\b\b\b\b\b\b\b\b\b\b\b\b\b\b\b\b\b\b\b\b\b\b\b\b\b\b\b\b\b\b\b\b\b\b\b\b\b\b\b\b\b\b\r3/7 [===========>..................] - ETA: 0s - loss: 0.2654 - accuracy: 0.9062 - precision_71: 0.8968 - recall_71: 0.9576\u001b[32m [repeated 3x across cluster]\u001b[0m\n",
            "\u001b[2m\u001b[36m(DefaultActor pid=52765)\u001b[0m \b\b\b\b\b\b\b\b\b\b\b\b\b\b\b\b\b\b\b\b\b\b\b\b\b\b\b\b\b\b\b\b\b\b\b\b\b\b\b\b\b\b\b\b\b\b\b\b\b\b\b\b\b\b\b\b\b\b\b\b\b\b\b\b\b\b\b\b\b\b\b\b\b\b\b\b\b\b\b\b\b\b\b\b\b\b\b\b\b\b\b\b\b\b\b\b\b\b\b\b\b\b\b\b\b\b\b\b\b\b\b\b\b\b\b\b\b\b\b\b\b\b\b\r6/7 [========================>.....] - ETA: 0s - loss: 0.1796 - accuracy: 0.9453 - precision_69: 0.9370 - recall_69: 0.9738\b\b\b\b\b\b\b\b\b\b\b\b\b\b\b\b\b\b\b\b\b\b\b\b\b\b\b\b\b\b\b\b\b\b\b\b\b\b\b\b\b\b\b\b\b\b\b\b\b\b\b\b\b\b\b\b\b\b\b\b\b\b\b\b\b\b\b\b\b\b\b\b\b\b\b\b\b\b\b\b\b\b\b\b\b\b\b\b\b\b\b\b\b\b\b\b\b\b\b\b\b\b\b\b\b\b\b\b\b\b\b\b\b\b\b\b\b\b\b\b\b\b\b\r7/7 [==============================] - 1s 29ms/step - loss: 0.1805 - accuracy: 0.9457 - precision_69: 0.9365 - recall_69: 0.9752\n",
            "7/7 [==============================] - 1s 30ms/step - loss: 0.3095 - accuracy: 0.8889 - precision_71: 0.8769 - recall_71: 0.9461\n",
            "1/7 [===>..........................] - ETA: 13s - loss: 0.1925 - accuracy: 0.9375 - precision_75: 0.9737 - recall_75: 0.9250\n",
            "3/7 [===========>..................] - ETA: 0s - loss: 0.2322 - accuracy: 0.9271 - precision_75: 0.9138 - recall_75: 0.9636 \n",
            "2/7 [=======>......................] - ETA: 0s - loss: 0.2810 - accuracy: 0.9141 - precision_72: 0.8939 - recall_72: 0.9365\n",
            "6/7 [========================>.....] - ETA: 0s - loss: 0.2627 - accuracy: 0.9167 - precision_72: 0.8935 - recall_72: 0.9554\n",
            "7/7 [==============================] - 1s 29ms/step - loss: 0.2611 - accuracy: 0.9160 - precision_72: 0.8961 - recall_72: 0.9539\n",
            "1/7 [===>..........................] - ETA: 6s - loss: 0.3704 - accuracy: 0.8750 - precision_76: 0.8537 - recall_76: 0.9459\n",
            "3/7 [===========>..................] - ETA: 0s - loss: 0.3329 - accuracy: 0.8854 - precision_76: 0.8571 - recall_76: 0.9533\n",
            "4/7 [================>.............] - ETA: 0s - loss: 0.3158 - accuracy: 0.8906 - precision_76: 0.8590 - recall_76: 0.9571\n"
          ]
        },
        {
          "output_type": "stream",
          "name": "stderr",
          "text": [
            "DEBUG flwr 2024-02-29 11:08:08,843 | server.py:187 | evaluate_round 10 received 5 results and 0 failures\n",
            "DEBUG:flwr:evaluate_round 10 received 5 results and 0 failures\n",
            "INFO flwr 2024-02-29 11:08:08,851 | server.py:153 | FL finished in 785.8960827709998\n",
            "INFO:flwr:FL finished in 785.8960827709998\n",
            "INFO flwr 2024-02-29 11:08:08,855 | app.py:226 | app_fit: losses_distributed [(1, 0.32194687724113463), (2, 0.2621400445699692), (3, 0.2619623988866806), (4, 0.2668640285730362), (5, 0.2548129916191101), (6, 0.2527518719434738), (7, 0.2418711632490158), (8, 0.28361676931381224), (9, 0.255066579580307), (10, 0.27077357172966005)]\n",
            "INFO:flwr:app_fit: losses_distributed [(1, 0.32194687724113463), (2, 0.2621400445699692), (3, 0.2619623988866806), (4, 0.2668640285730362), (5, 0.2548129916191101), (6, 0.2527518719434738), (7, 0.2418711632490158), (8, 0.28361676931381224), (9, 0.255066579580307), (10, 0.27077357172966005)]\n",
            "INFO flwr 2024-02-29 11:08:08,858 | app.py:227 | app_fit: metrics_distributed_fit {}\n",
            "INFO:flwr:app_fit: metrics_distributed_fit {}\n",
            "INFO flwr 2024-02-29 11:08:08,861 | app.py:228 | app_fit: metrics_distributed {'accuracy': [(1, 0.8903703570365906), (2, 0.9111111283302307), (3, 0.9111111044883728), (4, 0.9145679116249085), (5, 0.9185185074806214), (6, 0.9195061683654785), (7, 0.9254320979118347), (8, 0.9056789994239807), (9, 0.917037034034729), (10, 0.9091358065605164)], 'precision': [(1, 0.8893104791641235), (2, 0.8989261627197266), (3, 0.8925253391265869), (4, 0.8896828413009643), (5, 0.8902119994163513), (6, 0.8887018442153931), (7, 0.8964817523956299), (8, 0.8768601536750793), (9, 0.898502254486084), (10, 0.8862026572227478)], 'recall': [(1, 0.9181484103202819), (2, 0.9453901648521423), (3, 0.9518779277801513), (4, 0.9577652454376221), (5, 0.9664472579956055), (6, 0.9726499915122986), (7, 0.9766771554946899), (8, 0.9641857624053956), (9, 0.9635273456573487), (10, 0.9612598299980164)]}\n",
            "INFO:flwr:app_fit: metrics_distributed {'accuracy': [(1, 0.8903703570365906), (2, 0.9111111283302307), (3, 0.9111111044883728), (4, 0.9145679116249085), (5, 0.9185185074806214), (6, 0.9195061683654785), (7, 0.9254320979118347), (8, 0.9056789994239807), (9, 0.917037034034729), (10, 0.9091358065605164)], 'precision': [(1, 0.8893104791641235), (2, 0.8989261627197266), (3, 0.8925253391265869), (4, 0.8896828413009643), (5, 0.8902119994163513), (6, 0.8887018442153931), (7, 0.8964817523956299), (8, 0.8768601536750793), (9, 0.898502254486084), (10, 0.8862026572227478)], 'recall': [(1, 0.9181484103202819), (2, 0.9453901648521423), (3, 0.9518779277801513), (4, 0.9577652454376221), (5, 0.9664472579956055), (6, 0.9726499915122986), (7, 0.9766771554946899), (8, 0.9641857624053956), (9, 0.9635273456573487), (10, 0.9612598299980164)]}\n",
            "INFO flwr 2024-02-29 11:08:08,863 | app.py:229 | app_fit: losses_centralized [(0, 0.9832313656806946), (1, 0.33278295397758484), (2, 0.2891472280025482), (3, 0.27619147300720215), (4, 0.26887932419776917), (5, 0.2643461525440216), (6, 0.2618025839328766), (7, 0.25804567337036133), (8, 0.256234347820282), (9, 0.2562549412250519), (10, 0.2519906759262085)]\n",
            "INFO:flwr:app_fit: losses_centralized [(0, 0.9832313656806946), (1, 0.33278295397758484), (2, 0.2891472280025482), (3, 0.27619147300720215), (4, 0.26887932419776917), (5, 0.2643461525440216), (6, 0.2618025839328766), (7, 0.25804567337036133), (8, 0.256234347820282), (9, 0.2562549412250519), (10, 0.2519906759262085)]\n",
            "INFO flwr 2024-02-29 11:08:08,872 | app.py:230 | app_fit: metrics_centralized {'accuracy': [(0, 0.44499316811561584), (1, 0.8834444880485535), (2, 0.9020308256149292), (3, 0.9075928926467896), (4, 0.9110568165779114), (5, 0.9132440090179443), (6, 0.9137091636657715), (7, 0.9157181978225708), (8, 0.9164208769798279), (9, 0.9155400991439819), (10, 0.9176580309867859)], 'precision': [(0, 0.0), (1, 0.8836202621459961), (2, 0.886482298374176), (3, 0.8892831206321716), (4, 0.8914156556129456), (5, 0.8898373246192932), (6, 0.8929377198219299), (7, 0.8909566402435303), (8, 0.8916625380516052), (9, 0.8948723673820496), (10, 0.8933177590370178)], 'recall': [(0, 0.0), (1, 0.9098236560821533), (2, 0.9444177150726318), (3, 0.9520319700241089), (4, 0.9562224745750427), (5, 0.9628916382789612), (6, 0.9595748782157898), (7, 0.9664223790168762), (8, 0.9668859839439392), (9, 0.9606804847717285), (10, 0.9671356678009033)]}\n",
            "INFO:flwr:app_fit: metrics_centralized {'accuracy': [(0, 0.44499316811561584), (1, 0.8834444880485535), (2, 0.9020308256149292), (3, 0.9075928926467896), (4, 0.9110568165779114), (5, 0.9132440090179443), (6, 0.9137091636657715), (7, 0.9157181978225708), (8, 0.9164208769798279), (9, 0.9155400991439819), (10, 0.9176580309867859)], 'precision': [(0, 0.0), (1, 0.8836202621459961), (2, 0.886482298374176), (3, 0.8892831206321716), (4, 0.8914156556129456), (5, 0.8898373246192932), (6, 0.8929377198219299), (7, 0.8909566402435303), (8, 0.8916625380516052), (9, 0.8948723673820496), (10, 0.8933177590370178)], 'recall': [(0, 0.0), (1, 0.9098236560821533), (2, 0.9444177150726318), (3, 0.9520319700241089), (4, 0.9562224745750427), (5, 0.9628916382789612), (6, 0.9595748782157898), (7, 0.9664223790168762), (8, 0.9668859839439392), (9, 0.9606804847717285), (10, 0.9671356678009033)]}\n"
          ]
        },
        {
          "output_type": "stream",
          "name": "stdout",
          "text": [
            "\u001b[2m\u001b[36m(DefaultActor pid=52764)\u001b[0m \b\b\b\b\b\b\b\b\b\b\b\b\b\b\b\b\b\b\b\b\b\b\b\b\b\b\b\b\b\b\b\b\b\b\b\b\b\b\b\b\b\b\b\b\b\b\b\b\b\b\b\b\b\b\b\b\b\b\b\b\b\b\b\b\b\b\b\b\b\b\b\b\b\b\b\b\b\b\b\b\b\b\b\b\b\b\b\b\b\b\b\b\b\b\b\b\b\b\b\b\b\b\b\b\b\b\b\b\b\b\b\b\b\b\b\b\b\b\b\b\b\b\b\r7/7 [==============================] - 1s 19ms/step - loss: 0.2317 - accuracy: 0.9235 - precision_73: 0.9000 - recall_73: 0.9740\n"
          ]
        }
      ]
    },
    {
      "cell_type": "code",
      "execution_count": 70,
      "metadata": {
        "id": "fa3sHQYT3eII",
        "colab": {
          "base_uri": "https://localhost:8080/",
          "height": 943
        },
        "outputId": "12bb7cad-57b4-4b20-8d04-8acb882b00c5"
      },
      "outputs": [
        {
          "output_type": "stream",
          "name": "stdout",
          "text": [
            "history.metrics_centralized = {'accuracy': [(0, 0.44499316811561584), (1, 0.8834444880485535), (2, 0.9020308256149292), (3, 0.9075928926467896), (4, 0.9110568165779114), (5, 0.9132440090179443), (6, 0.9137091636657715), (7, 0.9157181978225708), (8, 0.9164208769798279), (9, 0.9155400991439819), (10, 0.9176580309867859)], 'precision': [(0, 0.0), (1, 0.8836202621459961), (2, 0.886482298374176), (3, 0.8892831206321716), (4, 0.8914156556129456), (5, 0.8898373246192932), (6, 0.8929377198219299), (7, 0.8909566402435303), (8, 0.8916625380516052), (9, 0.8948723673820496), (10, 0.8933177590370178)], 'recall': [(0, 0.0), (1, 0.9098236560821533), (2, 0.9444177150726318), (3, 0.9520319700241089), (4, 0.9562224745750427), (5, 0.9628916382789612), (6, 0.9595748782157898), (7, 0.9664223790168762), (8, 0.9668859839439392), (9, 0.9606804847717285), (10, 0.9671356678009033)]}\n"
          ]
        },
        {
          "output_type": "display_data",
          "data": {
            "text/plain": [
              "<Figure size 640x480 with 1 Axes>"
            ],
            "image/png": "[encoded data removed]"
          },
          "metadata": {}
        },
        {
          "output_type": "stream",
          "name": "stdout",
          "text": [
            "╒═════════╤════════════════╤═════════════╤══════════╕\n",
            "│   Round │   Accuracy (%) │   Precision │   Recall │\n",
            "╞═════════╪════════════════╪═════════════╪══════════╡\n",
            "│       0 │        44.4993 │      0      │   0      │\n",
            "├─────────┼────────────────┼─────────────┼──────────┤\n",
            "│       1 │        88.3444 │     88.362  │  90.9824 │\n",
            "├─────────┼────────────────┼─────────────┼──────────┤\n",
            "│       2 │        90.2031 │     88.6482 │  94.4418 │\n",
            "├─────────┼────────────────┼─────────────┼──────────┤\n",
            "│       3 │        90.7593 │     88.9283 │  95.2032 │\n",
            "├─────────┼────────────────┼─────────────┼──────────┤\n",
            "│       4 │        91.1057 │     89.1416 │  95.6222 │\n",
            "├─────────┼────────────────┼─────────────┼──────────┤\n",
            "│       5 │        91.3244 │     88.9837 │  96.2892 │\n",
            "├─────────┼────────────────┼─────────────┼──────────┤\n",
            "│       6 │        91.3709 │     89.2938 │  95.9575 │\n",
            "├─────────┼────────────────┼─────────────┼──────────┤\n",
            "│       7 │        91.5718 │     89.0957 │  96.6422 │\n",
            "├─────────┼────────────────┼─────────────┼──────────┤\n",
            "│       8 │        91.6421 │     89.1663 │  96.6886 │\n",
            "├─────────┼────────────────┼─────────────┼──────────┤\n",
            "│       9 │        91.554  │     89.4872 │  96.068  │\n",
            "├─────────┼────────────────┼─────────────┼──────────┤\n",
            "│      10 │        91.7658 │     89.3318 │  96.7136 │\n",
            "╘═════════╧════════════════╧═════════════╧══════════╛\n"
          ]
        }
      ],
      "source": [
        "import matplotlib.pyplot as plt\n",
        "from tabulate import tabulate\n",
        "\n",
        "# I dati dell'accuratezza\n",
        "print(f\"{history.metrics_centralized = }\")\n",
        "global_accuracy_centralised = history.metrics_centralized[\"accuracy\"]\n",
        "global_recall_centralised = history.metrics_centralized[\"recall\"]\n",
        "global_precision_centralised = history.metrics_centralized[\"precision\"]\n",
        "\n",
        "\n",
        "rounds = [data[0] for data in global_accuracy_centralised]\n",
        "accuracies = [100.0 * data[1] for data in global_accuracy_centralised]\n",
        "recalls = [100.0 * data[1] for data in global_recall_centralised]\n",
        "precisions = [100.0 * data[1] for data in global_precision_centralised]\n",
        "\n",
        "\n",
        "# Plot\n",
        "plt.plot(rounds, accuracies)\n",
        "plt.grid()\n",
        "plt.ylabel(\"Accuracy (%)\")\n",
        "plt.xlabel(\"Round\")\n",
        "plt.scatter(rounds,accuracies)\n",
        "\n",
        "plt.plot(rounds,recalls)\n",
        "plt.scatter(rounds,recalls)\n",
        "\n",
        "plt.plot(rounds,precisions)\n",
        "plt.scatter(rounds,precisions)\n",
        "\n",
        "\n",
        "plt.title(str(settings['NUM_CLIENTS']) + ' clients with ' + str(int(settings['FRACTION_FIT']*settings['NUM_CLIENTS'])) + ' clients per round, with strategy ' + settings['STRATEGY_TYPE'])  # Correzione qui\n",
        "plt.show()\n",
        "\n",
        "# Tabella\n",
        "data_table = [[\"Round\", \"Accuracy (%)\",\"Precision\",\"Recall\"]] + [[r, a,p,rec] for r, a,p, rec in zip(rounds, accuracies, precisions, recalls)]\n",
        "table = tabulate(data_table, headers=\"firstrow\", tablefmt=\"fancy_grid\")\n",
        "print(table)"
      ]
    }
  ],
  "metadata": {
    "colab": {
      "provenance": [],
      "include_colab_link": true
    },
    "kernelspec": {
      "display_name": "Python 3",
      "name": "python3"
    }
  },
  "nbformat": 4,
  "nbformat_minor": 0
}