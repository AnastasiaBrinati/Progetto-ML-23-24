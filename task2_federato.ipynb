{
  "cells": [
    {
      "cell_type": "markdown",
      "metadata": {
        "id": "view-in-github",
        "colab_type": "text"
      },
      "source": [
        "<a href=\"https://colab.research.google.com/github/AnastasiaBrinati/Progetto-ML-23-24/blob/main/task2_federato.ipynb\" target=\"_parent\"><img src=\"https://colab.research.google.com/assets/colab-badge.svg\" alt=\"Open In Colab\"/></a>"
      ]
    },
    {
      "cell_type": "markdown",
      "source": [
        "# TASK 2 FEDERATED"
      ],
      "metadata": {
        "id": "lewzmOwzbJdx"
      }
    },
    {
      "cell_type": "markdown",
      "source": [
        "###Imports"
      ],
      "metadata": {
        "id": "NvgmzdVzqco3"
      }
    },
    {
      "cell_type": "code",
      "execution_count": 1,
      "metadata": {
        "id": "Kdag3ZazaYXX",
        "colab": {
          "base_uri": "https://localhost:8080/"
        },
        "outputId": "a07cc441-4315-41e2-9a92-b492f50baabf"
      },
      "outputs": [
        {
          "output_type": "stream",
          "name": "stdout",
          "text": [
            "\u001b[2K     \u001b[90m━━━━━━━━━━━━━━━━━━━━━━━━━━━━━━━━━━━━━━━━\u001b[0m \u001b[32m235.0/235.0 kB\u001b[0m \u001b[31m5.0 MB/s\u001b[0m eta \u001b[36m0:00:00\u001b[0m\n",
            "\u001b[2K     \u001b[90m━━━━━━━━━━━━━━━━━━━━━━━━━━━━━━━━━━━━━━━━\u001b[0m \u001b[32m4.4/4.4 MB\u001b[0m \u001b[31m40.9 MB/s\u001b[0m eta \u001b[36m0:00:00\u001b[0m\n",
            "\u001b[2K     \u001b[90m━━━━━━━━━━━━━━━━━━━━━━━━━━━━━━━━━━━━━━━━\u001b[0m \u001b[32m294.6/294.6 kB\u001b[0m \u001b[31m20.9 MB/s\u001b[0m eta \u001b[36m0:00:00\u001b[0m\n",
            "\u001b[2K     \u001b[90m━━━━━━━━━━━━━━━━━━━━━━━━━━━━━━━━━━━━━━━━\u001b[0m \u001b[32m2.1/2.1 MB\u001b[0m \u001b[31m56.0 MB/s\u001b[0m eta \u001b[36m0:00:00\u001b[0m\n",
            "\u001b[2K     \u001b[90m━━━━━━━━━━━━━━━━━━━━━━━━━━━━━━━━━━━━━━━━\u001b[0m \u001b[32m3.1/3.1 MB\u001b[0m \u001b[31m67.7 MB/s\u001b[0m eta \u001b[36m0:00:00\u001b[0m\n",
            "\u001b[2K     \u001b[90m━━━━━━━━━━━━━━━━━━━━━━━━━━━━━━━━━━━━━━━━\u001b[0m \u001b[32m56.9/56.9 MB\u001b[0m \u001b[31m10.2 MB/s\u001b[0m eta \u001b[36m0:00:00\u001b[0m\n",
            "\u001b[?25h\u001b[31mERROR: pip's dependency resolver does not currently take into account all the packages that are installed. This behaviour is the source of the following dependency conflicts.\n",
            "tensorflow-metadata 1.14.0 requires protobuf<4.21,>=3.20.3, but you have protobuf 4.25.3 which is incompatible.\u001b[0m\u001b[31m\n",
            "\u001b[2K     \u001b[90m━━━━━━━━━━━━━━━━━━━━━━━━━━━━━━━━━━━━━━━━\u001b[0m \u001b[32m510.5/510.5 kB\u001b[0m \u001b[31m15.2 MB/s\u001b[0m eta \u001b[36m0:00:00\u001b[0m\n",
            "\u001b[2K     \u001b[90m━━━━━━━━━━━━━━━━━━━━━━━━━━━━━━━━━━━━━━━━\u001b[0m \u001b[32m116.3/116.3 kB\u001b[0m \u001b[31m15.1 MB/s\u001b[0m eta \u001b[36m0:00:00\u001b[0m\n",
            "\u001b[2K     \u001b[90m━━━━━━━━━━━━━━━━━━━━━━━━━━━━━━━━━━━━━━━━\u001b[0m \u001b[32m134.8/134.8 kB\u001b[0m \u001b[31m15.7 MB/s\u001b[0m eta \u001b[36m0:00:00\u001b[0m\n",
            "\u001b[?25h"
          ]
        }
      ],
      "source": [
        "!pip install -q flwr[\"simulation\"] tensorflow\n",
        "!pip install -q flwr_datasets[\"vision\"]"
      ]
    },
    {
      "cell_type": "markdown",
      "metadata": {
        "id": "YsCrnSxGaYXZ"
      },
      "source": [
        "Let's also install Matplotlib so we can make some plots once the simulation is completed"
      ]
    },
    {
      "cell_type": "code",
      "execution_count": 2,
      "metadata": {
        "id": "Etxk-fLMaYXa",
        "colab": {
          "base_uri": "https://localhost:8080/"
        },
        "outputId": "7d0ffbcf-f307-4654-a451-b8c0901ece82"
      },
      "outputs": [
        {
          "output_type": "stream",
          "name": "stdout",
          "text": [
            "Requirement already satisfied: matplotlib in /usr/local/lib/python3.10/dist-packages (3.7.1)\n",
            "Requirement already satisfied: contourpy>=1.0.1 in /usr/local/lib/python3.10/dist-packages (from matplotlib) (1.2.0)\n",
            "Requirement already satisfied: cycler>=0.10 in /usr/local/lib/python3.10/dist-packages (from matplotlib) (0.12.1)\n",
            "Requirement already satisfied: fonttools>=4.22.0 in /usr/local/lib/python3.10/dist-packages (from matplotlib) (4.49.0)\n",
            "Requirement already satisfied: kiwisolver>=1.0.1 in /usr/local/lib/python3.10/dist-packages (from matplotlib) (1.4.5)\n",
            "Requirement already satisfied: numpy>=1.20 in /usr/local/lib/python3.10/dist-packages (from matplotlib) (1.25.2)\n",
            "Requirement already satisfied: packaging>=20.0 in /usr/local/lib/python3.10/dist-packages (from matplotlib) (23.2)\n",
            "Requirement already satisfied: pillow>=6.2.0 in /usr/local/lib/python3.10/dist-packages (from matplotlib) (9.4.0)\n",
            "Requirement already satisfied: pyparsing>=2.3.1 in /usr/local/lib/python3.10/dist-packages (from matplotlib) (3.1.1)\n",
            "Requirement already satisfied: python-dateutil>=2.7 in /usr/local/lib/python3.10/dist-packages (from matplotlib) (2.8.2)\n",
            "Requirement already satisfied: six>=1.5 in /usr/local/lib/python3.10/dist-packages (from python-dateutil>=2.7->matplotlib) (1.16.0)\n"
          ]
        }
      ],
      "source": [
        "!pip install matplotlib"
      ]
    },
    {
      "cell_type": "markdown",
      "metadata": {
        "id": "YHgw_29TaYXa"
      },
      "source": [
        "Next, we import the required dependencies. The most important imports are Flower (`flwr`) and TensorFlow:"
      ]
    },
    {
      "cell_type": "code",
      "execution_count": 3,
      "metadata": {
        "id": "ZLNGNaxTaYXb"
      },
      "outputs": [],
      "source": [
        "from typing import Dict, List, Tuple\n",
        "\n",
        "import tensorflow as tf\n",
        "\n",
        "import flwr as fl\n",
        "from flwr.common import Metrics\n",
        "from flwr.simulation.ray_transport.utils import enable_tf_gpu_growth\n",
        "\n",
        "from datasets import Dataset\n",
        "from flwr_datasets import FederatedDataset\n",
        "\n",
        "VERBOSE = 0\n",
        "NUM_CLIENTS = 100"
      ]
    },
    {
      "cell_type": "code",
      "source": [
        "import tensorflow as tf\n",
        "\n",
        "from tensorflow import keras\n",
        "from keras import layers"
      ],
      "metadata": {
        "id": "A27Y2ltGF1o6",
        "colab": {
          "base_uri": "https://localhost:8080/"
        },
        "outputId": "ec7da43a-7105-42b4-9f8f-673a8d4381d3"
      },
      "execution_count": 4,
      "outputs": [
        {
          "output_type": "stream",
          "name": "stderr",
          "text": [
            "/usr/local/lib/python3.10/dist-packages/ipykernel/ipkernel.py:283: DeprecationWarning: `should_run_async` will not call `transform_cell` automatically in the future. Please pass the result to `transformed_cell` argument and any exception that happen during thetransform in `preprocessing_exc_tuple` in IPython 7.17 and above.\n",
            "  and should_run_async(code)\n"
          ]
        }
      ]
    },
    {
      "cell_type": "code",
      "source": [
        "import matplotlib.pyplot as plt\n",
        "import numpy as np\n",
        "import pandas as pd\n",
        "import seaborn as sns\n",
        "\n",
        "# Make NumPy printouts easier to read.\n",
        "np.set_printoptions(precision=3, suppress=True)"
      ],
      "metadata": {
        "id": "4K6JuL9mf0OK"
      },
      "execution_count": 5,
      "outputs": []
    },
    {
      "cell_type": "markdown",
      "source": [
        "## Model"
      ],
      "metadata": {
        "id": "c_s34JBdndhk"
      }
    },
    {
      "cell_type": "markdown",
      "source": [
        "It is good practice to normalize features that use different scales and ranges.\n",
        "\n",
        "One reason this is important is because the features are multiplied by the model weights. So, the scale of the outputs and the scale of the gradients are affected by the scale of the inputs.\n",
        "\n",
        "Although a model *might* converge without feature normalization, normalization makes training much more stable.\n",
        "\n",
        "Note: There is no advantage to normalizing the one-hot features—it is done here for simplicity. For more details on how to use the preprocessing layers, refer to the [Working with preprocessing layers](https://www.tensorflow.org/guide/keras/preprocessing_layers) guide and the [Classify structured data using Keras preprocessing layers](../structured_data/preprocessing_layers.ipynb) tutorial."
      ],
      "metadata": {
        "id": "FYNz9lbPnjug"
      }
    },
    {
      "cell_type": "markdown",
      "source": [
        "### Building the DNN"
      ],
      "metadata": {
        "id": "wkDHbVO3AljH"
      }
    },
    {
      "cell_type": "code",
      "execution_count": 6,
      "metadata": {
        "id": "DQdlkjqF19ol",
        "colab": {
          "base_uri": "https://localhost:8080/"
        },
        "outputId": "34154460-4f32-4db8-de2f-86732df1062e"
      },
      "outputs": [
        {
          "output_type": "stream",
          "name": "stderr",
          "text": [
            "/usr/local/lib/python3.10/dist-packages/ipykernel/ipkernel.py:283: DeprecationWarning: `should_run_async` will not call `transform_cell` automatically in the future. Please pass the result to `transformed_cell` argument and any exception that happen during thetransform in `preprocessing_exc_tuple` in IPython 7.17 and above.\n",
            "  and should_run_async(code)\n"
          ]
        }
      ],
      "source": [
        "def get_model():\n",
        "\n",
        "    \"\"\"Constructs a model suitable.\"\"\"\n",
        "    # Define input layers for all the features\n",
        "    mwg_input = tf.keras.layers.Input(shape=(1,), name='MWG')\n",
        "    nwg_input = tf.keras.layers.Input(shape=(1,), name='NWG')\n",
        "    kwg_input = tf.keras.layers.Input(shape=(1,), name='KWG')\n",
        "    mdimc_input = tf.keras.layers.Input(shape=(1,), name='MDIMC')\n",
        "    ndimc_input = tf.keras.layers.Input(shape=(1,), name='NDIMC')\n",
        "    mdima_input = tf.keras.layers.Input(shape=(1,), name='MDIMA')\n",
        "    ndimb_input = tf.keras.layers.Input(shape=(1,), name='NDIMB')\n",
        "    kwi_input = tf.keras.layers.Input(shape=(1,), name='KWI')\n",
        "    vwm_input = tf.keras.layers.Input(shape=(1,), name='VWM')\n",
        "    vwn_input = tf.keras.layers.Input(shape=(1,), name='VWN')\n",
        "    strm_input = tf.keras.layers.Input(shape=(1,), name='STRM')\n",
        "    strn_input = tf.keras.layers.Input(shape=(1,), name='STRN')\n",
        "    sa_input = tf.keras.layers.Input(shape=(1,), name='SA')\n",
        "    sb_input = tf.keras.layers.Input(shape=(1,), name='SB')\n",
        "\n",
        "\n",
        "    # Concatenate the input tensors\n",
        "    concatenated_inputs = tf.keras.layers.concatenate([mwg_input, nwg_input,kwg_input,mdimc_input,\n",
        "                                                       ndimc_input,mdima_input,ndimb_input,kwi_input,\n",
        "                                                       vwm_input,vwn_input,strm_input,strn_input,\n",
        "                                                       sa_input,sb_input\n",
        "                                                       ])\n",
        "\n",
        "    # Define the rest of the model\n",
        "    x = tf.keras.layers.Flatten()(concatenated_inputs)\n",
        "\n",
        "    #      'num_layers': 2,\n",
        "    #      'units_0': 128,\n",
        "    #      'activation_0': 'sigmoid',\n",
        "    #      'units_1': 128,\n",
        "    #      'activation_1': 'sigmoid',\n",
        "    #      'units_2': 112,\n",
        "    #      'activation_2': 'PReLU',\n",
        "    #      'learning_rate': 0.01,\n",
        "    #      'units_3': 96,\n",
        "    #      'activation_3': 'sigmoid'\n",
        "\n",
        "    x = tf.keras.layers.Dense(128, activation=\"sigmoid\")(x)\n",
        "    x = tf.keras.layers.Dense(128, activation=\"sigmoid\")(x)\n",
        "\n",
        "    output = tf.keras.layers.Dense(1, activation=\"sigmoid\")(x)\n",
        "\n",
        "    # Construct the model\n",
        "    model = tf.keras.models.Model(inputs=[mwg_input, nwg_input,kwg_input,mdimc_input,\n",
        "                                          ndimc_input,mdima_input,ndimb_input,kwi_input,\n",
        "                                          vwm_input,vwn_input,strm_input,strn_input,\n",
        "                                          sa_input,sb_input], outputs=output)\n",
        "\n",
        "    # Compile the model\n",
        "    model.compile(loss='mean_absolute_error', optimizer=tf.keras.optimizers.Adam(0.01), metrics=[\"mse\", \"mape\", \"mean_squared_logarithmic_error\",\"R2Score\"])\n",
        "\n",
        "    return model\n",
        "\n",
        "# come era prima:\n",
        "      #model = keras.Sequential([\n",
        "      #layers.Flatten(),\n",
        "      #layers.Dense(16, activation='relu', name=\"uno\"),  #input_shape=(2, 32,15)\n",
        "      #layers.Dense(1, name=\"ultimo\"),"
      ]
    },
    {
      "cell_type": "code",
      "source": [
        "#dnn_model = get_model(normalizer)\n",
        "dnn_model = get_model()\n",
        "dnn_model.summary()"
      ],
      "metadata": {
        "colab": {
          "base_uri": "https://localhost:8080/"
        },
        "id": "bGzqw0BToFah",
        "outputId": "2ff5a310-6927-4b79-edd0-7a48450190e1"
      },
      "execution_count": 7,
      "outputs": [
        {
          "output_type": "stream",
          "name": "stdout",
          "text": [
            "Model: \"model\"\n",
            "__________________________________________________________________________________________________\n",
            " Layer (type)                Output Shape                 Param #   Connected to                  \n",
            "==================================================================================================\n",
            " MWG (InputLayer)            [(None, 1)]                  0         []                            \n",
            "                                                                                                  \n",
            " NWG (InputLayer)            [(None, 1)]                  0         []                            \n",
            "                                                                                                  \n",
            " KWG (InputLayer)            [(None, 1)]                  0         []                            \n",
            "                                                                                                  \n",
            " MDIMC (InputLayer)          [(None, 1)]                  0         []                            \n",
            "                                                                                                  \n",
            " NDIMC (InputLayer)          [(None, 1)]                  0         []                            \n",
            "                                                                                                  \n",
            " MDIMA (InputLayer)          [(None, 1)]                  0         []                            \n",
            "                                                                                                  \n",
            " NDIMB (InputLayer)          [(None, 1)]                  0         []                            \n",
            "                                                                                                  \n",
            " KWI (InputLayer)            [(None, 1)]                  0         []                            \n",
            "                                                                                                  \n",
            " VWM (InputLayer)            [(None, 1)]                  0         []                            \n",
            "                                                                                                  \n",
            " VWN (InputLayer)            [(None, 1)]                  0         []                            \n",
            "                                                                                                  \n",
            " STRM (InputLayer)           [(None, 1)]                  0         []                            \n",
            "                                                                                                  \n",
            " STRN (InputLayer)           [(None, 1)]                  0         []                            \n",
            "                                                                                                  \n",
            " SA (InputLayer)             [(None, 1)]                  0         []                            \n",
            "                                                                                                  \n",
            " SB (InputLayer)             [(None, 1)]                  0         []                            \n",
            "                                                                                                  \n",
            " concatenate (Concatenate)   (None, 14)                   0         ['MWG[0][0]',                 \n",
            "                                                                     'NWG[0][0]',                 \n",
            "                                                                     'KWG[0][0]',                 \n",
            "                                                                     'MDIMC[0][0]',               \n",
            "                                                                     'NDIMC[0][0]',               \n",
            "                                                                     'MDIMA[0][0]',               \n",
            "                                                                     'NDIMB[0][0]',               \n",
            "                                                                     'KWI[0][0]',                 \n",
            "                                                                     'VWM[0][0]',                 \n",
            "                                                                     'VWN[0][0]',                 \n",
            "                                                                     'STRM[0][0]',                \n",
            "                                                                     'STRN[0][0]',                \n",
            "                                                                     'SA[0][0]',                  \n",
            "                                                                     'SB[0][0]']                  \n",
            "                                                                                                  \n",
            " flatten (Flatten)           (None, 14)                   0         ['concatenate[0][0]']         \n",
            "                                                                                                  \n",
            " dense (Dense)               (None, 128)                  1920      ['flatten[0][0]']             \n",
            "                                                                                                  \n",
            " dense_1 (Dense)             (None, 128)                  16512     ['dense[0][0]']               \n",
            "                                                                                                  \n",
            " dense_2 (Dense)             (None, 1)                    129       ['dense_1[0][0]']             \n",
            "                                                                                                  \n",
            "==================================================================================================\n",
            "Total params: 18561 (72.50 KB)\n",
            "Trainable params: 18561 (72.50 KB)\n",
            "Non-trainable params: 0 (0.00 Byte)\n",
            "__________________________________________________________________________________________________\n"
          ]
        }
      ]
    },
    {
      "cell_type": "markdown",
      "source": [
        "## Clients"
      ],
      "metadata": {
        "id": "Boclv2Z-Aqwr"
      }
    },
    {
      "cell_type": "markdown",
      "metadata": {
        "id": "LWukbw9_aYXd"
      },
      "source": [
        "With that out of the way, let's move on to the interesting bits. Federated learning systems consist of a server and multiple clients. In Flower, we create clients by implementing subclasses of `flwr.client.Client` or `flwr.client.NumPyClient`. We use `NumPyClient` in this tutorial because it is easier to implement and requires us to write less boilerplate.\n",
        "\n",
        "To implement the Flower client, we create a subclass of `flwr.client.NumPyClient` and implement the three methods `get_parameters`, `fit`, and `evaluate`:\n",
        "\n",
        "- `get_parameters`: Return the current local model parameters\n",
        "- `fit`: Receive model parameters from the server, train the model parameters on the local data, and return the (updated) model parameters to the server\n",
        "- `evaluate`: Received model parameters from the server, evaluate the model parameters on the local data, and return the evaluation result to the server\n",
        "\n",
        "We mentioned that our clients will use TensorFlow/Keras for the model training and evaluation. Keras models provide methods that make the implementation straightforward: we can update the local model with server-provides parameters through `model.set_weights`, we can train/evaluate the model through `fit/evaluate`, and we can get the updated model parameters through `model.get_weights`.\n",
        "\n",
        "Let's see a simple implementation:"
      ]
    },
    {
      "cell_type": "code",
      "execution_count": 8,
      "metadata": {
        "id": "ScAm9FDMaYXe"
      },
      "outputs": [],
      "source": [
        "class FlowerClient(fl.client.NumPyClient):\n",
        "    def __init__(self, trainset, valset) -> None:\n",
        "        # Create model\n",
        "        self.model = get_model()\n",
        "        self.trainset = trainset\n",
        "        self.valset = valset\n",
        "\n",
        "    def get_parameters(self, config):\n",
        "        return self.model.get_weights()\n",
        "\n",
        "    def fit(self, parameters, config):\n",
        "        self.model.set_weights(parameters)\n",
        "        self.model.fit(self.trainset, epochs=1, verbose=VERBOSE)\n",
        "        return self.model.get_weights(), len(self.trainset), {}\n",
        "\n",
        "    def evaluate(self, parameters, config):\n",
        "        self.model.set_weights(parameters)\n",
        "        results = self.model.evaluate(self.valset) #, verbose=VERBOSE)\n",
        "\n",
        "        loss = results[0]\n",
        "        mse = results[1]\n",
        "        mape = results[2]\n",
        "        mean_squared_logarithmic_error = results[3]\n",
        "        r2score = results[4]\n",
        "\n",
        "        # return {\"loss\": loss, \"mse\": mse, \"mape\": mape, \"mean_squared_logarithmic_error\":mean_squared_logarithmic_error, \"R2Score\": r2score}\n",
        "        return loss, len(self.valset), {\"loss\": loss, \"mse\": mse, \"mape\": mape, \"mean_squared_logarithmic_error\": mean_squared_logarithmic_error, \"R2Score\": r2score}"
      ]
    },
    {
      "cell_type": "markdown",
      "metadata": {
        "id": "hbT-_UKTaYXf"
      },
      "source": [
        "Our class `FlowerClient` defines how local training/evaluation will be performed and allows Flower to call the local training/evaluation through `fit` and `evaluate`. Each instance of `FlowerClient` represents a *single client* in our federated learning system. Federated learning systems have multiple clients (otherwise, there's not much to federate, is there?), so each client will be represented by its own instance of `FlowerClient`. If we have, for example, three clients in our workload, we'd have three instances of `FlowerClient`. Flower calls `FlowerClient.fit` on the respective instance when the server selects a particular client for training (and `FlowerClient.evaluate` for evaluation).\n",
        "\n",
        "In this notebook, we want to simulate a federated learning system with 100 clients on a single machine. This means that the server and all 100 clients will live on a single machine and share resources such as CPU, GPU, and memory. Having 100 clients would mean having 100 instances of `FlowerClient` in memory. Doing this on a single machine can quickly exhaust the available memory resources, even if only a subset of these clients participates in a single round of federated learning.\n",
        "\n",
        "In addition to the regular capabilities where server and clients run on multiple machines, Flower, therefore, provides special simulation capabilities that create `FlowerClient` instances only when they are actually necessary for training or evaluation. To enable the Flower framework to create clients when necessary, we need to implement a function called `client_fn` that creates a `FlowerClient` instance on demand. Flower calls `client_fn` whenever it needs an instance of one particular client to call `fit` or `evaluate` (those instances are usually discarded after use). Clients are identified by a client ID, or short `cid`. The `cid` can be used, for example, to load different local data partitions for each client"
      ]
    },
    {
      "cell_type": "markdown",
      "source": [
        "##Strategy"
      ],
      "metadata": {
        "id": "uxfM1mgu8qS0"
      }
    },
    {
      "cell_type": "code",
      "execution_count": 9,
      "metadata": {
        "id": "rYcn2qbSaYXg"
      },
      "outputs": [],
      "source": [
        "\"\"\"Returns a function to construct a client.\n",
        "    The VirtualClientEngine will execute this function whenever a client is sampled by the strategy to participate. \"\"\"\n",
        "\n",
        "def get_client_fn(dataset: FederatedDataset):\n",
        "\n",
        "    def client_fn(cid: str) -> fl.client.Client:\n",
        "        \"\"\"Construct a FlowerClient with its own dataset partition.\"\"\"\n",
        "\n",
        "        # Extract partition for client with id = cid\n",
        "        # !!!!!!!!\n",
        "        client_dataset = dataset.load_partition(int(cid), \"train\")\n",
        "\n",
        "        # Now let's split it into train (80%) and validation (20%)\n",
        "        client_dataset_splits = client_dataset.train_test_split(test_size=0.2)\n",
        "\n",
        "        train_set = client_dataset_splits[\"train\"].to_tf_dataset(columns=['MWG', 'NWG', 'KWG', 'MDIMC', 'NDIMC', 'MDIMA', 'NDIMB', 'KWI', 'VWM',\n",
        "       'VWN', 'STRM', 'STRN', 'SA', 'SB'], label_cols=['avg_runs'], batch_size=32)\n",
        "        val_set = client_dataset_splits[\"test\"].to_tf_dataset(columns=['MWG', 'NWG', 'KWG', 'MDIMC', 'NDIMC', 'MDIMA', 'NDIMB', 'KWI', 'VWM',\n",
        "       'VWN', 'STRM', 'STRN', 'SA', 'SB'], label_cols=['avg_runs'], batch_size=64)\n",
        "\n",
        "\n",
        "        # Create and return client\n",
        "        return FlowerClient(train_set, val_set).to_client()\n",
        "\n",
        "    return client_fn"
      ]
    },
    {
      "cell_type": "code",
      "source": [
        "\"\"\"Aggregation function for (federated) evaluation metrics, i.e. those returned by the client's evaluate() method.\"\"\"\n",
        "\n",
        "def weighted_average(metrics: List[Tuple[int, Metrics]]) -> Metrics:\n",
        "    # Multiply metric of each client by number of examples used\n",
        "\n",
        "    #losses = [num_examples * m[\"loss\"] for num_examples, m in metrics]\n",
        "    mses = [num_examples * m[\"mse\"] for num_examples, m in metrics]\n",
        "    mapes = [num_examples * m[\"mape\"] for num_examples, m in metrics]\n",
        "    mean_squared_logarithmic_errors = [num_examples * m[\"mean_squared_logarithmic_error\"] for num_examples, m in metrics]\n",
        "    R2Scores = [num_examples * m[\"R2Score\"] for num_examples, m in metrics]\n",
        "\n",
        "    examples = [num_examples for num_examples, _ in metrics]\n",
        "\n",
        "    # Aggregate and return custom metric (weighted average)\n",
        "    return {\"mse\": sum(mses) / sum(examples), \"mape\": sum(mapes) / sum(examples), \"mean_squared_logarithmic_error\": sum(mean_squared_logarithmic_errors) / sum(examples),\"R2Score\": sum(R2Scores) / sum(examples)}"
      ],
      "metadata": {
        "id": "8h9XCWORTFQP"
      },
      "execution_count": 10,
      "outputs": []
    },
    {
      "cell_type": "code",
      "source": [
        "\"\"\"Returns an evaluation function for server-side (i.e. centralised) evaluation.\"\"\"\n",
        "\n",
        "def get_evaluate_fn(testset: Dataset):\n",
        "    # The `evaluate` function will be called after every round by the strategy\n",
        "    def evaluate(server_round: int, parameters: fl.common.NDArrays, config: Dict[str, fl.common.Scalar]):\n",
        "        model = get_model()  # Construct the model\n",
        "        model.set_weights(parameters)  # Update model with the latest parameters\n",
        "        aiuto = model.evaluate(testset) #, verbose=VERBOSE)\n",
        "        # return {\"loss\": res['loss'], \"mse\": res['mse'], \"mape\": res['mape'], \"mean_squared_logarithmic_error\": res['mean_squared_logarithmic_error'], \"R2Score\": res['R2Score']}\n",
        "        # return {\"loss\": loss, \"mse\": res[0], \"mape\": res[1], \"mean_squared_logarithmic_error\": res[2], \"R2Score\": res[3]}\n",
        "        # return {\"loss\": aiuto[0], \"mse\": aiuto[1], \"mape\": aiuto[2], \"mean_squared_logarithmic_error\": aiuto[3], \"R2Score\": aiuto[4]}\n",
        "        return aiuto[0], {\"mse\": aiuto[1], \"mape\": aiuto[2], \"mean_squared_logarithmic_error\": aiuto[3], \"R2Score\": aiuto[4]}\n",
        "\n",
        "    return evaluate"
      ],
      "metadata": {
        "id": "R6wiCDNeStVr"
      },
      "execution_count": 11,
      "outputs": []
    },
    {
      "cell_type": "markdown",
      "source": [
        "We now have `FlowerClient` which defines client-side training and evaluation, and `client_fn`, which allows Flower to create `FlowerClient` instances whenever it needs to call `fit` or `evaluate` on one particular client. The last step is to start the actual simulation using `flwr.simulation.start_simulation`."
      ],
      "metadata": {
        "id": "q0xhUWGPTzYe"
      }
    },
    {
      "cell_type": "code",
      "source": [
        "\n",
        "# Simulation parameters\n",
        "settings = {\n",
        "    \"VERBOSE\": 0,\n",
        "    \"NUM_CLIENTS\": 100,\n",
        "    \"FRACTION_FIT\": 0.8,\n",
        "    \"FRACTION_EVALUATE\": 0.2,\n",
        "    \"MIN_FIT_CLIENTS\": 5,\n",
        "    \"MIN_EVALUATE_CLIENTS\": 2,\n",
        "    \"MIN_AVAILABLE_CLIENTS_FRACTION\": 0.5,\n",
        "    \"STRATEGY_TYPE\": 'QFedAvg', # QFedAvg, FedAvg, FedProx\n",
        "    \"NUM_ROUNDS\": 10\n",
        "}"
      ],
      "metadata": {
        "id": "9tSn0IXwKyWO",
        "outputId": "4813dc79-f532-45a3-de07-7b6fa517c076",
        "colab": {
          "base_uri": "https://localhost:8080/"
        }
      },
      "execution_count": 33,
      "outputs": [
        {
          "output_type": "stream",
          "name": "stderr",
          "text": [
            "/usr/local/lib/python3.10/dist-packages/ipykernel/ipkernel.py:283: DeprecationWarning: `should_run_async` will not call `transform_cell` automatically in the future. Please pass the result to `transformed_cell` argument and any exception that happen during thetransform in `preprocessing_exc_tuple` in IPython 7.17 and above.\n",
            "  and should_run_async(code)\n"
          ]
        }
      ]
    },
    {
      "cell_type": "code",
      "source": [
        "# Create FedAvg strategy\n",
        "\n",
        "def get_strategy(centralized_testset):\n",
        "\n",
        "  strategy1 = fl.server.strategy.FedAvg(\n",
        "    fraction_fit=0.1,  # Sample 10% of available clients for training\n",
        "    fraction_evaluate=0.05,  # Sample 5% of available clients for evaluation\n",
        "    min_fit_clients=10,  # Never sample less than 10 clients for training\n",
        "    min_evaluate_clients=5,  # Never sample less than 5 clients for evaluation\n",
        "    min_available_clients=int(NUM_CLIENTS * 0.5),  # Wait until at least 75 clients are available\n",
        "    evaluate_metrics_aggregation_fn=weighted_average,  # aggregates federated metrics\n",
        "    evaluate_fn=get_evaluate_fn(centralized_testset),  # global evaluation function\n",
        "  )\n",
        "\n",
        "  strategy2 = fl.server.strategy.FedProx(\n",
        "    proximal_mu=1.0,\n",
        "    fraction_fit=settings[\"FRACTION_FIT\"],\n",
        "    fraction_evaluate=settings[\"FRACTION_EVALUATE\"],\n",
        "    min_fit_clients=settings[\"MIN_FIT_CLIENTS\"],\n",
        "    min_evaluate_clients=settings[\"MIN_EVALUATE_CLIENTS\"],\n",
        "    min_available_clients=int(settings[\"NUM_CLIENTS\"] * settings[\"MIN_AVAILABLE_CLIENTS_FRACTION\"]),\n",
        "    evaluate_metrics_aggregation_fn=weighted_average,\n",
        "    evaluate_fn=get_evaluate_fn(centralized_testset),\n",
        "  )\n",
        "\n",
        "  strategy3 = fl.server.strategy.QFedAvg(\n",
        "    fraction_fit=settings[\"FRACTION_FIT\"],\n",
        "    fraction_evaluate=settings[\"FRACTION_EVALUATE\"],\n",
        "    min_fit_clients=settings[\"MIN_FIT_CLIENTS\"],\n",
        "    min_evaluate_clients=settings[\"MIN_EVALUATE_CLIENTS\"],\n",
        "    min_available_clients=int(settings[\"NUM_CLIENTS\"] * settings[\"MIN_AVAILABLE_CLIENTS_FRACTION\"]),\n",
        "    evaluate_metrics_aggregation_fn=weighted_average,\n",
        "    evaluate_fn=get_evaluate_fn(centralized_testset),\n",
        "  )\n",
        "\n",
        "  return strategy3"
      ],
      "metadata": {
        "id": "1QRIn5KFc8Lh",
        "outputId": "260563f2-78f0-4e1d-f74b-8262b0dd1f90",
        "colab": {
          "base_uri": "https://localhost:8080/"
        }
      },
      "execution_count": 42,
      "outputs": [
        {
          "output_type": "stream",
          "name": "stderr",
          "text": [
            "/usr/local/lib/python3.10/dist-packages/ipykernel/ipkernel.py:283: DeprecationWarning: `should_run_async` will not call `transform_cell` automatically in the future. Please pass the result to `transformed_cell` argument and any exception that happen during thetransform in `preprocessing_exc_tuple` in IPython 7.17 and above.\n",
            "  and should_run_async(code)\n"
          ]
        }
      ]
    },
    {
      "cell_type": "markdown",
      "metadata": {
        "id": "-YeTBpsDaYXg"
      },
      "source": [
        "## Start the Simulation\n",
        "\n",
        "The function `start_simulation` accepts a number of arguments, amongst them the `client_fn` used to create `FlowerClient` instances, the number of clients to simulate `num_clients`, the number of rounds `num_rounds`, and the strategy. The strategy encapsulates the federated learning approach/algorithm, for example, *Federated Averaging* (FedAvg).\n",
        "\n",
        "Flower comes with a number of built-in strategies, but we can also use our own strategy implementations to customize nearly all aspects of the federated learning approach. For this example, we use the built-in `FedAvg` implementation and customize it using a few basic parameters. The last step is the actual call to `start_simulation` which - you guessed it - actually starts the simulation.\n",
        "\n",
        "We can use [Flower Datasets](https://flower.dev/docs/datasets/) to effortlessly obtain an off-the-shelf partitioned dataset or partition one that isn't pre-partitioned. Let's choose MNIST."
      ]
    },
    {
      "cell_type": "code",
      "source": [
        "# Enable GPU growth in your main process\n",
        "enable_tf_gpu_growth()\n",
        "\n",
        "# Download our dataset and partition it\n",
        "gpus_fds = FederatedDataset(dataset=\"anastasiafrosted/gpus\", partitioners={\"train\": NUM_CLIENTS})\n",
        "# Get the whole test set for centralised evaluation\n",
        "#print(column_names)\n",
        "centralized_testset = gpus_fds.load_full(\"test\").to_tf_dataset(columns=['MWG', 'NWG', 'KWG', 'MDIMC', 'NDIMC', 'MDIMA', 'NDIMB', 'KWI', 'VWM',\n",
        "       'VWN', 'STRM', 'STRN', 'SA', 'SB'], label_cols=['avg_runs'], batch_size=64)\n",
        "\n",
        "# get the strategy\n",
        "strategy = get_strategy(centralized_testset)"
      ],
      "metadata": {
        "id": "w0tmibgQkCCq",
        "outputId": "2e6b3c64-e42b-46e8-bc0e-1740e5ee3e89",
        "colab": {
          "base_uri": "https://localhost:8080/"
        }
      },
      "execution_count": 43,
      "outputs": [
        {
          "output_type": "stream",
          "name": "stderr",
          "text": [
            "/usr/local/lib/python3.10/dist-packages/flwr_datasets/utils.py:84: UserWarning: The currently tested dataset are ['mnist', 'cifar10', 'fashion_mnist', 'sasha/dog-food', 'zh-plus/tiny-imagenet']. Given: anastasiafrosted/gpus.\n",
            "  warnings.warn(\n",
            "/usr/local/lib/python3.10/dist-packages/datasets/arrow_dataset.py:401: FutureWarning: The output of `to_tf_dataset` will change when a passing single element list for `labels` or `columns` in the next datasets version. To return a tuple structure rather than dict, pass a single string.\n",
            "Old behaviour: columns=['a'], labels=['labels'] -> (tf.Tensor, tf.Tensor)  \n",
            "             : columns='a', labels='labels' -> (tf.Tensor, tf.Tensor)  \n",
            "New behaviour: columns=['a'],labels=['labels'] -> ({'a': tf.Tensor}, {'labels': tf.Tensor})  \n",
            "             : columns='a', labels='labels' -> (tf.Tensor, tf.Tensor) \n",
            "  warnings.warn(\n"
          ]
        }
      ]
    },
    {
      "cell_type": "code",
      "execution_count": 44,
      "metadata": {
        "id": "pFPZmaYXaYXh",
        "outputId": "80991a7b-19c4-40d5-e53f-3e9277e399ad",
        "colab": {
          "base_uri": "https://localhost:8080/"
        }
      },
      "outputs": [
        {
          "output_type": "stream",
          "name": "stderr",
          "text": [
            "INFO flwr 2024-03-10 16:13:10,259 | app.py:178 | Starting Flower simulation, config: ServerConfig(num_rounds=10, round_timeout=None)\n",
            "INFO:flwr:Starting Flower simulation, config: ServerConfig(num_rounds=10, round_timeout=None)\n",
            "2024-03-10 16:13:16,466\tINFO worker.py:1621 -- Started a local Ray instance.\n",
            "INFO flwr 2024-03-10 16:13:19,371 | app.py:213 | Flower VCE: Ray initialized with resources: {'CPU': 2.0, 'memory': 7848021198.0, 'object_store_memory': 3924010598.0, 'node:172.28.0.12': 1.0, 'node:__internal_head__': 1.0}\n",
            "INFO:flwr:Flower VCE: Ray initialized with resources: {'CPU': 2.0, 'memory': 7848021198.0, 'object_store_memory': 3924010598.0, 'node:172.28.0.12': 1.0, 'node:__internal_head__': 1.0}\n",
            "INFO flwr 2024-03-10 16:13:19,378 | app.py:219 | Optimize your simulation with Flower VCE: https://flower.dev/docs/framework/how-to-run-simulations.html\n",
            "INFO:flwr:Optimize your simulation with Flower VCE: https://flower.dev/docs/framework/how-to-run-simulations.html\n",
            "INFO flwr 2024-03-10 16:13:19,388 | app.py:242 | Flower VCE: Resources for each Virtual Client: {'num_cpus': 2, 'num_gpus': 0.0}\n",
            "INFO:flwr:Flower VCE: Resources for each Virtual Client: {'num_cpus': 2, 'num_gpus': 0.0}\n",
            "INFO flwr 2024-03-10 16:13:19,422 | app.py:288 | Flower VCE: Creating VirtualClientEngineActorPool with 1 actors\n",
            "INFO:flwr:Flower VCE: Creating VirtualClientEngineActorPool with 1 actors\n",
            "INFO flwr 2024-03-10 16:13:19,433 | server.py:89 | Initializing global parameters\n",
            "INFO:flwr:Initializing global parameters\n",
            "INFO flwr 2024-03-10 16:13:19,446 | server.py:276 | Requesting initial parameters from one random client\n",
            "INFO:flwr:Requesting initial parameters from one random client\n",
            "\u001b[2m\u001b[36m(pid=98033)\u001b[0m 2024-03-10 16:13:21.500543: E external/local_xla/xla/stream_executor/cuda/cuda_dnn.cc:9261] Unable to register cuDNN factory: Attempting to register factory for plugin cuDNN when one has already been registered\n",
            "\u001b[2m\u001b[36m(pid=98033)\u001b[0m 2024-03-10 16:13:21.500655: E external/local_xla/xla/stream_executor/cuda/cuda_fft.cc:607] Unable to register cuFFT factory: Attempting to register factory for plugin cuFFT when one has already been registered\n",
            "\u001b[2m\u001b[36m(pid=98033)\u001b[0m 2024-03-10 16:13:21.504875: E external/local_xla/xla/stream_executor/cuda/cuda_blas.cc:1515] Unable to register cuBLAS factory: Attempting to register factory for plugin cuBLAS when one has already been registered\n",
            "\u001b[2m\u001b[36m(pid=98033)\u001b[0m 2024-03-10 16:13:23.839330: W tensorflow/compiler/tf2tensorrt/utils/py_utils.cc:38] TF-TRT Warning: Could not find TensorRT\n",
            "\u001b[2m\u001b[36m(DefaultActor pid=98033)\u001b[0m /usr/local/lib/python3.10/dist-packages/datasets/arrow_dataset.py:401: FutureWarning: The output of `to_tf_dataset` will change when a passing single element list for `labels` or `columns` in the next datasets version. To return a tuple structure rather than dict, pass a single string.\n",
            "\u001b[2m\u001b[36m(DefaultActor pid=98033)\u001b[0m Old behaviour: columns=['a'], labels=['labels'] -> (tf.Tensor, tf.Tensor)  \n",
            "\u001b[2m\u001b[36m(DefaultActor pid=98033)\u001b[0m              : columns='a', labels='labels' -> (tf.Tensor, tf.Tensor)  \n",
            "\u001b[2m\u001b[36m(DefaultActor pid=98033)\u001b[0m New behaviour: columns=['a'],labels=['labels'] -> ({'a': tf.Tensor}, {'labels': tf.Tensor})  \n",
            "\u001b[2m\u001b[36m(DefaultActor pid=98033)\u001b[0m              : columns='a', labels='labels' -> (tf.Tensor, tf.Tensor) \n",
            "\u001b[2m\u001b[36m(DefaultActor pid=98033)\u001b[0m   warnings.warn(\n",
            "INFO flwr 2024-03-10 16:13:27,656 | server.py:280 | Received initial parameters from one random client\n",
            "INFO:flwr:Received initial parameters from one random client\n",
            "INFO flwr 2024-03-10 16:13:27,664 | server.py:91 | Evaluating initial parameters\n",
            "INFO:flwr:Evaluating initial parameters\n"
          ]
        },
        {
          "output_type": "stream",
          "name": "stdout",
          "text": [
            "755/755 [==============================] - 17s 21ms/step - loss: 1.0214 - mse: 4.0234 - mape: 1154.4869 - mean_squared_logarithmic_error: 0.3425 - r2_score: -0.0287\n"
          ]
        },
        {
          "output_type": "stream",
          "name": "stderr",
          "text": [
            "INFO flwr 2024-03-10 16:13:44,472 | server.py:94 | initial parameters (loss, other metrics): 1.0213792324066162, {'mse': 4.023429870605469, 'mape': 1154.4869384765625, 'mean_squared_logarithmic_error': 0.3425126075744629, 'R2Score': -0.028672218322753906}\n",
            "INFO:flwr:initial parameters (loss, other metrics): 1.0213792324066162, {'mse': 4.023429870605469, 'mape': 1154.4869384765625, 'mean_squared_logarithmic_error': 0.3425126075744629, 'R2Score': -0.028672218322753906}\n",
            "INFO flwr 2024-03-10 16:13:44,484 | server.py:104 | FL starting\n",
            "INFO:flwr:FL starting\n",
            "DEBUG flwr 2024-03-10 16:13:44,500 | server.py:222 | fit_round 1: strategy sampled 80 clients (out of 100)\n",
            "DEBUG:flwr:fit_round 1: strategy sampled 80 clients (out of 100)\n",
            "DEBUG flwr 2024-03-10 16:16:54,154 | server.py:236 | fit_round 1 received 80 results and 0 failures\n",
            "DEBUG:flwr:fit_round 1 received 80 results and 0 failures\n"
          ]
        },
        {
          "output_type": "stream",
          "name": "stdout",
          "text": [
            "755/755 [==============================] - 11s 14ms/step - loss: 1.0214 - mse: 4.0234 - mape: 1154.4869 - mean_squared_logarithmic_error: 0.3425 - r2_score: -0.0287\n"
          ]
        },
        {
          "output_type": "stream",
          "name": "stderr",
          "text": [
            "WARNING flwr 2024-03-10 16:17:05,723 | qfedavg.py:225 | No fit_metrics_aggregation_fn provided\n",
            "WARNING:flwr:No fit_metrics_aggregation_fn provided\n"
          ]
        },
        {
          "output_type": "stream",
          "name": "stdout",
          "text": [
            "755/755 [==============================] - 13s 17ms/step - loss: 1.0116 - mse: 4.0448 - mape: 1080.9764 - mean_squared_logarithmic_error: 0.3432 - r2_score: -0.0341\n"
          ]
        },
        {
          "output_type": "stream",
          "name": "stderr",
          "text": [
            "INFO flwr 2024-03-10 16:17:26,710 | server.py:125 | fit progress: (1, 1.0115649700164795, {'mse': 4.044773578643799, 'mape': 1080.9764404296875, 'mean_squared_logarithmic_error': 0.34317314624786377, 'R2Score': -0.03412914276123047}, 222.21183109999947)\n",
            "INFO:flwr:fit progress: (1, 1.0115649700164795, {'mse': 4.044773578643799, 'mape': 1080.9764404296875, 'mean_squared_logarithmic_error': 0.34317314624786377, 'R2Score': -0.03412914276123047}, 222.21183109999947)\n",
            "DEBUG flwr 2024-03-10 16:17:26,715 | server.py:173 | evaluate_round 1: strategy sampled 20 clients (out of 100)\n",
            "DEBUG:flwr:evaluate_round 1: strategy sampled 20 clients (out of 100)\n"
          ]
        },
        {
          "output_type": "stream",
          "name": "stdout",
          "text": [
            "\u001b[2m\u001b[36m(DefaultActor pid=98033)\u001b[0m \r1/7 [===>..........................] - ETA: 3s - loss: 0.8855 - mse: 1.7670 - mape: 1412.9028 - mean_squared_logarithmic_error: 0.2890 - r2_score: -0.0377\n",
            "7/7 [==============================] - 1s 13ms/step - loss: 0.9604 - mse: 2.8139 - mape: 677.1199 - mean_squared_logarithmic_error: 0.3250 - r2_score: -0.0308\n",
            "7/7 [==============================] - 1s 12ms/step - loss: 1.0137 - mse: 4.1397 - mape: 2174.3486 - mean_squared_logarithmic_error: 0.3446 - r2_score: -0.0441\n",
            "5/7 [====================>.........] - ETA: 0s - loss: 0.9308 - mse: 2.7035 - mape: 837.6917 - mean_squared_logarithmic_error: 0.3098 - r2_score: -0.0343 \n",
            "7/7 [==============================] - 1s 12ms/step - loss: 0.9134 - mse: 2.5201 - mape: 758.7910 - mean_squared_logarithmic_error: 0.3028 - r2_score: -0.0329\n",
            "1/7 [===>..........................] - ETA: 2s - loss: 1.3690 - mse: 6.5450 - mape: 531.2299 - mean_squared_logarithmic_error: 0.5201 - r2_score: -0.1144\n",
            "7/7 [==============================] - 1s 13ms/step - loss: 1.1836 - mse: 5.7768 - mape: 615.3575 - mean_squared_logarithmic_error: 0.4240 - r2_score: -0.0612\n",
            "7/7 [==============================] - 1s 11ms/step - loss: 1.1144 - mse: 5.5938 - mape: 740.5290 - mean_squared_logarithmic_error: 0.3895 - r2_score: -0.0489\n",
            "7/7 [==============================] - 1s 10ms/step - loss: 0.9951 - mse: 3.5839 - mape: 818.8525 - mean_squared_logarithmic_error: 0.3370 - r2_score: -0.0405\n",
            "1/7 [===>..........................] - ETA: 2s - loss: 0.8428 - mse: 1.7703 - mape: 534.6160 - mean_squared_logarithmic_error: 0.2725 - r2_score: -0.0198\n",
            "7/7 [==============================] - 1s 12ms/step - loss: 1.0004 - mse: 4.1468 - mape: 1845.1925 - mean_squared_logarithmic_error: 0.3395 - r2_score: -0.0256\n",
            "1/7 [===>..........................] - ETA: 2s - loss: 1.2115 - mse: 4.9825 - mape: 1812.4268 - mean_squared_logarithmic_error: 0.4328 - r2_score: -0.0529\n",
            "7/7 [==============================] - 1s 14ms/step - loss: 1.1484 - mse: 4.7107 - mape: 6175.3745 - mean_squared_logarithmic_error: 0.4062 - r2_score: -0.0603\n",
            "1/7 [===>..........................] - ETA: 2s - loss: 1.4878 - mse: 8.7089 - mape: 512.1848 - mean_squared_logarithmic_error: 0.5463 - r2_score: -0.1036\n",
            "7/7 [==============================] - 1s 11ms/step - loss: 1.0479 - mse: 4.0216 - mape: 536.5156 - mean_squared_logarithmic_error: 0.3592 - r2_score: -0.0482\n",
            "7/7 [==============================] - 1s 9ms/step - loss: 0.9899 - mse: 3.4918 - mape: 533.6844 - mean_squared_logarithmic_error: 0.3328 - r2_score: -0.0273\n",
            "4/7 [================>.............] - ETA: 0s - loss: 0.9522 - mse: 2.9190 - mape: 771.1914 - mean_squared_logarithmic_error: 0.3211 - r2_score: -0.0453\n",
            "7/7 [==============================] - 1s 19ms/step - loss: 0.9410 - mse: 2.7681 - mape: 682.7817 - mean_squared_logarithmic_error: 0.3159 - r2_score: -0.0372\n",
            "4/7 [================>.............] - ETA: 0s - loss: 1.0635 - mse: 4.4817 - mape: 850.6270 - mean_squared_logarithmic_error: 0.3668 - r2_score: -0.0327\n",
            "7/7 [==============================] - 1s 17ms/step - loss: 1.0527 - mse: 4.6362 - mape: 803.8132 - mean_squared_logarithmic_error: 0.3609 - r2_score: -0.0324\n",
            "5/7 [====================>.........] - ETA: 0s - loss: 0.9403 - mse: 3.2137 - mape: 1225.8782 - mean_squared_logarithmic_error: 0.3119 - r2_score: -0.0299\n",
            "7/7 [==============================] - 1s 13ms/step - loss: 0.9639 - mse: 3.3541 - mape: 1125.9446 - mean_squared_logarithmic_error: 0.3231 - r2_score: -0.0328\n",
            "1/7 [===>..........................] - ETA: 9s - loss: 0.8761 - mse: 3.5115 - mape: 754.3115 - mean_squared_logarithmic_error: 0.2908 - r2_score: -0.0199\n",
            "7/7 [==============================] - 2s 13ms/step - loss: 0.9406 - mse: 3.4668 - mape: 544.8914 - mean_squared_logarithmic_error: 0.3167 - r2_score: -0.0364\n",
            "1/7 [===>..........................] - ETA: 3s - loss: 0.8969 - mse: 3.4718 - mape: 636.4591 - mean_squared_logarithmic_error: 0.3029 - r2_score: -0.0323\n",
            "7/7 [==============================] - 1s 12ms/step - loss: 1.0649 - mse: 4.4836 - mape: 782.2296 - mean_squared_logarithmic_error: 0.3693 - r2_score: -0.0420\n",
            "1/7 [===>..........................] - ETA: 2s - loss: 1.1092 - mse: 5.8063 - mape: 527.2867 - mean_squared_logarithmic_error: 0.3878 - r2_score: -0.0444\n",
            "7/7 [==============================] - 1s 12ms/step - loss: 1.0871 - mse: 4.9274 - mape: 683.7590 - mean_squared_logarithmic_error: 0.3756 - r2_score: -0.0516\n",
            "1/7 [===>..........................] - ETA: 2s - loss: 0.9344 - mse: 3.5120 - mape: 348.6334 - mean_squared_logarithmic_error: 0.3045 - r2_score: -0.0230\n",
            "7/7 [==============================] - 1s 12ms/step - loss: 0.9736 - mse: 4.0989 - mape: 565.1966 - mean_squared_logarithmic_error: 0.3214 - r2_score: -0.0245\n",
            "1/7 [===>..........................] - ETA: 2s - loss: 1.0479 - mse: 6.3365 - mape: 3506.6196 - mean_squared_logarithmic_error: 0.3457 - r2_score: -0.0357\n",
            "7/7 [==============================] - 1s 13ms/step - loss: 1.0933 - mse: 5.3736 - mape: 3154.3870 - mean_squared_logarithmic_error: 0.3757 - r2_score: -0.0397\n",
            "1/7 [===>..........................] - ETA: 2s - loss: 0.7138 - mse: 1.6078 - mape: 6464.4736 - mean_squared_logarithmic_error: 0.2197 - r2_score: -0.0049\n",
            "7/7 [==============================] - 1s 11ms/step - loss: 0.9116 - mse: 3.4398 - mape: 2114.2522 - mean_squared_logarithmic_error: 0.3000 - r2_score: -0.0214\n"
          ]
        },
        {
          "output_type": "stream",
          "name": "stderr",
          "text": [
            "DEBUG flwr 2024-03-10 16:17:48,114 | server.py:187 | evaluate_round 1 received 20 results and 0 failures\n",
            "DEBUG:flwr:evaluate_round 1 received 20 results and 0 failures\n",
            "DEBUG flwr 2024-03-10 16:17:48,119 | server.py:222 | fit_round 2: strategy sampled 80 clients (out of 100)\n",
            "DEBUG:flwr:fit_round 2: strategy sampled 80 clients (out of 100)\n"
          ]
        },
        {
          "output_type": "stream",
          "name": "stdout",
          "text": [
            "\u001b[2m\u001b[36m(DefaultActor pid=98033)\u001b[0m \r1/7 [===>..........................] - ETA: 2s - loss: 0.8364 - mse: 1.6404 - mape: 1799.7593 - mean_squared_logarithmic_error: 0.2669 - r2_score: -0.0083\b\b\b\b\b\b\b\b\b\b\b\b\b\b\b\b\b\b\b\b\b\b\b\b\b\b\b\b\b\b\b\b\b\b\b\b\b\b\b\b\b\b\b\b\b\b\b\b\b\b\b\b\b\b\b\b\b\b\b\b\b\b\b\b\b\b\b\b\b\b\b\b\b\b\b\b\b\b\b\b\b\b\b\b\b\b\b\b\b\b\b\b\b\b\b\b\b\b\b\b\b\b\b\b\b\b\b\b\b\b\b\b\b\b\b\b\b\b\b\b\b\b\b\b\b\b\b\b\b\b\b\b\b\b\b\b\b\b\b\b\b\b\b\b\b\b\b\b\b\b\b\b\b\b\r5/7 [====================>.........] - ETA: 0s - loss: 0.8749 - mse: 3.0476 - mape: 885.3328 - mean_squared_logarithmic_error: 0.2802 - r2_score: -0.0097 \b\b\b\b\b\b\b\b\b\b\b\b\b\b\b\b\b\b\b\b\b\b\b\b\b\b\b\b\b\b\b\b\b\b\b\b\b\b\b\b\b\b\b\b\b\b\b\b\b\b\b\b\b\b\b\b\b\b\b\b\b\b\b\b\b\b\b\b\b\b\b\b\b\b\b\b\b\b\b\b\b\b\b\b\b\b\b\b\b\b\b\b\b\b\b\b\b\b\b\b\b\b\b\b\b\b\b\b\b\b\b\b\b\b\b\b\b\b\b\b\b\b\b\b\b\b\b\b\b\b\b\b\b\b\b\b\b\b\b\b\b\b\b\b\b\b\b\b\b\b\b\b\b\r7/7 [==============================] - 1s 12ms/step - loss: 0.8621 - mse: 2.9676 - mape: 876.4984 - mean_squared_logarithmic_error: 0.2761 - r2_score: -0.0084\n"
          ]
        },
        {
          "output_type": "stream",
          "name": "stderr",
          "text": [
            "DEBUG flwr 2024-03-10 16:20:30,811 | server.py:236 | fit_round 2 received 80 results and 0 failures\n",
            "DEBUG:flwr:fit_round 2 received 80 results and 0 failures\n"
          ]
        },
        {
          "output_type": "stream",
          "name": "stdout",
          "text": [
            "755/755 [==============================] - 11s 14ms/step - loss: 1.0116 - mse: 4.0448 - mape: 1080.9764 - mean_squared_logarithmic_error: 0.3432 - r2_score: -0.0341\n",
            "755/755 [==============================] - 11s 14ms/step - loss: 1.0025 - mse: 4.0674 - mape: 1009.4159 - mean_squared_logarithmic_error: 0.3447 - r2_score: -0.0399\n"
          ]
        },
        {
          "output_type": "stream",
          "name": "stderr",
          "text": [
            "INFO flwr 2024-03-10 16:21:02,951 | server.py:125 | fit progress: (2, 1.0025005340576172, {'mse': 4.067388534545898, 'mape': 1009.4158935546875, 'mean_squared_logarithmic_error': 0.34473416209220886, 'R2Score': -0.03991103172302246}, 438.4525634679994)\n",
            "INFO:flwr:fit progress: (2, 1.0025005340576172, {'mse': 4.067388534545898, 'mape': 1009.4158935546875, 'mean_squared_logarithmic_error': 0.34473416209220886, 'R2Score': -0.03991103172302246}, 438.4525634679994)\n",
            "DEBUG flwr 2024-03-10 16:21:02,954 | server.py:173 | evaluate_round 2: strategy sampled 20 clients (out of 100)\n",
            "DEBUG:flwr:evaluate_round 2: strategy sampled 20 clients (out of 100)\n"
          ]
        },
        {
          "output_type": "stream",
          "name": "stdout",
          "text": [
            "\u001b[2m\u001b[36m(DefaultActor pid=98033)\u001b[0m \r1/7 [===>..........................] - ETA: 2s - loss: 0.7789 - mse: 1.5019 - mape: 1969.3141 - mean_squared_logarithmic_error: 0.2440 - r2_score: -0.0128\n",
            "7/7 [==============================] - 1s 12ms/step - loss: 0.9892 - mse: 3.8456 - mape: 693.2225 - mean_squared_logarithmic_error: 0.3342 - r2_score: -0.0337\n",
            "7/7 [==============================] - 1s 11ms/step - loss: 0.8713 - mse: 2.4641 - mape: 5563.6318 - mean_squared_logarithmic_error: 0.2857 - r2_score: -0.0325\n",
            "1/7 [===>..........................] - ETA: 3s - loss: 0.9008 - mse: 3.0946 - mape: 465.3262 - mean_squared_logarithmic_error: 0.3039 - r2_score: -0.0220\n",
            "7/7 [==============================] - 1s 13ms/step - loss: 0.9616 - mse: 3.4997 - mape: 784.1958 - mean_squared_logarithmic_error: 0.3289 - r2_score: -0.0373\n",
            "3/7 [===========>..................] - ETA: 0s - loss: 0.8066 - mse: 3.0070 - mape: 914.4177 - mean_squared_logarithmic_error: 0.2538 - r2_score: -0.0063 \n",
            "7/7 [==============================] - 1s 20ms/step - loss: 0.9234 - mse: 4.1426 - mape: 877.9081 - mean_squared_logarithmic_error: 0.3087 - r2_score: -0.0195\n",
            "1/7 [===>..........................] - ETA: 4s - loss: 1.3532 - mse: 6.1099 - mape: 597.5263 - mean_squared_logarithmic_error: 0.5138 - r2_score: -0.1189\n",
            "7/7 [==============================] - 1s 22ms/step - loss: 0.9969 - mse: 3.3890 - mape: 1048.9366 - mean_squared_logarithmic_error: 0.3476 - r2_score: -0.0470\n",
            "7/7 [==============================] - 1s 10ms/step - loss: 1.2591 - mse: 6.6841 - mape: 758.0026 - mean_squared_logarithmic_error: 0.4658 - r2_score: -0.0759\n",
            "7/7 [==============================] - 1s 10ms/step - loss: 0.9960 - mse: 3.4620 - mape: 580.2070 - mean_squared_logarithmic_error: 0.3434 - r2_score: -0.0482\n",
            "7/7 [==============================] - 1s 12ms/step - loss: 1.0592 - mse: 4.1917 - mape: 908.6299 - mean_squared_logarithmic_error: 0.3708 - r2_score: -0.0542\n",
            "7/7 [==============================] - 1s 12ms/step - loss: 0.9943 - mse: 3.0722 - mape: 566.6851 - mean_squared_logarithmic_error: 0.3461 - r2_score: -0.0543\n",
            "7/7 [==============================] - 1s 11ms/step - loss: 1.1045 - mse: 4.8091 - mape: 1470.3430 - mean_squared_logarithmic_error: 0.3898 - r2_score: -0.0523\n",
            "1/7 [===>..........................] - ETA: 2s - loss: 1.0313 - mse: 4.6329 - mape: 509.1522 - mean_squared_logarithmic_error: 0.3621 - r2_score: -0.0331\n",
            "7/7 [==============================] - 1s 13ms/step - loss: 0.9286 - mse: 2.8386 - mape: 808.9663 - mean_squared_logarithmic_error: 0.3118 - r2_score: -0.0292\n",
            "7/7 [==============================] - 1s 11ms/step - loss: 0.9434 - mse: 3.1674 - mape: 549.8516 - mean_squared_logarithmic_error: 0.3193 - r2_score: -0.0296\n",
            "1/7 [===>..........................] - ETA: 3s - loss: 1.1101 - mse: 4.6722 - mape: 1169.6877 - mean_squared_logarithmic_error: 0.3965 - r2_score: -0.0497\n",
            "7/7 [==============================] - 1s 13ms/step - loss: 1.0062 - mse: 4.1709 - mape: 701.7498 - mean_squared_logarithmic_error: 0.3476 - r2_score: -0.0421\n",
            "7/7 [==============================] - 1s 13ms/step - loss: 1.1216 - mse: 4.8642 - mape: 400.3882 - mean_squared_logarithmic_error: 0.3942 - r2_score: -0.0585\n",
            "1/7 [===>..........................] - ETA: 2s - loss: 0.7094 - mse: 1.0467 - mape: 576.8186 - mean_squared_logarithmic_error: 0.2059 - r2_score: -0.0015\n",
            "7/7 [==============================] - 1s 12ms/step - loss: 0.9895 - mse: 4.2593 - mape: 1045.6981 - mean_squared_logarithmic_error: 0.3348 - r2_score: -0.0359\n",
            "1/7 [===>..........................] - ETA: 2s - loss: 0.8692 - mse: 3.4448 - mape: 492.4694 - mean_squared_logarithmic_error: 0.2758 - r2_score: -0.0038\n",
            "7/7 [==============================] - 1s 13ms/step - loss: 0.9112 - mse: 3.5663 - mape: 587.7953 - mean_squared_logarithmic_error: 0.2995 - r2_score: -0.0233\n",
            "1/7 [===>..........................] - ETA: 4s - loss: 0.9869 - mse: 5.6002 - mape: 822.3431 - mean_squared_logarithmic_error: 0.3376 - r2_score: -0.0196\n",
            "7/7 [==============================] - 1s 18ms/step - loss: 0.9450 - mse: 3.6113 - mape: 776.2631 - mean_squared_logarithmic_error: 0.3238 - r2_score: -0.0382\n",
            "1/7 [===>..........................] - ETA: 4s - loss: 0.9017 - mse: 1.8621 - mape: 508.1691 - mean_squared_logarithmic_error: 0.3100 - r2_score: -0.1049\n",
            "7/7 [==============================] - 1s 19ms/step - loss: 0.8782 - mse: 3.0283 - mape: 528.1773 - mean_squared_logarithmic_error: 0.2896 - r2_score: -0.0263\n",
            "1/7 [===>..........................] - ETA: 2s - loss: 1.2267 - mse: 7.9000 - mape: 313.0272 - mean_squared_logarithmic_error: 0.4357 - r2_score: -0.0794\n",
            "7/7 [==============================] - 1s 13ms/step - loss: 1.1873 - mse: 5.9470 - mape: 835.7740 - mean_squared_logarithmic_error: 0.4260 - r2_score: -0.0681\n"
          ]
        },
        {
          "output_type": "stream",
          "name": "stderr",
          "text": [
            "DEBUG flwr 2024-03-10 16:21:23,935 | server.py:187 | evaluate_round 2 received 20 results and 0 failures\n",
            "DEBUG:flwr:evaluate_round 2 received 20 results and 0 failures\n",
            "DEBUG flwr 2024-03-10 16:21:23,941 | server.py:222 | fit_round 3: strategy sampled 80 clients (out of 100)\n",
            "DEBUG:flwr:fit_round 3: strategy sampled 80 clients (out of 100)\n"
          ]
        },
        {
          "output_type": "stream",
          "name": "stdout",
          "text": [
            "\u001b[2m\u001b[36m(DefaultActor pid=98033)\u001b[0m \r1/7 [===>..........................] - ETA: 2s - loss: 1.1287 - mse: 4.7366 - mape: 6522.8901 - mean_squared_logarithmic_error: 0.4062 - r2_score: -0.0837\b\b\b\b\b\b\b\b\b\b\b\b\b\b\b\b\b\b\b\b\b\b\b\b\b\b\b\b\b\b\b\b\b\b\b\b\b\b\b\b\b\b\b\b\b\b\b\b\b\b\b\b\b\b\b\b\b\b\b\b\b\b\b\b\b\b\b\b\b\b\b\b\b\b\b\b\b\b\b\b\b\b\b\b\b\b\b\b\b\b\b\b\b\b\b\b\b\b\b\b\b\b\b\b\b\b\b\b\b\b\b\b\b\b\b\b\b\b\b\b\b\b\b\b\b\b\b\b\b\b\b\b\b\b\b\b\b\b\b\b\b\b\b\b\b\b\b\b\b\b\b\b\b\b\r6/7 [========================>.....] - ETA: 0s - loss: 1.0762 - mse: 4.4564 - mape: 1643.9752 - mean_squared_logarithmic_error: 0.3779 - r2_score: -0.0627\b\b\b\b\b\b\b\b\b\b\b\b\b\b\b\b\b\b\b\b\b\b\b\b\b\b\b\b\b\b\b\b\b\b\b\b\b\b\b\b\b\b\b\b\b\b\b\b\b\b\b\b\b\b\b\b\b\b\b\b\b\b\b\b\b\b\b\b\b\b\b\b\b\b\b\b\b\b\b\b\b\b\b\b\b\b\b\b\b\b\b\b\b\b\b\b\b\b\b\b\b\b\b\b\b\b\b\b\b\b\b\b\b\b\b\b\b\b\b\b\b\b\b\b\b\b\b\b\b\b\b\b\b\b\b\b\b\b\b\b\b\b\b\b\b\b\b\b\b\b\b\b\b\b\r7/7 [==============================] - 1s 12ms/step - loss: 1.0720 - mse: 4.4242 - mape: 1634.9441 - mean_squared_logarithmic_error: 0.3758 - r2_score: -0.0610\n"
          ]
        },
        {
          "output_type": "stream",
          "name": "stderr",
          "text": [
            "DEBUG flwr 2024-03-10 16:24:08,769 | server.py:236 | fit_round 3 received 80 results and 0 failures\n",
            "DEBUG:flwr:fit_round 3 received 80 results and 0 failures\n"
          ]
        },
        {
          "output_type": "stream",
          "name": "stdout",
          "text": [
            "755/755 [==============================] - 12s 15ms/step - loss: 1.0025 - mse: 4.0674 - mape: 1009.4159 - mean_squared_logarithmic_error: 0.3447 - r2_score: -0.0399\n",
            "755/755 [==============================] - 11s 14ms/step - loss: 0.9945 - mse: 4.0904 - mape: 942.0370 - mean_squared_logarithmic_error: 0.3471 - r2_score: -0.0458\n"
          ]
        },
        {
          "output_type": "stream",
          "name": "stderr",
          "text": [
            "INFO flwr 2024-03-10 16:24:41,683 | server.py:125 | fit progress: (3, 0.9944734573364258, {'mse': 4.09035587310791, 'mape': 942.0369873046875, 'mean_squared_logarithmic_error': 0.34708666801452637, 'R2Score': -0.045783162117004395}, 657.1846481419998)\n",
            "INFO:flwr:fit progress: (3, 0.9944734573364258, {'mse': 4.09035587310791, 'mape': 942.0369873046875, 'mean_squared_logarithmic_error': 0.34708666801452637, 'R2Score': -0.045783162117004395}, 657.1846481419998)\n",
            "DEBUG flwr 2024-03-10 16:24:41,688 | server.py:173 | evaluate_round 3: strategy sampled 20 clients (out of 100)\n",
            "DEBUG:flwr:evaluate_round 3: strategy sampled 20 clients (out of 100)\n"
          ]
        },
        {
          "output_type": "stream",
          "name": "stdout",
          "text": [
            "7/7 [==============================] - 1s 10ms/step - loss: 1.0371 - mse: 4.2922 - mape: 483.8174 - mean_squared_logarithmic_error: 0.3648 - r2_score: -0.0567\n",
            "7/7 [==============================] - 1s 13ms/step - loss: 0.9403 - mse: 4.5584 - mape: 847.0610 - mean_squared_logarithmic_error: 0.3192 - r2_score: -0.0306\n",
            "1/7 [===>..........................] - ETA: 2s - loss: 1.1211 - mse: 5.1420 - mape: 348.0411 - mean_squared_logarithmic_error: 0.4063 - r2_score: -0.0751\n",
            "7/7 [==============================] - 1s 12ms/step - loss: 0.9794 - mse: 3.7020 - mape: 555.5646 - mean_squared_logarithmic_error: 0.3400 - r2_score: -0.0445\n",
            "1/7 [===>..........................] - ETA: 2s - loss: 0.9307 - mse: 3.4137 - mape: 665.6082 - mean_squared_logarithmic_error: 0.3126 - r2_score: -0.0247\n",
            "7/7 [==============================] - 1s 11ms/step - loss: 0.9774 - mse: 3.5657 - mape: 1060.8657 - mean_squared_logarithmic_error: 0.3374 - r2_score: -0.0381\n",
            "1/7 [===>..........................] - ETA: 2s - loss: 1.2322 - mse: 4.9248 - mape: 384.2048 - mean_squared_logarithmic_error: 0.4689 - r2_score: -0.1067\n",
            "7/7 [==============================] - 1s 13ms/step - loss: 1.0545 - mse: 5.1912 - mape: 532.1085 - mean_squared_logarithmic_error: 0.3756 - r2_score: -0.0557\n",
            "6/7 [========================>.....] - ETA: 0s - loss: 1.1942 - mse: 5.3748 - mape: 497.5022 - mean_squared_logarithmic_error: 0.4374 - r2_score: -0.0822\n",
            "7/7 [==============================] - 1s 11ms/step - loss: 1.1941 - mse: 5.3499 - mape: 495.4569 - mean_squared_logarithmic_error: 0.4372 - r2_score: -0.0822\n",
            "7/7 [==============================] - 1s 11ms/step - loss: 0.9278 - mse: 3.5609 - mape: 588.5888 - mean_squared_logarithmic_error: 0.3147 - r2_score: -0.0362\n",
            "5/7 [====================>.........] - ETA: 0s - loss: 1.0784 - mse: 4.4874 - mape: 895.4261 - mean_squared_logarithmic_error: 0.3837 - r2_score: -0.0556 \n",
            "7/7 [==============================] - 1s 13ms/step - loss: 1.0634 - mse: 4.1319 - mape: 901.5798 - mean_squared_logarithmic_error: 0.3790 - r2_score: -0.0580\n",
            "4/7 [================>.............] - ETA: 0s - loss: 1.0521 - mse: 4.7184 - mape: 386.9325 - mean_squared_logarithmic_error: 0.3701 - r2_score: -0.0561\n",
            "7/7 [==============================] - 1s 18ms/step - loss: 0.9930 - mse: 4.0814 - mape: 574.2748 - mean_squared_logarithmic_error: 0.3469 - r2_score: -0.0532\n",
            "1/7 [===>..........................] - ETA: 4s - loss: 1.0561 - mse: 2.2990 - mape: 483.7909 - mean_squared_logarithmic_error: 0.3839 - r2_score: -0.1806\n",
            "7/7 [==============================] - 1s 21ms/step - loss: 0.8814 - mse: 2.3903 - mape: 990.4001 - mean_squared_logarithmic_error: 0.2977 - r2_score: -0.0352\n",
            "1/7 [===>..........................] - ETA: 17s - loss: 0.9001 - mse: 2.8611 - mape: 403.8507 - mean_squared_logarithmic_error: 0.3140 - r2_score: -0.0520\n",
            "7/7 [==============================] - 3s 12ms/step - loss: 1.1667 - mse: 5.4855 - mape: 821.7283 - mean_squared_logarithmic_error: 0.4268 - r2_score: -0.0654\n",
            "7/7 [==============================] - 1s 13ms/step - loss: 1.0618 - mse: 4.8091 - mape: 459.6342 - mean_squared_logarithmic_error: 0.3710 - r2_score: -0.0500\n",
            "1/7 [===>..........................] - ETA: 2s - loss: 1.1451 - mse: 7.1626 - mape: 733.0877 - mean_squared_logarithmic_error: 0.4160 - r2_score: -0.0348\n",
            "7/7 [==============================] - 1s 11ms/step - loss: 1.0646 - mse: 5.5842 - mape: 566.1713 - mean_squared_logarithmic_error: 0.3753 - r2_score: -0.0402\n",
            "1/7 [===>..........................] - ETA: 2s - loss: 0.9561 - mse: 3.8124 - mape: 508.8981 - mean_squared_logarithmic_error: 0.3328 - r2_score: -0.0246\n",
            "7/7 [==============================] - 1s 11ms/step - loss: 0.9754 - mse: 4.1909 - mape: 917.5018 - mean_squared_logarithmic_error: 0.3433 - r2_score: -0.0447\n",
            "7/7 [==============================] - 1s 13ms/step - loss: 0.8722 - mse: 2.2097 - mape: 624.6335 - mean_squared_logarithmic_error: 0.2950 - r2_score: -0.0406\n",
            "7/7 [==============================] - 1s 12ms/step - loss: 0.9494 - mse: 3.6503 - mape: 371.6571 - mean_squared_logarithmic_error: 0.3267 - r2_score: -0.0401\n",
            "1/7 [===>..........................] - ETA: 3s - loss: 0.8075 - mse: 1.5019 - mape: 1184.0243 - mean_squared_logarithmic_error: 0.2666 - r2_score: -0.0275\n",
            "7/7 [==============================] - 1s 12ms/step - loss: 0.8385 - mse: 2.0049 - mape: 774.2005 - mean_squared_logarithmic_error: 0.2800 - r2_score: -0.0358\n",
            "7/7 [==============================] - 1s 11ms/step - loss: 0.9294 - mse: 3.5275 - mape: 519.8143 - mean_squared_logarithmic_error: 0.3182 - r2_score: -0.0323\n",
            "1/7 [===>..........................] - ETA: 4s - loss: 1.0613 - mse: 4.7268 - mape: 504.9260 - mean_squared_logarithmic_error: 0.3762 - r2_score: -0.0770\n",
            "7/7 [==============================] - 1s 20ms/step - loss: 0.9524 - mse: 4.2350 - mape: 1287.4246 - mean_squared_logarithmic_error: 0.3239 - r2_score: -0.0378\n"
          ]
        },
        {
          "output_type": "stream",
          "name": "stderr",
          "text": [
            "DEBUG flwr 2024-03-10 16:25:05,010 | server.py:187 | evaluate_round 3 received 20 results and 0 failures\n",
            "DEBUG:flwr:evaluate_round 3 received 20 results and 0 failures\n",
            "DEBUG flwr 2024-03-10 16:25:05,020 | server.py:222 | fit_round 4: strategy sampled 80 clients (out of 100)\n",
            "DEBUG:flwr:fit_round 4: strategy sampled 80 clients (out of 100)\n"
          ]
        },
        {
          "output_type": "stream",
          "name": "stdout",
          "text": [
            "\u001b[2m\u001b[36m(DefaultActor pid=98033)\u001b[0m \r1/7 [===>..........................] - ETA: 4s - loss: 0.9662 - mse: 3.2647 - mape: 2319.2068 - mean_squared_logarithmic_error: 0.3376 - r2_score: -0.0583\n",
            "\u001b[2m\u001b[36m(DefaultActor pid=98033)\u001b[0m \b\b\b\b\b\b\b\b\b\b\b\b\b\b\b\b\b\b\b\b\b\b\b\b\b\b\b\b\b\b\b\b\b\b\b\b\b\b\b\b\b\b\b\b\b\b\b\b\b\b\b\b\b\b\b\b\b\b\b\b\b\b\b\b\b\b\b\b\b\b\b\b\b\b\b\b\b\b\b\b\b\b\b\b\b\b\b\b\b\b\b\b\b\b\b\b\b\b\b\b\b\b\b\b\b\b\b\b\b\b\b\b\b\b\b\b\b\b\b\b\b\b\b\b\b\b\b\b\b\b\b\b\b\b\b\b\b\b\b\b\b\b\b\b\b\b\b\b\b\b\b\b\b\b\r4/7 [================>.............] - ETA: 0s - loss: 0.8813 - mse: 2.7540 - mape: 1263.2715 - mean_squared_logarithmic_error: 0.2985 - r2_score: -0.0360\n",
            "\u001b[2m\u001b[36m(DefaultActor pid=98033)\u001b[0m \b\b\b\b\b\b\b\b\b\b\b\b\b\b\b\b\b\b\b\b\b\b\b\b\b\b\b\b\b\b\b\b\b\b\b\b\b\b\b\b\b\b\b\b\b\b\b\b\b\b\b\b\b\b\b\b\b\b\b\b\b\b\b\b\b\b\b\b\b\b\b\b\b\b\b\b\b\b\b\b\b\b\b\b\b\b\b\b\b\b\b\b\b\b\b\b\b\b\b\b\b\b\b\b\b\b\b\b\b\b\b\b\b\b\b\b\b\b\b\b\b\b\b\b\b\b\b\b\b\b\b\b\b\b\b\b\b\b\b\b\b\b\b\b\b\b\b\b\b\b\b\b\b\b\r7/7 [==============================] - 1s 19ms/step - loss: 0.9071 - mse: 3.1156 - mape: 1063.1373 - mean_squared_logarithmic_error: 0.3094 - r2_score: -0.0415\n"
          ]
        },
        {
          "output_type": "stream",
          "name": "stderr",
          "text": [
            "DEBUG flwr 2024-03-10 16:27:45,633 | server.py:236 | fit_round 4 received 80 results and 0 failures\n",
            "DEBUG:flwr:fit_round 4 received 80 results and 0 failures\n"
          ]
        },
        {
          "output_type": "stream",
          "name": "stdout",
          "text": [
            "755/755 [==============================] - 12s 15ms/step - loss: 0.9945 - mse: 4.0904 - mape: 942.0370 - mean_squared_logarithmic_error: 0.3471 - r2_score: -0.0458\n",
            "755/755 [==============================] - 11s 14ms/step - loss: 0.9872 - mse: 4.1141 - mape: 877.0828 - mean_squared_logarithmic_error: 0.3502 - r2_score: -0.0518\n"
          ]
        },
        {
          "output_type": "stream",
          "name": "stderr",
          "text": [
            "INFO flwr 2024-03-10 16:28:18,456 | server.py:125 | fit progress: (4, 0.9871841669082642, {'mse': 4.114060401916504, 'mape': 877.082763671875, 'mean_squared_logarithmic_error': 0.3502275347709656, 'R2Score': -0.05184376239776611}, 873.9574224529988)\n",
            "INFO:flwr:fit progress: (4, 0.9871841669082642, {'mse': 4.114060401916504, 'mape': 877.082763671875, 'mean_squared_logarithmic_error': 0.3502275347709656, 'R2Score': -0.05184376239776611}, 873.9574224529988)\n",
            "DEBUG flwr 2024-03-10 16:28:18,460 | server.py:173 | evaluate_round 4: strategy sampled 20 clients (out of 100)\n",
            "DEBUG:flwr:evaluate_round 4: strategy sampled 20 clients (out of 100)\n"
          ]
        },
        {
          "output_type": "stream",
          "name": "stdout",
          "text": [
            "\u001b[2m\u001b[36m(DefaultActor pid=98033)\u001b[0m \r1/7 [===>..........................] - ETA: 3s - loss: 1.7827 - mse: 14.0821 - mape: 486.1807 - mean_squared_logarithmic_error: 0.7160 - r2_score: -0.1315\b\b\b\b\b\b\b\b\b\b\b\b\b\b\b\b\b\b\b\b\b\b\b\b\b\b\b\b\b\b\b\b\b\b\b\b\b\b\b\b\b\b\b\b\b\b\b\b\b\b\b\b\b\b\b\b\b\b\b\b\b\b\b\b\b\b\b\b\b\b\b\b\b\b\b\b\b\b\b\b\b\b\b\b\b\b\b\b\b\b\b\b\b\b\b\b\b\b\b\b\b\b\b\b\b\b\b\b\b\b\b\b\b\b\b\b\b\b\b\b\b\b\b\b\b\b\b\b\b\b\b\b\b\b\b\b\b\b\b\b\b\b\b\b\b\b\b\b\b\b\b\b\b\b\r3/7 [===========>..................] - ETA: 0s - loss: 1.2546 - mse: 7.6660 - mape: 445.1403 - mean_squared_logarithmic_error: 0.4731 - r2_score: -0.0786 \n",
            "7/7 [==============================] - 1s 23ms/step - loss: 1.0008 - mse: 5.0226 - mape: 467.5684 - mean_squared_logarithmic_error: 0.3549 - r2_score: -0.0459\n",
            "1/7 [===>..........................] - ETA: 4s - loss: 0.8748 - mse: 3.6250 - mape: 409.5028 - mean_squared_logarithmic_error: 0.3041 - r2_score: -0.0494\n",
            "7/7 [==============================] - 1s 17ms/step - loss: 0.9649 - mse: 3.5309 - mape: 809.1340 - mean_squared_logarithmic_error: 0.3456 - r2_score: -0.0598\n",
            "1/7 [===>..........................] - ETA: 4s - loss: 1.1196 - mse: 3.9369 - mape: 354.4165 - mean_squared_logarithmic_error: 0.4164 - r2_score: -0.1148\n",
            "7/7 [==============================] - 1s 12ms/step - loss: 1.1221 - mse: 4.9435 - mape: 525.1525 - mean_squared_logarithmic_error: 0.4126 - r2_score: -0.0787\n",
            "7/7 [==============================] - 1s 11ms/step - loss: 1.0267 - mse: 4.6983 - mape: 407.9781 - mean_squared_logarithmic_error: 0.3652 - r2_score: -0.0525\n",
            "7/7 [==============================] - 1s 12ms/step - loss: 1.1490 - mse: 6.0400 - mape: 1407.4630 - mean_squared_logarithmic_error: 0.4264 - r2_score: -0.0648\n",
            "5/7 [====================>.........] - ETA: 0s - loss: 1.1123 - mse: 5.1272 - mape: 810.0062 - mean_squared_logarithmic_error: 0.4054 - r2_score: -0.0667 \n",
            "7/7 [==============================] - 1s 13ms/step - loss: 1.0630 - mse: 4.8109 - mape: 745.0598 - mean_squared_logarithmic_error: 0.3825 - r2_score: -0.0543\n",
            "7/7 [==============================] - 1s 11ms/step - loss: 0.9890 - mse: 3.4980 - mape: 472.7190 - mean_squared_logarithmic_error: 0.3557 - r2_score: -0.0578\n",
            "1/7 [===>..........................] - ETA: 2s - loss: 1.1404 - mse: 4.0087 - mape: 803.8992 - mean_squared_logarithmic_error: 0.4397 - r2_score: -0.1286\n",
            "7/7 [==============================] - 1s 11ms/step - loss: 1.0606 - mse: 5.0827 - mape: 569.9967 - mean_squared_logarithmic_error: 0.3829 - r2_score: -0.0585\n",
            "1/7 [===>..........................] - ETA: 2s - loss: 0.8874 - mse: 1.9751 - mape: 272.3680 - mean_squared_logarithmic_error: 0.3101 - r2_score: -0.0884\n",
            "7/7 [==============================] - 1s 16ms/step - loss: 1.0209 - mse: 4.1141 - mape: 530.6137 - mean_squared_logarithmic_error: 0.3663 - r2_score: -0.0607\n",
            "5/7 [====================>.........] - ETA: 0s - loss: 0.9243 - mse: 3.4065 - mape: 1044.6879 - mean_squared_logarithmic_error: 0.3173 - r2_score: -0.0411\n",
            "7/7 [==============================] - 1s 12ms/step - loss: 0.9086 - mse: 3.3840 - mape: 928.9387 - mean_squared_logarithmic_error: 0.3095 - r2_score: -0.0362\n",
            "6/7 [========================>.....] - ETA: 0s - loss: 0.8904 - mse: 3.1632 - mape: 471.6741 - mean_squared_logarithmic_error: 0.3018 - r2_score: -0.0322\n",
            "7/7 [==============================] - 1s 12ms/step - loss: 0.8885 - mse: 3.1424 - mape: 479.6186 - mean_squared_logarithmic_error: 0.3009 - r2_score: -0.0326\n",
            "1/7 [===>..........................] - ETA: 2s - loss: 0.9670 - mse: 3.8496 - mape: 360.7420 - mean_squared_logarithmic_error: 0.3404 - r2_score: -0.0644\n",
            "7/7 [==============================] - 1s 12ms/step - loss: 0.9236 - mse: 3.4436 - mape: 445.7135 - mean_squared_logarithmic_error: 0.3232 - r2_score: -0.0422\n",
            "1/7 [===>..........................] - ETA: 2s - loss: 0.5709 - mse: 1.0318 - mape: 477.7766 - mean_squared_logarithmic_error: 0.1604 - r2_score: 1.9729e-04\n",
            "7/7 [==============================] - 1s 12ms/step - loss: 1.0151 - mse: 5.3348 - mape: 918.2537 - mean_squared_logarithmic_error: 0.3607 - r2_score: -0.0404\n",
            "1/7 [===>..........................] - ETA: 3s - loss: 0.8633 - mse: 1.7726 - mape: 449.6761 - mean_squared_logarithmic_error: 0.2876 - r2_score: -0.0377\n",
            "7/7 [==============================] - 1s 17ms/step - loss: 0.9657 - mse: 3.5150 - mape: 418.4943 - mean_squared_logarithmic_error: 0.3448 - r2_score: -0.0634\n",
            "4/7 [================>.............] - ETA: 0s - loss: 0.9216 - mse: 3.0017 - mape: 986.1273 - mean_squared_logarithmic_error: 0.3187 - r2_score: -0.0447\n",
            "7/7 [==============================] - 1s 20ms/step - loss: 0.9770 - mse: 3.7514 - mape: 927.0211 - mean_squared_logarithmic_error: 0.3458 - r2_score: -0.0525\n",
            "1/7 [===>..........................] - ETA: 4s - loss: 1.2006 - mse: 5.4331 - mape: 454.8144 - mean_squared_logarithmic_error: 0.4577 - r2_score: -0.1247\n",
            "7/7 [==============================] - 1s 13ms/step - loss: 1.1410 - mse: 4.9994 - mape: 1034.6606 - mean_squared_logarithmic_error: 0.4245 - r2_score: -0.0800\n",
            "1/7 [===>..........................] - ETA: 2s - loss: 0.9517 - mse: 3.8526 - mape: 1198.3085 - mean_squared_logarithmic_error: 0.3387 - r2_score: -0.0354\n",
            "5/7 [====================>.........] - ETA: 0s - loss: 0.9639 - mse: 3.9860 - mape: 627.5605 - mean_squared_logarithmic_error: 0.3388 - r2_score: -0.0445 \n",
            "7/7 [==============================] - 1s 13ms/step - loss: 0.9627 - mse: 3.9447 - mape: 589.6254 - mean_squared_logarithmic_error: 0.3417 - r2_score: -0.0481\n",
            "1/7 [===>..........................] - ETA: 2s - loss: 0.6910 - mse: 1.1931 - mape: 396.2010 - mean_squared_logarithmic_error: 0.2169 - r2_score: -0.0161\n",
            "7/7 [==============================] - 1s 12ms/step - loss: 1.0362 - mse: 4.4295 - mape: 949.7068 - mean_squared_logarithmic_error: 0.3755 - r2_score: -0.0615\n",
            "1/7 [===>..........................] - ETA: 2s - loss: 1.2376 - mse: 4.5736 - mape: 1849.1211 - mean_squared_logarithmic_error: 0.4815 - r2_score: -0.1190\n",
            "7/7 [==============================] - 1s 12ms/step - loss: 1.0685 - mse: 3.9395 - mape: 1297.6135 - mean_squared_logarithmic_error: 0.3921 - r2_score: -0.0768\n"
          ]
        },
        {
          "output_type": "stream",
          "name": "stderr",
          "text": [
            "DEBUG flwr 2024-03-10 16:28:39,272 | server.py:187 | evaluate_round 4 received 20 results and 0 failures\n",
            "DEBUG:flwr:evaluate_round 4 received 20 results and 0 failures\n",
            "DEBUG flwr 2024-03-10 16:28:39,277 | server.py:222 | fit_round 5: strategy sampled 80 clients (out of 100)\n",
            "DEBUG:flwr:fit_round 5: strategy sampled 80 clients (out of 100)\n"
          ]
        },
        {
          "output_type": "stream",
          "name": "stdout",
          "text": [
            "\u001b[2m\u001b[36m(DefaultActor pid=98033)\u001b[0m \r1/7 [===>..........................] - ETA: 2s - loss: 0.8514 - mse: 1.9140 - mape: 444.2901 - mean_squared_logarithmic_error: 0.2893 - r2_score: -0.0773\n",
            "\u001b[2m\u001b[36m(DefaultActor pid=98033)\u001b[0m \b\b\b\b\b\b\b\b\b\b\b\b\b\b\b\b\b\b\b\b\b\b\b\b\b\b\b\b\b\b\b\b\b\b\b\b\b\b\b\b\b\b\b\b\b\b\b\b\b\b\b\b\b\b\b\b\b\b\b\b\b\b\b\b\b\b\b\b\b\b\b\b\b\b\b\b\b\b\b\b\b\b\b\b\b\b\b\b\b\b\b\b\b\b\b\b\b\b\b\b\b\b\b\b\b\b\b\b\b\b\b\b\b\b\b\b\b\b\b\b\b\b\b\b\b\b\b\b\b\b\b\b\b\b\b\b\b\b\b\b\b\b\b\b\b\b\b\b\b\b\b\b\b\r5/7 [====================>.........] - ETA: 0s - loss: 0.9432 - mse: 3.9014 - mape: 4013.6519 - mean_squared_logarithmic_error: 0.3262 - r2_score: -0.0496\b\b\b\b\b\b\b\b\b\b\b\b\b\b\b\b\b\b\b\b\b\b\b\b\b\b\b\b\b\b\b\b\b\b\b\b\b\b\b\b\b\b\b\b\b\b\b\b\b\b\b\b\b\b\b\b\b\b\b\b\b\b\b\b\b\b\b\b\b\b\b\b\b\b\b\b\b\b\b\b\b\b\b\b\b\b\b\b\b\b\b\b\b\b\b\b\b\b\b\b\b\b\b\b\b\b\b\b\b\b\b\b\b\b\b\b\b\b\b\b\b\b\b\b\b\b\b\b\b\b\b\b\b\b\b\b\b\b\b\b\b\b\b\b\b\b\b\b\b\b\b\b\b\b\r7/7 [==============================] - 1s 12ms/step - loss: 0.9382 - mse: 3.8076 - mape: 3418.7803 - mean_squared_logarithmic_error: 0.3232 - r2_score: -0.0447\n"
          ]
        },
        {
          "output_type": "stream",
          "name": "stderr",
          "text": [
            "DEBUG flwr 2024-03-10 16:31:29,796 | server.py:236 | fit_round 5 received 80 results and 0 failures\n",
            "DEBUG:flwr:fit_round 5 received 80 results and 0 failures\n"
          ]
        },
        {
          "output_type": "stream",
          "name": "stdout",
          "text": [
            "755/755 [==============================] - 12s 16ms/step - loss: 0.9872 - mse: 4.1141 - mape: 877.0828 - mean_squared_logarithmic_error: 0.3502 - r2_score: -0.0518\n",
            "755/755 [==============================] - 11s 14ms/step - loss: 0.9807 - mse: 4.1385 - mape: 814.1928 - mean_squared_logarithmic_error: 0.3541 - r2_score: -0.0581\n"
          ]
        },
        {
          "output_type": "stream",
          "name": "stderr",
          "text": [
            "INFO flwr 2024-03-10 16:32:12,271 | server.py:125 | fit progress: (5, 0.9806783199310303, {'mse': 4.138452529907227, 'mape': 814.1928100585938, 'mean_squared_logarithmic_error': 0.35412779450416565, 'R2Score': -0.058080077171325684}, 1107.7728460689996)\n",
            "INFO:flwr:fit progress: (5, 0.9806783199310303, {'mse': 4.138452529907227, 'mape': 814.1928100585938, 'mean_squared_logarithmic_error': 0.35412779450416565, 'R2Score': -0.058080077171325684}, 1107.7728460689996)\n",
            "DEBUG flwr 2024-03-10 16:32:12,275 | server.py:173 | evaluate_round 5: strategy sampled 20 clients (out of 100)\n",
            "DEBUG:flwr:evaluate_round 5: strategy sampled 20 clients (out of 100)\n"
          ]
        },
        {
          "output_type": "stream",
          "name": "stdout",
          "text": [
            "\u001b[2m\u001b[36m(DefaultActor pid=98033)\u001b[0m \r1/7 [===>..........................] - ETA: 2s - loss: 1.2633 - mse: 6.8501 - mape: 354.4810 - mean_squared_logarithmic_error: 0.4837 - r2_score: -0.0987\n",
            "5/7 [====================>.........] - ETA: 0s - loss: 1.0748 - mse: 4.0434 - mape: 435.7285 - mean_squared_logarithmic_error: 0.4050 - r2_score: -0.1017\n",
            "7/7 [==============================] - 1s 35ms/step - loss: 1.0376 - mse: 3.6335 - mape: 486.3571 - mean_squared_logarithmic_error: 0.3859 - r2_score: -0.0971\n",
            "4/7 [================>.............] - ETA: 0s - loss: 1.0519 - mse: 5.0481 - mape: 465.7357 - mean_squared_logarithmic_error: 0.3904 - r2_score: -0.0699\n",
            "7/7 [==============================] - 1s 17ms/step - loss: 0.9482 - mse: 4.0171 - mape: 479.2845 - mean_squared_logarithmic_error: 0.3394 - r2_score: -0.0521\n",
            "2/7 [=======>......................] - ETA: 0s - loss: 1.1121 - mse: 5.2672 - mape: 388.0428 - mean_squared_logarithmic_error: 0.4151 - r2_score: -0.0814 \n",
            "4/7 [================>.............] - ETA: 0s - loss: 1.0740 - mse: 5.1366 - mape: 418.2845 - mean_squared_logarithmic_error: 0.3981 - r2_score: -0.0744\n",
            "7/7 [==============================] - 3s 42ms/step - loss: 1.0438 - mse: 5.1448 - mape: 446.8033 - mean_squared_logarithmic_error: 0.3837 - r2_score: -0.0660\n",
            "1/7 [===>..........................] - ETA: 8s - loss: 1.1259 - mse: 5.1149 - mape: 826.7332 - mean_squared_logarithmic_error: 0.4181 - r2_score: -0.0748\n",
            "7/7 [==============================] - 2s 20ms/step - loss: 0.9271 - mse: 3.6023 - mape: 623.4244 - mean_squared_logarithmic_error: 0.3292 - r2_score: -0.0527\n",
            "1/7 [===>..........................] - ETA: 2s - loss: 0.5881 - mse: 1.3275 - mape: 378.9818 - mean_squared_logarithmic_error: 0.1596 - r2_score: 7.2199e-04\n",
            "7/7 [==============================] - 1s 13ms/step - loss: 0.8866 - mse: 3.4573 - mape: 428.2297 - mean_squared_logarithmic_error: 0.3067 - r2_score: -0.0411\n",
            "1/7 [===>..........................] - ETA: 2s - loss: 0.8561 - mse: 3.1759 - mape: 446.0475 - mean_squared_logarithmic_error: 0.2893 - r2_score: -0.0478\n",
            "7/7 [==============================] - 1s 12ms/step - loss: 1.0345 - mse: 5.2357 - mape: 444.8333 - mean_squared_logarithmic_error: 0.3716 - r2_score: -0.0545\n",
            "1/7 [===>..........................] - ETA: 2s - loss: 1.0106 - mse: 3.5693 - mape: 2659.2896 - mean_squared_logarithmic_error: 0.3675 - r2_score: -0.0731\n",
            "7/7 [==============================] - 1s 13ms/step - loss: 1.0438 - mse: 4.9862 - mape: 1181.6014 - mean_squared_logarithmic_error: 0.3796 - r2_score: -0.0617\n",
            "7/7 [==============================] - 1s 13ms/step - loss: 0.9547 - mse: 3.1533 - mape: 1488.8826 - mean_squared_logarithmic_error: 0.3428 - r2_score: -0.0709\n",
            "1/7 [===>..........................] - ETA: 2s - loss: 0.7000 - mse: 1.3147 - mape: 526.6788 - mean_squared_logarithmic_error: 0.2240 - r2_score: -0.0223\n",
            "7/7 [==============================] - 1s 12ms/step - loss: 0.9933 - mse: 4.4366 - mape: 395.7676 - mean_squared_logarithmic_error: 0.3617 - r2_score: -0.0595\n",
            "1/7 [===>..........................] - ETA: 2s - loss: 1.0063 - mse: 2.8512 - mape: 9133.3096 - mean_squared_logarithmic_error: 0.3782 - r2_score: -0.0829\n",
            "7/7 [==============================] - 1s 13ms/step - loss: 1.1650 - mse: 6.2175 - mape: 2189.8223 - mean_squared_logarithmic_error: 0.4466 - r2_score: -0.0891\n",
            "1/7 [===>..........................] - ETA: 3s - loss: 0.7475 - mse: 1.5156 - mape: 400.4748 - mean_squared_logarithmic_error: 0.2463 - r2_score: -0.0157\n",
            "7/7 [==============================] - 1s 11ms/step - loss: 1.0732 - mse: 4.6754 - mape: 436.7601 - mean_squared_logarithmic_error: 0.3980 - r2_score: -0.0690\n",
            "7/7 [==============================] - 1s 13ms/step - loss: 0.9835 - mse: 4.7716 - mape: 341.1025 - mean_squared_logarithmic_error: 0.3498 - r2_score: -0.0438\n",
            "7/7 [==============================] - 1s 12ms/step - loss: 0.8645 - mse: 3.0589 - mape: 465.3305 - mean_squared_logarithmic_error: 0.3007 - r2_score: -0.0424\n",
            "1/7 [===>..........................] - ETA: 3s - loss: 0.8894 - mse: 3.0674 - mape: 394.7109 - mean_squared_logarithmic_error: 0.3188 - r2_score: -0.0651\n",
            "7/7 [==============================] - 1s 23ms/step - loss: 0.8892 - mse: 3.2421 - mape: 469.8952 - mean_squared_logarithmic_error: 0.3138 - r2_score: -0.0533\n",
            "3/7 [===========>..................] - ETA: 0s - loss: 0.8436 - mse: 3.2234 - mape: 487.9980 - mean_squared_logarithmic_error: 0.2892 - r2_score: -0.0297\n",
            "7/7 [==============================] - 1s 22ms/step - loss: 0.8363 - mse: 2.8099 - mape: 421.6138 - mean_squared_logarithmic_error: 0.2882 - r2_score: -0.0375\n",
            "1/7 [===>..........................] - ETA: 4s - loss: 1.0483 - mse: 5.3695 - mape: 721.4641 - mean_squared_logarithmic_error: 0.3925 - r2_score: -0.0632\n",
            "7/7 [==============================] - 1s 15ms/step - loss: 1.1634 - mse: 5.9488 - mape: 438.0799 - mean_squared_logarithmic_error: 0.4454 - r2_score: -0.0808\n",
            "1/7 [===>..........................] - ETA: 3s - loss: 1.3263 - mse: 6.9234 - mape: 1129.8381 - mean_squared_logarithmic_error: 0.5348 - r2_score: -0.1233\n",
            "7/7 [==============================] - 1s 13ms/step - loss: 1.0177 - mse: 3.6209 - mape: 942.6302 - mean_squared_logarithmic_error: 0.3776 - r2_score: -0.0808\n",
            "1/7 [===>..........................] - ETA: 2s - loss: 1.0653 - mse: 4.7221 - mape: 453.9405 - mean_squared_logarithmic_error: 0.3943 - r2_score: -0.0741\n",
            "7/7 [==============================] - 1s 13ms/step - loss: 0.9611 - mse: 4.4940 - mape: 347.1922 - mean_squared_logarithmic_error: 0.3454 - r2_score: -0.0528\n",
            "1/7 [===>..........................] - ETA: 3s - loss: 1.5611 - mse: 9.3951 - mape: 339.3708 - mean_squared_logarithmic_error: 0.6295 - r2_score: -0.1576\n",
            "7/7 [==============================] - 1s 14ms/step - loss: 1.0212 - mse: 4.4437 - mape: 625.3792 - mean_squared_logarithmic_error: 0.3709 - r2_score: -0.0786\n"
          ]
        },
        {
          "output_type": "stream",
          "name": "stderr",
          "text": [
            "DEBUG flwr 2024-03-10 16:32:39,027 | server.py:187 | evaluate_round 5 received 20 results and 0 failures\n",
            "DEBUG:flwr:evaluate_round 5 received 20 results and 0 failures\n",
            "DEBUG flwr 2024-03-10 16:32:39,033 | server.py:222 | fit_round 6: strategy sampled 80 clients (out of 100)\n",
            "DEBUG:flwr:fit_round 6: strategy sampled 80 clients (out of 100)\n"
          ]
        },
        {
          "output_type": "stream",
          "name": "stdout",
          "text": [
            "\u001b[2m\u001b[36m(DefaultActor pid=98033)\u001b[0m \r1/7 [===>..........................] - ETA: 2s - loss: 0.8894 - mse: 1.9934 - mape: 352.5789 - mean_squared_logarithmic_error: 0.3229 - r2_score: -0.1080\b\b\b\b\b\b\b\b\b\b\b\b\b\b\b\b\b\b\b\b\b\b\b\b\b\b\b\b\b\b\b\b\b\b\b\b\b\b\b\b\b\b\b\b\b\b\b\b\b\b\b\b\b\b\b\b\b\b\b\b\b\b\b\b\b\b\b\b\b\b\b\b\b\b\b\b\b\b\b\b\b\b\b\b\b\b\b\b\b\b\b\b\b\b\b\b\b\b\b\b\b\b\b\b\b\b\b\b\b\b\b\b\b\b\b\b\b\b\b\b\b\b\b\b\b\b\b\b\b\b\b\b\b\b\b\b\b\b\b\b\b\b\b\b\b\b\b\b\b\b\b\b\b\r6/7 [========================>.....] - ETA: 0s - loss: 0.9828 - mse: 4.4095 - mape: 649.9316 - mean_squared_logarithmic_error: 0.3540 - r2_score: -0.0550\b\b\b\b\b\b\b\b\b\b\b\b\b\b\b\b\b\b\b\b\b\b\b\b\b\b\b\b\b\b\b\b\b\b\b\b\b\b\b\b\b\b\b\b\b\b\b\b\b\b\b\b\b\b\b\b\b\b\b\b\b\b\b\b\b\b\b\b\b\b\b\b\b\b\b\b\b\b\b\b\b\b\b\b\b\b\b\b\b\b\b\b\b\b\b\b\b\b\b\b\b\b\b\b\b\b\b\b\b\b\b\b\b\b\b\b\b\b\b\b\b\b\b\b\b\b\b\b\b\b\b\b\b\b\b\b\b\b\b\b\b\b\b\b\b\b\b\b\b\b\b\b\b\r7/7 [==============================] - 1s 11ms/step - loss: 0.9863 - mse: 4.4118 - mape: 646.2001 - mean_squared_logarithmic_error: 0.3561 - r2_score: -0.0562\n"
          ]
        },
        {
          "output_type": "stream",
          "name": "stderr",
          "text": [
            "DEBUG flwr 2024-03-10 16:35:27,591 | server.py:236 | fit_round 6 received 80 results and 0 failures\n",
            "DEBUG:flwr:fit_round 6 received 80 results and 0 failures\n"
          ]
        },
        {
          "output_type": "stream",
          "name": "stdout",
          "text": [
            "755/755 [==============================] - 12s 15ms/step - loss: 0.9807 - mse: 4.1385 - mape: 814.1928 - mean_squared_logarithmic_error: 0.3541 - r2_score: -0.0581\n",
            "755/755 [==============================] - 11s 14ms/step - loss: 0.9756 - mse: 4.1612 - mape: 758.5873 - mean_squared_logarithmic_error: 0.3583 - r2_score: -0.0639\n"
          ]
        },
        {
          "output_type": "stream",
          "name": "stderr",
          "text": [
            "INFO flwr 2024-03-10 16:36:00,613 | server.py:125 | fit progress: (6, 0.9755725264549255, {'mse': 4.16124963760376, 'mape': 758.5872802734375, 'mean_squared_logarithmic_error': 0.358335018157959, 'R2Score': -0.06390869617462158}, 1336.1146283969993)\n",
            "INFO:flwr:fit progress: (6, 0.9755725264549255, {'mse': 4.16124963760376, 'mape': 758.5872802734375, 'mean_squared_logarithmic_error': 0.358335018157959, 'R2Score': -0.06390869617462158}, 1336.1146283969993)\n",
            "DEBUG flwr 2024-03-10 16:36:00,622 | server.py:173 | evaluate_round 6: strategy sampled 20 clients (out of 100)\n",
            "DEBUG:flwr:evaluate_round 6: strategy sampled 20 clients (out of 100)\n"
          ]
        },
        {
          "output_type": "stream",
          "name": "stdout",
          "text": [
            "\u001b[2m\u001b[36m(DefaultActor pid=98033)\u001b[0m \r1/7 [===>..........................] - ETA: 3s - loss: 1.2277 - mse: 6.9796 - mape: 1777.9055 - mean_squared_logarithmic_error: 0.4844 - r2_score: -0.1013\n",
            "7/7 [==============================] - 1s 14ms/step - loss: 1.0184 - mse: 4.9335 - mape: 586.8607 - mean_squared_logarithmic_error: 0.3704 - r2_score: -0.0551\n",
            "1/7 [===>..........................] - ETA: 4s - loss: 1.1534 - mse: 5.7507 - mape: 523.4364 - mean_squared_logarithmic_error: 0.4562 - r2_score: -0.0997\n",
            "7/7 [==============================] - 1s 21ms/step - loss: 0.8081 - mse: 2.3818 - mape: 408.3096 - mean_squared_logarithmic_error: 0.2842 - r2_score: -0.0604\n",
            "1/7 [===>..........................] - ETA: 4s - loss: 0.5571 - mse: 0.7805 - mape: 307.4044 - mean_squared_logarithmic_error: 0.1526 - r2_score: -0.0011\n",
            "7/7 [==============================] - 1s 17ms/step - loss: 0.9700 - mse: 4.2678 - mape: 406.4530 - mean_squared_logarithmic_error: 0.3502 - r2_score: -0.0565\n",
            "5/7 [====================>.........] - ETA: 0s - loss: 0.9454 - mse: 3.6250 - mape: 625.3314 - mean_squared_logarithmic_error: 0.3488 - r2_score: -0.0678\n",
            "7/7 [==============================] - 1s 12ms/step - loss: 0.8822 - mse: 3.1097 - mape: 567.3189 - mean_squared_logarithmic_error: 0.3166 - r2_score: -0.0590\n",
            "1/7 [===>..........................] - ETA: 3s - loss: 1.4613 - mse: 10.2174 - mape: 348.7316 - mean_squared_logarithmic_error: 0.5724 - r2_score: -0.1101\n",
            "7/7 [==============================] - 1s 12ms/step - loss: 1.1398 - mse: 5.7818 - mape: 356.3020 - mean_squared_logarithmic_error: 0.4338 - r2_score: -0.0814\n",
            "1/7 [===>..........................] - ETA: 2s - loss: 0.9853 - mse: 4.1828 - mape: 682.4934 - mean_squared_logarithmic_error: 0.3749 - r2_score: -0.0703\n",
            "7/7 [==============================] - 1s 11ms/step - loss: 0.9204 - mse: 3.3940 - mape: 487.2491 - mean_squared_logarithmic_error: 0.3396 - r2_score: -0.0567\n",
            "1/7 [===>..........................] - ETA: 3s - loss: 0.9998 - mse: 3.9077 - mape: 426.1877 - mean_squared_logarithmic_error: 0.3726 - r2_score: -0.0604\n",
            "7/7 [==============================] - 1s 14ms/step - loss: 1.0100 - mse: 4.4237 - mape: 679.0875 - mean_squared_logarithmic_error: 0.3773 - r2_score: -0.0740\n",
            "1/7 [===>..........................] - ETA: 2s - loss: 0.8427 - mse: 1.8868 - mape: 253.7211 - mean_squared_logarithmic_error: 0.2988 - r2_score: -0.0726\n",
            "7/7 [==============================] - 1s 12ms/step - loss: 1.0473 - mse: 4.7671 - mape: 461.9823 - mean_squared_logarithmic_error: 0.3961 - r2_score: -0.0809\n",
            "1/7 [===>..........................] - ETA: 3s - loss: 0.8670 - mse: 4.0510 - mape: 361.7180 - mean_squared_logarithmic_error: 0.3125 - r2_score: -0.0436\n",
            "7/7 [==============================] - 1s 13ms/step - loss: 1.0357 - mse: 5.4708 - mape: 1532.5707 - mean_squared_logarithmic_error: 0.3875 - r2_score: -0.0665\n",
            "1/7 [===>..........................] - ETA: 3s - loss: 0.9033 - mse: 3.0122 - mape: 480.5082 - mean_squared_logarithmic_error: 0.3278 - r2_score: -0.0744\n",
            "7/7 [==============================] - 1s 11ms/step - loss: 0.8441 - mse: 2.8149 - mape: 1018.2655 - mean_squared_logarithmic_error: 0.2971 - r2_score: -0.0483\n",
            "5/7 [====================>.........] - ETA: 0s - loss: 0.9563 - mse: 3.1472 - mape: 355.8857 - mean_squared_logarithmic_error: 0.3509 - r2_score: -0.0830\n",
            "7/7 [==============================] - 1s 14ms/step - loss: 0.9351 - mse: 3.1125 - mape: 364.9955 - mean_squared_logarithmic_error: 0.3401 - r2_score: -0.0785\n",
            "1/7 [===>..........................] - ETA: 3s - loss: 1.1881 - mse: 6.2703 - mape: 321.8798 - mean_squared_logarithmic_error: 0.4656 - r2_score: -0.0964\n",
            "7/7 [==============================] - 1s 15ms/step - loss: 1.0722 - mse: 4.3552 - mape: 397.1459 - mean_squared_logarithmic_error: 0.4078 - r2_score: -0.0934\n",
            "5/7 [====================>.........] - ETA: 0s - loss: 0.9864 - mse: 3.7566 - mape: 1001.1190 - mean_squared_logarithmic_error: 0.3757 - r2_score: -0.0868\n",
            "7/7 [==============================] - 1s 14ms/step - loss: 0.9747 - mse: 3.5073 - mape: 1542.0015 - mean_squared_logarithmic_error: 0.3686 - r2_score: -0.0851\n",
            "1/7 [===>..........................] - ETA: 4s - loss: 0.5659 - mse: 0.8189 - mape: 378.4947 - mean_squared_logarithmic_error: 0.1608 - r2_score: -0.0014\n",
            "7/7 [==============================] - 1s 18ms/step - loss: 0.9211 - mse: 3.8871 - mape: 1393.8029 - mean_squared_logarithmic_error: 0.3319 - r2_score: -0.0480\n",
            "1/7 [===>..........................] - ETA: 5s - loss: 1.3236 - mse: 10.1220 - mape: 456.7224 - mean_squared_logarithmic_error: 0.5098 - r2_score: -0.0861\n",
            "7/7 [==============================] - 1s 20ms/step - loss: 1.0626 - mse: 5.3171 - mape: 503.7987 - mean_squared_logarithmic_error: 0.4026 - r2_score: -0.0768\n",
            "1/7 [===>..........................] - ETA: 3s - loss: 0.8874 - mse: 5.1861 - mape: 954.4120 - mean_squared_logarithmic_error: 0.3032 - r2_score: -0.0282\n",
            "7/7 [==============================] - 1s 12ms/step - loss: 0.9048 - mse: 4.1785 - mape: 534.1874 - mean_squared_logarithmic_error: 0.3199 - r2_score: -0.0484\n",
            "4/7 [================>.............] - ETA: 0s - loss: 1.1069 - mse: 5.2596 - mape: 616.5909 - mean_squared_logarithmic_error: 0.4268 - r2_score: -0.0857\n",
            "7/7 [==============================] - 1s 15ms/step - loss: 1.0525 - mse: 4.8216 - mape: 546.9831 - mean_squared_logarithmic_error: 0.3988 - r2_score: -0.0772\n",
            "4/7 [================>.............] - ETA: 0s - loss: 0.9528 - mse: 3.7606 - mape: 568.5825 - mean_squared_logarithmic_error: 0.3484 - r2_score: -0.0593\n",
            "7/7 [==============================] - 1s 18ms/step - loss: 1.0120 - mse: 4.4042 - mape: 551.5552 - mean_squared_logarithmic_error: 0.3762 - r2_score: -0.0699\n",
            "7/7 [==============================] - 1s 13ms/step - loss: 0.9622 - mse: 3.9142 - mape: 656.8525 - mean_squared_logarithmic_error: 0.3538 - r2_score: -0.0726\n"
          ]
        },
        {
          "output_type": "stream",
          "name": "stderr",
          "text": [
            "DEBUG flwr 2024-03-10 16:36:22,973 | server.py:187 | evaluate_round 6 received 20 results and 0 failures\n",
            "DEBUG:flwr:evaluate_round 6 received 20 results and 0 failures\n",
            "DEBUG flwr 2024-03-10 16:36:22,981 | server.py:222 | fit_round 7: strategy sampled 80 clients (out of 100)\n",
            "DEBUG:flwr:fit_round 7: strategy sampled 80 clients (out of 100)\n"
          ]
        },
        {
          "output_type": "stream",
          "name": "stdout",
          "text": [
            "\u001b[2m\u001b[36m(DefaultActor pid=98033)\u001b[0m \r1/7 [===>..........................] - ETA: 2s - loss: 1.3059 - mse: 8.4380 - mape: 458.3579 - mean_squared_logarithmic_error: 0.5065 - r2_score: -0.0870\n",
            "\u001b[2m\u001b[36m(DefaultActor pid=98033)\u001b[0m \b\b\b\b\b\b\b\b\b\b\b\b\b\b\b\b\b\b\b\b\b\b\b\b\b\b\b\b\b\b\b\b\b\b\b\b\b\b\b\b\b\b\b\b\b\b\b\b\b\b\b\b\b\b\b\b\b\b\b\b\b\b\b\b\b\b\b\b\b\b\b\b\b\b\b\b\b\b\b\b\b\b\b\b\b\b\b\b\b\b\b\b\b\b\b\b\b\b\b\b\b\b\b\b\b\b\b\b\b\b\b\b\b\b\b\b\b\b\b\b\b\b\b\b\b\b\b\b\b\b\b\b\b\b\b\b\b\b\b\b\b\b\b\b\b\b\b\b\b\b\b\b\b\r5/7 [====================>.........] - ETA: 0s - loss: 0.9756 - mse: 4.3923 - mape: 395.1400 - mean_squared_logarithmic_error: 0.3575 - r2_score: -0.0626\b\b\b\b\b\b\b\b\b\b\b\b\b\b\b\b\b\b\b\b\b\b\b\b\b\b\b\b\b\b\b\b\b\b\b\b\b\b\b\b\b\b\b\b\b\b\b\b\b\b\b\b\b\b\b\b\b\b\b\b\b\b\b\b\b\b\b\b\b\b\b\b\b\b\b\b\b\b\b\b\b\b\b\b\b\b\b\b\b\b\b\b\b\b\b\b\b\b\b\b\b\b\b\b\b\b\b\b\b\b\b\b\b\b\b\b\b\b\b\b\b\b\b\b\b\b\b\b\b\b\b\b\b\b\b\b\b\b\b\b\b\b\b\b\b\b\b\b\b\b\b\b\b\r7/7 [==============================] - 1s 13ms/step - loss: 0.9639 - mse: 4.2538 - mape: 446.5469 - mean_squared_logarithmic_error: 0.3513 - r2_score: -0.0608\n"
          ]
        },
        {
          "output_type": "stream",
          "name": "stderr",
          "text": [
            "DEBUG flwr 2024-03-10 16:39:05,259 | server.py:236 | fit_round 7 received 80 results and 0 failures\n",
            "DEBUG:flwr:fit_round 7 received 80 results and 0 failures\n"
          ]
        },
        {
          "output_type": "stream",
          "name": "stdout",
          "text": [
            "755/755 [==============================] - 12s 15ms/step - loss: 0.9756 - mse: 4.1612 - mape: 758.5873 - mean_squared_logarithmic_error: 0.3583 - r2_score: -0.0639\n",
            "755/755 [==============================] - 12s 15ms/step - loss: 0.9710 - mse: 4.1839 - mape: 706.0472 - mean_squared_logarithmic_error: 0.3630 - r2_score: -0.0697\n"
          ]
        },
        {
          "output_type": "stream",
          "name": "stderr",
          "text": [
            "INFO flwr 2024-03-10 16:39:47,416 | server.py:125 | fit progress: (7, 0.9709866642951965, {'mse': 4.1838531494140625, 'mape': 706.0472412109375, 'mean_squared_logarithmic_error': 0.363008052110672, 'R2Score': -0.0696876049041748}, 1562.918103938)\n",
            "INFO:flwr:fit progress: (7, 0.9709866642951965, {'mse': 4.1838531494140625, 'mape': 706.0472412109375, 'mean_squared_logarithmic_error': 0.363008052110672, 'R2Score': -0.0696876049041748}, 1562.918103938)\n",
            "DEBUG flwr 2024-03-10 16:39:47,421 | server.py:173 | evaluate_round 7: strategy sampled 20 clients (out of 100)\n",
            "DEBUG:flwr:evaluate_round 7: strategy sampled 20 clients (out of 100)\n"
          ]
        },
        {
          "output_type": "stream",
          "name": "stdout",
          "text": [
            "7/7 [==============================] - 1s 11ms/step - loss: 0.9653 - mse: 4.4705 - mape: 1089.1051 - mean_squared_logarithmic_error: 0.3610 - r2_score: -0.0678\n",
            "7/7 [==============================] - 1s 11ms/step - loss: 0.9635 - mse: 4.5582 - mape: 1767.5084 - mean_squared_logarithmic_error: 0.3562 - r2_score: -0.0582\n",
            "1/7 [===>..........................] - ETA: 3s - loss: 0.6010 - mse: 0.9144 - mape: 472.1058 - mean_squared_logarithmic_error: 0.1747 - r2_score: -0.0085\n",
            "7/7 [==============================] - 1s 13ms/step - loss: 0.8883 - mse: 3.1276 - mape: 10980.3164 - mean_squared_logarithmic_error: 0.3247 - r2_score: -0.0616\n",
            "1/7 [===>..........................] - ETA: 2s - loss: 0.7904 - mse: 1.4416 - mape: 343.1317 - mean_squared_logarithmic_error: 0.2734 - r2_score: -0.1150\n",
            "7/7 [==============================] - 1s 10ms/step - loss: 0.9820 - mse: 4.4237 - mape: 10658.2949 - mean_squared_logarithmic_error: 0.3674 - r2_score: -0.0706\n",
            "7/7 [==============================] - 1s 14ms/step - loss: 0.9761 - mse: 4.2510 - mape: 420.0965 - mean_squared_logarithmic_error: 0.3639 - r2_score: -0.0676\n",
            "1/7 [===>..........................] - ETA: 2s - loss: 1.0560 - mse: 4.6819 - mape: 201.5395 - mean_squared_logarithmic_error: 0.4080 - r2_score: -0.0884\n",
            "7/7 [==============================] - 1s 12ms/step - loss: 1.0263 - mse: 4.9968 - mape: 532.5561 - mean_squared_logarithmic_error: 0.3891 - r2_score: -0.0774\n",
            "5/7 [====================>.........] - ETA: 0s - loss: 1.0242 - mse: 4.6080 - mape: 407.7826 - mean_squared_logarithmic_error: 0.3836 - r2_score: -0.0694\n",
            "7/7 [==============================] - 1s 12ms/step - loss: 1.0392 - mse: 4.7980 - mape: 464.0862 - mean_squared_logarithmic_error: 0.3907 - r2_score: -0.0705\n",
            "5/7 [====================>.........] - ETA: 0s - loss: 1.1019 - mse: 5.8003 - mape: 362.6737 - mean_squared_logarithmic_error: 0.4241 - r2_score: -0.0828\n",
            "7/7 [==============================] - 1s 13ms/step - loss: 1.0422 - mse: 5.1490 - mape: 371.7516 - mean_squared_logarithmic_error: 0.3955 - r2_score: -0.0745\n",
            "1/7 [===>..........................] - ETA: 2s - loss: 0.8364 - mse: 1.8783 - mape: 251.3559 - mean_squared_logarithmic_error: 0.3091 - r2_score: -0.1524\n",
            "7/7 [==============================] - 1s 11ms/step - loss: 0.8246 - mse: 2.3661 - mape: 467.0674 - mean_squared_logarithmic_error: 0.2953 - r2_score: -0.0567\n",
            "1/7 [===>..........................] - ETA: 2s - loss: 0.8550 - mse: 1.7063 - mape: 273.8100 - mean_squared_logarithmic_error: 0.2972 - r2_score: -0.0786\n",
            "7/7 [==============================] - 1s 12ms/step - loss: 1.2213 - mse: 6.1219 - mape: 495.3757 - mean_squared_logarithmic_error: 0.4863 - r2_score: -0.1121\n",
            "3/7 [===========>..................] - ETA: 0s - loss: 0.9735 - mse: 4.2508 - mape: 371.5304 - mean_squared_logarithmic_error: 0.3649 - r2_score: -0.0660\n",
            "7/7 [==============================] - 1s 16ms/step - loss: 0.9929 - mse: 4.0701 - mape: 751.1068 - mean_squared_logarithmic_error: 0.3755 - r2_score: -0.0741\n",
            "1/7 [===>..........................] - ETA: 3s - loss: 0.8536 - mse: 2.6083 - mape: 283.9797 - mean_squared_logarithmic_error: 0.2985 - r2_score: -0.0444\n",
            "4/7 [================>.............] - ETA: 0s - loss: 1.1190 - mse: 4.5109 - mape: 423.8898 - mean_squared_logarithmic_error: 0.4415 - r2_score: -0.1112\n",
            "7/7 [==============================] - 1s 20ms/step - loss: 1.1925 - mse: 5.4711 - mape: 416.8904 - mean_squared_logarithmic_error: 0.4778 - r2_score: -0.1149\n",
            "1/7 [===>..........................] - ETA: 4s - loss: 0.8848 - mse: 3.9957 - mape: 269.4022 - mean_squared_logarithmic_error: 0.3212 - r2_score: -0.0365\n",
            "7/7 [==============================] - 1s 12ms/step - loss: 1.0173 - mse: 4.9947 - mape: 372.7520 - mean_squared_logarithmic_error: 0.3835 - r2_score: -0.0625\n",
            "5/7 [====================>.........] - ETA: 0s - loss: 1.0868 - mse: 5.5515 - mape: 492.7514 - mean_squared_logarithmic_error: 0.4189 - r2_score: -0.0799\n",
            "7/7 [==============================] - 1s 12ms/step - loss: 1.0998 - mse: 5.6826 - mape: 461.1457 - mean_squared_logarithmic_error: 0.4253 - r2_score: -0.0839\n",
            "7/7 [==============================] - 1s 12ms/step - loss: 1.1240 - mse: 5.8776 - mape: 537.9208 - mean_squared_logarithmic_error: 0.4382 - r2_score: -0.0837\n",
            "1/7 [===>..........................] - ETA: 2s - loss: 0.9050 - mse: 2.1538 - mape: 250.0825 - mean_squared_logarithmic_error: 0.3407 - r2_score: -0.1241\n",
            "7/7 [==============================] - 1s 15ms/step - loss: 0.9422 - mse: 3.4953 - mape: 442.2685 - mean_squared_logarithmic_error: 0.3501 - r2_score: -0.0737\n",
            "5/7 [====================>.........] - ETA: 0s - loss: 1.0767 - mse: 5.7201 - mape: 880.1336 - mean_squared_logarithmic_error: 0.4111 - r2_score: -0.0743 \n",
            "7/7 [==============================] - 1s 14ms/step - loss: 1.1029 - mse: 5.9377 - mape: 776.5843 - mean_squared_logarithmic_error: 0.4232 - r2_score: -0.0800\n",
            "1/7 [===>..........................] - ETA: 2s - loss: 0.6835 - mse: 1.5090 - mape: 322.3406 - mean_squared_logarithmic_error: 0.2082 - r2_score: -0.0170\n",
            "7/7 [==============================] - 1s 13ms/step - loss: 0.9683 - mse: 3.5666 - mape: 396.4363 - mean_squared_logarithmic_error: 0.3668 - r2_score: -0.0841\n",
            "7/7 [==============================] - 1s 12ms/step - loss: 1.1123 - mse: 5.0602 - mape: 364.4539 - mean_squared_logarithmic_error: 0.4415 - r2_score: -0.1032\n"
          ]
        },
        {
          "output_type": "stream",
          "name": "stderr",
          "text": [
            "DEBUG flwr 2024-03-10 16:40:07,154 | server.py:187 | evaluate_round 7 received 20 results and 0 failures\n",
            "DEBUG:flwr:evaluate_round 7 received 20 results and 0 failures\n",
            "DEBUG flwr 2024-03-10 16:40:07,162 | server.py:222 | fit_round 8: strategy sampled 80 clients (out of 100)\n",
            "DEBUG:flwr:fit_round 8: strategy sampled 80 clients (out of 100)\n"
          ]
        },
        {
          "output_type": "stream",
          "name": "stdout",
          "text": [
            "\u001b[2m\u001b[36m(DefaultActor pid=98033)\u001b[0m \r1/7 [===>..........................] - ETA: 2s - loss: 1.0762 - mse: 4.6105 - mape: 782.5563 - mean_squared_logarithmic_error: 0.4200 - r2_score: -0.0908\n",
            "\u001b[2m\u001b[36m(DefaultActor pid=98033)\u001b[0m \b\b\b\b\b\b\b\b\b\b\b\b\b\b\b\b\b\b\b\b\b\b\b\b\b\b\b\b\b\b\b\b\b\b\b\b\b\b\b\b\b\b\b\b\b\b\b\b\b\b\b\b\b\b\b\b\b\b\b\b\b\b\b\b\b\b\b\b\b\b\b\b\b\b\b\b\b\b\b\b\b\b\b\b\b\b\b\b\b\b\b\b\b\b\b\b\b\b\b\b\b\b\b\b\b\b\b\b\b\b\b\b\b\b\b\b\b\b\b\b\b\b\b\b\b\b\b\b\b\b\b\b\b\b\b\b\b\b\b\b\b\b\b\b\b\b\b\b\b\b\b\b\b\r5/7 [====================>.........] - ETA: 0s - loss: 1.0060 - mse: 4.4192 - mape: 486.7589 - mean_squared_logarithmic_error: 0.3792 - r2_score: -0.0783\b\b\b\b\b\b\b\b\b\b\b\b\b\b\b\b\b\b\b\b\b\b\b\b\b\b\b\b\b\b\b\b\b\b\b\b\b\b\b\b\b\b\b\b\b\b\b\b\b\b\b\b\b\b\b\b\b\b\b\b\b\b\b\b\b\b\b\b\b\b\b\b\b\b\b\b\b\b\b\b\b\b\b\b\b\b\b\b\b\b\b\b\b\b\b\b\b\b\b\b\b\b\b\b\b\b\b\b\b\b\b\b\b\b\b\b\b\b\b\b\b\b\b\b\b\b\b\b\b\b\b\b\b\b\b\b\b\b\b\b\b\b\b\b\b\b\b\b\b\b\b\b\b\r7/7 [==============================] - 1s 12ms/step - loss: 1.0223 - mse: 4.5908 - mape: 442.3833 - mean_squared_logarithmic_error: 0.3893 - r2_score: -0.0806\n"
          ]
        },
        {
          "output_type": "stream",
          "name": "stderr",
          "text": [
            "DEBUG flwr 2024-03-10 16:42:56,703 | server.py:236 | fit_round 8 received 80 results and 0 failures\n",
            "DEBUG:flwr:fit_round 8 received 80 results and 0 failures\n"
          ]
        },
        {
          "output_type": "stream",
          "name": "stdout",
          "text": [
            "755/755 [==============================] - 12s 16ms/step - loss: 0.9710 - mse: 4.1839 - mape: 706.0472 - mean_squared_logarithmic_error: 0.3630 - r2_score: -0.0697\n",
            "755/755 [==============================] - 17s 21ms/step - loss: 0.9666 - mse: 4.2077 - mape: 653.2704 - mean_squared_logarithmic_error: 0.3684 - r2_score: -0.0758\n"
          ]
        },
        {
          "output_type": "stream",
          "name": "stderr",
          "text": [
            "INFO flwr 2024-03-10 16:43:39,866 | server.py:125 | fit progress: (8, 0.9665623307228088, {'mse': 4.207674026489258, 'mape': 653.2704467773438, 'mean_squared_logarithmic_error': 0.36844539642333984, 'R2Score': -0.07577800750732422}, 1795.3682070449995)\n",
            "INFO:flwr:fit progress: (8, 0.9665623307228088, {'mse': 4.207674026489258, 'mape': 653.2704467773438, 'mean_squared_logarithmic_error': 0.36844539642333984, 'R2Score': -0.07577800750732422}, 1795.3682070449995)\n",
            "DEBUG flwr 2024-03-10 16:43:39,872 | server.py:173 | evaluate_round 8: strategy sampled 20 clients (out of 100)\n",
            "DEBUG:flwr:evaluate_round 8: strategy sampled 20 clients (out of 100)\n"
          ]
        },
        {
          "output_type": "stream",
          "name": "stdout",
          "text": [
            "\u001b[2m\u001b[36m(DefaultActor pid=98033)\u001b[0m \r1/7 [===>..........................] - ETA: 4s - loss: 1.5215 - mse: 11.6597 - mape: 267.5636 - mean_squared_logarithmic_error: 0.6306 - r2_score: -0.1254\n",
            "7/7 [==============================] - 1s 13ms/step - loss: 1.0789 - mse: 6.2068 - mape: 367.0926 - mean_squared_logarithmic_error: 0.4156 - r2_score: -0.0705\n",
            "1/7 [===>..........................] - ETA: 3s - loss: 0.8939 - mse: 3.7583 - mape: 305.1257 - mean_squared_logarithmic_error: 0.3296 - r2_score: -0.0433\n",
            "7/7 [==============================] - 1s 14ms/step - loss: 0.8215 - mse: 3.0361 - mape: 461.6944 - mean_squared_logarithmic_error: 0.2934 - r2_score: -0.0491\n",
            "1/7 [===>..........................] - ETA: 4s - loss: 0.7742 - mse: 2.1259 - mape: 388.9608 - mean_squared_logarithmic_error: 0.2827 - r2_score: -0.0582\n",
            "6/7 [========================>.....] - ETA: 0s - loss: 0.9746 - mse: 4.7003 - mape: 502.3022 - mean_squared_logarithmic_error: 0.3733 - r2_score: -0.0736\n",
            "7/7 [==============================] - 1s 20ms/step - loss: 0.9696 - mse: 4.6648 - mape: 530.4540 - mean_squared_logarithmic_error: 0.3708 - r2_score: -0.0723\n",
            "1/7 [===>..........................] - ETA: 5s - loss: 0.7643 - mse: 1.7827 - mape: 282.1344 - mean_squared_logarithmic_error: 0.2728 - r2_score: -0.0703\n",
            "3/7 [===========>..................] - ETA: 0s - loss: 0.8399 - mse: 3.3074 - mape: 330.3823 - mean_squared_logarithmic_error: 0.3012 - r2_score: -0.0500\n",
            "7/7 [==============================] - 1s 25ms/step - loss: 0.8183 - mse: 2.7075 - mape: 535.8243 - mean_squared_logarithmic_error: 0.2927 - r2_score: -0.0618\n",
            "1/7 [===>..........................] - ETA: 4s - loss: 0.6610 - mse: 2.9896 - mape: 373.1030 - mean_squared_logarithmic_error: 0.1970 - r2_score: -0.0027\n",
            "7/7 [==============================] - 1s 13ms/step - loss: 0.8976 - mse: 4.2467 - mape: 414.3048 - mean_squared_logarithmic_error: 0.3252 - r2_score: -0.0465\n",
            "1/7 [===>..........................] - ETA: 3s - loss: 0.8665 - mse: 4.3866 - mape: 1426.7108 - mean_squared_logarithmic_error: 0.3153 - r2_score: -0.0422\n",
            "7/7 [==============================] - 1s 14ms/step - loss: 0.9946 - mse: 3.9432 - mape: 921.9085 - mean_squared_logarithmic_error: 0.3855 - r2_score: -0.0864\n",
            "7/7 [==============================] - 1s 11ms/step - loss: 0.9258 - mse: 3.0456 - mape: 324.3843 - mean_squared_logarithmic_error: 0.3522 - r2_score: -0.0900\n",
            "1/7 [===>..........................] - ETA: 3s - loss: 0.6665 - mse: 2.3165 - mape: 408.1924 - mean_squared_logarithmic_error: 0.2101 - r2_score: -0.0137\n",
            "7/7 [==============================] - 1s 13ms/step - loss: 0.9838 - mse: 4.3042 - mape: 416.2627 - mean_squared_logarithmic_error: 0.3747 - r2_score: -0.0818\n",
            "5/7 [====================>.........] - ETA: 0s - loss: 1.1190 - mse: 6.6965 - mape: 400.9819 - mean_squared_logarithmic_error: 0.4412 - r2_score: -0.0723\n",
            "7/7 [==============================] - 1s 14ms/step - loss: 1.0494 - mse: 5.8900 - mape: 514.1922 - mean_squared_logarithmic_error: 0.4079 - r2_score: -0.0689\n",
            "1/7 [===>..........................] - ETA: 2s - loss: 0.9683 - mse: 3.8208 - mape: 311.9709 - mean_squared_logarithmic_error: 0.3827 - r2_score: -0.0974\n",
            "7/7 [==============================] - 1s 13ms/step - loss: 1.0760 - mse: 5.3872 - mape: 356.4911 - mean_squared_logarithmic_error: 0.4181 - r2_score: -0.0842\n",
            "1/7 [===>..........................] - ETA: 2s - loss: 1.0925 - mse: 6.4147 - mape: 267.8055 - mean_squared_logarithmic_error: 0.4143 - r2_score: -0.0854\n",
            "7/7 [==============================] - 1s 12ms/step - loss: 0.7866 - mse: 2.4668 - mape: 424.0245 - mean_squared_logarithmic_error: 0.2741 - r2_score: -0.0490\n",
            "7/7 [==============================] - 1s 11ms/step - loss: 0.9867 - mse: 3.8019 - mape: 438.2986 - mean_squared_logarithmic_error: 0.3846 - r2_score: -0.0956\n",
            "1/7 [===>..........................] - ETA: 2s - loss: 0.9702 - mse: 4.4822 - mape: 2087.8159 - mean_squared_logarithmic_error: 0.3692 - r2_score: -0.0550\n",
            "7/7 [==============================] - 1s 12ms/step - loss: 0.9542 - mse: 4.7073 - mape: 616.1635 - mean_squared_logarithmic_error: 0.3550 - r2_score: -0.0619\n",
            "7/7 [==============================] - 1s 11ms/step - loss: 0.9671 - mse: 4.6032 - mape: 445.7297 - mean_squared_logarithmic_error: 0.3675 - r2_score: -0.0625\n",
            "1/7 [===>..........................] - ETA: 4s - loss: 1.4038 - mse: 11.3485 - mape: 846.2057 - mean_squared_logarithmic_error: 0.5661 - r2_score: -0.0972\n",
            "7/7 [==============================] - 1s 18ms/step - loss: 0.8228 - mse: 3.2237 - mape: 702.9023 - mean_squared_logarithmic_error: 0.2949 - r2_score: -0.0490\n",
            "1/7 [===>..........................] - ETA: 4s - loss: 0.7177 - mse: 1.6105 - mape: 325.2248 - mean_squared_logarithmic_error: 0.2515 - r2_score: -0.0510\n",
            "7/7 [==============================] - 1s 23ms/step - loss: 0.8487 - mse: 3.9715 - mape: 475.5095 - mean_squared_logarithmic_error: 0.3069 - r2_score: -0.0465\n",
            "1/7 [===>..........................] - ETA: 3s - loss: 0.6415 - mse: 1.0484 - mape: 326.4575 - mean_squared_logarithmic_error: 0.2063 - r2_score: -0.0312\n",
            "7/7 [==============================] - 1s 14ms/step - loss: 0.8465 - mse: 2.6564 - mape: 396.0615 - mean_squared_logarithmic_error: 0.3128 - r2_score: -0.0685\n",
            "1/7 [===>..........................] - ETA: 3s - loss: 1.0011 - mse: 5.7795 - mape: 243.0265 - mean_squared_logarithmic_error: 0.3704 - r2_score: -0.0427\n",
            "7/7 [==============================] - 1s 13ms/step - loss: 1.0169 - mse: 5.2901 - mape: 288.5957 - mean_squared_logarithmic_error: 0.3894 - r2_score: -0.0721\n",
            "1/7 [===>..........................] - ETA: 3s - loss: 1.3550 - mse: 6.2421 - mape: 327.7072 - mean_squared_logarithmic_error: 0.5652 - r2_score: -0.1549\n",
            "7/7 [==============================] - 1s 13ms/step - loss: 1.1357 - mse: 5.6689 - mape: 822.2608 - mean_squared_logarithmic_error: 0.4521 - r2_score: -0.0993\n"
          ]
        },
        {
          "output_type": "stream",
          "name": "stderr",
          "text": [
            "DEBUG flwr 2024-03-10 16:44:03,314 | server.py:187 | evaluate_round 8 received 20 results and 0 failures\n",
            "DEBUG:flwr:evaluate_round 8 received 20 results and 0 failures\n",
            "DEBUG flwr 2024-03-10 16:44:03,319 | server.py:222 | fit_round 9: strategy sampled 80 clients (out of 100)\n",
            "DEBUG:flwr:fit_round 9: strategy sampled 80 clients (out of 100)\n"
          ]
        },
        {
          "output_type": "stream",
          "name": "stdout",
          "text": [
            "\u001b[2m\u001b[36m(DefaultActor pid=98033)\u001b[0m \r1/7 [===>..........................] - ETA: 2s - loss: 1.0308 - mse: 4.3506 - mape: 475.3614 - mean_squared_logarithmic_error: 0.4174 - r2_score: -0.0995\n",
            "\u001b[2m\u001b[36m(DefaultActor pid=98033)\u001b[0m \b\b\b\b\b\b\b\b\b\b\b\b\b\b\b\b\b\b\b\b\b\b\b\b\b\b\b\b\b\b\b\b\b\b\b\b\b\b\b\b\b\b\b\b\b\b\b\b\b\b\b\b\b\b\b\b\b\b\b\b\b\b\b\b\b\b\b\b\b\b\b\b\b\b\b\b\b\b\b\b\b\b\b\b\b\b\b\b\b\b\b\b\b\b\b\b\b\b\b\b\b\b\b\b\b\b\b\b\b\b\b\b\b\b\b\b\b\b\b\b\b\b\b\b\b\b\b\b\b\b\b\b\b\b\b\b\b\b\b\b\b\b\b\b\b\b\b\b\b\b\b\b\b\r5/7 [====================>.........] - ETA: 0s - loss: 0.8186 - mse: 2.5995 - mape: 356.0279 - mean_squared_logarithmic_error: 0.2970 - r2_score: -0.0644\b\b\b\b\b\b\b\b\b\b\b\b\b\b\b\b\b\b\b\b\b\b\b\b\b\b\b\b\b\b\b\b\b\b\b\b\b\b\b\b\b\b\b\b\b\b\b\b\b\b\b\b\b\b\b\b\b\b\b\b\b\b\b\b\b\b\b\b\b\b\b\b\b\b\b\b\b\b\b\b\b\b\b\b\b\b\b\b\b\b\b\b\b\b\b\b\b\b\b\b\b\b\b\b\b\b\b\b\b\b\b\b\b\b\b\b\b\b\b\b\b\b\b\b\b\b\b\b\b\b\b\b\b\b\b\b\b\b\b\b\b\b\b\b\b\b\b\b\b\b\b\b\b\r7/7 [==============================] - 1s 13ms/step - loss: 0.8415 - mse: 2.6829 - mape: 358.5861 - mean_squared_logarithmic_error: 0.3101 - r2_score: -0.0725\n"
          ]
        },
        {
          "output_type": "stream",
          "name": "stderr",
          "text": [
            "DEBUG flwr 2024-03-10 16:46:48,655 | server.py:236 | fit_round 9 received 80 results and 0 failures\n",
            "DEBUG:flwr:fit_round 9 received 80 results and 0 failures\n"
          ]
        },
        {
          "output_type": "stream",
          "name": "stdout",
          "text": [
            "755/755 [==============================] - 11s 13ms/step - loss: 0.9666 - mse: 4.2077 - mape: 653.2704 - mean_squared_logarithmic_error: 0.3684 - r2_score: -0.0758\n",
            "755/755 [==============================] - 12s 15ms/step - loss: 0.9626 - mse: 4.2304 - mape: 604.9009 - mean_squared_logarithmic_error: 0.3741 - r2_score: -0.0816\n"
          ]
        },
        {
          "output_type": "stream",
          "name": "stderr",
          "text": [
            "INFO flwr 2024-03-10 16:47:11,797 | server.py:125 | fit progress: (9, 0.9626328945159912, {'mse': 4.230405330657959, 'mape': 604.90087890625, 'mean_squared_logarithmic_error': 0.37409093976020813, 'R2Score': -0.0815896987915039}, 2007.298980726)\n",
            "INFO:flwr:fit progress: (9, 0.9626328945159912, {'mse': 4.230405330657959, 'mape': 604.90087890625, 'mean_squared_logarithmic_error': 0.37409093976020813, 'R2Score': -0.0815896987915039}, 2007.298980726)\n",
            "DEBUG flwr 2024-03-10 16:47:11,803 | server.py:173 | evaluate_round 9: strategy sampled 20 clients (out of 100)\n",
            "DEBUG:flwr:evaluate_round 9: strategy sampled 20 clients (out of 100)\n"
          ]
        },
        {
          "output_type": "stream",
          "name": "stdout",
          "text": [
            "\u001b[2m\u001b[36m(DefaultActor pid=98033)\u001b[0m \r1/7 [===>..........................] - ETA: 3s - loss: 0.6964 - mse: 1.6349 - mape: 307.6492 - mean_squared_logarithmic_error: 0.2389 - r2_score: -0.0351\n",
            "7/7 [==============================] - 1s 12ms/step - loss: 1.0196 - mse: 5.2020 - mape: 724.7792 - mean_squared_logarithmic_error: 0.3993 - r2_score: -0.0786\n",
            "5/7 [====================>.........] - ETA: 0s - loss: 0.9810 - mse: 4.3246 - mape: 344.7436 - mean_squared_logarithmic_error: 0.3835 - r2_score: -0.0816\n",
            "7/7 [==============================] - 1s 14ms/step - loss: 0.9713 - mse: 4.2401 - mape: 353.8898 - mean_squared_logarithmic_error: 0.3785 - r2_score: -0.0780\n",
            "4/7 [================>.............] - ETA: 0s - loss: 0.9187 - mse: 3.1317 - mape: 478.0922 - mean_squared_logarithmic_error: 0.3564 - r2_score: -0.1073\n",
            "7/7 [==============================] - 1s 19ms/step - loss: 0.8654 - mse: 2.9136 - mape: 435.3191 - mean_squared_logarithmic_error: 0.3263 - r2_score: -0.0870\n",
            "4/7 [================>.............] - ETA: 0s - loss: 0.9509 - mse: 3.6660 - mape: 420.0490 - mean_squared_logarithmic_error: 0.3735 - r2_score: -0.0983\n",
            "7/7 [==============================] - 1s 21ms/step - loss: 0.9690 - mse: 3.8880 - mape: 572.2513 - mean_squared_logarithmic_error: 0.3814 - r2_score: -0.1032\n",
            "1/7 [===>..........................] - ETA: 2s - loss: 1.0478 - mse: 4.6689 - mape: 227.4785 - mean_squared_logarithmic_error: 0.4220 - r2_score: -0.1349\n",
            "7/7 [==============================] - 1s 13ms/step - loss: 1.0283 - mse: 4.5568 - mape: 291.1494 - mean_squared_logarithmic_error: 0.4091 - r2_score: -0.1035\n",
            "1/7 [===>..........................] - ETA: 3s - loss: 0.7549 - mse: 1.4699 - mape: 344.9995 - mean_squared_logarithmic_error: 0.2764 - r2_score: -0.1519\n",
            "7/7 [==============================] - 1s 14ms/step - loss: 0.8736 - mse: 3.1888 - mape: 305.2909 - mean_squared_logarithmic_error: 0.3290 - r2_score: -0.0704\n",
            "5/7 [====================>.........] - ETA: 0s - loss: 1.0632 - mse: 6.3110 - mape: 385.2001 - mean_squared_logarithmic_error: 0.4171 - r2_score: -0.0777 \n",
            "7/7 [==============================] - 1s 12ms/step - loss: 1.0649 - mse: 5.9796 - mape: 461.8044 - mean_squared_logarithmic_error: 0.4234 - r2_score: -0.0847\n",
            "1/7 [===>..........................] - ETA: 3s - loss: 1.6333 - mse: 14.3035 - mape: 490.4318 - mean_squared_logarithmic_error: 0.6818 - r2_score: -0.1182\n",
            "7/7 [==============================] - 1s 14ms/step - loss: 1.0826 - mse: 5.4926 - mape: 746.0873 - mean_squared_logarithmic_error: 0.4334 - r2_score: -0.0976\n",
            "5/7 [====================>.........] - ETA: 0s - loss: 0.9534 - mse: 4.4163 - mape: 545.5732 - mean_squared_logarithmic_error: 0.3720 - r2_score: -0.0852 \n",
            "7/7 [==============================] - 1s 13ms/step - loss: 0.9375 - mse: 4.2632 - mape: 617.5912 - mean_squared_logarithmic_error: 0.3622 - r2_score: -0.0833\n",
            "1/7 [===>..........................] - ETA: 3s - loss: 0.9727 - mse: 5.4506 - mape: 453.4337 - mean_squared_logarithmic_error: 0.3738 - r2_score: -0.0547\n",
            "7/7 [==============================] - 1s 14ms/step - loss: 0.9138 - mse: 3.5343 - mape: 405.1982 - mean_squared_logarithmic_error: 0.3495 - r2_score: -0.0763\n",
            "5/7 [====================>.........] - ETA: 0s - loss: 0.9358 - mse: 3.9070 - mape: 363.9271 - mean_squared_logarithmic_error: 0.3622 - r2_score: -0.0736\n",
            "7/7 [==============================] - 1s 14ms/step - loss: 0.9294 - mse: 3.9015 - mape: 357.9695 - mean_squared_logarithmic_error: 0.3592 - r2_score: -0.0761\n",
            "1/7 [===>..........................] - ETA: 2s - loss: 0.8505 - mse: 3.6765 - mape: 239.0663 - mean_squared_logarithmic_error: 0.3222 - r2_score: -0.0740\n",
            "7/7 [==============================] - 1s 13ms/step - loss: 1.1689 - mse: 6.0380 - mape: 557.6680 - mean_squared_logarithmic_error: 0.4818 - r2_score: -0.1191\n",
            "1/7 [===>..........................] - ETA: 4s - loss: 0.9645 - mse: 4.2201 - mape: 419.8811 - mean_squared_logarithmic_error: 0.3791 - r2_score: -0.0701\n",
            "7/7 [==============================] - 1s 12ms/step - loss: 0.9107 - mse: 3.6273 - mape: 340.9488 - mean_squared_logarithmic_error: 0.3499 - r2_score: -0.0858\n",
            "1/7 [===>..........................] - ETA: 3s - loss: 0.8025 - mse: 1.8750 - mape: 239.4274 - mean_squared_logarithmic_error: 0.3007 - r2_score: -0.0758\n",
            "4/7 [================>.............] - ETA: 0s - loss: 0.9849 - mse: 4.0811 - mape: 714.6085 - mean_squared_logarithmic_error: 0.3914 - r2_score: -0.0941\n",
            "7/7 [==============================] - 1s 22ms/step - loss: 0.9740 - mse: 3.9986 - mape: 583.4152 - mean_squared_logarithmic_error: 0.3838 - r2_score: -0.0884\n",
            "1/7 [===>..........................] - ETA: 4s - loss: 1.0909 - mse: 6.9987 - mape: 249.0309 - mean_squared_logarithmic_error: 0.4257 - r2_score: -0.0718\n",
            "7/7 [==============================] - 1s 19ms/step - loss: 0.9930 - mse: 4.6740 - mape: 359.1422 - mean_squared_logarithmic_error: 0.3867 - r2_score: -0.0868\n",
            "1/7 [===>..........................] - ETA: 4s - loss: 1.1195 - mse: 4.4681 - mape: 270.4508 - mean_squared_logarithmic_error: 0.4554 - r2_score: -0.1332\n",
            "7/7 [==============================] - 1s 15ms/step - loss: 0.9395 - mse: 3.7846 - mape: 357.3522 - mean_squared_logarithmic_error: 0.3597 - r2_score: -0.0876\n",
            "1/7 [===>..........................] - ETA: 2s - loss: 1.3792 - mse: 7.0715 - mape: 242.2822 - mean_squared_logarithmic_error: 0.5834 - r2_score: -0.1570\n",
            "7/7 [==============================] - 1s 12ms/step - loss: 1.1068 - mse: 5.9743 - mape: 367.1469 - mean_squared_logarithmic_error: 0.4419 - r2_score: -0.0906\n",
            "7/7 [==============================] - 1s 12ms/step - loss: 0.9369 - mse: 3.9495 - mape: 486.6493 - mean_squared_logarithmic_error: 0.3587 - r2_score: -0.0771\n",
            "7/7 [==============================] - 1s 11ms/step - loss: 0.9592 - mse: 4.1727 - mape: 412.2292 - mean_squared_logarithmic_error: 0.3682 - r2_score: -0.0789\n"
          ]
        },
        {
          "output_type": "stream",
          "name": "stderr",
          "text": [
            "DEBUG flwr 2024-03-10 16:47:34,018 | server.py:187 | evaluate_round 9 received 20 results and 0 failures\n",
            "DEBUG:flwr:evaluate_round 9 received 20 results and 0 failures\n",
            "DEBUG flwr 2024-03-10 16:47:34,028 | server.py:222 | fit_round 10: strategy sampled 80 clients (out of 100)\n",
            "DEBUG:flwr:fit_round 10: strategy sampled 80 clients (out of 100)\n"
          ]
        },
        {
          "output_type": "stream",
          "name": "stdout",
          "text": [
            "\u001b[2m\u001b[36m(DefaultActor pid=98033)\u001b[0m \r1/7 [===>..........................] - ETA: 2s - loss: 1.1247 - mse: 4.7500 - mape: 53568.3906 - mean_squared_logarithmic_error: 0.4503 - r2_score: -0.1194\b\b\b\b\b\b\b\b\b\b\b\b\b\b\b\b\b\b\b\b\b\b\b\b\b\b\b\b\b\b\b\b\b\b\b\b\b\b\b\b\b\b\b\b\b\b\b\b\b\b\b\b\b\b\b\b\b\b\b\b\b\b\b\b\b\b\b\b\b\b\b\b\b\b\b\b\b\b\b\b\b\b\b\b\b\b\b\b\b\b\b\b\b\b\b\b\b\b\b\b\b\b\b\b\b\b\b\b\b\b\b\b\b\b\b\b\b\b\b\b\b\b\b\b\b\b\b\b\b\b\b\b\b\b\b\b\b\b\b\b\b\b\b\b\b\b\b\b\b\b\b\b\b\b\b\r5/7 [====================>.........] - ETA: 0s - loss: 0.9981 - mse: 4.2974 - mape: 10991.3809 - mean_squared_logarithmic_error: 0.3919 - r2_score: -0.0925\n",
            "\u001b[2m\u001b[36m(DefaultActor pid=98033)\u001b[0m \b\b\b\b\b\b\b\b\b\b\b\b\b\b\b\b\b\b\b\b\b\b\b\b\b\b\b\b\b\b\b\b\b\b\b\b\b\b\b\b\b\b\b\b\b\b\b\b\b\b\b\b\b\b\b\b\b\b\b\b\b\b\b\b\b\b\b\b\b\b\b\b\b\b\b\b\b\b\b\b\b\b\b\b\b\b\b\b\b\b\b\b\b\b\b\b\b\b\b\b\b\b\b\b\b\b\b\b\b\b\b\b\b\b\b\b\b\b\b\b\b\b\b\b\b\b\b\b\b\b\b\b\b\b\b\b\b\b\b\b\b\b\b\b\b\b\b\b\b\b\b\b\b\b\b\r7/7 [==============================] - 1s 13ms/step - loss: 1.0157 - mse: 4.1730 - mape: 9130.7363 - mean_squared_logarithmic_error: 0.4029 - r2_score: -0.1038\n"
          ]
        },
        {
          "output_type": "stream",
          "name": "stderr",
          "text": [
            "DEBUG flwr 2024-03-10 16:50:25,549 | server.py:236 | fit_round 10 received 80 results and 0 failures\n",
            "DEBUG:flwr:fit_round 10 received 80 results and 0 failures\n"
          ]
        },
        {
          "output_type": "stream",
          "name": "stdout",
          "text": [
            "755/755 [==============================] - 13s 17ms/step - loss: 0.9626 - mse: 4.2304 - mape: 604.9009 - mean_squared_logarithmic_error: 0.3741 - r2_score: -0.0816\n",
            "755/755 [==============================] - 13s 16ms/step - loss: 0.9593 - mse: 4.2511 - mape: 562.3711 - mean_squared_logarithmic_error: 0.3796 - r2_score: -0.0869\n"
          ]
        },
        {
          "output_type": "stream",
          "name": "stderr",
          "text": [
            "INFO flwr 2024-03-10 16:50:59,860 | server.py:125 | fit progress: (10, 0.9592827558517456, {'mse': 4.251059532165527, 'mape': 562.37109375, 'mean_squared_logarithmic_error': 0.3795928657054901, 'R2Score': -0.08687043190002441}, 2235.3615421699997)\n",
            "INFO:flwr:fit progress: (10, 0.9592827558517456, {'mse': 4.251059532165527, 'mape': 562.37109375, 'mean_squared_logarithmic_error': 0.3795928657054901, 'R2Score': -0.08687043190002441}, 2235.3615421699997)\n",
            "DEBUG flwr 2024-03-10 16:50:59,865 | server.py:173 | evaluate_round 10: strategy sampled 20 clients (out of 100)\n",
            "DEBUG:flwr:evaluate_round 10: strategy sampled 20 clients (out of 100)\n"
          ]
        },
        {
          "output_type": "stream",
          "name": "stdout",
          "text": [
            "\u001b[2m\u001b[36m(DefaultActor pid=98033)\u001b[0m \r1/7 [===>..........................] - ETA: 4s - loss: 1.2976 - mse: 5.1341 - mape: 362.5123 - mean_squared_logarithmic_error: 0.5694 - r2_score: -0.2110\n",
            "7/7 [==============================] - 1s 14ms/step - loss: 0.9936 - mse: 4.0372 - mape: 395.7929 - mean_squared_logarithmic_error: 0.3962 - r2_score: -0.0986\n",
            "7/7 [==============================] - 1s 13ms/step - loss: 0.9213 - mse: 3.4978 - mape: 282.2828 - mean_squared_logarithmic_error: 0.3587 - r2_score: -0.0848\n",
            "5/7 [====================>.........] - ETA: 0s - loss: 0.8728 - mse: 3.5245 - mape: 528.4247 - mean_squared_logarithmic_error: 0.3297 - r2_score: -0.0760\n",
            "7/7 [==============================] - 1s 14ms/step - loss: 0.9726 - mse: 4.7062 - mape: 490.3108 - mean_squared_logarithmic_error: 0.3775 - r2_score: -0.0846\n",
            "1/7 [===>..........................] - ETA: 3s - loss: 0.7588 - mse: 1.6883 - mape: 252.9618 - mean_squared_logarithmic_error: 0.2848 - r2_score: -0.0885\n",
            "7/7 [==============================] - 1s 16ms/step - loss: 0.8098 - mse: 2.5590 - mape: 257.3853 - mean_squared_logarithmic_error: 0.3069 - r2_score: -0.0847\n",
            "5/7 [====================>.........] - ETA: 0s - loss: 0.7875 - mse: 2.6403 - mape: 446.5337 - mean_squared_logarithmic_error: 0.2908 - r2_score: -0.0616 \n",
            "7/7 [==============================] - 1s 15ms/step - loss: 0.7810 - mse: 2.4669 - mape: 407.7739 - mean_squared_logarithmic_error: 0.2876 - r2_score: -0.0639\n",
            "7/7 [==============================] - 1s 13ms/step - loss: 1.1567 - mse: 6.3683 - mape: 2968.7871 - mean_squared_logarithmic_error: 0.4859 - r2_score: -0.1108\n",
            "7/7 [==============================] - 1s 12ms/step - loss: 1.0623 - mse: 4.9509 - mape: 256.3368 - mean_squared_logarithmic_error: 0.4316 - r2_score: -0.1181\n",
            "1/7 [===>..........................] - ETA: 3s - loss: 0.9600 - mse: 3.9135 - mape: 392.3214 - mean_squared_logarithmic_error: 0.3886 - r2_score: -0.1281\n",
            "7/7 [==============================] - 1s 15ms/step - loss: 0.9748 - mse: 4.4555 - mape: 369.0867 - mean_squared_logarithmic_error: 0.3830 - r2_score: -0.0884\n",
            "1/7 [===>..........................] - ETA: 3s - loss: 1.0166 - mse: 5.8403 - mape: 501.5406 - mean_squared_logarithmic_error: 0.3956 - r2_score: -0.0658\n",
            "7/7 [==============================] - 1s 15ms/step - loss: 0.9430 - mse: 4.2374 - mape: 448.2910 - mean_squared_logarithmic_error: 0.3684 - r2_score: -0.0801\n",
            "5/7 [====================>.........] - ETA: 0s - loss: 0.8228 - mse: 2.7080 - mape: 302.4040 - mean_squared_logarithmic_error: 0.3111 - r2_score: -0.0801\n",
            "7/7 [==============================] - 1s 21ms/step - loss: 0.9055 - mse: 3.5590 - mape: 309.2918 - mean_squared_logarithmic_error: 0.3526 - r2_score: -0.0845\n",
            "1/7 [===>..........................] - ETA: 4s - loss: 0.6550 - mse: 1.1973 - mape: 307.4123 - mean_squared_logarithmic_error: 0.2121 - r2_score: -0.0529\n",
            "3/7 [===========>..................] - ETA: 0s - loss: 0.8561 - mse: 3.2449 - mape: 327.8553 - mean_squared_logarithmic_error: 0.3177 - r2_score: -0.0632\n",
            "7/7 [==============================] - 1s 25ms/step - loss: 0.8971 - mse: 3.8889 - mape: 437.4504 - mean_squared_logarithmic_error: 0.3408 - r2_score: -0.0690\n",
            "1/7 [===>..........................] - ETA: 5s - loss: 1.1736 - mse: 4.8712 - mape: 209.1297 - mean_squared_logarithmic_error: 0.5010 - r2_score: -0.1576\n",
            "7/7 [==============================] - 1s 15ms/step - loss: 1.1255 - mse: 6.2479 - mape: 401.7999 - mean_squared_logarithmic_error: 0.4604 - r2_score: -0.1062\n",
            "5/7 [====================>.........] - ETA: 0s - loss: 0.8213 - mse: 2.9144 - mape: 453.5044 - mean_squared_logarithmic_error: 0.3099 - r2_score: -0.0787\n",
            "7/7 [==============================] - 1s 15ms/step - loss: 0.7848 - mse: 2.6409 - mape: 445.4924 - mean_squared_logarithmic_error: 0.2900 - r2_score: -0.0673\n",
            "7/7 [==============================] - 1s 15ms/step - loss: 0.9625 - mse: 3.9793 - mape: 270.6524 - mean_squared_logarithmic_error: 0.3812 - r2_score: -0.1000\n",
            "7/7 [==============================] - 1s 14ms/step - loss: 0.8985 - mse: 3.7569 - mape: 660.5714 - mean_squared_logarithmic_error: 0.3458 - r2_score: -0.0781\n",
            "1/7 [===>..........................] - ETA: 3s - loss: 0.7737 - mse: 2.5329 - mape: 225.8426 - mean_squared_logarithmic_error: 0.2736 - r2_score: -0.0383\n",
            "7/7 [==============================] - 1s 13ms/step - loss: 1.0814 - mse: 5.5045 - mape: 310.4329 - mean_squared_logarithmic_error: 0.4397 - r2_score: -0.1020\n",
            "4/7 [================>.............] - ETA: 0s - loss: 0.7833 - mse: 2.2330 - mape: 662.5300 - mean_squared_logarithmic_error: 0.2889 - r2_score: -0.0648\n",
            "7/7 [==============================] - 1s 15ms/step - loss: 0.8998 - mse: 3.5160 - mape: 538.6964 - mean_squared_logarithmic_error: 0.3440 - r2_score: -0.0731\n",
            "5/7 [====================>.........] - ETA: 0s - loss: 0.8244 - mse: 2.4991 - mape: 590.8629 - mean_squared_logarithmic_error: 0.3132 - r2_score: -0.0834\n",
            "7/7 [==============================] - 1s 13ms/step - loss: 0.8721 - mse: 3.0441 - mape: 529.3745 - mean_squared_logarithmic_error: 0.3332 - r2_score: -0.0814\n",
            "5/7 [====================>.........] - ETA: 0s - loss: 0.8504 - mse: 3.2077 - mape: 396.8078 - mean_squared_logarithmic_error: 0.3212 - r2_score: -0.0748\n",
            "7/7 [==============================] - 1s 14ms/step - loss: 0.8523 - mse: 3.1417 - mape: 368.3676 - mean_squared_logarithmic_error: 0.3230 - r2_score: -0.0770\n"
          ]
        },
        {
          "output_type": "stream",
          "name": "stderr",
          "text": [
            "DEBUG flwr 2024-03-10 16:51:23,138 | server.py:187 | evaluate_round 10 received 20 results and 0 failures\n",
            "DEBUG:flwr:evaluate_round 10 received 20 results and 0 failures\n",
            "INFO flwr 2024-03-10 16:51:23,144 | server.py:153 | FL finished in 2258.645742778999\n",
            "INFO:flwr:FL finished in 2258.645742778999\n",
            "INFO flwr 2024-03-10 16:51:23,149 | app.py:226 | app_fit: losses_distributed [(1, 1.0129086941480636), (2, 1.0069327652454376), (3, 0.9882948637008667), (4, 1.0111054211854935), (5, 0.9915450513362885), (6, 0.9768500298261642), (7, 1.025166916847229), (8, 0.9411063879728317), (9, 0.9830107033252716), (10, 0.9518591582775116)]\n",
            "INFO:flwr:app_fit: losses_distributed [(1, 1.0129086941480636), (2, 1.0069327652454376), (3, 0.9882948637008667), (4, 1.0111054211854935), (5, 0.9915450513362885), (6, 0.9768500298261642), (7, 1.025166916847229), (8, 0.9411063879728317), (9, 0.9830107033252716), (10, 0.9518591582775116)]\n",
            "INFO flwr 2024-03-10 16:51:23,152 | app.py:227 | app_fit: metrics_distributed_fit {}\n",
            "INFO:flwr:app_fit: metrics_distributed_fit {}\n",
            "INFO flwr 2024-03-10 16:51:23,157 | app.py:228 | app_fit: metrics_distributed {'mse': [(1, 4.015760612487793), (2, 3.971884477138519), (3, 3.9818276882171633), (4, 4.271636533737182), (5, 4.268068468570709), (6, 4.154827344417572), (7, 4.6504733800888065), (8, 4.125232672691345), (9, 4.377611720561982), (10, 4.134487557411194)], 'mape': [(1, 1310.4759613037108), (2, 1056.0685150146485), (3, 721.7810272216797), (4, 867.2055847167969), (5, 664.959504699707), (6, 672.1134414672852), (7, 1610.405014038086), (8, 490.5370574951172), (9, 893.3309204101563), (10, 524.8817291259766)], 'mean_squared_logarithmic_error': [(1, 0.3447615414857864), (2, 0.3471637800335884), (3, 0.34411622732877734), (4, 0.36169597655534746), (5, 0.3596517160534859), (6, 0.36019414365291597), (7, 0.3900684744119644), (8, 0.3541655525565147), (9, 0.38425181806087494), (10, 0.3736347794532776)], 'R2Score': [(1, -0.03730478882789612), (2, -0.043364685773849485), (3, -0.04594142436981201), (4, -0.05557839870452881), (5, -0.06198554635047913), (6, -0.06747493147850037), (7, -0.07787837386131287), (8, -0.06942175626754761), (9, -0.0878304660320282), (10, -0.08814316987991333)]}\n",
            "INFO:flwr:app_fit: metrics_distributed {'mse': [(1, 4.015760612487793), (2, 3.971884477138519), (3, 3.9818276882171633), (4, 4.271636533737182), (5, 4.268068468570709), (6, 4.154827344417572), (7, 4.6504733800888065), (8, 4.125232672691345), (9, 4.377611720561982), (10, 4.134487557411194)], 'mape': [(1, 1310.4759613037108), (2, 1056.0685150146485), (3, 721.7810272216797), (4, 867.2055847167969), (5, 664.959504699707), (6, 672.1134414672852), (7, 1610.405014038086), (8, 490.5370574951172), (9, 893.3309204101563), (10, 524.8817291259766)], 'mean_squared_logarithmic_error': [(1, 0.3447615414857864), (2, 0.3471637800335884), (3, 0.34411622732877734), (4, 0.36169597655534746), (5, 0.3596517160534859), (6, 0.36019414365291597), (7, 0.3900684744119644), (8, 0.3541655525565147), (9, 0.38425181806087494), (10, 0.3736347794532776)], 'R2Score': [(1, -0.03730478882789612), (2, -0.043364685773849485), (3, -0.04594142436981201), (4, -0.05557839870452881), (5, -0.06198554635047913), (6, -0.06747493147850037), (7, -0.07787837386131287), (8, -0.06942175626754761), (9, -0.0878304660320282), (10, -0.08814316987991333)]}\n",
            "INFO flwr 2024-03-10 16:51:23,161 | app.py:229 | app_fit: losses_centralized [(0, 1.0213792324066162), (1, 1.0115649700164795), (2, 1.0025005340576172), (3, 0.9944734573364258), (4, 0.9871841669082642), (5, 0.9806783199310303), (6, 0.9755725264549255), (7, 0.9709866642951965), (8, 0.9665623307228088), (9, 0.9626328945159912), (10, 0.9592827558517456)]\n",
            "INFO:flwr:app_fit: losses_centralized [(0, 1.0213792324066162), (1, 1.0115649700164795), (2, 1.0025005340576172), (3, 0.9944734573364258), (4, 0.9871841669082642), (5, 0.9806783199310303), (6, 0.9755725264549255), (7, 0.9709866642951965), (8, 0.9665623307228088), (9, 0.9626328945159912), (10, 0.9592827558517456)]\n",
            "INFO flwr 2024-03-10 16:51:23,164 | app.py:230 | app_fit: metrics_centralized {'mse': [(0, 4.023429870605469), (1, 4.044773578643799), (2, 4.067388534545898), (3, 4.09035587310791), (4, 4.114060401916504), (5, 4.138452529907227), (6, 4.16124963760376), (7, 4.1838531494140625), (8, 4.207674026489258), (9, 4.230405330657959), (10, 4.251059532165527)], 'mape': [(0, 1154.4869384765625), (1, 1080.9764404296875), (2, 1009.4158935546875), (3, 942.0369873046875), (4, 877.082763671875), (5, 814.1928100585938), (6, 758.5872802734375), (7, 706.0472412109375), (8, 653.2704467773438), (9, 604.90087890625), (10, 562.37109375)], 'mean_squared_logarithmic_error': [(0, 0.3425126075744629), (1, 0.34317314624786377), (2, 0.34473416209220886), (3, 0.34708666801452637), (4, 0.3502275347709656), (5, 0.35412779450416565), (6, 0.358335018157959), (7, 0.363008052110672), (8, 0.36844539642333984), (9, 0.37409093976020813), (10, 0.3795928657054901)], 'R2Score': [(0, -0.028672218322753906), (1, -0.03412914276123047), (2, -0.03991103172302246), (3, -0.045783162117004395), (4, -0.05184376239776611), (5, -0.058080077171325684), (6, -0.06390869617462158), (7, -0.0696876049041748), (8, -0.07577800750732422), (9, -0.0815896987915039), (10, -0.08687043190002441)]}\n",
            "INFO:flwr:app_fit: metrics_centralized {'mse': [(0, 4.023429870605469), (1, 4.044773578643799), (2, 4.067388534545898), (3, 4.09035587310791), (4, 4.114060401916504), (5, 4.138452529907227), (6, 4.16124963760376), (7, 4.1838531494140625), (8, 4.207674026489258), (9, 4.230405330657959), (10, 4.251059532165527)], 'mape': [(0, 1154.4869384765625), (1, 1080.9764404296875), (2, 1009.4158935546875), (3, 942.0369873046875), (4, 877.082763671875), (5, 814.1928100585938), (6, 758.5872802734375), (7, 706.0472412109375), (8, 653.2704467773438), (9, 604.90087890625), (10, 562.37109375)], 'mean_squared_logarithmic_error': [(0, 0.3425126075744629), (1, 0.34317314624786377), (2, 0.34473416209220886), (3, 0.34708666801452637), (4, 0.3502275347709656), (5, 0.35412779450416565), (6, 0.358335018157959), (7, 0.363008052110672), (8, 0.36844539642333984), (9, 0.37409093976020813), (10, 0.3795928657054901)], 'R2Score': [(0, -0.028672218322753906), (1, -0.03412914276123047), (2, -0.03991103172302246), (3, -0.045783162117004395), (4, -0.05184376239776611), (5, -0.058080077171325684), (6, -0.06390869617462158), (7, -0.0696876049041748), (8, -0.07577800750732422), (9, -0.0815896987915039), (10, -0.08687043190002441)]}\n"
          ]
        },
        {
          "output_type": "stream",
          "name": "stdout",
          "text": [
            "\u001b[2m\u001b[36m(DefaultActor pid=98033)\u001b[0m \r1/7 [===>..........................] - ETA: 3s - loss: 1.1682 - mse: 6.0976 - mape: 191.1842 - mean_squared_logarithmic_error: 0.4810 - r2_score: -0.1132\n",
            "\u001b[2m\u001b[36m(DefaultActor pid=98033)\u001b[0m \b\b\b\b\b\b\b\b\b\b\b\b\b\b\b\b\b\b\b\b\b\b\b\b\b\b\b\b\b\b\b\b\b\b\b\b\b\b\b\b\b\b\b\b\b\b\b\b\b\b\b\b\b\b\b\b\b\b\b\b\b\b\b\b\b\b\b\b\b\b\b\b\b\b\b\b\b\b\b\b\b\b\b\b\b\b\b\b\b\b\b\b\b\b\b\b\b\b\b\b\b\b\b\b\b\b\b\b\b\b\b\b\b\b\b\b\b\b\b\b\b\b\b\b\b\b\b\b\b\b\b\b\b\b\b\b\b\b\b\b\b\b\b\b\b\b\b\b\b\b\b\b\b\r4/7 [================>.............] - ETA: 0s - loss: 1.1104 - mse: 5.7064 - mape: 376.4643 - mean_squared_logarithmic_error: 0.4506 - r2_score: -0.1126\b\b\b\b\b\b\b\b\b\b\b\b\b\b\b\b\b\b\b\b\b\b\b\b\b\b\b\b\b\b\b\b\b\b\b\b\b\b\b\b\b\b\b\b\b\b\b\b\b\b\b\b\b\b\b\b\b\b\b\b\b\b\b\b\b\b\b\b\b\b\b\b\b\b\b\b\b\b\b\b\b\b\b\b\b\b\b\b\b\b\b\b\b\b\b\b\b\b\b\b\b\b\b\b\b\b\b\b\b\b\b\b\b\b\b\b\b\b\b\b\b\b\b\b\b\b\b\b\b\b\b\b\b\b\b\b\b\b\b\b\b\b\b\b\b\b\b\b\b\b\b\b\b\r7/7 [==============================] - 1s 14ms/step - loss: 1.1426 - mse: 6.1315 - mape: 349.4578 - mean_squared_logarithmic_error: 0.4663 - r2_score: -0.1100\n"
          ]
        }
      ],
      "source": [
        "# With a dictionary, you tell Flower's VirtualClientEngine that each\n",
        "# client needs exclusive access to these many resources in order to run\n",
        "client_resources = {\"num_cpus\": 2, \"num_gpus\": 0.0}\n",
        "\n",
        "# Start simulation\n",
        "history = fl.simulation.start_simulation(\n",
        "    client_fn=get_client_fn(gpus_fds),\n",
        "    num_clients=NUM_CLIENTS,\n",
        "    config=fl.server.ServerConfig(num_rounds=10),\n",
        "    strategy=strategy,\n",
        "    client_resources=client_resources,\n",
        "    actor_kwargs={\n",
        "        \"on_actor_init_fn\": enable_tf_gpu_growth  # Enable GPU growth upon actor init.\n",
        "    },\n",
        ")"
      ]
    },
    {
      "cell_type": "markdown",
      "source": [
        "# PLOT"
      ],
      "metadata": {
        "id": "AbKudFGxh4Dg"
      }
    },
    {
      "cell_type": "code",
      "source": [
        "import matplotlib.pyplot as plt\n",
        "\n",
        "def plot_loss(history):\n",
        "  fig, (ax1, ax2, ax3, ax4, ax5) = plt.subplots(1, 5, figsize=(19, 5))\n",
        "\n",
        "  ax1.plot(pd.DataFrame(history.c_loss), label='loss_centralizzata')\n",
        "  ax1.plot(pd.DataFrame(history.loss_avg), label='loss_avg')\n",
        "  ax1.plot(pd.DataFrame(history.loss_prox), label='loss_prox')\n",
        "  ax1.plot(pd.DataFrame(history.loss_qavg), label='loss_qavg')\n",
        "\n",
        "  ax2.plot(pd.DataFrame(history.c_mse), label='mse_centralized')\n",
        "  ax2.plot(pd.DataFrame(history.mse_avg), label='mse_avg')\n",
        "  ax2.plot(pd.DataFrame(history.mse_prox), label='mse_prox')\n",
        "  ax2.plot(pd.DataFrame(history.mse_qavg), label='mse_qavg')\n",
        "\n",
        "  ax3.plot(pd.DataFrame(history.c_mape), label='mape_centralized')\n",
        "  ax3.plot(pd.DataFrame(history.mape_avg), label='mape_avg')\n",
        "  ax3.plot(pd.DataFrame(history.mape_prox), label='mape_prox')\n",
        "  ax3.plot(pd.DataFrame(history.mape_qavg), label='mape_qavg')\n",
        "\n",
        "  ax4.plot(pd.DataFrame(history.c_msle), label='msle_centralized')\n",
        "  ax4.plot(pd.DataFrame(history.msle_avg), label='msle_avg')\n",
        "  ax4.plot(pd.DataFrame(history.msle_prox), label='msle_prox')\n",
        "  ax4.plot(pd.DataFrame(history.msle_qavg), label='msle_qavg')\n",
        "\n",
        "  ax5.plot(pd.DataFrame(history.c_r2), label='r2_centralized')\n",
        "  ax5.plot(pd.DataFrame(history.r2_avg), label='r2_avg')\n",
        "  ax5.plot(pd.DataFrame(history.r2_prox), label='r2_prox')\n",
        "  ax5.plot(pd.DataFrame(history.r2_qavg), label='r2_qavg')\n",
        "\n",
        "  ax1.set(xlabel='Epoch', ylabel='loss')\n",
        "  ax1.legend(loc=\"upper right\")\n",
        "  ax1.grid(True)\n",
        "\n",
        "  ax2.set(xlabel='Epoch', ylabel='mse')\n",
        "  ax2.legend(loc=\"upper right\")\n",
        "  ax2.grid(True)\n",
        "\n",
        "  ax3.set(xlabel='Epoch', ylabel='mape')\n",
        "  ax3.legend(loc=\"upper right\")\n",
        "  ax3.grid(True)\n",
        "\n",
        "  ax4.set(xlabel='Epoch', ylabel='mean_squared_logarithmic_error')\n",
        "  ax4.legend(loc=\"upper right\")\n",
        "  ax4.grid(True)\n",
        "\n",
        "  ax5.set(xlabel='Epoch', ylabel='r2_score')\n",
        "  ax5.legend(loc=\"upper right\")\n",
        "  ax5.grid(True)\n",
        "\n",
        "  fig.tight_layout()"
      ],
      "metadata": {
        "id": "aUi8DZGGtMIG"
      },
      "execution_count": null,
      "outputs": []
    },
    {
      "cell_type": "markdown",
      "source": [
        "#### CENTRALE"
      ],
      "metadata": {
        "id": "7is8xSiMW2qe"
      }
    },
    {
      "cell_type": "code",
      "source": [
        "# initialize list of lists\n",
        "data_centrale = [[0, 0, 0, 0, 0, 0],\n",
        "                [1,0.654691,3.148931,84.439003,0.158293,0.179876],\n",
        "                [2,0.638235,3.136050,79.750023,0.154645,0.183230],\n",
        "                [3,0.631250,3.132224,77.709427,0.152647,0.184227],\n",
        "                [4,0.620261,3.123100,80.765099,0.148184,0.186603],\n",
        "                [5,0.616670,3.121987,78.399124,0.147527,0.186893],\n",
        "                [6,0.620576,3.122755,93.155891,0.147896,0.186693],\n",
        "                [7,0.613600,3.121242,78.342842,0.147210,0.187087],\n",
        "                [8,0.613441,3.121131,79.306496,0.147167,0.187116],\n",
        "                [9,0.611118,3.120584,76.801743,0.146897,0.187258],\n",
        "                [10,0.611208,3.120517,77.030296,0.146838,0.187276]]\n",
        "\n",
        "# Create the pandas DataFrame\n",
        "h_centrale = pd.DataFrame(data_centrale, columns=['epoch','c_loss', 'c_mse', 'c_mape', 'c_msle','c_r2']).drop(0)\n",
        "\n",
        "h_centrale"
      ],
      "metadata": {
        "id": "Yr66U1Y4L3zW",
        "colab": {
          "base_uri": "https://localhost:8080/"
        },
        "outputId": "b937af0a-a6f1-4ba4-8311-f30602c1d9ac"
      },
      "execution_count": null,
      "outputs": [
        {
          "output_type": "execute_result",
          "data": {
            "text/plain": [
              "    epoch    c_loss     c_mse     c_mape    c_msle      c_r2\n",
              "1       1  0.654691  3.148931  84.439003  0.158293  0.179876\n",
              "2       2  0.638235  3.136050  79.750023  0.154645  0.183230\n",
              "3       3  0.631250  3.132224  77.709427  0.152647  0.184227\n",
              "4       4  0.620261  3.123100  80.765099  0.148184  0.186603\n",
              "5       5  0.616670  3.121987  78.399124  0.147527  0.186893\n",
              "6       6  0.620576  3.122755  93.155891  0.147896  0.186693\n",
              "7       7  0.613600  3.121242  78.342842  0.147210  0.187087\n",
              "8       8  0.613441  3.121131  79.306496  0.147167  0.187116\n",
              "9       9  0.611118  3.120584  76.801743  0.146897  0.187258\n",
              "10     10  0.611208  3.120517  77.030296  0.146838  0.187276"
            ],
            "text/html": [
              "\n",
              "  <div id=\"df-b29f205b-5aa4-4f3e-ae6c-c90d01da361b\" class=\"colab-df-container\">\n",
              "    <div>\n",
              "<style scoped>\n",
              "    .dataframe tbody tr th:only-of-type {\n",
              "        vertical-align: middle;\n",
              "    }\n",
              "\n",
              "    .dataframe tbody tr th {\n",
              "        vertical-align: top;\n",
              "    }\n",
              "\n",
              "    .dataframe thead th {\n",
              "        text-align: right;\n",
              "    }\n",
              "</style>\n",
              "<table border=\"1\" class=\"dataframe\">\n",
              "  <thead>\n",
              "    <tr style=\"text-align: right;\">\n",
              "      <th></th>\n",
              "      <th>epoch</th>\n",
              "      <th>c_loss</th>\n",
              "      <th>c_mse</th>\n",
              "      <th>c_mape</th>\n",
              "      <th>c_msle</th>\n",
              "      <th>c_r2</th>\n",
              "    </tr>\n",
              "  </thead>\n",
              "  <tbody>\n",
              "    <tr>\n",
              "      <th>1</th>\n",
              "      <td>1</td>\n",
              "      <td>0.654691</td>\n",
              "      <td>3.148931</td>\n",
              "      <td>84.439003</td>\n",
              "      <td>0.158293</td>\n",
              "      <td>0.179876</td>\n",
              "    </tr>\n",
              "    <tr>\n",
              "      <th>2</th>\n",
              "      <td>2</td>\n",
              "      <td>0.638235</td>\n",
              "      <td>3.136050</td>\n",
              "      <td>79.750023</td>\n",
              "      <td>0.154645</td>\n",
              "      <td>0.183230</td>\n",
              "    </tr>\n",
              "    <tr>\n",
              "      <th>3</th>\n",
              "      <td>3</td>\n",
              "      <td>0.631250</td>\n",
              "      <td>3.132224</td>\n",
              "      <td>77.709427</td>\n",
              "      <td>0.152647</td>\n",
              "      <td>0.184227</td>\n",
              "    </tr>\n",
              "    <tr>\n",
              "      <th>4</th>\n",
              "      <td>4</td>\n",
              "      <td>0.620261</td>\n",
              "      <td>3.123100</td>\n",
              "      <td>80.765099</td>\n",
              "      <td>0.148184</td>\n",
              "      <td>0.186603</td>\n",
              "    </tr>\n",
              "    <tr>\n",
              "      <th>5</th>\n",
              "      <td>5</td>\n",
              "      <td>0.616670</td>\n",
              "      <td>3.121987</td>\n",
              "      <td>78.399124</td>\n",
              "      <td>0.147527</td>\n",
              "      <td>0.186893</td>\n",
              "    </tr>\n",
              "    <tr>\n",
              "      <th>6</th>\n",
              "      <td>6</td>\n",
              "      <td>0.620576</td>\n",
              "      <td>3.122755</td>\n",
              "      <td>93.155891</td>\n",
              "      <td>0.147896</td>\n",
              "      <td>0.186693</td>\n",
              "    </tr>\n",
              "    <tr>\n",
              "      <th>7</th>\n",
              "      <td>7</td>\n",
              "      <td>0.613600</td>\n",
              "      <td>3.121242</td>\n",
              "      <td>78.342842</td>\n",
              "      <td>0.147210</td>\n",
              "      <td>0.187087</td>\n",
              "    </tr>\n",
              "    <tr>\n",
              "      <th>8</th>\n",
              "      <td>8</td>\n",
              "      <td>0.613441</td>\n",
              "      <td>3.121131</td>\n",
              "      <td>79.306496</td>\n",
              "      <td>0.147167</td>\n",
              "      <td>0.187116</td>\n",
              "    </tr>\n",
              "    <tr>\n",
              "      <th>9</th>\n",
              "      <td>9</td>\n",
              "      <td>0.611118</td>\n",
              "      <td>3.120584</td>\n",
              "      <td>76.801743</td>\n",
              "      <td>0.146897</td>\n",
              "      <td>0.187258</td>\n",
              "    </tr>\n",
              "    <tr>\n",
              "      <th>10</th>\n",
              "      <td>10</td>\n",
              "      <td>0.611208</td>\n",
              "      <td>3.120517</td>\n",
              "      <td>77.030296</td>\n",
              "      <td>0.146838</td>\n",
              "      <td>0.187276</td>\n",
              "    </tr>\n",
              "  </tbody>\n",
              "</table>\n",
              "</div>\n",
              "    <div class=\"colab-df-buttons\">\n",
              "\n",
              "  <div class=\"colab-df-container\">\n",
              "    <button class=\"colab-df-convert\" onclick=\"convertToInteractive('df-b29f205b-5aa4-4f3e-ae6c-c90d01da361b')\"\n",
              "            title=\"Convert this dataframe to an interactive table.\"\n",
              "            style=\"display:none;\">\n",
              "\n",
              "  <svg xmlns=\"http://www.w3.org/2000/svg\" height=\"24px\" viewBox=\"0 -960 960 960\">\n",
              "    <path d=\"M120-120v-720h720v720H120Zm60-500h600v-160H180v160Zm220 220h160v-160H400v160Zm0 220h160v-160H400v160ZM180-400h160v-160H180v160Zm440 0h160v-160H620v160ZM180-180h160v-160H180v160Zm440 0h160v-160H620v160Z\"/>\n",
              "  </svg>\n",
              "    </button>\n",
              "\n",
              "  <style>\n",
              "    .colab-df-container {\n",
              "      display:flex;\n",
              "      gap: 12px;\n",
              "    }\n",
              "\n",
              "    .colab-df-convert {\n",
              "      background-color: #E8F0FE;\n",
              "      border: none;\n",
              "      border-radius: 50%;\n",
              "      cursor: pointer;\n",
              "      display: none;\n",
              "      fill: #1967D2;\n",
              "      height: 32px;\n",
              "      padding: 0 0 0 0;\n",
              "      width: 32px;\n",
              "    }\n",
              "\n",
              "    .colab-df-convert:hover {\n",
              "      background-color: #E2EBFA;\n",
              "      box-shadow: 0px 1px 2px rgba(60, 64, 67, 0.3), 0px 1px 3px 1px rgba(60, 64, 67, 0.15);\n",
              "      fill: #174EA6;\n",
              "    }\n",
              "\n",
              "    .colab-df-buttons div {\n",
              "      margin-bottom: 4px;\n",
              "    }\n",
              "\n",
              "    [theme=dark] .colab-df-convert {\n",
              "      background-color: #3B4455;\n",
              "      fill: #D2E3FC;\n",
              "    }\n",
              "\n",
              "    [theme=dark] .colab-df-convert:hover {\n",
              "      background-color: #434B5C;\n",
              "      box-shadow: 0px 1px 3px 1px rgba(0, 0, 0, 0.15);\n",
              "      filter: drop-shadow(0px 1px 2px rgba(0, 0, 0, 0.3));\n",
              "      fill: #FFFFFF;\n",
              "    }\n",
              "  </style>\n",
              "\n",
              "    <script>\n",
              "      const buttonEl =\n",
              "        document.querySelector('#df-b29f205b-5aa4-4f3e-ae6c-c90d01da361b button.colab-df-convert');\n",
              "      buttonEl.style.display =\n",
              "        google.colab.kernel.accessAllowed ? 'block' : 'none';\n",
              "\n",
              "      async function convertToInteractive(key) {\n",
              "        const element = document.querySelector('#df-b29f205b-5aa4-4f3e-ae6c-c90d01da361b');\n",
              "        const dataTable =\n",
              "          await google.colab.kernel.invokeFunction('convertToInteractive',\n",
              "                                                    [key], {});\n",
              "        if (!dataTable) return;\n",
              "\n",
              "        const docLinkHtml = 'Like what you see? Visit the ' +\n",
              "          '<a target=\"_blank\" href=https://colab.research.google.com/notebooks/data_table.ipynb>data table notebook</a>'\n",
              "          + ' to learn more about interactive tables.';\n",
              "        element.innerHTML = '';\n",
              "        dataTable['output_type'] = 'display_data';\n",
              "        await google.colab.output.renderOutput(dataTable, element);\n",
              "        const docLink = document.createElement('div');\n",
              "        docLink.innerHTML = docLinkHtml;\n",
              "        element.appendChild(docLink);\n",
              "      }\n",
              "    </script>\n",
              "  </div>\n",
              "\n",
              "\n",
              "<div id=\"df-c3ea6b1c-6160-4f62-b1ca-a26ae9f2a4c2\">\n",
              "  <button class=\"colab-df-quickchart\" onclick=\"quickchart('df-c3ea6b1c-6160-4f62-b1ca-a26ae9f2a4c2')\"\n",
              "            title=\"Suggest charts\"\n",
              "            style=\"display:none;\">\n",
              "\n",
              "<svg xmlns=\"http://www.w3.org/2000/svg\" height=\"24px\"viewBox=\"0 0 24 24\"\n",
              "     width=\"24px\">\n",
              "    <g>\n",
              "        <path d=\"M19 3H5c-1.1 0-2 .9-2 2v14c0 1.1.9 2 2 2h14c1.1 0 2-.9 2-2V5c0-1.1-.9-2-2-2zM9 17H7v-7h2v7zm4 0h-2V7h2v10zm4 0h-2v-4h2v4z\"/>\n",
              "    </g>\n",
              "</svg>\n",
              "  </button>\n",
              "\n",
              "<style>\n",
              "  .colab-df-quickchart {\n",
              "      --bg-color: #E8F0FE;\n",
              "      --fill-color: #1967D2;\n",
              "      --hover-bg-color: #E2EBFA;\n",
              "      --hover-fill-color: #174EA6;\n",
              "      --disabled-fill-color: #AAA;\n",
              "      --disabled-bg-color: #DDD;\n",
              "  }\n",
              "\n",
              "  [theme=dark] .colab-df-quickchart {\n",
              "      --bg-color: #3B4455;\n",
              "      --fill-color: #D2E3FC;\n",
              "      --hover-bg-color: #434B5C;\n",
              "      --hover-fill-color: #FFFFFF;\n",
              "      --disabled-bg-color: #3B4455;\n",
              "      --disabled-fill-color: #666;\n",
              "  }\n",
              "\n",
              "  .colab-df-quickchart {\n",
              "    background-color: var(--bg-color);\n",
              "    border: none;\n",
              "    border-radius: 50%;\n",
              "    cursor: pointer;\n",
              "    display: none;\n",
              "    fill: var(--fill-color);\n",
              "    height: 32px;\n",
              "    padding: 0;\n",
              "    width: 32px;\n",
              "  }\n",
              "\n",
              "  .colab-df-quickchart:hover {\n",
              "    background-color: var(--hover-bg-color);\n",
              "    box-shadow: 0 1px 2px rgba(60, 64, 67, 0.3), 0 1px 3px 1px rgba(60, 64, 67, 0.15);\n",
              "    fill: var(--button-hover-fill-color);\n",
              "  }\n",
              "\n",
              "  .colab-df-quickchart-complete:disabled,\n",
              "  .colab-df-quickchart-complete:disabled:hover {\n",
              "    background-color: var(--disabled-bg-color);\n",
              "    fill: var(--disabled-fill-color);\n",
              "    box-shadow: none;\n",
              "  }\n",
              "\n",
              "  .colab-df-spinner {\n",
              "    border: 2px solid var(--fill-color);\n",
              "    border-color: transparent;\n",
              "    border-bottom-color: var(--fill-color);\n",
              "    animation:\n",
              "      spin 1s steps(1) infinite;\n",
              "  }\n",
              "\n",
              "  @keyframes spin {\n",
              "    0% {\n",
              "      border-color: transparent;\n",
              "      border-bottom-color: var(--fill-color);\n",
              "      border-left-color: var(--fill-color);\n",
              "    }\n",
              "    20% {\n",
              "      border-color: transparent;\n",
              "      border-left-color: var(--fill-color);\n",
              "      border-top-color: var(--fill-color);\n",
              "    }\n",
              "    30% {\n",
              "      border-color: transparent;\n",
              "      border-left-color: var(--fill-color);\n",
              "      border-top-color: var(--fill-color);\n",
              "      border-right-color: var(--fill-color);\n",
              "    }\n",
              "    40% {\n",
              "      border-color: transparent;\n",
              "      border-right-color: var(--fill-color);\n",
              "      border-top-color: var(--fill-color);\n",
              "    }\n",
              "    60% {\n",
              "      border-color: transparent;\n",
              "      border-right-color: var(--fill-color);\n",
              "    }\n",
              "    80% {\n",
              "      border-color: transparent;\n",
              "      border-right-color: var(--fill-color);\n",
              "      border-bottom-color: var(--fill-color);\n",
              "    }\n",
              "    90% {\n",
              "      border-color: transparent;\n",
              "      border-bottom-color: var(--fill-color);\n",
              "    }\n",
              "  }\n",
              "</style>\n",
              "\n",
              "  <script>\n",
              "    async function quickchart(key) {\n",
              "      const quickchartButtonEl =\n",
              "        document.querySelector('#' + key + ' button');\n",
              "      quickchartButtonEl.disabled = true;  // To prevent multiple clicks.\n",
              "      quickchartButtonEl.classList.add('colab-df-spinner');\n",
              "      try {\n",
              "        const charts = await google.colab.kernel.invokeFunction(\n",
              "            'suggestCharts', [key], {});\n",
              "      } catch (error) {\n",
              "        console.error('Error during call to suggestCharts:', error);\n",
              "      }\n",
              "      quickchartButtonEl.classList.remove('colab-df-spinner');\n",
              "      quickchartButtonEl.classList.add('colab-df-quickchart-complete');\n",
              "    }\n",
              "    (() => {\n",
              "      let quickchartButtonEl =\n",
              "        document.querySelector('#df-c3ea6b1c-6160-4f62-b1ca-a26ae9f2a4c2 button');\n",
              "      quickchartButtonEl.style.display =\n",
              "        google.colab.kernel.accessAllowed ? 'block' : 'none';\n",
              "    })();\n",
              "  </script>\n",
              "</div>\n",
              "    </div>\n",
              "  </div>\n"
            ],
            "application/vnd.google.colaboratory.intrinsic+json": {
              "type": "dataframe",
              "variable_name": "h_centrale",
              "summary": "{\n  \"name\": \"h_centrale\",\n  \"rows\": 10,\n  \"fields\": [\n    {\n      \"column\": \"epoch\",\n      \"properties\": {\n        \"dtype\": \"number\",\n        \"std\": 3,\n        \"min\": 1,\n        \"max\": 10,\n        \"num_unique_values\": 10,\n        \"samples\": [\n          9,\n          2,\n          6\n        ],\n        \"semantic_type\": \"\",\n        \"description\": \"\"\n      }\n    },\n    {\n      \"column\": \"c_loss\",\n      \"properties\": {\n        \"dtype\": \"number\",\n        \"std\": 0.014211855074784098,\n        \"min\": 0.611118,\n        \"max\": 0.654691,\n        \"num_unique_values\": 10,\n        \"samples\": [\n          0.611118,\n          0.638235,\n          0.620576\n        ],\n        \"semantic_type\": \"\",\n        \"description\": \"\"\n      }\n    },\n    {\n      \"column\": \"c_mse\",\n      \"properties\": {\n        \"dtype\": \"number\",\n        \"std\": 0.009422767680817937,\n        \"min\": 3.120517,\n        \"max\": 3.148931,\n        \"num_unique_values\": 10,\n        \"samples\": [\n          3.120584,\n          3.13605,\n          3.122755\n        ],\n        \"semantic_type\": \"\",\n        \"description\": \"\"\n      }\n    },\n    {\n      \"column\": \"c_mape\",\n      \"properties\": {\n        \"dtype\": \"number\",\n        \"std\": 4.947117940042983,\n        \"min\": 76.801743,\n        \"max\": 93.155891,\n        \"num_unique_values\": 10,\n        \"samples\": [\n          76.801743,\n          79.750023,\n          93.155891\n        ],\n        \"semantic_type\": \"\",\n        \"description\": \"\"\n      }\n    },\n    {\n      \"column\": \"c_msle\",\n      \"properties\": {\n        \"dtype\": \"number\",\n        \"std\": 0.0040263974026969115,\n        \"min\": 0.146838,\n        \"max\": 0.158293,\n        \"num_unique_values\": 10,\n        \"samples\": [\n          0.146897,\n          0.154645,\n          0.147896\n        ],\n        \"semantic_type\": \"\",\n        \"description\": \"\"\n      }\n    },\n    {\n      \"column\": \"c_r2\",\n      \"properties\": {\n        \"dtype\": \"number\",\n        \"std\": 0.002454007355327198,\n        \"min\": 0.179876,\n        \"max\": 0.187276,\n        \"num_unique_values\": 10,\n        \"samples\": [\n          0.187258,\n          0.18323,\n          0.186693\n        ],\n        \"semantic_type\": \"\",\n        \"description\": \"\"\n      }\n    }\n  ]\n}"
            }
          },
          "metadata": {},
          "execution_count": 11
        }
      ]
    },
    {
      "cell_type": "markdown",
      "source": [
        "# SIMULAZIONE 5 CLIENTS"
      ],
      "metadata": {
        "id": "SMZqr1pHrtt3"
      }
    },
    {
      "cell_type": "markdown",
      "source": [
        "#### AVG"
      ],
      "metadata": {
        "id": "tD5gRiiFrzpM"
      }
    },
    {
      "cell_type": "code",
      "source": [
        "h = pd.DataFrame(history.metrics_centralized['R2Score']).drop([0], axis=1).rename(columns={1: 'r2_avg'})\n",
        "h = pd.concat([h, pd.DataFrame(history.metrics_centralized['mse']).drop([0], axis=1)], axis=1).rename(columns={1: 'mse_avg'})\n",
        "h = pd.concat([h, pd.DataFrame(history.metrics_centralized['mape']).drop([0], axis=1)], axis=1).rename(columns={1: 'mape_avg'})\n",
        "h = pd.concat([h, pd.DataFrame(history.metrics_centralized['mean_squared_logarithmic_error']).drop([0], axis=1)], axis=1).rename(columns={1: 'msle_avg'})\n",
        "h_fedavg = pd.concat([h, pd.DataFrame(history.losses_centralized).drop([0], axis=1)], axis=1).rename(columns={1: 'loss_avg'})\n",
        "h_avg = h_fedavg.drop(0)\n",
        "h_avg"
      ],
      "metadata": {
        "id": "vQy8j_hOryzh"
      },
      "execution_count": null,
      "outputs": []
    },
    {
      "cell_type": "code",
      "source": [
        "data_5_average = [[0, 0, 0, 0, 0],\n",
        "              [-0.159772,\t4.536199,\t100.001656,\t0.487906,\t0.934440],\n",
        "              [-0.159774,\t4.536206,\t99.999771,\t0.487910,\t0.934440],\n",
        "              [-0.159774,\t4.536205,\t99.999786,\t0.487910,\t0.934440],\n",
        "              [-0.159772,\t4.536200,\t100.000877,\t0.487907,\t0.934440],\n",
        "              [-0.159772,\t4.536198,\t100.001709,\t0.487906,\t0.934440],\n",
        "              [-0.159754,\t4.536129,\t100.024345,\t0.487872,\t0.934437],\n",
        "              [0.095176,\t3.539023,\t254.785141,\t0.231574,\t0.789448],\n",
        "              [0.168450,\t3.252428,\t122.435867,\t0.172460,\t0.700098],\n",
        "              [0.173803,\t3.231492,\t139.457962,\t0.166702,\t0.685768],\n",
        "              [0.173894,\t3.231137,\t101.962616,\t0.167250,\t0.680446]]\n",
        "\n",
        "# Create the pandas DataFrame\n",
        "h5_average = pd.DataFrame(data_5_average, columns=['r2_avg', 'mse_avg', 'mape_avg', 'msle_avg','loss_avg']).drop(0)\n",
        "\n",
        "h5_average"
      ],
      "metadata": {
        "id": "27RGBx4dsJuU"
      },
      "execution_count": null,
      "outputs": []
    },
    {
      "cell_type": "markdown",
      "source": [
        "#### PROX"
      ],
      "metadata": {
        "id": "zx28AOnt0MM8"
      }
    },
    {
      "cell_type": "code",
      "source": [
        "h = pd.DataFrame(history.metrics_centralized['R2Score']).drop([0], axis=1).rename(columns={1: 'r2_prox'})\n",
        "h = pd.concat([h, pd.DataFrame(history.metrics_centralized['mse']).drop([0], axis=1)], axis=1).rename(columns={1: 'mse_prox'})\n",
        "h = pd.concat([h, pd.DataFrame(history.metrics_centralized['mape']).drop([0], axis=1)], axis=1).rename(columns={1: 'mape_prox'})\n",
        "h = pd.concat([h, pd.DataFrame(history.metrics_centralized['mean_squared_logarithmic_error']).drop([0], axis=1)], axis=1).rename(columns={1: 'msle_prox'})\n",
        "h_prox = pd.concat([h, pd.DataFrame(history.losses_centralized).drop([0], axis=1)], axis=1).rename(columns={1: 'loss_prox'})\n",
        "\n",
        "h_prox = h_prox.drop(0)\n",
        "h_prox"
      ],
      "metadata": {
        "id": "b3TF7Plu4QgD"
      },
      "execution_count": null,
      "outputs": []
    },
    {
      "cell_type": "code",
      "source": [
        "data_5_proxima = [[0, 0, 0, 0, 0],\n",
        "    [-0.159773,\t4.536204,\t99.999832,\t0.487908,\t0.934440],\n",
        "    [-0.159771,\t4.536196,\t100.002647,\t0.487904,\t0.934440],\n",
        "    [-0.158326,\t4.530542,\t100.980331,\t0.485681,\t0.933808],\n",
        "    [0.164455,\t3.268056,\t149.804108,\t0.175392,\t0.708424],\n",
        "    [0.173493,\t3.232704,\t119.574417,\t0.166720,\t0.683495],\n",
        "    [0.174212,\t3.229892,\t110.613647,\t0.166439,\t0.680148],\n",
        "    [0.174251,\t3.229741,\t102.588463,\t0.166694,\t0.678648],\n",
        "    [0.174063,\t3.230473,\t98.588257,\t0.167074,\t0.678383],\n",
        "    [0.174425,\t3.229059,\t98.732056,\t0.166520,\t0.677230],\n",
        "    [0.174464,\t3.228906,\t100.152863,\t0.166480,\t0.677253]]\n",
        "\n",
        "# Create the pandas DataFrame\n",
        "h5_proxima = pd.DataFrame(data_5_proxima, columns=['r2_prox', 'mse_prox', 'mape_prox', 'msle_prox','loss_prox']).drop(0)\n",
        "\n",
        "h5_proxima"
      ],
      "metadata": {
        "id": "eQWZJJ3l4PAN"
      },
      "execution_count": null,
      "outputs": []
    },
    {
      "cell_type": "markdown",
      "source": [
        "#### QAVG"
      ],
      "metadata": {
        "id": "pC11Lr810S1I"
      }
    },
    {
      "cell_type": "code",
      "source": [
        "h = pd.DataFrame(history.metrics_centralized['R2Score']).drop([0], axis=1).rename(columns={1: 'r2_qavg'})\n",
        "h = pd.concat([h, pd.DataFrame(history.metrics_centralized['mse']).drop([0], axis=1)], axis=1).rename(columns={1: 'mse_qavg'})\n",
        "h = pd.concat([h, pd.DataFrame(history.metrics_centralized['mape']).drop([0], axis=1)], axis=1).rename(columns={1: 'mape_qavg'})\n",
        "h = pd.concat([h, pd.DataFrame(history.metrics_centralized['mean_squared_logarithmic_error']).drop([0], axis=1)], axis=1).rename(columns={1: 'msle_qavg'})\n",
        "h_fedQavg = pd.concat([h, pd.DataFrame(history.losses_centralized).drop([0], axis=1)], axis=1).rename(columns={1: 'loss_qavg'})\n",
        "\n",
        "h_qavg = h_fedQavg.drop(0)\n",
        "h_qavg"
      ],
      "metadata": {
        "id": "wDYV500r0Tu4"
      },
      "execution_count": null,
      "outputs": []
    },
    {
      "cell_type": "code",
      "source": [
        "data_5_qaverage = [ [0, 0, 0, 0, 0],\n",
        "    [-0.038929,\t4.063546,\t1040.778809,\t0.345072,\t1.006306],\n",
        "    [-0.044094,\t4.083748,\t978.655701,\t0.346872,\t0.998679],\n",
        "    [-0.049749,\t4.105868,\t915.088745,\t0.349496,\t0.991300],\n",
        "    [-0.055025,\t4.126504,\t858.891418,\t0.352478,\t0.985156],\n",
        "    [-0.060640,\t4.148464,\t802.461853,\t0.356186,\t0.979595],\n",
        "    [-0.066540,\t4.171540,\t746.391968,\t0.360625,\t0.974560],\n",
        "    [-0.072246,\t4.193858,\t694.489624,\t0.365406,\t0.970081],\n",
        "    [-0.077753,\t4.215397,\t646.320923,\t0.370449,\t0.966047],\n",
        "    [-0.082950,\t4.235724,\t602.545837,\t0.375580,\t0.962494],\n",
        "    [-0.088348,\t4.256840,\t558.664307,\t0.381279,\t0.959051]]\n",
        "\n",
        "\n",
        " # Create the pandas DataFrame\n",
        "h5_qaverage = pd.DataFrame(data_5_qaverage, columns=['r2_qavg', 'mse_qavg', 'mape_qavg', 'msle_qavg','loss_qavg']).drop(0)\n",
        "h5_qaverage"
      ],
      "metadata": {
        "id": "jB8GCmT30Zuo"
      },
      "execution_count": null,
      "outputs": []
    },
    {
      "cell_type": "markdown",
      "source": [
        "# SIMULAZIONE 10 CLIENTS"
      ],
      "metadata": {
        "id": "T6QdAAWllndV"
      }
    },
    {
      "cell_type": "markdown",
      "source": [
        "#### AVG"
      ],
      "metadata": {
        "id": "gxG9dHf4W80X"
      }
    },
    {
      "cell_type": "code",
      "source": [
        "h = pd.DataFrame(history.metrics_centralized['R2Score']).drop([0], axis=1).rename(columns={1: 'r2_avg'})\n",
        "h = pd.concat([h, pd.DataFrame(history.metrics_centralized['mse']).drop([0], axis=1)], axis=1).rename(columns={1: 'mse_avg'})\n",
        "h = pd.concat([h, pd.DataFrame(history.metrics_centralized['mape']).drop([0], axis=1)], axis=1).rename(columns={1: 'mape_avg'})\n",
        "h = pd.concat([h, pd.DataFrame(history.metrics_centralized['mean_squared_logarithmic_error']).drop([0], axis=1)], axis=1).rename(columns={1: 'msle_avg'})\n",
        "h_fedavg = pd.concat([h, pd.DataFrame(history.losses_centralized).drop([0], axis=1)], axis=1).rename(columns={1: 'loss_avg'})\n",
        "h_avg = h_fedavg.drop(0)\n",
        "h_avg"
      ],
      "metadata": {
        "id": "TxhLVNaGrHZk"
      },
      "execution_count": null,
      "outputs": []
    },
    {
      "cell_type": "code",
      "source": [
        "data_10_average = [ [0, 0, 0, 0, 0],\n",
        "  [-0.159768,\t4.536181,\t100.008499,\t0.487897,\t0.934440],\n",
        "  [-0.159773,\t4.536201,\t100.000008,\t0.487907,\t0.934440],\n",
        "  [-0.159770,\t4.536192,\t100.004105,\t0.487902,\t0.934440],\n",
        "  [-0.159465,\t4.534999,\t100.231705,\t0.487408,\t0.934316],\n",
        "  [0.145597,\t3.341815,\t242.549881,\t0.192786,\t0.743602],\n",
        "  [0.172998,\t3.234639,\t152.504593,\t0.167351,\t0.690544],\n",
        "  [0.173969,\t3.230843,\t105.542000,\t0.166795,\t0.680298],\n",
        "  [0.173977,\t3.230810,\t108.258484,\t0.167205,\t0.681332],\n",
        "  [0.173879,\t3.231196,\t91.323975,\t0.167707,\t0.678554],\n",
        "  [0.173640,\t3.232130,\t104.274834,\t0.167719,\t0.683049]]\n",
        "\n",
        "\n",
        " # Create the pandas DataFrame\n",
        "h10_average = pd.DataFrame(data_10_average, columns=['r2_qavg', 'mse_qavg', 'mape_qavg', 'msle_qavg','loss_qavg']).drop(0)\n",
        "h10_average"
      ],
      "metadata": {
        "id": "A3h8NwEGtKAJ"
      },
      "execution_count": null,
      "outputs": []
    },
    {
      "cell_type": "markdown",
      "source": [
        "#### PROX"
      ],
      "metadata": {
        "id": "PWHvZ9qhW5RS"
      }
    },
    {
      "cell_type": "code",
      "source": [
        "h = pd.DataFrame(history.metrics_centralized['R2Score']).drop([0], axis=1).rename(columns={1: 'r2_prox'})\n",
        "h = pd.concat([h, pd.DataFrame(history.metrics_centralized['mse']).drop([0], axis=1)], axis=1).rename(columns={1: 'mse_prox'})\n",
        "h = pd.concat([h, pd.DataFrame(history.metrics_centralized['mape']).drop([0], axis=1)], axis=1).rename(columns={1: 'mape_prox'})\n",
        "h = pd.concat([h, pd.DataFrame(history.metrics_centralized['mean_squared_logarithmic_error']).drop([0], axis=1)], axis=1).rename(columns={1: 'msle_prox'})\n",
        "h_prox = pd.concat([h, pd.DataFrame(history.losses_centralized).drop([0], axis=1)], axis=1).rename(columns={1: 'loss_prox'})\n",
        "h_prox = h_prox.drop(0)\n",
        "h_prox"
      ],
      "metadata": {
        "id": "GGgF87bqLBI8"
      },
      "execution_count": null,
      "outputs": []
    },
    {
      "cell_type": "code",
      "source": [
        "data_10_proxima = [[0, 0, 0, 0, 0],\n",
        "    [-0.159773,\t4.536201,\t100.000259,\t0.487907,\t0.934440],\n",
        "    [-0.159773,\t4.536201,\t100.000587,\t0.487907,\t0.934440],\n",
        "    [-0.159766,\t4.536175,\t100.009506,\t0.487894,\t0.934439],\n",
        "    [-0.068974,\t4.181060,\t118.042313,\t0.386204,\t0.888390],\n",
        "    [0.170903,\t3.242836,\t145.703079,\t0.169003,\t0.694669],\n",
        "    [0.173511,\t3.232634,\t111.831459,\t0.167015,\t0.682743],\n",
        "    [0.174152,\t3.230126,\t106.305733,\t0.166629,\t0.679604],\n",
        "    [0.174308,\t3.229515,\t106.238319,\t0.166608,\t0.679228],\n",
        "    [0.174417,\t3.229089,\t101.954605,\t0.166529,\t0.677882],\n",
        "    [0.174371,\t3.229271,\t99.536942,\t0.166657,\t0.677419]]\n",
        "\n",
        "\n",
        "# Create the pandas DataFrame\n",
        "h10_proxima = pd.DataFrame(data_10_proxima, columns=['r2_prox', 'mse_prox', 'mape_prox', 'msle_prox','loss_prox']).drop(0)\n",
        "\n",
        "h10_proxima"
      ],
      "metadata": {
        "id": "RTiKp1lf1Od4"
      },
      "execution_count": null,
      "outputs": []
    },
    {
      "cell_type": "markdown",
      "source": [
        "#### Q AVG"
      ],
      "metadata": {
        "id": "ExCBcTiHpLUY"
      }
    },
    {
      "cell_type": "code",
      "source": [
        "h = pd.DataFrame(history.metrics_centralized['R2Score']).drop([0], axis=1).rename(columns={1: 'r2_qavg'})\n",
        "h = pd.concat([h, pd.DataFrame(history.metrics_centralized['mse']).drop([0], axis=1)], axis=1).rename(columns={1: 'mse_qavg'})\n",
        "h = pd.concat([h, pd.DataFrame(history.metrics_centralized['mape']).drop([0], axis=1)], axis=1).rename(columns={1: 'mape_qavg'})\n",
        "h = pd.concat([h, pd.DataFrame(history.metrics_centralized['mean_squared_logarithmic_error']).drop([0], axis=1)], axis=1).rename(columns={1: 'msle_qavg'})\n",
        "h_fedQavg = pd.concat([h, pd.DataFrame(history.losses_centralized).drop([0], axis=1)], axis=1).rename(columns={1: 'loss_qavg'})\n",
        "h_qavg = h_fedQavg.drop(0)\n",
        "h_qavg"
      ],
      "metadata": {
        "id": "gcl7Ks_OpPml"
      },
      "execution_count": null,
      "outputs": []
    },
    {
      "cell_type": "code",
      "source": [
        "data_10_qaverage = [ [0, 0, 0, 0, 0],\n",
        "  [-0.005093,\t3.931203,\t1658.599976,\t0.359964,\t1.101884],\n",
        "  [-0.007134,\t3.939188,\t1588.970215,\t0.355774,\t1.089777],\n",
        "  [-0.009641,\t3.948995,\t1517.632446,\t0.352034,\t1.077690],\n",
        "  [-0.012628,\t3.960676,\t1445.581665,\t0.348873,\t1.065847],\n",
        "  [-0.016163,\t3.974501,\t1371.580688,\t0.346307,\t1.054089],\n",
        "  [-0.020172,\t3.990185,\t1297.480347,\t0.344467,\t1.042741],\n",
        "  [-0.024852,\t4.008488,\t1220.603516,\t0.343398,\t1.031461],\n",
        "  [-0.029889,\t4.028190,\t1145.836914,\t0.343219,\t1.020971],\n",
        "  [-0.035364,\t4.049602,\t1071.925171,\t0.343951,\t1.011085],\n",
        "  [-0.041095,\t4.072019,\t1000.736694,\t0.345560,\t1.002041]]\n",
        "\n",
        " # Create the pandas DataFrame\n",
        "h10_qaverage = pd.DataFrame(data_10_qaverage, columns=['r2_qavg', 'mse_qavg', 'mape_qavg', 'msle_qavg','loss_qavg']).drop(0)\n",
        "h10_qaverage"
      ],
      "metadata": {
        "id": "e4BcmG5H1YB-"
      },
      "execution_count": null,
      "outputs": []
    },
    {
      "cell_type": "markdown",
      "source": [
        "# SIMULAZIONE 100 CLIENTS"
      ],
      "metadata": {
        "id": "VO01EeV5lvK3"
      }
    },
    {
      "cell_type": "markdown",
      "source": [
        "#### AVG"
      ],
      "metadata": {
        "id": "FaAZy9MVV50Z"
      }
    },
    {
      "cell_type": "code",
      "source": [
        "h = pd.DataFrame(history.metrics_centralized['R2Score']).drop([0], axis=1).rename(columns={1: 'r2_avg'})\n",
        "h = pd.concat([h, pd.DataFrame(history.metrics_centralized['mse']).drop([0], axis=1)], axis=1).rename(columns={1: 'mse_avg'})\n",
        "h = pd.concat([h, pd.DataFrame(history.metrics_centralized['mape']).drop([0], axis=1)], axis=1).rename(columns={1: 'mape_avg'})\n",
        "h = pd.concat([h, pd.DataFrame(history.metrics_centralized['mean_squared_logarithmic_error']).drop([0], axis=1)], axis=1).rename(columns={1: 'msle_avg'})\n",
        "h_fedavg = pd.concat([h, pd.DataFrame(history.losses_centralized).drop([0], axis=1)], axis=1).rename(columns={1: 'loss_avg'})\n",
        "\n",
        "h_avg = h_fedavg.drop(0)\n",
        "h_avg"
      ],
      "metadata": {
        "id": "k_zLE76RdQjl"
      },
      "execution_count": null,
      "outputs": []
    },
    {
      "cell_type": "code",
      "source": [
        "data_average = [[0, 0, 0, 0, 0],\n",
        "    [-0.159755,\t4.536134,\t100.026421,\t0.487875,\t0.934440],\n",
        "    [-0.159772,\t4.536198,\t100.001831,\t0.487905,\t0.934440],\n",
        "    [-0.159762,\t4.536160,\t100.014900,\t0.487887,\t0.934439],\n",
        "    [-0.145003,\t4.478434,\t107.778694,\t0.466935,\t0.927268],\n",
        "    [0.165347,\t3.264564,\t139.972153,\t0.174531,\t0.706536],\n",
        "    [0.173709,\t3.231861,\t124.542587,\t0.166392,\t0.684164],\n",
        "    [0.173527,\t3.232573,\t137.992813,\t0.167373,\t0.687349],\n",
        "    [0.174131,\t3.230210,\t106.839127,\t0.166867,\t0.680561],\n",
        "    [0.173989,\t3.230766,\t93.856712,\t0.167519,\t0.678331],\n",
        "    [0.173803,\t3.231493,\t117.283958,\t0.167247,\t0.683554]]\n",
        "\n",
        "# Create the pandas DataFrame\n",
        "h_average = pd.DataFrame(data_average, columns=['r2_avg', 'mse_avg', 'mape_avg', 'msle_avg','loss_avg']).drop(0)\n",
        "\n",
        "h_average"
      ],
      "metadata": {
        "id": "nsNdS3EZdgUQ"
      },
      "execution_count": null,
      "outputs": []
    },
    {
      "cell_type": "markdown",
      "source": [
        "#### PROX"
      ],
      "metadata": {
        "id": "zR0gquWCV7TQ"
      }
    },
    {
      "cell_type": "code",
      "source": [
        "h = pd.DataFrame(history.metrics_centralized['R2Score']).drop([0], axis=1).rename(columns={1: 'r2_prox'})\n",
        "h = pd.concat([h, pd.DataFrame(history.metrics_centralized['mse']).drop([0], axis=1)], axis=1).rename(columns={1: 'mse_prox'})\n",
        "h = pd.concat([h, pd.DataFrame(history.metrics_centralized['mape']).drop([0], axis=1)], axis=1).rename(columns={1: 'mape_prox'})\n",
        "h = pd.concat([h, pd.DataFrame(history.metrics_centralized['mean_squared_logarithmic_error']).drop([0], axis=1)], axis=1).rename(columns={1: 'msle_prox'})\n",
        "h_prox = pd.concat([h, pd.DataFrame(history.losses_centralized).drop([0], axis=1)], axis=1).rename(columns={1: 'loss_prox'})\n",
        "\n",
        "h_prox = h_prox.drop(0)\n",
        "h_prox"
      ],
      "metadata": {
        "id": "AU7wbPugWnOa"
      },
      "execution_count": null,
      "outputs": []
    },
    {
      "cell_type": "code",
      "source": [
        "data_proxima = [[0, 0, 0, 0, 0],\n",
        "    [-0.159760,\t4.536153,\t100.019691,\t0.487883,\t0.934439],\n",
        "    [-0.159761,\t4.536155,\t100.016273,\t0.487885,\t0.934438],\n",
        "    [-0.066254,\t4.170422,\t123.066887,\t0.384461,\t0.885895],\n",
        "    [0.169462,\t3.248470,\t131.076019,\t0.170648,\t0.697338],\n",
        "    [0.173644,\t3.232113,\t113.603127,\t0.166872,\t0.682718],\n",
        "    [0.174282,\t3.229618,\t108.092812,\t0.166477,\t0.679581],\n",
        "    [0.174300,\t3.229549,\t100.192329,\t0.166766,\t0.678160],\n",
        "    [0.174375,\t3.229254,\t96.198891,\t0.166825,\t0.677046],\n",
        "    [0.174396,\t3.229172,\t99.913826,\t0.166705,\t0.677745],\n",
        "    [0.174443,\t3.228990,\t100.616287,\t0.166603,\t0.677719]]\n",
        "\n",
        "# Create the pandas DataFrame\n",
        "h_proxima = pd.DataFrame(data_proxima, columns=['r2_prox', 'mse_prox', 'mape_prox', 'msle_prox','loss_prox']).drop(0)\n",
        "h_proxima"
      ],
      "metadata": {
        "id": "HCP2_i0TWmiI"
      },
      "execution_count": null,
      "outputs": []
    },
    {
      "cell_type": "markdown",
      "source": [
        "#### QAVG"
      ],
      "metadata": {
        "id": "vLrYEu90lzn0"
      }
    },
    {
      "cell_type": "code",
      "source": [
        "h = pd.DataFrame(history.metrics_centralized['R2Score']).drop([0], axis=1).rename(columns={1: 'r2_qavg'})\n",
        "h = pd.concat([h, pd.DataFrame(history.metrics_centralized['mse']).drop([0], axis=1)], axis=1).rename(columns={1: 'mse_qavg'})\n",
        "h = pd.concat([h, pd.DataFrame(history.metrics_centralized['mape']).drop([0], axis=1)], axis=1).rename(columns={1: 'mape_qavg'})\n",
        "h = pd.concat([h, pd.DataFrame(history.metrics_centralized['mean_squared_logarithmic_error']).drop([0], axis=1)], axis=1).rename(columns={1: 'msle_qavg'})\n",
        "h_fedQavg = pd.concat([h, pd.DataFrame(history.losses_centralized).drop([0], axis=1)], axis=1).rename(columns={1: 'loss_qavg'})\n",
        "\n",
        "h_qavg = h_fedQavg.drop(0)\n",
        "h_qavg"
      ],
      "metadata": {
        "id": "O1uDfcgnlxai"
      },
      "execution_count": null,
      "outputs": []
    },
    {
      "cell_type": "code",
      "source": [
        "data_qaverage = [ [0, 0, 0, 0, 0],\n",
        "                [-0.034129,\t4.044774,\t1080.976440,\t0.343173,\t1.011565],\n",
        "                [-0.039911,\t4.067389,\t1009.415894,\t0.344734,\t1.002501],\n",
        "                [-0.045783,\t4.090356,\t942.036987,\t0.347087,\t0.994473],\n",
        "                [-0.051844,\t4.114060,\t877.082764,\t0.350228,\t0.987184],\n",
        "                [-0.058080,\t4.138453,\t814.192810,\t0.354128,\t0.980678],\n",
        "                [-0.063909,\t4.161250,\t758.587280,\t0.358335,\t0.975573],\n",
        "                [-0.069688,\t4.183853,\t706.047241,\t0.363008,\t0.970987],\n",
        "                [-0.075778,\t4.207674,\t653.270447,\t0.368445,\t0.966562],\n",
        "                [-0.081590,\t4.230405,\t604.900879,\t0.374091,\t0.962633],\n",
        "                [-0.086870,\t4.251060,\t562.371094,\t0.379593,\t0.959283]]\n",
        "\n",
        " # Create the pandas DataFrame\n",
        "h_qaverage = pd.DataFrame(data_qaverage, columns=['r2_qavg', 'mse_qavg', 'mape_qavg', 'msle_qavg','loss_qavg']).drop(0)\n",
        "\n",
        "h_qaverage"
      ],
      "metadata": {
        "id": "4luIMug1Mkp6"
      },
      "execution_count": null,
      "outputs": []
    }
  ],
  "metadata": {
    "colab": {
      "provenance": [],
      "collapsed_sections": [
        "Xt8wmakefh0t",
        "lhmSUSYOnnQG"
      ],
      "include_colab_link": true
    },
    "kernelspec": {
      "display_name": "Python 3 (ipykernel)",
      "language": "python",
      "name": "python3"
    }
  },
  "nbformat": 4,
  "nbformat_minor": 0
}